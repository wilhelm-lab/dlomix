{
 "cells": [
  {
   "cell_type": "code",
   "execution_count": null,
   "id": "5d603210-823f-4a98-8c08-10d18fc4df81",
   "metadata": {},
   "outputs": [],
   "source": [
    "#!python -m pip install -q git+https://github.com/wilhelm-lab/dlomix"
   ]
  },
  {
   "cell_type": "code",
   "execution_count": null,
   "id": "5f2f8352-ed12-4741-9110-42c1fbabeeed",
   "metadata": {},
   "outputs": [],
   "source": [
    "#!python -m pip install wandb"
   ]
  },
  {
   "cell_type": "markdown",
   "id": "b725afc9-4991-4cf0-a474-20e8ee346786",
   "metadata": {},
   "source": [
    "# Preprocess the data"
   ]
  },
  {
   "cell_type": "code",
   "execution_count": null,
   "id": "61e5fbb9-9acd-45b6-a81d-2294a4add4a2",
   "metadata": {},
   "outputs": [],
   "source": [
    "import pandas as pd\n",
    "import re\n",
    "import numpy as np\n",
    "import csv"
   ]
  },
  {
   "cell_type": "markdown",
   "id": "df22fd1b-53b5-473d-bc06-8d2e8156c8aa",
   "metadata": {},
   "source": [
    "## Read the input data"
   ]
  },
  {
   "cell_type": "code",
   "execution_count": null,
   "id": "1fa6d075-651c-46fb-90eb-65e27a8c6ff8",
   "metadata": {},
   "outputs": [],
   "source": [
    "input_file1 = \"ptm/input_data/TUM_mod_citrullination_l.parquet\"\n",
    "input_file2 = \"ptm/input_data/TUM_mod_citrullination_2.parquet\""
   ]
  },
  {
   "cell_type": "markdown",
   "id": "7898356b-a77c-4101-a1ba-90f28c7845c0",
   "metadata": {},
   "source": [
    "## Create dataframe"
   ]
  },
  {
   "cell_type": "code",
   "execution_count": null,
   "id": "cabbe6f5-21f9-49d4-8190-49b5c96c9bf5",
   "metadata": {},
   "outputs": [],
   "source": [
    "tmp_data1 = pd.read_parquet(input_file1, engine='pyarrow')\n",
    "tmp_data2 = pd.read_parquet(input_file2, engine='pyarrow')\n",
    "data = pd.concat([tmp_data1,tmp_data2])"
   ]
  },
  {
   "cell_type": "code",
   "execution_count": null,
   "id": "3dc5041f-e095-40e7-9df8-95671a14c6aa",
   "metadata": {},
   "outputs": [],
   "source": [
    "data.head(10)"
   ]
  },
  {
   "cell_type": "markdown",
   "id": "bdc563fb-a951-4ba1-bed9-c068aa00ebd2",
   "metadata": {},
   "source": [
    "## Divide data into HCD and CID"
   ]
  },
  {
   "cell_type": "code",
   "execution_count": null,
   "id": "33cfa65e-c1a0-4a96-a58e-f7fa502854ba",
   "metadata": {},
   "outputs": [],
   "source": [
    "data_HCD = data[data['fragmentation']=='HCD']\n",
    "data_CID = data[data['fragmentation']=='CID']"
   ]
  },
  {
   "cell_type": "code",
   "execution_count": null,
   "id": "cdff1a52-0da1-4475-9cdd-71a23c7dd23d",
   "metadata": {},
   "outputs": [],
   "source": [
    "data_HCD.head(10)"
   ]
  },
  {
   "cell_type": "markdown",
   "id": "773ea197-a98f-4301-8ead-a702b18d1b76",
   "metadata": {},
   "source": [
    "## Sort for modified_sequence and sort andromeda_score from highest to lowest"
   ]
  },
  {
   "cell_type": "code",
   "execution_count": null,
   "id": "e7012c8f-429e-4b19-819f-40af80dd5514",
   "metadata": {},
   "outputs": [],
   "source": [
    "data_HCD = data_HCD.sort_values(['modified_sequence', 'andromeda_score'], ascending=[True, False])"
   ]
  },
  {
   "cell_type": "code",
   "execution_count": null,
   "id": "23f9c140-4e7d-4cf9-96a1-ebcc5272be9d",
   "metadata": {},
   "outputs": [],
   "source": [
    "data_HCD"
   ]
  },
  {
   "cell_type": "markdown",
   "id": "c8186185-362e-4cc0-9493-120f49d660cd",
   "metadata": {},
   "source": [
    "## Select only the top 5 modified_sequences with highest score"
   ]
  },
  {
   "cell_type": "code",
   "execution_count": null,
   "id": "0c5036e0-c239-43e4-be7b-670c68abab16",
   "metadata": {},
   "outputs": [],
   "source": [
    "data_HCD_5 = data_HCD.sort_values(['modified_sequence', 'andromeda_score'], ascending=[True, False]).groupby('modified_sequence').head(5)"
   ]
  },
  {
   "cell_type": "code",
   "execution_count": null,
   "id": "c53dff13-90c4-4af6-8256-0ed927a2d1f0",
   "metadata": {},
   "outputs": [],
   "source": [
    "data_HCD_5.reset_index(inplace=True)"
   ]
  },
  {
   "cell_type": "code",
   "execution_count": null,
   "id": "7cf1f9fb-22e0-447e-bd36-117e010b7cd7",
   "metadata": {},
   "outputs": [],
   "source": [
    "data_HCD_5"
   ]
  },
  {
   "cell_type": "code",
   "execution_count": null,
   "id": "17391bb1-c333-4e34-b3ff-0a1190cdeb49",
   "metadata": {},
   "outputs": [],
   "source": [
    "data_CID_5 = data_CID.sort_values(['modified_sequence', 'andromeda_score'], ascending=[True, False]).groupby('modified_sequence').head(5)"
   ]
  },
  {
   "cell_type": "code",
   "execution_count": null,
   "id": "69b9d89d-96e0-4e0a-a190-bfcaa64a84de",
   "metadata": {},
   "outputs": [],
   "source": [
    "data_CID_5"
   ]
  },
  {
   "cell_type": "markdown",
   "id": "daaabec8-6639-487b-92db-8d8db70bedd7",
   "metadata": {},
   "source": [
    "## Calculate 10% of the dataframes to create a test set"
   ]
  },
  {
   "cell_type": "code",
   "execution_count": null,
   "id": "9c275bbf-8853-403f-8c5d-e63b77e0eb5a",
   "metadata": {},
   "outputs": [],
   "source": [
    "ten_percent_HCD = int(len(data_HCD_5)*0.1)\n",
    "ten_percent_HCD"
   ]
  },
  {
   "cell_type": "code",
   "execution_count": null,
   "id": "0a17c084-572b-4495-b9d5-6281713feed0",
   "metadata": {},
   "outputs": [],
   "source": [
    "ten_percent_CID = int(len(data_CID_5)*0.1)\n",
    "ten_percent_CID"
   ]
  },
  {
   "cell_type": "markdown",
   "id": "2e807fea-0c0c-4591-859b-61b7e86c80a8",
   "metadata": {},
   "source": [
    "## Create TEST set"
   ]
  },
  {
   "cell_type": "code",
   "execution_count": null,
   "id": "90c94ce8-c6ee-4722-befa-637ef99d295e",
   "metadata": {},
   "outputs": [],
   "source": [
    "test_HCD = data_HCD_5.head(ten_percent_HCD)\n",
    "test_HCD"
   ]
  },
  {
   "cell_type": "markdown",
   "id": "b8605cd4-e74b-41cd-9246-9e57cb2081f0",
   "metadata": {},
   "source": [
    "## Create TRAIN_VAL set"
   ]
  },
  {
   "cell_type": "code",
   "execution_count": null,
   "id": "41806013-deaf-4618-9cf7-5fba59c73feb",
   "metadata": {},
   "outputs": [],
   "source": [
    "index_test_HCD = test_HCD.index\n",
    "index_test_HCD"
   ]
  },
  {
   "cell_type": "code",
   "execution_count": null,
   "id": "d70a3e2d-f931-438f-99d3-4373e35c4e4b",
   "metadata": {},
   "outputs": [],
   "source": [
    "train_val_HCD = data_HCD_5.drop(data_HCD_5.index[index_test_HCD])\n",
    "train_val_HCD"
   ]
  },
  {
   "cell_type": "markdown",
   "id": "99e6bc59-4414-4b51-b50d-4ef305316297",
   "metadata": {},
   "source": [
    "## Check if TEST and TRAIN_VAL have intersecting values"
   ]
  },
  {
   "cell_type": "markdown",
   "id": "98eb94db-b0dc-4e2e-aaf4-42ef811ec0e9",
   "metadata": {},
   "source": [
    "## ##TODO: the maximal overlapp is 5. Put the overlapped sequence into the set where the rest of the same sequences are."
   ]
  },
  {
   "cell_type": "code",
   "execution_count": null,
   "id": "90c3e0db-3895-4df2-b8fb-c063660822ca",
   "metadata": {},
   "outputs": [],
   "source": [
    "pd.Series(list(set(train_val_HCD['modified_sequence']).intersection(set(test_HCD['modified_sequence']))))"
   ]
  },
  {
   "cell_type": "markdown",
   "id": "d6220411-6c77-4d00-916c-e22cf6c1dad8",
   "metadata": {},
   "source": [
    "## Change modification e.g R[UNIMOD:7] to r"
   ]
  },
  {
   "cell_type": "code",
   "execution_count": null,
   "id": "229cdca4-fc46-47ca-a4e7-85fab0f62702",
   "metadata": {},
   "outputs": [],
   "source": [
    "def changeMod(input_data):\n",
    "        for index, row in input_data.iterrows():\n",
    "            sequence = row['modified_sequence']\n",
    "            open_bracket = find(sequence,'[')\n",
    "            tmp_seq =\"\"\n",
    "            new_sequence = \"\"\n",
    "            if len(open_bracket)>=1:\n",
    "                for index_mod in open_bracket:\n",
    "                    modified_AA = sequence[index_mod-1]\n",
    "                    if modified_AA == 'M':\n",
    "                        tmp_seq = sequence[:index_mod-1] + 'M(ox)' + sequence[index_mod:]\n",
    "                        new_sequence = re.sub(\"[\\[].*?[\\]]\", \"\", tmp_seq)\n",
    "        \n",
    "                    else:\n",
    "                        tmp_seq = sequence[:index_mod-1] + modified_AA.lower() + sequence[index_mod:]\n",
    "                        new_sequence = re.sub(\"[\\(\\[].*?[\\)\\]]\", \"\", tmp_seq)\n",
    "                input_data.at[index, 'modified_sequence'] = new_sequence\n",
    "        return input_data\n",
    "    \n",
    "def find(s, ch):\n",
    "        return [i for i, ltr in enumerate(s) if ltr == ch]"
   ]
  },
  {
   "cell_type": "code",
   "execution_count": null,
   "id": "049b5632-1443-4333-a4bc-cde65a3b921b",
   "metadata": {},
   "outputs": [],
   "source": [
    "test_HCD = changeMod(test_HCD)"
   ]
  },
  {
   "cell_type": "markdown",
   "id": "e46b1d36-711f-4a0a-bc72-59f84d471214",
   "metadata": {},
   "source": [
    "## Remove specific modifications e.g Q, K"
   ]
  },
  {
   "cell_type": "code",
   "execution_count": null,
   "id": "9c4b935b-5b63-424d-a6f3-fbfeed40a445",
   "metadata": {},
   "outputs": [],
   "source": [
    "def removeChar(data,removeChar:str):\n",
    "    tmp_remove = removeChar+\"\\\\[\"\n",
    "    filter = data['modified_sequence'].str.contains(tmp_remove)\n",
    "    filtered_df = data[~filter]\n",
    "    return filtered_df.reset_index(drop=True)"
   ]
  },
  {
   "cell_type": "code",
   "execution_count": null,
   "id": "384be494-8187-4f0b-95e9-9557895a1556",
   "metadata": {},
   "outputs": [],
   "source": [
    "test_HCD = removeChar(test_HCD,'K')\n",
    "test_HCD = removeChar(test_HCD,'Q')"
   ]
  },
  {
   "cell_type": "markdown",
   "id": "e3306ce2-09e3-47d4-a126-9b6ac94d90f3",
   "metadata": {},
   "source": [
    "## Rename columns"
   ]
  },
  {
   "cell_type": "code",
   "execution_count": null,
   "id": "4b656d08-ab5a-4eb6-982f-9ccd9cce7034",
   "metadata": {},
   "outputs": [],
   "source": [
    "train_val_HCD.rename(columns={'intensities_raw':'intensities','modified_sequence': 'sequence', 'collision_energy_aligned_normed': 'collision_energy', 'precursor_charge_onehot':'precursor_charge_onehot'}, inplace=True)\n",
    "test_HCD.rename(columns={'intensities_raw':'intensities','modified_sequence': 'sequence', 'collision_energy_aligned_normed': 'collision_energy', 'precursor_charge_onehot':'precursor_charge_onehot'}, inplace=True)"
   ]
  },
  {
   "cell_type": "markdown",
   "id": "78b3e799-2648-4d85-8907-6d9d9fc8ccc1",
   "metadata": {},
   "source": [
    "## Change format of precurser_charge from [1 0 0 1 0] to [1, 0, 0, 1, 0]"
   ]
  },
  {
   "cell_type": "code",
   "execution_count": null,
   "id": "6290c992-9c7b-4c98-b9cd-4b7480a69c42",
   "metadata": {},
   "outputs": [],
   "source": [
    "train_val_HCD['intensities'] = train_val_HCD['intensities'].apply(lambda a: np.array2string(a, separator=', '))\n",
    "train_val_HCD['precursor_charge_onehot'] = train_val_HCD['precursor_charge_onehot'].apply(lambda a: np.array2string(a, separator=', '))\n",
    "\n",
    "test_HCD['intensities'] = test_HCD['intensities'].apply(lambda a: np.array2string(a, separator=', '))\n",
    "test_HCD['precursor_charge_onehot'] = test_HCD['precursor_charge_onehot'].apply(lambda a: np.array2string(a, separator=', '))"
   ]
  },
  {
   "cell_type": "code",
   "execution_count": null,
   "id": "9ee0ae4d-c7e4-45bb-9b86-12310ee8693e",
   "metadata": {},
   "outputs": [],
   "source": [
    "train_val_HCD"
   ]
  },
  {
   "cell_type": "markdown",
   "id": "efea5427-e586-452f-95c8-88e9fd21c353",
   "metadata": {},
   "source": [
    "## Write TEST and TRAIN_VAL to .csv file"
   ]
  },
  {
   "cell_type": "code",
   "execution_count": null,
   "id": "67067ed1-f2c6-4a51-b833-b8b0ffe738b5",
   "metadata": {},
   "outputs": [],
   "source": [
    "train_val_HCD"
   ]
  },
  {
   "cell_type": "code",
   "execution_count": null,
   "id": "db1662ae-7ad2-4557-91c8-728e354c1470",
   "metadata": {},
   "outputs": [],
   "source": [
    "train_val_HCD.to_csv('ptm/output/train_val_hcd.csv', encoding='utf-8', index=False)\n",
    "test_HCD.to_csv('ptm/output/test_hcd.csv', encoding='utf-8', index=False)"
   ]
  },
  {
   "cell_type": "markdown",
   "id": "902ba083-ae36-49de-b093-ad1035beb8b5",
   "metadata": {},
   "source": [
    "# Intensity Prediction"
   ]
  },
  {
   "cell_type": "code",
   "execution_count": null,
   "id": "a172106d-a644-40b7-b068-ffc928ef7b1d",
   "metadata": {},
   "outputs": [],
   "source": [
    "import numpy as np\n",
    "import pandas as pd\n",
    "import dlomix\n",
    "from dlomix import constants, data, eval, layers, models, pipelines, reports, utils\n",
    "print([x for x in dir(dlomix) if not x.startswith(\"_\")])"
   ]
  },
  {
   "cell_type": "markdown",
   "id": "3d089eb6-6cce-4b57-a4ff-93b97803bb0a",
   "metadata": {},
   "source": [
    "## 0. Import and Initialize Weights and Biases"
   ]
  },
  {
   "cell_type": "code",
   "execution_count": null,
   "id": "d19317e1-f3fa-4205-ac52-29fa1f7c6137",
   "metadata": {},
   "outputs": [],
   "source": [
    "import wandb\n",
    "from wandb.keras import WandbCallback"
   ]
  },
  {
   "cell_type": "code",
   "execution_count": null,
   "id": "ce6adf6d-ca0c-411d-ba4d-46484e18a0b8",
   "metadata": {},
   "outputs": [],
   "source": [
    "# enter project name\n",
    "project_name = 'dlomix_intensity'"
   ]
  },
  {
   "cell_type": "markdown",
   "id": "485875ba-bbca-4f11-be71-49b150ccdc69",
   "metadata": {},
   "source": [
    "## 1. Load Data"
   ]
  },
  {
   "cell_type": "markdown",
   "id": "3efbdf52-3a0a-453e-95bb-7ab46b640f74",
   "metadata": {},
   "source": [
    "### 1.1 Load training and validation data"
   ]
  },
  {
   "cell_type": "code",
   "execution_count": null,
   "id": "5010ca2e-9f50-4688-a075-c63bcdba4775",
   "metadata": {},
   "outputs": [],
   "source": [
    "from dlomix.data import IntensityDataset"
   ]
  },
  {
   "cell_type": "code",
   "execution_count": null,
   "id": "7cb6cb57-7dc7-41c5-ab1f-61d9a42c7496",
   "metadata": {},
   "outputs": [],
   "source": [
    "#TRAIN_DATAPATH = 'https://raw.githubusercontent.com/wilhelm-lab/dlomix-resources/tasks/intensity/example_datasets/Intensity/proteomeTools_train_val.csv'\n",
    "TRAIN_DATAPATH = 'D:\\\\Uni\\\\Masterarbeit\\\\dlomix\\\\ptm\\\\output\\\\train_val_hcd.csv'\n",
    "\n",
    "BATCH_SIZE = 64\n",
    "\n",
    "int_data = IntensityDataset(data_source=TRAIN_DATAPATH, seq_length=30, batch_size=BATCH_SIZE,\n",
    "                            collision_energy_col='collision_energy', val_ratio=0.2, test=False)"
   ]
  },
  {
   "cell_type": "code",
   "execution_count": null,
   "id": "4768ba36-b7a2-4ba7-9461-14fd562645ca",
   "metadata": {},
   "outputs": [],
   "source": [
    "\"Training examples\", BATCH_SIZE * len(int_data.train_data)"
   ]
  },
  {
   "cell_type": "code",
   "execution_count": null,
   "id": "7f417730-034b-42f2-af15-7c3d0b049891",
   "metadata": {},
   "outputs": [],
   "source": [
    "\"Validation examples\", BATCH_SIZE * len(int_data.val_data)"
   ]
  },
  {
   "cell_type": "markdown",
   "id": "69d75b6d-fe6b-404f-a062-ce7e42728d1b",
   "metadata": {},
   "source": [
    "### 1.2 Load weights from HDF5 file for embedding layer"
   ]
  },
  {
   "cell_type": "code",
   "execution_count": null,
   "id": "cd017d14-fec1-48c7-be7d-35f9302256a5",
   "metadata": {},
   "outputs": [],
   "source": [
    "import h5py"
   ]
  },
  {
   "cell_type": "code",
   "execution_count": null,
   "id": "b5b368f2-003a-4c83-a524-2ce3e58de917",
   "metadata": {},
   "outputs": [],
   "source": [
    "f = h5py.File('ptm/weights/weights_163_0.11385.hdf5', 'r+')"
   ]
  },
  {
   "cell_type": "code",
   "execution_count": null,
   "id": "731331e5-4adb-4919-9acb-d086c0ea87c1",
   "metadata": {},
   "outputs": [],
   "source": [
    "group = f['model_weights']\n",
    "data_file = group['embedding']\n",
    "for group in data_file.keys() :\n",
    "    for dset in data_file[group].keys():      \n",
    "        weights_hpf5 = data_file[group][dset][:]"
   ]
  },
  {
   "cell_type": "code",
   "execution_count": null,
   "id": "3ffdfd6a-c370-4fe2-ba8d-629fcf597f9d",
   "metadata": {},
   "outputs": [],
   "source": [
    "f.close()"
   ]
  },
  {
   "cell_type": "markdown",
   "id": "905be94c-7f81-4952-8fa3-50fd47421cc0",
   "metadata": {},
   "source": [
    "## 2. Models"
   ]
  },
  {
   "cell_type": "code",
   "execution_count": null,
   "id": "4ede42ae-422b-455a-a7e1-cf2f6f5e2330",
   "metadata": {},
   "outputs": [],
   "source": [
    "from dlomix.models import PrositIntensityPredictor\n",
    "import keras\n",
    "import tensorflow as tf\n",
    "import numpy as np"
   ]
  },
  {
   "cell_type": "markdown",
   "id": "daee33f7-08ef-42b9-b237-2fae7a702124",
   "metadata": {},
   "source": [
    "### 2.1 Random initialization of the embedding layer"
   ]
  },
  {
   "cell_type": "markdown",
   "id": "7fed7552-7742-4351-9844-b2f238705058",
   "metadata": {},
   "source": [
    "#### 2.1.1 Create random uniform weight matrix"
   ]
  },
  {
   "cell_type": "code",
   "execution_count": 31,
   "id": "a7644737-df16-429c-b95a-629da15d47a9",
   "metadata": {},
   "outputs": [
    {
     "data": {
      "text/plain": [
       "(24, 32)"
      ]
     },
     "execution_count": 31,
     "metadata": {},
     "output_type": "execute_result"
    }
   ],
   "source": [
    "rand_uni_weights = np.random.uniform(-1, 1, size=(24, 32))\n",
    "rand_uni_weights.shape"
   ]
  },
  {
   "cell_type": "markdown",
   "id": "6edd26be-922d-4f7f-897a-7cfa649b50aa",
   "metadata": {},
   "source": [
    "#### 2.1.2 Initialize model on input example to modify weights before training"
   ]
  },
  {
   "cell_type": "code",
   "execution_count": null,
   "id": "47d8ecaf-64e2-48a5-917f-ea1add9ceb3d",
   "metadata": {},
   "outputs": [],
   "source": [
    "model_random = PrositIntensityPredictor(seq_length=30)\n",
    "model_random = model_random(inputs={'sequence':[['EYYLRYLEK']], 'collision_energy':tf.convert_to_tensor([[35.0]], dtype=np.float32), 'precursor_charge':tf.convert_to_tensor([[0, 1, 0, 0, 0, 0]], dtype=np.float32)})"
   ]
  },
  {
   "cell_type": "markdown",
   "id": "f98823a3-f7f3-4e6c-9710-f9c1a0ec0ba8",
   "metadata": {},
   "source": [
    "#### 2.1.3 Assign random weight matrix to model"
   ]
  },
  {
   "cell_type": "code",
   "execution_count": null,
   "id": "2a7f9034-86cd-4648-a9b4-7ea79a5cf875",
   "metadata": {},
   "outputs": [],
   "source": [
    "model_random.layers[1].set_weights([rand_uni_weights])    "
   ]
  },
  {
   "cell_type": "code",
   "execution_count": null,
   "id": "a5c201ba-9fd9-4363-a3d7-f8c73d529adb",
   "metadata": {},
   "outputs": [],
   "source": [
    "model_random.layers[1].get_weights()[0]"
   ]
  },
  {
   "cell_type": "markdown",
   "id": "77800e67-f1da-4967-ae89-24b34c9b23ff",
   "metadata": {},
   "source": [
    "### 2.2 Copy row of M to M(ox) and R to r"
   ]
  },
  {
   "cell_type": "code",
   "execution_count": null,
   "id": "fe94d930-cd19-4b65-93ca-7336f1e44d1e",
   "metadata": {},
   "outputs": [],
   "source": []
  },
  {
   "cell_type": "markdown",
   "id": "430af6bf-9ab7-430e-a2e5-c79267ab0ce6",
   "metadata": {},
   "source": [
    "### 2.3 Select row with best weights and assign to M(ox) and r"
   ]
  },
  {
   "cell_type": "code",
   "execution_count": null,
   "id": "97535f6d-b614-4785-b5b5-088fc3e03bc1",
   "metadata": {},
   "outputs": [],
   "source": []
  },
  {
   "cell_type": "markdown",
   "id": "dbbffce3-fcb0-4ccd-bbda-7c3054f2ff45",
   "metadata": {},
   "source": [
    "## 3. Training"
   ]
  },
  {
   "cell_type": "code",
   "execution_count": null,
   "id": "1d701053-d6ac-4ed1-ae68-c35feb57eacf",
   "metadata": {},
   "outputs": [],
   "source": [
    "# create the optimizer object\n",
    "optimizer = tf.keras.optimizers.Adam(learning_rate=0.001)\n",
    "\n",
    "# compile the model  with the optimizer and the metrics we want to use, we can add our custom timedelta metric\n",
    "model.compile(optimizer=optimizer,\n",
    "              loss=masked_spectral_distance,\n",
    "              metrics=['mse',masked_pearson_correlation_distance])"
   ]
  },
  {
   "cell_type": "code",
   "execution_count": null,
   "id": "24c0a0ee-a7ff-4a48-916d-2eaad4bfdd54",
   "metadata": {},
   "outputs": [],
   "source": [
    "from dlomix.losses import masked_spectral_distance, masked_pearson_correlation_distance\n",
    "tf.get_logger().setLevel('ERROR')"
   ]
  },
  {
   "cell_type": "code",
   "execution_count": null,
   "id": "3d5e3e44-1dac-48ce-a1c0-8f8901f7cbb4",
   "metadata": {},
   "outputs": [],
   "source": [
    "optimizer = tf.keras.optimizers.Adam(learning_rate=0.001)\n",
    "\n",
    "model.compile(optimizer=optimizer,\n",
    "              loss=masked_spectral_distance,\n",
    "              metrics=['mse',masked_pearson_correlation_distance])"
   ]
  },
  {
   "cell_type": "code",
   "execution_count": null,
   "id": "a890a028-7f42-44f3-9a9e-f74e6aa6ad97",
   "metadata": {},
   "outputs": [],
   "source": [
    "wandb.init(project=project_name, name='walktrough')\n",
    "history = model.fit(int_data.train_data,\n",
    "                    validation_data=int_data.val_data,\n",
    "                    epochs=1,callbacks=[WandbCallback(save_model=False)])"
   ]
  },
  {
   "cell_type": "code",
   "execution_count": null,
   "id": "ead26f0c-6d92-48c4-b740-ef5c689fbfbb",
   "metadata": {},
   "outputs": [],
   "source": [
    "# Mark the run as finished\n",
    "wandb.finish()"
   ]
  },
  {
   "cell_type": "markdown",
   "id": "bb8f3835-d5df-457b-8fc1-79bd972791ba",
   "metadata": {},
   "source": [
    "## 4. Save the model"
   ]
  },
  {
   "cell_type": "code",
   "execution_count": null,
   "id": "9e1e41e5-792a-40a6-8ea2-5e4292a165cf",
   "metadata": {},
   "outputs": [],
   "source": [
    "save_path = \"./output/rtmodel.hdf5\"\n",
    "model.save_weights(save_path)"
   ]
  },
  {
   "cell_type": "code",
   "execution_count": null,
   "id": "46d12b58-fa9a-434f-b3d7-4e9e926fb122",
   "metadata": {},
   "outputs": [],
   "source": [
    "trained_model = RetentionTimePredictor(seq_length=30)\n",
    "trained_model.load_weights(save_path)"
   ]
  },
  {
   "cell_type": "markdown",
   "id": "0a04045f-4f8b-4521-b4e1-b3abff1b8c4d",
   "metadata": {},
   "source": [
    "## 5. Testing and Reporting"
   ]
  },
  {
   "cell_type": "code",
   "execution_count": null,
   "id": "b394f44f-2cd1-41a0-919e-616554593f67",
   "metadata": {},
   "outputs": [],
   "source": [
    "# create the dataset object for test data\n",
    "\n",
    "#TEST_DATAPATH = 'https://raw.githubusercontent.com/wilhelm-lab/dlomix-resources/tasks/intensity/example_datasets/Intensity/proteomeTools_test.csv'\n",
    "TEST_DATAPATH = 'D:\\\\Uni\\\\Masterarbeit\\\\dlomix\\\\ptm\\\\output\\\\test_hcd.csv'\n",
    "\n",
    "test_int_data = IntensityDataset(data_source=TEST_DATAPATH,\n",
    "                              seq_length=30, collision_energy_col='collision_energy',batch_size=32, test=True)"
   ]
  },
  {
   "cell_type": "code",
   "execution_count": null,
   "id": "e9f7e90e-1290-410f-971a-94a8d3a76851",
   "metadata": {},
   "outputs": [],
   "source": [
    "# use model.predict from keras directly on the testdata\n",
    "\n",
    "predictions = model.predict(test_int_data.test_data)"
   ]
  },
  {
   "cell_type": "code",
   "execution_count": null,
   "id": "442b2fec-c3e8-4ed3-ab28-66269fe7d3c9",
   "metadata": {},
   "outputs": [],
   "source": [
    "from dlomix.reports import IntensityReport\n",
    "\n",
    "# create a report object by passing the history object and plot different metrics\n",
    "report = IntensityReport(output_path=\"./output\", history=history)"
   ]
  },
  {
   "cell_type": "code",
   "execution_count": null,
   "id": "66d88d37-0c28-448f-be86-5e1a4df6c4d5",
   "metadata": {},
   "outputs": [],
   "source": [
    "# you can generate a complete report for intensity by calling generate_report\n",
    "# the function takes the test dataset object and the predictions as arguments\n",
    "\n",
    "report.generate_report(test_int_data, predictions)"
   ]
  },
  {
   "cell_type": "code",
   "execution_count": null,
   "id": "f7cbb5cc-7211-4f95-a52c-f4d7d5d868f1",
   "metadata": {},
   "outputs": [],
   "source": [
    "# you can also manually see the results by calling other utility functions\n",
    "from dlomix.reports.postprocessing import normalize_intensity_predictions\n",
    "\n",
    "\n",
    "predictions_df = report.generate_intensity_results_df(test_int_data, predictions)\n",
    "predictions_df.head()"
   ]
  },
  {
   "cell_type": "code",
   "execution_count": null,
   "id": "7449d402-1b41-4a25-90d4-de5b348d92ed",
   "metadata": {},
   "outputs": [],
   "source": [
    "predictions_acc = normalize_intensity_predictions(predictions_df)\n",
    "predictions_acc.head()"
   ]
  },
  {
   "cell_type": "code",
   "execution_count": null,
   "id": "5580d637-f963-4b18-92ea-7124a59f41f6",
   "metadata": {},
   "outputs": [],
   "source": [
    "predictions_acc['spectral_angle'].describe()"
   ]
  },
  {
   "cell_type": "code",
   "execution_count": null,
   "id": "1471b663-bf3d-421c-a568-2bfc5614f11d",
   "metadata": {},
   "outputs": [],
   "source": [
    "import seaborn as sns\n",
    "\n",
    "sns.violinplot(predictions_acc['spectral_angle'])"
   ]
  },
  {
   "cell_type": "code",
   "execution_count": null,
   "id": "187bcbaa-78cd-4071-955b-10b6ca16bdba",
   "metadata": {},
   "outputs": [],
   "source": []
  }
 ],
 "metadata": {
  "kernelspec": {
   "display_name": "Python 3 (ipykernel)",
   "language": "python",
   "name": "python3"
  },
  "language_info": {
   "codemirror_mode": {
    "name": "ipython",
    "version": 3
   },
   "file_extension": ".py",
   "mimetype": "text/x-python",
   "name": "python",
   "nbconvert_exporter": "python",
   "pygments_lexer": "ipython3",
   "version": "3.10.11"
  }
 },
 "nbformat": 4,
 "nbformat_minor": 5
}
