{
 "cells": [
  {
   "cell_type": "code",
   "execution_count": null,
   "id": "5d603210-823f-4a98-8c08-10d18fc4df81",
   "metadata": {},
   "outputs": [],
   "source": [
    "#!python -m pip install -q git+https://github.com/wilhelm-lab/dlomix"
   ]
  },
  {
   "cell_type": "code",
   "execution_count": null,
   "id": "5f2f8352-ed12-4741-9110-42c1fbabeeed",
   "metadata": {},
   "outputs": [],
   "source": [
    "#!python -m pip install wandb"
   ]
  },
  {
   "cell_type": "markdown",
   "id": "b725afc9-4991-4cf0-a474-20e8ee346786",
   "metadata": {},
   "source": [
    "# Preprocess the data"
   ]
  },
  {
   "cell_type": "code",
   "execution_count": null,
   "id": "61e5fbb9-9acd-45b6-a81d-2294a4add4a2",
   "metadata": {},
   "outputs": [],
   "source": [
    "import pandas as pd\n",
    "import re\n",
    "import numpy as np\n",
    "import csv"
   ]
  },
  {
   "cell_type": "markdown",
   "id": "df22fd1b-53b5-473d-bc06-8d2e8156c8aa",
   "metadata": {},
   "source": [
    "## Read the input data"
   ]
  },
  {
   "cell_type": "code",
   "execution_count": null,
   "id": "1fa6d075-651c-46fb-90eb-65e27a8c6ff8",
   "metadata": {},
   "outputs": [],
   "source": [
    "input_file1 = \"ptm/input_data/TUM_mod_citrullination_l.parquet\"\n",
    "input_file2 = \"ptm/input_data/TUM_mod_citrullination_2.parquet\""
   ]
  },
  {
   "cell_type": "markdown",
   "id": "7898356b-a77c-4101-a1ba-90f28c7845c0",
   "metadata": {},
   "source": [
    "## Create dataframe"
   ]
  },
  {
   "cell_type": "code",
   "execution_count": null,
   "id": "cabbe6f5-21f9-49d4-8190-49b5c96c9bf5",
   "metadata": {},
   "outputs": [],
   "source": [
    "tmp_data1 = pd.read_parquet(input_file1, engine='pyarrow')\n",
    "tmp_data2 = pd.read_parquet(input_file2, engine='pyarrow')\n",
    "data = pd.concat([tmp_data1,tmp_data2])"
   ]
  },
  {
   "cell_type": "code",
   "execution_count": null,
   "id": "3dc5041f-e095-40e7-9df8-95671a14c6aa",
   "metadata": {},
   "outputs": [],
   "source": [
    "data.head(10)"
   ]
  },
  {
   "cell_type": "markdown",
   "id": "bdc563fb-a951-4ba1-bed9-c068aa00ebd2",
   "metadata": {},
   "source": [
    "## Divide data into HCD and CID"
   ]
  },
  {
   "cell_type": "code",
   "execution_count": null,
   "id": "33cfa65e-c1a0-4a96-a58e-f7fa502854ba",
   "metadata": {},
   "outputs": [],
   "source": [
    "data_HCD = data[data['fragmentation']=='HCD']\n",
    "data_CID = data[data['fragmentation']=='CID']"
   ]
  },
  {
   "cell_type": "code",
   "execution_count": null,
   "id": "cdff1a52-0da1-4475-9cdd-71a23c7dd23d",
   "metadata": {},
   "outputs": [],
   "source": [
    "data_HCD.head(10)"
   ]
  },
  {
   "cell_type": "markdown",
   "id": "773ea197-a98f-4301-8ead-a702b18d1b76",
   "metadata": {},
   "source": [
    "## Sort for modified_sequence and sort andromeda_score from highest to lowest"
   ]
  },
  {
   "cell_type": "code",
   "execution_count": null,
   "id": "e7012c8f-429e-4b19-819f-40af80dd5514",
   "metadata": {},
   "outputs": [],
   "source": [
    "data_HCD = data_HCD.sort_values(['modified_sequence', 'andromeda_score'], ascending=[True, False])"
   ]
  },
  {
   "cell_type": "code",
   "execution_count": null,
   "id": "23f9c140-4e7d-4cf9-96a1-ebcc5272be9d",
   "metadata": {},
   "outputs": [],
   "source": [
    "data_HCD"
   ]
  },
  {
   "cell_type": "markdown",
   "id": "c8186185-362e-4cc0-9493-120f49d660cd",
   "metadata": {},
   "source": [
    "## Select only the top 5 modified_sequences with highest score"
   ]
  },
  {
   "cell_type": "code",
   "execution_count": null,
   "id": "0c5036e0-c239-43e4-be7b-670c68abab16",
   "metadata": {},
   "outputs": [],
   "source": [
    "data_HCD_5 = data_HCD.sort_values(['modified_sequence', 'andromeda_score'], ascending=[True, False]).groupby('modified_sequence').head(5)"
   ]
  },
  {
   "cell_type": "code",
   "execution_count": null,
   "id": "c53dff13-90c4-4af6-8256-0ed927a2d1f0",
   "metadata": {},
   "outputs": [],
   "source": [
    "data_HCD_5.reset_index(inplace=True)"
   ]
  },
  {
   "cell_type": "code",
   "execution_count": null,
   "id": "7cf1f9fb-22e0-447e-bd36-117e010b7cd7",
   "metadata": {},
   "outputs": [],
   "source": [
    "data_HCD_5"
   ]
  },
  {
   "cell_type": "code",
   "execution_count": null,
   "id": "17391bb1-c333-4e34-b3ff-0a1190cdeb49",
   "metadata": {},
   "outputs": [],
   "source": [
    "data_CID_5 = data_CID.sort_values(['modified_sequence', 'andromeda_score'], ascending=[True, False]).groupby('modified_sequence').head(5)"
   ]
  },
  {
   "cell_type": "code",
   "execution_count": null,
   "id": "69b9d89d-96e0-4e0a-a190-bfcaa64a84de",
   "metadata": {},
   "outputs": [],
   "source": [
    "data_CID_5"
   ]
  },
  {
   "cell_type": "markdown",
   "id": "daaabec8-6639-487b-92db-8d8db70bedd7",
   "metadata": {},
   "source": [
    "## Calculate 10% of the dataframes to create a test set"
   ]
  },
  {
   "cell_type": "code",
   "execution_count": null,
   "id": "9c275bbf-8853-403f-8c5d-e63b77e0eb5a",
   "metadata": {},
   "outputs": [],
   "source": [
    "ten_percent_HCD = int(len(data_HCD_5)*0.1)\n",
    "ten_percent_HCD"
   ]
  },
  {
   "cell_type": "code",
   "execution_count": null,
   "id": "0a17c084-572b-4495-b9d5-6281713feed0",
   "metadata": {},
   "outputs": [],
   "source": [
    "ten_percent_CID = int(len(data_CID_5)*0.1)\n",
    "ten_percent_CID"
   ]
  },
  {
   "cell_type": "markdown",
   "id": "2e807fea-0c0c-4591-859b-61b7e86c80a8",
   "metadata": {},
   "source": [
    "## Create TEST set"
   ]
  },
  {
   "cell_type": "code",
   "execution_count": null,
   "id": "90c94ce8-c6ee-4722-befa-637ef99d295e",
   "metadata": {},
   "outputs": [],
   "source": [
    "test_HCD = data_HCD_5.head(ten_percent_HCD)\n",
    "test_HCD"
   ]
  },
  {
   "cell_type": "markdown",
   "id": "b8605cd4-e74b-41cd-9246-9e57cb2081f0",
   "metadata": {},
   "source": [
    "## Create TRAIN_VAL set"
   ]
  },
  {
   "cell_type": "code",
   "execution_count": null,
   "id": "41806013-deaf-4618-9cf7-5fba59c73feb",
   "metadata": {},
   "outputs": [],
   "source": [
    "index_test_HCD = test_HCD.index\n",
    "index_test_HCD"
   ]
  },
  {
   "cell_type": "code",
   "execution_count": null,
   "id": "d70a3e2d-f931-438f-99d3-4373e35c4e4b",
   "metadata": {},
   "outputs": [],
   "source": [
    "train_val_HCD = data_HCD_5.drop(data_HCD_5.index[index_test_HCD])\n",
    "train_val_HCD"
   ]
  },
  {
   "cell_type": "markdown",
   "id": "99e6bc59-4414-4b51-b50d-4ef305316297",
   "metadata": {},
   "source": [
    "## Check if TEST and TRAIN_VAL have intersecting values"
   ]
  },
  {
   "cell_type": "markdown",
   "id": "98eb94db-b0dc-4e2e-aaf4-42ef811ec0e9",
   "metadata": {},
   "source": [
    "## ##TODO: the maximal overlapp is 5. Put the overlapped sequence into the set where the rest of the same sequences are."
   ]
  },
  {
   "cell_type": "code",
   "execution_count": null,
   "id": "90c3e0db-3895-4df2-b8fb-c063660822ca",
   "metadata": {},
   "outputs": [],
   "source": [
    "pd.Series(list(set(train_val_HCD['modified_sequence']).intersection(set(test_HCD['modified_sequence']))))"
   ]
  },
  {
   "cell_type": "markdown",
   "id": "d6220411-6c77-4d00-916c-e22cf6c1dad8",
   "metadata": {},
   "source": [
    "## Change modification e.g R[UNIMOD:7] to r"
   ]
  },
  {
   "cell_type": "code",
   "execution_count": null,
   "id": "229cdca4-fc46-47ca-a4e7-85fab0f62702",
   "metadata": {},
   "outputs": [],
   "source": [
    "def changeMod(input_data):\n",
    "        for index, row in input_data.iterrows():\n",
    "            sequence = row['modified_sequence']\n",
    "            open_bracket = find(sequence,'[')\n",
    "            tmp_seq =\"\"\n",
    "            new_sequence = \"\"\n",
    "            if len(open_bracket)>=1:\n",
    "                for index_mod in open_bracket:\n",
    "                    modified_AA = sequence[index_mod-1]\n",
    "                    if modified_AA == 'M':\n",
    "                        tmp_seq = sequence[:index_mod-1] + 'M(ox)' + sequence[index_mod:]\n",
    "                        new_sequence = re.sub(\"[\\[].*?[\\]]\", \"\", tmp_seq)\n",
    "        \n",
    "                    else:\n",
    "                        tmp_seq = sequence[:index_mod-1] + modified_AA.lower() + sequence[index_mod:]\n",
    "                        new_sequence = re.sub(\"[\\(\\[].*?[\\)\\]]\", \"\", tmp_seq)\n",
    "                input_data.at[index, 'modified_sequence'] = new_sequence\n",
    "        return input_data\n",
    "    \n",
    "def find(s, ch):\n",
    "        return [i for i, ltr in enumerate(s) if ltr == ch]"
   ]
  },
  {
   "cell_type": "code",
   "execution_count": null,
   "id": "049b5632-1443-4333-a4bc-cde65a3b921b",
   "metadata": {},
   "outputs": [],
   "source": [
    "test_HCD = changeMod(test_HCD)"
   ]
  },
  {
   "cell_type": "markdown",
   "id": "e46b1d36-711f-4a0a-bc72-59f84d471214",
   "metadata": {},
   "source": [
    "## Remove specific modifications e.g Q, K"
   ]
  },
  {
   "cell_type": "code",
   "execution_count": null,
   "id": "9c4b935b-5b63-424d-a6f3-fbfeed40a445",
   "metadata": {},
   "outputs": [],
   "source": [
    "def removeChar(data,removeChar:str):\n",
    "    tmp_remove = removeChar+\"\\\\[\"\n",
    "    filter = data['modified_sequence'].str.contains(tmp_remove)\n",
    "    filtered_df = data[~filter]\n",
    "    return filtered_df.reset_index(drop=True)"
   ]
  },
  {
   "cell_type": "code",
   "execution_count": null,
   "id": "384be494-8187-4f0b-95e9-9557895a1556",
   "metadata": {},
   "outputs": [],
   "source": [
    "test_HCD = removeChar(test_HCD,'K')\n",
    "test_HCD = removeChar(test_HCD,'Q')"
   ]
  },
  {
   "cell_type": "markdown",
   "id": "e3306ce2-09e3-47d4-a126-9b6ac94d90f3",
   "metadata": {},
   "source": [
    "## Rename columns"
   ]
  },
  {
   "cell_type": "code",
   "execution_count": null,
   "id": "4b656d08-ab5a-4eb6-982f-9ccd9cce7034",
   "metadata": {},
   "outputs": [],
   "source": [
    "train_val_HCD.rename(columns={'intensities_raw':'intensities','modified_sequence': 'sequence', 'collision_energy_aligned_normed': 'collision_energy', 'precursor_charge_onehot':'precursor_charge_onehot'}, inplace=True)\n",
    "test_HCD.rename(columns={'intensities_raw':'intensities','modified_sequence': 'sequence', 'collision_energy_aligned_normed': 'collision_energy', 'precursor_charge_onehot':'precursor_charge_onehot'}, inplace=True)"
   ]
  },
  {
   "cell_type": "markdown",
   "id": "78b3e799-2648-4d85-8907-6d9d9fc8ccc1",
   "metadata": {},
   "source": [
    "## Change format of precurser_charge from [1 0 0 1 0] to [1, 0, 0, 1, 0]"
   ]
  },
  {
   "cell_type": "code",
   "execution_count": null,
   "id": "6290c992-9c7b-4c98-b9cd-4b7480a69c42",
   "metadata": {},
   "outputs": [],
   "source": [
    "train_val_HCD['intensities'] = train_val_HCD['intensities'].apply(lambda a: np.array2string(a, separator=', '))\n",
    "train_val_HCD['precursor_charge_onehot'] = train_val_HCD['precursor_charge_onehot'].apply(lambda a: np.array2string(a, separator=', '))\n",
    "\n",
    "test_HCD['intensities'] = test_HCD['intensities'].apply(lambda a: np.array2string(a, separator=', '))\n",
    "test_HCD['precursor_charge_onehot'] = test_HCD['precursor_charge_onehot'].apply(lambda a: np.array2string(a, separator=', '))"
   ]
  },
  {
   "cell_type": "code",
   "execution_count": null,
   "id": "9ee0ae4d-c7e4-45bb-9b86-12310ee8693e",
   "metadata": {},
   "outputs": [],
   "source": [
    "train_val_HCD"
   ]
  },
  {
   "cell_type": "markdown",
   "id": "efea5427-e586-452f-95c8-88e9fd21c353",
   "metadata": {},
   "source": [
    "## Write TEST and TRAIN_VAL to .csv file"
   ]
  },
  {
   "cell_type": "code",
   "execution_count": null,
   "id": "67067ed1-f2c6-4a51-b833-b8b0ffe738b5",
   "metadata": {},
   "outputs": [],
   "source": [
    "train_val_HCD"
   ]
  },
  {
   "cell_type": "code",
   "execution_count": null,
   "id": "db1662ae-7ad2-4557-91c8-728e354c1470",
   "metadata": {},
   "outputs": [],
   "source": [
    "train_val_HCD.to_csv('ptm/output/train_val_hcd.csv', encoding='utf-8', index=False)\n",
    "test_HCD.to_csv('ptm/output/test_hcd.csv', encoding='utf-8', index=False)"
   ]
  },
  {
   "cell_type": "markdown",
   "id": "902ba083-ae36-49de-b093-ad1035beb8b5",
   "metadata": {},
   "source": [
    "# Intensity Prediction"
   ]
  },
  {
   "cell_type": "code",
   "execution_count": 1,
   "id": "a172106d-a644-40b7-b068-ffc928ef7b1d",
   "metadata": {},
   "outputs": [
    {
     "name": "stderr",
     "output_type": "stream",
     "text": [
      "\u001b[34m\u001b[1mwandb\u001b[0m: Thanks for trying out the Report API!\n",
      "\u001b[34m\u001b[1mwandb\u001b[0m: For a tutorial, check out https://colab.research.google.com/drive/1CzyJx1nuOS4pdkXa2XPaRQyZdmFmLmXV\n",
      "\u001b[34m\u001b[1mwandb\u001b[0m: \n",
      "\u001b[34m\u001b[1mwandb\u001b[0m: Try out tab completion to see what's available.\n",
      "\u001b[34m\u001b[1mwandb\u001b[0m:   ∟ everything:    `wr.<tab>`\n",
      "\u001b[34m\u001b[1mwandb\u001b[0m:       ∟ panels:    `wr.panels.<tab>`\n",
      "\u001b[34m\u001b[1mwandb\u001b[0m:       ∟ blocks:    `wr.blocks.<tab>`\n",
      "\u001b[34m\u001b[1mwandb\u001b[0m:       ∟ helpers:   `wr.helpers.<tab>`\n",
      "\u001b[34m\u001b[1mwandb\u001b[0m:       ∟ templates: `wr.templates.<tab>`\n",
      "\u001b[34m\u001b[1mwandb\u001b[0m:       \n",
      "\u001b[34m\u001b[1mwandb\u001b[0m: For bugs/feature requests, please create an issue on github: https://github.com/wandb/wandb/issues\n"
     ]
    },
    {
     "name": "stdout",
     "output_type": "stream",
     "text": [
      "['META_DATA', 'constants', 'data', 'eval', 'layers', 'losses', 'models', 'pipelines', 'reports', 'utils']\n"
     ]
    }
   ],
   "source": [
    "import numpy as np\n",
    "import pandas as pd\n",
    "import dlomix\n",
    "from dlomix import constants, data, eval, layers, models, pipelines, reports, utils\n",
    "print([x for x in dir(dlomix) if not x.startswith(\"_\")])"
   ]
  },
  {
   "cell_type": "markdown",
   "id": "3d089eb6-6cce-4b57-a4ff-93b97803bb0a",
   "metadata": {},
   "source": [
    "## 0. Import and Initialize Weights and Biases"
   ]
  },
  {
   "cell_type": "code",
   "execution_count": 2,
   "id": "d19317e1-f3fa-4205-ac52-29fa1f7c6137",
   "metadata": {},
   "outputs": [],
   "source": [
    "import wandb\n",
    "from wandb.keras import WandbCallback"
   ]
  },
  {
   "cell_type": "code",
   "execution_count": 3,
   "id": "ce6adf6d-ca0c-411d-ba4d-46484e18a0b8",
   "metadata": {},
   "outputs": [],
   "source": [
    "# enter project name\n",
    "project_name = 'dlomix_intensity'"
   ]
  },
  {
   "cell_type": "markdown",
   "id": "485875ba-bbca-4f11-be71-49b150ccdc69",
   "metadata": {},
   "source": [
    "## 1. Load Data"
   ]
  },
  {
   "cell_type": "code",
   "execution_count": 4,
   "id": "5010ca2e-9f50-4688-a075-c63bcdba4775",
   "metadata": {},
   "outputs": [],
   "source": [
    "from dlomix.data import IntensityDataset"
   ]
  },
  {
   "cell_type": "code",
   "execution_count": 5,
   "id": "7cb6cb57-7dc7-41c5-ab1f-61d9a42c7496",
   "metadata": {},
   "outputs": [],
   "source": [
    "#TRAIN_DATAPATH = 'https://raw.githubusercontent.com/wilhelm-lab/dlomix-resources/tasks/intensity/example_datasets/Intensity/proteomeTools_train_val.csv'\n",
    "TRAIN_DATAPATH = 'D:\\\\Uni\\\\Masterarbeit\\\\dlomix\\\\ptm\\\\output\\\\train_val_hcd.csv'\n",
    "\n",
    "BATCH_SIZE = 64\n",
    "\n",
    "int_data = IntensityDataset(data_source=TRAIN_DATAPATH, seq_length=30, batch_size=BATCH_SIZE,\n",
    "                            collision_energy_col='collision_energy', val_ratio=0.2, test=False)"
   ]
  },
  {
   "cell_type": "code",
   "execution_count": null,
   "id": "4768ba36-b7a2-4ba7-9461-14fd562645ca",
   "metadata": {},
   "outputs": [],
   "source": [
    "\"Training examples\", BATCH_SIZE * len(int_data.train_data)"
   ]
  },
  {
   "cell_type": "code",
   "execution_count": null,
   "id": "7f417730-034b-42f2-af15-7c3d0b049891",
   "metadata": {},
   "outputs": [],
   "source": [
    "\"Validation examples\", BATCH_SIZE * len(int_data.val_data)"
   ]
  },
  {
   "cell_type": "markdown",
   "id": "905be94c-7f81-4952-8fa3-50fd47421cc0",
   "metadata": {},
   "source": [
    "## 2. Model"
   ]
  },
  {
   "cell_type": "code",
   "execution_count": 6,
   "id": "4ede42ae-422b-455a-a7e1-cf2f6f5e2330",
   "metadata": {},
   "outputs": [],
   "source": [
    "from dlomix.models import PrositIntensityPredictor\n",
    "import keras\n",
    "from keras import initializers\n",
    "from keras.layers import Embedding"
   ]
  },
  {
   "cell_type": "code",
   "execution_count": 7,
   "id": "8cc75994-29c5-449c-813b-25bd83fee200",
   "metadata": {},
   "outputs": [],
   "source": [
    "model = PrositIntensityPredictor(seq_length=30)"
   ]
  },
  {
   "cell_type": "code",
   "execution_count": 8,
   "id": "b3c27bd4-1362-4c38-a072-a029a2a82192",
   "metadata": {},
   "outputs": [
    {
     "data": {
      "text/plain": [
       "(24, 16)"
      ]
     },
     "execution_count": 8,
     "metadata": {},
     "output_type": "execute_result"
    }
   ],
   "source": [
    "rand_uni_weights = np.random.uniform(-1, 1, size=(24, 16))\n",
    "rand_uni_weights.shape"
   ]
  },
  {
   "cell_type": "code",
   "execution_count": null,
   "id": "349c0955-7d99-49f3-b332-c3cdd338b47e",
   "metadata": {},
   "outputs": [],
   "source": [
    "# model.embedding = keras.layers.Embedding(\n",
    "#     input_dim=24,\n",
    "#     output_dim=16,\n",
    "#     weights=[rand_uni_weights],\n",
    "#     #embeddings_initializer=initializers.RandomNormal(stddev=0.01),\n",
    "#     embeddings_regularizer=None,\n",
    "#     embeddings_constraint=None,\n",
    "#     mask_zero=False\n",
    "# )"
   ]
  },
  {
   "cell_type": "code",
   "execution_count": 9,
   "id": "2002bfd8-7739-4a3a-8331-34c4b4d01bd6",
   "metadata": {},
   "outputs": [],
   "source": [
    "embedding_layer = Embedding(\n",
    "    24,\n",
    "    16,\n",
    "    trainable=True,\n",
    ")\n",
    "embedding_layer.build((1,))\n",
    "embedding_layer.set_weights([rand_uni_weights])"
   ]
  },
  {
   "cell_type": "code",
   "execution_count": 13,
   "id": "77193a52-535c-45b2-a05c-06eaf057a5cf",
   "metadata": {},
   "outputs": [],
   "source": [
    "model.emdedding = embedding_layer"
   ]
  },
  {
   "cell_type": "code",
   "execution_count": 10,
   "id": "314ce0e4-d9ac-4980-9081-80e754b252a6",
   "metadata": {},
   "outputs": [],
   "source": [
    "model.layers[1] = embedding_layer"
   ]
  },
  {
   "cell_type": "code",
   "execution_count": 16,
   "id": "27010487-9ede-4414-81c4-8f00bd23896b",
   "metadata": {},
   "outputs": [
    {
     "data": {
      "text/plain": [
       "array([[-4.00664926e-01,  5.41114926e-01, -7.68233091e-02,\n",
       "         8.36143076e-01,  5.74226566e-02,  7.70703256e-01,\n",
       "         3.49923745e-02,  9.26550686e-01, -4.85170305e-01,\n",
       "        -4.55317199e-01,  9.86073077e-01,  6.83180571e-01,\n",
       "        -6.81031942e-01,  4.74539578e-01, -1.63369790e-01,\n",
       "        -7.56939948e-01],\n",
       "       [ 4.74932313e-01,  9.82821822e-01,  6.88992441e-01,\n",
       "         4.99225169e-01, -1.86952919e-01, -8.61484885e-01,\n",
       "        -6.24874592e-01,  5.50851643e-01,  1.30465373e-01,\n",
       "         7.74172544e-01,  9.45081353e-01,  8.36689830e-01,\n",
       "         3.80678892e-01, -5.93780458e-01,  5.16058028e-01,\n",
       "        -9.27131996e-02],\n",
       "       [ 5.49872696e-01, -5.37552536e-02,  6.24085627e-02,\n",
       "         2.36120299e-01, -4.71936285e-01,  7.69434690e-01,\n",
       "         8.19153726e-01,  1.47660092e-01,  1.24074101e-01,\n",
       "         1.99095070e-01,  4.81522918e-01, -2.79858321e-01,\n",
       "        -7.18172193e-01, -7.89972723e-01,  3.54809880e-01,\n",
       "        -1.25955969e-01],\n",
       "       [ 2.51302928e-01,  5.75747192e-01,  3.10355633e-01,\n",
       "        -5.49368799e-01,  7.36972213e-01,  8.03279996e-01,\n",
       "        -5.93433142e-01, -5.28311789e-01, -5.25367558e-01,\n",
       "        -3.10061499e-02,  9.36911583e-01,  2.20378339e-01,\n",
       "        -4.18475032e-01,  6.23446941e-01,  5.62963068e-01,\n",
       "        -2.01522306e-01],\n",
       "       [-2.69038945e-01,  2.00232774e-01,  6.27293229e-01,\n",
       "         3.49596590e-01, -8.19506586e-01, -8.88523877e-01,\n",
       "         5.67518413e-01, -3.99219871e-01, -7.95045555e-01,\n",
       "        -5.18908083e-01,  5.88672817e-01,  9.89624977e-01,\n",
       "         8.36247921e-01, -8.23881805e-01,  3.23515683e-01,\n",
       "        -2.94111103e-01],\n",
       "       [-4.91960868e-02, -1.49833886e-02, -2.33844712e-01,\n",
       "        -4.26743507e-01,  2.62994975e-01, -2.73937374e-01,\n",
       "        -3.31784964e-01, -5.93180060e-01,  9.25626814e-01,\n",
       "        -1.39264330e-01, -1.67098045e-01, -1.32877588e-01,\n",
       "         2.41390526e-01, -6.56031489e-01, -8.04972410e-01,\n",
       "         6.38123512e-01],\n",
       "       [ 6.52653515e-01, -6.24991894e-01,  4.65706706e-01,\n",
       "        -4.94985342e-01, -2.95744330e-01,  9.47241962e-01,\n",
       "         4.78301436e-01,  8.12316656e-01, -5.32409549e-01,\n",
       "         5.40509075e-02, -6.16552055e-01,  7.57880449e-01,\n",
       "        -9.04563546e-01,  6.71559811e-01,  4.35286075e-01,\n",
       "         8.44393790e-01],\n",
       "       [ 6.39240324e-01, -6.46928012e-01,  1.75456002e-01,\n",
       "         4.91037816e-01,  9.50825036e-01,  2.89530218e-01,\n",
       "        -3.60226631e-01,  5.80685258e-01, -9.64824677e-01,\n",
       "         1.03737190e-01,  2.42742062e-01, -4.49876249e-01,\n",
       "        -2.24134296e-01,  7.53568292e-01,  9.71988082e-01,\n",
       "        -7.20922291e-01],\n",
       "       [ 8.82173419e-01, -1.69374347e-01, -8.87900311e-03,\n",
       "         4.44211394e-01,  1.31190717e-01,  1.83014408e-01,\n",
       "        -1.51523976e-02, -4.44160581e-01, -3.13290507e-01,\n",
       "         8.62969458e-01,  2.47709423e-01,  6.64179146e-01,\n",
       "        -2.65067697e-01,  8.72807324e-01,  1.04761176e-01,\n",
       "        -4.49717164e-01],\n",
       "       [ 4.07786071e-01, -4.97248471e-01,  1.19063482e-01,\n",
       "         1.06689157e-02, -8.91953528e-01,  5.80569267e-01,\n",
       "        -5.73139608e-01, -8.91176939e-01, -4.32710677e-01,\n",
       "         1.00560710e-01,  5.87315708e-02,  2.43975565e-01,\n",
       "        -7.14782000e-01,  9.75332856e-01,  3.09795052e-01,\n",
       "         2.59234965e-01],\n",
       "       [-7.64690042e-01, -9.28811371e-01,  9.69894648e-01,\n",
       "        -6.03072882e-01, -4.85213369e-01, -4.45815325e-01,\n",
       "        -4.91886556e-01,  4.16128278e-01,  4.52805817e-01,\n",
       "         9.49648976e-01, -8.27908397e-01,  5.77299178e-01,\n",
       "        -1.39191985e-01, -3.85100186e-01,  8.57100666e-01,\n",
       "        -2.20236793e-01],\n",
       "       [-7.05603421e-01, -4.73839819e-01,  8.09634864e-01,\n",
       "         7.20699847e-01,  3.02448630e-01,  9.00760651e-01,\n",
       "        -4.94174182e-01,  3.17257613e-01,  8.99715304e-01,\n",
       "        -5.09348214e-01, -7.05475450e-01,  9.47158694e-01,\n",
       "         9.56982017e-01, -5.34931242e-01, -1.20491922e-01,\n",
       "         2.20846146e-01],\n",
       "       [ 3.84031028e-01,  4.44447517e-01, -5.73596843e-02,\n",
       "        -8.70833278e-01,  9.67192948e-01,  2.64942616e-01,\n",
       "         6.82047367e-01, -4.88108277e-01,  3.01900152e-02,\n",
       "         7.85651743e-01, -7.99590945e-01, -6.75484300e-01,\n",
       "        -5.27031422e-01, -9.77543533e-01, -8.20766807e-01,\n",
       "         3.35789561e-01],\n",
       "       [ 9.47231412e-01,  4.51112837e-01,  7.05843329e-01,\n",
       "        -9.76029813e-01,  5.16931295e-01,  5.59238553e-01,\n",
       "        -7.89487600e-01, -1.43376082e-01, -3.87471557e-01,\n",
       "         4.84812647e-01, -6.97987199e-01, -4.60808277e-01,\n",
       "         1.94364134e-02,  9.72080648e-01, -2.16797754e-01,\n",
       "        -6.11421466e-01],\n",
       "       [ 6.40891314e-01, -3.65917444e-01,  6.47449121e-02,\n",
       "         8.94094780e-02,  1.56292155e-01,  1.70120522e-01,\n",
       "        -5.50063193e-01, -7.69142926e-01, -3.27319682e-01,\n",
       "         9.49015260e-01,  3.92098933e-01, -3.81745368e-01,\n",
       "        -5.95346093e-01, -9.74926412e-01, -7.60921240e-01,\n",
       "         3.17882299e-01],\n",
       "       [ 9.81511772e-02,  9.03895319e-01, -8.36655796e-02,\n",
       "         7.51243651e-01,  1.87189281e-01, -9.18366194e-01,\n",
       "        -8.62169087e-01, -5.70289195e-01,  7.90687144e-01,\n",
       "         6.05507754e-03, -8.16224396e-01, -5.04984856e-01,\n",
       "        -7.01133549e-01,  1.34452820e-01,  7.12448120e-01,\n",
       "        -3.98370206e-01],\n",
       "       [ 4.86976951e-01, -3.78968537e-01,  4.23793107e-01,\n",
       "         9.98186827e-01, -3.17798138e-01, -8.60594511e-01,\n",
       "        -6.70150340e-01, -8.35843682e-01,  2.36541539e-01,\n",
       "         8.92594099e-01, -5.59534907e-01, -9.29416955e-01,\n",
       "        -2.93325424e-01, -2.26921603e-01, -7.62872458e-01,\n",
       "         1.82569787e-01],\n",
       "       [-9.59812880e-01,  9.19592798e-01,  7.90442824e-01,\n",
       "        -4.10292238e-01, -8.49184215e-01, -3.37078243e-01,\n",
       "         7.21168593e-02, -7.23969340e-01, -9.64580417e-01,\n",
       "        -6.09011352e-01, -7.91943520e-02,  1.95122004e-01,\n",
       "        -1.51692778e-01, -5.49106181e-01,  9.62703526e-01,\n",
       "         3.58532935e-01],\n",
       "       [ 8.57066810e-01,  9.87865090e-01, -1.60622731e-01,\n",
       "         6.66343868e-01, -5.18186510e-01, -8.49021256e-01,\n",
       "        -7.85661519e-01,  1.33824408e-01, -1.91317573e-02,\n",
       "        -6.73016369e-01, -1.41551420e-01,  1.57338604e-01,\n",
       "        -6.96149945e-01, -6.67511404e-01,  2.69777983e-01,\n",
       "        -9.08818603e-01],\n",
       "       [ 5.85169911e-01, -4.84211206e-01, -5.88367224e-01,\n",
       "        -9.78240788e-01, -5.32866716e-01, -9.93732333e-01,\n",
       "        -4.46116418e-01, -2.53236026e-01,  8.59691501e-01,\n",
       "        -2.95456439e-01, -9.26557422e-01,  9.89069641e-01,\n",
       "        -8.51672981e-03,  1.27774343e-01, -1.86252713e-01,\n",
       "         2.02623710e-01],\n",
       "       [ 4.06490117e-01,  2.60163248e-01,  8.02454770e-01,\n",
       "        -4.63037193e-02, -8.01074028e-01, -4.69647259e-01,\n",
       "         8.54996145e-01, -1.83809713e-01, -7.43517578e-01,\n",
       "         7.91936696e-01,  1.61131397e-01, -2.04601392e-01,\n",
       "        -8.60795498e-01, -3.18184257e-01,  1.43022940e-01,\n",
       "         6.79760218e-01],\n",
       "       [ 8.11167121e-01,  7.09393919e-01, -5.17238677e-02,\n",
       "         1.24616995e-01, -8.79108787e-01, -3.50015342e-01,\n",
       "        -2.55265057e-01,  4.78512555e-01, -1.08817056e-01,\n",
       "        -6.15141168e-02,  3.92676657e-03, -5.46638131e-01,\n",
       "         4.84880149e-01, -3.41079950e-01,  8.68009806e-01,\n",
       "        -5.72395146e-01],\n",
       "       [-5.88612109e-02, -5.21802366e-01, -9.65049416e-02,\n",
       "        -5.51228821e-01, -4.36173856e-01, -6.23772979e-01,\n",
       "         1.12540968e-01, -2.86008894e-01, -9.09430504e-01,\n",
       "         9.92344379e-01, -4.66637164e-01, -6.01944029e-01,\n",
       "        -5.33717692e-01, -5.77988744e-01,  3.84026587e-01,\n",
       "         4.51231092e-01],\n",
       "       [-6.95445716e-01,  2.81046201e-02, -9.11581159e-01,\n",
       "        -3.99845478e-04, -5.78682423e-02, -1.72206521e-01,\n",
       "         8.67091000e-01, -7.65214264e-01, -8.14421594e-01,\n",
       "        -1.47596262e-02,  6.60104215e-01, -4.51897770e-01,\n",
       "        -2.66788900e-01,  1.14580296e-01, -4.51077461e-01,\n",
       "         9.39667642e-01]], dtype=float32)"
      ]
     },
     "execution_count": 16,
     "metadata": {},
     "output_type": "execute_result"
    }
   ],
   "source": [
    "model.layers[8].get_weights()[0]"
   ]
  },
  {
   "cell_type": "code",
   "execution_count": 15,
   "id": "c4b16f8f-2531-4fb4-9b53-791ddf3849d1",
   "metadata": {},
   "outputs": [
    {
     "name": "stdout",
     "output_type": "stream",
     "text": [
      "string_lookup\n",
      "embedding\n",
      "sequential\n",
      "sequential_1\n",
      "sequential_2\n",
      "encoder_att\n",
      "sequential_3\n",
      "sequential_4\n",
      "embedding_1\n"
     ]
    }
   ],
   "source": [
    "for layer in model.layers:\n",
    "    print(layer.name)"
   ]
  },
  {
   "cell_type": "markdown",
   "id": "dbbffce3-fcb0-4ccd-bbda-7c3054f2ff45",
   "metadata": {},
   "source": [
    "## 3. Training"
   ]
  },
  {
   "cell_type": "code",
   "execution_count": null,
   "id": "24c0a0ee-a7ff-4a48-916d-2eaad4bfdd54",
   "metadata": {},
   "outputs": [],
   "source": [
    "import tensorflow as tf\n",
    "from dlomix.losses import masked_spectral_distance, masked_pearson_correlation_distance\n",
    "tf.get_logger().setLevel('ERROR')"
   ]
  },
  {
   "cell_type": "code",
   "execution_count": null,
   "id": "1d701053-d6ac-4ed1-ae68-c35feb57eacf",
   "metadata": {},
   "outputs": [],
   "source": [
    "# create the optimizer object\n",
    "optimizer = tf.keras.optimizers.Adam(learning_rate=0.001)\n",
    "\n",
    "# compile the model  with the optimizer and the metrics we want to use, we can add our custom timedelta metric\n",
    "model.compile(optimizer=optimizer,\n",
    "              loss=masked_spectral_distance,\n",
    "              metrics=['mse',masked_pearson_correlation_distance])"
   ]
  },
  {
   "cell_type": "markdown",
   "id": "b9b5e0ee-f4ac-4a33-b253-dfcba6d10326",
   "metadata": {},
   "source": [
    "### 3.1 train model from scratch"
   ]
  },
  {
   "cell_type": "code",
   "execution_count": null,
   "id": "a890a028-7f42-44f3-9a9e-f74e6aa6ad97",
   "metadata": {},
   "outputs": [],
   "source": [
    "wandb.init(project=project_name, name='walktrough')\n",
    "history = model.fit(int_data.train_data,\n",
    "                    validation_data=int_data.val_data,\n",
    "                    epochs=2,callbacks=[WandbCallback(save_model=False)])"
   ]
  },
  {
   "cell_type": "code",
   "execution_count": null,
   "id": "ead26f0c-6d92-48c4-b740-ef5c689fbfbb",
   "metadata": {},
   "outputs": [],
   "source": [
    "# Mark the run as finished\n",
    "wandb.finish()"
   ]
  },
  {
   "cell_type": "markdown",
   "id": "7fed7552-7742-4351-9844-b2f238705058",
   "metadata": {},
   "source": [
    "### 3.2 Create random uniform weight matrix"
   ]
  },
  {
   "cell_type": "code",
   "execution_count": null,
   "id": "a7644737-df16-429c-b95a-629da15d47a9",
   "metadata": {},
   "outputs": [],
   "source": [
    "rand_uni_weights = np.random.uniform(-1, 1, size=(24, 16))\n",
    "rand_uni_weights.shape"
   ]
  },
  {
   "cell_type": "code",
   "execution_count": null,
   "id": "b395a233-2f39-400c-8ce5-6ba042850d61",
   "metadata": {},
   "outputs": [],
   "source": [
    "rand_uni_weights"
   ]
  },
  {
   "cell_type": "markdown",
   "id": "2539ee0a-cc16-48cd-9643-1538ddcc02d8",
   "metadata": {},
   "source": [
    "### 3.3 assign weight matrix to embedding layer"
   ]
  },
  {
   "cell_type": "code",
   "execution_count": null,
   "id": "2a7f9034-86cd-4648-a9b4-7ea79a5cf875",
   "metadata": {},
   "outputs": [],
   "source": [
    "model.layers[1].set_weights([rand_uni_weights])    "
   ]
  },
  {
   "cell_type": "code",
   "execution_count": null,
   "id": "a5c201ba-9fd9-4363-a3d7-f8c73d529adb",
   "metadata": {},
   "outputs": [],
   "source": [
    "model.layers[1].get_weights()[0]"
   ]
  },
  {
   "cell_type": "code",
   "execution_count": null,
   "id": "39ec3f89-fa04-4f68-a346-c3d3f0ae1c70",
   "metadata": {},
   "outputs": [],
   "source": [
    "for layer in model.layers:\n",
    "    print(layer.name, layer.inbound_nodes, layer.outbound_nodes)"
   ]
  },
  {
   "cell_type": "markdown",
   "id": "bb8f3835-d5df-457b-8fc1-79bd972791ba",
   "metadata": {},
   "source": [
    "### 3.4 save model"
   ]
  },
  {
   "cell_type": "code",
   "execution_count": null,
   "id": "9e1e41e5-792a-40a6-8ea2-5e4292a165cf",
   "metadata": {},
   "outputs": [],
   "source": [
    "save_path = \"./output/rtmodel\"\n",
    "model.save_weights(save_path)"
   ]
  },
  {
   "cell_type": "code",
   "execution_count": null,
   "id": "46d12b58-fa9a-434f-b3d7-4e9e926fb122",
   "metadata": {},
   "outputs": [],
   "source": [
    "trained_model = RetentionTimePredictor(seq_length=30)\n",
    "trained_model.load_weights(save_path)"
   ]
  },
  {
   "cell_type": "markdown",
   "id": "0a04045f-4f8b-4521-b4e1-b3abff1b8c4d",
   "metadata": {},
   "source": [
    "## 4. Testing and Reporting"
   ]
  },
  {
   "cell_type": "code",
   "execution_count": null,
   "id": "b394f44f-2cd1-41a0-919e-616554593f67",
   "metadata": {},
   "outputs": [],
   "source": [
    "# create the dataset object for test data\n",
    "\n",
    "#TEST_DATAPATH = 'https://raw.githubusercontent.com/wilhelm-lab/dlomix-resources/tasks/intensity/example_datasets/Intensity/proteomeTools_test.csv'\n",
    "TEST_DATAPATH = 'D:\\\\Uni\\\\Masterarbeit\\\\dlomix\\\\ptm\\\\output\\\\test_hcd.csv'\n",
    "\n",
    "test_int_data = IntensityDataset(data_source=TEST_DATAPATH,\n",
    "                              seq_length=30, collision_energy_col='collision_energy',batch_size=32, test=True)"
   ]
  },
  {
   "cell_type": "code",
   "execution_count": null,
   "id": "e9f7e90e-1290-410f-971a-94a8d3a76851",
   "metadata": {},
   "outputs": [],
   "source": [
    "# use model.predict from keras directly on the testdata\n",
    "\n",
    "predictions = model.predict(test_int_data.test_data)"
   ]
  },
  {
   "cell_type": "code",
   "execution_count": null,
   "id": "442b2fec-c3e8-4ed3-ab28-66269fe7d3c9",
   "metadata": {},
   "outputs": [],
   "source": [
    "from dlomix.reports import IntensityReport\n",
    "\n",
    "# create a report object by passing the history object and plot different metrics\n",
    "report = IntensityReport(output_path=\"./output\", history=history)"
   ]
  },
  {
   "cell_type": "code",
   "execution_count": null,
   "id": "66d88d37-0c28-448f-be86-5e1a4df6c4d5",
   "metadata": {},
   "outputs": [],
   "source": [
    "# you can generate a complete report for intensity by calling generate_report\n",
    "# the function takes the test dataset object and the predictions as arguments\n",
    "\n",
    "report.generate_report(test_int_data, predictions)"
   ]
  },
  {
   "cell_type": "code",
   "execution_count": null,
   "id": "f7cbb5cc-7211-4f95-a52c-f4d7d5d868f1",
   "metadata": {},
   "outputs": [],
   "source": [
    "# you can also manually see the results by calling other utility functions\n",
    "from dlomix.reports.postprocessing import normalize_intensity_predictions\n",
    "\n",
    "\n",
    "predictions_df = report.generate_intensity_results_df(test_int_data, predictions)\n",
    "predictions_df.head()"
   ]
  },
  {
   "cell_type": "code",
   "execution_count": null,
   "id": "7449d402-1b41-4a25-90d4-de5b348d92ed",
   "metadata": {},
   "outputs": [],
   "source": [
    "predictions_acc = normalize_intensity_predictions(predictions_df)\n",
    "predictions_acc.head()"
   ]
  },
  {
   "cell_type": "code",
   "execution_count": null,
   "id": "5580d637-f963-4b18-92ea-7124a59f41f6",
   "metadata": {},
   "outputs": [],
   "source": [
    "predictions_acc['spectral_angle'].describe()"
   ]
  },
  {
   "cell_type": "code",
   "execution_count": null,
   "id": "1471b663-bf3d-421c-a568-2bfc5614f11d",
   "metadata": {},
   "outputs": [],
   "source": [
    "import seaborn as sns\n",
    "\n",
    "sns.violinplot(predictions_acc['spectral_angle'])"
   ]
  },
  {
   "cell_type": "code",
   "execution_count": null,
   "id": "187bcbaa-78cd-4071-955b-10b6ca16bdba",
   "metadata": {},
   "outputs": [],
   "source": []
  }
 ],
 "metadata": {
  "kernelspec": {
   "display_name": "Python 3 (ipykernel)",
   "language": "python",
   "name": "python3"
  },
  "language_info": {
   "codemirror_mode": {
    "name": "ipython",
    "version": 3
   },
   "file_extension": ".py",
   "mimetype": "text/x-python",
   "name": "python",
   "nbconvert_exporter": "python",
   "pygments_lexer": "ipython3",
   "version": "3.10.11"
  }
 },
 "nbformat": 4,
 "nbformat_minor": 5
}
