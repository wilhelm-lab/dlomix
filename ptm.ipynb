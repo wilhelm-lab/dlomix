{
 "cells": [
  {
   "cell_type": "code",
   "execution_count": null,
   "id": "5d603210-823f-4a98-8c08-10d18fc4df81",
   "metadata": {},
   "outputs": [],
   "source": [
    "#!python -m pip install -q git+https://github.com/wilhelm-lab/dlomix"
   ]
  },
  {
   "cell_type": "code",
   "execution_count": null,
   "id": "5f2f8352-ed12-4741-9110-42c1fbabeeed",
   "metadata": {},
   "outputs": [],
   "source": [
    "#!python -m pip install wandb"
   ]
  },
  {
   "cell_type": "markdown",
   "id": "b725afc9-4991-4cf0-a474-20e8ee346786",
   "metadata": {},
   "source": [
    "# Preprocess the data"
   ]
  },
  {
   "cell_type": "code",
   "execution_count": null,
   "id": "61e5fbb9-9acd-45b6-a81d-2294a4add4a2",
   "metadata": {},
   "outputs": [],
   "source": [
    "import pandas as pd\n",
    "import re\n",
    "import numpy as np\n",
    "import csv"
   ]
  },
  {
   "cell_type": "markdown",
   "id": "df22fd1b-53b5-473d-bc06-8d2e8156c8aa",
   "metadata": {},
   "source": [
    "## Read the input data"
   ]
  },
  {
   "cell_type": "code",
   "execution_count": null,
   "id": "1fa6d075-651c-46fb-90eb-65e27a8c6ff8",
   "metadata": {},
   "outputs": [],
   "source": [
    "input_file1 = \"ptm/input_data/TUM_mod_citrullination_l.parquet\"\n",
    "input_file2 = \"ptm/input_data/TUM_mod_citrullination_2.parquet\""
   ]
  },
  {
   "cell_type": "markdown",
   "id": "7898356b-a77c-4101-a1ba-90f28c7845c0",
   "metadata": {},
   "source": [
    "## Create dataframe"
   ]
  },
  {
   "cell_type": "code",
   "execution_count": null,
   "id": "cabbe6f5-21f9-49d4-8190-49b5c96c9bf5",
   "metadata": {},
   "outputs": [],
   "source": [
    "tmp_data1 = pd.read_parquet(input_file1, engine='pyarrow')\n",
    "tmp_data2 = pd.read_parquet(input_file2, engine='pyarrow')\n",
    "data = pd.concat([tmp_data1,tmp_data2])"
   ]
  },
  {
   "cell_type": "code",
   "execution_count": null,
   "id": "3dc5041f-e095-40e7-9df8-95671a14c6aa",
   "metadata": {},
   "outputs": [],
   "source": [
    "data.head(10)"
   ]
  },
  {
   "cell_type": "markdown",
   "id": "bdc563fb-a951-4ba1-bed9-c068aa00ebd2",
   "metadata": {},
   "source": [
    "## Divide data into HCD and CID"
   ]
  },
  {
   "cell_type": "code",
   "execution_count": null,
   "id": "33cfa65e-c1a0-4a96-a58e-f7fa502854ba",
   "metadata": {},
   "outputs": [],
   "source": [
    "data_HCD = data[data['fragmentation']=='HCD']\n",
    "data_CID = data[data['fragmentation']=='CID']"
   ]
  },
  {
   "cell_type": "code",
   "execution_count": null,
   "id": "cdff1a52-0da1-4475-9cdd-71a23c7dd23d",
   "metadata": {},
   "outputs": [],
   "source": [
    "data_HCD.head(10)"
   ]
  },
  {
   "cell_type": "markdown",
   "id": "773ea197-a98f-4301-8ead-a702b18d1b76",
   "metadata": {},
   "source": [
    "## Sort for modified_sequence and sort andromeda_score from highest to lowest"
   ]
  },
  {
   "cell_type": "code",
   "execution_count": null,
   "id": "e7012c8f-429e-4b19-819f-40af80dd5514",
   "metadata": {},
   "outputs": [],
   "source": [
    "data_HCD = data_HCD.sort_values(['modified_sequence', 'andromeda_score'], ascending=[True, False])"
   ]
  },
  {
   "cell_type": "code",
   "execution_count": null,
   "id": "23f9c140-4e7d-4cf9-96a1-ebcc5272be9d",
   "metadata": {},
   "outputs": [],
   "source": [
    "data_HCD"
   ]
  },
  {
   "cell_type": "markdown",
   "id": "c8186185-362e-4cc0-9493-120f49d660cd",
   "metadata": {},
   "source": [
    "## Select only the top 5 modified_sequences with highest score"
   ]
  },
  {
   "cell_type": "code",
   "execution_count": null,
   "id": "0c5036e0-c239-43e4-be7b-670c68abab16",
   "metadata": {},
   "outputs": [],
   "source": [
    "data_HCD_5 = data_HCD.sort_values(['modified_sequence', 'andromeda_score'], ascending=[True, False]).groupby('modified_sequence').head(5)"
   ]
  },
  {
   "cell_type": "code",
   "execution_count": null,
   "id": "c53dff13-90c4-4af6-8256-0ed927a2d1f0",
   "metadata": {},
   "outputs": [],
   "source": [
    "data_HCD_5.reset_index(inplace=True)"
   ]
  },
  {
   "cell_type": "code",
   "execution_count": null,
   "id": "7cf1f9fb-22e0-447e-bd36-117e010b7cd7",
   "metadata": {},
   "outputs": [],
   "source": [
    "data_HCD_5"
   ]
  },
  {
   "cell_type": "code",
   "execution_count": null,
   "id": "17391bb1-c333-4e34-b3ff-0a1190cdeb49",
   "metadata": {},
   "outputs": [],
   "source": [
    "data_CID_5 = data_CID.sort_values(['modified_sequence', 'andromeda_score'], ascending=[True, False]).groupby('modified_sequence').head(5)"
   ]
  },
  {
   "cell_type": "code",
   "execution_count": null,
   "id": "69b9d89d-96e0-4e0a-a190-bfcaa64a84de",
   "metadata": {},
   "outputs": [],
   "source": [
    "data_CID_5"
   ]
  },
  {
   "cell_type": "markdown",
   "id": "daaabec8-6639-487b-92db-8d8db70bedd7",
   "metadata": {},
   "source": [
    "## Calculate 10% of the dataframes to create a test set"
   ]
  },
  {
   "cell_type": "code",
   "execution_count": null,
   "id": "9c275bbf-8853-403f-8c5d-e63b77e0eb5a",
   "metadata": {},
   "outputs": [],
   "source": [
    "ten_percent_HCD = int(len(data_HCD_5)*0.1)\n",
    "ten_percent_HCD"
   ]
  },
  {
   "cell_type": "code",
   "execution_count": null,
   "id": "0a17c084-572b-4495-b9d5-6281713feed0",
   "metadata": {},
   "outputs": [],
   "source": [
    "ten_percent_CID = int(len(data_CID_5)*0.1)\n",
    "ten_percent_CID"
   ]
  },
  {
   "cell_type": "markdown",
   "id": "2e807fea-0c0c-4591-859b-61b7e86c80a8",
   "metadata": {},
   "source": [
    "## Create TEST set"
   ]
  },
  {
   "cell_type": "code",
   "execution_count": null,
   "id": "90c94ce8-c6ee-4722-befa-637ef99d295e",
   "metadata": {},
   "outputs": [],
   "source": [
    "test_HCD = data_HCD_5.head(ten_percent_HCD)\n",
    "test_HCD"
   ]
  },
  {
   "cell_type": "markdown",
   "id": "b8605cd4-e74b-41cd-9246-9e57cb2081f0",
   "metadata": {},
   "source": [
    "## Create TRAIN_VAL set"
   ]
  },
  {
   "cell_type": "code",
   "execution_count": null,
   "id": "41806013-deaf-4618-9cf7-5fba59c73feb",
   "metadata": {},
   "outputs": [],
   "source": [
    "index_test_HCD = test_HCD.index\n",
    "index_test_HCD"
   ]
  },
  {
   "cell_type": "code",
   "execution_count": null,
   "id": "d70a3e2d-f931-438f-99d3-4373e35c4e4b",
   "metadata": {},
   "outputs": [],
   "source": [
    "train_val_HCD = data_HCD_5.drop(data_HCD_5.index[index_test_HCD])\n",
    "train_val_HCD"
   ]
  },
  {
   "cell_type": "markdown",
   "id": "99e6bc59-4414-4b51-b50d-4ef305316297",
   "metadata": {},
   "source": [
    "## Check if TEST and TRAIN_VAL have intersecting values"
   ]
  },
  {
   "cell_type": "markdown",
   "id": "98eb94db-b0dc-4e2e-aaf4-42ef811ec0e9",
   "metadata": {},
   "source": [
    "## ##TODO: the maximal overlapp is 5. Put the overlapped sequence into the set where the rest of the same sequences are."
   ]
  },
  {
   "cell_type": "code",
   "execution_count": null,
   "id": "90c3e0db-3895-4df2-b8fb-c063660822ca",
   "metadata": {},
   "outputs": [],
   "source": [
    "pd.Series(list(set(train_val_HCD['modified_sequence']).intersection(set(test_HCD['modified_sequence']))))"
   ]
  },
  {
   "cell_type": "markdown",
   "id": "d6220411-6c77-4d00-916c-e22cf6c1dad8",
   "metadata": {},
   "source": [
    "## Change modification e.g R[UNIMOD:7] to r"
   ]
  },
  {
   "cell_type": "code",
   "execution_count": null,
   "id": "229cdca4-fc46-47ca-a4e7-85fab0f62702",
   "metadata": {},
   "outputs": [],
   "source": [
    "def changeMod(input_data):\n",
    "        for index, row in input_data.iterrows():\n",
    "            sequence = row['modified_sequence']\n",
    "            open_bracket = find(sequence,'[')\n",
    "            tmp_seq =\"\"\n",
    "            new_sequence = \"\"\n",
    "            if len(open_bracket)>=1:\n",
    "                for index_mod in open_bracket:\n",
    "                    modified_AA = sequence[index_mod-1]\n",
    "                    if modified_AA == 'M':\n",
    "                        tmp_seq = sequence[:index_mod-1] + 'M(ox)' + sequence[index_mod:]\n",
    "                        new_sequence = re.sub(\"[\\[].*?[\\]]\", \"\", tmp_seq)\n",
    "        \n",
    "                    else:\n",
    "                        tmp_seq = sequence[:index_mod-1] + modified_AA.lower() + sequence[index_mod:]\n",
    "                        new_sequence = re.sub(\"[\\(\\[].*?[\\)\\]]\", \"\", tmp_seq)\n",
    "                input_data.at[index, 'modified_sequence'] = new_sequence\n",
    "        return input_data\n",
    "    \n",
    "def find(s, ch):\n",
    "        return [i for i, ltr in enumerate(s) if ltr == ch]"
   ]
  },
  {
   "cell_type": "code",
   "execution_count": null,
   "id": "049b5632-1443-4333-a4bc-cde65a3b921b",
   "metadata": {},
   "outputs": [],
   "source": [
    "test_HCD = changeMod(test_HCD)"
   ]
  },
  {
   "cell_type": "markdown",
   "id": "e46b1d36-711f-4a0a-bc72-59f84d471214",
   "metadata": {},
   "source": [
    "## Remove specific modifications e.g Q, K"
   ]
  },
  {
   "cell_type": "code",
   "execution_count": null,
   "id": "9c4b935b-5b63-424d-a6f3-fbfeed40a445",
   "metadata": {},
   "outputs": [],
   "source": [
    "def removeChar(data,removeChar:str):\n",
    "    tmp_remove = removeChar+\"\\\\[\"\n",
    "    filter = data['modified_sequence'].str.contains(tmp_remove)\n",
    "    filtered_df = data[~filter]\n",
    "    return filtered_df.reset_index(drop=True)"
   ]
  },
  {
   "cell_type": "code",
   "execution_count": null,
   "id": "384be494-8187-4f0b-95e9-9557895a1556",
   "metadata": {},
   "outputs": [],
   "source": [
    "test_HCD = removeChar(test_HCD,'K')\n",
    "test_HCD = removeChar(test_HCD,'Q')"
   ]
  },
  {
   "cell_type": "markdown",
   "id": "e3306ce2-09e3-47d4-a126-9b6ac94d90f3",
   "metadata": {},
   "source": [
    "## Rename columns"
   ]
  },
  {
   "cell_type": "code",
   "execution_count": null,
   "id": "4b656d08-ab5a-4eb6-982f-9ccd9cce7034",
   "metadata": {},
   "outputs": [],
   "source": [
    "train_val_HCD.rename(columns={'intensities_raw':'intensities','modified_sequence': 'sequence', 'collision_energy_aligned_normed': 'collision_energy', 'precursor_charge_onehot':'precursor_charge_onehot'}, inplace=True)\n",
    "test_HCD.rename(columns={'intensities_raw':'intensities','modified_sequence': 'sequence', 'collision_energy_aligned_normed': 'collision_energy', 'precursor_charge_onehot':'precursor_charge_onehot'}, inplace=True)"
   ]
  },
  {
   "cell_type": "markdown",
   "id": "78b3e799-2648-4d85-8907-6d9d9fc8ccc1",
   "metadata": {},
   "source": [
    "## Change format of precurser_charge from [1 0 0 1 0] to [1, 0, 0, 1, 0]"
   ]
  },
  {
   "cell_type": "code",
   "execution_count": null,
   "id": "6290c992-9c7b-4c98-b9cd-4b7480a69c42",
   "metadata": {},
   "outputs": [],
   "source": [
    "train_val_HCD['intensities'] = train_val_HCD['intensities'].apply(lambda a: np.array2string(a, separator=', '))\n",
    "train_val_HCD['precursor_charge_onehot'] = train_val_HCD['precursor_charge_onehot'].apply(lambda a: np.array2string(a, separator=', '))\n",
    "\n",
    "test_HCD['intensities'] = test_HCD['intensities'].apply(lambda a: np.array2string(a, separator=', '))\n",
    "test_HCD['precursor_charge_onehot'] = test_HCD['precursor_charge_onehot'].apply(lambda a: np.array2string(a, separator=', '))"
   ]
  },
  {
   "cell_type": "code",
   "execution_count": null,
   "id": "9ee0ae4d-c7e4-45bb-9b86-12310ee8693e",
   "metadata": {},
   "outputs": [],
   "source": [
    "train_val_HCD"
   ]
  },
  {
   "cell_type": "markdown",
   "id": "efea5427-e586-452f-95c8-88e9fd21c353",
   "metadata": {},
   "source": [
    "## Write TEST and TRAIN_VAL to .csv file"
   ]
  },
  {
   "cell_type": "code",
   "execution_count": null,
   "id": "67067ed1-f2c6-4a51-b833-b8b0ffe738b5",
   "metadata": {},
   "outputs": [],
   "source": [
    "train_val_HCD"
   ]
  },
  {
   "cell_type": "code",
   "execution_count": null,
   "id": "db1662ae-7ad2-4557-91c8-728e354c1470",
   "metadata": {},
   "outputs": [],
   "source": [
    "train_val_HCD.to_csv('ptm/output/train_val_hcd.csv', encoding='utf-8', index=False)\n",
    "test_HCD.to_csv('ptm/output/test_hcd.csv', encoding='utf-8', index=False)"
   ]
  },
  {
   "cell_type": "markdown",
   "id": "902ba083-ae36-49de-b093-ad1035beb8b5",
   "metadata": {},
   "source": [
    "# Intensity Prediction"
   ]
  },
  {
   "cell_type": "code",
   "execution_count": 31,
   "id": "a172106d-a644-40b7-b068-ffc928ef7b1d",
   "metadata": {},
   "outputs": [
    {
     "name": "stderr",
     "output_type": "stream",
     "text": [
      "\u001b[34m\u001b[1mwandb\u001b[0m: Thanks for trying out the Report API!\n",
      "\u001b[34m\u001b[1mwandb\u001b[0m: For a tutorial, check out https://colab.research.google.com/drive/1CzyJx1nuOS4pdkXa2XPaRQyZdmFmLmXV\n",
      "\u001b[34m\u001b[1mwandb\u001b[0m: \n",
      "\u001b[34m\u001b[1mwandb\u001b[0m: Try out tab completion to see what's available.\n",
      "\u001b[34m\u001b[1mwandb\u001b[0m:   ∟ everything:    `wr.<tab>`\n",
      "\u001b[34m\u001b[1mwandb\u001b[0m:       ∟ panels:    `wr.panels.<tab>`\n",
      "\u001b[34m\u001b[1mwandb\u001b[0m:       ∟ blocks:    `wr.blocks.<tab>`\n",
      "\u001b[34m\u001b[1mwandb\u001b[0m:       ∟ helpers:   `wr.helpers.<tab>`\n",
      "\u001b[34m\u001b[1mwandb\u001b[0m:       ∟ templates: `wr.templates.<tab>`\n",
      "\u001b[34m\u001b[1mwandb\u001b[0m:       \n",
      "\u001b[34m\u001b[1mwandb\u001b[0m: For bugs/feature requests, please create an issue on github: https://github.com/wandb/wandb/issues\n"
     ]
    },
    {
     "name": "stdout",
     "output_type": "stream",
     "text": [
      "['META_DATA', 'constants', 'data', 'eval', 'layers', 'losses', 'models', 'pipelines', 'reports', 'utils']\n"
     ]
    }
   ],
   "source": [
    "import numpy as np\n",
    "import pandas as pd\n",
    "import dlomix\n",
    "from dlomix import constants, data, eval, layers, models, pipelines, reports, utils\n",
    "print([x for x in dir(dlomix) if not x.startswith(\"_\")])"
   ]
  },
  {
   "cell_type": "markdown",
   "id": "3d089eb6-6cce-4b57-a4ff-93b97803bb0a",
   "metadata": {},
   "source": [
    "## 0. Import and Initialize Weights and Biases"
   ]
  },
  {
   "cell_type": "code",
   "execution_count": 1,
   "id": "d19317e1-f3fa-4205-ac52-29fa1f7c6137",
   "metadata": {},
   "outputs": [],
   "source": [
    "import wandb\n",
    "from wandb.keras import WandbCallback"
   ]
  },
  {
   "cell_type": "code",
   "execution_count": 2,
   "id": "ce6adf6d-ca0c-411d-ba4d-46484e18a0b8",
   "metadata": {},
   "outputs": [],
   "source": [
    "# enter project name\n",
    "project_name = 'dlomix_intensity'"
   ]
  },
  {
   "cell_type": "markdown",
   "id": "485875ba-bbca-4f11-be71-49b150ccdc69",
   "metadata": {},
   "source": [
    "## 1. Load Data"
   ]
  },
  {
   "cell_type": "code",
   "execution_count": 3,
   "id": "5010ca2e-9f50-4688-a075-c63bcdba4775",
   "metadata": {},
   "outputs": [],
   "source": [
    "from dlomix.data import IntensityDataset"
   ]
  },
  {
   "cell_type": "code",
   "execution_count": 4,
   "id": "7cb6cb57-7dc7-41c5-ab1f-61d9a42c7496",
   "metadata": {},
   "outputs": [],
   "source": [
    "#TRAIN_DATAPATH = 'https://raw.githubusercontent.com/wilhelm-lab/dlomix-resources/tasks/intensity/example_datasets/Intensity/proteomeTools_train_val.csv'\n",
    "TRAIN_DATAPATH = 'D:\\\\Uni\\\\Masterarbeit\\\\dlomix\\\\ptm\\\\output\\\\train_val_hcd.csv'\n",
    "\n",
    "BATCH_SIZE = 64\n",
    "\n",
    "int_data = IntensityDataset(data_source=TRAIN_DATAPATH, seq_length=30, batch_size=BATCH_SIZE,\n",
    "                            collision_energy_col='collision_energy', val_ratio=0.2, test=False)"
   ]
  },
  {
   "cell_type": "code",
   "execution_count": null,
   "id": "4768ba36-b7a2-4ba7-9461-14fd562645ca",
   "metadata": {},
   "outputs": [],
   "source": [
    "\"Training examples\", BATCH_SIZE * len(int_data.train_data)"
   ]
  },
  {
   "cell_type": "code",
   "execution_count": null,
   "id": "7f417730-034b-42f2-af15-7c3d0b049891",
   "metadata": {},
   "outputs": [],
   "source": [
    "\"Validation examples\", BATCH_SIZE * len(int_data.val_data)"
   ]
  },
  {
   "cell_type": "markdown",
   "id": "69d75b6d-fe6b-404f-a062-ce7e42728d1b",
   "metadata": {},
   "source": [
    "### 1.1 Load weights from HDF5 file"
   ]
  },
  {
   "cell_type": "code",
   "execution_count": 59,
   "id": "cd017d14-fec1-48c7-be7d-35f9302256a5",
   "metadata": {},
   "outputs": [],
   "source": [
    "import h5py"
   ]
  },
  {
   "cell_type": "code",
   "execution_count": 60,
   "id": "b5b368f2-003a-4c83-a524-2ce3e58de917",
   "metadata": {},
   "outputs": [],
   "source": [
    "f = h5py.File('ptm/weights/weights_163_0.11385.hdf5', 'r+')"
   ]
  },
  {
   "cell_type": "code",
   "execution_count": 61,
   "id": "731331e5-4adb-4919-9acb-d086c0ea87c1",
   "metadata": {},
   "outputs": [
    {
     "name": "stdout",
     "output_type": "stream",
     "text": [
      "(23, 32)\n"
     ]
    },
    {
     "data": {
      "text/plain": [
       "array([[-1.21482657e-02, -1.65589547e-04,  2.12439969e-02,\n",
       "         3.18754017e-02, -4.14248481e-02,  3.20397951e-02,\n",
       "         2.74296105e-03,  1.45598641e-03, -3.54228169e-02,\n",
       "        -9.24826134e-03,  2.08272427e-01,  1.87835265e-02,\n",
       "         6.67113289e-02, -5.45682646e-02,  3.71077210e-02,\n",
       "         1.95011846e-03,  5.13596169e-04, -8.23312551e-02,\n",
       "         2.79431120e-02, -2.38665901e-02,  1.85046364e-02,\n",
       "         1.72093976e-03,  4.31428887e-02, -4.19865474e-02,\n",
       "        -3.72934788e-02, -2.45524086e-02, -1.23757534e-02,\n",
       "        -1.85872838e-02,  4.19065133e-02, -6.21134862e-02,\n",
       "         2.57181693e-02,  2.20089629e-02],\n",
       "       [-1.61757041e-02, -9.22288920e-04,  2.45429222e-02,\n",
       "        -4.87967581e-02,  1.10913478e-02,  2.60036271e-02,\n",
       "        -1.09062074e-02,  4.08430491e-03,  3.70002575e-02,\n",
       "         1.69252027e-02,  6.04478866e-02, -2.70478576e-02,\n",
       "        -3.31291393e-03,  1.03691155e-02, -2.65134834e-02,\n",
       "        -2.64446135e-04, -1.47339585e-03,  1.25516713e-01,\n",
       "        -2.95974649e-02, -9.09035951e-02, -2.60550040e-03,\n",
       "         2.05472652e-02,  4.45998553e-03,  2.00273022e-02,\n",
       "         5.06241694e-02,  3.66179273e-02, -2.43015997e-02,\n",
       "         9.04844329e-02, -5.62144369e-02, -7.17454450e-03,\n",
       "        -4.46466766e-02,  1.11543626e-01],\n",
       "       [-1.00899830e-01,  2.34756712e-02,  6.41652942e-02,\n",
       "        -4.60577644e-02,  5.38466424e-02, -7.47702494e-02,\n",
       "        -1.64267886e-02,  7.06963167e-02, -4.75677177e-02,\n",
       "        -1.27843440e-01,  1.81141328e-02,  3.50705907e-02,\n",
       "        -1.59574434e-01,  6.67601898e-02, -4.06007022e-02,\n",
       "         4.54591624e-02, -6.75252005e-02,  4.09626998e-02,\n",
       "         1.31121248e-01,  6.22095540e-02,  6.55705631e-02,\n",
       "         2.07291427e-03, -6.89990297e-02, -1.42656922e-01,\n",
       "         8.98968801e-03, -2.22658530e-01,  6.74316986e-03,\n",
       "        -8.71347412e-02, -4.35484834e-02,  8.83286446e-02,\n",
       "         8.83462001e-03, -1.40926316e-01],\n",
       "       [-5.48889413e-02,  3.99128068e-03,  1.25933485e-02,\n",
       "         7.94359818e-02, -1.14817105e-01,  1.67380691e-01,\n",
       "         1.85348152e-03,  6.99555851e-04, -3.19650993e-02,\n",
       "         5.74369542e-02, -1.19557016e-01, -4.08434868e-02,\n",
       "         7.63347745e-02,  9.07254219e-02, -6.74197637e-03,\n",
       "        -2.23300681e-02, -1.30631449e-02,  5.28819375e-02,\n",
       "         1.41139939e-01,  6.18044734e-02,  7.13794380e-02,\n",
       "        -6.61718752e-03, -1.76668167e-02,  6.81382492e-02,\n",
       "         1.36755789e-02, -6.67328238e-02,  4.45703918e-04,\n",
       "         2.47473925e-01,  5.10520823e-02, -2.09148452e-02,\n",
       "        -3.15922759e-02, -6.44052625e-02],\n",
       "       [-4.82951384e-03, -1.69831514e-02, -1.50741991e-02,\n",
       "        -2.93749776e-02,  6.27087653e-02,  1.43014118e-01,\n",
       "         9.14999656e-03,  4.03984683e-03,  2.06296492e-04,\n",
       "        -4.56089936e-02, -5.81594668e-02,  8.44878107e-02,\n",
       "        -2.39671487e-02,  3.12119704e-02, -3.58811729e-02,\n",
       "         7.99806137e-03, -8.45607370e-03, -9.93130822e-03,\n",
       "        -2.68403795e-02,  7.84342214e-02,  2.05635726e-02,\n",
       "        -1.14744005e-04, -7.21386671e-02,  1.23394942e-02,\n",
       "         1.80453621e-02, -1.90663729e-02, -3.71534862e-02,\n",
       "         1.18149072e-01,  3.58965471e-02, -5.39931580e-02,\n",
       "        -9.99569241e-03, -1.99079774e-02],\n",
       "       [ 4.62087058e-02,  7.16160797e-03, -3.06790620e-02,\n",
       "        -5.75505234e-02, -4.01261263e-03, -1.43814981e-01,\n",
       "        -1.65452268e-02, -7.69275764e-04,  8.89064837e-03,\n",
       "        -6.73103929e-02, -9.20352414e-02, -5.75169809e-02,\n",
       "         3.28901485e-02, -8.33024904e-02, -7.78545439e-03,\n",
       "        -1.47393439e-02,  1.35996165e-02,  9.41659287e-02,\n",
       "        -7.64558911e-02,  3.76874432e-02,  3.61049101e-02,\n",
       "         1.14517054e-02, -2.45051160e-02, -6.31746948e-02,\n",
       "        -4.57722209e-02, -8.85376558e-02, -2.68564988e-02,\n",
       "         7.92078897e-02,  3.58834229e-02,  2.15533786e-02,\n",
       "        -2.66610226e-03,  1.93632841e-02],\n",
       "       [-3.41432750e-01,  6.03985460e-03, -2.96440274e-02,\n",
       "         6.05160138e-03, -1.63348913e-02,  2.32854043e-03,\n",
       "         2.02187803e-03, -5.72867971e-03, -4.40500714e-02,\n",
       "         1.21800706e-01,  3.51592265e-02, -3.21073830e-02,\n",
       "         1.70594000e-03,  5.45903444e-02,  1.17335832e-02,\n",
       "         2.85422400e-04,  1.37671242e-02,  5.78557476e-02,\n",
       "        -8.89798328e-02, -4.84098457e-02, -6.04594611e-02,\n",
       "        -1.30855329e-02, -6.60716966e-02,  6.23564012e-02,\n",
       "        -9.43342596e-02, -2.45765783e-02,  5.43617159e-02,\n",
       "         5.29356860e-02, -3.04038581e-02, -4.72884998e-03,\n",
       "        -1.15824649e-02,  6.41241521e-02],\n",
       "       [ 1.35668337e-01, -4.96074045e-03, -1.10961318e-01,\n",
       "         8.24387446e-02, -9.70049351e-02, -4.81777824e-02,\n",
       "        -5.83747402e-03, -7.52655091e-03, -1.05803763e-03,\n",
       "         1.18194364e-01, -1.31897464e-01,  5.71045913e-02,\n",
       "        -1.46137968e-01, -4.25967723e-02,  2.82637160e-02,\n",
       "        -6.44789077e-03,  8.80839420e-04, -1.18181914e-01,\n",
       "         5.71934413e-03, -5.96661642e-02,  2.40912482e-01,\n",
       "        -8.45184177e-03, -1.35562271e-01,  7.27264136e-02,\n",
       "         8.08635205e-02, -7.28235692e-02, -4.76864763e-02,\n",
       "        -2.21120238e-01, -5.86076602e-02,  1.91527963e-01,\n",
       "        -3.64917051e-03,  4.83472459e-02],\n",
       "       [ 2.18715012e-01, -1.65886711e-02, -5.40492423e-02,\n",
       "         3.16089429e-02,  3.61466012e-03, -2.89431699e-02,\n",
       "        -2.08690483e-02,  5.63799450e-03, -1.97811574e-02,\n",
       "        -1.16763592e-01,  3.98477055e-02, -3.63905132e-02,\n",
       "        -2.49906313e-02,  7.62942135e-02, -4.57947403e-02,\n",
       "         4.00919002e-03,  1.55975092e-02,  5.46297505e-02,\n",
       "        -9.01208892e-02, -4.26410399e-02, -5.82008213e-02,\n",
       "        -1.85154602e-02,  4.48170342e-02, -1.37547832e-02,\n",
       "        -2.37429962e-02,  6.34446889e-02, -2.76708268e-02,\n",
       "         4.31607738e-02, -2.63656420e-03,  4.81125563e-02,\n",
       "        -1.25375402e-03, -2.12366860e-02],\n",
       "       [ 1.30664110e-01, -5.78783732e-03, -6.32774457e-02,\n",
       "         4.70508896e-02,  5.18716425e-02,  6.27781302e-02,\n",
       "        -2.19637882e-02,  1.03410389e-02,  9.01609510e-02,\n",
       "         1.95527360e-01, -1.97203428e-01,  4.64737602e-02,\n",
       "         1.77292153e-02,  1.51166627e-02,  8.92063510e-03,\n",
       "        -1.14367930e-02, -3.35146300e-03, -7.87613168e-02,\n",
       "         1.35484070e-01, -1.59640834e-02, -8.55372623e-02,\n",
       "        -2.88816897e-04, -9.25119221e-02, -1.29427120e-01,\n",
       "        -7.59177059e-02,  4.02257480e-02, -7.75379362e-03,\n",
       "        -2.12536871e-01, -4.60437834e-02,  7.35167265e-02,\n",
       "        -1.33190490e-02,  7.70777911e-02],\n",
       "       [ 1.51321873e-01,  1.14375586e-02,  2.62071397e-02,\n",
       "        -5.16717993e-02,  3.02077457e-03, -9.43653658e-02,\n",
       "        -4.87966323e-03, -6.52230717e-03, -3.75674739e-02,\n",
       "         5.24768652e-03, -2.53856461e-02,  3.60549167e-02,\n",
       "        -2.81173959e-02,  7.56215230e-02,  7.70326285e-03,\n",
       "        -6.88459165e-03,  4.38163057e-03,  3.84641066e-02,\n",
       "        -8.75543728e-02, -1.18901450e-02, -4.16217819e-02,\n",
       "        -1.01497490e-02,  4.92353328e-02,  7.17455707e-03,\n",
       "         2.57450971e-03, -7.39448797e-03,  1.11960135e-02,\n",
       "         8.31205398e-02, -2.33637722e-04,  7.06445379e-03,\n",
       "        -1.45586571e-02,  4.65711839e-02],\n",
       "       [ 8.06036964e-02,  1.62158366e-02, -2.06495225e-02,\n",
       "         7.57870600e-02, -6.57387637e-03, -1.08050108e-01,\n",
       "         1.00557441e-02, -3.00485566e-02, -3.23422961e-02,\n",
       "        -1.49418069e-02,  2.37051658e-02,  8.57214183e-02,\n",
       "        -5.70824966e-02, -1.18440397e-01,  6.61995709e-02,\n",
       "         2.94359494e-02,  4.17705020e-03,  1.31050438e-01,\n",
       "        -7.32194856e-02, -6.33230135e-02, -5.50403744e-02,\n",
       "         1.08257346e-02, -1.34709537e-01, -1.52890161e-01,\n",
       "         6.67028353e-02,  3.11664995e-02,  7.13944361e-02,\n",
       "         1.15818113e-01, -2.00022981e-02, -8.96817222e-02,\n",
       "        -1.81314975e-01, -1.80626005e-01],\n",
       "       [-9.33074877e-02, -1.71346571e-02,  3.56301330e-02,\n",
       "        -2.86444090e-02, -7.35841319e-02,  3.44201503e-03,\n",
       "         5.85706299e-03, -1.95405819e-02, -1.54989809e-02,\n",
       "         8.14462304e-02, -8.25623497e-02, -9.35483202e-02,\n",
       "        -2.41651490e-01, -8.12547207e-02, -4.93997894e-02,\n",
       "         1.14343865e-02, -2.27393415e-02, -9.40930322e-02,\n",
       "         6.33526742e-02,  9.94543582e-02, -8.79874639e-03,\n",
       "        -1.02879405e-02,  5.12432493e-02, -2.64804661e-02,\n",
       "        -2.96549518e-02, -6.69639418e-03, -7.46278837e-02,\n",
       "         1.05811834e-01, -4.53588516e-02, -2.08026879e-02,\n",
       "        -3.45521681e-02, -7.63189197e-02],\n",
       "       [-1.04776978e-01, -7.07642129e-03, -1.95689518e-02,\n",
       "         5.31937834e-03, -7.58288726e-02, -1.31194159e-01,\n",
       "         4.93807858e-03,  9.76646878e-03, -1.50509626e-02,\n",
       "        -1.61640823e-01, -1.37045190e-01,  1.74878035e-02,\n",
       "        -1.16001796e-02, -1.17470138e-02,  1.71054602e-02,\n",
       "        -2.49474915e-03, -6.86955405e-03,  8.16577747e-02,\n",
       "         3.58026884e-02,  4.11370536e-03, -2.48241760e-02,\n",
       "        -1.63170369e-03,  4.22423966e-02,  6.13245666e-02,\n",
       "         7.44311437e-02,  1.32188886e-01,  9.86187346e-03,\n",
       "        -2.30411038e-01,  4.63757962e-02, -4.59366962e-02,\n",
       "         1.94802962e-03, -1.11018645e-03],\n",
       "       [ 2.23728716e-02,  9.17356834e-03,  1.24108857e-02,\n",
       "         6.48420751e-02,  2.71208286e-02,  4.07389291e-02,\n",
       "         1.08053153e-02,  8.80009320e-04,  1.14208311e-01,\n",
       "        -4.76224497e-02,  2.86519760e-03,  1.85416080e-02,\n",
       "        -1.44603536e-01,  2.49547604e-02, -5.52025884e-02,\n",
       "        -2.73689162e-03,  8.78298003e-03, -5.36274463e-02,\n",
       "        -6.24297969e-02,  2.00864345e-01,  1.66552961e-02,\n",
       "         9.73958895e-03,  4.53947186e-02, -4.35906574e-02,\n",
       "         6.63257167e-02, -9.77192447e-02,  4.13187407e-02,\n",
       "        -5.92989512e-02, -6.69348836e-02, -4.01344858e-02,\n",
       "        -4.46234690e-03, -3.47815268e-02],\n",
       "       [ 5.74639589e-02,  3.65794520e-03, -9.86222737e-03,\n",
       "        -1.05486505e-01,  1.46382272e-01,  1.18995771e-01,\n",
       "        -1.88514013e-02,  2.71569681e-03, -2.58505042e-03,\n",
       "         3.12383592e-01,  2.17084363e-02, -9.79315303e-03,\n",
       "         1.00693233e-01, -4.82451133e-02,  3.45311649e-02,\n",
       "        -1.92650110e-02, -2.76493258e-03,  1.04489857e-02,\n",
       "         3.44188102e-02,  1.40605956e-01,  1.36852071e-01,\n",
       "        -2.46206787e-03, -2.22842488e-02,  7.46624265e-03,\n",
       "        -1.88565664e-02,  1.32500976e-01,  2.99686715e-02,\n",
       "        -2.56821215e-01, -3.67768221e-02,  1.86312050e-01,\n",
       "        -5.74332755e-03, -2.12442905e-01],\n",
       "       [-1.65085450e-01,  2.42785527e-03, -3.28440405e-02,\n",
       "        -1.90389492e-02,  6.38798773e-02, -2.95667164e-02,\n",
       "         9.26216505e-03, -4.31453157e-03,  4.44459319e-02,\n",
       "        -8.15950893e-03, -1.76652316e-02, -2.47038845e-02,\n",
       "         7.50919664e-03,  3.08357086e-02,  7.52539188e-02,\n",
       "         9.08794906e-03,  3.02851060e-03, -3.30697373e-02,\n",
       "         2.18595490e-02, -7.36333281e-02, -4.59518209e-02,\n",
       "         6.46814005e-04,  2.92517021e-02, -1.14444317e-02,\n",
       "         5.39421663e-02, -1.33884815e-03, -1.54966954e-02,\n",
       "         1.31797746e-01, -3.86647088e-03,  8.50940123e-02,\n",
       "        -8.10037740e-03, -3.51347513e-02],\n",
       "       [-5.32341860e-02, -1.05883712e-02,  3.33436802e-02,\n",
       "        -4.36075330e-02, -3.84179465e-02, -4.85676639e-02,\n",
       "        -7.10643269e-03, -1.56627074e-02,  5.65956682e-02,\n",
       "        -5.37705645e-02, -2.14990787e-02,  2.39285156e-02,\n",
       "         7.61444420e-02, -2.26559043e-02, -6.53430149e-02,\n",
       "         2.15613144e-03, -1.07763801e-02, -1.09517731e-01,\n",
       "        -2.11383514e-02, -4.60761376e-02, -7.34099671e-02,\n",
       "        -2.13295640e-03, -7.47040985e-03, -4.27586026e-03,\n",
       "         8.61852393e-02, -2.72406894e-03,  1.80701222e-02,\n",
       "         1.10003427e-01, -6.42794296e-02,  1.02184251e-01,\n",
       "         3.81908417e-02, -6.92690760e-02],\n",
       "       [ 1.77288696e-01,  1.13967853e-02,  5.20598609e-03,\n",
       "         1.08508384e-02,  9.95374471e-02, -4.89676073e-02,\n",
       "         4.01469134e-02, -1.21221002e-02, -1.69034749e-02,\n",
       "        -7.94254243e-02,  5.05746119e-02, -1.13923810e-01,\n",
       "        -1.81221049e-02,  7.18251150e-03, -1.33115184e-02,\n",
       "         1.38830952e-02, -1.70331113e-02,  1.05800293e-02,\n",
       "         9.16751625e-04, -1.36316465e-02, -3.93524468e-02,\n",
       "        -8.57495237e-03, -7.97974765e-02,  4.96607423e-02,\n",
       "         5.53369671e-02,  6.55799657e-02,  5.31109013e-02,\n",
       "         7.75545537e-02, -2.06653401e-02, -3.56988572e-02,\n",
       "         5.27406111e-02,  6.69996589e-02],\n",
       "       [ 1.12046599e-01,  1.80785824e-02,  2.16874443e-02,\n",
       "        -6.62485585e-02, -3.87068242e-02, -2.47908503e-01,\n",
       "         5.85210184e-03,  9.50440663e-05,  2.31138676e-01,\n",
       "        -9.92923379e-02, -3.13956998e-02,  1.92039702e-02,\n",
       "        -5.71947284e-02,  6.24767914e-02, -9.38341916e-02,\n",
       "         1.68853533e-02,  1.23158498e-02, -4.56412658e-02,\n",
       "        -2.10794937e-02, -1.04471575e-02,  1.61772460e-01,\n",
       "         1.70449074e-03, -4.49806862e-02,  1.92855075e-02,\n",
       "        -1.92671478e-01, -4.91937157e-03,  5.02072796e-02,\n",
       "         7.58812716e-03,  1.04915574e-01, -6.67177439e-02,\n",
       "        -5.15016429e-02, -7.41019174e-02],\n",
       "       [ 5.89791425e-02,  1.14743887e-02,  3.05807665e-02,\n",
       "        -1.36051944e-03,  7.04922453e-02, -8.49019140e-02,\n",
       "         5.32197626e-03, -3.92000098e-03,  3.42077799e-02,\n",
       "        -1.24400862e-01, -6.39437810e-02,  1.80460177e-02,\n",
       "        -2.15226188e-02, -1.25324368e-01, -2.48752795e-02,\n",
       "         1.49570471e-02,  1.02157118e-02,  8.01582932e-02,\n",
       "        -6.60352991e-04, -7.13951280e-03,  4.60347207e-03,\n",
       "        -1.10056123e-03,  1.34874480e-02,  6.48841783e-02,\n",
       "        -1.24608651e-01, -7.72540271e-02,  1.40584847e-02,\n",
       "         6.38342351e-02,  1.91979147e-02,  6.66493624e-02,\n",
       "        -6.18805960e-02,  8.37058946e-03],\n",
       "       [ 3.80530395e-02,  1.07461866e-02,  2.43332479e-02,\n",
       "        -1.00727556e-02,  1.14677958e-01,  8.22897553e-02,\n",
       "        -1.59268472e-02, -7.31288455e-03,  2.01397687e-02,\n",
       "         4.82158698e-02, -1.46074191e-01, -2.54091974e-02,\n",
       "        -1.66527122e-01, -2.66452767e-02, -8.88595954e-02,\n",
       "        -9.31386743e-03,  3.14058358e-04, -1.72987357e-02,\n",
       "        -3.51417847e-02, -1.37518793e-01,  2.16550268e-02,\n",
       "         5.34369284e-03,  4.95630242e-02,  4.06088028e-03,\n",
       "         8.94508138e-02, -2.75780439e-01, -1.03442175e-02,\n",
       "        -1.53302804e-01,  7.00483518e-03, -1.91283092e-01,\n",
       "         6.56916425e-02, -2.74333149e-01],\n",
       "       [-1.59111318e-02, -2.54765591e-02,  4.16163419e-02,\n",
       "        -3.12722053e-02, -2.94006496e-02, -2.56744877e-02,\n",
       "         4.14964037e-02,  7.82839619e-03, -3.42765306e-02,\n",
       "        -4.89568691e-02, -1.33496570e-02,  4.19411143e-02,\n",
       "         1.37612665e-02,  4.34872792e-02,  4.21577624e-02,\n",
       "        -2.62691419e-04,  3.23921182e-02,  3.65623521e-02,\n",
       "        -1.26115631e-02,  1.72364174e-02, -7.69925940e-03,\n",
       "         5.65088172e-04,  4.82982340e-02,  4.33551229e-02,\n",
       "        -4.83465571e-02,  4.79514250e-02,  3.50102703e-02,\n",
       "         3.96407430e-02, -1.06530696e-02,  3.32470486e-02,\n",
       "         2.34800510e-03,  2.96285494e-02]])"
      ]
     },
     "execution_count": 61,
     "metadata": {},
     "output_type": "execute_result"
    }
   ],
   "source": [
    "group = f['model_weights']\n",
    "data_file = group['embedding']\n",
    "for group in data_file.keys() :\n",
    "    for dset in data_file[group].keys():      \n",
    "        arr = data_file[group][dset][:]\n",
    "        print(arr.shape)\n",
    "arr"
   ]
  },
  {
   "cell_type": "code",
   "execution_count": 62,
   "id": "3ffdfd6a-c370-4fe2-ba8d-629fcf597f9d",
   "metadata": {},
   "outputs": [],
   "source": [
    "f.close()"
   ]
  },
  {
   "cell_type": "markdown",
   "id": "905be94c-7f81-4952-8fa3-50fd47421cc0",
   "metadata": {},
   "source": [
    "## 2. Model"
   ]
  },
  {
   "cell_type": "code",
   "execution_count": 9,
   "id": "4ede42ae-422b-455a-a7e1-cf2f6f5e2330",
   "metadata": {},
   "outputs": [],
   "source": [
    "from dlomix.models import PrositIntensityPredictor\n",
    "import keras\n",
    "from keras import initializers\n",
    "from keras.layers import Embedding"
   ]
  },
  {
   "cell_type": "code",
   "execution_count": 10,
   "id": "8cc75994-29c5-449c-813b-25bd83fee200",
   "metadata": {},
   "outputs": [],
   "source": [
    "model = PrositIntensityPredictor(seq_length=30)"
   ]
  },
  {
   "cell_type": "code",
   "execution_count": null,
   "id": "875d6dd0-4d72-4119-9221-9f97347fdb4f",
   "metadata": {},
   "outputs": [],
   "source": [
    "save_path = \"./output/rtmodel.hdf5\"\n",
    "#model.build(input_shape = (22,16,30))\n",
    "model.load_weights('ptm/weights/weights_163_0.11385.hdf5')"
   ]
  },
  {
   "cell_type": "code",
   "execution_count": 64,
   "id": "b3c27bd4-1362-4c38-a072-a029a2a82192",
   "metadata": {},
   "outputs": [
    {
     "data": {
      "text/plain": [
       "(24, 16)"
      ]
     },
     "execution_count": 64,
     "metadata": {},
     "output_type": "execute_result"
    }
   ],
   "source": [
    "rand_uni_weights = np.random.uniform(-1, 1, size=(24, 16))\n",
    "rand_uni_weights.shape"
   ]
  },
  {
   "cell_type": "code",
   "execution_count": null,
   "id": "2002bfd8-7739-4a3a-8331-34c4b4d01bd6",
   "metadata": {},
   "outputs": [],
   "source": [
    "embedding_layer = Embedding(\n",
    "    24,\n",
    "    16,\n",
    "    trainable=True,\n",
    ")\n",
    "embedding_layer.build((1,))\n",
    "embedding_layer.set_weights([rand_uni_weights])"
   ]
  },
  {
   "cell_type": "code",
   "execution_count": null,
   "id": "77193a52-535c-45b2-a05c-06eaf057a5cf",
   "metadata": {},
   "outputs": [],
   "source": [
    "model.emdedding = embedding_layer"
   ]
  },
  {
   "cell_type": "code",
   "execution_count": null,
   "id": "314ce0e4-d9ac-4980-9081-80e754b252a6",
   "metadata": {},
   "outputs": [],
   "source": [
    "#model.layers[1] = embedding_layer"
   ]
  },
  {
   "cell_type": "code",
   "execution_count": null,
   "id": "27010487-9ede-4414-81c4-8f00bd23896b",
   "metadata": {},
   "outputs": [],
   "source": [
    "model.layers[8].get_weights()[0]"
   ]
  },
  {
   "cell_type": "code",
   "execution_count": null,
   "id": "c4b16f8f-2531-4fb4-9b53-791ddf3849d1",
   "metadata": {},
   "outputs": [],
   "source": [
    "for layer in model.layers:\n",
    "    print(layer.name)"
   ]
  },
  {
   "cell_type": "markdown",
   "id": "7fed7552-7742-4351-9844-b2f238705058",
   "metadata": {},
   "source": [
    "### 3.2 Create random uniform weight matrix"
   ]
  },
  {
   "cell_type": "code",
   "execution_count": null,
   "id": "a7644737-df16-429c-b95a-629da15d47a9",
   "metadata": {},
   "outputs": [],
   "source": [
    "rand_uni_weights = np.random.uniform(-1, 1, size=(24, 16))\n",
    "rand_uni_weights.shape"
   ]
  },
  {
   "cell_type": "code",
   "execution_count": null,
   "id": "b395a233-2f39-400c-8ce5-6ba042850d61",
   "metadata": {},
   "outputs": [],
   "source": [
    "rand_uni_weights"
   ]
  },
  {
   "cell_type": "code",
   "execution_count": null,
   "id": "2a7f9034-86cd-4648-a9b4-7ea79a5cf875",
   "metadata": {},
   "outputs": [],
   "source": [
    "model.layers[1].set_weights([rand_uni_weights])    "
   ]
  },
  {
   "cell_type": "code",
   "execution_count": null,
   "id": "a5c201ba-9fd9-4363-a3d7-f8c73d529adb",
   "metadata": {},
   "outputs": [],
   "source": [
    "model.layers[1].get_weights()[0]"
   ]
  },
  {
   "cell_type": "code",
   "execution_count": null,
   "id": "39ec3f89-fa04-4f68-a346-c3d3f0ae1c70",
   "metadata": {},
   "outputs": [],
   "source": [
    "for layer in model.layers:\n",
    "    print(layer.name, layer.inbound_nodes, layer.outbound_nodes)"
   ]
  },
  {
   "cell_type": "markdown",
   "id": "2539ee0a-cc16-48cd-9643-1538ddcc02d8",
   "metadata": {},
   "source": [
    "### 3.3 assign weight matrix to embedding layer"
   ]
  },
  {
   "cell_type": "code",
   "execution_count": 65,
   "id": "f19d8f35-48a6-4ce8-8778-2f1df0f64b9a",
   "metadata": {},
   "outputs": [
    {
     "ename": "ValueError",
     "evalue": "Weights for model 'sequential' have not yet been created. Weights are created when the model is first called on inputs or `build()` is called with an `input_shape`.",
     "output_type": "error",
     "traceback": [
      "\u001b[1;31m---------------------------------------------------------------------------\u001b[0m",
      "\u001b[1;31mValueError\u001b[0m                                Traceback (most recent call last)",
      "Cell \u001b[1;32mIn[65], line 1\u001b[0m\n\u001b[1;32m----> 1\u001b[0m \u001b[43mmodel\u001b[49m\u001b[38;5;241;43m.\u001b[39;49m\u001b[43mset_weights\u001b[49m\u001b[43m(\u001b[49m\u001b[43m[\u001b[49m\u001b[43mrand_uni_weights\u001b[49m\u001b[43m]\u001b[49m\u001b[43m)\u001b[49m\n",
      "File \u001b[1;32m~\\AppData\\Local\\Programs\\Python\\Python310\\lib\\site-packages\\keras\\src\\engine\\base_layer.py:1797\u001b[0m, in \u001b[0;36mLayer.set_weights\u001b[1;34m(self, weights)\u001b[0m\n\u001b[0;32m   1753\u001b[0m \u001b[38;5;28;01mdef\u001b[39;00m \u001b[38;5;21mset_weights\u001b[39m(\u001b[38;5;28mself\u001b[39m, weights):\n\u001b[0;32m   1754\u001b[0m \u001b[38;5;250m    \u001b[39m\u001b[38;5;124;03m\"\"\"Sets the weights of the layer, from NumPy arrays.\u001b[39;00m\n\u001b[0;32m   1755\u001b[0m \n\u001b[0;32m   1756\u001b[0m \u001b[38;5;124;03m    The weights of a layer represent the state of the layer. This function\u001b[39;00m\n\u001b[1;32m   (...)\u001b[0m\n\u001b[0;32m   1795\u001b[0m \u001b[38;5;124;03m        layer's specifications.\u001b[39;00m\n\u001b[0;32m   1796\u001b[0m \u001b[38;5;124;03m    \"\"\"\u001b[39;00m\n\u001b[1;32m-> 1797\u001b[0m     params \u001b[38;5;241m=\u001b[39m \u001b[38;5;28;43mself\u001b[39;49m\u001b[38;5;241;43m.\u001b[39;49m\u001b[43mweights\u001b[49m\n\u001b[0;32m   1799\u001b[0m     expected_num_weights \u001b[38;5;241m=\u001b[39m \u001b[38;5;241m0\u001b[39m\n\u001b[0;32m   1800\u001b[0m     \u001b[38;5;28;01mfor\u001b[39;00m param \u001b[38;5;129;01min\u001b[39;00m params:\n",
      "File \u001b[1;32m~\\AppData\\Local\\Programs\\Python\\Python310\\lib\\site-packages\\keras\\src\\engine\\training.py:3351\u001b[0m, in \u001b[0;36mModel.weights\u001b[1;34m(self)\u001b[0m\n\u001b[0;32m   3341\u001b[0m \u001b[38;5;129m@property\u001b[39m\n\u001b[0;32m   3342\u001b[0m \u001b[38;5;28;01mdef\u001b[39;00m \u001b[38;5;21mweights\u001b[39m(\u001b[38;5;28mself\u001b[39m):\n\u001b[0;32m   3343\u001b[0m \u001b[38;5;250m    \u001b[39m\u001b[38;5;124;03m\"\"\"Returns the list of all layer variables/weights.\u001b[39;00m\n\u001b[0;32m   3344\u001b[0m \n\u001b[0;32m   3345\u001b[0m \u001b[38;5;124;03m    Note: This will not track the weights of nested `tf.Modules` that are\u001b[39;00m\n\u001b[1;32m   (...)\u001b[0m\n\u001b[0;32m   3349\u001b[0m \u001b[38;5;124;03m      A list of variables.\u001b[39;00m\n\u001b[0;32m   3350\u001b[0m \u001b[38;5;124;03m    \"\"\"\u001b[39;00m\n\u001b[1;32m-> 3351\u001b[0m     \u001b[38;5;28;01mreturn\u001b[39;00m \u001b[38;5;28mself\u001b[39m\u001b[38;5;241m.\u001b[39m_dedup_weights(\u001b[38;5;28;43mself\u001b[39;49m\u001b[38;5;241;43m.\u001b[39;49m\u001b[43m_undeduplicated_weights\u001b[49m)\n",
      "File \u001b[1;32m~\\AppData\\Local\\Programs\\Python\\Python310\\lib\\site-packages\\keras\\src\\engine\\training.py:3359\u001b[0m, in \u001b[0;36mModel._undeduplicated_weights\u001b[1;34m(self)\u001b[0m\n\u001b[0;32m   3357\u001b[0m weights \u001b[38;5;241m=\u001b[39m []\n\u001b[0;32m   3358\u001b[0m \u001b[38;5;28;01mfor\u001b[39;00m layer \u001b[38;5;129;01min\u001b[39;00m \u001b[38;5;28mself\u001b[39m\u001b[38;5;241m.\u001b[39m_self_tracked_trackables:\n\u001b[1;32m-> 3359\u001b[0m     weights \u001b[38;5;241m+\u001b[39m\u001b[38;5;241m=\u001b[39m \u001b[43mlayer\u001b[49m\u001b[38;5;241;43m.\u001b[39;49m\u001b[43mvariables\u001b[49m\n\u001b[0;32m   3360\u001b[0m weights \u001b[38;5;241m+\u001b[39m\u001b[38;5;241m=\u001b[39m \u001b[38;5;28mself\u001b[39m\u001b[38;5;241m.\u001b[39m_trainable_weights \u001b[38;5;241m+\u001b[39m \u001b[38;5;28mself\u001b[39m\u001b[38;5;241m.\u001b[39m_non_trainable_weights\n\u001b[0;32m   3361\u001b[0m \u001b[38;5;28;01mreturn\u001b[39;00m weights\n",
      "File \u001b[1;32m~\\AppData\\Local\\Programs\\Python\\Python310\\lib\\site-packages\\keras\\src\\engine\\base_layer.py:2276\u001b[0m, in \u001b[0;36mLayer.variables\u001b[1;34m(self)\u001b[0m\n\u001b[0;32m   2263\u001b[0m \u001b[38;5;129m@property\u001b[39m\n\u001b[0;32m   2264\u001b[0m \u001b[38;5;129m@doc_controls\u001b[39m\u001b[38;5;241m.\u001b[39mdo_not_generate_docs\n\u001b[0;32m   2265\u001b[0m \u001b[38;5;28;01mdef\u001b[39;00m \u001b[38;5;21mvariables\u001b[39m(\u001b[38;5;28mself\u001b[39m):\n\u001b[0;32m   2266\u001b[0m \u001b[38;5;250m    \u001b[39m\u001b[38;5;124;03m\"\"\"Returns the list of all layer variables/weights.\u001b[39;00m\n\u001b[0;32m   2267\u001b[0m \n\u001b[0;32m   2268\u001b[0m \u001b[38;5;124;03m    Alias of `self.weights`.\u001b[39;00m\n\u001b[1;32m   (...)\u001b[0m\n\u001b[0;32m   2274\u001b[0m \u001b[38;5;124;03m      A list of variables.\u001b[39;00m\n\u001b[0;32m   2275\u001b[0m \u001b[38;5;124;03m    \"\"\"\u001b[39;00m\n\u001b[1;32m-> 2276\u001b[0m     \u001b[38;5;28;01mreturn\u001b[39;00m \u001b[38;5;28;43mself\u001b[39;49m\u001b[38;5;241;43m.\u001b[39;49m\u001b[43mweights\u001b[49m\n",
      "File \u001b[1;32m~\\AppData\\Local\\Programs\\Python\\Python310\\lib\\site-packages\\keras\\src\\engine\\training.py:3351\u001b[0m, in \u001b[0;36mModel.weights\u001b[1;34m(self)\u001b[0m\n\u001b[0;32m   3341\u001b[0m \u001b[38;5;129m@property\u001b[39m\n\u001b[0;32m   3342\u001b[0m \u001b[38;5;28;01mdef\u001b[39;00m \u001b[38;5;21mweights\u001b[39m(\u001b[38;5;28mself\u001b[39m):\n\u001b[0;32m   3343\u001b[0m \u001b[38;5;250m    \u001b[39m\u001b[38;5;124;03m\"\"\"Returns the list of all layer variables/weights.\u001b[39;00m\n\u001b[0;32m   3344\u001b[0m \n\u001b[0;32m   3345\u001b[0m \u001b[38;5;124;03m    Note: This will not track the weights of nested `tf.Modules` that are\u001b[39;00m\n\u001b[1;32m   (...)\u001b[0m\n\u001b[0;32m   3349\u001b[0m \u001b[38;5;124;03m      A list of variables.\u001b[39;00m\n\u001b[0;32m   3350\u001b[0m \u001b[38;5;124;03m    \"\"\"\u001b[39;00m\n\u001b[1;32m-> 3351\u001b[0m     \u001b[38;5;28;01mreturn\u001b[39;00m \u001b[38;5;28mself\u001b[39m\u001b[38;5;241m.\u001b[39m_dedup_weights(\u001b[38;5;28;43mself\u001b[39;49m\u001b[38;5;241;43m.\u001b[39;49m\u001b[43m_undeduplicated_weights\u001b[49m)\n",
      "File \u001b[1;32m~\\AppData\\Local\\Programs\\Python\\Python310\\lib\\site-packages\\keras\\src\\engine\\training.py:3356\u001b[0m, in \u001b[0;36mModel._undeduplicated_weights\u001b[1;34m(self)\u001b[0m\n\u001b[0;32m   3353\u001b[0m \u001b[38;5;129m@property\u001b[39m\n\u001b[0;32m   3354\u001b[0m \u001b[38;5;28;01mdef\u001b[39;00m \u001b[38;5;21m_undeduplicated_weights\u001b[39m(\u001b[38;5;28mself\u001b[39m):\n\u001b[0;32m   3355\u001b[0m \u001b[38;5;250m    \u001b[39m\u001b[38;5;124;03m\"\"\"Returns the undeduplicated list of all layer variables/weights.\"\"\"\u001b[39;00m\n\u001b[1;32m-> 3356\u001b[0m     \u001b[38;5;28;43mself\u001b[39;49m\u001b[38;5;241;43m.\u001b[39;49m\u001b[43m_assert_weights_created\u001b[49m\u001b[43m(\u001b[49m\u001b[43m)\u001b[49m\n\u001b[0;32m   3357\u001b[0m     weights \u001b[38;5;241m=\u001b[39m []\n\u001b[0;32m   3358\u001b[0m     \u001b[38;5;28;01mfor\u001b[39;00m layer \u001b[38;5;129;01min\u001b[39;00m \u001b[38;5;28mself\u001b[39m\u001b[38;5;241m.\u001b[39m_self_tracked_trackables:\n",
      "File \u001b[1;32m~\\AppData\\Local\\Programs\\Python\\Python310\\lib\\site-packages\\keras\\src\\engine\\sequential.py:516\u001b[0m, in \u001b[0;36mSequential._assert_weights_created\u001b[1;34m(self)\u001b[0m\n\u001b[0;32m    513\u001b[0m     \u001b[38;5;28;01mreturn\u001b[39;00m\n\u001b[0;32m    514\u001b[0m \u001b[38;5;66;03m# When the graph has not been initialized, use the Model's\u001b[39;00m\n\u001b[0;32m    515\u001b[0m \u001b[38;5;66;03m# implementation to to check if the weights has been created.\u001b[39;00m\n\u001b[1;32m--> 516\u001b[0m \u001b[38;5;28;43msuper\u001b[39;49m\u001b[43m(\u001b[49m\u001b[43mfunctional\u001b[49m\u001b[38;5;241;43m.\u001b[39;49m\u001b[43mFunctional\u001b[49m\u001b[43m,\u001b[49m\u001b[43m \u001b[49m\u001b[38;5;28;43mself\u001b[39;49m\u001b[43m)\u001b[49m\u001b[38;5;241;43m.\u001b[39;49m\u001b[43m_assert_weights_created\u001b[49m\u001b[43m(\u001b[49m\u001b[43m)\u001b[49m\n",
      "File \u001b[1;32m~\\AppData\\Local\\Programs\\Python\\Python310\\lib\\site-packages\\keras\\src\\engine\\training.py:3730\u001b[0m, in \u001b[0;36mModel._assert_weights_created\u001b[1;34m(self)\u001b[0m\n\u001b[0;32m   3719\u001b[0m     \u001b[38;5;28;01mreturn\u001b[39;00m\n\u001b[0;32m   3721\u001b[0m \u001b[38;5;28;01mif\u001b[39;00m (\n\u001b[0;32m   3722\u001b[0m     \u001b[38;5;124m\"\u001b[39m\u001b[38;5;124mbuild\u001b[39m\u001b[38;5;124m\"\u001b[39m \u001b[38;5;129;01min\u001b[39;00m \u001b[38;5;28mself\u001b[39m\u001b[38;5;241m.\u001b[39m\u001b[38;5;18m__class__\u001b[39m\u001b[38;5;241m.\u001b[39m\u001b[38;5;18m__dict__\u001b[39m\n\u001b[0;32m   3723\u001b[0m     \u001b[38;5;129;01mand\u001b[39;00m \u001b[38;5;28mself\u001b[39m\u001b[38;5;241m.\u001b[39m\u001b[38;5;18m__class__\u001b[39m \u001b[38;5;241m!=\u001b[39m Model\n\u001b[1;32m   (...)\u001b[0m\n\u001b[0;32m   3728\u001b[0m     \u001b[38;5;66;03m# Also make sure to exclude Model class itself which has build()\u001b[39;00m\n\u001b[0;32m   3729\u001b[0m     \u001b[38;5;66;03m# defined.\u001b[39;00m\n\u001b[1;32m-> 3730\u001b[0m     \u001b[38;5;28;01mraise\u001b[39;00m \u001b[38;5;167;01mValueError\u001b[39;00m(\n\u001b[0;32m   3731\u001b[0m         \u001b[38;5;124mf\u001b[39m\u001b[38;5;124m\"\u001b[39m\u001b[38;5;124mWeights for model \u001b[39m\u001b[38;5;124m'\u001b[39m\u001b[38;5;132;01m{\u001b[39;00m\u001b[38;5;28mself\u001b[39m\u001b[38;5;241m.\u001b[39mname\u001b[38;5;132;01m}\u001b[39;00m\u001b[38;5;124m'\u001b[39m\u001b[38;5;124m have not yet been \u001b[39m\u001b[38;5;124m\"\u001b[39m\n\u001b[0;32m   3732\u001b[0m         \u001b[38;5;124m\"\u001b[39m\u001b[38;5;124mcreated. \u001b[39m\u001b[38;5;124m\"\u001b[39m\n\u001b[0;32m   3733\u001b[0m         \u001b[38;5;124m\"\u001b[39m\u001b[38;5;124mWeights are created when the model is first called on \u001b[39m\u001b[38;5;124m\"\u001b[39m\n\u001b[0;32m   3734\u001b[0m         \u001b[38;5;124m\"\u001b[39m\u001b[38;5;124minputs or `build()` is called with an `input_shape`.\u001b[39m\u001b[38;5;124m\"\u001b[39m\n\u001b[0;32m   3735\u001b[0m     )\n",
      "\u001b[1;31mValueError\u001b[0m: Weights for model 'sequential' have not yet been created. Weights are created when the model is first called on inputs or `build()` is called with an `input_shape`."
     ]
    }
   ],
   "source": [
    "model.set_weights([rand_uni_weights])"
   ]
  },
  {
   "cell_type": "markdown",
   "id": "dbbffce3-fcb0-4ccd-bbda-7c3054f2ff45",
   "metadata": {},
   "source": [
    "## 3. Training"
   ]
  },
  {
   "cell_type": "code",
   "execution_count": null,
   "id": "24c0a0ee-a7ff-4a48-916d-2eaad4bfdd54",
   "metadata": {},
   "outputs": [],
   "source": [
    "import tensorflow as tf\n",
    "from dlomix.losses import masked_spectral_distance, masked_pearson_correlation_distance\n",
    "tf.get_logger().setLevel('ERROR')"
   ]
  },
  {
   "cell_type": "code",
   "execution_count": null,
   "id": "1d701053-d6ac-4ed1-ae68-c35feb57eacf",
   "metadata": {},
   "outputs": [],
   "source": [
    "# create the optimizer object\n",
    "optimizer = tf.keras.optimizers.Adam(learning_rate=0.001)\n",
    "\n",
    "# compile the model  with the optimizer and the metrics we want to use, we can add our custom timedelta metric\n",
    "model.compile(optimizer=optimizer,\n",
    "              loss=masked_spectral_distance,\n",
    "              metrics=['mse',masked_pearson_correlation_distance])"
   ]
  },
  {
   "cell_type": "markdown",
   "id": "b9b5e0ee-f4ac-4a33-b253-dfcba6d10326",
   "metadata": {},
   "source": [
    "### 3.1 train model from scratch"
   ]
  },
  {
   "cell_type": "code",
   "execution_count": null,
   "id": "a890a028-7f42-44f3-9a9e-f74e6aa6ad97",
   "metadata": {},
   "outputs": [],
   "source": [
    "wandb.init(project=project_name, name='walktrough')\n",
    "history = model.fit(int_data.train_data,\n",
    "                    validation_data=int_data.val_data,\n",
    "                    epochs=2,callbacks=[WandbCallback(save_model=False)])"
   ]
  },
  {
   "cell_type": "code",
   "execution_count": null,
   "id": "ead26f0c-6d92-48c4-b740-ef5c689fbfbb",
   "metadata": {},
   "outputs": [],
   "source": [
    "# Mark the run as finished\n",
    "wandb.finish()"
   ]
  },
  {
   "cell_type": "markdown",
   "id": "bb8f3835-d5df-457b-8fc1-79bd972791ba",
   "metadata": {},
   "source": [
    "### 3.4 save model"
   ]
  },
  {
   "cell_type": "code",
   "execution_count": null,
   "id": "9e1e41e5-792a-40a6-8ea2-5e4292a165cf",
   "metadata": {},
   "outputs": [],
   "source": [
    "save_path = \"./output/rtmodel.hdf5\"\n",
    "model.save_weights(save_path)"
   ]
  },
  {
   "cell_type": "code",
   "execution_count": null,
   "id": "46d12b58-fa9a-434f-b3d7-4e9e926fb122",
   "metadata": {},
   "outputs": [],
   "source": [
    "trained_model = RetentionTimePredictor(seq_length=30)\n",
    "trained_model.load_weights(save_path)"
   ]
  },
  {
   "cell_type": "markdown",
   "id": "0a04045f-4f8b-4521-b4e1-b3abff1b8c4d",
   "metadata": {},
   "source": [
    "## 4. Testing and Reporting"
   ]
  },
  {
   "cell_type": "code",
   "execution_count": null,
   "id": "b394f44f-2cd1-41a0-919e-616554593f67",
   "metadata": {},
   "outputs": [],
   "source": [
    "# create the dataset object for test data\n",
    "\n",
    "#TEST_DATAPATH = 'https://raw.githubusercontent.com/wilhelm-lab/dlomix-resources/tasks/intensity/example_datasets/Intensity/proteomeTools_test.csv'\n",
    "TEST_DATAPATH = 'D:\\\\Uni\\\\Masterarbeit\\\\dlomix\\\\ptm\\\\output\\\\test_hcd.csv'\n",
    "\n",
    "test_int_data = IntensityDataset(data_source=TEST_DATAPATH,\n",
    "                              seq_length=30, collision_energy_col='collision_energy',batch_size=32, test=True)"
   ]
  },
  {
   "cell_type": "code",
   "execution_count": null,
   "id": "e9f7e90e-1290-410f-971a-94a8d3a76851",
   "metadata": {},
   "outputs": [],
   "source": [
    "# use model.predict from keras directly on the testdata\n",
    "\n",
    "predictions = model.predict(test_int_data.test_data)"
   ]
  },
  {
   "cell_type": "code",
   "execution_count": null,
   "id": "442b2fec-c3e8-4ed3-ab28-66269fe7d3c9",
   "metadata": {},
   "outputs": [],
   "source": [
    "from dlomix.reports import IntensityReport\n",
    "\n",
    "# create a report object by passing the history object and plot different metrics\n",
    "report = IntensityReport(output_path=\"./output\", history=history)"
   ]
  },
  {
   "cell_type": "code",
   "execution_count": null,
   "id": "66d88d37-0c28-448f-be86-5e1a4df6c4d5",
   "metadata": {},
   "outputs": [],
   "source": [
    "# you can generate a complete report for intensity by calling generate_report\n",
    "# the function takes the test dataset object and the predictions as arguments\n",
    "\n",
    "report.generate_report(test_int_data, predictions)"
   ]
  },
  {
   "cell_type": "code",
   "execution_count": null,
   "id": "f7cbb5cc-7211-4f95-a52c-f4d7d5d868f1",
   "metadata": {},
   "outputs": [],
   "source": [
    "# you can also manually see the results by calling other utility functions\n",
    "from dlomix.reports.postprocessing import normalize_intensity_predictions\n",
    "\n",
    "\n",
    "predictions_df = report.generate_intensity_results_df(test_int_data, predictions)\n",
    "predictions_df.head()"
   ]
  },
  {
   "cell_type": "code",
   "execution_count": null,
   "id": "7449d402-1b41-4a25-90d4-de5b348d92ed",
   "metadata": {},
   "outputs": [],
   "source": [
    "predictions_acc = normalize_intensity_predictions(predictions_df)\n",
    "predictions_acc.head()"
   ]
  },
  {
   "cell_type": "code",
   "execution_count": null,
   "id": "5580d637-f963-4b18-92ea-7124a59f41f6",
   "metadata": {},
   "outputs": [],
   "source": [
    "predictions_acc['spectral_angle'].describe()"
   ]
  },
  {
   "cell_type": "code",
   "execution_count": null,
   "id": "1471b663-bf3d-421c-a568-2bfc5614f11d",
   "metadata": {},
   "outputs": [],
   "source": [
    "import seaborn as sns\n",
    "\n",
    "sns.violinplot(predictions_acc['spectral_angle'])"
   ]
  },
  {
   "cell_type": "code",
   "execution_count": null,
   "id": "187bcbaa-78cd-4071-955b-10b6ca16bdba",
   "metadata": {},
   "outputs": [],
   "source": []
  }
 ],
 "metadata": {
  "kernelspec": {
   "display_name": "Python 3 (ipykernel)",
   "language": "python",
   "name": "python3"
  },
  "language_info": {
   "codemirror_mode": {
    "name": "ipython",
    "version": 3
   },
   "file_extension": ".py",
   "mimetype": "text/x-python",
   "name": "python",
   "nbconvert_exporter": "python",
   "pygments_lexer": "ipython3",
   "version": "3.10.11"
  }
 },
 "nbformat": 4,
 "nbformat_minor": 5
}
