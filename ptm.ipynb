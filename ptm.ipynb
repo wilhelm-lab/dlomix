{
 "cells": [
  {
   "cell_type": "code",
   "execution_count": 1,
   "id": "5d603210-823f-4a98-8c08-10d18fc4df81",
   "metadata": {},
   "outputs": [],
   "source": [
    "#!python -m pip install -q git+https://github.com/wilhelm-lab/dlomix"
   ]
  },
  {
   "cell_type": "code",
   "execution_count": 2,
   "id": "5f2f8352-ed12-4741-9110-42c1fbabeeed",
   "metadata": {},
   "outputs": [],
   "source": [
    "#!python -m pip install wandb"
   ]
  },
  {
   "cell_type": "markdown",
   "id": "b725afc9-4991-4cf0-a474-20e8ee346786",
   "metadata": {},
   "source": [
    "# Preprocess the data"
   ]
  },
  {
   "cell_type": "code",
   "execution_count": 3,
   "id": "61e5fbb9-9acd-45b6-a81d-2294a4add4a2",
   "metadata": {},
   "outputs": [],
   "source": [
    "import pandas as pd\n",
    "import re\n",
    "import numpy as np\n",
    "import csv"
   ]
  },
  {
   "cell_type": "markdown",
   "id": "df22fd1b-53b5-473d-bc06-8d2e8156c8aa",
   "metadata": {},
   "source": [
    "## Read the input data"
   ]
  },
  {
   "cell_type": "code",
   "execution_count": 4,
   "id": "1fa6d075-651c-46fb-90eb-65e27a8c6ff8",
   "metadata": {},
   "outputs": [],
   "source": [
    "input_file1 = \"ptm/input_data/TUM_mod_citrullination_l.parquet\"\n",
    "input_file2 = \"ptm/input_data/TUM_mod_citrullination_2.parquet\""
   ]
  },
  {
   "cell_type": "markdown",
   "id": "7898356b-a77c-4101-a1ba-90f28c7845c0",
   "metadata": {},
   "source": [
    "## Create dataframe"
   ]
  },
  {
   "cell_type": "code",
   "execution_count": 5,
   "id": "cabbe6f5-21f9-49d4-8190-49b5c96c9bf5",
   "metadata": {},
   "outputs": [],
   "source": [
    "tmp_data1 = pd.read_parquet(input_file1, engine='pyarrow')\n",
    "tmp_data2 = pd.read_parquet(input_file2, engine='pyarrow')\n",
    "data = pd.concat([tmp_data1,tmp_data2])"
   ]
  },
  {
   "cell_type": "code",
   "execution_count": 6,
   "id": "3dc5041f-e095-40e7-9df8-95671a14c6aa",
   "metadata": {},
   "outputs": [
    {
     "data": {
      "text/html": [
       "<div>\n",
       "<style scoped>\n",
       "    .dataframe tbody tr th:only-of-type {\n",
       "        vertical-align: middle;\n",
       "    }\n",
       "\n",
       "    .dataframe tbody tr th {\n",
       "        vertical-align: top;\n",
       "    }\n",
       "\n",
       "    .dataframe thead th {\n",
       "        text-align: right;\n",
       "    }\n",
       "</style>\n",
       "<table border=\"1\" class=\"dataframe\">\n",
       "  <thead>\n",
       "    <tr style=\"text-align: right;\">\n",
       "      <th></th>\n",
       "      <th>raw_file</th>\n",
       "      <th>scan_number</th>\n",
       "      <th>modified_sequence</th>\n",
       "      <th>precursor_charge</th>\n",
       "      <th>fragmentation</th>\n",
       "      <th>mass_analyzer</th>\n",
       "      <th>andromeda_score</th>\n",
       "      <th>peptide_length</th>\n",
       "      <th>base_intensity</th>\n",
       "      <th>total_intensity</th>\n",
       "      <th>orig_collision_energy</th>\n",
       "      <th>aligned_collision_energy</th>\n",
       "      <th>intensities_raw</th>\n",
       "      <th>masses_raw</th>\n",
       "      <th>collision_energy_aligned_normed</th>\n",
       "      <th>method_nbr</th>\n",
       "      <th>precursor_charge_onehot</th>\n",
       "    </tr>\n",
       "  </thead>\n",
       "  <tbody>\n",
       "    <tr>\n",
       "      <th>0</th>\n",
       "      <td>02207a_BA1-TUM_mod_citrullination_l_1_01_01-DD...</td>\n",
       "      <td>35139</td>\n",
       "      <td>EYYLRYLEK</td>\n",
       "      <td>2</td>\n",
       "      <td>CID</td>\n",
       "      <td>ITMS</td>\n",
       "      <td>271.260</td>\n",
       "      <td>9</td>\n",
       "      <td>1.958759e+06</td>\n",
       "      <td>3.245907e+07</td>\n",
       "      <td>35.0</td>\n",
       "      <td>35.000000</td>\n",
       "      <td>[0.0, 0.0, -1.0, 0.0, 0.0, -1.0, 0.15, 0.0, -1...</td>\n",
       "      <td>[0.0, 0.0, -1.0, 0.0, 0.0, -1.0, 276.09326, 0....</td>\n",
       "      <td>0.35000</td>\n",
       "      <td>2</td>\n",
       "      <td>[0, 1, 0, 0, 0, 0]</td>\n",
       "    </tr>\n",
       "    <tr>\n",
       "      <th>1</th>\n",
       "      <td>02207a_BA1-TUM_mod_citrullination_l_1_01_01-DD...</td>\n",
       "      <td>11544</td>\n",
       "      <td>R[UNIMOD:7]SEDAELR</td>\n",
       "      <td>2</td>\n",
       "      <td>CID</td>\n",
       "      <td>ITMS</td>\n",
       "      <td>82.750</td>\n",
       "      <td>8</td>\n",
       "      <td>4.594588e+04</td>\n",
       "      <td>1.248751e+06</td>\n",
       "      <td>35.0</td>\n",
       "      <td>35.000000</td>\n",
       "      <td>[0.3285714285714286, 0.0, -1.0, 0.014285714285...</td>\n",
       "      <td>[175.10437, 0.0, -1.0, 158.10068, 0.0, -1.0, 2...</td>\n",
       "      <td>0.35000</td>\n",
       "      <td>2</td>\n",
       "      <td>[0, 1, 0, 0, 0, 0]</td>\n",
       "    </tr>\n",
       "    <tr>\n",
       "      <th>2</th>\n",
       "      <td>02207a_BA1-TUM_mod_citrullination_l_1_01_01-DD...</td>\n",
       "      <td>11374</td>\n",
       "      <td>R[UNIMOD:7]SEDAELR</td>\n",
       "      <td>2</td>\n",
       "      <td>CID</td>\n",
       "      <td>ITMS</td>\n",
       "      <td>82.750</td>\n",
       "      <td>8</td>\n",
       "      <td>6.663102e+04</td>\n",
       "      <td>1.764581e+06</td>\n",
       "      <td>35.0</td>\n",
       "      <td>35.000000</td>\n",
       "      <td>[0.24705882352941178, 0.0, -1.0, 0.01176470588...</td>\n",
       "      <td>[175.08893, 0.0, -1.0, 158.1032, 0.0, -1.0, 28...</td>\n",
       "      <td>0.35000</td>\n",
       "      <td>2</td>\n",
       "      <td>[0, 1, 0, 0, 0, 0]</td>\n",
       "    </tr>\n",
       "    <tr>\n",
       "      <th>3</th>\n",
       "      <td>02207a_BA1-TUM_mod_citrullination_l_1_01_01-DD...</td>\n",
       "      <td>31901</td>\n",
       "      <td>LMKFSR[UNIMOD:7]PK</td>\n",
       "      <td>2</td>\n",
       "      <td>HCD</td>\n",
       "      <td>FTMS</td>\n",
       "      <td>82.750</td>\n",
       "      <td>8</td>\n",
       "      <td>2.662628e+05</td>\n",
       "      <td>7.981456e+06</td>\n",
       "      <td>28.0</td>\n",
       "      <td>28.745977</td>\n",
       "      <td>[0.22, 0.0, -1.0, 0.0, 0.0, -1.0, 0.68, 0.0, -...</td>\n",
       "      <td>[147.11301, 0.0, -1.0, 0.0, 0.0, -1.0, 244.165...</td>\n",
       "      <td>0.28746</td>\n",
       "      <td>1</td>\n",
       "      <td>[0, 1, 0, 0, 0, 0]</td>\n",
       "    </tr>\n",
       "    <tr>\n",
       "      <th>4</th>\n",
       "      <td>02207a_BA1-TUM_mod_citrullination_l_1_01_01-DD...</td>\n",
       "      <td>32338</td>\n",
       "      <td>LRVDPVDFK</td>\n",
       "      <td>3</td>\n",
       "      <td>CID</td>\n",
       "      <td>ITMS</td>\n",
       "      <td>82.831</td>\n",
       "      <td>9</td>\n",
       "      <td>1.779733e+06</td>\n",
       "      <td>1.403539e+07</td>\n",
       "      <td>35.0</td>\n",
       "      <td>35.000000</td>\n",
       "      <td>[0.01, 0.0, 0.0, 0.0, 0.0, 0.0, 0.0, 0.0, 0.0,...</td>\n",
       "      <td>[147.5854, 0.0, 0.0, 0.0, 0.0, 0.0, 0.0, 0.0, ...</td>\n",
       "      <td>0.35000</td>\n",
       "      <td>2</td>\n",
       "      <td>[0, 0, 1, 0, 0, 0]</td>\n",
       "    </tr>\n",
       "    <tr>\n",
       "      <th>5</th>\n",
       "      <td>02207a_BA1-TUM_mod_citrullination_l_1_01_01-DD...</td>\n",
       "      <td>36206</td>\n",
       "      <td>R[UNIMOD:7]GSLEEIMK</td>\n",
       "      <td>2</td>\n",
       "      <td>CID</td>\n",
       "      <td>ITMS</td>\n",
       "      <td>82.831</td>\n",
       "      <td>9</td>\n",
       "      <td>4.377941e+04</td>\n",
       "      <td>8.755105e+05</td>\n",
       "      <td>35.0</td>\n",
       "      <td>35.000000</td>\n",
       "      <td>[0.0, 0.0, -1.0, 0.0, 0.0, -1.0, 1.0, 0.0, -1....</td>\n",
       "      <td>[0.0, 0.0, -1.0, 0.0, 0.0, -1.0, 278.12317, 0....</td>\n",
       "      <td>0.35000</td>\n",
       "      <td>2</td>\n",
       "      <td>[0, 1, 0, 0, 0, 0]</td>\n",
       "    </tr>\n",
       "    <tr>\n",
       "      <th>6</th>\n",
       "      <td>02207a_BA1-TUM_mod_citrullination_l_1_01_01-DD...</td>\n",
       "      <td>32813</td>\n",
       "      <td>LRVDPVDFK</td>\n",
       "      <td>3</td>\n",
       "      <td>CID</td>\n",
       "      <td>ITMS</td>\n",
       "      <td>82.831</td>\n",
       "      <td>9</td>\n",
       "      <td>1.342419e+05</td>\n",
       "      <td>1.169074e+06</td>\n",
       "      <td>35.0</td>\n",
       "      <td>35.000000</td>\n",
       "      <td>[0.02, 0.0, 0.0, 0.0, 0.0, 0.0, 0.3, 0.0, 0.0,...</td>\n",
       "      <td>[147.07063, 0.0, 0.0, 0.0, 0.0, 0.0, 294.16437...</td>\n",
       "      <td>0.35000</td>\n",
       "      <td>2</td>\n",
       "      <td>[0, 0, 1, 0, 0, 0]</td>\n",
       "    </tr>\n",
       "    <tr>\n",
       "      <th>7</th>\n",
       "      <td>02207a_BA1-TUM_mod_citrullination_l_1_01_01-DD...</td>\n",
       "      <td>51100</td>\n",
       "      <td>VDTFLDGFSVK</td>\n",
       "      <td>2</td>\n",
       "      <td>HCD</td>\n",
       "      <td>FTMS</td>\n",
       "      <td>83.045</td>\n",
       "      <td>11</td>\n",
       "      <td>2.550472e+05</td>\n",
       "      <td>1.812981e+06</td>\n",
       "      <td>28.0</td>\n",
       "      <td>28.745977</td>\n",
       "      <td>[0.05, 0.0, -1.0, 0.0, 0.0, -1.0, 0.0, 0.0, -1...</td>\n",
       "      <td>[147.11281, 0.0, -1.0, 0.0, 0.0, -1.0, 0.0, 0....</td>\n",
       "      <td>0.28746</td>\n",
       "      <td>1</td>\n",
       "      <td>[0, 1, 0, 0, 0, 0]</td>\n",
       "    </tr>\n",
       "    <tr>\n",
       "      <th>8</th>\n",
       "      <td>02207a_BA1-TUM_mod_citrullination_l_1_01_01-DD...</td>\n",
       "      <td>58853</td>\n",
       "      <td>VDTFLDGFSVK</td>\n",
       "      <td>2</td>\n",
       "      <td>HCD</td>\n",
       "      <td>FTMS</td>\n",
       "      <td>83.045</td>\n",
       "      <td>11</td>\n",
       "      <td>1.675168e+05</td>\n",
       "      <td>1.195226e+06</td>\n",
       "      <td>28.0</td>\n",
       "      <td>28.745977</td>\n",
       "      <td>[0.07, 0.0, -1.0, 0.0, 0.0, -1.0, 0.0, 0.0, -1...</td>\n",
       "      <td>[147.11238, 0.0, -1.0, 0.0, 0.0, -1.0, 0.0, 0....</td>\n",
       "      <td>0.28746</td>\n",
       "      <td>1</td>\n",
       "      <td>[0, 1, 0, 0, 0, 0]</td>\n",
       "    </tr>\n",
       "    <tr>\n",
       "      <th>9</th>\n",
       "      <td>02207a_BA1-TUM_mod_citrullination_l_1_01_01-DD...</td>\n",
       "      <td>31153</td>\n",
       "      <td>HTAYSDFLSDK</td>\n",
       "      <td>2</td>\n",
       "      <td>HCD</td>\n",
       "      <td>FTMS</td>\n",
       "      <td>83.137</td>\n",
       "      <td>11</td>\n",
       "      <td>9.453002e+04</td>\n",
       "      <td>1.875683e+06</td>\n",
       "      <td>28.0</td>\n",
       "      <td>28.745977</td>\n",
       "      <td>[0.22, 0.0, -1.0, 0.0, 0.0, -1.0, 0.25, 0.0, -...</td>\n",
       "      <td>[147.1124, 0.0, -1.0, 0.0, 0.0, -1.0, 262.1381...</td>\n",
       "      <td>0.28746</td>\n",
       "      <td>1</td>\n",
       "      <td>[0, 1, 0, 0, 0, 0]</td>\n",
       "    </tr>\n",
       "  </tbody>\n",
       "</table>\n",
       "</div>"
      ],
      "text/plain": [
       "                                            raw_file  scan_number  \\\n",
       "0  02207a_BA1-TUM_mod_citrullination_l_1_01_01-DD...        35139   \n",
       "1  02207a_BA1-TUM_mod_citrullination_l_1_01_01-DD...        11544   \n",
       "2  02207a_BA1-TUM_mod_citrullination_l_1_01_01-DD...        11374   \n",
       "3  02207a_BA1-TUM_mod_citrullination_l_1_01_01-DD...        31901   \n",
       "4  02207a_BA1-TUM_mod_citrullination_l_1_01_01-DD...        32338   \n",
       "5  02207a_BA1-TUM_mod_citrullination_l_1_01_01-DD...        36206   \n",
       "6  02207a_BA1-TUM_mod_citrullination_l_1_01_01-DD...        32813   \n",
       "7  02207a_BA1-TUM_mod_citrullination_l_1_01_01-DD...        51100   \n",
       "8  02207a_BA1-TUM_mod_citrullination_l_1_01_01-DD...        58853   \n",
       "9  02207a_BA1-TUM_mod_citrullination_l_1_01_01-DD...        31153   \n",
       "\n",
       "     modified_sequence  precursor_charge fragmentation mass_analyzer  \\\n",
       "0            EYYLRYLEK                 2           CID          ITMS   \n",
       "1   R[UNIMOD:7]SEDAELR                 2           CID          ITMS   \n",
       "2   R[UNIMOD:7]SEDAELR                 2           CID          ITMS   \n",
       "3   LMKFSR[UNIMOD:7]PK                 2           HCD          FTMS   \n",
       "4            LRVDPVDFK                 3           CID          ITMS   \n",
       "5  R[UNIMOD:7]GSLEEIMK                 2           CID          ITMS   \n",
       "6            LRVDPVDFK                 3           CID          ITMS   \n",
       "7          VDTFLDGFSVK                 2           HCD          FTMS   \n",
       "8          VDTFLDGFSVK                 2           HCD          FTMS   \n",
       "9          HTAYSDFLSDK                 2           HCD          FTMS   \n",
       "\n",
       "   andromeda_score  peptide_length  base_intensity  total_intensity  \\\n",
       "0          271.260               9    1.958759e+06     3.245907e+07   \n",
       "1           82.750               8    4.594588e+04     1.248751e+06   \n",
       "2           82.750               8    6.663102e+04     1.764581e+06   \n",
       "3           82.750               8    2.662628e+05     7.981456e+06   \n",
       "4           82.831               9    1.779733e+06     1.403539e+07   \n",
       "5           82.831               9    4.377941e+04     8.755105e+05   \n",
       "6           82.831               9    1.342419e+05     1.169074e+06   \n",
       "7           83.045              11    2.550472e+05     1.812981e+06   \n",
       "8           83.045              11    1.675168e+05     1.195226e+06   \n",
       "9           83.137              11    9.453002e+04     1.875683e+06   \n",
       "\n",
       "   orig_collision_energy  aligned_collision_energy  \\\n",
       "0                   35.0                 35.000000   \n",
       "1                   35.0                 35.000000   \n",
       "2                   35.0                 35.000000   \n",
       "3                   28.0                 28.745977   \n",
       "4                   35.0                 35.000000   \n",
       "5                   35.0                 35.000000   \n",
       "6                   35.0                 35.000000   \n",
       "7                   28.0                 28.745977   \n",
       "8                   28.0                 28.745977   \n",
       "9                   28.0                 28.745977   \n",
       "\n",
       "                                     intensities_raw  \\\n",
       "0  [0.0, 0.0, -1.0, 0.0, 0.0, -1.0, 0.15, 0.0, -1...   \n",
       "1  [0.3285714285714286, 0.0, -1.0, 0.014285714285...   \n",
       "2  [0.24705882352941178, 0.0, -1.0, 0.01176470588...   \n",
       "3  [0.22, 0.0, -1.0, 0.0, 0.0, -1.0, 0.68, 0.0, -...   \n",
       "4  [0.01, 0.0, 0.0, 0.0, 0.0, 0.0, 0.0, 0.0, 0.0,...   \n",
       "5  [0.0, 0.0, -1.0, 0.0, 0.0, -1.0, 1.0, 0.0, -1....   \n",
       "6  [0.02, 0.0, 0.0, 0.0, 0.0, 0.0, 0.3, 0.0, 0.0,...   \n",
       "7  [0.05, 0.0, -1.0, 0.0, 0.0, -1.0, 0.0, 0.0, -1...   \n",
       "8  [0.07, 0.0, -1.0, 0.0, 0.0, -1.0, 0.0, 0.0, -1...   \n",
       "9  [0.22, 0.0, -1.0, 0.0, 0.0, -1.0, 0.25, 0.0, -...   \n",
       "\n",
       "                                          masses_raw  \\\n",
       "0  [0.0, 0.0, -1.0, 0.0, 0.0, -1.0, 276.09326, 0....   \n",
       "1  [175.10437, 0.0, -1.0, 158.10068, 0.0, -1.0, 2...   \n",
       "2  [175.08893, 0.0, -1.0, 158.1032, 0.0, -1.0, 28...   \n",
       "3  [147.11301, 0.0, -1.0, 0.0, 0.0, -1.0, 244.165...   \n",
       "4  [147.5854, 0.0, 0.0, 0.0, 0.0, 0.0, 0.0, 0.0, ...   \n",
       "5  [0.0, 0.0, -1.0, 0.0, 0.0, -1.0, 278.12317, 0....   \n",
       "6  [147.07063, 0.0, 0.0, 0.0, 0.0, 0.0, 294.16437...   \n",
       "7  [147.11281, 0.0, -1.0, 0.0, 0.0, -1.0, 0.0, 0....   \n",
       "8  [147.11238, 0.0, -1.0, 0.0, 0.0, -1.0, 0.0, 0....   \n",
       "9  [147.1124, 0.0, -1.0, 0.0, 0.0, -1.0, 262.1381...   \n",
       "\n",
       "   collision_energy_aligned_normed  method_nbr precursor_charge_onehot  \n",
       "0                          0.35000           2      [0, 1, 0, 0, 0, 0]  \n",
       "1                          0.35000           2      [0, 1, 0, 0, 0, 0]  \n",
       "2                          0.35000           2      [0, 1, 0, 0, 0, 0]  \n",
       "3                          0.28746           1      [0, 1, 0, 0, 0, 0]  \n",
       "4                          0.35000           2      [0, 0, 1, 0, 0, 0]  \n",
       "5                          0.35000           2      [0, 1, 0, 0, 0, 0]  \n",
       "6                          0.35000           2      [0, 0, 1, 0, 0, 0]  \n",
       "7                          0.28746           1      [0, 1, 0, 0, 0, 0]  \n",
       "8                          0.28746           1      [0, 1, 0, 0, 0, 0]  \n",
       "9                          0.28746           1      [0, 1, 0, 0, 0, 0]  "
      ]
     },
     "execution_count": 6,
     "metadata": {},
     "output_type": "execute_result"
    }
   ],
   "source": [
    "data.head(10)"
   ]
  },
  {
   "cell_type": "markdown",
   "id": "bdc563fb-a951-4ba1-bed9-c068aa00ebd2",
   "metadata": {},
   "source": [
    "## Divide data into HCD and CID"
   ]
  },
  {
   "cell_type": "code",
   "execution_count": 7,
   "id": "33cfa65e-c1a0-4a96-a58e-f7fa502854ba",
   "metadata": {},
   "outputs": [],
   "source": [
    "data_HCD = data[data['fragmentation']=='HCD']\n",
    "data_CID = data[data['fragmentation']=='CID']"
   ]
  },
  {
   "cell_type": "code",
   "execution_count": 8,
   "id": "cdff1a52-0da1-4475-9cdd-71a23c7dd23d",
   "metadata": {},
   "outputs": [
    {
     "data": {
      "text/html": [
       "<div>\n",
       "<style scoped>\n",
       "    .dataframe tbody tr th:only-of-type {\n",
       "        vertical-align: middle;\n",
       "    }\n",
       "\n",
       "    .dataframe tbody tr th {\n",
       "        vertical-align: top;\n",
       "    }\n",
       "\n",
       "    .dataframe thead th {\n",
       "        text-align: right;\n",
       "    }\n",
       "</style>\n",
       "<table border=\"1\" class=\"dataframe\">\n",
       "  <thead>\n",
       "    <tr style=\"text-align: right;\">\n",
       "      <th></th>\n",
       "      <th>raw_file</th>\n",
       "      <th>scan_number</th>\n",
       "      <th>modified_sequence</th>\n",
       "      <th>precursor_charge</th>\n",
       "      <th>fragmentation</th>\n",
       "      <th>mass_analyzer</th>\n",
       "      <th>andromeda_score</th>\n",
       "      <th>peptide_length</th>\n",
       "      <th>base_intensity</th>\n",
       "      <th>total_intensity</th>\n",
       "      <th>orig_collision_energy</th>\n",
       "      <th>aligned_collision_energy</th>\n",
       "      <th>intensities_raw</th>\n",
       "      <th>masses_raw</th>\n",
       "      <th>collision_energy_aligned_normed</th>\n",
       "      <th>method_nbr</th>\n",
       "      <th>precursor_charge_onehot</th>\n",
       "    </tr>\n",
       "  </thead>\n",
       "  <tbody>\n",
       "    <tr>\n",
       "      <th>3</th>\n",
       "      <td>02207a_BA1-TUM_mod_citrullination_l_1_01_01-DD...</td>\n",
       "      <td>31901</td>\n",
       "      <td>LMKFSR[UNIMOD:7]PK</td>\n",
       "      <td>2</td>\n",
       "      <td>HCD</td>\n",
       "      <td>FTMS</td>\n",
       "      <td>82.750</td>\n",
       "      <td>8</td>\n",
       "      <td>2.662628e+05</td>\n",
       "      <td>7.981456e+06</td>\n",
       "      <td>28.0</td>\n",
       "      <td>28.745977</td>\n",
       "      <td>[0.22, 0.0, -1.0, 0.0, 0.0, -1.0, 0.68, 0.0, -...</td>\n",
       "      <td>[147.11301, 0.0, -1.0, 0.0, 0.0, -1.0, 244.165...</td>\n",
       "      <td>0.28746</td>\n",
       "      <td>1</td>\n",
       "      <td>[0, 1, 0, 0, 0, 0]</td>\n",
       "    </tr>\n",
       "    <tr>\n",
       "      <th>7</th>\n",
       "      <td>02207a_BA1-TUM_mod_citrullination_l_1_01_01-DD...</td>\n",
       "      <td>51100</td>\n",
       "      <td>VDTFLDGFSVK</td>\n",
       "      <td>2</td>\n",
       "      <td>HCD</td>\n",
       "      <td>FTMS</td>\n",
       "      <td>83.045</td>\n",
       "      <td>11</td>\n",
       "      <td>2.550472e+05</td>\n",
       "      <td>1.812981e+06</td>\n",
       "      <td>28.0</td>\n",
       "      <td>28.745977</td>\n",
       "      <td>[0.05, 0.0, -1.0, 0.0, 0.0, -1.0, 0.0, 0.0, -1...</td>\n",
       "      <td>[147.11281, 0.0, -1.0, 0.0, 0.0, -1.0, 0.0, 0....</td>\n",
       "      <td>0.28746</td>\n",
       "      <td>1</td>\n",
       "      <td>[0, 1, 0, 0, 0, 0]</td>\n",
       "    </tr>\n",
       "    <tr>\n",
       "      <th>8</th>\n",
       "      <td>02207a_BA1-TUM_mod_citrullination_l_1_01_01-DD...</td>\n",
       "      <td>58853</td>\n",
       "      <td>VDTFLDGFSVK</td>\n",
       "      <td>2</td>\n",
       "      <td>HCD</td>\n",
       "      <td>FTMS</td>\n",
       "      <td>83.045</td>\n",
       "      <td>11</td>\n",
       "      <td>1.675168e+05</td>\n",
       "      <td>1.195226e+06</td>\n",
       "      <td>28.0</td>\n",
       "      <td>28.745977</td>\n",
       "      <td>[0.07, 0.0, -1.0, 0.0, 0.0, -1.0, 0.0, 0.0, -1...</td>\n",
       "      <td>[147.11238, 0.0, -1.0, 0.0, 0.0, -1.0, 0.0, 0....</td>\n",
       "      <td>0.28746</td>\n",
       "      <td>1</td>\n",
       "      <td>[0, 1, 0, 0, 0, 0]</td>\n",
       "    </tr>\n",
       "    <tr>\n",
       "      <th>9</th>\n",
       "      <td>02207a_BA1-TUM_mod_citrullination_l_1_01_01-DD...</td>\n",
       "      <td>31153</td>\n",
       "      <td>HTAYSDFLSDK</td>\n",
       "      <td>2</td>\n",
       "      <td>HCD</td>\n",
       "      <td>FTMS</td>\n",
       "      <td>83.137</td>\n",
       "      <td>11</td>\n",
       "      <td>9.453002e+04</td>\n",
       "      <td>1.875683e+06</td>\n",
       "      <td>28.0</td>\n",
       "      <td>28.745977</td>\n",
       "      <td>[0.22, 0.0, -1.0, 0.0, 0.0, -1.0, 0.25, 0.0, -...</td>\n",
       "      <td>[147.1124, 0.0, -1.0, 0.0, 0.0, -1.0, 262.1381...</td>\n",
       "      <td>0.28746</td>\n",
       "      <td>1</td>\n",
       "      <td>[0, 1, 0, 0, 0, 0]</td>\n",
       "    </tr>\n",
       "    <tr>\n",
       "      <th>10</th>\n",
       "      <td>02207a_BA1-TUM_mod_citrullination_l_1_01_01-DD...</td>\n",
       "      <td>35819</td>\n",
       "      <td>HLTGLTFDTYK</td>\n",
       "      <td>2</td>\n",
       "      <td>HCD</td>\n",
       "      <td>FTMS</td>\n",
       "      <td>83.182</td>\n",
       "      <td>11</td>\n",
       "      <td>2.737666e+05</td>\n",
       "      <td>2.303711e+06</td>\n",
       "      <td>28.0</td>\n",
       "      <td>28.745977</td>\n",
       "      <td>[0.14, 0.0, -1.0, 0.04, 0.0, -1.0, 0.09, 0.0, ...</td>\n",
       "      <td>[147.11293, 0.0, -1.0, 138.06619, 0.0, -1.0, 3...</td>\n",
       "      <td>0.28746</td>\n",
       "      <td>1</td>\n",
       "      <td>[0, 1, 0, 0, 0, 0]</td>\n",
       "    </tr>\n",
       "    <tr>\n",
       "      <th>13</th>\n",
       "      <td>02207a_BA1-TUM_mod_citrullination_l_1_01_01-DD...</td>\n",
       "      <td>12635</td>\n",
       "      <td>EREELGSPEER</td>\n",
       "      <td>2</td>\n",
       "      <td>HCD</td>\n",
       "      <td>FTMS</td>\n",
       "      <td>83.204</td>\n",
       "      <td>11</td>\n",
       "      <td>3.792262e+05</td>\n",
       "      <td>1.295094e+07</td>\n",
       "      <td>28.0</td>\n",
       "      <td>28.745977</td>\n",
       "      <td>[0.5675675675675675, 0.0, -1.0, 0.0, 0.0, -1.0...</td>\n",
       "      <td>[175.1189, 0.0, -1.0, 0.0, 0.0, -1.0, 304.1611...</td>\n",
       "      <td>0.28746</td>\n",
       "      <td>1</td>\n",
       "      <td>[0, 1, 0, 0, 0, 0]</td>\n",
       "    </tr>\n",
       "    <tr>\n",
       "      <th>17</th>\n",
       "      <td>02207a_BA1-TUM_mod_citrullination_l_1_01_01-DD...</td>\n",
       "      <td>24840</td>\n",
       "      <td>VAELRSLYK</td>\n",
       "      <td>3</td>\n",
       "      <td>HCD</td>\n",
       "      <td>FTMS</td>\n",
       "      <td>83.456</td>\n",
       "      <td>9</td>\n",
       "      <td>4.868870e+06</td>\n",
       "      <td>4.552416e+07</td>\n",
       "      <td>28.0</td>\n",
       "      <td>28.745977</td>\n",
       "      <td>[0.4, 0.0, 0.0, 0.0, 0.0, 0.0, 0.19, 0.0, 0.0,...</td>\n",
       "      <td>[147.11301, 0.0, 0.0, 0.0, 0.0, 0.0, 310.17636...</td>\n",
       "      <td>0.28746</td>\n",
       "      <td>1</td>\n",
       "      <td>[0, 0, 1, 0, 0, 0]</td>\n",
       "    </tr>\n",
       "    <tr>\n",
       "      <th>19</th>\n",
       "      <td>02207a_BA1-TUM_mod_citrullination_l_1_01_01-DD...</td>\n",
       "      <td>31390</td>\n",
       "      <td>EDPMR[UNIMOD:7]ELR</td>\n",
       "      <td>2</td>\n",
       "      <td>HCD</td>\n",
       "      <td>FTMS</td>\n",
       "      <td>82.452</td>\n",
       "      <td>8</td>\n",
       "      <td>3.965483e+05</td>\n",
       "      <td>3.148274e+06</td>\n",
       "      <td>28.0</td>\n",
       "      <td>28.745977</td>\n",
       "      <td>[0.15, 0.0, -1.0, 0.0, 0.0, -1.0, 0.14, 0.0, -...</td>\n",
       "      <td>[175.11913, 0.0, -1.0, 0.0, 0.0, -1.0, 288.203...</td>\n",
       "      <td>0.28746</td>\n",
       "      <td>1</td>\n",
       "      <td>[0, 1, 0, 0, 0, 0]</td>\n",
       "    </tr>\n",
       "    <tr>\n",
       "      <th>20</th>\n",
       "      <td>02207a_BA1-TUM_mod_citrullination_l_1_01_01-DD...</td>\n",
       "      <td>25231</td>\n",
       "      <td>DLAQR[UNIMOD:7]SFR</td>\n",
       "      <td>2</td>\n",
       "      <td>HCD</td>\n",
       "      <td>FTMS</td>\n",
       "      <td>82.452</td>\n",
       "      <td>8</td>\n",
       "      <td>5.950818e+04</td>\n",
       "      <td>1.012012e+06</td>\n",
       "      <td>28.0</td>\n",
       "      <td>28.745977</td>\n",
       "      <td>[0.42, 0.0, -1.0, 0.0, 0.0, -1.0, 0.0, 0.0, -1...</td>\n",
       "      <td>[175.1189, 0.0, -1.0, 0.0, 0.0, -1.0, 0.0, 0.0...</td>\n",
       "      <td>0.28746</td>\n",
       "      <td>1</td>\n",
       "      <td>[0, 1, 0, 0, 0, 0]</td>\n",
       "    </tr>\n",
       "    <tr>\n",
       "      <th>23</th>\n",
       "      <td>02207a_BA1-TUM_mod_citrullination_l_1_01_01-DD...</td>\n",
       "      <td>30103</td>\n",
       "      <td>EDPMR[UNIMOD:7]ELR</td>\n",
       "      <td>2</td>\n",
       "      <td>HCD</td>\n",
       "      <td>FTMS</td>\n",
       "      <td>82.452</td>\n",
       "      <td>8</td>\n",
       "      <td>5.526744e+05</td>\n",
       "      <td>4.336611e+06</td>\n",
       "      <td>28.0</td>\n",
       "      <td>28.745977</td>\n",
       "      <td>[0.13, 0.0, -1.0, 0.0, 0.0, -1.0, 0.18, 0.0, -...</td>\n",
       "      <td>[175.11887, 0.0, -1.0, 0.0, 0.0, -1.0, 288.202...</td>\n",
       "      <td>0.28746</td>\n",
       "      <td>1</td>\n",
       "      <td>[0, 1, 0, 0, 0, 0]</td>\n",
       "    </tr>\n",
       "  </tbody>\n",
       "</table>\n",
       "</div>"
      ],
      "text/plain": [
       "                                             raw_file  scan_number  \\\n",
       "3   02207a_BA1-TUM_mod_citrullination_l_1_01_01-DD...        31901   \n",
       "7   02207a_BA1-TUM_mod_citrullination_l_1_01_01-DD...        51100   \n",
       "8   02207a_BA1-TUM_mod_citrullination_l_1_01_01-DD...        58853   \n",
       "9   02207a_BA1-TUM_mod_citrullination_l_1_01_01-DD...        31153   \n",
       "10  02207a_BA1-TUM_mod_citrullination_l_1_01_01-DD...        35819   \n",
       "13  02207a_BA1-TUM_mod_citrullination_l_1_01_01-DD...        12635   \n",
       "17  02207a_BA1-TUM_mod_citrullination_l_1_01_01-DD...        24840   \n",
       "19  02207a_BA1-TUM_mod_citrullination_l_1_01_01-DD...        31390   \n",
       "20  02207a_BA1-TUM_mod_citrullination_l_1_01_01-DD...        25231   \n",
       "23  02207a_BA1-TUM_mod_citrullination_l_1_01_01-DD...        30103   \n",
       "\n",
       "     modified_sequence  precursor_charge fragmentation mass_analyzer  \\\n",
       "3   LMKFSR[UNIMOD:7]PK                 2           HCD          FTMS   \n",
       "7          VDTFLDGFSVK                 2           HCD          FTMS   \n",
       "8          VDTFLDGFSVK                 2           HCD          FTMS   \n",
       "9          HTAYSDFLSDK                 2           HCD          FTMS   \n",
       "10         HLTGLTFDTYK                 2           HCD          FTMS   \n",
       "13         EREELGSPEER                 2           HCD          FTMS   \n",
       "17           VAELRSLYK                 3           HCD          FTMS   \n",
       "19  EDPMR[UNIMOD:7]ELR                 2           HCD          FTMS   \n",
       "20  DLAQR[UNIMOD:7]SFR                 2           HCD          FTMS   \n",
       "23  EDPMR[UNIMOD:7]ELR                 2           HCD          FTMS   \n",
       "\n",
       "    andromeda_score  peptide_length  base_intensity  total_intensity  \\\n",
       "3            82.750               8    2.662628e+05     7.981456e+06   \n",
       "7            83.045              11    2.550472e+05     1.812981e+06   \n",
       "8            83.045              11    1.675168e+05     1.195226e+06   \n",
       "9            83.137              11    9.453002e+04     1.875683e+06   \n",
       "10           83.182              11    2.737666e+05     2.303711e+06   \n",
       "13           83.204              11    3.792262e+05     1.295094e+07   \n",
       "17           83.456               9    4.868870e+06     4.552416e+07   \n",
       "19           82.452               8    3.965483e+05     3.148274e+06   \n",
       "20           82.452               8    5.950818e+04     1.012012e+06   \n",
       "23           82.452               8    5.526744e+05     4.336611e+06   \n",
       "\n",
       "    orig_collision_energy  aligned_collision_energy  \\\n",
       "3                    28.0                 28.745977   \n",
       "7                    28.0                 28.745977   \n",
       "8                    28.0                 28.745977   \n",
       "9                    28.0                 28.745977   \n",
       "10                   28.0                 28.745977   \n",
       "13                   28.0                 28.745977   \n",
       "17                   28.0                 28.745977   \n",
       "19                   28.0                 28.745977   \n",
       "20                   28.0                 28.745977   \n",
       "23                   28.0                 28.745977   \n",
       "\n",
       "                                      intensities_raw  \\\n",
       "3   [0.22, 0.0, -1.0, 0.0, 0.0, -1.0, 0.68, 0.0, -...   \n",
       "7   [0.05, 0.0, -1.0, 0.0, 0.0, -1.0, 0.0, 0.0, -1...   \n",
       "8   [0.07, 0.0, -1.0, 0.0, 0.0, -1.0, 0.0, 0.0, -1...   \n",
       "9   [0.22, 0.0, -1.0, 0.0, 0.0, -1.0, 0.25, 0.0, -...   \n",
       "10  [0.14, 0.0, -1.0, 0.04, 0.0, -1.0, 0.09, 0.0, ...   \n",
       "13  [0.5675675675675675, 0.0, -1.0, 0.0, 0.0, -1.0...   \n",
       "17  [0.4, 0.0, 0.0, 0.0, 0.0, 0.0, 0.19, 0.0, 0.0,...   \n",
       "19  [0.15, 0.0, -1.0, 0.0, 0.0, -1.0, 0.14, 0.0, -...   \n",
       "20  [0.42, 0.0, -1.0, 0.0, 0.0, -1.0, 0.0, 0.0, -1...   \n",
       "23  [0.13, 0.0, -1.0, 0.0, 0.0, -1.0, 0.18, 0.0, -...   \n",
       "\n",
       "                                           masses_raw  \\\n",
       "3   [147.11301, 0.0, -1.0, 0.0, 0.0, -1.0, 244.165...   \n",
       "7   [147.11281, 0.0, -1.0, 0.0, 0.0, -1.0, 0.0, 0....   \n",
       "8   [147.11238, 0.0, -1.0, 0.0, 0.0, -1.0, 0.0, 0....   \n",
       "9   [147.1124, 0.0, -1.0, 0.0, 0.0, -1.0, 262.1381...   \n",
       "10  [147.11293, 0.0, -1.0, 138.06619, 0.0, -1.0, 3...   \n",
       "13  [175.1189, 0.0, -1.0, 0.0, 0.0, -1.0, 304.1611...   \n",
       "17  [147.11301, 0.0, 0.0, 0.0, 0.0, 0.0, 310.17636...   \n",
       "19  [175.11913, 0.0, -1.0, 0.0, 0.0, -1.0, 288.203...   \n",
       "20  [175.1189, 0.0, -1.0, 0.0, 0.0, -1.0, 0.0, 0.0...   \n",
       "23  [175.11887, 0.0, -1.0, 0.0, 0.0, -1.0, 288.202...   \n",
       "\n",
       "    collision_energy_aligned_normed  method_nbr precursor_charge_onehot  \n",
       "3                           0.28746           1      [0, 1, 0, 0, 0, 0]  \n",
       "7                           0.28746           1      [0, 1, 0, 0, 0, 0]  \n",
       "8                           0.28746           1      [0, 1, 0, 0, 0, 0]  \n",
       "9                           0.28746           1      [0, 1, 0, 0, 0, 0]  \n",
       "10                          0.28746           1      [0, 1, 0, 0, 0, 0]  \n",
       "13                          0.28746           1      [0, 1, 0, 0, 0, 0]  \n",
       "17                          0.28746           1      [0, 0, 1, 0, 0, 0]  \n",
       "19                          0.28746           1      [0, 1, 0, 0, 0, 0]  \n",
       "20                          0.28746           1      [0, 1, 0, 0, 0, 0]  \n",
       "23                          0.28746           1      [0, 1, 0, 0, 0, 0]  "
      ]
     },
     "execution_count": 8,
     "metadata": {},
     "output_type": "execute_result"
    }
   ],
   "source": [
    "data_HCD.head(10)"
   ]
  },
  {
   "cell_type": "markdown",
   "id": "773ea197-a98f-4301-8ead-a702b18d1b76",
   "metadata": {},
   "source": [
    "## Sort for modified_sequence and sort andromeda_score from highest to lowest"
   ]
  },
  {
   "cell_type": "code",
   "execution_count": 9,
   "id": "e7012c8f-429e-4b19-819f-40af80dd5514",
   "metadata": {},
   "outputs": [],
   "source": [
    "data_HCD = data_HCD.sort_values(['modified_sequence', 'andromeda_score'], ascending=[True, False])"
   ]
  },
  {
   "cell_type": "code",
   "execution_count": 10,
   "id": "23f9c140-4e7d-4cf9-96a1-ebcc5272be9d",
   "metadata": {},
   "outputs": [
    {
     "data": {
      "text/html": [
       "<div>\n",
       "<style scoped>\n",
       "    .dataframe tbody tr th:only-of-type {\n",
       "        vertical-align: middle;\n",
       "    }\n",
       "\n",
       "    .dataframe tbody tr th {\n",
       "        vertical-align: top;\n",
       "    }\n",
       "\n",
       "    .dataframe thead th {\n",
       "        text-align: right;\n",
       "    }\n",
       "</style>\n",
       "<table border=\"1\" class=\"dataframe\">\n",
       "  <thead>\n",
       "    <tr style=\"text-align: right;\">\n",
       "      <th></th>\n",
       "      <th>raw_file</th>\n",
       "      <th>scan_number</th>\n",
       "      <th>modified_sequence</th>\n",
       "      <th>precursor_charge</th>\n",
       "      <th>fragmentation</th>\n",
       "      <th>mass_analyzer</th>\n",
       "      <th>andromeda_score</th>\n",
       "      <th>peptide_length</th>\n",
       "      <th>base_intensity</th>\n",
       "      <th>total_intensity</th>\n",
       "      <th>orig_collision_energy</th>\n",
       "      <th>aligned_collision_energy</th>\n",
       "      <th>intensities_raw</th>\n",
       "      <th>masses_raw</th>\n",
       "      <th>collision_energy_aligned_normed</th>\n",
       "      <th>method_nbr</th>\n",
       "      <th>precursor_charge_onehot</th>\n",
       "    </tr>\n",
       "  </thead>\n",
       "  <tbody>\n",
       "    <tr>\n",
       "      <th>9763</th>\n",
       "      <td>02207a_BA6-TUM_mod_citrullination_l_6_01_01-DD...</td>\n",
       "      <td>36606</td>\n",
       "      <td>AAADQMRDFLVR</td>\n",
       "      <td>3</td>\n",
       "      <td>HCD</td>\n",
       "      <td>FTMS</td>\n",
       "      <td>142.080</td>\n",
       "      <td>12</td>\n",
       "      <td>4.299898e+06</td>\n",
       "      <td>1.623440e+07</td>\n",
       "      <td>28.0</td>\n",
       "      <td>28.627534</td>\n",
       "      <td>[0.04, 0.0, 0.0, 0.0, 0.0, 0.0, 0.01, 0.0, 0.0...</td>\n",
       "      <td>[175.11903, 0.0, 0.0, 0.0, 0.0, 0.0, 274.18799...</td>\n",
       "      <td>0.286275</td>\n",
       "      <td>1</td>\n",
       "      <td>[0, 0, 1, 0, 0, 0]</td>\n",
       "    </tr>\n",
       "    <tr>\n",
       "      <th>15599</th>\n",
       "      <td>02207a_BA6-TUM_mod_citrullination_l_6_01_01-DD...</td>\n",
       "      <td>36606</td>\n",
       "      <td>AAADQMRDFLVR</td>\n",
       "      <td>3</td>\n",
       "      <td>HCD</td>\n",
       "      <td>FTMS</td>\n",
       "      <td>142.080</td>\n",
       "      <td>12</td>\n",
       "      <td>4.299898e+06</td>\n",
       "      <td>1.623440e+07</td>\n",
       "      <td>28.0</td>\n",
       "      <td>28.627534</td>\n",
       "      <td>[0.04, 0.0, 0.0, 0.0, 0.0, 0.0, 0.01, 0.0, 0.0...</td>\n",
       "      <td>[175.11903, 0.0, 0.0, 0.0, 0.0, 0.0, 274.18799...</td>\n",
       "      <td>0.286275</td>\n",
       "      <td>1</td>\n",
       "      <td>[0, 0, 1, 0, 0, 0]</td>\n",
       "    </tr>\n",
       "    <tr>\n",
       "      <th>9541</th>\n",
       "      <td>02207a_BA6-TUM_mod_citrullination_l_6_01_01-DD...</td>\n",
       "      <td>36766</td>\n",
       "      <td>AAADQMRDFLVR</td>\n",
       "      <td>3</td>\n",
       "      <td>HCD</td>\n",
       "      <td>FTMS</td>\n",
       "      <td>134.130</td>\n",
       "      <td>12</td>\n",
       "      <td>8.268132e+06</td>\n",
       "      <td>2.976848e+07</td>\n",
       "      <td>28.0</td>\n",
       "      <td>28.627534</td>\n",
       "      <td>[0.04, 0.0, 0.0, 0.0, 0.0, 0.0, 0.0, 0.0, 0.0,...</td>\n",
       "      <td>[175.11888, 0.0, 0.0, 0.0, 0.0, 0.0, 0.0, 0.0,...</td>\n",
       "      <td>0.286275</td>\n",
       "      <td>1</td>\n",
       "      <td>[0, 0, 1, 0, 0, 0]</td>\n",
       "    </tr>\n",
       "    <tr>\n",
       "      <th>15180</th>\n",
       "      <td>02207a_BA6-TUM_mod_citrullination_l_6_01_01-DD...</td>\n",
       "      <td>36766</td>\n",
       "      <td>AAADQMRDFLVR</td>\n",
       "      <td>3</td>\n",
       "      <td>HCD</td>\n",
       "      <td>FTMS</td>\n",
       "      <td>134.130</td>\n",
       "      <td>12</td>\n",
       "      <td>8.268132e+06</td>\n",
       "      <td>2.976848e+07</td>\n",
       "      <td>28.0</td>\n",
       "      <td>28.627534</td>\n",
       "      <td>[0.04, 0.0, 0.0, 0.0, 0.0, 0.0, 0.0, 0.0, 0.0,...</td>\n",
       "      <td>[175.11888, 0.0, 0.0, 0.0, 0.0, 0.0, 0.0, 0.0,...</td>\n",
       "      <td>0.286275</td>\n",
       "      <td>1</td>\n",
       "      <td>[0, 0, 1, 0, 0, 0]</td>\n",
       "    </tr>\n",
       "    <tr>\n",
       "      <th>9440</th>\n",
       "      <td>02207a_BA6-TUM_mod_citrullination_l_6_01_01-DD...</td>\n",
       "      <td>36624</td>\n",
       "      <td>AAADQMRDFLVR</td>\n",
       "      <td>2</td>\n",
       "      <td>HCD</td>\n",
       "      <td>FTMS</td>\n",
       "      <td>88.338</td>\n",
       "      <td>12</td>\n",
       "      <td>2.656010e+05</td>\n",
       "      <td>8.138860e+06</td>\n",
       "      <td>28.0</td>\n",
       "      <td>28.627534</td>\n",
       "      <td>[0.38, 0.0, -1.0, 0.0, 0.0, -1.0, 0.04, 0.0, -...</td>\n",
       "      <td>[175.11888, 0.0, -1.0, 0.0, 0.0, -1.0, 274.186...</td>\n",
       "      <td>0.286275</td>\n",
       "      <td>1</td>\n",
       "      <td>[0, 1, 0, 0, 0, 0]</td>\n",
       "    </tr>\n",
       "    <tr>\n",
       "      <th>15011</th>\n",
       "      <td>02207a_BA6-TUM_mod_citrullination_l_6_01_01-DD...</td>\n",
       "      <td>36624</td>\n",
       "      <td>AAADQMRDFLVR</td>\n",
       "      <td>2</td>\n",
       "      <td>HCD</td>\n",
       "      <td>FTMS</td>\n",
       "      <td>88.338</td>\n",
       "      <td>12</td>\n",
       "      <td>2.656010e+05</td>\n",
       "      <td>8.138860e+06</td>\n",
       "      <td>28.0</td>\n",
       "      <td>28.627534</td>\n",
       "      <td>[0.38, 0.0, -1.0, 0.0, 0.0, -1.0, 0.04, 0.0, -...</td>\n",
       "      <td>[175.11888, 0.0, -1.0, 0.0, 0.0, -1.0, 274.186...</td>\n",
       "      <td>0.286275</td>\n",
       "      <td>1</td>\n",
       "      <td>[0, 1, 0, 0, 0, 0]</td>\n",
       "    </tr>\n",
       "    <tr>\n",
       "      <th>9232</th>\n",
       "      <td>02207a_BA6-TUM_mod_citrullination_l_6_01_01-DD...</td>\n",
       "      <td>36770</td>\n",
       "      <td>AAADQMRDFLVR</td>\n",
       "      <td>2</td>\n",
       "      <td>HCD</td>\n",
       "      <td>FTMS</td>\n",
       "      <td>71.085</td>\n",
       "      <td>12</td>\n",
       "      <td>2.796844e+05</td>\n",
       "      <td>8.867145e+06</td>\n",
       "      <td>28.0</td>\n",
       "      <td>28.627534</td>\n",
       "      <td>[0.31, 0.0, -1.0, 0.0, 0.0, -1.0, 0.0, 0.0, -1...</td>\n",
       "      <td>[175.11931, 0.0, -1.0, 0.0, 0.0, -1.0, 0.0, 0....</td>\n",
       "      <td>0.286275</td>\n",
       "      <td>1</td>\n",
       "      <td>[0, 1, 0, 0, 0, 0]</td>\n",
       "    </tr>\n",
       "    <tr>\n",
       "      <th>14646</th>\n",
       "      <td>02207a_BA6-TUM_mod_citrullination_l_6_01_01-DD...</td>\n",
       "      <td>36770</td>\n",
       "      <td>AAADQMRDFLVR</td>\n",
       "      <td>2</td>\n",
       "      <td>HCD</td>\n",
       "      <td>FTMS</td>\n",
       "      <td>71.085</td>\n",
       "      <td>12</td>\n",
       "      <td>2.796844e+05</td>\n",
       "      <td>8.867145e+06</td>\n",
       "      <td>28.0</td>\n",
       "      <td>28.627534</td>\n",
       "      <td>[0.31, 0.0, -1.0, 0.0, 0.0, -1.0, 0.0, 0.0, -1...</td>\n",
       "      <td>[175.11931, 0.0, -1.0, 0.0, 0.0, -1.0, 0.0, 0....</td>\n",
       "      <td>0.286275</td>\n",
       "      <td>1</td>\n",
       "      <td>[0, 1, 0, 0, 0, 0]</td>\n",
       "    </tr>\n",
       "    <tr>\n",
       "      <th>41498</th>\n",
       "      <td>02207a_GA6-TUM_mod_citrullination_l_6_01_01-2x...</td>\n",
       "      <td>31972</td>\n",
       "      <td>AAADQM[UNIMOD:35]RDFLVR</td>\n",
       "      <td>3</td>\n",
       "      <td>HCD</td>\n",
       "      <td>FTMS</td>\n",
       "      <td>117.700</td>\n",
       "      <td>12</td>\n",
       "      <td>7.222954e+07</td>\n",
       "      <td>3.094034e+08</td>\n",
       "      <td>20.0</td>\n",
       "      <td>20.398355</td>\n",
       "      <td>[0.0, 0.0, 0.0, 0.0, 0.0, 0.0, 0.0, 0.0, 0.0, ...</td>\n",
       "      <td>[0.0, 0.0, 0.0, 0.0, 0.0, 0.0, 0.0, 0.0, 0.0, ...</td>\n",
       "      <td>0.203984</td>\n",
       "      <td>1</td>\n",
       "      <td>[0, 0, 1, 0, 0, 0]</td>\n",
       "    </tr>\n",
       "    <tr>\n",
       "      <th>72024</th>\n",
       "      <td>02207a_GA6-TUM_mod_citrullination_l_6_01_01-2x...</td>\n",
       "      <td>31972</td>\n",
       "      <td>AAADQM[UNIMOD:35]RDFLVR</td>\n",
       "      <td>3</td>\n",
       "      <td>HCD</td>\n",
       "      <td>FTMS</td>\n",
       "      <td>117.700</td>\n",
       "      <td>12</td>\n",
       "      <td>7.222954e+07</td>\n",
       "      <td>3.094034e+08</td>\n",
       "      <td>20.0</td>\n",
       "      <td>20.398355</td>\n",
       "      <td>[0.0, 0.0, 0.0, 0.0, 0.0, 0.0, 0.0, 0.0, 0.0, ...</td>\n",
       "      <td>[0.0, 0.0, 0.0, 0.0, 0.0, 0.0, 0.0, 0.0, 0.0, ...</td>\n",
       "      <td>0.203984</td>\n",
       "      <td>1</td>\n",
       "      <td>[0, 0, 1, 0, 0, 0]</td>\n",
       "    </tr>\n",
       "  </tbody>\n",
       "</table>\n",
       "</div>"
      ],
      "text/plain": [
       "                                                raw_file  scan_number  \\\n",
       "9763   02207a_BA6-TUM_mod_citrullination_l_6_01_01-DD...        36606   \n",
       "15599  02207a_BA6-TUM_mod_citrullination_l_6_01_01-DD...        36606   \n",
       "9541   02207a_BA6-TUM_mod_citrullination_l_6_01_01-DD...        36766   \n",
       "15180  02207a_BA6-TUM_mod_citrullination_l_6_01_01-DD...        36766   \n",
       "9440   02207a_BA6-TUM_mod_citrullination_l_6_01_01-DD...        36624   \n",
       "15011  02207a_BA6-TUM_mod_citrullination_l_6_01_01-DD...        36624   \n",
       "9232   02207a_BA6-TUM_mod_citrullination_l_6_01_01-DD...        36770   \n",
       "14646  02207a_BA6-TUM_mod_citrullination_l_6_01_01-DD...        36770   \n",
       "41498  02207a_GA6-TUM_mod_citrullination_l_6_01_01-2x...        31972   \n",
       "72024  02207a_GA6-TUM_mod_citrullination_l_6_01_01-2x...        31972   \n",
       "\n",
       "             modified_sequence  precursor_charge fragmentation mass_analyzer  \\\n",
       "9763              AAADQMRDFLVR                 3           HCD          FTMS   \n",
       "15599             AAADQMRDFLVR                 3           HCD          FTMS   \n",
       "9541              AAADQMRDFLVR                 3           HCD          FTMS   \n",
       "15180             AAADQMRDFLVR                 3           HCD          FTMS   \n",
       "9440              AAADQMRDFLVR                 2           HCD          FTMS   \n",
       "15011             AAADQMRDFLVR                 2           HCD          FTMS   \n",
       "9232              AAADQMRDFLVR                 2           HCD          FTMS   \n",
       "14646             AAADQMRDFLVR                 2           HCD          FTMS   \n",
       "41498  AAADQM[UNIMOD:35]RDFLVR                 3           HCD          FTMS   \n",
       "72024  AAADQM[UNIMOD:35]RDFLVR                 3           HCD          FTMS   \n",
       "\n",
       "       andromeda_score  peptide_length  base_intensity  total_intensity  \\\n",
       "9763           142.080              12    4.299898e+06     1.623440e+07   \n",
       "15599          142.080              12    4.299898e+06     1.623440e+07   \n",
       "9541           134.130              12    8.268132e+06     2.976848e+07   \n",
       "15180          134.130              12    8.268132e+06     2.976848e+07   \n",
       "9440            88.338              12    2.656010e+05     8.138860e+06   \n",
       "15011           88.338              12    2.656010e+05     8.138860e+06   \n",
       "9232            71.085              12    2.796844e+05     8.867145e+06   \n",
       "14646           71.085              12    2.796844e+05     8.867145e+06   \n",
       "41498          117.700              12    7.222954e+07     3.094034e+08   \n",
       "72024          117.700              12    7.222954e+07     3.094034e+08   \n",
       "\n",
       "       orig_collision_energy  aligned_collision_energy  \\\n",
       "9763                    28.0                 28.627534   \n",
       "15599                   28.0                 28.627534   \n",
       "9541                    28.0                 28.627534   \n",
       "15180                   28.0                 28.627534   \n",
       "9440                    28.0                 28.627534   \n",
       "15011                   28.0                 28.627534   \n",
       "9232                    28.0                 28.627534   \n",
       "14646                   28.0                 28.627534   \n",
       "41498                   20.0                 20.398355   \n",
       "72024                   20.0                 20.398355   \n",
       "\n",
       "                                         intensities_raw  \\\n",
       "9763   [0.04, 0.0, 0.0, 0.0, 0.0, 0.0, 0.01, 0.0, 0.0...   \n",
       "15599  [0.04, 0.0, 0.0, 0.0, 0.0, 0.0, 0.01, 0.0, 0.0...   \n",
       "9541   [0.04, 0.0, 0.0, 0.0, 0.0, 0.0, 0.0, 0.0, 0.0,...   \n",
       "15180  [0.04, 0.0, 0.0, 0.0, 0.0, 0.0, 0.0, 0.0, 0.0,...   \n",
       "9440   [0.38, 0.0, -1.0, 0.0, 0.0, -1.0, 0.04, 0.0, -...   \n",
       "15011  [0.38, 0.0, -1.0, 0.0, 0.0, -1.0, 0.04, 0.0, -...   \n",
       "9232   [0.31, 0.0, -1.0, 0.0, 0.0, -1.0, 0.0, 0.0, -1...   \n",
       "14646  [0.31, 0.0, -1.0, 0.0, 0.0, -1.0, 0.0, 0.0, -1...   \n",
       "41498  [0.0, 0.0, 0.0, 0.0, 0.0, 0.0, 0.0, 0.0, 0.0, ...   \n",
       "72024  [0.0, 0.0, 0.0, 0.0, 0.0, 0.0, 0.0, 0.0, 0.0, ...   \n",
       "\n",
       "                                              masses_raw  \\\n",
       "9763   [175.11903, 0.0, 0.0, 0.0, 0.0, 0.0, 274.18799...   \n",
       "15599  [175.11903, 0.0, 0.0, 0.0, 0.0, 0.0, 274.18799...   \n",
       "9541   [175.11888, 0.0, 0.0, 0.0, 0.0, 0.0, 0.0, 0.0,...   \n",
       "15180  [175.11888, 0.0, 0.0, 0.0, 0.0, 0.0, 0.0, 0.0,...   \n",
       "9440   [175.11888, 0.0, -1.0, 0.0, 0.0, -1.0, 274.186...   \n",
       "15011  [175.11888, 0.0, -1.0, 0.0, 0.0, -1.0, 274.186...   \n",
       "9232   [175.11931, 0.0, -1.0, 0.0, 0.0, -1.0, 0.0, 0....   \n",
       "14646  [175.11931, 0.0, -1.0, 0.0, 0.0, -1.0, 0.0, 0....   \n",
       "41498  [0.0, 0.0, 0.0, 0.0, 0.0, 0.0, 0.0, 0.0, 0.0, ...   \n",
       "72024  [0.0, 0.0, 0.0, 0.0, 0.0, 0.0, 0.0, 0.0, 0.0, ...   \n",
       "\n",
       "       collision_energy_aligned_normed  method_nbr precursor_charge_onehot  \n",
       "9763                          0.286275           1      [0, 0, 1, 0, 0, 0]  \n",
       "15599                         0.286275           1      [0, 0, 1, 0, 0, 0]  \n",
       "9541                          0.286275           1      [0, 0, 1, 0, 0, 0]  \n",
       "15180                         0.286275           1      [0, 0, 1, 0, 0, 0]  \n",
       "9440                          0.286275           1      [0, 1, 0, 0, 0, 0]  \n",
       "15011                         0.286275           1      [0, 1, 0, 0, 0, 0]  \n",
       "9232                          0.286275           1      [0, 1, 0, 0, 0, 0]  \n",
       "14646                         0.286275           1      [0, 1, 0, 0, 0, 0]  \n",
       "41498                         0.203984           1      [0, 0, 1, 0, 0, 0]  \n",
       "72024                         0.203984           1      [0, 0, 1, 0, 0, 0]  "
      ]
     },
     "execution_count": 10,
     "metadata": {},
     "output_type": "execute_result"
    }
   ],
   "source": [
    "data_HCD.head(10)"
   ]
  },
  {
   "cell_type": "markdown",
   "id": "c8186185-362e-4cc0-9493-120f49d660cd",
   "metadata": {},
   "source": [
    "## Select only the top 5 modified_sequences with highest score"
   ]
  },
  {
   "cell_type": "code",
   "execution_count": 11,
   "id": "0c5036e0-c239-43e4-be7b-670c68abab16",
   "metadata": {},
   "outputs": [],
   "source": [
    "data_HCD_5 = data_HCD.sort_values(['modified_sequence', 'andromeda_score'], ascending=[True, False]).groupby('modified_sequence').head(5)"
   ]
  },
  {
   "cell_type": "code",
   "execution_count": 12,
   "id": "c53dff13-90c4-4af6-8256-0ed927a2d1f0",
   "metadata": {},
   "outputs": [],
   "source": [
    "data_HCD_5.reset_index(inplace=True)"
   ]
  },
  {
   "cell_type": "code",
   "execution_count": 13,
   "id": "7cf1f9fb-22e0-447e-bd36-117e010b7cd7",
   "metadata": {},
   "outputs": [
    {
     "data": {
      "text/html": [
       "<div>\n",
       "<style scoped>\n",
       "    .dataframe tbody tr th:only-of-type {\n",
       "        vertical-align: middle;\n",
       "    }\n",
       "\n",
       "    .dataframe tbody tr th {\n",
       "        vertical-align: top;\n",
       "    }\n",
       "\n",
       "    .dataframe thead th {\n",
       "        text-align: right;\n",
       "    }\n",
       "</style>\n",
       "<table border=\"1\" class=\"dataframe\">\n",
       "  <thead>\n",
       "    <tr style=\"text-align: right;\">\n",
       "      <th></th>\n",
       "      <th>index</th>\n",
       "      <th>raw_file</th>\n",
       "      <th>scan_number</th>\n",
       "      <th>modified_sequence</th>\n",
       "      <th>precursor_charge</th>\n",
       "      <th>fragmentation</th>\n",
       "      <th>mass_analyzer</th>\n",
       "      <th>andromeda_score</th>\n",
       "      <th>peptide_length</th>\n",
       "      <th>base_intensity</th>\n",
       "      <th>total_intensity</th>\n",
       "      <th>orig_collision_energy</th>\n",
       "      <th>aligned_collision_energy</th>\n",
       "      <th>intensities_raw</th>\n",
       "      <th>masses_raw</th>\n",
       "      <th>collision_energy_aligned_normed</th>\n",
       "      <th>method_nbr</th>\n",
       "      <th>precursor_charge_onehot</th>\n",
       "    </tr>\n",
       "  </thead>\n",
       "  <tbody>\n",
       "    <tr>\n",
       "      <th>0</th>\n",
       "      <td>9763</td>\n",
       "      <td>02207a_BA6-TUM_mod_citrullination_l_6_01_01-DD...</td>\n",
       "      <td>36606</td>\n",
       "      <td>AAADQMRDFLVR</td>\n",
       "      <td>3</td>\n",
       "      <td>HCD</td>\n",
       "      <td>FTMS</td>\n",
       "      <td>142.080</td>\n",
       "      <td>12</td>\n",
       "      <td>4.299898e+06</td>\n",
       "      <td>1.623440e+07</td>\n",
       "      <td>28.0</td>\n",
       "      <td>28.627534</td>\n",
       "      <td>[0.04, 0.0, 0.0, 0.0, 0.0, 0.0, 0.01, 0.0, 0.0...</td>\n",
       "      <td>[175.11903, 0.0, 0.0, 0.0, 0.0, 0.0, 274.18799...</td>\n",
       "      <td>0.286275</td>\n",
       "      <td>1</td>\n",
       "      <td>[0, 0, 1, 0, 0, 0]</td>\n",
       "    </tr>\n",
       "    <tr>\n",
       "      <th>1</th>\n",
       "      <td>15599</td>\n",
       "      <td>02207a_BA6-TUM_mod_citrullination_l_6_01_01-DD...</td>\n",
       "      <td>36606</td>\n",
       "      <td>AAADQMRDFLVR</td>\n",
       "      <td>3</td>\n",
       "      <td>HCD</td>\n",
       "      <td>FTMS</td>\n",
       "      <td>142.080</td>\n",
       "      <td>12</td>\n",
       "      <td>4.299898e+06</td>\n",
       "      <td>1.623440e+07</td>\n",
       "      <td>28.0</td>\n",
       "      <td>28.627534</td>\n",
       "      <td>[0.04, 0.0, 0.0, 0.0, 0.0, 0.0, 0.01, 0.0, 0.0...</td>\n",
       "      <td>[175.11903, 0.0, 0.0, 0.0, 0.0, 0.0, 274.18799...</td>\n",
       "      <td>0.286275</td>\n",
       "      <td>1</td>\n",
       "      <td>[0, 0, 1, 0, 0, 0]</td>\n",
       "    </tr>\n",
       "    <tr>\n",
       "      <th>2</th>\n",
       "      <td>9541</td>\n",
       "      <td>02207a_BA6-TUM_mod_citrullination_l_6_01_01-DD...</td>\n",
       "      <td>36766</td>\n",
       "      <td>AAADQMRDFLVR</td>\n",
       "      <td>3</td>\n",
       "      <td>HCD</td>\n",
       "      <td>FTMS</td>\n",
       "      <td>134.130</td>\n",
       "      <td>12</td>\n",
       "      <td>8.268132e+06</td>\n",
       "      <td>2.976848e+07</td>\n",
       "      <td>28.0</td>\n",
       "      <td>28.627534</td>\n",
       "      <td>[0.04, 0.0, 0.0, 0.0, 0.0, 0.0, 0.0, 0.0, 0.0,...</td>\n",
       "      <td>[175.11888, 0.0, 0.0, 0.0, 0.0, 0.0, 0.0, 0.0,...</td>\n",
       "      <td>0.286275</td>\n",
       "      <td>1</td>\n",
       "      <td>[0, 0, 1, 0, 0, 0]</td>\n",
       "    </tr>\n",
       "    <tr>\n",
       "      <th>3</th>\n",
       "      <td>15180</td>\n",
       "      <td>02207a_BA6-TUM_mod_citrullination_l_6_01_01-DD...</td>\n",
       "      <td>36766</td>\n",
       "      <td>AAADQMRDFLVR</td>\n",
       "      <td>3</td>\n",
       "      <td>HCD</td>\n",
       "      <td>FTMS</td>\n",
       "      <td>134.130</td>\n",
       "      <td>12</td>\n",
       "      <td>8.268132e+06</td>\n",
       "      <td>2.976848e+07</td>\n",
       "      <td>28.0</td>\n",
       "      <td>28.627534</td>\n",
       "      <td>[0.04, 0.0, 0.0, 0.0, 0.0, 0.0, 0.0, 0.0, 0.0,...</td>\n",
       "      <td>[175.11888, 0.0, 0.0, 0.0, 0.0, 0.0, 0.0, 0.0,...</td>\n",
       "      <td>0.286275</td>\n",
       "      <td>1</td>\n",
       "      <td>[0, 0, 1, 0, 0, 0]</td>\n",
       "    </tr>\n",
       "    <tr>\n",
       "      <th>4</th>\n",
       "      <td>9440</td>\n",
       "      <td>02207a_BA6-TUM_mod_citrullination_l_6_01_01-DD...</td>\n",
       "      <td>36624</td>\n",
       "      <td>AAADQMRDFLVR</td>\n",
       "      <td>2</td>\n",
       "      <td>HCD</td>\n",
       "      <td>FTMS</td>\n",
       "      <td>88.338</td>\n",
       "      <td>12</td>\n",
       "      <td>2.656010e+05</td>\n",
       "      <td>8.138860e+06</td>\n",
       "      <td>28.0</td>\n",
       "      <td>28.627534</td>\n",
       "      <td>[0.38, 0.0, -1.0, 0.0, 0.0, -1.0, 0.04, 0.0, -...</td>\n",
       "      <td>[175.11888, 0.0, -1.0, 0.0, 0.0, -1.0, 274.186...</td>\n",
       "      <td>0.286275</td>\n",
       "      <td>1</td>\n",
       "      <td>[0, 1, 0, 0, 0, 0]</td>\n",
       "    </tr>\n",
       "    <tr>\n",
       "      <th>5</th>\n",
       "      <td>41498</td>\n",
       "      <td>02207a_GA6-TUM_mod_citrullination_l_6_01_01-2x...</td>\n",
       "      <td>31972</td>\n",
       "      <td>AAADQM[UNIMOD:35]RDFLVR</td>\n",
       "      <td>3</td>\n",
       "      <td>HCD</td>\n",
       "      <td>FTMS</td>\n",
       "      <td>117.700</td>\n",
       "      <td>12</td>\n",
       "      <td>7.222954e+07</td>\n",
       "      <td>3.094034e+08</td>\n",
       "      <td>20.0</td>\n",
       "      <td>20.398355</td>\n",
       "      <td>[0.0, 0.0, 0.0, 0.0, 0.0, 0.0, 0.0, 0.0, 0.0, ...</td>\n",
       "      <td>[0.0, 0.0, 0.0, 0.0, 0.0, 0.0, 0.0, 0.0, 0.0, ...</td>\n",
       "      <td>0.203984</td>\n",
       "      <td>1</td>\n",
       "      <td>[0, 0, 1, 0, 0, 0]</td>\n",
       "    </tr>\n",
       "    <tr>\n",
       "      <th>6</th>\n",
       "      <td>72024</td>\n",
       "      <td>02207a_GA6-TUM_mod_citrullination_l_6_01_01-2x...</td>\n",
       "      <td>31972</td>\n",
       "      <td>AAADQM[UNIMOD:35]RDFLVR</td>\n",
       "      <td>3</td>\n",
       "      <td>HCD</td>\n",
       "      <td>FTMS</td>\n",
       "      <td>117.700</td>\n",
       "      <td>12</td>\n",
       "      <td>7.222954e+07</td>\n",
       "      <td>3.094034e+08</td>\n",
       "      <td>20.0</td>\n",
       "      <td>20.398355</td>\n",
       "      <td>[0.0, 0.0, 0.0, 0.0, 0.0, 0.0, 0.0, 0.0, 0.0, ...</td>\n",
       "      <td>[0.0, 0.0, 0.0, 0.0, 0.0, 0.0, 0.0, 0.0, 0.0, ...</td>\n",
       "      <td>0.203984</td>\n",
       "      <td>1</td>\n",
       "      <td>[0, 0, 1, 0, 0, 0]</td>\n",
       "    </tr>\n",
       "    <tr>\n",
       "      <th>7</th>\n",
       "      <td>41476</td>\n",
       "      <td>02207a_GA6-TUM_mod_citrullination_l_6_01_01-2x...</td>\n",
       "      <td>31871</td>\n",
       "      <td>AAADQM[UNIMOD:35]RDFLVR</td>\n",
       "      <td>3</td>\n",
       "      <td>HCD</td>\n",
       "      <td>FTMS</td>\n",
       "      <td>116.030</td>\n",
       "      <td>12</td>\n",
       "      <td>1.843500e+07</td>\n",
       "      <td>8.495387e+07</td>\n",
       "      <td>23.0</td>\n",
       "      <td>23.398355</td>\n",
       "      <td>[0.01, 0.0, 0.0, 0.0, 0.0, 0.0, 0.0, 0.0, 0.0,...</td>\n",
       "      <td>[175.11896, 0.0, 0.0, 0.0, 0.0, 0.0, 0.0, 0.0,...</td>\n",
       "      <td>0.233984</td>\n",
       "      <td>1</td>\n",
       "      <td>[0, 0, 1, 0, 0, 0]</td>\n",
       "    </tr>\n",
       "    <tr>\n",
       "      <th>8</th>\n",
       "      <td>71980</td>\n",
       "      <td>02207a_GA6-TUM_mod_citrullination_l_6_01_01-2x...</td>\n",
       "      <td>31871</td>\n",
       "      <td>AAADQM[UNIMOD:35]RDFLVR</td>\n",
       "      <td>3</td>\n",
       "      <td>HCD</td>\n",
       "      <td>FTMS</td>\n",
       "      <td>116.030</td>\n",
       "      <td>12</td>\n",
       "      <td>1.843500e+07</td>\n",
       "      <td>8.495387e+07</td>\n",
       "      <td>23.0</td>\n",
       "      <td>23.398355</td>\n",
       "      <td>[0.01, 0.0, 0.0, 0.0, 0.0, 0.0, 0.0, 0.0, 0.0,...</td>\n",
       "      <td>[175.11896, 0.0, 0.0, 0.0, 0.0, 0.0, 0.0, 0.0,...</td>\n",
       "      <td>0.233984</td>\n",
       "      <td>1</td>\n",
       "      <td>[0, 0, 1, 0, 0, 0]</td>\n",
       "    </tr>\n",
       "    <tr>\n",
       "      <th>9</th>\n",
       "      <td>9953</td>\n",
       "      <td>02207a_BA6-TUM_mod_citrullination_l_6_01_01-DD...</td>\n",
       "      <td>25503</td>\n",
       "      <td>AAADQM[UNIMOD:35]RDFLVR</td>\n",
       "      <td>3</td>\n",
       "      <td>HCD</td>\n",
       "      <td>FTMS</td>\n",
       "      <td>115.330</td>\n",
       "      <td>12</td>\n",
       "      <td>1.152961e+07</td>\n",
       "      <td>7.651467e+07</td>\n",
       "      <td>28.0</td>\n",
       "      <td>28.627534</td>\n",
       "      <td>[0.06, 0.0, 0.0, 0.0, 0.0, 0.0, 0.01, 0.0, 0.0...</td>\n",
       "      <td>[175.11894, 0.0, 0.0, 0.0, 0.0, 0.0, 274.18552...</td>\n",
       "      <td>0.286275</td>\n",
       "      <td>1</td>\n",
       "      <td>[0, 0, 1, 0, 0, 0]</td>\n",
       "    </tr>\n",
       "  </tbody>\n",
       "</table>\n",
       "</div>"
      ],
      "text/plain": [
       "   index                                           raw_file  scan_number  \\\n",
       "0   9763  02207a_BA6-TUM_mod_citrullination_l_6_01_01-DD...        36606   \n",
       "1  15599  02207a_BA6-TUM_mod_citrullination_l_6_01_01-DD...        36606   \n",
       "2   9541  02207a_BA6-TUM_mod_citrullination_l_6_01_01-DD...        36766   \n",
       "3  15180  02207a_BA6-TUM_mod_citrullination_l_6_01_01-DD...        36766   \n",
       "4   9440  02207a_BA6-TUM_mod_citrullination_l_6_01_01-DD...        36624   \n",
       "5  41498  02207a_GA6-TUM_mod_citrullination_l_6_01_01-2x...        31972   \n",
       "6  72024  02207a_GA6-TUM_mod_citrullination_l_6_01_01-2x...        31972   \n",
       "7  41476  02207a_GA6-TUM_mod_citrullination_l_6_01_01-2x...        31871   \n",
       "8  71980  02207a_GA6-TUM_mod_citrullination_l_6_01_01-2x...        31871   \n",
       "9   9953  02207a_BA6-TUM_mod_citrullination_l_6_01_01-DD...        25503   \n",
       "\n",
       "         modified_sequence  precursor_charge fragmentation mass_analyzer  \\\n",
       "0             AAADQMRDFLVR                 3           HCD          FTMS   \n",
       "1             AAADQMRDFLVR                 3           HCD          FTMS   \n",
       "2             AAADQMRDFLVR                 3           HCD          FTMS   \n",
       "3             AAADQMRDFLVR                 3           HCD          FTMS   \n",
       "4             AAADQMRDFLVR                 2           HCD          FTMS   \n",
       "5  AAADQM[UNIMOD:35]RDFLVR                 3           HCD          FTMS   \n",
       "6  AAADQM[UNIMOD:35]RDFLVR                 3           HCD          FTMS   \n",
       "7  AAADQM[UNIMOD:35]RDFLVR                 3           HCD          FTMS   \n",
       "8  AAADQM[UNIMOD:35]RDFLVR                 3           HCD          FTMS   \n",
       "9  AAADQM[UNIMOD:35]RDFLVR                 3           HCD          FTMS   \n",
       "\n",
       "   andromeda_score  peptide_length  base_intensity  total_intensity  \\\n",
       "0          142.080              12    4.299898e+06     1.623440e+07   \n",
       "1          142.080              12    4.299898e+06     1.623440e+07   \n",
       "2          134.130              12    8.268132e+06     2.976848e+07   \n",
       "3          134.130              12    8.268132e+06     2.976848e+07   \n",
       "4           88.338              12    2.656010e+05     8.138860e+06   \n",
       "5          117.700              12    7.222954e+07     3.094034e+08   \n",
       "6          117.700              12    7.222954e+07     3.094034e+08   \n",
       "7          116.030              12    1.843500e+07     8.495387e+07   \n",
       "8          116.030              12    1.843500e+07     8.495387e+07   \n",
       "9          115.330              12    1.152961e+07     7.651467e+07   \n",
       "\n",
       "   orig_collision_energy  aligned_collision_energy  \\\n",
       "0                   28.0                 28.627534   \n",
       "1                   28.0                 28.627534   \n",
       "2                   28.0                 28.627534   \n",
       "3                   28.0                 28.627534   \n",
       "4                   28.0                 28.627534   \n",
       "5                   20.0                 20.398355   \n",
       "6                   20.0                 20.398355   \n",
       "7                   23.0                 23.398355   \n",
       "8                   23.0                 23.398355   \n",
       "9                   28.0                 28.627534   \n",
       "\n",
       "                                     intensities_raw  \\\n",
       "0  [0.04, 0.0, 0.0, 0.0, 0.0, 0.0, 0.01, 0.0, 0.0...   \n",
       "1  [0.04, 0.0, 0.0, 0.0, 0.0, 0.0, 0.01, 0.0, 0.0...   \n",
       "2  [0.04, 0.0, 0.0, 0.0, 0.0, 0.0, 0.0, 0.0, 0.0,...   \n",
       "3  [0.04, 0.0, 0.0, 0.0, 0.0, 0.0, 0.0, 0.0, 0.0,...   \n",
       "4  [0.38, 0.0, -1.0, 0.0, 0.0, -1.0, 0.04, 0.0, -...   \n",
       "5  [0.0, 0.0, 0.0, 0.0, 0.0, 0.0, 0.0, 0.0, 0.0, ...   \n",
       "6  [0.0, 0.0, 0.0, 0.0, 0.0, 0.0, 0.0, 0.0, 0.0, ...   \n",
       "7  [0.01, 0.0, 0.0, 0.0, 0.0, 0.0, 0.0, 0.0, 0.0,...   \n",
       "8  [0.01, 0.0, 0.0, 0.0, 0.0, 0.0, 0.0, 0.0, 0.0,...   \n",
       "9  [0.06, 0.0, 0.0, 0.0, 0.0, 0.0, 0.01, 0.0, 0.0...   \n",
       "\n",
       "                                          masses_raw  \\\n",
       "0  [175.11903, 0.0, 0.0, 0.0, 0.0, 0.0, 274.18799...   \n",
       "1  [175.11903, 0.0, 0.0, 0.0, 0.0, 0.0, 274.18799...   \n",
       "2  [175.11888, 0.0, 0.0, 0.0, 0.0, 0.0, 0.0, 0.0,...   \n",
       "3  [175.11888, 0.0, 0.0, 0.0, 0.0, 0.0, 0.0, 0.0,...   \n",
       "4  [175.11888, 0.0, -1.0, 0.0, 0.0, -1.0, 274.186...   \n",
       "5  [0.0, 0.0, 0.0, 0.0, 0.0, 0.0, 0.0, 0.0, 0.0, ...   \n",
       "6  [0.0, 0.0, 0.0, 0.0, 0.0, 0.0, 0.0, 0.0, 0.0, ...   \n",
       "7  [175.11896, 0.0, 0.0, 0.0, 0.0, 0.0, 0.0, 0.0,...   \n",
       "8  [175.11896, 0.0, 0.0, 0.0, 0.0, 0.0, 0.0, 0.0,...   \n",
       "9  [175.11894, 0.0, 0.0, 0.0, 0.0, 0.0, 274.18552...   \n",
       "\n",
       "   collision_energy_aligned_normed  method_nbr precursor_charge_onehot  \n",
       "0                         0.286275           1      [0, 0, 1, 0, 0, 0]  \n",
       "1                         0.286275           1      [0, 0, 1, 0, 0, 0]  \n",
       "2                         0.286275           1      [0, 0, 1, 0, 0, 0]  \n",
       "3                         0.286275           1      [0, 0, 1, 0, 0, 0]  \n",
       "4                         0.286275           1      [0, 1, 0, 0, 0, 0]  \n",
       "5                         0.203984           1      [0, 0, 1, 0, 0, 0]  \n",
       "6                         0.203984           1      [0, 0, 1, 0, 0, 0]  \n",
       "7                         0.233984           1      [0, 0, 1, 0, 0, 0]  \n",
       "8                         0.233984           1      [0, 0, 1, 0, 0, 0]  \n",
       "9                         0.286275           1      [0, 0, 1, 0, 0, 0]  "
      ]
     },
     "execution_count": 13,
     "metadata": {},
     "output_type": "execute_result"
    }
   ],
   "source": [
    "data_HCD_5.head(10)"
   ]
  },
  {
   "cell_type": "code",
   "execution_count": 14,
   "id": "17391bb1-c333-4e34-b3ff-0a1190cdeb49",
   "metadata": {},
   "outputs": [],
   "source": [
    "data_CID_5 = data_CID.sort_values(['modified_sequence', 'andromeda_score'], ascending=[True, False]).groupby('modified_sequence').head(5)"
   ]
  },
  {
   "cell_type": "code",
   "execution_count": 15,
   "id": "84848792-01de-40dd-80e1-8898802c5400",
   "metadata": {},
   "outputs": [],
   "source": [
    "data_CID_5.reset_index(inplace=True)"
   ]
  },
  {
   "cell_type": "code",
   "execution_count": 16,
   "id": "69b9d89d-96e0-4e0a-a190-bfcaa64a84de",
   "metadata": {},
   "outputs": [
    {
     "data": {
      "text/html": [
       "<div>\n",
       "<style scoped>\n",
       "    .dataframe tbody tr th:only-of-type {\n",
       "        vertical-align: middle;\n",
       "    }\n",
       "\n",
       "    .dataframe tbody tr th {\n",
       "        vertical-align: top;\n",
       "    }\n",
       "\n",
       "    .dataframe thead th {\n",
       "        text-align: right;\n",
       "    }\n",
       "</style>\n",
       "<table border=\"1\" class=\"dataframe\">\n",
       "  <thead>\n",
       "    <tr style=\"text-align: right;\">\n",
       "      <th></th>\n",
       "      <th>index</th>\n",
       "      <th>raw_file</th>\n",
       "      <th>scan_number</th>\n",
       "      <th>modified_sequence</th>\n",
       "      <th>precursor_charge</th>\n",
       "      <th>fragmentation</th>\n",
       "      <th>mass_analyzer</th>\n",
       "      <th>andromeda_score</th>\n",
       "      <th>peptide_length</th>\n",
       "      <th>base_intensity</th>\n",
       "      <th>total_intensity</th>\n",
       "      <th>orig_collision_energy</th>\n",
       "      <th>aligned_collision_energy</th>\n",
       "      <th>intensities_raw</th>\n",
       "      <th>masses_raw</th>\n",
       "      <th>collision_energy_aligned_normed</th>\n",
       "      <th>method_nbr</th>\n",
       "      <th>precursor_charge_onehot</th>\n",
       "    </tr>\n",
       "  </thead>\n",
       "  <tbody>\n",
       "    <tr>\n",
       "      <th>0</th>\n",
       "      <td>9752</td>\n",
       "      <td>02207a_BA6-TUM_mod_citrullination_l_6_01_01-DD...</td>\n",
       "      <td>36607</td>\n",
       "      <td>AAADQMRDFLVR</td>\n",
       "      <td>3</td>\n",
       "      <td>CID</td>\n",
       "      <td>ITMS</td>\n",
       "      <td>144.550</td>\n",
       "      <td>12</td>\n",
       "      <td>1.178367e+06</td>\n",
       "      <td>2.081838e+06</td>\n",
       "      <td>35.0</td>\n",
       "      <td>35.0</td>\n",
       "      <td>[0.0, 0.0, 0.0, 0.0, 0.0, 0.0, 0.0, 0.0, 0.0, ...</td>\n",
       "      <td>[0.0, 0.0, 0.0, 0.0, 0.0, 0.0, 0.0, 0.0, 0.0, ...</td>\n",
       "      <td>0.35</td>\n",
       "      <td>2</td>\n",
       "      <td>[0, 0, 1, 0, 0, 0]</td>\n",
       "    </tr>\n",
       "    <tr>\n",
       "      <th>1</th>\n",
       "      <td>15572</td>\n",
       "      <td>02207a_BA6-TUM_mod_citrullination_l_6_01_01-DD...</td>\n",
       "      <td>36607</td>\n",
       "      <td>AAADQMRDFLVR</td>\n",
       "      <td>3</td>\n",
       "      <td>CID</td>\n",
       "      <td>ITMS</td>\n",
       "      <td>144.550</td>\n",
       "      <td>12</td>\n",
       "      <td>1.178367e+06</td>\n",
       "      <td>2.081838e+06</td>\n",
       "      <td>35.0</td>\n",
       "      <td>35.0</td>\n",
       "      <td>[0.0, 0.0, 0.0, 0.0, 0.0, 0.0, 0.0, 0.0, 0.0, ...</td>\n",
       "      <td>[0.0, 0.0, 0.0, 0.0, 0.0, 0.0, 0.0, 0.0, 0.0, ...</td>\n",
       "      <td>0.35</td>\n",
       "      <td>2</td>\n",
       "      <td>[0, 0, 1, 0, 0, 0]</td>\n",
       "    </tr>\n",
       "    <tr>\n",
       "      <th>2</th>\n",
       "      <td>9633</td>\n",
       "      <td>02207a_BA6-TUM_mod_citrullination_l_6_01_01-DD...</td>\n",
       "      <td>36767</td>\n",
       "      <td>AAADQMRDFLVR</td>\n",
       "      <td>3</td>\n",
       "      <td>CID</td>\n",
       "      <td>ITMS</td>\n",
       "      <td>123.670</td>\n",
       "      <td>12</td>\n",
       "      <td>2.009637e+06</td>\n",
       "      <td>3.306189e+06</td>\n",
       "      <td>35.0</td>\n",
       "      <td>35.0</td>\n",
       "      <td>[0.0, 0.0, 0.0, 0.0, 0.0, 0.0, 0.0, 0.0, 0.0, ...</td>\n",
       "      <td>[0.0, 0.0, 0.0, 0.0, 0.0, 0.0, 0.0, 0.0, 0.0, ...</td>\n",
       "      <td>0.35</td>\n",
       "      <td>2</td>\n",
       "      <td>[0, 0, 1, 0, 0, 0]</td>\n",
       "    </tr>\n",
       "    <tr>\n",
       "      <th>3</th>\n",
       "      <td>15355</td>\n",
       "      <td>02207a_BA6-TUM_mod_citrullination_l_6_01_01-DD...</td>\n",
       "      <td>36767</td>\n",
       "      <td>AAADQMRDFLVR</td>\n",
       "      <td>3</td>\n",
       "      <td>CID</td>\n",
       "      <td>ITMS</td>\n",
       "      <td>123.670</td>\n",
       "      <td>12</td>\n",
       "      <td>2.009637e+06</td>\n",
       "      <td>3.306189e+06</td>\n",
       "      <td>35.0</td>\n",
       "      <td>35.0</td>\n",
       "      <td>[0.0, 0.0, 0.0, 0.0, 0.0, 0.0, 0.0, 0.0, 0.0, ...</td>\n",
       "      <td>[0.0, 0.0, 0.0, 0.0, 0.0, 0.0, 0.0, 0.0, 0.0, ...</td>\n",
       "      <td>0.35</td>\n",
       "      <td>2</td>\n",
       "      <td>[0, 0, 1, 0, 0, 0]</td>\n",
       "    </tr>\n",
       "    <tr>\n",
       "      <th>4</th>\n",
       "      <td>9405</td>\n",
       "      <td>02207a_BA6-TUM_mod_citrullination_l_6_01_01-DD...</td>\n",
       "      <td>36771</td>\n",
       "      <td>AAADQMRDFLVR</td>\n",
       "      <td>2</td>\n",
       "      <td>CID</td>\n",
       "      <td>ITMS</td>\n",
       "      <td>81.676</td>\n",
       "      <td>12</td>\n",
       "      <td>7.928820e+04</td>\n",
       "      <td>6.763675e+05</td>\n",
       "      <td>35.0</td>\n",
       "      <td>35.0</td>\n",
       "      <td>[0.0, 0.0, -1.0, 0.0, 0.0, -1.0, 0.02, 0.0, -1...</td>\n",
       "      <td>[0.0, 0.0, -1.0, 0.0, 0.0, -1.0, 274.26401, 0....</td>\n",
       "      <td>0.35</td>\n",
       "      <td>2</td>\n",
       "      <td>[0, 1, 0, 0, 0, 0]</td>\n",
       "    </tr>\n",
       "    <tr>\n",
       "      <th>5</th>\n",
       "      <td>10040</td>\n",
       "      <td>02207a_BA6-TUM_mod_citrullination_l_6_01_01-DD...</td>\n",
       "      <td>25504</td>\n",
       "      <td>AAADQM[UNIMOD:35]RDFLVR</td>\n",
       "      <td>3</td>\n",
       "      <td>CID</td>\n",
       "      <td>ITMS</td>\n",
       "      <td>135.800</td>\n",
       "      <td>12</td>\n",
       "      <td>2.831054e+06</td>\n",
       "      <td>9.813094e+06</td>\n",
       "      <td>35.0</td>\n",
       "      <td>35.0</td>\n",
       "      <td>[0.0, 0.0, 0.0, 0.0, 0.0, 0.0, 0.01, 0.0, 0.0,...</td>\n",
       "      <td>[0.0, 0.0, 0.0, 0.0, 0.0, 0.0, 274.18872, 0.0,...</td>\n",
       "      <td>0.35</td>\n",
       "      <td>2</td>\n",
       "      <td>[0, 0, 1, 0, 0, 0]</td>\n",
       "    </tr>\n",
       "    <tr>\n",
       "      <th>6</th>\n",
       "      <td>16246</td>\n",
       "      <td>02207a_BA6-TUM_mod_citrullination_l_6_01_01-DD...</td>\n",
       "      <td>25504</td>\n",
       "      <td>AAADQM[UNIMOD:35]RDFLVR</td>\n",
       "      <td>3</td>\n",
       "      <td>CID</td>\n",
       "      <td>ITMS</td>\n",
       "      <td>135.800</td>\n",
       "      <td>12</td>\n",
       "      <td>2.831054e+06</td>\n",
       "      <td>9.813094e+06</td>\n",
       "      <td>35.0</td>\n",
       "      <td>35.0</td>\n",
       "      <td>[0.0, 0.0, 0.0, 0.0, 0.0, 0.0, 0.01, 0.0, 0.0,...</td>\n",
       "      <td>[0.0, 0.0, 0.0, 0.0, 0.0, 0.0, 274.18872, 0.0,...</td>\n",
       "      <td>0.35</td>\n",
       "      <td>2</td>\n",
       "      <td>[0, 0, 1, 0, 0, 0]</td>\n",
       "    </tr>\n",
       "    <tr>\n",
       "      <th>7</th>\n",
       "      <td>41430</td>\n",
       "      <td>02207a_GA6-TUM_mod_citrullination_l_6_01_01-2x...</td>\n",
       "      <td>32149</td>\n",
       "      <td>AAADQM[UNIMOD:35]RDFLVR</td>\n",
       "      <td>3</td>\n",
       "      <td>CID</td>\n",
       "      <td>ITMS</td>\n",
       "      <td>120.770</td>\n",
       "      <td>12</td>\n",
       "      <td>4.888283e+06</td>\n",
       "      <td>1.764705e+07</td>\n",
       "      <td>35.0</td>\n",
       "      <td>35.0</td>\n",
       "      <td>[0.0, 0.0, 0.0, 0.0, 0.0, 0.0, 0.01, 0.0, 0.0,...</td>\n",
       "      <td>[0.0, 0.0, 0.0, 0.0, 0.0, 0.0, 274.15091, 0.0,...</td>\n",
       "      <td>0.35</td>\n",
       "      <td>2</td>\n",
       "      <td>[0, 0, 1, 0, 0, 0]</td>\n",
       "    </tr>\n",
       "    <tr>\n",
       "      <th>8</th>\n",
       "      <td>71828</td>\n",
       "      <td>02207a_GA6-TUM_mod_citrullination_l_6_01_01-2x...</td>\n",
       "      <td>32149</td>\n",
       "      <td>AAADQM[UNIMOD:35]RDFLVR</td>\n",
       "      <td>3</td>\n",
       "      <td>CID</td>\n",
       "      <td>ITMS</td>\n",
       "      <td>120.770</td>\n",
       "      <td>12</td>\n",
       "      <td>4.888283e+06</td>\n",
       "      <td>1.764705e+07</td>\n",
       "      <td>35.0</td>\n",
       "      <td>35.0</td>\n",
       "      <td>[0.0, 0.0, 0.0, 0.0, 0.0, 0.0, 0.01, 0.0, 0.0,...</td>\n",
       "      <td>[0.0, 0.0, 0.0, 0.0, 0.0, 0.0, 274.15091, 0.0,...</td>\n",
       "      <td>0.35</td>\n",
       "      <td>2</td>\n",
       "      <td>[0, 0, 1, 0, 0, 0]</td>\n",
       "    </tr>\n",
       "    <tr>\n",
       "      <th>9</th>\n",
       "      <td>41493</td>\n",
       "      <td>02207a_GA6-TUM_mod_citrullination_l_6_01_01-2x...</td>\n",
       "      <td>32019</td>\n",
       "      <td>AAADQM[UNIMOD:35]RDFLVR</td>\n",
       "      <td>3</td>\n",
       "      <td>CID</td>\n",
       "      <td>ITMS</td>\n",
       "      <td>117.520</td>\n",
       "      <td>12</td>\n",
       "      <td>1.789643e+07</td>\n",
       "      <td>3.626884e+07</td>\n",
       "      <td>35.0</td>\n",
       "      <td>35.0</td>\n",
       "      <td>[0.0, 0.0, 0.0, 0.0, 0.0, 0.0, 0.0, 0.0, 0.0, ...</td>\n",
       "      <td>[0.0, 0.0, 0.0, 0.0, 0.0, 0.0, 0.0, 0.0, 0.0, ...</td>\n",
       "      <td>0.35</td>\n",
       "      <td>2</td>\n",
       "      <td>[0, 0, 1, 0, 0, 0]</td>\n",
       "    </tr>\n",
       "  </tbody>\n",
       "</table>\n",
       "</div>"
      ],
      "text/plain": [
       "   index                                           raw_file  scan_number  \\\n",
       "0   9752  02207a_BA6-TUM_mod_citrullination_l_6_01_01-DD...        36607   \n",
       "1  15572  02207a_BA6-TUM_mod_citrullination_l_6_01_01-DD...        36607   \n",
       "2   9633  02207a_BA6-TUM_mod_citrullination_l_6_01_01-DD...        36767   \n",
       "3  15355  02207a_BA6-TUM_mod_citrullination_l_6_01_01-DD...        36767   \n",
       "4   9405  02207a_BA6-TUM_mod_citrullination_l_6_01_01-DD...        36771   \n",
       "5  10040  02207a_BA6-TUM_mod_citrullination_l_6_01_01-DD...        25504   \n",
       "6  16246  02207a_BA6-TUM_mod_citrullination_l_6_01_01-DD...        25504   \n",
       "7  41430  02207a_GA6-TUM_mod_citrullination_l_6_01_01-2x...        32149   \n",
       "8  71828  02207a_GA6-TUM_mod_citrullination_l_6_01_01-2x...        32149   \n",
       "9  41493  02207a_GA6-TUM_mod_citrullination_l_6_01_01-2x...        32019   \n",
       "\n",
       "         modified_sequence  precursor_charge fragmentation mass_analyzer  \\\n",
       "0             AAADQMRDFLVR                 3           CID          ITMS   \n",
       "1             AAADQMRDFLVR                 3           CID          ITMS   \n",
       "2             AAADQMRDFLVR                 3           CID          ITMS   \n",
       "3             AAADQMRDFLVR                 3           CID          ITMS   \n",
       "4             AAADQMRDFLVR                 2           CID          ITMS   \n",
       "5  AAADQM[UNIMOD:35]RDFLVR                 3           CID          ITMS   \n",
       "6  AAADQM[UNIMOD:35]RDFLVR                 3           CID          ITMS   \n",
       "7  AAADQM[UNIMOD:35]RDFLVR                 3           CID          ITMS   \n",
       "8  AAADQM[UNIMOD:35]RDFLVR                 3           CID          ITMS   \n",
       "9  AAADQM[UNIMOD:35]RDFLVR                 3           CID          ITMS   \n",
       "\n",
       "   andromeda_score  peptide_length  base_intensity  total_intensity  \\\n",
       "0          144.550              12    1.178367e+06     2.081838e+06   \n",
       "1          144.550              12    1.178367e+06     2.081838e+06   \n",
       "2          123.670              12    2.009637e+06     3.306189e+06   \n",
       "3          123.670              12    2.009637e+06     3.306189e+06   \n",
       "4           81.676              12    7.928820e+04     6.763675e+05   \n",
       "5          135.800              12    2.831054e+06     9.813094e+06   \n",
       "6          135.800              12    2.831054e+06     9.813094e+06   \n",
       "7          120.770              12    4.888283e+06     1.764705e+07   \n",
       "8          120.770              12    4.888283e+06     1.764705e+07   \n",
       "9          117.520              12    1.789643e+07     3.626884e+07   \n",
       "\n",
       "   orig_collision_energy  aligned_collision_energy  \\\n",
       "0                   35.0                      35.0   \n",
       "1                   35.0                      35.0   \n",
       "2                   35.0                      35.0   \n",
       "3                   35.0                      35.0   \n",
       "4                   35.0                      35.0   \n",
       "5                   35.0                      35.0   \n",
       "6                   35.0                      35.0   \n",
       "7                   35.0                      35.0   \n",
       "8                   35.0                      35.0   \n",
       "9                   35.0                      35.0   \n",
       "\n",
       "                                     intensities_raw  \\\n",
       "0  [0.0, 0.0, 0.0, 0.0, 0.0, 0.0, 0.0, 0.0, 0.0, ...   \n",
       "1  [0.0, 0.0, 0.0, 0.0, 0.0, 0.0, 0.0, 0.0, 0.0, ...   \n",
       "2  [0.0, 0.0, 0.0, 0.0, 0.0, 0.0, 0.0, 0.0, 0.0, ...   \n",
       "3  [0.0, 0.0, 0.0, 0.0, 0.0, 0.0, 0.0, 0.0, 0.0, ...   \n",
       "4  [0.0, 0.0, -1.0, 0.0, 0.0, -1.0, 0.02, 0.0, -1...   \n",
       "5  [0.0, 0.0, 0.0, 0.0, 0.0, 0.0, 0.01, 0.0, 0.0,...   \n",
       "6  [0.0, 0.0, 0.0, 0.0, 0.0, 0.0, 0.01, 0.0, 0.0,...   \n",
       "7  [0.0, 0.0, 0.0, 0.0, 0.0, 0.0, 0.01, 0.0, 0.0,...   \n",
       "8  [0.0, 0.0, 0.0, 0.0, 0.0, 0.0, 0.01, 0.0, 0.0,...   \n",
       "9  [0.0, 0.0, 0.0, 0.0, 0.0, 0.0, 0.0, 0.0, 0.0, ...   \n",
       "\n",
       "                                          masses_raw  \\\n",
       "0  [0.0, 0.0, 0.0, 0.0, 0.0, 0.0, 0.0, 0.0, 0.0, ...   \n",
       "1  [0.0, 0.0, 0.0, 0.0, 0.0, 0.0, 0.0, 0.0, 0.0, ...   \n",
       "2  [0.0, 0.0, 0.0, 0.0, 0.0, 0.0, 0.0, 0.0, 0.0, ...   \n",
       "3  [0.0, 0.0, 0.0, 0.0, 0.0, 0.0, 0.0, 0.0, 0.0, ...   \n",
       "4  [0.0, 0.0, -1.0, 0.0, 0.0, -1.0, 274.26401, 0....   \n",
       "5  [0.0, 0.0, 0.0, 0.0, 0.0, 0.0, 274.18872, 0.0,...   \n",
       "6  [0.0, 0.0, 0.0, 0.0, 0.0, 0.0, 274.18872, 0.0,...   \n",
       "7  [0.0, 0.0, 0.0, 0.0, 0.0, 0.0, 274.15091, 0.0,...   \n",
       "8  [0.0, 0.0, 0.0, 0.0, 0.0, 0.0, 274.15091, 0.0,...   \n",
       "9  [0.0, 0.0, 0.0, 0.0, 0.0, 0.0, 0.0, 0.0, 0.0, ...   \n",
       "\n",
       "   collision_energy_aligned_normed  method_nbr precursor_charge_onehot  \n",
       "0                             0.35           2      [0, 0, 1, 0, 0, 0]  \n",
       "1                             0.35           2      [0, 0, 1, 0, 0, 0]  \n",
       "2                             0.35           2      [0, 0, 1, 0, 0, 0]  \n",
       "3                             0.35           2      [0, 0, 1, 0, 0, 0]  \n",
       "4                             0.35           2      [0, 1, 0, 0, 0, 0]  \n",
       "5                             0.35           2      [0, 0, 1, 0, 0, 0]  \n",
       "6                             0.35           2      [0, 0, 1, 0, 0, 0]  \n",
       "7                             0.35           2      [0, 0, 1, 0, 0, 0]  \n",
       "8                             0.35           2      [0, 0, 1, 0, 0, 0]  \n",
       "9                             0.35           2      [0, 0, 1, 0, 0, 0]  "
      ]
     },
     "execution_count": 16,
     "metadata": {},
     "output_type": "execute_result"
    }
   ],
   "source": [
    "data_CID_5.head(10)"
   ]
  },
  {
   "cell_type": "markdown",
   "id": "daaabec8-6639-487b-92db-8d8db70bedd7",
   "metadata": {},
   "source": [
    "## Calculate 10% of the dataframes to create a test set"
   ]
  },
  {
   "cell_type": "code",
   "execution_count": 17,
   "id": "9c275bbf-8853-403f-8c5d-e63b77e0eb5a",
   "metadata": {},
   "outputs": [
    {
     "data": {
      "text/plain": [
       "2416"
      ]
     },
     "execution_count": 17,
     "metadata": {},
     "output_type": "execute_result"
    }
   ],
   "source": [
    "ten_percent_HCD = int(len(data_HCD_5)*0.1)\n",
    "ten_percent_HCD"
   ]
  },
  {
   "cell_type": "code",
   "execution_count": 18,
   "id": "0a17c084-572b-4495-b9d5-6281713feed0",
   "metadata": {},
   "outputs": [
    {
     "data": {
      "text/plain": [
       "2657"
      ]
     },
     "execution_count": 18,
     "metadata": {},
     "output_type": "execute_result"
    }
   ],
   "source": [
    "ten_percent_CID = int(len(data_CID_5)*0.1)\n",
    "ten_percent_CID"
   ]
  },
  {
   "cell_type": "markdown",
   "id": "2e807fea-0c0c-4591-859b-61b7e86c80a8",
   "metadata": {},
   "source": [
    "## Create TEST set"
   ]
  },
  {
   "cell_type": "code",
   "execution_count": 19,
   "id": "90c94ce8-c6ee-4722-befa-637ef99d295e",
   "metadata": {},
   "outputs": [],
   "source": [
    "test_HCD = data_HCD_5.head(ten_percent_HCD)"
   ]
  },
  {
   "cell_type": "code",
   "execution_count": 20,
   "id": "41806013-deaf-4618-9cf7-5fba59c73feb",
   "metadata": {},
   "outputs": [
    {
     "data": {
      "text/plain": [
       "RangeIndex(start=0, stop=2416, step=1)"
      ]
     },
     "execution_count": 20,
     "metadata": {},
     "output_type": "execute_result"
    }
   ],
   "source": [
    "index_test_HCD = test_HCD.index\n",
    "index_test_HCD"
   ]
  },
  {
   "cell_type": "code",
   "execution_count": 21,
   "id": "27a3289e-46ad-482c-870c-98685978556b",
   "metadata": {},
   "outputs": [],
   "source": [
    "test_CID = data_CID_5.head(ten_percent_CID)"
   ]
  },
  {
   "cell_type": "code",
   "execution_count": 22,
   "id": "10c7e79f-f8c2-40f7-b75b-abcff797fb94",
   "metadata": {},
   "outputs": [
    {
     "data": {
      "text/plain": [
       "RangeIndex(start=0, stop=2657, step=1)"
      ]
     },
     "execution_count": 22,
     "metadata": {},
     "output_type": "execute_result"
    }
   ],
   "source": [
    "index_test_CID = test_CID.index\n",
    "index_test_CID"
   ]
  },
  {
   "cell_type": "markdown",
   "id": "b8605cd4-e74b-41cd-9246-9e57cb2081f0",
   "metadata": {},
   "source": [
    "## Create TRAIN_VAL set"
   ]
  },
  {
   "cell_type": "code",
   "execution_count": 23,
   "id": "d70a3e2d-f931-438f-99d3-4373e35c4e4b",
   "metadata": {},
   "outputs": [
    {
     "data": {
      "text/html": [
       "<div>\n",
       "<style scoped>\n",
       "    .dataframe tbody tr th:only-of-type {\n",
       "        vertical-align: middle;\n",
       "    }\n",
       "\n",
       "    .dataframe tbody tr th {\n",
       "        vertical-align: top;\n",
       "    }\n",
       "\n",
       "    .dataframe thead th {\n",
       "        text-align: right;\n",
       "    }\n",
       "</style>\n",
       "<table border=\"1\" class=\"dataframe\">\n",
       "  <thead>\n",
       "    <tr style=\"text-align: right;\">\n",
       "      <th></th>\n",
       "      <th>index</th>\n",
       "      <th>raw_file</th>\n",
       "      <th>scan_number</th>\n",
       "      <th>modified_sequence</th>\n",
       "      <th>precursor_charge</th>\n",
       "      <th>fragmentation</th>\n",
       "      <th>mass_analyzer</th>\n",
       "      <th>andromeda_score</th>\n",
       "      <th>peptide_length</th>\n",
       "      <th>base_intensity</th>\n",
       "      <th>total_intensity</th>\n",
       "      <th>orig_collision_energy</th>\n",
       "      <th>aligned_collision_energy</th>\n",
       "      <th>intensities_raw</th>\n",
       "      <th>masses_raw</th>\n",
       "      <th>collision_energy_aligned_normed</th>\n",
       "      <th>method_nbr</th>\n",
       "      <th>precursor_charge_onehot</th>\n",
       "    </tr>\n",
       "  </thead>\n",
       "  <tbody>\n",
       "    <tr>\n",
       "      <th>2416</th>\n",
       "      <td>34026</td>\n",
       "      <td>02207a_BB7-TUM_mod_citrullination_l_19_01_01-D...</td>\n",
       "      <td>27894</td>\n",
       "      <td>DGPPLRGSDMDFREPTEEER</td>\n",
       "      <td>4</td>\n",
       "      <td>HCD</td>\n",
       "      <td>FTMS</td>\n",
       "      <td>101.170</td>\n",
       "      <td>20</td>\n",
       "      <td>2.022827e+06</td>\n",
       "      <td>1.687936e+07</td>\n",
       "      <td>28.0</td>\n",
       "      <td>28.824272</td>\n",
       "      <td>[0.02, 0.0, 0.0, 0.0, 0.0, 0.0, 0.05, 0.0, 0.0...</td>\n",
       "      <td>[175.11847, 0.0, 0.0, 0.0, 0.0, 0.0, 304.16086...</td>\n",
       "      <td>0.288243</td>\n",
       "      <td>1</td>\n",
       "      <td>[0, 0, 0, 1, 0, 0]</td>\n",
       "    </tr>\n",
       "    <tr>\n",
       "      <th>2417</th>\n",
       "      <td>20068</td>\n",
       "      <td>02207a_BB7-TUM_mod_citrullination_l_19_01_01-D...</td>\n",
       "      <td>28048</td>\n",
       "      <td>DGPPLRGSDMDFREPTEEER</td>\n",
       "      <td>3</td>\n",
       "      <td>HCD</td>\n",
       "      <td>FTMS</td>\n",
       "      <td>81.807</td>\n",
       "      <td>20</td>\n",
       "      <td>9.714516e+05</td>\n",
       "      <td>1.389602e+07</td>\n",
       "      <td>28.0</td>\n",
       "      <td>28.824272</td>\n",
       "      <td>[0.06, 0.0, 0.0, 0.0, 0.0, 0.0, 0.13, 0.0, 0.0...</td>\n",
       "      <td>[175.1188, 0.0, 0.0, 0.0, 0.0, 0.0, 304.16077,...</td>\n",
       "      <td>0.288243</td>\n",
       "      <td>1</td>\n",
       "      <td>[0, 0, 1, 0, 0, 0]</td>\n",
       "    </tr>\n",
       "    <tr>\n",
       "      <th>2418</th>\n",
       "      <td>66953</td>\n",
       "      <td>02207a_GB7-TUM_mod_citrullination_l_19_01_01-2...</td>\n",
       "      <td>14262</td>\n",
       "      <td>DGPPLRGSDM[UNIMOD:35]DFREPTEEER</td>\n",
       "      <td>3</td>\n",
       "      <td>HCD</td>\n",
       "      <td>ITMS</td>\n",
       "      <td>112.010</td>\n",
       "      <td>20</td>\n",
       "      <td>6.007312e+05</td>\n",
       "      <td>5.382284e+06</td>\n",
       "      <td>28.0</td>\n",
       "      <td>28.675812</td>\n",
       "      <td>[0.03125, 0.0, 0.0, 0.0, 0.0, 0.0, 0.083333333...</td>\n",
       "      <td>[175.1344, 0.0, 0.0, 0.0, 0.0, 0.0, 304.2265, ...</td>\n",
       "      <td>0.286758</td>\n",
       "      <td>1</td>\n",
       "      <td>[0, 0, 1, 0, 0, 0]</td>\n",
       "    </tr>\n",
       "    <tr>\n",
       "      <th>2419</th>\n",
       "      <td>120747</td>\n",
       "      <td>02207a_GB7-TUM_mod_citrullination_l_19_01_01-2...</td>\n",
       "      <td>14262</td>\n",
       "      <td>DGPPLRGSDM[UNIMOD:35]DFREPTEEER</td>\n",
       "      <td>3</td>\n",
       "      <td>HCD</td>\n",
       "      <td>ITMS</td>\n",
       "      <td>112.010</td>\n",
       "      <td>20</td>\n",
       "      <td>6.007312e+05</td>\n",
       "      <td>5.382284e+06</td>\n",
       "      <td>28.0</td>\n",
       "      <td>28.675812</td>\n",
       "      <td>[0.03125, 0.0, 0.0, 0.0, 0.0, 0.0, 0.083333333...</td>\n",
       "      <td>[175.1344, 0.0, 0.0, 0.0, 0.0, 0.0, 304.2265, ...</td>\n",
       "      <td>0.286758</td>\n",
       "      <td>1</td>\n",
       "      <td>[0, 0, 1, 0, 0, 0]</td>\n",
       "    </tr>\n",
       "    <tr>\n",
       "      <th>2420</th>\n",
       "      <td>20824</td>\n",
       "      <td>02207a_BB7-TUM_mod_citrullination_l_19_01_01-D...</td>\n",
       "      <td>22995</td>\n",
       "      <td>DGPPLRGSDM[UNIMOD:35]DFREPTEEER</td>\n",
       "      <td>4</td>\n",
       "      <td>HCD</td>\n",
       "      <td>FTMS</td>\n",
       "      <td>94.632</td>\n",
       "      <td>20</td>\n",
       "      <td>4.371738e+06</td>\n",
       "      <td>3.232861e+07</td>\n",
       "      <td>28.0</td>\n",
       "      <td>28.824272</td>\n",
       "      <td>[0.02564102564102564, 0.0, 0.0, 0.0, 0.0, 0.0,...</td>\n",
       "      <td>[175.11836, 0.0, 0.0, 0.0, 0.0, 0.0, 304.16132...</td>\n",
       "      <td>0.288243</td>\n",
       "      <td>1</td>\n",
       "      <td>[0, 0, 0, 1, 0, 0]</td>\n",
       "    </tr>\n",
       "    <tr>\n",
       "      <th>...</th>\n",
       "      <td>...</td>\n",
       "      <td>...</td>\n",
       "      <td>...</td>\n",
       "      <td>...</td>\n",
       "      <td>...</td>\n",
       "      <td>...</td>\n",
       "      <td>...</td>\n",
       "      <td>...</td>\n",
       "      <td>...</td>\n",
       "      <td>...</td>\n",
       "      <td>...</td>\n",
       "      <td>...</td>\n",
       "      <td>...</td>\n",
       "      <td>...</td>\n",
       "      <td>...</td>\n",
       "      <td>...</td>\n",
       "      <td>...</td>\n",
       "      <td>...</td>\n",
       "    </tr>\n",
       "    <tr>\n",
       "      <th>24164</th>\n",
       "      <td>8279</td>\n",
       "      <td>02207a_BA5-TUM_mod_citrullination_l_5_01_01-DD...</td>\n",
       "      <td>33438</td>\n",
       "      <td>[UNIMOD:1]WDPR[UNIMOD:7]AARVPPR</td>\n",
       "      <td>2</td>\n",
       "      <td>HCD</td>\n",
       "      <td>FTMS</td>\n",
       "      <td>85.355</td>\n",
       "      <td>11</td>\n",
       "      <td>2.838584e+06</td>\n",
       "      <td>2.127444e+07</td>\n",
       "      <td>28.0</td>\n",
       "      <td>28.662484</td>\n",
       "      <td>[0.01, 0.0, -1.0, 0.0, 0.0, -1.0, 0.0, 0.0, -1...</td>\n",
       "      <td>[175.11856, 0.0, -1.0, 0.0, 0.0, -1.0, 0.0, 0....</td>\n",
       "      <td>0.286625</td>\n",
       "      <td>1</td>\n",
       "      <td>[0, 1, 0, 0, 0, 0]</td>\n",
       "    </tr>\n",
       "    <tr>\n",
       "      <th>24165</th>\n",
       "      <td>12987</td>\n",
       "      <td>02207a_BA5-TUM_mod_citrullination_l_5_01_01-DD...</td>\n",
       "      <td>33438</td>\n",
       "      <td>[UNIMOD:1]WDPR[UNIMOD:7]AARVPPR</td>\n",
       "      <td>2</td>\n",
       "      <td>HCD</td>\n",
       "      <td>FTMS</td>\n",
       "      <td>85.355</td>\n",
       "      <td>11</td>\n",
       "      <td>2.838584e+06</td>\n",
       "      <td>2.127444e+07</td>\n",
       "      <td>28.0</td>\n",
       "      <td>28.662484</td>\n",
       "      <td>[0.01, 0.0, -1.0, 0.0, 0.0, -1.0, 0.0, 0.0, -1...</td>\n",
       "      <td>[175.11856, 0.0, -1.0, 0.0, 0.0, -1.0, 0.0, 0....</td>\n",
       "      <td>0.286625</td>\n",
       "      <td>1</td>\n",
       "      <td>[0, 1, 0, 0, 0, 0]</td>\n",
       "    </tr>\n",
       "    <tr>\n",
       "      <th>24166</th>\n",
       "      <td>8000</td>\n",
       "      <td>02207a_BA5-TUM_mod_citrullination_l_5_01_01-DD...</td>\n",
       "      <td>33593</td>\n",
       "      <td>[UNIMOD:1]WDPR[UNIMOD:7]AARVPPR</td>\n",
       "      <td>2</td>\n",
       "      <td>HCD</td>\n",
       "      <td>FTMS</td>\n",
       "      <td>82.029</td>\n",
       "      <td>11</td>\n",
       "      <td>3.286365e+06</td>\n",
       "      <td>2.493882e+07</td>\n",
       "      <td>28.0</td>\n",
       "      <td>28.662484</td>\n",
       "      <td>[0.01, 0.0, -1.0, 0.0, 0.0, -1.0, 0.0, 0.0, -1...</td>\n",
       "      <td>[175.11879, 0.0, -1.0, 0.0, 0.0, -1.0, 0.0, 0....</td>\n",
       "      <td>0.286625</td>\n",
       "      <td>1</td>\n",
       "      <td>[0, 1, 0, 0, 0, 0]</td>\n",
       "    </tr>\n",
       "    <tr>\n",
       "      <th>24167</th>\n",
       "      <td>12518</td>\n",
       "      <td>02207a_BA5-TUM_mod_citrullination_l_5_01_01-DD...</td>\n",
       "      <td>33593</td>\n",
       "      <td>[UNIMOD:1]WDPR[UNIMOD:7]AARVPPR</td>\n",
       "      <td>2</td>\n",
       "      <td>HCD</td>\n",
       "      <td>FTMS</td>\n",
       "      <td>82.029</td>\n",
       "      <td>11</td>\n",
       "      <td>3.286365e+06</td>\n",
       "      <td>2.493882e+07</td>\n",
       "      <td>28.0</td>\n",
       "      <td>28.662484</td>\n",
       "      <td>[0.01, 0.0, -1.0, 0.0, 0.0, -1.0, 0.0, 0.0, -1...</td>\n",
       "      <td>[175.11879, 0.0, -1.0, 0.0, 0.0, -1.0, 0.0, 0....</td>\n",
       "      <td>0.286625</td>\n",
       "      <td>1</td>\n",
       "      <td>[0, 1, 0, 0, 0, 0]</td>\n",
       "    </tr>\n",
       "    <tr>\n",
       "      <th>24168</th>\n",
       "      <td>7952</td>\n",
       "      <td>02207a_BA5-TUM_mod_citrullination_l_5_01_01-DD...</td>\n",
       "      <td>33906</td>\n",
       "      <td>[UNIMOD:1]WDPR[UNIMOD:7]AARVPPR</td>\n",
       "      <td>2</td>\n",
       "      <td>HCD</td>\n",
       "      <td>FTMS</td>\n",
       "      <td>74.841</td>\n",
       "      <td>11</td>\n",
       "      <td>2.297324e+06</td>\n",
       "      <td>1.644743e+07</td>\n",
       "      <td>28.0</td>\n",
       "      <td>28.662484</td>\n",
       "      <td>[0.01, 0.0, -1.0, 0.0, 0.0, -1.0, 0.0, 0.0, -1...</td>\n",
       "      <td>[175.11879, 0.0, -1.0, 0.0, 0.0, -1.0, 0.0, 0....</td>\n",
       "      <td>0.286625</td>\n",
       "      <td>1</td>\n",
       "      <td>[0, 1, 0, 0, 0, 0]</td>\n",
       "    </tr>\n",
       "  </tbody>\n",
       "</table>\n",
       "<p>21753 rows × 18 columns</p>\n",
       "</div>"
      ],
      "text/plain": [
       "        index                                           raw_file  scan_number  \\\n",
       "2416    34026  02207a_BB7-TUM_mod_citrullination_l_19_01_01-D...        27894   \n",
       "2417    20068  02207a_BB7-TUM_mod_citrullination_l_19_01_01-D...        28048   \n",
       "2418    66953  02207a_GB7-TUM_mod_citrullination_l_19_01_01-2...        14262   \n",
       "2419   120747  02207a_GB7-TUM_mod_citrullination_l_19_01_01-2...        14262   \n",
       "2420    20824  02207a_BB7-TUM_mod_citrullination_l_19_01_01-D...        22995   \n",
       "...       ...                                                ...          ...   \n",
       "24164    8279  02207a_BA5-TUM_mod_citrullination_l_5_01_01-DD...        33438   \n",
       "24165   12987  02207a_BA5-TUM_mod_citrullination_l_5_01_01-DD...        33438   \n",
       "24166    8000  02207a_BA5-TUM_mod_citrullination_l_5_01_01-DD...        33593   \n",
       "24167   12518  02207a_BA5-TUM_mod_citrullination_l_5_01_01-DD...        33593   \n",
       "24168    7952  02207a_BA5-TUM_mod_citrullination_l_5_01_01-DD...        33906   \n",
       "\n",
       "                     modified_sequence  precursor_charge fragmentation  \\\n",
       "2416              DGPPLRGSDMDFREPTEEER                 4           HCD   \n",
       "2417              DGPPLRGSDMDFREPTEEER                 3           HCD   \n",
       "2418   DGPPLRGSDM[UNIMOD:35]DFREPTEEER                 3           HCD   \n",
       "2419   DGPPLRGSDM[UNIMOD:35]DFREPTEEER                 3           HCD   \n",
       "2420   DGPPLRGSDM[UNIMOD:35]DFREPTEEER                 4           HCD   \n",
       "...                                ...               ...           ...   \n",
       "24164  [UNIMOD:1]WDPR[UNIMOD:7]AARVPPR                 2           HCD   \n",
       "24165  [UNIMOD:1]WDPR[UNIMOD:7]AARVPPR                 2           HCD   \n",
       "24166  [UNIMOD:1]WDPR[UNIMOD:7]AARVPPR                 2           HCD   \n",
       "24167  [UNIMOD:1]WDPR[UNIMOD:7]AARVPPR                 2           HCD   \n",
       "24168  [UNIMOD:1]WDPR[UNIMOD:7]AARVPPR                 2           HCD   \n",
       "\n",
       "      mass_analyzer  andromeda_score  peptide_length  base_intensity  \\\n",
       "2416           FTMS          101.170              20    2.022827e+06   \n",
       "2417           FTMS           81.807              20    9.714516e+05   \n",
       "2418           ITMS          112.010              20    6.007312e+05   \n",
       "2419           ITMS          112.010              20    6.007312e+05   \n",
       "2420           FTMS           94.632              20    4.371738e+06   \n",
       "...             ...              ...             ...             ...   \n",
       "24164          FTMS           85.355              11    2.838584e+06   \n",
       "24165          FTMS           85.355              11    2.838584e+06   \n",
       "24166          FTMS           82.029              11    3.286365e+06   \n",
       "24167          FTMS           82.029              11    3.286365e+06   \n",
       "24168          FTMS           74.841              11    2.297324e+06   \n",
       "\n",
       "       total_intensity  orig_collision_energy  aligned_collision_energy  \\\n",
       "2416      1.687936e+07                   28.0                 28.824272   \n",
       "2417      1.389602e+07                   28.0                 28.824272   \n",
       "2418      5.382284e+06                   28.0                 28.675812   \n",
       "2419      5.382284e+06                   28.0                 28.675812   \n",
       "2420      3.232861e+07                   28.0                 28.824272   \n",
       "...                ...                    ...                       ...   \n",
       "24164     2.127444e+07                   28.0                 28.662484   \n",
       "24165     2.127444e+07                   28.0                 28.662484   \n",
       "24166     2.493882e+07                   28.0                 28.662484   \n",
       "24167     2.493882e+07                   28.0                 28.662484   \n",
       "24168     1.644743e+07                   28.0                 28.662484   \n",
       "\n",
       "                                         intensities_raw  \\\n",
       "2416   [0.02, 0.0, 0.0, 0.0, 0.0, 0.0, 0.05, 0.0, 0.0...   \n",
       "2417   [0.06, 0.0, 0.0, 0.0, 0.0, 0.0, 0.13, 0.0, 0.0...   \n",
       "2418   [0.03125, 0.0, 0.0, 0.0, 0.0, 0.0, 0.083333333...   \n",
       "2419   [0.03125, 0.0, 0.0, 0.0, 0.0, 0.0, 0.083333333...   \n",
       "2420   [0.02564102564102564, 0.0, 0.0, 0.0, 0.0, 0.0,...   \n",
       "...                                                  ...   \n",
       "24164  [0.01, 0.0, -1.0, 0.0, 0.0, -1.0, 0.0, 0.0, -1...   \n",
       "24165  [0.01, 0.0, -1.0, 0.0, 0.0, -1.0, 0.0, 0.0, -1...   \n",
       "24166  [0.01, 0.0, -1.0, 0.0, 0.0, -1.0, 0.0, 0.0, -1...   \n",
       "24167  [0.01, 0.0, -1.0, 0.0, 0.0, -1.0, 0.0, 0.0, -1...   \n",
       "24168  [0.01, 0.0, -1.0, 0.0, 0.0, -1.0, 0.0, 0.0, -1...   \n",
       "\n",
       "                                              masses_raw  \\\n",
       "2416   [175.11847, 0.0, 0.0, 0.0, 0.0, 0.0, 304.16086...   \n",
       "2417   [175.1188, 0.0, 0.0, 0.0, 0.0, 0.0, 304.16077,...   \n",
       "2418   [175.1344, 0.0, 0.0, 0.0, 0.0, 0.0, 304.2265, ...   \n",
       "2419   [175.1344, 0.0, 0.0, 0.0, 0.0, 0.0, 304.2265, ...   \n",
       "2420   [175.11836, 0.0, 0.0, 0.0, 0.0, 0.0, 304.16132...   \n",
       "...                                                  ...   \n",
       "24164  [175.11856, 0.0, -1.0, 0.0, 0.0, -1.0, 0.0, 0....   \n",
       "24165  [175.11856, 0.0, -1.0, 0.0, 0.0, -1.0, 0.0, 0....   \n",
       "24166  [175.11879, 0.0, -1.0, 0.0, 0.0, -1.0, 0.0, 0....   \n",
       "24167  [175.11879, 0.0, -1.0, 0.0, 0.0, -1.0, 0.0, 0....   \n",
       "24168  [175.11879, 0.0, -1.0, 0.0, 0.0, -1.0, 0.0, 0....   \n",
       "\n",
       "       collision_energy_aligned_normed  method_nbr precursor_charge_onehot  \n",
       "2416                          0.288243           1      [0, 0, 0, 1, 0, 0]  \n",
       "2417                          0.288243           1      [0, 0, 1, 0, 0, 0]  \n",
       "2418                          0.286758           1      [0, 0, 1, 0, 0, 0]  \n",
       "2419                          0.286758           1      [0, 0, 1, 0, 0, 0]  \n",
       "2420                          0.288243           1      [0, 0, 0, 1, 0, 0]  \n",
       "...                                ...         ...                     ...  \n",
       "24164                         0.286625           1      [0, 1, 0, 0, 0, 0]  \n",
       "24165                         0.286625           1      [0, 1, 0, 0, 0, 0]  \n",
       "24166                         0.286625           1      [0, 1, 0, 0, 0, 0]  \n",
       "24167                         0.286625           1      [0, 1, 0, 0, 0, 0]  \n",
       "24168                         0.286625           1      [0, 1, 0, 0, 0, 0]  \n",
       "\n",
       "[21753 rows x 18 columns]"
      ]
     },
     "execution_count": 23,
     "metadata": {},
     "output_type": "execute_result"
    }
   ],
   "source": [
    "train_val_HCD = data_HCD_5.drop(data_HCD_5.index[index_test_HCD])\n",
    "train_val_HCD"
   ]
  },
  {
   "cell_type": "code",
   "execution_count": 24,
   "id": "e868fbfc-9b91-496c-a6a3-fc5374460835",
   "metadata": {},
   "outputs": [
    {
     "data": {
      "text/html": [
       "<div>\n",
       "<style scoped>\n",
       "    .dataframe tbody tr th:only-of-type {\n",
       "        vertical-align: middle;\n",
       "    }\n",
       "\n",
       "    .dataframe tbody tr th {\n",
       "        vertical-align: top;\n",
       "    }\n",
       "\n",
       "    .dataframe thead th {\n",
       "        text-align: right;\n",
       "    }\n",
       "</style>\n",
       "<table border=\"1\" class=\"dataframe\">\n",
       "  <thead>\n",
       "    <tr style=\"text-align: right;\">\n",
       "      <th></th>\n",
       "      <th>index</th>\n",
       "      <th>raw_file</th>\n",
       "      <th>scan_number</th>\n",
       "      <th>modified_sequence</th>\n",
       "      <th>precursor_charge</th>\n",
       "      <th>fragmentation</th>\n",
       "      <th>mass_analyzer</th>\n",
       "      <th>andromeda_score</th>\n",
       "      <th>peptide_length</th>\n",
       "      <th>base_intensity</th>\n",
       "      <th>total_intensity</th>\n",
       "      <th>orig_collision_energy</th>\n",
       "      <th>aligned_collision_energy</th>\n",
       "      <th>intensities_raw</th>\n",
       "      <th>masses_raw</th>\n",
       "      <th>collision_energy_aligned_normed</th>\n",
       "      <th>method_nbr</th>\n",
       "      <th>precursor_charge_onehot</th>\n",
       "    </tr>\n",
       "  </thead>\n",
       "  <tbody>\n",
       "    <tr>\n",
       "      <th>2657</th>\n",
       "      <td>22106</td>\n",
       "      <td>02207a_BB9-TUM_mod_citrullination_l_21_01_01-D...</td>\n",
       "      <td>48846</td>\n",
       "      <td>DGLSLAALKKALAAGGYDVEK</td>\n",
       "      <td>3</td>\n",
       "      <td>CID</td>\n",
       "      <td>ITMS</td>\n",
       "      <td>141.300</td>\n",
       "      <td>21</td>\n",
       "      <td>24770.261719</td>\n",
       "      <td>395814.156533</td>\n",
       "      <td>35.0</td>\n",
       "      <td>35.0</td>\n",
       "      <td>[0.0, 0.0, 0.0, 0.0, 0.0, 0.0, 0.02, 0.0, 0.0,...</td>\n",
       "      <td>[0.0, 0.0, 0.0, 0.0, 0.0, 0.0, 276.0481, 0.0, ...</td>\n",
       "      <td>0.35</td>\n",
       "      <td>2</td>\n",
       "      <td>[0, 0, 1, 0, 0, 0]</td>\n",
       "    </tr>\n",
       "    <tr>\n",
       "      <th>2658</th>\n",
       "      <td>37176</td>\n",
       "      <td>02207a_BB9-TUM_mod_citrullination_l_21_01_01-D...</td>\n",
       "      <td>48846</td>\n",
       "      <td>DGLSLAALKKALAAGGYDVEK</td>\n",
       "      <td>3</td>\n",
       "      <td>CID</td>\n",
       "      <td>ITMS</td>\n",
       "      <td>141.300</td>\n",
       "      <td>21</td>\n",
       "      <td>24770.261719</td>\n",
       "      <td>395814.156533</td>\n",
       "      <td>35.0</td>\n",
       "      <td>35.0</td>\n",
       "      <td>[0.0, 0.0, 0.0, 0.0, 0.0, 0.0, 0.02, 0.0, 0.0,...</td>\n",
       "      <td>[0.0, 0.0, 0.0, 0.0, 0.0, 0.0, 276.0481, 0.0, ...</td>\n",
       "      <td>0.35</td>\n",
       "      <td>2</td>\n",
       "      <td>[0, 0, 1, 0, 0, 0]</td>\n",
       "    </tr>\n",
       "    <tr>\n",
       "      <th>2659</th>\n",
       "      <td>21887</td>\n",
       "      <td>02207a_BB9-TUM_mod_citrullination_l_21_01_01-D...</td>\n",
       "      <td>49017</td>\n",
       "      <td>DGLSLAALKKALAAGGYDVEK</td>\n",
       "      <td>3</td>\n",
       "      <td>CID</td>\n",
       "      <td>ITMS</td>\n",
       "      <td>80.142</td>\n",
       "      <td>21</td>\n",
       "      <td>11552.571289</td>\n",
       "      <td>283054.954786</td>\n",
       "      <td>35.0</td>\n",
       "      <td>35.0</td>\n",
       "      <td>[0.0, 0.0, 0.0, 0.0, 0.0, 0.0, 0.0, 0.0, 0.0, ...</td>\n",
       "      <td>[0.0, 0.0, 0.0, 0.0, 0.0, 0.0, 0.0, 0.0, 0.0, ...</td>\n",
       "      <td>0.35</td>\n",
       "      <td>2</td>\n",
       "      <td>[0, 0, 1, 0, 0, 0]</td>\n",
       "    </tr>\n",
       "    <tr>\n",
       "      <th>2660</th>\n",
       "      <td>36916</td>\n",
       "      <td>02207a_BB9-TUM_mod_citrullination_l_21_01_01-D...</td>\n",
       "      <td>49017</td>\n",
       "      <td>DGLSLAALKKALAAGGYDVEK</td>\n",
       "      <td>3</td>\n",
       "      <td>CID</td>\n",
       "      <td>ITMS</td>\n",
       "      <td>80.142</td>\n",
       "      <td>21</td>\n",
       "      <td>11552.571289</td>\n",
       "      <td>283054.954786</td>\n",
       "      <td>35.0</td>\n",
       "      <td>35.0</td>\n",
       "      <td>[0.0, 0.0, 0.0, 0.0, 0.0, 0.0, 0.0, 0.0, 0.0, ...</td>\n",
       "      <td>[0.0, 0.0, 0.0, 0.0, 0.0, 0.0, 0.0, 0.0, 0.0, ...</td>\n",
       "      <td>0.35</td>\n",
       "      <td>2</td>\n",
       "      <td>[0, 0, 1, 0, 0, 0]</td>\n",
       "    </tr>\n",
       "    <tr>\n",
       "      <th>2661</th>\n",
       "      <td>21901</td>\n",
       "      <td>02207a_BB9-TUM_mod_citrullination_l_21_01_01-D...</td>\n",
       "      <td>48791</td>\n",
       "      <td>DGLSLAALKKALAAGGYDVEK</td>\n",
       "      <td>3</td>\n",
       "      <td>CID</td>\n",
       "      <td>ITMS</td>\n",
       "      <td>77.037</td>\n",
       "      <td>21</td>\n",
       "      <td>8795.387695</td>\n",
       "      <td>231245.357172</td>\n",
       "      <td>35.0</td>\n",
       "      <td>35.0</td>\n",
       "      <td>[0.0, 0.0, 0.0, 0.0, 0.0, 0.0, 0.02, 0.0, 0.0,...</td>\n",
       "      <td>[0.0, 0.0, 0.0, 0.0, 0.0, 0.0, 276.23022, 0.0,...</td>\n",
       "      <td>0.35</td>\n",
       "      <td>2</td>\n",
       "      <td>[0, 0, 1, 0, 0, 0]</td>\n",
       "    </tr>\n",
       "    <tr>\n",
       "      <th>...</th>\n",
       "      <td>...</td>\n",
       "      <td>...</td>\n",
       "      <td>...</td>\n",
       "      <td>...</td>\n",
       "      <td>...</td>\n",
       "      <td>...</td>\n",
       "      <td>...</td>\n",
       "      <td>...</td>\n",
       "      <td>...</td>\n",
       "      <td>...</td>\n",
       "      <td>...</td>\n",
       "      <td>...</td>\n",
       "      <td>...</td>\n",
       "      <td>...</td>\n",
       "      <td>...</td>\n",
       "      <td>...</td>\n",
       "      <td>...</td>\n",
       "      <td>...</td>\n",
       "    </tr>\n",
       "    <tr>\n",
       "      <th>26569</th>\n",
       "      <td>8009</td>\n",
       "      <td>02207a_BA5-TUM_mod_citrullination_l_5_01_01-DD...</td>\n",
       "      <td>36281</td>\n",
       "      <td>[UNIMOD:1]WDPR[UNIMOD:7]AARVPPR</td>\n",
       "      <td>2</td>\n",
       "      <td>CID</td>\n",
       "      <td>ITMS</td>\n",
       "      <td>83.862</td>\n",
       "      <td>11</td>\n",
       "      <td>111856.851562</td>\n",
       "      <td>675304.624859</td>\n",
       "      <td>35.0</td>\n",
       "      <td>35.0</td>\n",
       "      <td>[0.0, 0.0, -1.0, 0.0, 0.0, -1.0, 0.0, 0.0, -1....</td>\n",
       "      <td>[0.0, 0.0, -1.0, 0.0, 0.0, -1.0, 0.0, 0.0, -1....</td>\n",
       "      <td>0.35</td>\n",
       "      <td>2</td>\n",
       "      <td>[0, 1, 0, 0, 0, 0]</td>\n",
       "    </tr>\n",
       "    <tr>\n",
       "      <th>26570</th>\n",
       "      <td>12532</td>\n",
       "      <td>02207a_BA5-TUM_mod_citrullination_l_5_01_01-DD...</td>\n",
       "      <td>36281</td>\n",
       "      <td>[UNIMOD:1]WDPR[UNIMOD:7]AARVPPR</td>\n",
       "      <td>2</td>\n",
       "      <td>CID</td>\n",
       "      <td>ITMS</td>\n",
       "      <td>83.862</td>\n",
       "      <td>11</td>\n",
       "      <td>111856.851562</td>\n",
       "      <td>675304.624859</td>\n",
       "      <td>35.0</td>\n",
       "      <td>35.0</td>\n",
       "      <td>[0.0, 0.0, -1.0, 0.0, 0.0, -1.0, 0.0, 0.0, -1....</td>\n",
       "      <td>[0.0, 0.0, -1.0, 0.0, 0.0, -1.0, 0.0, 0.0, -1....</td>\n",
       "      <td>0.35</td>\n",
       "      <td>2</td>\n",
       "      <td>[0, 1, 0, 0, 0, 0]</td>\n",
       "    </tr>\n",
       "    <tr>\n",
       "      <th>26571</th>\n",
       "      <td>7943</td>\n",
       "      <td>02207a_BA5-TUM_mod_citrullination_l_5_01_01-DD...</td>\n",
       "      <td>34685</td>\n",
       "      <td>[UNIMOD:1]WDPR[UNIMOD:7]AARVPPR</td>\n",
       "      <td>2</td>\n",
       "      <td>CID</td>\n",
       "      <td>ITMS</td>\n",
       "      <td>79.070</td>\n",
       "      <td>11</td>\n",
       "      <td>119924.890625</td>\n",
       "      <td>731766.761956</td>\n",
       "      <td>35.0</td>\n",
       "      <td>35.0</td>\n",
       "      <td>[0.0, 0.0, -1.0, 0.0, 0.0, -1.0, 0.0, 0.0, -1....</td>\n",
       "      <td>[0.0, 0.0, -1.0, 0.0, 0.0, -1.0, 0.0, 0.0, -1....</td>\n",
       "      <td>0.35</td>\n",
       "      <td>2</td>\n",
       "      <td>[0, 1, 0, 0, 0, 0]</td>\n",
       "    </tr>\n",
       "    <tr>\n",
       "      <th>26572</th>\n",
       "      <td>12411</td>\n",
       "      <td>02207a_BA5-TUM_mod_citrullination_l_5_01_01-DD...</td>\n",
       "      <td>34685</td>\n",
       "      <td>[UNIMOD:1]WDPR[UNIMOD:7]AARVPPR</td>\n",
       "      <td>2</td>\n",
       "      <td>CID</td>\n",
       "      <td>ITMS</td>\n",
       "      <td>79.070</td>\n",
       "      <td>11</td>\n",
       "      <td>119924.890625</td>\n",
       "      <td>731766.761956</td>\n",
       "      <td>35.0</td>\n",
       "      <td>35.0</td>\n",
       "      <td>[0.0, 0.0, -1.0, 0.0, 0.0, -1.0, 0.0, 0.0, -1....</td>\n",
       "      <td>[0.0, 0.0, -1.0, 0.0, 0.0, -1.0, 0.0, 0.0, -1....</td>\n",
       "      <td>0.35</td>\n",
       "      <td>2</td>\n",
       "      <td>[0, 1, 0, 0, 0, 0]</td>\n",
       "    </tr>\n",
       "    <tr>\n",
       "      <th>26573</th>\n",
       "      <td>7980</td>\n",
       "      <td>02207a_BA5-TUM_mod_citrullination_l_5_01_01-DD...</td>\n",
       "      <td>36440</td>\n",
       "      <td>[UNIMOD:1]WDPR[UNIMOD:7]AARVPPR</td>\n",
       "      <td>2</td>\n",
       "      <td>CID</td>\n",
       "      <td>ITMS</td>\n",
       "      <td>76.282</td>\n",
       "      <td>11</td>\n",
       "      <td>97497.625000</td>\n",
       "      <td>598853.384745</td>\n",
       "      <td>35.0</td>\n",
       "      <td>35.0</td>\n",
       "      <td>[0.0, 0.0, -1.0, 0.0, 0.0, -1.0, 0.0, 0.0, -1....</td>\n",
       "      <td>[0.0, 0.0, -1.0, 0.0, 0.0, -1.0, 0.0, 0.0, -1....</td>\n",
       "      <td>0.35</td>\n",
       "      <td>2</td>\n",
       "      <td>[0, 1, 0, 0, 0, 0]</td>\n",
       "    </tr>\n",
       "  </tbody>\n",
       "</table>\n",
       "<p>23917 rows × 18 columns</p>\n",
       "</div>"
      ],
      "text/plain": [
       "       index                                           raw_file  scan_number  \\\n",
       "2657   22106  02207a_BB9-TUM_mod_citrullination_l_21_01_01-D...        48846   \n",
       "2658   37176  02207a_BB9-TUM_mod_citrullination_l_21_01_01-D...        48846   \n",
       "2659   21887  02207a_BB9-TUM_mod_citrullination_l_21_01_01-D...        49017   \n",
       "2660   36916  02207a_BB9-TUM_mod_citrullination_l_21_01_01-D...        49017   \n",
       "2661   21901  02207a_BB9-TUM_mod_citrullination_l_21_01_01-D...        48791   \n",
       "...      ...                                                ...          ...   \n",
       "26569   8009  02207a_BA5-TUM_mod_citrullination_l_5_01_01-DD...        36281   \n",
       "26570  12532  02207a_BA5-TUM_mod_citrullination_l_5_01_01-DD...        36281   \n",
       "26571   7943  02207a_BA5-TUM_mod_citrullination_l_5_01_01-DD...        34685   \n",
       "26572  12411  02207a_BA5-TUM_mod_citrullination_l_5_01_01-DD...        34685   \n",
       "26573   7980  02207a_BA5-TUM_mod_citrullination_l_5_01_01-DD...        36440   \n",
       "\n",
       "                     modified_sequence  precursor_charge fragmentation  \\\n",
       "2657             DGLSLAALKKALAAGGYDVEK                 3           CID   \n",
       "2658             DGLSLAALKKALAAGGYDVEK                 3           CID   \n",
       "2659             DGLSLAALKKALAAGGYDVEK                 3           CID   \n",
       "2660             DGLSLAALKKALAAGGYDVEK                 3           CID   \n",
       "2661             DGLSLAALKKALAAGGYDVEK                 3           CID   \n",
       "...                                ...               ...           ...   \n",
       "26569  [UNIMOD:1]WDPR[UNIMOD:7]AARVPPR                 2           CID   \n",
       "26570  [UNIMOD:1]WDPR[UNIMOD:7]AARVPPR                 2           CID   \n",
       "26571  [UNIMOD:1]WDPR[UNIMOD:7]AARVPPR                 2           CID   \n",
       "26572  [UNIMOD:1]WDPR[UNIMOD:7]AARVPPR                 2           CID   \n",
       "26573  [UNIMOD:1]WDPR[UNIMOD:7]AARVPPR                 2           CID   \n",
       "\n",
       "      mass_analyzer  andromeda_score  peptide_length  base_intensity  \\\n",
       "2657           ITMS          141.300              21    24770.261719   \n",
       "2658           ITMS          141.300              21    24770.261719   \n",
       "2659           ITMS           80.142              21    11552.571289   \n",
       "2660           ITMS           80.142              21    11552.571289   \n",
       "2661           ITMS           77.037              21     8795.387695   \n",
       "...             ...              ...             ...             ...   \n",
       "26569          ITMS           83.862              11   111856.851562   \n",
       "26570          ITMS           83.862              11   111856.851562   \n",
       "26571          ITMS           79.070              11   119924.890625   \n",
       "26572          ITMS           79.070              11   119924.890625   \n",
       "26573          ITMS           76.282              11    97497.625000   \n",
       "\n",
       "       total_intensity  orig_collision_energy  aligned_collision_energy  \\\n",
       "2657     395814.156533                   35.0                      35.0   \n",
       "2658     395814.156533                   35.0                      35.0   \n",
       "2659     283054.954786                   35.0                      35.0   \n",
       "2660     283054.954786                   35.0                      35.0   \n",
       "2661     231245.357172                   35.0                      35.0   \n",
       "...                ...                    ...                       ...   \n",
       "26569    675304.624859                   35.0                      35.0   \n",
       "26570    675304.624859                   35.0                      35.0   \n",
       "26571    731766.761956                   35.0                      35.0   \n",
       "26572    731766.761956                   35.0                      35.0   \n",
       "26573    598853.384745                   35.0                      35.0   \n",
       "\n",
       "                                         intensities_raw  \\\n",
       "2657   [0.0, 0.0, 0.0, 0.0, 0.0, 0.0, 0.02, 0.0, 0.0,...   \n",
       "2658   [0.0, 0.0, 0.0, 0.0, 0.0, 0.0, 0.02, 0.0, 0.0,...   \n",
       "2659   [0.0, 0.0, 0.0, 0.0, 0.0, 0.0, 0.0, 0.0, 0.0, ...   \n",
       "2660   [0.0, 0.0, 0.0, 0.0, 0.0, 0.0, 0.0, 0.0, 0.0, ...   \n",
       "2661   [0.0, 0.0, 0.0, 0.0, 0.0, 0.0, 0.02, 0.0, 0.0,...   \n",
       "...                                                  ...   \n",
       "26569  [0.0, 0.0, -1.0, 0.0, 0.0, -1.0, 0.0, 0.0, -1....   \n",
       "26570  [0.0, 0.0, -1.0, 0.0, 0.0, -1.0, 0.0, 0.0, -1....   \n",
       "26571  [0.0, 0.0, -1.0, 0.0, 0.0, -1.0, 0.0, 0.0, -1....   \n",
       "26572  [0.0, 0.0, -1.0, 0.0, 0.0, -1.0, 0.0, 0.0, -1....   \n",
       "26573  [0.0, 0.0, -1.0, 0.0, 0.0, -1.0, 0.0, 0.0, -1....   \n",
       "\n",
       "                                              masses_raw  \\\n",
       "2657   [0.0, 0.0, 0.0, 0.0, 0.0, 0.0, 276.0481, 0.0, ...   \n",
       "2658   [0.0, 0.0, 0.0, 0.0, 0.0, 0.0, 276.0481, 0.0, ...   \n",
       "2659   [0.0, 0.0, 0.0, 0.0, 0.0, 0.0, 0.0, 0.0, 0.0, ...   \n",
       "2660   [0.0, 0.0, 0.0, 0.0, 0.0, 0.0, 0.0, 0.0, 0.0, ...   \n",
       "2661   [0.0, 0.0, 0.0, 0.0, 0.0, 0.0, 276.23022, 0.0,...   \n",
       "...                                                  ...   \n",
       "26569  [0.0, 0.0, -1.0, 0.0, 0.0, -1.0, 0.0, 0.0, -1....   \n",
       "26570  [0.0, 0.0, -1.0, 0.0, 0.0, -1.0, 0.0, 0.0, -1....   \n",
       "26571  [0.0, 0.0, -1.0, 0.0, 0.0, -1.0, 0.0, 0.0, -1....   \n",
       "26572  [0.0, 0.0, -1.0, 0.0, 0.0, -1.0, 0.0, 0.0, -1....   \n",
       "26573  [0.0, 0.0, -1.0, 0.0, 0.0, -1.0, 0.0, 0.0, -1....   \n",
       "\n",
       "       collision_energy_aligned_normed  method_nbr precursor_charge_onehot  \n",
       "2657                              0.35           2      [0, 0, 1, 0, 0, 0]  \n",
       "2658                              0.35           2      [0, 0, 1, 0, 0, 0]  \n",
       "2659                              0.35           2      [0, 0, 1, 0, 0, 0]  \n",
       "2660                              0.35           2      [0, 0, 1, 0, 0, 0]  \n",
       "2661                              0.35           2      [0, 0, 1, 0, 0, 0]  \n",
       "...                                ...         ...                     ...  \n",
       "26569                             0.35           2      [0, 1, 0, 0, 0, 0]  \n",
       "26570                             0.35           2      [0, 1, 0, 0, 0, 0]  \n",
       "26571                             0.35           2      [0, 1, 0, 0, 0, 0]  \n",
       "26572                             0.35           2      [0, 1, 0, 0, 0, 0]  \n",
       "26573                             0.35           2      [0, 1, 0, 0, 0, 0]  \n",
       "\n",
       "[23917 rows x 18 columns]"
      ]
     },
     "execution_count": 24,
     "metadata": {},
     "output_type": "execute_result"
    }
   ],
   "source": [
    "train_val_CID = data_CID_5.drop(data_CID_5.index[index_test_CID])\n",
    "train_val_CID"
   ]
  },
  {
   "cell_type": "markdown",
   "id": "99e6bc59-4414-4b51-b50d-4ef305316297",
   "metadata": {},
   "source": [
    "## Check if TEST and TRAIN_VAL have intersecting values"
   ]
  },
  {
   "cell_type": "markdown",
   "id": "98eb94db-b0dc-4e2e-aaf4-42ef811ec0e9",
   "metadata": {},
   "source": [
    "## ##TODO: the maximal overlapp is 5. Put the overlapped sequence into the set where the rest of the same sequences are."
   ]
  },
  {
   "cell_type": "code",
   "execution_count": 25,
   "id": "90c3e0db-3895-4df2-b8fb-c063660822ca",
   "metadata": {},
   "outputs": [
    {
     "data": {
      "text/plain": [
       "0    DGPPLRGSDMDFREPTEEER\n",
       "dtype: object"
      ]
     },
     "execution_count": 25,
     "metadata": {},
     "output_type": "execute_result"
    }
   ],
   "source": [
    "pd.Series(list(set(train_val_HCD['modified_sequence']).intersection(set(test_HCD['modified_sequence']))))"
   ]
  },
  {
   "cell_type": "markdown",
   "id": "d6220411-6c77-4d00-916c-e22cf6c1dad8",
   "metadata": {},
   "source": [
    "## Change modification e.g R[UNIMOD:7] to r"
   ]
  },
  {
   "cell_type": "code",
   "execution_count": 26,
   "id": "229cdca4-fc46-47ca-a4e7-85fab0f62702",
   "metadata": {},
   "outputs": [],
   "source": [
    "def changeMod(input_data):\n",
    "        for index, row in input_data.iterrows():\n",
    "            sequence = row['modified_sequence']\n",
    "            open_bracket = find(sequence,'[')\n",
    "            tmp_seq =\"\"\n",
    "            new_sequence = \"\"\n",
    "            if len(open_bracket)>=1:\n",
    "                for index_mod in open_bracket:\n",
    "                    modified_AA = sequence[index_mod-1]\n",
    "                    if modified_AA == 'M':\n",
    "                        tmp_seq = sequence[:index_mod-1] + 'M(ox)' + sequence[index_mod:]\n",
    "                        new_sequence = re.sub(\"[\\[].*?[\\]]\", \"\", tmp_seq)\n",
    "        \n",
    "                    else:\n",
    "                        tmp_seq = sequence[:index_mod-1] + modified_AA.lower() + sequence[index_mod:]\n",
    "                        new_sequence = re.sub(\"[\\(\\[].*?[\\)\\]]\", \"\", tmp_seq)\n",
    "                input_data.at[index, 'modified_sequence'] = new_sequence\n",
    "        return input_data\n",
    "    \n",
    "def find(s, ch):\n",
    "        return [i for i, ltr in enumerate(s) if ltr == ch]"
   ]
  },
  {
   "cell_type": "code",
   "execution_count": 27,
   "id": "049b5632-1443-4333-a4bc-cde65a3b921b",
   "metadata": {},
   "outputs": [],
   "source": [
    "test_HCD = changeMod(test_HCD)\n",
    "train_val_HCD = changeMod(train_val_HCD)"
   ]
  },
  {
   "cell_type": "code",
   "execution_count": 28,
   "id": "622d5083-bfdb-4d9f-a66a-b6936f37c056",
   "metadata": {},
   "outputs": [],
   "source": [
    "test_CID = changeMod(test_CID)\n",
    "train_val_CID = changeMod(train_val_CID)"
   ]
  },
  {
   "cell_type": "markdown",
   "id": "e46b1d36-711f-4a0a-bc72-59f84d471214",
   "metadata": {},
   "source": [
    "## Remove specific modifications e.g Q, K"
   ]
  },
  {
   "cell_type": "code",
   "execution_count": 29,
   "id": "9c4b935b-5b63-424d-a6f3-fbfeed40a445",
   "metadata": {},
   "outputs": [],
   "source": [
    "def removeChar(data,removeChar:str):\n",
    "    tmp_remove = removeChar+\"\\\\[\"\n",
    "    filter = data['modified_sequence'].str.contains(tmp_remove)\n",
    "    filtered_df = data[~filter]\n",
    "    return filtered_df.reset_index(drop=True)"
   ]
  },
  {
   "cell_type": "code",
   "execution_count": 30,
   "id": "384be494-8187-4f0b-95e9-9557895a1556",
   "metadata": {},
   "outputs": [],
   "source": [
    "test_HCD = removeChar(test_HCD,'K')\n",
    "test_HCD = removeChar(test_HCD,'Q')\n",
    "\n",
    "train_val_HCD = removeChar(train_val_HCD,'K')\n",
    "train_val_HCD = removeChar(train_val_HCD,'Q')"
   ]
  },
  {
   "cell_type": "code",
   "execution_count": 31,
   "id": "211fdf9e-6b6c-415d-92b6-7b706c57e9b3",
   "metadata": {},
   "outputs": [],
   "source": [
    "test_CID = removeChar(test_CID,'K')\n",
    "test_CID = removeChar(test_CID,'Q')\n",
    "\n",
    "train_val_CID = removeChar(train_val_CID,'K')\n",
    "train_val_CID = removeChar(train_val_CID,'Q')"
   ]
  },
  {
   "cell_type": "markdown",
   "id": "e3306ce2-09e3-47d4-a126-9b6ac94d90f3",
   "metadata": {},
   "source": [
    "## Rename columns"
   ]
  },
  {
   "cell_type": "code",
   "execution_count": 32,
   "id": "4b656d08-ab5a-4eb6-982f-9ccd9cce7034",
   "metadata": {},
   "outputs": [],
   "source": [
    "train_val_HCD.rename(columns={'intensities_raw':'intensities','modified_sequence': 'sequence', 'collision_energy_aligned_normed': 'collision_energy', 'precursor_charge_onehot':'precursor_charge_onehot'}, inplace=True)\n",
    "test_HCD.rename(columns={'intensities_raw':'intensities','modified_sequence': 'sequence', 'collision_energy_aligned_normed': 'collision_energy', 'precursor_charge_onehot':'precursor_charge_onehot'}, inplace=True)"
   ]
  },
  {
   "cell_type": "code",
   "execution_count": 33,
   "id": "e32515e5-bb24-418b-a2b4-128262c913c8",
   "metadata": {},
   "outputs": [],
   "source": [
    "train_val_CID.rename(columns={'intensities_raw':'intensities','modified_sequence': 'sequence', 'collision_energy_aligned_normed': 'collision_energy', 'precursor_charge_onehot':'precursor_charge_onehot'}, inplace=True)\n",
    "test_CID.rename(columns={'intensities_raw':'intensities','modified_sequence': 'sequence', 'collision_energy_aligned_normed': 'collision_energy', 'precursor_charge_onehot':'precursor_charge_onehot'}, inplace=True)"
   ]
  },
  {
   "cell_type": "markdown",
   "id": "78b3e799-2648-4d85-8907-6d9d9fc8ccc1",
   "metadata": {},
   "source": [
    "## Change format of precurser_charge from [1 0 0 1 0] to [1, 0, 0, 1, 0]"
   ]
  },
  {
   "cell_type": "code",
   "execution_count": 34,
   "id": "6290c992-9c7b-4c98-b9cd-4b7480a69c42",
   "metadata": {},
   "outputs": [],
   "source": [
    "train_val_HCD['intensities'] = train_val_HCD['intensities'].apply(lambda a: np.array2string(a, separator=', '))\n",
    "train_val_HCD['precursor_charge_onehot'] = train_val_HCD['precursor_charge_onehot'].apply(lambda a: np.array2string(a, separator=', '))\n",
    "\n",
    "test_HCD['intensities'] = test_HCD['intensities'].apply(lambda a: np.array2string(a, separator=', '))\n",
    "test_HCD['precursor_charge_onehot'] = test_HCD['precursor_charge_onehot'].apply(lambda a: np.array2string(a, separator=', '))"
   ]
  },
  {
   "cell_type": "code",
   "execution_count": 35,
   "id": "738badc3-49be-49ae-baae-2018c1617867",
   "metadata": {},
   "outputs": [],
   "source": [
    "train_val_CID['intensities'] = train_val_CID['intensities'].apply(lambda a: np.array2string(a, separator=', '))\n",
    "train_val_CID['precursor_charge_onehot'] = train_val_CID['precursor_charge_onehot'].apply(lambda a: np.array2string(a, separator=', '))\n",
    "\n",
    "test_CID['intensities'] = test_CID['intensities'].apply(lambda a: np.array2string(a, separator=', '))\n",
    "test_CID['precursor_charge_onehot'] = test_CID['precursor_charge_onehot'].apply(lambda a: np.array2string(a, separator=', '))"
   ]
  },
  {
   "cell_type": "markdown",
   "id": "efea5427-e586-452f-95c8-88e9fd21c353",
   "metadata": {},
   "source": [
    "## Write TEST and TRAIN_VAL to .csv file"
   ]
  },
  {
   "cell_type": "code",
   "execution_count": 36,
   "id": "db1662ae-7ad2-4557-91c8-728e354c1470",
   "metadata": {},
   "outputs": [],
   "source": [
    "train_val_HCD.to_csv('ptm/input_data/train_val_hcd.csv', encoding='utf-8', index=False)\n",
    "test_HCD.to_csv('ptm/input_data/test_hcd.csv', encoding='utf-8', index=False)"
   ]
  },
  {
   "cell_type": "code",
   "execution_count": 37,
   "id": "7033d5d2-7978-4361-ae46-56d3e3013ec9",
   "metadata": {},
   "outputs": [],
   "source": [
    "train_val_CID.to_csv('ptm/input_data/train_val_cid.csv', encoding='utf-8', index=False)\n",
    "test_CID.to_csv('ptm/input_data/test_cid.csv', encoding='utf-8', index=False)"
   ]
  },
  {
   "cell_type": "markdown",
   "id": "902ba083-ae36-49de-b093-ad1035beb8b5",
   "metadata": {},
   "source": [
    "# Intensity Prediction"
   ]
  },
  {
   "cell_type": "code",
   "execution_count": 38,
   "id": "a172106d-a644-40b7-b068-ffc928ef7b1d",
   "metadata": {},
   "outputs": [
    {
     "name": "stderr",
     "output_type": "stream",
     "text": [
      "\u001b[34m\u001b[1mwandb\u001b[0m: Thanks for trying out the Report API!\n",
      "\u001b[34m\u001b[1mwandb\u001b[0m: For a tutorial, check out https://colab.research.google.com/drive/1CzyJx1nuOS4pdkXa2XPaRQyZdmFmLmXV\n",
      "\u001b[34m\u001b[1mwandb\u001b[0m: \n",
      "\u001b[34m\u001b[1mwandb\u001b[0m: Try out tab completion to see what's available.\n",
      "\u001b[34m\u001b[1mwandb\u001b[0m:   ∟ everything:    `wr.<tab>`\n",
      "\u001b[34m\u001b[1mwandb\u001b[0m:       ∟ panels:    `wr.panels.<tab>`\n",
      "\u001b[34m\u001b[1mwandb\u001b[0m:       ∟ blocks:    `wr.blocks.<tab>`\n",
      "\u001b[34m\u001b[1mwandb\u001b[0m:       ∟ helpers:   `wr.helpers.<tab>`\n",
      "\u001b[34m\u001b[1mwandb\u001b[0m:       ∟ templates: `wr.templates.<tab>`\n",
      "\u001b[34m\u001b[1mwandb\u001b[0m:       \n",
      "\u001b[34m\u001b[1mwandb\u001b[0m: For bugs/feature requests, please create an issue on github: https://github.com/wandb/wandb/issues\n"
     ]
    },
    {
     "name": "stdout",
     "output_type": "stream",
     "text": [
      "['META_DATA', 'constants', 'data', 'eval', 'layers', 'losses', 'models', 'pipelines', 'reports', 'utils']\n"
     ]
    }
   ],
   "source": [
    "import numpy as np\n",
    "import pandas as pd\n",
    "import dlomix\n",
    "from dlomix import constants, data, eval, layers, models, pipelines, reports, utils\n",
    "print([x for x in dir(dlomix) if not x.startswith(\"_\")])"
   ]
  },
  {
   "cell_type": "markdown",
   "id": "3d089eb6-6cce-4b57-a4ff-93b97803bb0a",
   "metadata": {},
   "source": [
    "## 0. Import and Initialize Weights and Biases"
   ]
  },
  {
   "cell_type": "code",
   "execution_count": 39,
   "id": "d19317e1-f3fa-4205-ac52-29fa1f7c6137",
   "metadata": {},
   "outputs": [],
   "source": [
    "import wandb\n",
    "from wandb.keras import WandbCallback"
   ]
  },
  {
   "cell_type": "code",
   "execution_count": 40,
   "id": "ce6adf6d-ca0c-411d-ba4d-46484e18a0b8",
   "metadata": {},
   "outputs": [],
   "source": [
    "# enter project name\n",
    "project_name = 'dlomix_intensity'"
   ]
  },
  {
   "cell_type": "markdown",
   "id": "485875ba-bbca-4f11-be71-49b150ccdc69",
   "metadata": {},
   "source": [
    "## 1. Load Data"
   ]
  },
  {
   "cell_type": "markdown",
   "id": "3efbdf52-3a0a-453e-95bb-7ab46b640f74",
   "metadata": {},
   "source": [
    "### 1.1 Load Training and Validation Data"
   ]
  },
  {
   "cell_type": "code",
   "execution_count": 41,
   "id": "5010ca2e-9f50-4688-a075-c63bcdba4775",
   "metadata": {},
   "outputs": [],
   "source": [
    "from dlomix.data import IntensityDataset"
   ]
  },
  {
   "cell_type": "code",
   "execution_count": 42,
   "id": "7cb6cb57-7dc7-41c5-ab1f-61d9a42c7496",
   "metadata": {},
   "outputs": [],
   "source": [
    "#TRAIN_DATAPATH = 'https://raw.githubusercontent.com/wilhelm-lab/dlomix-resources/tasks/intensity/example_datasets/Intensity/proteomeTools_train_val.csv'\n",
    "TRAIN_DATAPATH = 'D:\\\\Uni\\\\Masterarbeit\\\\dlomix\\\\ptm\\\\input_data\\\\train_val_hcd.csv'\n",
    "\n",
    "BATCH_SIZE = 64\n",
    "\n",
    "int_data = IntensityDataset(data_source=TRAIN_DATAPATH, seq_length=30, batch_size=BATCH_SIZE,\n",
    "                            collision_energy_col='collision_energy', val_ratio=0.2, test=False)"
   ]
  },
  {
   "cell_type": "code",
   "execution_count": 43,
   "id": "4768ba36-b7a2-4ba7-9461-14fd562645ca",
   "metadata": {},
   "outputs": [
    {
     "data": {
      "text/plain": [
       "('Training examples', 17408)"
      ]
     },
     "execution_count": 43,
     "metadata": {},
     "output_type": "execute_result"
    }
   ],
   "source": [
    "\"Training examples\", BATCH_SIZE * len(int_data.train_data)"
   ]
  },
  {
   "cell_type": "code",
   "execution_count": 44,
   "id": "7f417730-034b-42f2-af15-7c3d0b049891",
   "metadata": {},
   "outputs": [
    {
     "data": {
      "text/plain": [
       "('Validation examples', 4352)"
      ]
     },
     "execution_count": 44,
     "metadata": {},
     "output_type": "execute_result"
    }
   ],
   "source": [
    "\"Validation examples\", BATCH_SIZE * len(int_data.val_data)"
   ]
  },
  {
   "cell_type": "markdown",
   "id": "48a6e815-c4c6-47d5-932c-4da8c4cf92cf",
   "metadata": {},
   "source": [
    "### 1.2 Load Test Data"
   ]
  },
  {
   "cell_type": "code",
   "execution_count": 45,
   "id": "855118a5-a8f8-46c5-9b74-622816ade05c",
   "metadata": {},
   "outputs": [],
   "source": [
    "TEST_DATAPATH = 'D:\\\\Uni\\\\Masterarbeit\\\\dlomix\\\\ptm\\\\input_data\\\\test_hcd.csv'\n",
    "\n",
    "test_int_data = IntensityDataset(data_source=TEST_DATAPATH,\n",
    "                              seq_length=30, collision_energy_col='collision_energy',batch_size=32, test=True)"
   ]
  },
  {
   "cell_type": "markdown",
   "id": "69d75b6d-fe6b-404f-a062-ce7e42728d1b",
   "metadata": {},
   "source": [
    "### 1.3 Load Weights from HDF5 File for Embedding Layer"
   ]
  },
  {
   "cell_type": "code",
   "execution_count": 46,
   "id": "cd017d14-fec1-48c7-be7d-35f9302256a5",
   "metadata": {},
   "outputs": [],
   "source": [
    "import h5py"
   ]
  },
  {
   "cell_type": "code",
   "execution_count": 47,
   "id": "b5b368f2-003a-4c83-a524-2ce3e58de917",
   "metadata": {},
   "outputs": [],
   "source": [
    "f = h5py.File('ptm/weights/weights_163_0.11385.hdf5', 'r+')"
   ]
  },
  {
   "cell_type": "code",
   "execution_count": 48,
   "id": "731331e5-4adb-4919-9acb-d086c0ea87c1",
   "metadata": {},
   "outputs": [
    {
     "data": {
      "text/plain": [
       "(23, 32)"
      ]
     },
     "execution_count": 48,
     "metadata": {},
     "output_type": "execute_result"
    }
   ],
   "source": [
    "group = f['model_weights']\n",
    "data_file = group['embedding']\n",
    "for group in data_file.keys() :\n",
    "    for dset in data_file[group].keys():      \n",
    "        weights_hpf5 = data_file[group][dset][:]\n",
    "weights_hpf5.shape"
   ]
  },
  {
   "cell_type": "code",
   "execution_count": 49,
   "id": "3ffdfd6a-c370-4fe2-ba8d-629fcf597f9d",
   "metadata": {},
   "outputs": [],
   "source": [
    "f.close()"
   ]
  },
  {
   "cell_type": "markdown",
   "id": "905be94c-7f81-4952-8fa3-50fd47421cc0",
   "metadata": {},
   "source": [
    "## 2. Models"
   ]
  },
  {
   "cell_type": "markdown",
   "id": "cde58d62-8834-45ce-8815-8525fffa92b9",
   "metadata": {},
   "source": [
    "#### 2.0.1 Import Packages for Training"
   ]
  },
  {
   "cell_type": "code",
   "execution_count": 50,
   "id": "4ede42ae-422b-455a-a7e1-cf2f6f5e2330",
   "metadata": {},
   "outputs": [],
   "source": [
    "from dlomix.models import PrositIntensityPredictor\n",
    "import keras\n",
    "import tensorflow as tf\n",
    "import numpy as np\n",
    "from dlomix.losses import masked_spectral_distance, masked_pearson_correlation_distance"
   ]
  },
  {
   "cell_type": "markdown",
   "id": "f6a2daf9-b3ec-4f39-b6a3-9a8a507c04a7",
   "metadata": {},
   "source": [
    "#### 2.0.2 Import Packages for Testing and Prediction"
   ]
  },
  {
   "cell_type": "code",
   "execution_count": 51,
   "id": "405b1037-2efe-460a-8239-3b31b382a401",
   "metadata": {},
   "outputs": [],
   "source": [
    "from dlomix.reports import IntensityReport\n",
    "from dlomix.reports.postprocessing import normalize_intensity_predictions\n",
    "import seaborn as sns"
   ]
  },
  {
   "cell_type": "markdown",
   "id": "ccda1f34-7feb-46f0-824c-367b2882c94a",
   "metadata": {},
   "source": [
    "#### 2.0.3 Modify sequences to be able to load them into the model"
   ]
  },
  {
   "cell_type": "code",
   "execution_count": 52,
   "id": "7a900f98-a995-4d67-acf9-071d4a022195",
   "metadata": {},
   "outputs": [],
   "source": [
    "sequences = [[i] for i in int_data.sequences]"
   ]
  },
  {
   "cell_type": "code",
   "execution_count": 53,
   "id": "9deb5666-fce2-40b1-b20b-0e7cb15ac5e5",
   "metadata": {},
   "outputs": [],
   "source": [
    "#model_random = PrositIntensityPredictor(seq_length=30)\n",
    "#model_random(inputs={'sequence':[['EYYLRYLEK']], 'collision_energy':tf.convert_to_tensor([[35.0]], dtype=np.float32), 'precursor_charge':tf.convert_to_tensor([[0, 1, 0, 0, 0, 0]], dtype=np.float32)})"
   ]
  },
  {
   "cell_type": "markdown",
   "id": "442d4783-25e0-4e04-b593-12a7ab14ddc3",
   "metadata": {},
   "source": [
    "### 2.1 Train model from scratch"
   ]
  },
  {
   "cell_type": "markdown",
   "id": "3362d0c3-03b9-49a9-b2dc-5a6b161673e3",
   "metadata": {},
   "source": [
    "#### 2.1.1 Create Model"
   ]
  },
  {
   "cell_type": "code",
   "execution_count": 54,
   "id": "aabe3877-3995-4fa1-8247-21e1faab2a9d",
   "metadata": {},
   "outputs": [
    {
     "data": {
      "text/plain": [
       "<tf.Tensor: shape=(21727, 174), dtype=float32, numpy=\n",
       "array([[ 1.2835530e-06, -7.6952352e-07,  3.5276682e-06, ...,\n",
       "        -7.6351313e-08,  4.4704757e-06, -7.3088455e-07],\n",
       "       [-1.2177353e-06, -4.7430763e-07,  9.1339962e-07, ...,\n",
       "         4.1788121e-07,  1.6824641e-06, -1.9405063e-06],\n",
       "       [-1.2174083e-06, -4.7419033e-07,  9.1262882e-07, ...,\n",
       "         4.1135809e-07,  1.6757292e-06, -1.9393042e-06],\n",
       "       ...,\n",
       "       [ 7.7259125e-07, -3.3493439e-08, -3.2035410e-07, ...,\n",
       "         1.9168685e-06,  5.2883856e-06, -1.8276957e-06],\n",
       "       [ 7.7259125e-07, -3.3493439e-08, -3.2035410e-07, ...,\n",
       "         1.9168685e-06,  5.2883856e-06, -1.8276957e-06],\n",
       "       [ 7.7259125e-07, -3.3493439e-08, -3.2035410e-07, ...,\n",
       "         1.9168685e-06,  5.2883856e-06, -1.8276957e-06]], dtype=float32)>"
      ]
     },
     "execution_count": 54,
     "metadata": {},
     "output_type": "execute_result"
    }
   ],
   "source": [
    "model_scratch = PrositIntensityPredictor(seq_length=30)\n",
    "model_scratch(inputs={'sequence':sequences, 'collision_energy':tf.convert_to_tensor(int_data.collision_energy, dtype=np.float32), 'precursor_charge':tf.convert_to_tensor(int_data.precursor_charge, dtype=np.float32)})"
   ]
  },
  {
   "cell_type": "markdown",
   "id": "c97b86d0-f718-4441-98d7-ab9fda98f1d7",
   "metadata": {},
   "source": [
    "#### 2.1.2 Train Model"
   ]
  },
  {
   "cell_type": "code",
   "execution_count": 55,
   "id": "0828ae14-b337-43c4-ad8e-3ff7d28cc90b",
   "metadata": {},
   "outputs": [],
   "source": [
    "tf.get_logger().setLevel('ERROR')\n",
    "optimizer = tf.keras.optimizers.Adam(learning_rate=0.001)\n",
    "model_scratch.compile(optimizer=optimizer,\n",
    "              loss=masked_spectral_distance,\n",
    "              metrics=['mse',masked_pearson_correlation_distance])"
   ]
  },
  {
   "cell_type": "code",
   "execution_count": 56,
   "id": "95f013c3-019f-48aa-b5c4-3b1725ff27e0",
   "metadata": {},
   "outputs": [
    {
     "name": "stderr",
     "output_type": "stream",
     "text": [
      "\u001b[34m\u001b[1mwandb\u001b[0m: Currently logged in as: \u001b[33mc-kloppert\u001b[0m. Use \u001b[1m`wandb login --relogin`\u001b[0m to force relogin\n"
     ]
    },
    {
     "data": {
      "text/html": [
       "wandb version 0.16.2 is available!  To upgrade, please run:\n",
       " $ pip install wandb --upgrade"
      ],
      "text/plain": [
       "<IPython.core.display.HTML object>"
      ]
     },
     "metadata": {},
     "output_type": "display_data"
    },
    {
     "data": {
      "text/html": [
       "Tracking run with wandb version 0.16.1"
      ],
      "text/plain": [
       "<IPython.core.display.HTML object>"
      ]
     },
     "metadata": {},
     "output_type": "display_data"
    },
    {
     "data": {
      "text/html": [
       "Run data is saved locally in <code>D:\\Uni\\Masterarbeit\\dlomix\\wandb\\run-20240125_131233-bny04ak4</code>"
      ],
      "text/plain": [
       "<IPython.core.display.HTML object>"
      ]
     },
     "metadata": {},
     "output_type": "display_data"
    },
    {
     "data": {
      "text/html": [
       "Syncing run <strong><a href='https://wandb.ai/c-kloppert/dlomix_intensity/runs/bny04ak4' target=\"_blank\">scratch</a></strong> to <a href='https://wandb.ai/c-kloppert/dlomix_intensity' target=\"_blank\">Weights & Biases</a> (<a href='https://wandb.me/run' target=\"_blank\">docs</a>)<br/>"
      ],
      "text/plain": [
       "<IPython.core.display.HTML object>"
      ]
     },
     "metadata": {},
     "output_type": "display_data"
    },
    {
     "data": {
      "text/html": [
       " View project at <a href='https://wandb.ai/c-kloppert/dlomix_intensity' target=\"_blank\">https://wandb.ai/c-kloppert/dlomix_intensity</a>"
      ],
      "text/plain": [
       "<IPython.core.display.HTML object>"
      ]
     },
     "metadata": {},
     "output_type": "display_data"
    },
    {
     "data": {
      "text/html": [
       " View run at <a href='https://wandb.ai/c-kloppert/dlomix_intensity/runs/bny04ak4' target=\"_blank\">https://wandb.ai/c-kloppert/dlomix_intensity/runs/bny04ak4</a>"
      ],
      "text/plain": [
       "<IPython.core.display.HTML object>"
      ]
     },
     "metadata": {},
     "output_type": "display_data"
    },
    {
     "name": "stdout",
     "output_type": "stream",
     "text": [
      "272/272 [==============================] - 91s 323ms/step - loss: 0.6259 - mse: 0.6459 - masked_pearson_correlation_distance: 0.4967 - val_loss: 0.6108 - val_mse: 0.6764 - val_masked_pearson_correlation_distance: 0.4738\n"
     ]
    }
   ],
   "source": [
    "wandb.init(project=project_name, name='scratch')\n",
    "history = model_scratch.fit(int_data.train_data,\n",
    "                    validation_data=int_data.val_data,\n",
    "                    epochs=1,callbacks=[WandbCallback(save_model=False)])"
   ]
  },
  {
   "cell_type": "code",
   "execution_count": 57,
   "id": "9ebdcf5f-9629-4fd7-9457-060d53ac2cb0",
   "metadata": {},
   "outputs": [
    {
     "data": {
      "text/html": [
       "<style>\n",
       "    table.wandb td:nth-child(1) { padding: 0 10px; text-align: left ; width: auto;} td:nth-child(2) {text-align: left ; width: 100%}\n",
       "    .wandb-row { display: flex; flex-direction: row; flex-wrap: wrap; justify-content: flex-start; width: 100% }\n",
       "    .wandb-col { display: flex; flex-direction: column; flex-basis: 100%; flex: 1; padding: 10px; }\n",
       "    </style>\n",
       "<div class=\"wandb-row\"><div class=\"wandb-col\"><h3>Run history:</h3><br/><table class=\"wandb\"><tr><td>epoch</td><td>▁</td></tr><tr><td>loss</td><td>▁</td></tr><tr><td>masked_pearson_correlation_distance</td><td>▁</td></tr><tr><td>mse</td><td>▁</td></tr><tr><td>val_loss</td><td>▁</td></tr><tr><td>val_masked_pearson_correlation_distance</td><td>▁</td></tr><tr><td>val_mse</td><td>▁</td></tr></table><br/></div><div class=\"wandb-col\"><h3>Run summary:</h3><br/><table class=\"wandb\"><tr><td>best_epoch</td><td>0</td></tr><tr><td>best_val_loss</td><td>0.61077</td></tr><tr><td>epoch</td><td>0</td></tr><tr><td>loss</td><td>0.62594</td></tr><tr><td>masked_pearson_correlation_distance</td><td>0.49673</td></tr><tr><td>mse</td><td>0.64593</td></tr><tr><td>val_loss</td><td>0.61077</td></tr><tr><td>val_masked_pearson_correlation_distance</td><td>0.4738</td></tr><tr><td>val_mse</td><td>0.67636</td></tr></table><br/></div></div>"
      ],
      "text/plain": [
       "<IPython.core.display.HTML object>"
      ]
     },
     "metadata": {},
     "output_type": "display_data"
    },
    {
     "data": {
      "text/html": [
       " View run <strong style=\"color:#cdcd00\">scratch</strong> at: <a href='https://wandb.ai/c-kloppert/dlomix_intensity/runs/bny04ak4' target=\"_blank\">https://wandb.ai/c-kloppert/dlomix_intensity/runs/bny04ak4</a><br/> View job at <a href='https://wandb.ai/c-kloppert/dlomix_intensity/jobs/QXJ0aWZhY3RDb2xsZWN0aW9uOjEzMjMyMDgzOQ==/version_details/v2' target=\"_blank\">https://wandb.ai/c-kloppert/dlomix_intensity/jobs/QXJ0aWZhY3RDb2xsZWN0aW9uOjEzMjMyMDgzOQ==/version_details/v2</a><br/>Synced 5 W&B file(s), 1 media file(s), 0 artifact file(s) and 0 other file(s)"
      ],
      "text/plain": [
       "<IPython.core.display.HTML object>"
      ]
     },
     "metadata": {},
     "output_type": "display_data"
    },
    {
     "data": {
      "text/html": [
       "Find logs at: <code>.\\wandb\\run-20240125_131233-bny04ak4\\logs</code>"
      ],
      "text/plain": [
       "<IPython.core.display.HTML object>"
      ]
     },
     "metadata": {},
     "output_type": "display_data"
    }
   ],
   "source": [
    "wandb.finish()"
   ]
  },
  {
   "cell_type": "markdown",
   "id": "e4960de8-b647-4ed9-bda2-c04ec92b0149",
   "metadata": {},
   "source": [
    "#### 2.1.3 Testing and Prediction"
   ]
  },
  {
   "cell_type": "code",
   "execution_count": 58,
   "id": "0538ca23-9d74-4b76-a020-b5d2e2f1e41c",
   "metadata": {},
   "outputs": [
    {
     "name": "stdout",
     "output_type": "stream",
     "text": [
      "76/76 [==============================] - 6s 68ms/step\n"
     ]
    }
   ],
   "source": [
    "predictions = model_scratch.predict(test_int_data.test_data)"
   ]
  },
  {
   "cell_type": "code",
   "execution_count": 59,
   "id": "d15e87bf-ecdd-4ca0-892d-f3ec6bbf26e2",
   "metadata": {},
   "outputs": [
    {
     "data": {
      "image/png": "[encoded data removed]",
      "text/plain": [
       "<Figure size 640x480 with 1 Axes>"
      ]
     },
     "metadata": {},
     "output_type": "display_data"
    },
    {
     "data": {
      "image/png": "[encoded data removed]",
      "text/plain": [
       "<Figure size 640x480 with 1 Axes>"
      ]
     },
     "metadata": {},
     "output_type": "display_data"
    },
    {
     "data": {
      "image/png": "[encoded data removed]",
      "text/plain": [
       "<Figure size 640x480 with 1 Axes>"
      ]
     },
     "metadata": {},
     "output_type": "display_data"
    },
    {
     "data": {
      "image/png": "[encoded data removed]",
      "text/plain": [
       "<Figure size 640x480 with 1 Axes>"
      ]
     },
     "metadata": {},
     "output_type": "display_data"
    }
   ],
   "source": [
    "report = IntensityReport(output_path=\"ptm/output/scratch\", history=history)\n",
    "report.generate_report(test_int_data, predictions)"
   ]
  },
  {
   "cell_type": "code",
   "execution_count": 60,
   "id": "01abcb84-fb85-4283-b989-ead3645b1209",
   "metadata": {},
   "outputs": [
    {
     "data": {
      "text/html": [
       "<div>\n",
       "<style scoped>\n",
       "    .dataframe tbody tr th:only-of-type {\n",
       "        vertical-align: middle;\n",
       "    }\n",
       "\n",
       "    .dataframe tbody tr th {\n",
       "        vertical-align: top;\n",
       "    }\n",
       "\n",
       "    .dataframe thead th {\n",
       "        text-align: right;\n",
       "    }\n",
       "</style>\n",
       "<table border=\"1\" class=\"dataframe\">\n",
       "  <thead>\n",
       "    <tr style=\"text-align: right;\">\n",
       "      <th></th>\n",
       "      <th>sequences</th>\n",
       "      <th>intensities_pred</th>\n",
       "      <th>precursor_charge_onehot</th>\n",
       "      <th>intensities_raw</th>\n",
       "    </tr>\n",
       "  </thead>\n",
       "  <tbody>\n",
       "    <tr>\n",
       "      <th>0</th>\n",
       "      <td>AAADQMRDFLVR</td>\n",
       "      <td>[0.02310439758002758, 0.005804609041661024, 0....</td>\n",
       "      <td>[0.0, 0.0, 1.0, 0.0, 0.0, 0.0]</td>\n",
       "      <td>[0.03999999910593033, 0.0, 0.0, 0.0, 0.0, 0.0,...</td>\n",
       "    </tr>\n",
       "    <tr>\n",
       "      <th>1</th>\n",
       "      <td>AAADQMRDFLVR</td>\n",
       "      <td>[0.02310439758002758, 0.005804609041661024, 0....</td>\n",
       "      <td>[0.0, 0.0, 1.0, 0.0, 0.0, 0.0]</td>\n",
       "      <td>[0.03999999910593033, 0.0, 0.0, 0.0, 0.0, 0.0,...</td>\n",
       "    </tr>\n",
       "    <tr>\n",
       "      <th>2</th>\n",
       "      <td>AAADQMRDFLVR</td>\n",
       "      <td>[0.02310439758002758, 0.005804609041661024, 0....</td>\n",
       "      <td>[0.0, 0.0, 1.0, 0.0, 0.0, 0.0]</td>\n",
       "      <td>[0.03999999910593033, 0.0, 0.0, 0.0, 0.0, 0.0,...</td>\n",
       "    </tr>\n",
       "    <tr>\n",
       "      <th>3</th>\n",
       "      <td>AAADQMRDFLVR</td>\n",
       "      <td>[0.02310439758002758, 0.005804609041661024, 0....</td>\n",
       "      <td>[0.0, 0.0, 1.0, 0.0, 0.0, 0.0]</td>\n",
       "      <td>[0.03999999910593033, 0.0, 0.0, 0.0, 0.0, 0.0,...</td>\n",
       "    </tr>\n",
       "    <tr>\n",
       "      <th>4</th>\n",
       "      <td>AAADQMRDFLVR</td>\n",
       "      <td>[0.03083113022148609, 0.0004229862242937088, 0...</td>\n",
       "      <td>[0.0, 1.0, 0.0, 0.0, 0.0, 0.0]</td>\n",
       "      <td>[0.3799999952316284, 0.0, -1.0, 0.0, 0.0, -1.0...</td>\n",
       "    </tr>\n",
       "  </tbody>\n",
       "</table>\n",
       "</div>"
      ],
      "text/plain": [
       "      sequences                                   intensities_pred  \\\n",
       "0  AAADQMRDFLVR  [0.02310439758002758, 0.005804609041661024, 0....   \n",
       "1  AAADQMRDFLVR  [0.02310439758002758, 0.005804609041661024, 0....   \n",
       "2  AAADQMRDFLVR  [0.02310439758002758, 0.005804609041661024, 0....   \n",
       "3  AAADQMRDFLVR  [0.02310439758002758, 0.005804609041661024, 0....   \n",
       "4  AAADQMRDFLVR  [0.03083113022148609, 0.0004229862242937088, 0...   \n",
       "\n",
       "          precursor_charge_onehot  \\\n",
       "0  [0.0, 0.0, 1.0, 0.0, 0.0, 0.0]   \n",
       "1  [0.0, 0.0, 1.0, 0.0, 0.0, 0.0]   \n",
       "2  [0.0, 0.0, 1.0, 0.0, 0.0, 0.0]   \n",
       "3  [0.0, 0.0, 1.0, 0.0, 0.0, 0.0]   \n",
       "4  [0.0, 1.0, 0.0, 0.0, 0.0, 0.0]   \n",
       "\n",
       "                                     intensities_raw  \n",
       "0  [0.03999999910593033, 0.0, 0.0, 0.0, 0.0, 0.0,...  \n",
       "1  [0.03999999910593033, 0.0, 0.0, 0.0, 0.0, 0.0,...  \n",
       "2  [0.03999999910593033, 0.0, 0.0, 0.0, 0.0, 0.0,...  \n",
       "3  [0.03999999910593033, 0.0, 0.0, 0.0, 0.0, 0.0,...  \n",
       "4  [0.3799999952316284, 0.0, -1.0, 0.0, 0.0, -1.0...  "
      ]
     },
     "execution_count": 60,
     "metadata": {},
     "output_type": "execute_result"
    }
   ],
   "source": [
    "predictions_df = report.generate_intensity_results_df(test_int_data, predictions)\n",
    "predictions_df.head()"
   ]
  },
  {
   "cell_type": "code",
   "execution_count": 61,
   "id": "08e367c8-114d-43d7-82b6-603bfcfcb959",
   "metadata": {},
   "outputs": [
    {
     "data": {
      "text/html": [
       "<div>\n",
       "<style scoped>\n",
       "    .dataframe tbody tr th:only-of-type {\n",
       "        vertical-align: middle;\n",
       "    }\n",
       "\n",
       "    .dataframe tbody tr th {\n",
       "        vertical-align: top;\n",
       "    }\n",
       "\n",
       "    .dataframe thead th {\n",
       "        text-align: right;\n",
       "    }\n",
       "</style>\n",
       "<table border=\"1\" class=\"dataframe\">\n",
       "  <thead>\n",
       "    <tr style=\"text-align: right;\">\n",
       "      <th></th>\n",
       "      <th>sequences</th>\n",
       "      <th>intensities_pred</th>\n",
       "      <th>precursor_charge_onehot</th>\n",
       "      <th>intensities_raw</th>\n",
       "      <th>spectral_angle</th>\n",
       "    </tr>\n",
       "  </thead>\n",
       "  <tbody>\n",
       "    <tr>\n",
       "      <th>0</th>\n",
       "      <td>AAADQMRDFLVR</td>\n",
       "      <td>0.254117</td>\n",
       "      <td>[0.0, 0.0, 1.0, 0.0, 0.0, 0.0]</td>\n",
       "      <td>[0.03999999910593033, 0.0, 0.0, 0.0, 0.0, 0.0,...</td>\n",
       "      <td>0.341216</td>\n",
       "    </tr>\n",
       "    <tr>\n",
       "      <th>1</th>\n",
       "      <td>AAADQMRDFLVR</td>\n",
       "      <td>0.254117</td>\n",
       "      <td>[0.0, 0.0, 1.0, 0.0, 0.0, 0.0]</td>\n",
       "      <td>[0.03999999910593033, 0.0, 0.0, 0.0, 0.0, 0.0,...</td>\n",
       "      <td>0.341216</td>\n",
       "    </tr>\n",
       "    <tr>\n",
       "      <th>2</th>\n",
       "      <td>AAADQMRDFLVR</td>\n",
       "      <td>0.254117</td>\n",
       "      <td>[0.0, 0.0, 1.0, 0.0, 0.0, 0.0]</td>\n",
       "      <td>[0.03999999910593033, 0.0, 0.0, 0.0, 0.0, 0.0,...</td>\n",
       "      <td>0.337402</td>\n",
       "    </tr>\n",
       "    <tr>\n",
       "      <th>3</th>\n",
       "      <td>AAADQMRDFLVR</td>\n",
       "      <td>0.254117</td>\n",
       "      <td>[0.0, 0.0, 1.0, 0.0, 0.0, 0.0]</td>\n",
       "      <td>[0.03999999910593033, 0.0, 0.0, 0.0, 0.0, 0.0,...</td>\n",
       "      <td>0.337402</td>\n",
       "    </tr>\n",
       "    <tr>\n",
       "      <th>4</th>\n",
       "      <td>AAADQMRDFLVR</td>\n",
       "      <td>0.254748</td>\n",
       "      <td>[0.0, 1.0, 0.0, 0.0, 0.0, 0.0]</td>\n",
       "      <td>[0.3799999952316284, 0.0, -1.0, 0.0, 0.0, -1.0...</td>\n",
       "      <td>0.141137</td>\n",
       "    </tr>\n",
       "  </tbody>\n",
       "</table>\n",
       "</div>"
      ],
      "text/plain": [
       "      sequences  intensities_pred         precursor_charge_onehot  \\\n",
       "0  AAADQMRDFLVR          0.254117  [0.0, 0.0, 1.0, 0.0, 0.0, 0.0]   \n",
       "1  AAADQMRDFLVR          0.254117  [0.0, 0.0, 1.0, 0.0, 0.0, 0.0]   \n",
       "2  AAADQMRDFLVR          0.254117  [0.0, 0.0, 1.0, 0.0, 0.0, 0.0]   \n",
       "3  AAADQMRDFLVR          0.254117  [0.0, 0.0, 1.0, 0.0, 0.0, 0.0]   \n",
       "4  AAADQMRDFLVR          0.254748  [0.0, 1.0, 0.0, 0.0, 0.0, 0.0]   \n",
       "\n",
       "                                     intensities_raw  spectral_angle  \n",
       "0  [0.03999999910593033, 0.0, 0.0, 0.0, 0.0, 0.0,...        0.341216  \n",
       "1  [0.03999999910593033, 0.0, 0.0, 0.0, 0.0, 0.0,...        0.341216  \n",
       "2  [0.03999999910593033, 0.0, 0.0, 0.0, 0.0, 0.0,...        0.337402  \n",
       "3  [0.03999999910593033, 0.0, 0.0, 0.0, 0.0, 0.0,...        0.337402  \n",
       "4  [0.3799999952316284, 0.0, -1.0, 0.0, 0.0, -1.0...        0.141137  "
      ]
     },
     "execution_count": 61,
     "metadata": {},
     "output_type": "execute_result"
    }
   ],
   "source": [
    "predictions_acc = normalize_intensity_predictions(predictions_df)\n",
    "predictions_acc.head()"
   ]
  },
  {
   "cell_type": "code",
   "execution_count": 62,
   "id": "71295e5f-ca45-4c7b-afa1-c9e1015af3e1",
   "metadata": {},
   "outputs": [
    {
     "data": {
      "text/plain": [
       "count    2416.000000\n",
       "mean        0.390885\n",
       "std         0.131757\n",
       "min         0.012319\n",
       "25%         0.295346\n",
       "50%         0.404906\n",
       "75%         0.484400\n",
       "max         0.765773\n",
       "Name: spectral_angle, dtype: float64"
      ]
     },
     "execution_count": 62,
     "metadata": {},
     "output_type": "execute_result"
    }
   ],
   "source": [
    "spectral_angle = predictions_acc['spectral_angle'].describe()\n",
    "spectral_angle"
   ]
  },
  {
   "cell_type": "code",
   "execution_count": 63,
   "id": "5d6e699b-887c-4532-9163-56693c69424d",
   "metadata": {},
   "outputs": [],
   "source": [
    "spectral_angle.to_csv('ptm/output/scratch/spectracle_angle_scratch.csv')"
   ]
  },
  {
   "cell_type": "code",
   "execution_count": 64,
   "id": "419c88bd-c7a7-46e0-af94-a6ce6dc14225",
   "metadata": {},
   "outputs": [
    {
     "data": {
      "text/plain": [
       "<Figure size 640x480 with 0 Axes>"
      ]
     },
     "metadata": {},
     "output_type": "display_data"
    }
   ],
   "source": [
    "plot_violin_spectral_angle = sns.violinplot(predictions_acc['spectral_angle']).set_title('AA')\n",
    "fig = plot_violin_spectral_angle.get_figure()\n",
    "fig.savefig('ptm/output/scratch/spectral_angle_scratch.png')\n",
    "fig.clear()"
   ]
  },
  {
   "cell_type": "markdown",
   "id": "daee33f7-08ef-42b9-b237-2fae7a702124",
   "metadata": {},
   "source": [
    "### 2.2 Random initialization of row \"r\" "
   ]
  },
  {
   "cell_type": "markdown",
   "id": "7fed7552-7742-4351-9844-b2f238705058",
   "metadata": {},
   "source": [
    "#### 2.2.1 Create Random Uniform Weight Matrix"
   ]
  },
  {
   "cell_type": "code",
   "execution_count": 65,
   "id": "62504b62-bae8-4c0f-ae87-31d194560352",
   "metadata": {},
   "outputs": [],
   "source": [
    "newrow_r = np.random.uniform(-1, 1, size=(1, 32))\n",
    "weights_hpf5_random_r = np.vstack([weights_hpf5, newrow_r])"
   ]
  },
  {
   "cell_type": "markdown",
   "id": "6edd26be-922d-4f7f-897a-7cfa649b50aa",
   "metadata": {},
   "source": [
    "#### 2.2.2 Create Model"
   ]
  },
  {
   "cell_type": "code",
   "execution_count": 66,
   "id": "a78c438d-627a-4663-891d-c1fa47ca8b47",
   "metadata": {},
   "outputs": [
    {
     "data": {
      "text/plain": [
       "<tf.Tensor: shape=(21727, 174), dtype=float32, numpy=\n",
       "array([[-1.14472435e-07, -3.47442722e-07, -4.04140621e-07, ...,\n",
       "        -1.11165741e-06, -5.80919391e-07,  5.16875559e-07],\n",
       "       [ 2.39074075e-06,  2.05816582e-06,  1.96257361e-06, ...,\n",
       "         1.32782498e-06, -3.99662980e-07, -7.11303073e-07],\n",
       "       [ 2.39309270e-06,  2.05581318e-06,  1.95985513e-06, ...,\n",
       "         1.32407604e-06, -4.01738049e-07, -7.11478719e-07],\n",
       "       ...,\n",
       "       [ 1.24079543e-06,  2.33153287e-07,  6.31740420e-07, ...,\n",
       "         2.72400484e-06, -3.59326719e-07,  2.68176245e-06],\n",
       "       [ 1.24079543e-06,  2.33153287e-07,  6.31740420e-07, ...,\n",
       "         2.72400484e-06, -3.59326719e-07,  2.68176245e-06],\n",
       "       [ 1.24079543e-06,  2.33153287e-07,  6.31740420e-07, ...,\n",
       "         2.72400484e-06, -3.59326719e-07,  2.68176245e-06]], dtype=float32)>"
      ]
     },
     "execution_count": 66,
     "metadata": {},
     "output_type": "execute_result"
    }
   ],
   "source": [
    "model_random_r = PrositIntensityPredictor(seq_length=30)\n",
    "model_random_r(inputs={'sequence':sequences, 'collision_energy':tf.convert_to_tensor(int_data.collision_energy, dtype=np.float32), 'precursor_charge':tf.convert_to_tensor(int_data.precursor_charge, dtype=np.float32)})"
   ]
  },
  {
   "cell_type": "markdown",
   "id": "f98823a3-f7f3-4e6c-9710-f9c1a0ec0ba8",
   "metadata": {},
   "source": [
    "#### 2.2.3 Assign Weight Matrix to Model"
   ]
  },
  {
   "cell_type": "code",
   "execution_count": 67,
   "id": "2a7f9034-86cd-4648-a9b4-7ea79a5cf875",
   "metadata": {},
   "outputs": [],
   "source": [
    "model_random_r.layers[1].set_weights([weights_hpf5_random_r])    "
   ]
  },
  {
   "cell_type": "code",
   "execution_count": 68,
   "id": "a5c201ba-9fd9-4363-a3d7-f8c73d529adb",
   "metadata": {},
   "outputs": [],
   "source": [
    "#model_random_r.layers[1].get_weights()[0]"
   ]
  },
  {
   "cell_type": "markdown",
   "id": "1c500cd2-0f2a-4b9c-a3f8-f74d01ed88a9",
   "metadata": {},
   "source": [
    "#### 2.2.4 Train Model"
   ]
  },
  {
   "cell_type": "code",
   "execution_count": 69,
   "id": "5839cf68-1bef-4182-add7-4081b45956a9",
   "metadata": {},
   "outputs": [],
   "source": [
    "tf.get_logger().setLevel('ERROR')\n",
    "optimizer = tf.keras.optimizers.Adam(learning_rate=0.001)\n",
    "model_random_r.compile(optimizer=optimizer,\n",
    "              loss=masked_spectral_distance,\n",
    "              metrics=['mse',masked_pearson_correlation_distance])"
   ]
  },
  {
   "cell_type": "code",
   "execution_count": 70,
   "id": "59f93393-11d2-4f77-abe6-0f053a028852",
   "metadata": {},
   "outputs": [
    {
     "data": {
      "text/html": [
       "wandb version 0.16.2 is available!  To upgrade, please run:\n",
       " $ pip install wandb --upgrade"
      ],
      "text/plain": [
       "<IPython.core.display.HTML object>"
      ]
     },
     "metadata": {},
     "output_type": "display_data"
    },
    {
     "data": {
      "text/html": [
       "Tracking run with wandb version 0.16.1"
      ],
      "text/plain": [
       "<IPython.core.display.HTML object>"
      ]
     },
     "metadata": {},
     "output_type": "display_data"
    },
    {
     "data": {
      "text/html": [
       "Run data is saved locally in <code>D:\\Uni\\Masterarbeit\\dlomix\\wandb\\run-20240125_131427-zt5xrdui</code>"
      ],
      "text/plain": [
       "<IPython.core.display.HTML object>"
      ]
     },
     "metadata": {},
     "output_type": "display_data"
    },
    {
     "data": {
      "text/html": [
       "Syncing run <strong><a href='https://wandb.ai/c-kloppert/dlomix_intensity/runs/zt5xrdui' target=\"_blank\">random model</a></strong> to <a href='https://wandb.ai/c-kloppert/dlomix_intensity' target=\"_blank\">Weights & Biases</a> (<a href='https://wandb.me/run' target=\"_blank\">docs</a>)<br/>"
      ],
      "text/plain": [
       "<IPython.core.display.HTML object>"
      ]
     },
     "metadata": {},
     "output_type": "display_data"
    },
    {
     "data": {
      "text/html": [
       " View project at <a href='https://wandb.ai/c-kloppert/dlomix_intensity' target=\"_blank\">https://wandb.ai/c-kloppert/dlomix_intensity</a>"
      ],
      "text/plain": [
       "<IPython.core.display.HTML object>"
      ]
     },
     "metadata": {},
     "output_type": "display_data"
    },
    {
     "data": {
      "text/html": [
       " View run at <a href='https://wandb.ai/c-kloppert/dlomix_intensity/runs/zt5xrdui' target=\"_blank\">https://wandb.ai/c-kloppert/dlomix_intensity/runs/zt5xrdui</a>"
      ],
      "text/plain": [
       "<IPython.core.display.HTML object>"
      ]
     },
     "metadata": {},
     "output_type": "display_data"
    },
    {
     "name": "stdout",
     "output_type": "stream",
     "text": [
      "272/272 [==============================] - 95s 335ms/step - loss: 0.6275 - mse: 0.6435 - masked_pearson_correlation_distance: 0.4947 - val_loss: 0.6052 - val_mse: 0.6635 - val_masked_pearson_correlation_distance: 0.4623\n"
     ]
    }
   ],
   "source": [
    "wandb.init(project=project_name, name='random model')\n",
    "history = model_random_r.fit(int_data.train_data,\n",
    "                    validation_data=int_data.val_data,\n",
    "                    epochs=1,callbacks=[WandbCallback(save_model=False)])"
   ]
  },
  {
   "cell_type": "code",
   "execution_count": null,
   "id": "f0e2be3b-2805-48ba-a687-eea7e2673ae9",
   "metadata": {},
   "outputs": [],
   "source": [
    "wandb.finish()"
   ]
  },
  {
   "cell_type": "markdown",
   "id": "dd1c00dd-30da-48ce-b0df-1a9e05b609a8",
   "metadata": {},
   "source": [
    "#### 2.2.5 Testing and Prediction"
   ]
  },
  {
   "cell_type": "code",
   "execution_count": 72,
   "id": "2f39e6f2-e51b-4c11-82cd-aa412a76b24b",
   "metadata": {},
   "outputs": [
    {
     "name": "stdout",
     "output_type": "stream",
     "text": [
      "76/76 [==============================] - 6s 70ms/step\n"
     ]
    }
   ],
   "source": [
    "predictions = model_random_r.predict(test_int_data.test_data)"
   ]
  },
  {
   "cell_type": "code",
   "execution_count": 73,
   "id": "06ad792e-fe87-41ef-9a44-cfd630b9eec0",
   "metadata": {},
   "outputs": [
    {
     "data": {
      "image/png": "[encoded data removed]",
      "text/plain": [
       "<Figure size 640x480 with 1 Axes>"
      ]
     },
     "metadata": {},
     "output_type": "display_data"
    },
    {
     "data": {
      "image/png": "[encoded data removed]",
      "text/plain": [
       "<Figure size 640x480 with 1 Axes>"
      ]
     },
     "metadata": {},
     "output_type": "display_data"
    },
    {
     "data": {
      "image/png": "[encoded data removed]",
      "text/plain": [
       "<Figure size 640x480 with 1 Axes>"
      ]
     },
     "metadata": {},
     "output_type": "display_data"
    },
    {
     "data": {
      "image/png": "[encoded data removed]",
      "text/plain": [
       "<Figure size 640x480 with 1 Axes>"
      ]
     },
     "metadata": {},
     "output_type": "display_data"
    }
   ],
   "source": [
    "report = IntensityReport(output_path=\"ptm/output/random\", history=history)\n",
    "report.generate_report(test_int_data, predictions)"
   ]
  },
  {
   "cell_type": "code",
   "execution_count": 74,
   "id": "7b9047a3-140b-4a4f-8716-5735998c8446",
   "metadata": {},
   "outputs": [
    {
     "data": {
      "text/html": [
       "<div>\n",
       "<style scoped>\n",
       "    .dataframe tbody tr th:only-of-type {\n",
       "        vertical-align: middle;\n",
       "    }\n",
       "\n",
       "    .dataframe tbody tr th {\n",
       "        vertical-align: top;\n",
       "    }\n",
       "\n",
       "    .dataframe thead th {\n",
       "        text-align: right;\n",
       "    }\n",
       "</style>\n",
       "<table border=\"1\" class=\"dataframe\">\n",
       "  <thead>\n",
       "    <tr style=\"text-align: right;\">\n",
       "      <th></th>\n",
       "      <th>sequences</th>\n",
       "      <th>intensities_pred</th>\n",
       "      <th>precursor_charge_onehot</th>\n",
       "      <th>intensities_raw</th>\n",
       "    </tr>\n",
       "  </thead>\n",
       "  <tbody>\n",
       "    <tr>\n",
       "      <th>0</th>\n",
       "      <td>AAADQMRDFLVR</td>\n",
       "      <td>[0.01841803640127182, 0.005777354817837477, 0....</td>\n",
       "      <td>[0.0, 0.0, 1.0, 0.0, 0.0, 0.0]</td>\n",
       "      <td>[0.03999999910593033, 0.0, 0.0, 0.0, 0.0, 0.0,...</td>\n",
       "    </tr>\n",
       "    <tr>\n",
       "      <th>1</th>\n",
       "      <td>AAADQMRDFLVR</td>\n",
       "      <td>[0.01841803640127182, 0.005777354817837477, 0....</td>\n",
       "      <td>[0.0, 0.0, 1.0, 0.0, 0.0, 0.0]</td>\n",
       "      <td>[0.03999999910593033, 0.0, 0.0, 0.0, 0.0, 0.0,...</td>\n",
       "    </tr>\n",
       "    <tr>\n",
       "      <th>2</th>\n",
       "      <td>AAADQMRDFLVR</td>\n",
       "      <td>[0.01841803640127182, 0.005777354817837477, 0....</td>\n",
       "      <td>[0.0, 0.0, 1.0, 0.0, 0.0, 0.0]</td>\n",
       "      <td>[0.03999999910593033, 0.0, 0.0, 0.0, 0.0, 0.0,...</td>\n",
       "    </tr>\n",
       "    <tr>\n",
       "      <th>3</th>\n",
       "      <td>AAADQMRDFLVR</td>\n",
       "      <td>[0.01841803640127182, 0.005777354817837477, 0....</td>\n",
       "      <td>[0.0, 0.0, 1.0, 0.0, 0.0, 0.0]</td>\n",
       "      <td>[0.03999999910593033, 0.0, 0.0, 0.0, 0.0, 0.0,...</td>\n",
       "    </tr>\n",
       "    <tr>\n",
       "      <th>4</th>\n",
       "      <td>AAADQMRDFLVR</td>\n",
       "      <td>[0.023320777341723442, 0.002444875193759799, 0...</td>\n",
       "      <td>[0.0, 1.0, 0.0, 0.0, 0.0, 0.0]</td>\n",
       "      <td>[0.3799999952316284, 0.0, -1.0, 0.0, 0.0, -1.0...</td>\n",
       "    </tr>\n",
       "  </tbody>\n",
       "</table>\n",
       "</div>"
      ],
      "text/plain": [
       "      sequences                                   intensities_pred  \\\n",
       "0  AAADQMRDFLVR  [0.01841803640127182, 0.005777354817837477, 0....   \n",
       "1  AAADQMRDFLVR  [0.01841803640127182, 0.005777354817837477, 0....   \n",
       "2  AAADQMRDFLVR  [0.01841803640127182, 0.005777354817837477, 0....   \n",
       "3  AAADQMRDFLVR  [0.01841803640127182, 0.005777354817837477, 0....   \n",
       "4  AAADQMRDFLVR  [0.023320777341723442, 0.002444875193759799, 0...   \n",
       "\n",
       "          precursor_charge_onehot  \\\n",
       "0  [0.0, 0.0, 1.0, 0.0, 0.0, 0.0]   \n",
       "1  [0.0, 0.0, 1.0, 0.0, 0.0, 0.0]   \n",
       "2  [0.0, 0.0, 1.0, 0.0, 0.0, 0.0]   \n",
       "3  [0.0, 0.0, 1.0, 0.0, 0.0, 0.0]   \n",
       "4  [0.0, 1.0, 0.0, 0.0, 0.0, 0.0]   \n",
       "\n",
       "                                     intensities_raw  \n",
       "0  [0.03999999910593033, 0.0, 0.0, 0.0, 0.0, 0.0,...  \n",
       "1  [0.03999999910593033, 0.0, 0.0, 0.0, 0.0, 0.0,...  \n",
       "2  [0.03999999910593033, 0.0, 0.0, 0.0, 0.0, 0.0,...  \n",
       "3  [0.03999999910593033, 0.0, 0.0, 0.0, 0.0, 0.0,...  \n",
       "4  [0.3799999952316284, 0.0, -1.0, 0.0, 0.0, -1.0...  "
      ]
     },
     "execution_count": 74,
     "metadata": {},
     "output_type": "execute_result"
    }
   ],
   "source": [
    "predictions_df = report.generate_intensity_results_df(test_int_data, predictions)\n",
    "predictions_df.head()"
   ]
  },
  {
   "cell_type": "code",
   "execution_count": 75,
   "id": "a140045c-485f-455d-8148-6dcf0c9a392c",
   "metadata": {},
   "outputs": [
    {
     "data": {
      "text/html": [
       "<div>\n",
       "<style scoped>\n",
       "    .dataframe tbody tr th:only-of-type {\n",
       "        vertical-align: middle;\n",
       "    }\n",
       "\n",
       "    .dataframe tbody tr th {\n",
       "        vertical-align: top;\n",
       "    }\n",
       "\n",
       "    .dataframe thead th {\n",
       "        text-align: right;\n",
       "    }\n",
       "</style>\n",
       "<table border=\"1\" class=\"dataframe\">\n",
       "  <thead>\n",
       "    <tr style=\"text-align: right;\">\n",
       "      <th></th>\n",
       "      <th>sequences</th>\n",
       "      <th>intensities_pred</th>\n",
       "      <th>precursor_charge_onehot</th>\n",
       "      <th>intensities_raw</th>\n",
       "      <th>spectral_angle</th>\n",
       "    </tr>\n",
       "  </thead>\n",
       "  <tbody>\n",
       "    <tr>\n",
       "      <th>0</th>\n",
       "      <td>AAADQMRDFLVR</td>\n",
       "      <td>0.341324</td>\n",
       "      <td>[0.0, 0.0, 1.0, 0.0, 0.0, 0.0]</td>\n",
       "      <td>[0.03999999910593033, 0.0, 0.0, 0.0, 0.0, 0.0,...</td>\n",
       "      <td>0.316667</td>\n",
       "    </tr>\n",
       "    <tr>\n",
       "      <th>1</th>\n",
       "      <td>AAADQMRDFLVR</td>\n",
       "      <td>0.341324</td>\n",
       "      <td>[0.0, 0.0, 1.0, 0.0, 0.0, 0.0]</td>\n",
       "      <td>[0.03999999910593033, 0.0, 0.0, 0.0, 0.0, 0.0,...</td>\n",
       "      <td>0.316667</td>\n",
       "    </tr>\n",
       "    <tr>\n",
       "      <th>2</th>\n",
       "      <td>AAADQMRDFLVR</td>\n",
       "      <td>0.341324</td>\n",
       "      <td>[0.0, 0.0, 1.0, 0.0, 0.0, 0.0]</td>\n",
       "      <td>[0.03999999910593033, 0.0, 0.0, 0.0, 0.0, 0.0,...</td>\n",
       "      <td>0.311904</td>\n",
       "    </tr>\n",
       "    <tr>\n",
       "      <th>3</th>\n",
       "      <td>AAADQMRDFLVR</td>\n",
       "      <td>0.341324</td>\n",
       "      <td>[0.0, 0.0, 1.0, 0.0, 0.0, 0.0]</td>\n",
       "      <td>[0.03999999910593033, 0.0, 0.0, 0.0, 0.0, 0.0,...</td>\n",
       "      <td>0.311904</td>\n",
       "    </tr>\n",
       "    <tr>\n",
       "      <th>4</th>\n",
       "      <td>AAADQMRDFLVR</td>\n",
       "      <td>0.280726</td>\n",
       "      <td>[0.0, 1.0, 0.0, 0.0, 0.0, 0.0]</td>\n",
       "      <td>[0.3799999952316284, 0.0, -1.0, 0.0, 0.0, -1.0...</td>\n",
       "      <td>0.138049</td>\n",
       "    </tr>\n",
       "  </tbody>\n",
       "</table>\n",
       "</div>"
      ],
      "text/plain": [
       "      sequences  intensities_pred         precursor_charge_onehot  \\\n",
       "0  AAADQMRDFLVR          0.341324  [0.0, 0.0, 1.0, 0.0, 0.0, 0.0]   \n",
       "1  AAADQMRDFLVR          0.341324  [0.0, 0.0, 1.0, 0.0, 0.0, 0.0]   \n",
       "2  AAADQMRDFLVR          0.341324  [0.0, 0.0, 1.0, 0.0, 0.0, 0.0]   \n",
       "3  AAADQMRDFLVR          0.341324  [0.0, 0.0, 1.0, 0.0, 0.0, 0.0]   \n",
       "4  AAADQMRDFLVR          0.280726  [0.0, 1.0, 0.0, 0.0, 0.0, 0.0]   \n",
       "\n",
       "                                     intensities_raw  spectral_angle  \n",
       "0  [0.03999999910593033, 0.0, 0.0, 0.0, 0.0, 0.0,...        0.316667  \n",
       "1  [0.03999999910593033, 0.0, 0.0, 0.0, 0.0, 0.0,...        0.316667  \n",
       "2  [0.03999999910593033, 0.0, 0.0, 0.0, 0.0, 0.0,...        0.311904  \n",
       "3  [0.03999999910593033, 0.0, 0.0, 0.0, 0.0, 0.0,...        0.311904  \n",
       "4  [0.3799999952316284, 0.0, -1.0, 0.0, 0.0, -1.0...        0.138049  "
      ]
     },
     "execution_count": 75,
     "metadata": {},
     "output_type": "execute_result"
    }
   ],
   "source": [
    "predictions_acc = normalize_intensity_predictions(predictions_df)\n",
    "predictions_acc.head()"
   ]
  },
  {
   "cell_type": "code",
   "execution_count": 76,
   "id": "aaa35f81-16ac-493a-8956-3b97e0b3d03d",
   "metadata": {},
   "outputs": [
    {
     "data": {
      "text/plain": [
       "count    2416.000000\n",
       "mean        0.394251\n",
       "std         0.129822\n",
       "min         0.037382\n",
       "25%         0.297834\n",
       "50%         0.404728\n",
       "75%         0.486786\n",
       "max         0.774274\n",
       "Name: spectral_angle, dtype: float64"
      ]
     },
     "execution_count": 76,
     "metadata": {},
     "output_type": "execute_result"
    }
   ],
   "source": [
    "spectral_angle = predictions_acc['spectral_angle'].describe()\n",
    "spectral_angle"
   ]
  },
  {
   "cell_type": "code",
   "execution_count": 77,
   "id": "fd75f999-25c7-4163-b5dc-9d5bcb4a8bab",
   "metadata": {},
   "outputs": [],
   "source": [
    "spectral_angle.to_csv('ptm/output/random/spectracle_angle_random_r.csv')"
   ]
  },
  {
   "cell_type": "code",
   "execution_count": 78,
   "id": "3a886003-eeb5-4d4a-aad9-ce9e05bc686b",
   "metadata": {},
   "outputs": [
    {
     "data": {
      "text/plain": [
       "<Figure size 640x480 with 0 Axes>"
      ]
     },
     "metadata": {},
     "output_type": "display_data"
    }
   ],
   "source": [
    "plot_violin_spectral_angle = sns.violinplot(predictions_acc['spectral_angle']).set_title('AA')\n",
    "fig = plot_violin_spectral_angle.get_figure()\n",
    "fig.savefig('ptm/output/random/spectral_angle_random_r.png')\n",
    "fig.clear()"
   ]
  },
  {
   "cell_type": "markdown",
   "id": "b25d9f08-051b-432b-900a-51ba2782a354",
   "metadata": {},
   "source": [
    "### Random initialization of weight matrix"
   ]
  },
  {
   "cell_type": "code",
   "execution_count": 79,
   "id": "2aece5a1-11dc-4765-ba08-e39acbfbbfa0",
   "metadata": {},
   "outputs": [],
   "source": [
    "#rand_uni_weights = np.random.uniform(-1, 1, size=(24, 32))\n",
    "#rand_uni_weights.shape"
   ]
  },
  {
   "cell_type": "code",
   "execution_count": 80,
   "id": "272e094e-80a1-4280-98f4-25c942f98e76",
   "metadata": {},
   "outputs": [],
   "source": [
    "#model_random_matrix = PrositIntensityPredictor(seq_length=30)\n",
    "#model_random_matrix(inputs={'sequence':sequences, 'collision_energy':tf.convert_to_tensor(int_data.collision_energy, dtype=np.float32), 'precursor_charge':tf.convert_to_tensor(int_data.precursor_charge, dtype=np.float32)})"
   ]
  },
  {
   "cell_type": "code",
   "execution_count": 81,
   "id": "f9423d02-e4b6-451a-ad61-9b1ad9356d32",
   "metadata": {},
   "outputs": [],
   "source": [
    "#model_random.layers[1].set_weights([weights_hpf5])    "
   ]
  },
  {
   "cell_type": "code",
   "execution_count": 82,
   "id": "76d4965b-0700-47ec-8e35-092f65ce2837",
   "metadata": {},
   "outputs": [],
   "source": [
    "#model_random.layers[1].get_weights()[0]"
   ]
  },
  {
   "cell_type": "markdown",
   "id": "ca3746fc-cec7-4f0a-ad88-6500fddc6e86",
   "metadata": {},
   "source": [
    "### 2.3 Clever Copying"
   ]
  },
  {
   "cell_type": "markdown",
   "id": "32b97357-229e-480c-923b-9a42cbd9eac5",
   "metadata": {},
   "source": [
    "#### 2.3.1 Create Model"
   ]
  },
  {
   "cell_type": "code",
   "execution_count": 83,
   "id": "97535f6d-b614-4785-b5b5-088fc3e03bc1",
   "metadata": {},
   "outputs": [
    {
     "data": {
      "text/plain": [
       "<tf.Tensor: shape=(21727, 174), dtype=float32, numpy=\n",
       "array([[-2.0064653e-07, -7.2934995e-07,  7.9094025e-07, ...,\n",
       "        -3.8977274e-07,  7.7672230e-06,  4.7556468e-06],\n",
       "       [-7.2217532e-08, -5.2534045e-07,  6.7762130e-08, ...,\n",
       "        -7.5047836e-07, -5.7367248e-07, -2.2116676e-06],\n",
       "       [-7.2501898e-08, -5.2446626e-07,  6.5791937e-08, ...,\n",
       "        -7.5054419e-07, -5.7729363e-07, -2.2109280e-06],\n",
       "       ...,\n",
       "       [-4.3832603e-08, -1.0362711e-06,  2.9963585e-06, ...,\n",
       "         3.6585391e-06, -5.9342301e-07, -1.6511446e-07],\n",
       "       [-4.3832603e-08, -1.0362711e-06,  2.9963585e-06, ...,\n",
       "         3.6585391e-06, -5.9342301e-07, -1.6511446e-07],\n",
       "       [-4.3832603e-08, -1.0362711e-06,  2.9963585e-06, ...,\n",
       "         3.6585391e-06, -5.9342301e-07, -1.6511446e-07]], dtype=float32)>"
      ]
     },
     "execution_count": 83,
     "metadata": {},
     "output_type": "execute_result"
    }
   ],
   "source": [
    "model_copy = PrositIntensityPredictor(seq_length=30)\n",
    "model_copy(inputs={'sequence':sequences, 'collision_energy':tf.convert_to_tensor(int_data.collision_energy, dtype=np.float32), 'precursor_charge':tf.convert_to_tensor(int_data.precursor_charge, dtype=np.float32)})"
   ]
  },
  {
   "cell_type": "code",
   "execution_count": 84,
   "id": "01686b1a-ad0a-41e3-9590-462e9a1159b8",
   "metadata": {},
   "outputs": [],
   "source": [
    "tf.get_logger().setLevel('ERROR')\n",
    "optimizer = tf.keras.optimizers.Adam(learning_rate=0.001)\n",
    "model_copy.compile(optimizer=optimizer,\n",
    "              loss=masked_spectral_distance,\n",
    "              metrics=['mse',masked_pearson_correlation_distance])"
   ]
  },
  {
   "cell_type": "code",
   "execution_count": 85,
   "id": "78ff7495-4711-499f-afe9-639a3c8b4124",
   "metadata": {},
   "outputs": [],
   "source": [
    "#weights_model = model_random.layers[1].get_weights()[0]"
   ]
  },
  {
   "cell_type": "markdown",
   "id": "e2cf67cd-776f-40c5-9fa8-2bb0629e4c25",
   "metadata": {},
   "source": [
    "#### 2.3.2 Training and Prediction"
   ]
  },
  {
   "cell_type": "code",
   "execution_count": 86,
   "id": "e08cba6b-72a5-473d-99bd-6f10b7b0552f",
   "metadata": {},
   "outputs": [
    {
     "data": {
      "text/html": [
       "wandb version 0.16.2 is available!  To upgrade, please run:\n",
       " $ pip install wandb --upgrade"
      ],
      "text/plain": [
       "<IPython.core.display.HTML object>"
      ]
     },
     "metadata": {},
     "output_type": "display_data"
    },
    {
     "data": {
      "text/html": [
       "Tracking run with wandb version 0.16.1"
      ],
      "text/plain": [
       "<IPython.core.display.HTML object>"
      ]
     },
     "metadata": {},
     "output_type": "display_data"
    },
    {
     "data": {
      "text/html": [
       "Run data is saved locally in <code>D:\\Uni\\Masterarbeit\\dlomix\\wandb\\run-20240125_131627-s2nj2aka</code>"
      ],
      "text/plain": [
       "<IPython.core.display.HTML object>"
      ]
     },
     "metadata": {},
     "output_type": "display_data"
    },
    {
     "data": {
      "text/html": [
       "Syncing run <strong><a href='https://wandb.ai/c-kloppert/dlomix_intensity/runs/s2nj2aka' target=\"_blank\">A</a></strong> to <a href='https://wandb.ai/c-kloppert/dlomix_intensity' target=\"_blank\">Weights & Biases</a> (<a href='https://wandb.me/run' target=\"_blank\">docs</a>)<br/>"
      ],
      "text/plain": [
       "<IPython.core.display.HTML object>"
      ]
     },
     "metadata": {},
     "output_type": "display_data"
    },
    {
     "data": {
      "text/html": [
       " View project at <a href='https://wandb.ai/c-kloppert/dlomix_intensity' target=\"_blank\">https://wandb.ai/c-kloppert/dlomix_intensity</a>"
      ],
      "text/plain": [
       "<IPython.core.display.HTML object>"
      ]
     },
     "metadata": {},
     "output_type": "display_data"
    },
    {
     "data": {
      "text/html": [
       " View run at <a href='https://wandb.ai/c-kloppert/dlomix_intensity/runs/s2nj2aka' target=\"_blank\">https://wandb.ai/c-kloppert/dlomix_intensity/runs/s2nj2aka</a>"
      ],
      "text/plain": [
       "<IPython.core.display.HTML object>"
      ]
     },
     "metadata": {},
     "output_type": "display_data"
    },
    {
     "name": "stdout",
     "output_type": "stream",
     "text": [
      "272/272 [==============================] - 98s 346ms/step - loss: 0.6284 - mse: 0.6416 - masked_pearson_correlation_distance: 0.4986 - val_loss: 0.6077 - val_mse: 0.6659 - val_masked_pearson_correlation_distance: 0.4748\n",
      "76/76 [==============================] - 6s 69ms/step\n"
     ]
    },
    {
     "data": {
      "text/html": [
       "<style>\n",
       "    table.wandb td:nth-child(1) { padding: 0 10px; text-align: left ; width: auto;} td:nth-child(2) {text-align: left ; width: 100%}\n",
       "    .wandb-row { display: flex; flex-direction: row; flex-wrap: wrap; justify-content: flex-start; width: 100% }\n",
       "    .wandb-col { display: flex; flex-direction: column; flex-basis: 100%; flex: 1; padding: 10px; }\n",
       "    </style>\n",
       "<div class=\"wandb-row\"><div class=\"wandb-col\"><h3>Run history:</h3><br/><table class=\"wandb\"><tr><td>epoch</td><td>▁</td></tr><tr><td>loss</td><td>▁</td></tr><tr><td>masked_pearson_correlation_distance</td><td>▁</td></tr><tr><td>mse</td><td>▁</td></tr><tr><td>val_loss</td><td>▁</td></tr><tr><td>val_masked_pearson_correlation_distance</td><td>▁</td></tr><tr><td>val_mse</td><td>▁</td></tr></table><br/></div><div class=\"wandb-col\"><h3>Run summary:</h3><br/><table class=\"wandb\"><tr><td>best_epoch</td><td>0</td></tr><tr><td>best_val_loss</td><td>0.60769</td></tr><tr><td>epoch</td><td>0</td></tr><tr><td>loss</td><td>0.62837</td></tr><tr><td>masked_pearson_correlation_distance</td><td>0.49857</td></tr><tr><td>mse</td><td>0.64161</td></tr><tr><td>val_loss</td><td>0.60769</td></tr><tr><td>val_masked_pearson_correlation_distance</td><td>0.47479</td></tr><tr><td>val_mse</td><td>0.66588</td></tr></table><br/></div></div>"
      ],
      "text/plain": [
       "<IPython.core.display.HTML object>"
      ]
     },
     "metadata": {},
     "output_type": "display_data"
    },
    {
     "data": {
      "text/html": [
       " View run <strong style=\"color:#cdcd00\">A</strong> at: <a href='https://wandb.ai/c-kloppert/dlomix_intensity/runs/s2nj2aka' target=\"_blank\">https://wandb.ai/c-kloppert/dlomix_intensity/runs/s2nj2aka</a><br/> View job at <a href='https://wandb.ai/c-kloppert/dlomix_intensity/jobs/QXJ0aWZhY3RDb2xsZWN0aW9uOjEzMjMyMDgzOQ==/version_details/v2' target=\"_blank\">https://wandb.ai/c-kloppert/dlomix_intensity/jobs/QXJ0aWZhY3RDb2xsZWN0aW9uOjEzMjMyMDgzOQ==/version_details/v2</a><br/>Synced 5 W&B file(s), 1 media file(s), 0 artifact file(s) and 0 other file(s)"
      ],
      "text/plain": [
       "<IPython.core.display.HTML object>"
      ]
     },
     "metadata": {},
     "output_type": "display_data"
    },
    {
     "data": {
      "text/html": [
       "Find logs at: <code>.\\wandb\\run-20240125_131627-s2nj2aka\\logs</code>"
      ],
      "text/plain": [
       "<IPython.core.display.HTML object>"
      ]
     },
     "metadata": {},
     "output_type": "display_data"
    },
    {
     "data": {
      "text/html": [
       "wandb version 0.16.2 is available!  To upgrade, please run:\n",
       " $ pip install wandb --upgrade"
      ],
      "text/plain": [
       "<IPython.core.display.HTML object>"
      ]
     },
     "metadata": {},
     "output_type": "display_data"
    },
    {
     "data": {
      "text/html": [
       "Tracking run with wandb version 0.16.1"
      ],
      "text/plain": [
       "<IPython.core.display.HTML object>"
      ]
     },
     "metadata": {},
     "output_type": "display_data"
    },
    {
     "data": {
      "text/html": [
       "Run data is saved locally in <code>D:\\Uni\\Masterarbeit\\dlomix\\wandb\\run-20240125_131819-js841pvc</code>"
      ],
      "text/plain": [
       "<IPython.core.display.HTML object>"
      ]
     },
     "metadata": {},
     "output_type": "display_data"
    },
    {
     "data": {
      "text/html": [
       "Syncing run <strong><a href='https://wandb.ai/c-kloppert/dlomix_intensity/runs/js841pvc' target=\"_blank\">C</a></strong> to <a href='https://wandb.ai/c-kloppert/dlomix_intensity' target=\"_blank\">Weights & Biases</a> (<a href='https://wandb.me/run' target=\"_blank\">docs</a>)<br/>"
      ],
      "text/plain": [
       "<IPython.core.display.HTML object>"
      ]
     },
     "metadata": {},
     "output_type": "display_data"
    },
    {
     "data": {
      "text/html": [
       " View project at <a href='https://wandb.ai/c-kloppert/dlomix_intensity' target=\"_blank\">https://wandb.ai/c-kloppert/dlomix_intensity</a>"
      ],
      "text/plain": [
       "<IPython.core.display.HTML object>"
      ]
     },
     "metadata": {},
     "output_type": "display_data"
    },
    {
     "data": {
      "text/html": [
       " View run at <a href='https://wandb.ai/c-kloppert/dlomix_intensity/runs/js841pvc' target=\"_blank\">https://wandb.ai/c-kloppert/dlomix_intensity/runs/js841pvc</a>"
      ],
      "text/plain": [
       "<IPython.core.display.HTML object>"
      ]
     },
     "metadata": {},
     "output_type": "display_data"
    },
    {
     "name": "stdout",
     "output_type": "stream",
     "text": [
      "272/272 [==============================] - 129s 476ms/step - loss: 0.6029 - mse: 0.6489 - masked_pearson_correlation_distance: 0.4644 - val_loss: 0.5820 - val_mse: 0.6698 - val_masked_pearson_correlation_distance: 0.4524\n",
      "76/76 [==============================] - 6s 73ms/step\n"
     ]
    },
    {
     "data": {
      "text/html": [
       "<style>\n",
       "    table.wandb td:nth-child(1) { padding: 0 10px; text-align: left ; width: auto;} td:nth-child(2) {text-align: left ; width: 100%}\n",
       "    .wandb-row { display: flex; flex-direction: row; flex-wrap: wrap; justify-content: flex-start; width: 100% }\n",
       "    .wandb-col { display: flex; flex-direction: column; flex-basis: 100%; flex: 1; padding: 10px; }\n",
       "    </style>\n",
       "<div class=\"wandb-row\"><div class=\"wandb-col\"><h3>Run history:</h3><br/><table class=\"wandb\"><tr><td>epoch</td><td>▁</td></tr><tr><td>loss</td><td>▁</td></tr><tr><td>masked_pearson_correlation_distance</td><td>▁</td></tr><tr><td>mse</td><td>▁</td></tr><tr><td>val_loss</td><td>▁</td></tr><tr><td>val_masked_pearson_correlation_distance</td><td>▁</td></tr><tr><td>val_mse</td><td>▁</td></tr></table><br/></div><div class=\"wandb-col\"><h3>Run summary:</h3><br/><table class=\"wandb\"><tr><td>best_epoch</td><td>0</td></tr><tr><td>best_val_loss</td><td>0.582</td></tr><tr><td>epoch</td><td>0</td></tr><tr><td>loss</td><td>0.60288</td></tr><tr><td>masked_pearson_correlation_distance</td><td>0.46441</td></tr><tr><td>mse</td><td>0.6489</td></tr><tr><td>val_loss</td><td>0.582</td></tr><tr><td>val_masked_pearson_correlation_distance</td><td>0.4524</td></tr><tr><td>val_mse</td><td>0.66985</td></tr></table><br/></div></div>"
      ],
      "text/plain": [
       "<IPython.core.display.HTML object>"
      ]
     },
     "metadata": {},
     "output_type": "display_data"
    },
    {
     "data": {
      "text/html": [
       " View run <strong style=\"color:#cdcd00\">C</strong> at: <a href='https://wandb.ai/c-kloppert/dlomix_intensity/runs/js841pvc' target=\"_blank\">https://wandb.ai/c-kloppert/dlomix_intensity/runs/js841pvc</a><br/> View job at <a href='https://wandb.ai/c-kloppert/dlomix_intensity/jobs/QXJ0aWZhY3RDb2xsZWN0aW9uOjEzMjMyMDgzOQ==/version_details/v2' target=\"_blank\">https://wandb.ai/c-kloppert/dlomix_intensity/jobs/QXJ0aWZhY3RDb2xsZWN0aW9uOjEzMjMyMDgzOQ==/version_details/v2</a><br/>Synced 5 W&B file(s), 1 media file(s), 0 artifact file(s) and 0 other file(s)"
      ],
      "text/plain": [
       "<IPython.core.display.HTML object>"
      ]
     },
     "metadata": {},
     "output_type": "display_data"
    },
    {
     "data": {
      "text/html": [
       "Find logs at: <code>.\\wandb\\run-20240125_131819-js841pvc\\logs</code>"
      ],
      "text/plain": [
       "<IPython.core.display.HTML object>"
      ]
     },
     "metadata": {},
     "output_type": "display_data"
    },
    {
     "data": {
      "text/html": [
       "wandb version 0.16.2 is available!  To upgrade, please run:\n",
       " $ pip install wandb --upgrade"
      ],
      "text/plain": [
       "<IPython.core.display.HTML object>"
      ]
     },
     "metadata": {},
     "output_type": "display_data"
    },
    {
     "data": {
      "text/html": [
       "Tracking run with wandb version 0.16.1"
      ],
      "text/plain": [
       "<IPython.core.display.HTML object>"
      ]
     },
     "metadata": {},
     "output_type": "display_data"
    },
    {
     "data": {
      "text/html": [
       "Run data is saved locally in <code>D:\\Uni\\Masterarbeit\\dlomix\\wandb\\run-20240125_132041-tpuw5isw</code>"
      ],
      "text/plain": [
       "<IPython.core.display.HTML object>"
      ]
     },
     "metadata": {},
     "output_type": "display_data"
    },
    {
     "data": {
      "text/html": [
       "Syncing run <strong><a href='https://wandb.ai/c-kloppert/dlomix_intensity/runs/tpuw5isw' target=\"_blank\">D</a></strong> to <a href='https://wandb.ai/c-kloppert/dlomix_intensity' target=\"_blank\">Weights & Biases</a> (<a href='https://wandb.me/run' target=\"_blank\">docs</a>)<br/>"
      ],
      "text/plain": [
       "<IPython.core.display.HTML object>"
      ]
     },
     "metadata": {},
     "output_type": "display_data"
    },
    {
     "data": {
      "text/html": [
       " View project at <a href='https://wandb.ai/c-kloppert/dlomix_intensity' target=\"_blank\">https://wandb.ai/c-kloppert/dlomix_intensity</a>"
      ],
      "text/plain": [
       "<IPython.core.display.HTML object>"
      ]
     },
     "metadata": {},
     "output_type": "display_data"
    },
    {
     "data": {
      "text/html": [
       " View run at <a href='https://wandb.ai/c-kloppert/dlomix_intensity/runs/tpuw5isw' target=\"_blank\">https://wandb.ai/c-kloppert/dlomix_intensity/runs/tpuw5isw</a>"
      ],
      "text/plain": [
       "<IPython.core.display.HTML object>"
      ]
     },
     "metadata": {},
     "output_type": "display_data"
    },
    {
     "name": "stdout",
     "output_type": "stream",
     "text": [
      "272/272 [==============================] - 155s 570ms/step - loss: 0.5882 - mse: 0.6537 - masked_pearson_correlation_distance: 0.4565 - val_loss: 0.5684 - val_mse: 0.6741 - val_masked_pearson_correlation_distance: 0.4450\n",
      "76/76 [==============================] - 6s 80ms/step\n"
     ]
    },
    {
     "data": {
      "text/html": [
       "<style>\n",
       "    table.wandb td:nth-child(1) { padding: 0 10px; text-align: left ; width: auto;} td:nth-child(2) {text-align: left ; width: 100%}\n",
       "    .wandb-row { display: flex; flex-direction: row; flex-wrap: wrap; justify-content: flex-start; width: 100% }\n",
       "    .wandb-col { display: flex; flex-direction: column; flex-basis: 100%; flex: 1; padding: 10px; }\n",
       "    </style>\n",
       "<div class=\"wandb-row\"><div class=\"wandb-col\"><h3>Run history:</h3><br/><table class=\"wandb\"><tr><td>epoch</td><td>▁</td></tr><tr><td>loss</td><td>▁</td></tr><tr><td>masked_pearson_correlation_distance</td><td>▁</td></tr><tr><td>mse</td><td>▁</td></tr><tr><td>val_loss</td><td>▁</td></tr><tr><td>val_masked_pearson_correlation_distance</td><td>▁</td></tr><tr><td>val_mse</td><td>▁</td></tr></table><br/></div><div class=\"wandb-col\"><h3>Run summary:</h3><br/><table class=\"wandb\"><tr><td>best_epoch</td><td>0</td></tr><tr><td>best_val_loss</td><td>0.56839</td></tr><tr><td>epoch</td><td>0</td></tr><tr><td>loss</td><td>0.58822</td></tr><tr><td>masked_pearson_correlation_distance</td><td>0.45646</td></tr><tr><td>mse</td><td>0.65367</td></tr><tr><td>val_loss</td><td>0.56839</td></tr><tr><td>val_masked_pearson_correlation_distance</td><td>0.44498</td></tr><tr><td>val_mse</td><td>0.67414</td></tr></table><br/></div></div>"
      ],
      "text/plain": [
       "<IPython.core.display.HTML object>"
      ]
     },
     "metadata": {},
     "output_type": "display_data"
    },
    {
     "data": {
      "text/html": [
       " View run <strong style=\"color:#cdcd00\">D</strong> at: <a href='https://wandb.ai/c-kloppert/dlomix_intensity/runs/tpuw5isw' target=\"_blank\">https://wandb.ai/c-kloppert/dlomix_intensity/runs/tpuw5isw</a><br/> View job at <a href='https://wandb.ai/c-kloppert/dlomix_intensity/jobs/QXJ0aWZhY3RDb2xsZWN0aW9uOjEzMjMyMDgzOQ==/version_details/v2' target=\"_blank\">https://wandb.ai/c-kloppert/dlomix_intensity/jobs/QXJ0aWZhY3RDb2xsZWN0aW9uOjEzMjMyMDgzOQ==/version_details/v2</a><br/>Synced 5 W&B file(s), 1 media file(s), 0 artifact file(s) and 0 other file(s)"
      ],
      "text/plain": [
       "<IPython.core.display.HTML object>"
      ]
     },
     "metadata": {},
     "output_type": "display_data"
    },
    {
     "data": {
      "text/html": [
       "Find logs at: <code>.\\wandb\\run-20240125_132041-tpuw5isw\\logs</code>"
      ],
      "text/plain": [
       "<IPython.core.display.HTML object>"
      ]
     },
     "metadata": {},
     "output_type": "display_data"
    },
    {
     "data": {
      "text/html": [
       "wandb version 0.16.2 is available!  To upgrade, please run:\n",
       " $ pip install wandb --upgrade"
      ],
      "text/plain": [
       "<IPython.core.display.HTML object>"
      ]
     },
     "metadata": {},
     "output_type": "display_data"
    },
    {
     "data": {
      "text/html": [
       "Tracking run with wandb version 0.16.1"
      ],
      "text/plain": [
       "<IPython.core.display.HTML object>"
      ]
     },
     "metadata": {},
     "output_type": "display_data"
    },
    {
     "data": {
      "text/html": [
       "Run data is saved locally in <code>D:\\Uni\\Masterarbeit\\dlomix\\wandb\\run-20240125_132327-kpqwdlwr</code>"
      ],
      "text/plain": [
       "<IPython.core.display.HTML object>"
      ]
     },
     "metadata": {},
     "output_type": "display_data"
    },
    {
     "data": {
      "text/html": [
       "Syncing run <strong><a href='https://wandb.ai/c-kloppert/dlomix_intensity/runs/kpqwdlwr' target=\"_blank\">E</a></strong> to <a href='https://wandb.ai/c-kloppert/dlomix_intensity' target=\"_blank\">Weights & Biases</a> (<a href='https://wandb.me/run' target=\"_blank\">docs</a>)<br/>"
      ],
      "text/plain": [
       "<IPython.core.display.HTML object>"
      ]
     },
     "metadata": {},
     "output_type": "display_data"
    },
    {
     "data": {
      "text/html": [
       " View project at <a href='https://wandb.ai/c-kloppert/dlomix_intensity' target=\"_blank\">https://wandb.ai/c-kloppert/dlomix_intensity</a>"
      ],
      "text/plain": [
       "<IPython.core.display.HTML object>"
      ]
     },
     "metadata": {},
     "output_type": "display_data"
    },
    {
     "data": {
      "text/html": [
       " View run at <a href='https://wandb.ai/c-kloppert/dlomix_intensity/runs/kpqwdlwr' target=\"_blank\">https://wandb.ai/c-kloppert/dlomix_intensity/runs/kpqwdlwr</a>"
      ],
      "text/plain": [
       "<IPython.core.display.HTML object>"
      ]
     },
     "metadata": {},
     "output_type": "display_data"
    },
    {
     "name": "stdout",
     "output_type": "stream",
     "text": [
      "126/272 [============>.................] - ETA: 1:19 - loss: 0.5767 - mse: 0.6476 - masked_pearson_correlation_distance: 0.4472"
     ]
    },
    {
     "ename": "KeyboardInterrupt",
     "evalue": "",
     "output_type": "error",
     "traceback": [
      "\u001b[1;31m---------------------------------------------------------------------------\u001b[0m",
      "\u001b[1;31mKeyboardInterrupt\u001b[0m                         Traceback (most recent call last)",
      "Cell \u001b[1;32mIn[86], line 12\u001b[0m\n\u001b[0;32m      9\u001b[0m model_copy\u001b[38;5;241m.\u001b[39mlayers[\u001b[38;5;241m1\u001b[39m]\u001b[38;5;241m.\u001b[39mset_weights([new_weights])\n\u001b[0;32m     11\u001b[0m \u001b[38;5;66;03m#Train Model\u001b[39;00m\n\u001b[1;32m---> 12\u001b[0m history \u001b[38;5;241m=\u001b[39m \u001b[43mmodel_copy\u001b[49m\u001b[38;5;241;43m.\u001b[39;49m\u001b[43mfit\u001b[49m\u001b[43m(\u001b[49m\u001b[43mint_data\u001b[49m\u001b[38;5;241;43m.\u001b[39;49m\u001b[43mtrain_data\u001b[49m\u001b[43m,\u001b[49m\n\u001b[0;32m     13\u001b[0m \u001b[43m                \u001b[49m\u001b[43mvalidation_data\u001b[49m\u001b[38;5;241;43m=\u001b[39;49m\u001b[43mint_data\u001b[49m\u001b[38;5;241;43m.\u001b[39;49m\u001b[43mval_data\u001b[49m\u001b[43m,\u001b[49m\n\u001b[0;32m     14\u001b[0m \u001b[43m                \u001b[49m\u001b[43mepochs\u001b[49m\u001b[38;5;241;43m=\u001b[39;49m\u001b[38;5;241;43m1\u001b[39;49m\u001b[43m,\u001b[49m\u001b[43mcallbacks\u001b[49m\u001b[38;5;241;43m=\u001b[39;49m\u001b[43m[\u001b[49m\u001b[43mWandbCallback\u001b[49m\u001b[43m(\u001b[49m\u001b[43msave_model\u001b[49m\u001b[38;5;241;43m=\u001b[39;49m\u001b[38;5;28;43;01mFalse\u001b[39;49;00m\u001b[43m)\u001b[49m\u001b[43m]\u001b[49m\u001b[43m)\u001b[49m\n\u001b[0;32m     16\u001b[0m \u001b[38;5;66;03m#Prediction\u001b[39;00m\n\u001b[0;32m     17\u001b[0m predictions \u001b[38;5;241m=\u001b[39m model_copy\u001b[38;5;241m.\u001b[39mpredict(test_int_data\u001b[38;5;241m.\u001b[39mtest_data)\n",
      "File \u001b[1;32m~\\AppData\\Local\\Programs\\Python\\Python310\\lib\\site-packages\\keras\\src\\utils\\traceback_utils.py:65\u001b[0m, in \u001b[0;36mfilter_traceback.<locals>.error_handler\u001b[1;34m(*args, **kwargs)\u001b[0m\n\u001b[0;32m     63\u001b[0m filtered_tb \u001b[38;5;241m=\u001b[39m \u001b[38;5;28;01mNone\u001b[39;00m\n\u001b[0;32m     64\u001b[0m \u001b[38;5;28;01mtry\u001b[39;00m:\n\u001b[1;32m---> 65\u001b[0m     \u001b[38;5;28;01mreturn\u001b[39;00m fn(\u001b[38;5;241m*\u001b[39margs, \u001b[38;5;241m*\u001b[39m\u001b[38;5;241m*\u001b[39mkwargs)\n\u001b[0;32m     66\u001b[0m \u001b[38;5;28;01mexcept\u001b[39;00m \u001b[38;5;167;01mException\u001b[39;00m \u001b[38;5;28;01mas\u001b[39;00m e:\n\u001b[0;32m     67\u001b[0m     filtered_tb \u001b[38;5;241m=\u001b[39m _process_traceback_frames(e\u001b[38;5;241m.\u001b[39m__traceback__)\n",
      "File \u001b[1;32m~\\AppData\\Local\\Programs\\Python\\Python310\\lib\\site-packages\\keras\\src\\engine\\training.py:1742\u001b[0m, in \u001b[0;36mModel.fit\u001b[1;34m(self, x, y, batch_size, epochs, verbose, callbacks, validation_split, validation_data, shuffle, class_weight, sample_weight, initial_epoch, steps_per_epoch, validation_steps, validation_batch_size, validation_freq, max_queue_size, workers, use_multiprocessing)\u001b[0m\n\u001b[0;32m   1734\u001b[0m \u001b[38;5;28;01mwith\u001b[39;00m tf\u001b[38;5;241m.\u001b[39mprofiler\u001b[38;5;241m.\u001b[39mexperimental\u001b[38;5;241m.\u001b[39mTrace(\n\u001b[0;32m   1735\u001b[0m     \u001b[38;5;124m\"\u001b[39m\u001b[38;5;124mtrain\u001b[39m\u001b[38;5;124m\"\u001b[39m,\n\u001b[0;32m   1736\u001b[0m     epoch_num\u001b[38;5;241m=\u001b[39mepoch,\n\u001b[1;32m   (...)\u001b[0m\n\u001b[0;32m   1739\u001b[0m     _r\u001b[38;5;241m=\u001b[39m\u001b[38;5;241m1\u001b[39m,\n\u001b[0;32m   1740\u001b[0m ):\n\u001b[0;32m   1741\u001b[0m     callbacks\u001b[38;5;241m.\u001b[39mon_train_batch_begin(step)\n\u001b[1;32m-> 1742\u001b[0m     tmp_logs \u001b[38;5;241m=\u001b[39m \u001b[38;5;28;43mself\u001b[39;49m\u001b[38;5;241;43m.\u001b[39;49m\u001b[43mtrain_function\u001b[49m\u001b[43m(\u001b[49m\u001b[43miterator\u001b[49m\u001b[43m)\u001b[49m\n\u001b[0;32m   1743\u001b[0m     \u001b[38;5;28;01mif\u001b[39;00m data_handler\u001b[38;5;241m.\u001b[39mshould_sync:\n\u001b[0;32m   1744\u001b[0m         context\u001b[38;5;241m.\u001b[39masync_wait()\n",
      "File \u001b[1;32m~\\AppData\\Local\\Programs\\Python\\Python310\\lib\\site-packages\\tensorflow\\python\\util\\traceback_utils.py:150\u001b[0m, in \u001b[0;36mfilter_traceback.<locals>.error_handler\u001b[1;34m(*args, **kwargs)\u001b[0m\n\u001b[0;32m    148\u001b[0m filtered_tb \u001b[38;5;241m=\u001b[39m \u001b[38;5;28;01mNone\u001b[39;00m\n\u001b[0;32m    149\u001b[0m \u001b[38;5;28;01mtry\u001b[39;00m:\n\u001b[1;32m--> 150\u001b[0m   \u001b[38;5;28;01mreturn\u001b[39;00m fn(\u001b[38;5;241m*\u001b[39margs, \u001b[38;5;241m*\u001b[39m\u001b[38;5;241m*\u001b[39mkwargs)\n\u001b[0;32m    151\u001b[0m \u001b[38;5;28;01mexcept\u001b[39;00m \u001b[38;5;167;01mException\u001b[39;00m \u001b[38;5;28;01mas\u001b[39;00m e:\n\u001b[0;32m    152\u001b[0m   filtered_tb \u001b[38;5;241m=\u001b[39m _process_traceback_frames(e\u001b[38;5;241m.\u001b[39m__traceback__)\n",
      "File \u001b[1;32m~\\AppData\\Local\\Programs\\Python\\Python310\\lib\\site-packages\\tensorflow\\python\\eager\\polymorphic_function\\polymorphic_function.py:825\u001b[0m, in \u001b[0;36mFunction.__call__\u001b[1;34m(self, *args, **kwds)\u001b[0m\n\u001b[0;32m    822\u001b[0m compiler \u001b[38;5;241m=\u001b[39m \u001b[38;5;124m\"\u001b[39m\u001b[38;5;124mxla\u001b[39m\u001b[38;5;124m\"\u001b[39m \u001b[38;5;28;01mif\u001b[39;00m \u001b[38;5;28mself\u001b[39m\u001b[38;5;241m.\u001b[39m_jit_compile \u001b[38;5;28;01melse\u001b[39;00m \u001b[38;5;124m\"\u001b[39m\u001b[38;5;124mnonXla\u001b[39m\u001b[38;5;124m\"\u001b[39m\n\u001b[0;32m    824\u001b[0m \u001b[38;5;28;01mwith\u001b[39;00m OptionalXlaContext(\u001b[38;5;28mself\u001b[39m\u001b[38;5;241m.\u001b[39m_jit_compile):\n\u001b[1;32m--> 825\u001b[0m   result \u001b[38;5;241m=\u001b[39m \u001b[38;5;28mself\u001b[39m\u001b[38;5;241m.\u001b[39m_call(\u001b[38;5;241m*\u001b[39margs, \u001b[38;5;241m*\u001b[39m\u001b[38;5;241m*\u001b[39mkwds)\n\u001b[0;32m    827\u001b[0m new_tracing_count \u001b[38;5;241m=\u001b[39m \u001b[38;5;28mself\u001b[39m\u001b[38;5;241m.\u001b[39mexperimental_get_tracing_count()\n\u001b[0;32m    828\u001b[0m without_tracing \u001b[38;5;241m=\u001b[39m (tracing_count \u001b[38;5;241m==\u001b[39m new_tracing_count)\n",
      "File \u001b[1;32m~\\AppData\\Local\\Programs\\Python\\Python310\\lib\\site-packages\\tensorflow\\python\\eager\\polymorphic_function\\polymorphic_function.py:857\u001b[0m, in \u001b[0;36mFunction._call\u001b[1;34m(self, *args, **kwds)\u001b[0m\n\u001b[0;32m    854\u001b[0m   \u001b[38;5;28mself\u001b[39m\u001b[38;5;241m.\u001b[39m_lock\u001b[38;5;241m.\u001b[39mrelease()\n\u001b[0;32m    855\u001b[0m   \u001b[38;5;66;03m# In this case we have created variables on the first call, so we run the\u001b[39;00m\n\u001b[0;32m    856\u001b[0m   \u001b[38;5;66;03m# defunned version which is guaranteed to never create variables.\u001b[39;00m\n\u001b[1;32m--> 857\u001b[0m   \u001b[38;5;28;01mreturn\u001b[39;00m \u001b[38;5;28mself\u001b[39m\u001b[38;5;241m.\u001b[39m_no_variable_creation_fn(\u001b[38;5;241m*\u001b[39margs, \u001b[38;5;241m*\u001b[39m\u001b[38;5;241m*\u001b[39mkwds)  \u001b[38;5;66;03m# pylint: disable=not-callable\u001b[39;00m\n\u001b[0;32m    858\u001b[0m \u001b[38;5;28;01melif\u001b[39;00m \u001b[38;5;28mself\u001b[39m\u001b[38;5;241m.\u001b[39m_variable_creation_fn \u001b[38;5;129;01mis\u001b[39;00m \u001b[38;5;129;01mnot\u001b[39;00m \u001b[38;5;28;01mNone\u001b[39;00m:\n\u001b[0;32m    859\u001b[0m   \u001b[38;5;66;03m# Release the lock early so that multiple threads can perform the call\u001b[39;00m\n\u001b[0;32m    860\u001b[0m   \u001b[38;5;66;03m# in parallel.\u001b[39;00m\n\u001b[0;32m    861\u001b[0m   \u001b[38;5;28mself\u001b[39m\u001b[38;5;241m.\u001b[39m_lock\u001b[38;5;241m.\u001b[39mrelease()\n",
      "File \u001b[1;32m~\\AppData\\Local\\Programs\\Python\\Python310\\lib\\site-packages\\tensorflow\\python\\eager\\polymorphic_function\\tracing_compiler.py:148\u001b[0m, in \u001b[0;36mTracingCompiler.__call__\u001b[1;34m(self, *args, **kwargs)\u001b[0m\n\u001b[0;32m    145\u001b[0m \u001b[38;5;28;01mwith\u001b[39;00m \u001b[38;5;28mself\u001b[39m\u001b[38;5;241m.\u001b[39m_lock:\n\u001b[0;32m    146\u001b[0m   (concrete_function,\n\u001b[0;32m    147\u001b[0m    filtered_flat_args) \u001b[38;5;241m=\u001b[39m \u001b[38;5;28mself\u001b[39m\u001b[38;5;241m.\u001b[39m_maybe_define_function(args, kwargs)\n\u001b[1;32m--> 148\u001b[0m \u001b[38;5;28;01mreturn\u001b[39;00m \u001b[43mconcrete_function\u001b[49m\u001b[38;5;241;43m.\u001b[39;49m\u001b[43m_call_flat\u001b[49m\u001b[43m(\u001b[49m\n\u001b[0;32m    149\u001b[0m \u001b[43m    \u001b[49m\u001b[43mfiltered_flat_args\u001b[49m\u001b[43m,\u001b[49m\u001b[43m \u001b[49m\u001b[43mcaptured_inputs\u001b[49m\u001b[38;5;241;43m=\u001b[39;49m\u001b[43mconcrete_function\u001b[49m\u001b[38;5;241;43m.\u001b[39;49m\u001b[43mcaptured_inputs\u001b[49m\u001b[43m)\u001b[49m\n",
      "File \u001b[1;32m~\\AppData\\Local\\Programs\\Python\\Python310\\lib\\site-packages\\tensorflow\\python\\eager\\polymorphic_function\\monomorphic_function.py:1349\u001b[0m, in \u001b[0;36mConcreteFunction._call_flat\u001b[1;34m(self, args, captured_inputs)\u001b[0m\n\u001b[0;32m   1345\u001b[0m possible_gradient_type \u001b[38;5;241m=\u001b[39m gradients_util\u001b[38;5;241m.\u001b[39mPossibleTapeGradientTypes(args)\n\u001b[0;32m   1346\u001b[0m \u001b[38;5;28;01mif\u001b[39;00m (possible_gradient_type \u001b[38;5;241m==\u001b[39m gradients_util\u001b[38;5;241m.\u001b[39mPOSSIBLE_GRADIENT_TYPES_NONE\n\u001b[0;32m   1347\u001b[0m     \u001b[38;5;129;01mand\u001b[39;00m executing_eagerly):\n\u001b[0;32m   1348\u001b[0m   \u001b[38;5;66;03m# No tape is watching; skip to running the function.\u001b[39;00m\n\u001b[1;32m-> 1349\u001b[0m   \u001b[38;5;28;01mreturn\u001b[39;00m \u001b[38;5;28mself\u001b[39m\u001b[38;5;241m.\u001b[39m_build_call_outputs(\u001b[38;5;28;43mself\u001b[39;49m\u001b[38;5;241;43m.\u001b[39;49m\u001b[43m_inference_function\u001b[49m\u001b[43m(\u001b[49m\u001b[38;5;241;43m*\u001b[39;49m\u001b[43margs\u001b[49m\u001b[43m)\u001b[49m)\n\u001b[0;32m   1350\u001b[0m forward_backward \u001b[38;5;241m=\u001b[39m \u001b[38;5;28mself\u001b[39m\u001b[38;5;241m.\u001b[39m_select_forward_and_backward_functions(\n\u001b[0;32m   1351\u001b[0m     args,\n\u001b[0;32m   1352\u001b[0m     possible_gradient_type,\n\u001b[0;32m   1353\u001b[0m     executing_eagerly)\n\u001b[0;32m   1354\u001b[0m forward_function, args_with_tangents \u001b[38;5;241m=\u001b[39m forward_backward\u001b[38;5;241m.\u001b[39mforward()\n",
      "File \u001b[1;32m~\\AppData\\Local\\Programs\\Python\\Python310\\lib\\site-packages\\tensorflow\\python\\eager\\polymorphic_function\\atomic_function.py:196\u001b[0m, in \u001b[0;36mAtomicFunction.__call__\u001b[1;34m(self, *args)\u001b[0m\n\u001b[0;32m    194\u001b[0m \u001b[38;5;28;01mwith\u001b[39;00m record\u001b[38;5;241m.\u001b[39mstop_recording():\n\u001b[0;32m    195\u001b[0m   \u001b[38;5;28;01mif\u001b[39;00m \u001b[38;5;28mself\u001b[39m\u001b[38;5;241m.\u001b[39m_bound_context\u001b[38;5;241m.\u001b[39mexecuting_eagerly():\n\u001b[1;32m--> 196\u001b[0m     outputs \u001b[38;5;241m=\u001b[39m \u001b[38;5;28;43mself\u001b[39;49m\u001b[38;5;241;43m.\u001b[39;49m\u001b[43m_bound_context\u001b[49m\u001b[38;5;241;43m.\u001b[39;49m\u001b[43mcall_function\u001b[49m\u001b[43m(\u001b[49m\n\u001b[0;32m    197\u001b[0m \u001b[43m        \u001b[49m\u001b[38;5;28;43mself\u001b[39;49m\u001b[38;5;241;43m.\u001b[39;49m\u001b[43mname\u001b[49m\u001b[43m,\u001b[49m\n\u001b[0;32m    198\u001b[0m \u001b[43m        \u001b[49m\u001b[38;5;28;43mlist\u001b[39;49m\u001b[43m(\u001b[49m\u001b[43margs\u001b[49m\u001b[43m)\u001b[49m\u001b[43m,\u001b[49m\n\u001b[0;32m    199\u001b[0m \u001b[43m        \u001b[49m\u001b[38;5;28;43mlen\u001b[39;49m\u001b[43m(\u001b[49m\u001b[38;5;28;43mself\u001b[39;49m\u001b[38;5;241;43m.\u001b[39;49m\u001b[43mfunction_type\u001b[49m\u001b[38;5;241;43m.\u001b[39;49m\u001b[43mflat_outputs\u001b[49m\u001b[43m)\u001b[49m\u001b[43m,\u001b[49m\n\u001b[0;32m    200\u001b[0m \u001b[43m    \u001b[49m\u001b[43m)\u001b[49m\n\u001b[0;32m    201\u001b[0m   \u001b[38;5;28;01melse\u001b[39;00m:\n\u001b[0;32m    202\u001b[0m     outputs \u001b[38;5;241m=\u001b[39m make_call_op_in_graph(\u001b[38;5;28mself\u001b[39m, \u001b[38;5;28mlist\u001b[39m(args))\n",
      "File \u001b[1;32m~\\AppData\\Local\\Programs\\Python\\Python310\\lib\\site-packages\\tensorflow\\python\\eager\\context.py:1457\u001b[0m, in \u001b[0;36mContext.call_function\u001b[1;34m(self, name, tensor_inputs, num_outputs)\u001b[0m\n\u001b[0;32m   1455\u001b[0m cancellation_context \u001b[38;5;241m=\u001b[39m cancellation\u001b[38;5;241m.\u001b[39mcontext()\n\u001b[0;32m   1456\u001b[0m \u001b[38;5;28;01mif\u001b[39;00m cancellation_context \u001b[38;5;129;01mis\u001b[39;00m \u001b[38;5;28;01mNone\u001b[39;00m:\n\u001b[1;32m-> 1457\u001b[0m   outputs \u001b[38;5;241m=\u001b[39m \u001b[43mexecute\u001b[49m\u001b[38;5;241;43m.\u001b[39;49m\u001b[43mexecute\u001b[49m\u001b[43m(\u001b[49m\n\u001b[0;32m   1458\u001b[0m \u001b[43m      \u001b[49m\u001b[43mname\u001b[49m\u001b[38;5;241;43m.\u001b[39;49m\u001b[43mdecode\u001b[49m\u001b[43m(\u001b[49m\u001b[38;5;124;43m\"\u001b[39;49m\u001b[38;5;124;43mutf-8\u001b[39;49m\u001b[38;5;124;43m\"\u001b[39;49m\u001b[43m)\u001b[49m\u001b[43m,\u001b[49m\n\u001b[0;32m   1459\u001b[0m \u001b[43m      \u001b[49m\u001b[43mnum_outputs\u001b[49m\u001b[38;5;241;43m=\u001b[39;49m\u001b[43mnum_outputs\u001b[49m\u001b[43m,\u001b[49m\n\u001b[0;32m   1460\u001b[0m \u001b[43m      \u001b[49m\u001b[43minputs\u001b[49m\u001b[38;5;241;43m=\u001b[39;49m\u001b[43mtensor_inputs\u001b[49m\u001b[43m,\u001b[49m\n\u001b[0;32m   1461\u001b[0m \u001b[43m      \u001b[49m\u001b[43mattrs\u001b[49m\u001b[38;5;241;43m=\u001b[39;49m\u001b[43mattrs\u001b[49m\u001b[43m,\u001b[49m\n\u001b[0;32m   1462\u001b[0m \u001b[43m      \u001b[49m\u001b[43mctx\u001b[49m\u001b[38;5;241;43m=\u001b[39;49m\u001b[38;5;28;43mself\u001b[39;49m\u001b[43m,\u001b[49m\n\u001b[0;32m   1463\u001b[0m \u001b[43m  \u001b[49m\u001b[43m)\u001b[49m\n\u001b[0;32m   1464\u001b[0m \u001b[38;5;28;01melse\u001b[39;00m:\n\u001b[0;32m   1465\u001b[0m   outputs \u001b[38;5;241m=\u001b[39m execute\u001b[38;5;241m.\u001b[39mexecute_with_cancellation(\n\u001b[0;32m   1466\u001b[0m       name\u001b[38;5;241m.\u001b[39mdecode(\u001b[38;5;124m\"\u001b[39m\u001b[38;5;124mutf-8\u001b[39m\u001b[38;5;124m\"\u001b[39m),\n\u001b[0;32m   1467\u001b[0m       num_outputs\u001b[38;5;241m=\u001b[39mnum_outputs,\n\u001b[1;32m   (...)\u001b[0m\n\u001b[0;32m   1471\u001b[0m       cancellation_manager\u001b[38;5;241m=\u001b[39mcancellation_context,\n\u001b[0;32m   1472\u001b[0m   )\n",
      "File \u001b[1;32m~\\AppData\\Local\\Programs\\Python\\Python310\\lib\\site-packages\\tensorflow\\python\\eager\\execute.py:53\u001b[0m, in \u001b[0;36mquick_execute\u001b[1;34m(op_name, num_outputs, inputs, attrs, ctx, name)\u001b[0m\n\u001b[0;32m     51\u001b[0m \u001b[38;5;28;01mtry\u001b[39;00m:\n\u001b[0;32m     52\u001b[0m   ctx\u001b[38;5;241m.\u001b[39mensure_initialized()\n\u001b[1;32m---> 53\u001b[0m   tensors \u001b[38;5;241m=\u001b[39m \u001b[43mpywrap_tfe\u001b[49m\u001b[38;5;241;43m.\u001b[39;49m\u001b[43mTFE_Py_Execute\u001b[49m\u001b[43m(\u001b[49m\u001b[43mctx\u001b[49m\u001b[38;5;241;43m.\u001b[39;49m\u001b[43m_handle\u001b[49m\u001b[43m,\u001b[49m\u001b[43m \u001b[49m\u001b[43mdevice_name\u001b[49m\u001b[43m,\u001b[49m\u001b[43m \u001b[49m\u001b[43mop_name\u001b[49m\u001b[43m,\u001b[49m\n\u001b[0;32m     54\u001b[0m \u001b[43m                                      \u001b[49m\u001b[43minputs\u001b[49m\u001b[43m,\u001b[49m\u001b[43m \u001b[49m\u001b[43mattrs\u001b[49m\u001b[43m,\u001b[49m\u001b[43m \u001b[49m\u001b[43mnum_outputs\u001b[49m\u001b[43m)\u001b[49m\n\u001b[0;32m     55\u001b[0m \u001b[38;5;28;01mexcept\u001b[39;00m core\u001b[38;5;241m.\u001b[39m_NotOkStatusException \u001b[38;5;28;01mas\u001b[39;00m e:\n\u001b[0;32m     56\u001b[0m   \u001b[38;5;28;01mif\u001b[39;00m name \u001b[38;5;129;01mis\u001b[39;00m \u001b[38;5;129;01mnot\u001b[39;00m \u001b[38;5;28;01mNone\u001b[39;00m:\n",
      "\u001b[1;31mKeyboardInterrupt\u001b[0m: "
     ]
    },
    {
     "data": {
      "text/plain": [
       "<Figure size 640x480 with 0 Axes>"
      ]
     },
     "metadata": {},
     "output_type": "display_data"
    }
   ],
   "source": [
    "first = True\n",
    "for AA,row in zip(dlomix.constants.ALPHABET_UNMOD.keys(),weights_hpf5[1:]):\n",
    "    wandb.init(project=project_name, name=f'{AA}')\n",
    "    \n",
    "    #Add current row to loaded weight matrix\n",
    "    new_weights = np.vstack([weights_hpf5, row])\n",
    "\n",
    "    #Set weight matrix to embedding layer\n",
    "    model_copy.layers[1].set_weights([new_weights])\n",
    "    \n",
    "    #Train Model\n",
    "    history = model_copy.fit(int_data.train_data,\n",
    "                    validation_data=int_data.val_data,\n",
    "                    epochs=1,callbacks=[WandbCallback(save_model=False)])\n",
    "\n",
    "    #Prediction\n",
    "    predictions = model_copy.predict(test_int_data.test_data)\n",
    "    report = IntensityReport(output_path=\"ptm/output/copy_clever\", history=history)\n",
    "    predictions_df = report.generate_intensity_results_df(test_int_data, predictions)\n",
    "    predictions_acc = normalize_intensity_predictions(predictions_df)\n",
    "    plot_violin_spectral_angle = sns.violinplot(predictions_acc['spectral_angle']).set_title(f'{AA}')\n",
    "    fig = plot_violin_spectral_angle.get_figure()\n",
    "    fig.savefig(f'ptm/output/copy_clever/{AA}_spectral_angle.png')\n",
    "    fig.clear()\n",
    "    spectral_angle = predictions_acc['spectral_angle'].describe()\n",
    "    \n",
    "    #Dataframe with AA and spectral angle informations\n",
    "    if first:\n",
    "        df = spectral_angle.to_frame(name=f'{AA}')\n",
    "        first = False\n",
    "    else:\n",
    "        current_AA = spectral_angle.to_frame(name=f'{AA}')\n",
    "        df = pd.merge(df, current_AA, left_index=True, right_index=True)\n",
    "    df.to_csv('ptm/output/copy_clever/spectracle_angle_copy.csv')\n",
    "    \n",
    "    wandb.finish()"
   ]
  },
  {
   "cell_type": "code",
   "execution_count": 87,
   "id": "e0890bf6-63ed-4097-b92a-198e95867ac9",
   "metadata": {},
   "outputs": [],
   "source": [
    "df = df.T"
   ]
  },
  {
   "cell_type": "code",
   "execution_count": null,
   "id": "e55f1ea4-a87e-4ddc-bd37-9031696a02aa",
   "metadata": {},
   "outputs": [],
   "source": [
    "df_sort_max = df.sort_values(by=['max'], ascending=True)\n",
    "df.to_csv('ptm/output/copy_clever/spectracle_angle_copy_max.csv')"
   ]
  },
  {
   "cell_type": "code",
   "execution_count": null,
   "id": "0f9307bf-f953-43e6-8e32-ccd8de626c0e",
   "metadata": {},
   "outputs": [],
   "source": [
    "df_sort_mean = df.sort_values(by=['mean'], ascending=True)\n",
    "df.to_csv('ptm/output/copy_clever/spectracle_angle_copy_mean.csv')"
   ]
  }
 ],
 "metadata": {
  "kernelspec": {
   "display_name": "Python 3 (ipykernel)",
   "language": "python",
   "name": "python3"
  },
  "language_info": {
   "codemirror_mode": {
    "name": "ipython",
    "version": 3
   },
   "file_extension": ".py",
   "mimetype": "text/x-python",
   "name": "python",
   "nbconvert_exporter": "python",
   "pygments_lexer": "ipython3",
   "version": "3.10.11"
  }
 },
 "nbformat": 4,
 "nbformat_minor": 5
}
