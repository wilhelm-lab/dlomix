{
 "cells": [
  {
   "cell_type": "markdown",
   "metadata": {},
   "source": [
    "### Imports "
   ]
  },
  {
   "cell_type": "code",
   "execution_count": 162,
   "metadata": {},
   "outputs": [],
   "source": [
    "import os \n",
    "import re \n",
    "import numpy as np \n",
    "import pandas as pd \n",
    "from collections import Counter"
   ]
  },
  {
   "cell_type": "markdown",
   "metadata": {},
   "source": [
    "### Data prep"
   ]
  },
  {
   "cell_type": "markdown",
   "metadata": {},
   "source": [
    "#### File import"
   ]
  },
  {
   "cell_type": "code",
   "execution_count": 163,
   "metadata": {},
   "outputs": [],
   "source": [
    "def combine_files_into_df(directory_path=\"../data/\", file_types=['.parquet', '.tsv', '.csv']):\n",
    "    \"\"\"\n",
    "    Combines all files in a directory into one DataFrame.\n",
    "    @param directory_path: str, path to the directory containing the files\n",
    "    @param file_types: list, list of file types to be imported\n",
    "    @return: df: DataFrame\n",
    "    \"\"\"\n",
    "    # Map file extensions to their respective pandas read functions and parameters\n",
    "    read_funcs = {\n",
    "        '.parquet': (pd.read_parquet, {'engine': 'fastparquet'}),\n",
    "        '.tsv': (pd.read_csv, {'sep': '\\t'}),\n",
    "        '.csv': (pd.read_csv, {})\n",
    "    }\n",
    "    \n",
    "    message_prefix = \"Step 1/? complete.\"\n",
    "\n",
    "    dfs = []\n",
    "    # Iterate through all files in the specified directory\n",
    "    for file in os.listdir(directory_path):\n",
    "        file_path = os.path.join(directory_path, file)\n",
    "        file_extension = os.path.splitext(file)[1]\n",
    "        \n",
    "        # Check if the file extension is in the list of types to read\n",
    "        if file_extension in file_types:\n",
    "            read_func, params = read_funcs.get(file_extension, (None, None))\n",
    "            if read_func:\n",
    "                df = read_func(file_path, **params)\n",
    "                dfs.append(df)\n",
    "            else:\n",
    "                print(f\"Skipping unsupported file type: {file_extension}\")\n",
    "\n",
    "    # Combine all DataFrames in the list into a single DataFrame\n",
    "    if dfs:\n",
    "        df = pd.concat(dfs, ignore_index=True)\n",
    "        print(f\"{message_prefix} Combined {len(dfs)} files into one DataFrame.\")\n",
    "    else:\n",
    "        df = pd.DataFrame()\n",
    "        print(\"No files combined.\")\n",
    "\n",
    "    return df"
   ]
  },
  {
   "cell_type": "code",
   "execution_count": 164,
   "metadata": {},
   "outputs": [],
   "source": [
    "def filter_dataframe_columns(df, columns_to_keep=['modified_sequence', 'precursor_charge', 'precursor_intensity']):\n",
    "    \"\"\"\n",
    "    Filters a DataFrame to keep only the specified columns.\n",
    "    @param df: DataFrame, the DataFrame to filter\n",
    "    @param columns_to_keep: list, the names of the columns to keep\n",
    "    @return: df_filtered: DataFrame\n",
    "    \"\"\"\n",
    "    df_filtered = df[columns_to_keep].copy() if all(col in df for col in columns_to_keep) else df\n",
    "    print(f\"Step 2/? complete. Removed {len(df.columns) - len(df_filtered.columns)} columns from the DataFrame.\")\n",
    "    return df_filtered"
   ]
  },
  {
   "cell_type": "code",
   "execution_count": 165,
   "metadata": {},
   "outputs": [],
   "source": [
    "def drop_na(df, column=\"precursor_intensity\"):\n",
    "    \"\"\"\n",
    "    Drop all rows with NaN values in a specific column\n",
    "    Default: drop na from precursor_intensity column\n",
    "    @param df: DataFrame\n",
    "    @param column: column to drop NaN values from\n",
    "    @return: df: DataFrame\n",
    "    \"\"\"\n",
    "\n",
    "    df = df[df[column].notna()]\n",
    "    print(f\"Step 3/? complete. Dropped rows with NaN for intensities.\")\n",
    "    return df"
   ]
  },
  {
   "cell_type": "code",
   "execution_count": 166,
   "metadata": {},
   "outputs": [],
   "source": [
    "def keep_desired_charges(df, charge_list=[1, 2, 3, 4, 5, 6], min_count=None):\n",
    "    \"\"\"\n",
    "    Keep only desired charge states and filter out charges with counts less than min_count.\n",
    "    Default: keep charge states 1-6 with no minimum count filtering.\n",
    "\n",
    "    @param df: DataFrame\n",
    "    @param charge_list: list of charge states to be kept\n",
    "    @param min_count: minimum count of charge states to be retained\n",
    "    \"\"\"\n",
    "    message_prefix = \"Step 4/? complete.\"\n",
    "    summary_message = \"\"  # Initialize an empty summary message\n",
    "\n",
    "    if min_count is not None:\n",
    "        charge_counts = df[\"precursor_charge\"].value_counts()\n",
    "        filtered_charges = [\n",
    "            charge for charge in charge_list if charge_counts.get(charge, 0) >= min_count\n",
    "        ]\n",
    "        \n",
    "        removed_charges = set(charge_list) - set(filtered_charges)\n",
    "        if removed_charges:\n",
    "            summary_message += f\"Removed charge states with less than {min_count} occurrences in the dataset. \"\n",
    "            summary_message += f\"Charges removed: {sorted(removed_charges)}. \"\n",
    "        charge_list = filtered_charges\n",
    "    else:\n",
    "        summary_message += f\"Focused on keeping charge states within {charge_list}. \"\n",
    "\n",
    "    # Apply filtering based on the updated charge_list\n",
    "    df_filtered = df[df[\"precursor_charge\"].isin(charge_list)]\n",
    "\n",
    "    # Final step message, summarizing the action taken\n",
    "    final_message = f\"{message_prefix} {summary_message}Resulting in {len(df_filtered)} entries.\"\n",
    "    print(final_message)\n",
    "\n",
    "    return df_filtered"
   ]
  },
  {
   "cell_type": "code",
   "execution_count": 167,
   "metadata": {},
   "outputs": [],
   "source": [
    "def aggregate_sequences(df):\n",
    "    \"\"\"\n",
    "    Aggregates all sequences to unique sequences\n",
    "    @param df: DataFrame\n",
    "    @return: df: DataFrame\n",
    "    \"\"\"\n",
    "    df = (\n",
    "        df.groupby(\"modified_sequence\")[[\"precursor_charge\", \"precursor_intensity\"]]\n",
    "        .agg(list)\n",
    "        .reset_index()\n",
    "    )\n",
    "    print(f\"Step 5/? complete. Aggregated all sequences to unique sequences.\")\n",
    "    return df"
   ]
  },
  {
   "cell_type": "code",
   "execution_count": 168,
   "metadata": {},
   "outputs": [],
   "source": [
    "def remove_rare_sequence_lengths(df, representation_threshold=100):\n",
    "    \"\"\"\n",
    "    Remove sequences of specific length represented less than a certain number of times.\n",
    "    \n",
    "    @param df: DataFrame containing a \"modified_sequence\" column\n",
    "    @param representation_threshold: int, threshold for the number of times a sequence length must be represented\n",
    "    @return: tuple of (DataFrame, int), where DataFrame contains only sequence lengths represented more than\n",
    "             representation_threshold times, and int is the length of the longest sequence\n",
    "    \"\"\"\n",
    "    before_len = len(df)\n",
    "    # Calculate sequence lengths directly within the groupby and count operation\n",
    "    sequence_lengths = df[\"modified_sequence\"].str.len()\n",
    "    # Identify sequence lengths that meet the representation threshold\n",
    "    valid_lengths = sequence_lengths.value_counts()[lambda x: x >= representation_threshold].index\n",
    "\n",
    "    # Filter the DataFrame based on valid sequence lengths\n",
    "    df_filtered = df[sequence_lengths.isin(valid_lengths)].copy()\n",
    "    padding_length = sequence_lengths.max()\n",
    "\n",
    "    after_len = len(df_filtered)\n",
    "    print(\n",
    "        f\"Step 6/? complete. Removed {before_len - after_len} of {before_len} sequences because their sequence length \"\n",
    "        f\"is represented less than {representation_threshold} times.\"\n",
    "    )\n",
    "    return df_filtered, padding_length"
   ]
  },
  {
   "cell_type": "code",
   "execution_count": 169,
   "metadata": {},
   "outputs": [],
   "source": [
    "def complete_vocabulary(df):\n",
    "    \"\"\"\n",
    "    Find all UNIMOD annotations and add them to the vocabulary\n",
    "    (The length of the vocabulary +1 is used later for the embedding layer)\n",
    "    @param df: DataFrame\n",
    "    @return: vocabulary: list, list of all amino acids and modifications\n",
    "    @return: vocab_len: int, length of the vocabulary\n",
    "    \"\"\"\n",
    "    vocabulary = []\n",
    "    vocabulary += list(\"XACDEFGHIKLMNPQRSTVWY\")\n",
    "    annotations = re.findall(r\"(\\w\\[UNIMOD:\\d+])\", \" \".join(df[\"modified_sequence\"]))\n",
    "    for item in annotations:\n",
    "        if item not in vocabulary:\n",
    "            vocabulary.append(item)\n",
    "    vocab_len = len(vocabulary)\n",
    "    print(f\"Step 7/? complete. Completed vocabulary with {vocab_len} entries.\")\n",
    "    return vocabulary, vocab_len"
   ]
  },
  {
   "cell_type": "code",
   "execution_count": 170,
   "metadata": {},
   "outputs": [],
   "source": [
    "def encode_charge_states(df, charge_states=None):\n",
    "    \"\"\"\n",
    "    Encode all occuring charge states per unique sequence in a binary vector\n",
    "\n",
    "    input: df containing \"precursor_charge\" column output: df containing an additional \"charge_state_vector\"\n",
    "    column encoding all occuring charge states per unique sequence in a binary vector\n",
    "    @param df: DataFrame\n",
    "    @return: df: DataFrame\n",
    "    \"\"\"\n",
    "    df[\"charge_state_vector\"] = df[\"precursor_charge\"].apply(\n",
    "        lambda x: [\n",
    "            1 if i in x else 0 for i in range(charge_states[0], charge_states[-1] + 1)\n",
    "        ]\n",
    "    )\n",
    "    print(\n",
    "        f\"Step ?/? complete. Encoded all occuring charge states per unique sequence in a binary vector.\"\n",
    "    )\n",
    "    return df"
   ]
  },
  {
   "cell_type": "code",
   "execution_count": 171,
   "metadata": {},
   "outputs": [],
   "source": [
    "def select_most_abundant_by_count(df, charge_list=None):\n",
    "    \"\"\"\n",
    "    Selects the most abundant charge state by count.\n",
    "    \n",
    "    @param df: DataFrame with a 'precursor_charge' column containing a list of charge states.\n",
    "    @return: DataFrame with an added 'most_abundant_by_count' and 'most_abundant_charge_vector' column.\n",
    "    \"\"\"\n",
    "    # Define a function to find the most common element in a list\n",
    "    def most_common(lst):\n",
    "        return Counter(lst).most_common(1)[0][0]\n",
    "\n",
    "    # Apply the function to each row in the 'precursor_charge' column and assign to a new column\n",
    "    df['most_abundant_charge_by_count'] = df['precursor_charge'].apply(most_common)\n",
    "\n",
    "    if charge_list is None:\n",
    "        charge_list = [1, 2, 3, 4, 5, 6]\n",
    "    df[\"most_abundant_charge_by_count_vector\"] = df[\"most_abundant_charge_by_count\"].apply(\n",
    "        lambda x: [1 if x == i else 0 for i in charge_list]\n",
    "    )\n",
    "    print(\n",
    "        f\"Step ?/? complete. Selected most abundant charge state by count and generated one-hot encoding\"\n",
    "    )\n",
    "    \n",
    "    return df"
   ]
  },
  {
   "cell_type": "code",
   "execution_count": 172,
   "metadata": {},
   "outputs": [],
   "source": [
    "def get_topK_charge_states_by_count(df, k=2):\n",
    "    \"\"\"\n",
    "    Get top-k charge states for each sequence according to the count in precursor_charge.\n",
    "    Default: k=2\n",
    "    @param df: DataFrame with a 'precursor_charge' column containing a list of charge states.\n",
    "    @param k: int, number of top charge states to be selected\n",
    "    @return: DataFrame with an added column for top-k charge states.\n",
    "    \"\"\"\n",
    "\n",
    "    def get_topK_charge_counts(charge_list):\n",
    "        # Count the occurrences of each charge state and get the top-k\n",
    "        count = Counter(charge_list)\n",
    "        top_k = [charge for charge, _ in count.most_common(k)]\n",
    "        return top_k\n",
    "\n",
    "    # Apply the function to each row in the 'precursor_charge' column and assign to a new column\n",
    "    df[f\"top_{k}_charge_states_by_count\"] = df['precursor_charge'].apply(get_topK_charge_counts)\n",
    "\n",
    "    print(f\"Step ?/? complete. Selected top {k} charge states per sequence based on count.\")\n",
    "    return df"
   ]
  },
  {
   "cell_type": "code",
   "execution_count": 173,
   "metadata": {},
   "outputs": [],
   "source": [
    "# TODO\n",
    "def one_hot_encode_charge(df, charge_list=None):\n",
    "    \"\"\"\n",
    "    One-hot encodes the most abundant charge state\n",
    "    @param df: DataFrame\n",
    "    @param charge_list: list, list of charge states\n",
    "    @return: df: DataFrame\n",
    "    \"\"\"\n",
    "    if charge_list is None:\n",
    "        charge_list = [1, 2, 3, 4, 5, 6]\n",
    "    df[\"most_abundant_charge_vector\"] = df[\"most_abundant_charge\"].apply(\n",
    "        lambda x: [1 if x == i else 0 for i in charge_list]\n",
    "    )\n",
    "    return df"
   ]
  },
  {
   "cell_type": "code",
   "execution_count": 174,
   "metadata": {},
   "outputs": [],
   "source": [
    "# TODO \n",
    "def normalize_precursor_intensities(df_charge_list, df_intensity_list):\n",
    "    \"\"\"\n",
    "    Normalizes the precursor intensities based on the most abundant precursor intensity\n",
    "    @param df_charge_list: list, list of charge states\n",
    "    @param df_intensity_list: list, list of precursor intensities\n",
    "    @return: charge_dict: dict, dictionary with charge states as keys and normalized intensities as values\n",
    "    \"\"\"\n",
    "    # Get the index of the most abundant precursor intensity\n",
    "    charge_dict = dict()\n",
    "    for index, i in enumerate(df_charge_list):\n",
    "        charge_dict[i] = []\n",
    "        charge_dict[i].append(df_intensity_list[index])\n",
    "\n",
    "    # Normalize the precursor intensity based on the most abundant precursor intensity\n",
    "    for key, value in charge_dict.items():\n",
    "        if len(value) > 1:\n",
    "            charge_dict[key] = sum(value) - min(value) / (max(value) - min(value))\n",
    "\n",
    "    # convert list of one float to float values\n",
    "    charge_dict = {key: value[0] for key, value in charge_dict.items()}\n",
    "    return charge_dict"
   ]
  },
  {
   "cell_type": "code",
   "execution_count": 175,
   "metadata": {},
   "outputs": [],
   "source": [
    "# TODO \n",
    "def get_most_abundant(df_charge_list, df_intensity_list, distributions=False):\n",
    "    \"\"\"\n",
    "    Get the most abundant charge state\n",
    "    @param df_charge_list: list, list of charge states\n",
    "    @param df_intensity_list: list, list of precursor intensities\n",
    "    @param distributions: bool, if True returns a dictionary with all charge states and their intensities\n",
    "    @return: charge_dict: dict, dictionary with charge states as keys and intensities as values\n",
    "    \"\"\"\n",
    "    charge_dict = dict()\n",
    "    for index, i in enumerate(df_charge_list):\n",
    "        if i not in charge_dict:\n",
    "            charge_dict[i] = df_intensity_list[index]\n",
    "        else:\n",
    "            charge_dict[i] += df_intensity_list[index]\n",
    "    if distributions:\n",
    "        return charge_dict\n",
    "    else:\n",
    "        return max(charge_dict, key=charge_dict.get)"
   ]
  },
  {
   "cell_type": "code",
   "execution_count": 176,
   "metadata": {},
   "outputs": [],
   "source": [
    "# TODO\n",
    "def select_most_abundant_by_normalized_intensity(df, charge_list=None):\n",
    "    \"\"\"\n",
    "    Normalizes the precursor intensities and selects the most abundant charge state\n",
    "    @param df: DataFrame\n",
    "    @param charge_list: list, list of charge states\n",
    "    @return: df: DataFrame\n",
    "    \"\"\"\n",
    "\n",
    "    if charge_list is None:\n",
    "        charge_list = [1, 2, 3, 4, 5, 6]\n",
    "    df[\"normalized\"] = df.apply(\n",
    "        lambda x: normalize_precursor_intensities(\n",
    "            x[\"precursor_charge\"], x[\"precursor_intensity\"]\n",
    "        ),\n",
    "        axis=1,\n",
    "    )\n",
    "    df[\"pre_normalization\"] = df.apply(\n",
    "        lambda x: get_most_abundant(\n",
    "            x[\"precursor_charge\"], x[\"precursor_intensity\"], True\n",
    "        ),\n",
    "        axis=1,\n",
    "    )\n",
    "    df[\"most_abundant_charge\"] = df[\"normalized\"].apply(lambda x: max(x, key=x.get))\n",
    "    df = one_hot_encode_charge(df, charge_list)\n",
    "    print(\n",
    "        f\"Step ?/? complete. Applied normalization, selected most abundant charge state and one-hot encoded \"\n",
    "        f\"it.\"\n",
    "    )\n",
    "    return df"
   ]
  },
  {
   "cell_type": "code",
   "execution_count": 177,
   "metadata": {},
   "outputs": [],
   "source": [
    "# TODO\n",
    "def get_topK_charge_states(df, k=2):\n",
    "    \"\"\"\n",
    "    get topK charge states for each sequence according to the normalized precursor intensity\n",
    "    Default: k=2\n",
    "    @param df: DataFrame\n",
    "    @param k: int, number of top charge states to be selected\n",
    "    @return: df: DataFrame\n",
    "    \"\"\"\n",
    "\n",
    "    def get_topK(label_dict):\n",
    "        allowed_keys = list()\n",
    "        sorted_values = sorted(label_dict.values(), reverse=True)\n",
    "        for i in sorted_values:\n",
    "            for key, value in label_dict.items():\n",
    "                if i == value and len(allowed_keys) <= k - 1:\n",
    "                    allowed_keys.append(key)\n",
    "        return allowed_keys\n",
    "\n",
    "    df[f\"top_{k}_charge_states\"] = df[\"normalized\"].apply(get_topK)\n",
    "    print(f\"Step ?/? complete. Selected top {k} charge states per sequence.\")\n",
    "    return df"
   ]
  },
  {
   "cell_type": "markdown",
   "metadata": {},
   "source": [
    "## Data prep process"
   ]
  },
  {
   "cell_type": "code",
   "execution_count": 178,
   "metadata": {},
   "outputs": [
    {
     "name": "stdout",
     "output_type": "stream",
     "text": [
      "Step 1/? complete. Combined 13 files into one DataFrame.\n"
     ]
    }
   ],
   "source": [
    "df = combine_files_into_df()"
   ]
  },
  {
   "cell_type": "markdown",
   "metadata": {},
   "source": []
  },
  {
   "cell_type": "code",
   "execution_count": 179,
   "metadata": {},
   "outputs": [
    {
     "name": "stdout",
     "output_type": "stream",
     "text": [
      "Step 2/? complete. Removed 12 columns from the DataFrame.\n"
     ]
    }
   ],
   "source": [
    "df = filter_dataframe_columns(df)"
   ]
  },
  {
   "cell_type": "code",
   "execution_count": 180,
   "metadata": {},
   "outputs": [],
   "source": [
    "# df.to_csv(\"dlomix/data/prelim_unprocessed_data.csv\")"
   ]
  },
  {
   "cell_type": "code",
   "execution_count": 181,
   "metadata": {},
   "outputs": [
    {
     "name": "stdout",
     "output_type": "stream",
     "text": [
      "Step 3/? complete. Dropped rows with NaN for intensities.\n"
     ]
    }
   ],
   "source": [
    "df = drop_na(df)"
   ]
  },
  {
   "cell_type": "code",
   "execution_count": 182,
   "metadata": {},
   "outputs": [
    {
     "name": "stdout",
     "output_type": "stream",
     "text": [
      "Step 4/? complete. Removed charge states with less than 10000 occurrences in the dataset. Charges removed: [7]. Resulting in 65160159 entries.\n"
     ]
    }
   ],
   "source": [
    "df = keep_desired_charges(df, charge_list=[1,2,3,4,5,6,7], min_count=10000)"
   ]
  },
  {
   "cell_type": "code",
   "execution_count": 183,
   "metadata": {},
   "outputs": [
    {
     "name": "stdout",
     "output_type": "stream",
     "text": [
      "Step 5/? complete. Aggregated all sequences to unique sequences.\n"
     ]
    }
   ],
   "source": [
    "aggregated_df = aggregate_sequences(df)"
   ]
  },
  {
   "cell_type": "code",
   "execution_count": 184,
   "metadata": {},
   "outputs": [
    {
     "name": "stdout",
     "output_type": "stream",
     "text": [
      "Step 6/? complete. Removed 1301 of 831677 sequences because their sequence length is represented less than 200 times.\n"
     ]
    }
   ],
   "source": [
    "df, max_seq_len = remove_rare_sequence_lengths(aggregated_df, representation_threshold=200)"
   ]
  },
  {
   "cell_type": "code",
   "execution_count": 185,
   "metadata": {},
   "outputs": [
    {
     "name": "stdout",
     "output_type": "stream",
     "text": [
      "Step 7/? complete. Completed vocabulary with 23 entries.\n"
     ]
    }
   ],
   "source": [
    "complete_vocabulary, vocab_len = complete_vocabulary(df)"
   ]
  },
  {
   "cell_type": "code",
   "execution_count": 186,
   "metadata": {},
   "outputs": [
    {
     "name": "stdout",
     "output_type": "stream",
     "text": [
      "Step ?/? complete. Selected most abundant charge state by count and generated one-hot encoding\n"
     ]
    }
   ],
   "source": [
    "df = select_most_abundant_by_count(df)"
   ]
  },
  {
   "cell_type": "code",
   "execution_count": 187,
   "metadata": {},
   "outputs": [
    {
     "name": "stdout",
     "output_type": "stream",
     "text": [
      "Step ?/? complete. Encoded all occuring charge states per unique sequence in a binary vector.\n"
     ]
    }
   ],
   "source": [
    "df = encode_charge_states(df, charge_states=[1,2,3,4,5,6])"
   ]
  },
  {
   "cell_type": "code",
   "execution_count": 188,
   "metadata": {},
   "outputs": [
    {
     "name": "stdout",
     "output_type": "stream",
     "text": [
      "Step ?/? complete. Selected top 2 charge states per sequence based on count.\n"
     ]
    }
   ],
   "source": [
    "df = get_topK_charge_states_by_count(df, k=2)"
   ]
  },
  {
   "cell_type": "code",
   "execution_count": 189,
   "metadata": {},
   "outputs": [
    {
     "data": {
      "text/html": [
       "<div>\n",
       "<style scoped>\n",
       "    .dataframe tbody tr th:only-of-type {\n",
       "        vertical-align: middle;\n",
       "    }\n",
       "\n",
       "    .dataframe tbody tr th {\n",
       "        vertical-align: top;\n",
       "    }\n",
       "\n",
       "    .dataframe thead th {\n",
       "        text-align: right;\n",
       "    }\n",
       "</style>\n",
       "<table border=\"1\" class=\"dataframe\">\n",
       "  <thead>\n",
       "    <tr style=\"text-align: right;\">\n",
       "      <th></th>\n",
       "      <th>modified_sequence</th>\n",
       "      <th>precursor_charge</th>\n",
       "      <th>precursor_intensity</th>\n",
       "      <th>most_abundant_charge_by_count</th>\n",
       "      <th>most_abundant_charge_by_count_vector</th>\n",
       "      <th>charge_state_vector</th>\n",
       "      <th>top_2_charge_states_by_count</th>\n",
       "    </tr>\n",
       "  </thead>\n",
       "  <tbody>\n",
       "    <tr>\n",
       "      <th>0</th>\n",
       "      <td>AAAAAAAAAAAAAAAAGLGLGP</td>\n",
       "      <td>[2, 3, 2, 1, 1, 2, 2, 2, 2, 2, 2, 3, 3, 3, 3, ...</td>\n",
       "      <td>[12746190.0, 2009914.0, 12746190.0, 791369.9, ...</td>\n",
       "      <td>2</td>\n",
       "      <td>[0, 1, 0, 0, 0, 0]</td>\n",
       "      <td>[1, 1, 1, 0, 0, 0]</td>\n",
       "      <td>[2, 3]</td>\n",
       "    </tr>\n",
       "    <tr>\n",
       "      <th>1</th>\n",
       "      <td>AAAAAAAAAAAAAAAASAGGK</td>\n",
       "      <td>[2, 2, 2, 2, 2, 2, 2, 2, 2, 2, 2, 2, 2, 2, 2]</td>\n",
       "      <td>[5944787.0, 5944787.0, 8502878.0, 6425294.0, 8...</td>\n",
       "      <td>2</td>\n",
       "      <td>[0, 1, 0, 0, 0, 0]</td>\n",
       "      <td>[0, 1, 0, 0, 0, 0]</td>\n",
       "      <td>[2]</td>\n",
       "    </tr>\n",
       "    <tr>\n",
       "      <th>2</th>\n",
       "      <td>AAAAAAAAAAAAAAAGAGAGAK</td>\n",
       "      <td>[2, 2, 2, 2]</td>\n",
       "      <td>[3067981.0, 3067981.0, 3067981.0, 3067981.0]</td>\n",
       "      <td>2</td>\n",
       "      <td>[0, 1, 0, 0, 0, 0]</td>\n",
       "      <td>[0, 1, 0, 0, 0, 0]</td>\n",
       "      <td>[2]</td>\n",
       "    </tr>\n",
       "    <tr>\n",
       "      <th>3</th>\n",
       "      <td>AAAAAAAAAAAAAAASGFAYPGTSER</td>\n",
       "      <td>[2, 2, 2, 2, 2, 2, 2, 2, 2, 2, 2, 2, 2, 2, 2, ...</td>\n",
       "      <td>[11913300.0, 11913300.0, 11913300.0, 11913300....</td>\n",
       "      <td>2</td>\n",
       "      <td>[0, 1, 0, 0, 0, 0]</td>\n",
       "      <td>[0, 1, 1, 0, 0, 0]</td>\n",
       "      <td>[2, 3]</td>\n",
       "    </tr>\n",
       "    <tr>\n",
       "      <th>4</th>\n",
       "      <td>AAAAAAAAAAAAAAG</td>\n",
       "      <td>[1, 1, 1, 1, 1, 1, 1, 1, 1, 1, 1, 1, 1, 1, 1, ...</td>\n",
       "      <td>[1573785.0, 4638296.0, 7934979.0, 2019978.0, 4...</td>\n",
       "      <td>1</td>\n",
       "      <td>[1, 0, 0, 0, 0, 0]</td>\n",
       "      <td>[1, 0, 0, 0, 0, 0]</td>\n",
       "      <td>[1]</td>\n",
       "    </tr>\n",
       "    <tr>\n",
       "      <th>...</th>\n",
       "      <td>...</td>\n",
       "      <td>...</td>\n",
       "      <td>...</td>\n",
       "      <td>...</td>\n",
       "      <td>...</td>\n",
       "      <td>...</td>\n",
       "      <td>...</td>\n",
       "    </tr>\n",
       "    <tr>\n",
       "      <th>831672</th>\n",
       "      <td>YYYVGFAYL</td>\n",
       "      <td>[1, 1, 1, 1, 1, 1, 1, 1, 1, 1, 1, 1, 1, 1, 1, ...</td>\n",
       "      <td>[5439354.0, 832455.9, 3048967.0, 1694847.0, 56...</td>\n",
       "      <td>1</td>\n",
       "      <td>[1, 0, 0, 0, 0, 0]</td>\n",
       "      <td>[1, 1, 0, 0, 0, 0]</td>\n",
       "      <td>[1, 2]</td>\n",
       "    </tr>\n",
       "    <tr>\n",
       "      <th>831673</th>\n",
       "      <td>YYYVPADFVEYEK</td>\n",
       "      <td>[2, 2, 2, 2, 2, 2, 2, 2, 2, 2, 2, 2, 2, 2, 2, ...</td>\n",
       "      <td>[260337200.0, 501610000.0, 260337200.0, 223532...</td>\n",
       "      <td>2</td>\n",
       "      <td>[0, 1, 0, 0, 0, 0]</td>\n",
       "      <td>[0, 1, 0, 0, 0, 0]</td>\n",
       "      <td>[2]</td>\n",
       "    </tr>\n",
       "    <tr>\n",
       "      <th>831674</th>\n",
       "      <td>YYYVQNVYTPVDEHVYPDHR</td>\n",
       "      <td>[3, 4, 3, 4, 3, 3, 3, 3, 3, 3, 3]</td>\n",
       "      <td>[11725650.0, 14743500.0, 11725650.0, 14743500....</td>\n",
       "      <td>3</td>\n",
       "      <td>[0, 0, 1, 0, 0, 0]</td>\n",
       "      <td>[0, 0, 1, 1, 0, 0]</td>\n",
       "      <td>[3, 4]</td>\n",
       "    </tr>\n",
       "    <tr>\n",
       "      <th>831675</th>\n",
       "      <td>YYYWVINPADSSGITPK</td>\n",
       "      <td>[2, 2, 2, 2, 2, 2, 2, 2, 2, 2, 2, 2, 2, 2, 2, ...</td>\n",
       "      <td>[36403250.0, 77270170.0, 11621660.0, 679866900...</td>\n",
       "      <td>2</td>\n",
       "      <td>[0, 1, 0, 0, 0, 0]</td>\n",
       "      <td>[0, 1, 0, 0, 0, 0]</td>\n",
       "      <td>[2]</td>\n",
       "    </tr>\n",
       "    <tr>\n",
       "      <th>831676</th>\n",
       "      <td>YYYYIREA</td>\n",
       "      <td>[2, 2, 2, 2, 2, 2, 2, 2, 2, 2, 2, 2, 2, 2, 2, ...</td>\n",
       "      <td>[5875466.0, 6046599.0, 1332756.0, 5875466.0, 2...</td>\n",
       "      <td>2</td>\n",
       "      <td>[0, 1, 0, 0, 0, 0]</td>\n",
       "      <td>[0, 1, 0, 0, 0, 0]</td>\n",
       "      <td>[2]</td>\n",
       "    </tr>\n",
       "  </tbody>\n",
       "</table>\n",
       "<p>830376 rows × 7 columns</p>\n",
       "</div>"
      ],
      "text/plain": [
       "                 modified_sequence  \\\n",
       "0           AAAAAAAAAAAAAAAAGLGLGP   \n",
       "1            AAAAAAAAAAAAAAAASAGGK   \n",
       "2           AAAAAAAAAAAAAAAGAGAGAK   \n",
       "3       AAAAAAAAAAAAAAASGFAYPGTSER   \n",
       "4                  AAAAAAAAAAAAAAG   \n",
       "...                            ...   \n",
       "831672                   YYYVGFAYL   \n",
       "831673               YYYVPADFVEYEK   \n",
       "831674        YYYVQNVYTPVDEHVYPDHR   \n",
       "831675           YYYWVINPADSSGITPK   \n",
       "831676                    YYYYIREA   \n",
       "\n",
       "                                         precursor_charge  \\\n",
       "0       [2, 3, 2, 1, 1, 2, 2, 2, 2, 2, 2, 3, 3, 3, 3, ...   \n",
       "1           [2, 2, 2, 2, 2, 2, 2, 2, 2, 2, 2, 2, 2, 2, 2]   \n",
       "2                                            [2, 2, 2, 2]   \n",
       "3       [2, 2, 2, 2, 2, 2, 2, 2, 2, 2, 2, 2, 2, 2, 2, ...   \n",
       "4       [1, 1, 1, 1, 1, 1, 1, 1, 1, 1, 1, 1, 1, 1, 1, ...   \n",
       "...                                                   ...   \n",
       "831672  [1, 1, 1, 1, 1, 1, 1, 1, 1, 1, 1, 1, 1, 1, 1, ...   \n",
       "831673  [2, 2, 2, 2, 2, 2, 2, 2, 2, 2, 2, 2, 2, 2, 2, ...   \n",
       "831674                  [3, 4, 3, 4, 3, 3, 3, 3, 3, 3, 3]   \n",
       "831675  [2, 2, 2, 2, 2, 2, 2, 2, 2, 2, 2, 2, 2, 2, 2, ...   \n",
       "831676  [2, 2, 2, 2, 2, 2, 2, 2, 2, 2, 2, 2, 2, 2, 2, ...   \n",
       "\n",
       "                                      precursor_intensity  \\\n",
       "0       [12746190.0, 2009914.0, 12746190.0, 791369.9, ...   \n",
       "1       [5944787.0, 5944787.0, 8502878.0, 6425294.0, 8...   \n",
       "2            [3067981.0, 3067981.0, 3067981.0, 3067981.0]   \n",
       "3       [11913300.0, 11913300.0, 11913300.0, 11913300....   \n",
       "4       [1573785.0, 4638296.0, 7934979.0, 2019978.0, 4...   \n",
       "...                                                   ...   \n",
       "831672  [5439354.0, 832455.9, 3048967.0, 1694847.0, 56...   \n",
       "831673  [260337200.0, 501610000.0, 260337200.0, 223532...   \n",
       "831674  [11725650.0, 14743500.0, 11725650.0, 14743500....   \n",
       "831675  [36403250.0, 77270170.0, 11621660.0, 679866900...   \n",
       "831676  [5875466.0, 6046599.0, 1332756.0, 5875466.0, 2...   \n",
       "\n",
       "        most_abundant_charge_by_count most_abundant_charge_by_count_vector  \\\n",
       "0                                   2                   [0, 1, 0, 0, 0, 0]   \n",
       "1                                   2                   [0, 1, 0, 0, 0, 0]   \n",
       "2                                   2                   [0, 1, 0, 0, 0, 0]   \n",
       "3                                   2                   [0, 1, 0, 0, 0, 0]   \n",
       "4                                   1                   [1, 0, 0, 0, 0, 0]   \n",
       "...                               ...                                  ...   \n",
       "831672                              1                   [1, 0, 0, 0, 0, 0]   \n",
       "831673                              2                   [0, 1, 0, 0, 0, 0]   \n",
       "831674                              3                   [0, 0, 1, 0, 0, 0]   \n",
       "831675                              2                   [0, 1, 0, 0, 0, 0]   \n",
       "831676                              2                   [0, 1, 0, 0, 0, 0]   \n",
       "\n",
       "       charge_state_vector top_2_charge_states_by_count  \n",
       "0       [1, 1, 1, 0, 0, 0]                       [2, 3]  \n",
       "1       [0, 1, 0, 0, 0, 0]                          [2]  \n",
       "2       [0, 1, 0, 0, 0, 0]                          [2]  \n",
       "3       [0, 1, 1, 0, 0, 0]                       [2, 3]  \n",
       "4       [1, 0, 0, 0, 0, 0]                          [1]  \n",
       "...                    ...                          ...  \n",
       "831672  [1, 1, 0, 0, 0, 0]                       [1, 2]  \n",
       "831673  [0, 1, 0, 0, 0, 0]                          [2]  \n",
       "831674  [0, 0, 1, 1, 0, 0]                       [3, 4]  \n",
       "831675  [0, 1, 0, 0, 0, 0]                          [2]  \n",
       "831676  [0, 1, 0, 0, 0, 0]                          [2]  \n",
       "\n",
       "[830376 rows x 7 columns]"
      ]
     },
     "execution_count": 189,
     "metadata": {},
     "output_type": "execute_result"
    }
   ],
   "source": [
    "df"
   ]
  },
  {
   "cell_type": "code",
   "execution_count": 190,
   "metadata": {},
   "outputs": [
    {
     "data": {
      "text/html": [
       "<div>\n",
       "<style scoped>\n",
       "    .dataframe tbody tr th:only-of-type {\n",
       "        vertical-align: middle;\n",
       "    }\n",
       "\n",
       "    .dataframe tbody tr th {\n",
       "        vertical-align: top;\n",
       "    }\n",
       "\n",
       "    .dataframe thead th {\n",
       "        text-align: right;\n",
       "    }\n",
       "</style>\n",
       "<table border=\"1\" class=\"dataframe\">\n",
       "  <thead>\n",
       "    <tr style=\"text-align: right;\">\n",
       "      <th></th>\n",
       "      <th>modified_sequence</th>\n",
       "      <th>most_abundant_charge_by_count</th>\n",
       "      <th>most_abundant_charge_by_count_vector</th>\n",
       "      <th>charge_state_vector</th>\n",
       "      <th>top_2_charge_states_by_count</th>\n",
       "    </tr>\n",
       "  </thead>\n",
       "  <tbody>\n",
       "    <tr>\n",
       "      <th>0</th>\n",
       "      <td>AAAAAAAAAAAAAAAAGLGLGP</td>\n",
       "      <td>2</td>\n",
       "      <td>[0, 1, 0, 0, 0, 0]</td>\n",
       "      <td>[1, 1, 1, 0, 0, 0]</td>\n",
       "      <td>[2, 3]</td>\n",
       "    </tr>\n",
       "    <tr>\n",
       "      <th>1</th>\n",
       "      <td>AAAAAAAAAAAAAAAASAGGK</td>\n",
       "      <td>2</td>\n",
       "      <td>[0, 1, 0, 0, 0, 0]</td>\n",
       "      <td>[0, 1, 0, 0, 0, 0]</td>\n",
       "      <td>[2]</td>\n",
       "    </tr>\n",
       "    <tr>\n",
       "      <th>2</th>\n",
       "      <td>AAAAAAAAAAAAAAAGAGAGAK</td>\n",
       "      <td>2</td>\n",
       "      <td>[0, 1, 0, 0, 0, 0]</td>\n",
       "      <td>[0, 1, 0, 0, 0, 0]</td>\n",
       "      <td>[2]</td>\n",
       "    </tr>\n",
       "    <tr>\n",
       "      <th>3</th>\n",
       "      <td>AAAAAAAAAAAAAAASGFAYPGTSER</td>\n",
       "      <td>2</td>\n",
       "      <td>[0, 1, 0, 0, 0, 0]</td>\n",
       "      <td>[0, 1, 1, 0, 0, 0]</td>\n",
       "      <td>[2, 3]</td>\n",
       "    </tr>\n",
       "    <tr>\n",
       "      <th>4</th>\n",
       "      <td>AAAAAAAAAAAAAAG</td>\n",
       "      <td>1</td>\n",
       "      <td>[1, 0, 0, 0, 0, 0]</td>\n",
       "      <td>[1, 0, 0, 0, 0, 0]</td>\n",
       "      <td>[1]</td>\n",
       "    </tr>\n",
       "  </tbody>\n",
       "</table>\n",
       "</div>"
      ],
      "text/plain": [
       "            modified_sequence  most_abundant_charge_by_count  \\\n",
       "0      AAAAAAAAAAAAAAAAGLGLGP                              2   \n",
       "1       AAAAAAAAAAAAAAAASAGGK                              2   \n",
       "2      AAAAAAAAAAAAAAAGAGAGAK                              2   \n",
       "3  AAAAAAAAAAAAAAASGFAYPGTSER                              2   \n",
       "4             AAAAAAAAAAAAAAG                              1   \n",
       "\n",
       "  most_abundant_charge_by_count_vector charge_state_vector  \\\n",
       "0                   [0, 1, 0, 0, 0, 0]  [1, 1, 1, 0, 0, 0]   \n",
       "1                   [0, 1, 0, 0, 0, 0]  [0, 1, 0, 0, 0, 0]   \n",
       "2                   [0, 1, 0, 0, 0, 0]  [0, 1, 0, 0, 0, 0]   \n",
       "3                   [0, 1, 0, 0, 0, 0]  [0, 1, 1, 0, 0, 0]   \n",
       "4                   [1, 0, 0, 0, 0, 0]  [1, 0, 0, 0, 0, 0]   \n",
       "\n",
       "  top_2_charge_states_by_count  \n",
       "0                       [2, 3]  \n",
       "1                          [2]  \n",
       "2                          [2]  \n",
       "3                       [2, 3]  \n",
       "4                          [1]  "
      ]
     },
     "execution_count": 190,
     "metadata": {},
     "output_type": "execute_result"
    }
   ],
   "source": [
    "export_df = df[[\"modified_sequence\", \"most_abundant_charge_by_count\",  \"most_abundant_charge_by_count_vector\", \"charge_state_vector\", \"top_2_charge_states_by_count\"]]\n",
    "export_df.head()"
   ]
  },
  {
   "cell_type": "code",
   "execution_count": 191,
   "metadata": {},
   "outputs": [],
   "source": [
    "export_df.to_parquet(\"dlomix/data/preprocessed_data.parquet\")"
   ]
  },
  {
   "cell_type": "code",
   "execution_count": 192,
   "metadata": {},
   "outputs": [
    {
     "data": {
      "text/html": [
       "<div>\n",
       "<style scoped>\n",
       "    .dataframe tbody tr th:only-of-type {\n",
       "        vertical-align: middle;\n",
       "    }\n",
       "\n",
       "    .dataframe tbody tr th {\n",
       "        vertical-align: top;\n",
       "    }\n",
       "\n",
       "    .dataframe thead th {\n",
       "        text-align: right;\n",
       "    }\n",
       "</style>\n",
       "<table border=\"1\" class=\"dataframe\">\n",
       "  <thead>\n",
       "    <tr style=\"text-align: right;\">\n",
       "      <th></th>\n",
       "      <th>modified_sequence</th>\n",
       "      <th>most_abundant_charge_by_count</th>\n",
       "      <th>most_abundant_charge_by_count_vector</th>\n",
       "      <th>charge_state_vector</th>\n",
       "      <th>top_2_charge_states_by_count</th>\n",
       "    </tr>\n",
       "  </thead>\n",
       "  <tbody>\n",
       "    <tr>\n",
       "      <th>0</th>\n",
       "      <td>AAAAAAAAAAAAAAAAGLGLGP</td>\n",
       "      <td>2</td>\n",
       "      <td>[0, 1, 0, 0, 0, 0]</td>\n",
       "      <td>[1, 1, 1, 0, 0, 0]</td>\n",
       "      <td>[2, 3]</td>\n",
       "    </tr>\n",
       "    <tr>\n",
       "      <th>1</th>\n",
       "      <td>AAAAAAAAAAAAAAAASAGGK</td>\n",
       "      <td>2</td>\n",
       "      <td>[0, 1, 0, 0, 0, 0]</td>\n",
       "      <td>[0, 1, 0, 0, 0, 0]</td>\n",
       "      <td>[2]</td>\n",
       "    </tr>\n",
       "    <tr>\n",
       "      <th>2</th>\n",
       "      <td>AAAAAAAAAAAAAAAGAGAGAK</td>\n",
       "      <td>2</td>\n",
       "      <td>[0, 1, 0, 0, 0, 0]</td>\n",
       "      <td>[0, 1, 0, 0, 0, 0]</td>\n",
       "      <td>[2]</td>\n",
       "    </tr>\n",
       "    <tr>\n",
       "      <th>3</th>\n",
       "      <td>AAAAAAAAAAAAAAASGFAYPGTSER</td>\n",
       "      <td>2</td>\n",
       "      <td>[0, 1, 0, 0, 0, 0]</td>\n",
       "      <td>[0, 1, 1, 0, 0, 0]</td>\n",
       "      <td>[2, 3]</td>\n",
       "    </tr>\n",
       "    <tr>\n",
       "      <th>4</th>\n",
       "      <td>AAAAAAAAAAAAAAG</td>\n",
       "      <td>1</td>\n",
       "      <td>[1, 0, 0, 0, 0, 0]</td>\n",
       "      <td>[1, 0, 0, 0, 0, 0]</td>\n",
       "      <td>[1]</td>\n",
       "    </tr>\n",
       "  </tbody>\n",
       "</table>\n",
       "</div>"
      ],
      "text/plain": [
       "            modified_sequence  most_abundant_charge_by_count  \\\n",
       "0      AAAAAAAAAAAAAAAAGLGLGP                              2   \n",
       "1       AAAAAAAAAAAAAAAASAGGK                              2   \n",
       "2      AAAAAAAAAAAAAAAGAGAGAK                              2   \n",
       "3  AAAAAAAAAAAAAAASGFAYPGTSER                              2   \n",
       "4             AAAAAAAAAAAAAAG                              1   \n",
       "\n",
       "  most_abundant_charge_by_count_vector charge_state_vector  \\\n",
       "0                   [0, 1, 0, 0, 0, 0]  [1, 1, 1, 0, 0, 0]   \n",
       "1                   [0, 1, 0, 0, 0, 0]  [0, 1, 0, 0, 0, 0]   \n",
       "2                   [0, 1, 0, 0, 0, 0]  [0, 1, 0, 0, 0, 0]   \n",
       "3                   [0, 1, 0, 0, 0, 0]  [0, 1, 1, 0, 0, 0]   \n",
       "4                   [1, 0, 0, 0, 0, 0]  [1, 0, 0, 0, 0, 0]   \n",
       "\n",
       "  top_2_charge_states_by_count  \n",
       "0                       [2, 3]  \n",
       "1                          [2]  \n",
       "2                          [2]  \n",
       "3                       [2, 3]  \n",
       "4                          [1]  "
      ]
     },
     "execution_count": 192,
     "metadata": {},
     "output_type": "execute_result"
    }
   ],
   "source": [
    "import_test = pd.read_parquet(\"dlomix/data/preprocessed_data.parquet\")\n",
    "import_test.head()"
   ]
  },
  {
   "cell_type": "code",
   "execution_count": 193,
   "metadata": {},
   "outputs": [
    {
     "data": {
      "text/plain": [
       "Index(['modified_sequence', 'precursor_charge', 'precursor_intensity',\n",
       "       'most_abundant_charge_by_count', 'most_abundant_charge_by_count_vector',\n",
       "       'charge_state_vector', 'top_2_charge_states_by_count'],\n",
       "      dtype='object')"
      ]
     },
     "execution_count": 193,
     "metadata": {},
     "output_type": "execute_result"
    }
   ],
   "source": [
    "df.columns"
   ]
  },
  {
   "cell_type": "code",
   "execution_count": null,
   "metadata": {},
   "outputs": [],
   "source": [
    "# save df \n",
    "df.to_csv(\"dlomix/data/prelim_preprocessed_data.csv\", index=False)"
   ]
  }
 ],
 "metadata": {
  "kernelspec": {
   "display_name": "pcp_env",
   "language": "python",
   "name": "python3"
  },
  "language_info": {
   "codemirror_mode": {
    "name": "ipython",
    "version": 3
   },
   "file_extension": ".py",
   "mimetype": "text/x-python",
   "name": "python",
   "nbconvert_exporter": "python",
   "pygments_lexer": "ipython3",
   "version": "3.11.8"
  }
 },
 "nbformat": 4,
 "nbformat_minor": 2
}
