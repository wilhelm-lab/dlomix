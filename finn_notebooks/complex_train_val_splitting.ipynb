{
 "cells": [
  {
   "cell_type": "code",
   "execution_count": 3,
   "metadata": {},
   "outputs": [],
   "source": [
    "import pandas as pd\n",
    "import numpy as np\n",
    "import os\n",
    "import random\n",
    "import collections"
   ]
  },
  {
   "cell_type": "code",
   "execution_count": 27,
   "metadata": {},
   "outputs": [],
   "source": [
    "parquet_path = './refinement_ETD_dont_improve_out_2/data/dlomix/refinement_dataset/processed_dataset.parquet'"
   ]
  },
  {
   "cell_type": "code",
   "execution_count": 28,
   "metadata": {},
   "outputs": [],
   "source": [
    "ds = pd.read_parquet(parquet_path)"
   ]
  },
  {
   "cell_type": "code",
   "execution_count": 4,
   "metadata": {},
   "outputs": [
    {
     "data": {
      "text/plain": [
       "61493"
      ]
     },
     "execution_count": 4,
     "metadata": {},
     "output_type": "execute_result"
    }
   ],
   "source": [
    "len(ds)"
   ]
  },
  {
   "cell_type": "code",
   "execution_count": 6,
   "metadata": {},
   "outputs": [
    {
     "data": {
      "text/plain": [
       "Index(['modified_sequence', 'precursor_charge_onehot',\n",
       "       'collision_energy_aligned_normed', 'method_nbr', 'intensities_raw',\n",
       "       'sequence', 'raw_file', 'scan_number'],\n",
       "      dtype='object')"
      ]
     },
     "execution_count": 6,
     "metadata": {},
     "output_type": "execute_result"
    }
   ],
   "source": [
    "ds.columns"
   ]
  },
  {
   "cell_type": "code",
   "execution_count": 7,
   "metadata": {},
   "outputs": [
    {
     "data": {
      "text/html": [
       "<div>\n",
       "<style scoped>\n",
       "    .dataframe tbody tr th:only-of-type {\n",
       "        vertical-align: middle;\n",
       "    }\n",
       "\n",
       "    .dataframe tbody tr th {\n",
       "        vertical-align: top;\n",
       "    }\n",
       "\n",
       "    .dataframe thead th {\n",
       "        text-align: right;\n",
       "    }\n",
       "</style>\n",
       "<table border=\"1\" class=\"dataframe\">\n",
       "  <thead>\n",
       "    <tr style=\"text-align: right;\">\n",
       "      <th></th>\n",
       "      <th>modified_sequence</th>\n",
       "      <th>precursor_charge_onehot</th>\n",
       "      <th>collision_energy_aligned_normed</th>\n",
       "      <th>method_nbr</th>\n",
       "      <th>intensities_raw</th>\n",
       "      <th>sequence</th>\n",
       "      <th>raw_file</th>\n",
       "      <th>scan_number</th>\n",
       "    </tr>\n",
       "  </thead>\n",
       "  <tbody>\n",
       "    <tr>\n",
       "      <th>0</th>\n",
       "      <td>AAVLERLVDI</td>\n",
       "      <td>[0, 1, 0, 0, 0, 0]</td>\n",
       "      <td>35</td>\n",
       "      <td>3</td>\n",
       "      <td>[0.0, 0.0, -1.0, 0.0, 0.0, -1.0, 0.0, 0.0, -1....</td>\n",
       "      <td>AAVLERLVDI</td>\n",
       "      <td>02445b_BA8-TUM_HLA_8_01_01-ETD-1h-R1</td>\n",
       "      <td>12242</td>\n",
       "    </tr>\n",
       "    <tr>\n",
       "      <th>1</th>\n",
       "      <td>AAVLERLVDI</td>\n",
       "      <td>[0, 1, 0, 0, 0, 0]</td>\n",
       "      <td>35</td>\n",
       "      <td>3</td>\n",
       "      <td>[0.0, 0.0, -1.0, 0.0, 0.0, -1.0, 0.0, 0.0, -1....</td>\n",
       "      <td>AAVLERLVDI</td>\n",
       "      <td>02445b_BA8-TUM_HLA_8_01_01-ETD-1h-R1</td>\n",
       "      <td>12252</td>\n",
       "    </tr>\n",
       "    <tr>\n",
       "      <th>2</th>\n",
       "      <td>AAVLERLVDI</td>\n",
       "      <td>[0, 1, 0, 0, 0, 0]</td>\n",
       "      <td>35</td>\n",
       "      <td>3</td>\n",
       "      <td>[0.0, 0.0, -1.0, 0.0, 0.0, -1.0, 0.0, 0.0, -1....</td>\n",
       "      <td>AAVLERLVDI</td>\n",
       "      <td>02445b_BA8-TUM_HLA_8_01_01-ETD-1h-R1</td>\n",
       "      <td>12265</td>\n",
       "    </tr>\n",
       "    <tr>\n",
       "      <th>3</th>\n",
       "      <td>AAVLERLVDI</td>\n",
       "      <td>[0, 1, 0, 0, 0, 0]</td>\n",
       "      <td>35</td>\n",
       "      <td>3</td>\n",
       "      <td>[0.0, 0.0, -1.0, 0.0, 0.0, -1.0, 0.0, 0.0, -1....</td>\n",
       "      <td>AAVLERLVDI</td>\n",
       "      <td>02445b_BA8-TUM_HLA_8_01_01-ETD-1h-R1</td>\n",
       "      <td>12278</td>\n",
       "    </tr>\n",
       "    <tr>\n",
       "      <th>4</th>\n",
       "      <td>AAVLERLVDI</td>\n",
       "      <td>[0, 1, 0, 0, 0, 0]</td>\n",
       "      <td>35</td>\n",
       "      <td>3</td>\n",
       "      <td>[0.0, 0.0, -1.0, 0.0, 0.0, -1.0, 0.0, 0.0, -1....</td>\n",
       "      <td>AAVLERLVDI</td>\n",
       "      <td>02445b_BA8-TUM_HLA_8_01_01-ETD-1h-R1</td>\n",
       "      <td>12294</td>\n",
       "    </tr>\n",
       "  </tbody>\n",
       "</table>\n",
       "</div>"
      ],
      "text/plain": [
       "  modified_sequence precursor_charge_onehot  collision_energy_aligned_normed  \\\n",
       "0        AAVLERLVDI      [0, 1, 0, 0, 0, 0]                               35   \n",
       "1        AAVLERLVDI      [0, 1, 0, 0, 0, 0]                               35   \n",
       "2        AAVLERLVDI      [0, 1, 0, 0, 0, 0]                               35   \n",
       "3        AAVLERLVDI      [0, 1, 0, 0, 0, 0]                               35   \n",
       "4        AAVLERLVDI      [0, 1, 0, 0, 0, 0]                               35   \n",
       "\n",
       "   method_nbr                                    intensities_raw    sequence  \\\n",
       "0           3  [0.0, 0.0, -1.0, 0.0, 0.0, -1.0, 0.0, 0.0, -1....  AAVLERLVDI   \n",
       "1           3  [0.0, 0.0, -1.0, 0.0, 0.0, -1.0, 0.0, 0.0, -1....  AAVLERLVDI   \n",
       "2           3  [0.0, 0.0, -1.0, 0.0, 0.0, -1.0, 0.0, 0.0, -1....  AAVLERLVDI   \n",
       "3           3  [0.0, 0.0, -1.0, 0.0, 0.0, -1.0, 0.0, 0.0, -1....  AAVLERLVDI   \n",
       "4           3  [0.0, 0.0, -1.0, 0.0, 0.0, -1.0, 0.0, 0.0, -1....  AAVLERLVDI   \n",
       "\n",
       "                               raw_file  scan_number  \n",
       "0  02445b_BA8-TUM_HLA_8_01_01-ETD-1h-R1        12242  \n",
       "1  02445b_BA8-TUM_HLA_8_01_01-ETD-1h-R1        12252  \n",
       "2  02445b_BA8-TUM_HLA_8_01_01-ETD-1h-R1        12265  \n",
       "3  02445b_BA8-TUM_HLA_8_01_01-ETD-1h-R1        12278  \n",
       "4  02445b_BA8-TUM_HLA_8_01_01-ETD-1h-R1        12294  "
      ]
     },
     "execution_count": 7,
     "metadata": {},
     "output_type": "execute_result"
    }
   ],
   "source": [
    "ds.head()"
   ]
  },
  {
   "cell_type": "code",
   "execution_count": 9,
   "metadata": {},
   "outputs": [],
   "source": [
    "def argshuffle_splits(idx, traininsplit):\n",
    "    train_idx = list(np.random.permutation(idx[:traininsplit]))\n",
    "    test_idx = list(np.random.permutation(idx[traininsplit:]))\n",
    "    return train_idx, test_idx\n",
    "\n",
    "def peptide_argsort(sequence_integer, seed=42):\n",
    "    random.seed(seed)\n",
    "    peptide_groups = collections.defaultdict(list)\n",
    "    for index, row in enumerate(sequence_integer):\n",
    "        peptide_groups[tuple(row)].append(index)\n",
    "\n",
    "    # shuffle within peptides\n",
    "    for indeces in peptide_groups.values():\n",
    "        random.shuffle(indeces)\n",
    "\n",
    "    # shuffle peptides\n",
    "    peptides = list(peptide_groups.keys())\n",
    "    random.shuffle(peptides)\n",
    "\n",
    "    # join indeces\n",
    "    indeces = []\n",
    "    for peptide in peptides:\n",
    "        indeces.extend(peptide_groups[peptide])\n",
    "    return indeces"
   ]
  },
  {
   "cell_type": "code",
   "execution_count": 15,
   "metadata": {},
   "outputs": [],
   "source": [
    "sequence = ds['modified_sequence']\n",
    "n = sequence.shape[0]"
   ]
  },
  {
   "cell_type": "code",
   "execution_count": 17,
   "metadata": {},
   "outputs": [
    {
     "name": "stdout",
     "output_type": "stream",
     "text": [
      "training split at:  43045 / 61493\n",
      "shuffling peptides\n"
     ]
    }
   ],
   "source": [
    "n_split = int(n * float(0.7))\n",
    "print(\"training split at: \", n_split, \"/\", n)\n",
    "print(\"shuffling peptides\")\n",
    "idx = peptide_argsort(sequence, seed=42)"
   ]
  },
  {
   "cell_type": "code",
   "execution_count": 19,
   "metadata": {},
   "outputs": [
    {
     "name": "stdout",
     "output_type": "stream",
     "text": [
      "shuffling train and test\n"
     ]
    }
   ],
   "source": [
    "print(\"shuffling train and test\")\n",
    "train_idx, test_idx = argshuffle_splits(idx, n_split)"
   ]
  },
  {
   "cell_type": "code",
   "execution_count": 20,
   "metadata": {},
   "outputs": [
    {
     "data": {
      "text/plain": [
       "(43045, 18448)"
      ]
     },
     "execution_count": 20,
     "metadata": {},
     "output_type": "execute_result"
    }
   ],
   "source": [
    "len(train_idx), len(test_idx)"
   ]
  },
  {
   "cell_type": "code",
   "execution_count": 22,
   "metadata": {},
   "outputs": [],
   "source": [
    "ds_train = ds.iloc[train_idx, :]\n",
    "ds_val = ds.iloc[test_idx, :]"
   ]
  },
  {
   "cell_type": "code",
   "execution_count": 24,
   "metadata": {},
   "outputs": [],
   "source": [
    "train_seqs = set(ds_train['modified_sequence'])\n",
    "val_seqs = set(ds_val['modified_sequence'])"
   ]
  },
  {
   "cell_type": "code",
   "execution_count": 1,
   "metadata": {},
   "outputs": [
    {
     "name": "stderr",
     "output_type": "stream",
     "text": [
      "2024-08-20 15:59:14.691458: E external/local_xla/xla/stream_executor/cuda/cuda_dnn.cc:9261] Unable to register cuDNN factory: Attempting to register factory for plugin cuDNN when one has already been registered\n",
      "2024-08-20 15:59:14.691501: E external/local_xla/xla/stream_executor/cuda/cuda_fft.cc:607] Unable to register cuFFT factory: Attempting to register factory for plugin cuFFT when one has already been registered\n",
      "2024-08-20 15:59:14.693221: E external/local_xla/xla/stream_executor/cuda/cuda_blas.cc:1515] Unable to register cuBLAS factory: Attempting to register factory for plugin cuBLAS when one has already been registered\n",
      "2024-08-20 15:59:14.701680: I tensorflow/core/platform/cpu_feature_guard.cc:182] This TensorFlow binary is optimized to use available CPU instructions in performance-critical operations.\n",
      "To enable the following instructions: AVX2 FMA, in other operations, rebuild TensorFlow with the appropriate compiler flags.\n",
      "2024-08-20 15:59:17.235025: W tensorflow/compiler/tf2tensorrt/utils/py_utils.cc:38] TF-TRT Warning: Could not find TensorRT\n",
      "/cmnfs/home/f.kapitza/miniconda3/envs/dlomix/lib/python3.10/site-packages/tqdm/auto.py:21: TqdmWarning: IProgress not found. Please update jupyter and ipywidgets. See https://ipywidgets.readthedocs.io/en/stable/user_install.html\n",
      "  from .autonotebook import tqdm as notebook_tqdm\n"
     ]
    }
   ],
   "source": [
    "from dlomix.interface import process_dataset, load_keras_model\n",
    "import os"
   ]
  },
  {
   "cell_type": "code",
   "execution_count": 2,
   "metadata": {},
   "outputs": [],
   "source": [
    "os.environ['CUDA_VISIBLE_DEVICES'] = '3'"
   ]
  },
  {
   "cell_type": "code",
   "execution_count": 3,
   "metadata": {},
   "outputs": [
    {
     "name": "stderr",
     "output_type": "stream",
     "text": [
      "2024-08-20 15:59:22.953719: I tensorflow/core/common_runtime/gpu/gpu_device.cc:1929] Created device /job:localhost/replica:0/task:0/device:GPU:0 with 7297 MB memory:  -> device: 0, name: NVIDIA GeForce GTX 1080, pci bus id: 0000:82:00.0, compute capability: 6.1\n"
     ]
    }
   ],
   "source": [
    "model = load_keras_model('baseline')"
   ]
  },
  {
   "cell_type": "code",
   "execution_count": 4,
   "metadata": {},
   "outputs": [
    {
     "name": "stderr",
     "output_type": "stream",
     "text": [
      "\n",
      "            There are new tokens in the dataset, which are not supported by the loaded model.\n",
      "            Either load a different model or transfer learning needs to be done.\n",
      "            \n",
      "Mapping SequenceParsingProcessor: 100%|██████████| 268383/268383 [00:21<00:00, 12367.96 examples/s]\n",
      "Mapping SequenceParsingProcessor: 100%|██████████| 67096/67096 [00:05<00:00, 12099.01 examples/s]\n",
      "Mapping SequenceEncodingProcessor: 100%|██████████| 268383/268383 [00:13<00:00, 19838.53 examples/s]\n",
      "Mapping SequenceEncodingProcessor: 100%|██████████| 67096/67096 [00:03<00:00, 18213.47 examples/s]\n",
      "Mapping SequencePaddingProcessor: 100%|██████████| 268383/268383 [00:12<00:00, 20864.20 examples/s]\n",
      "Mapping SequencePaddingProcessor: 100%|██████████| 67096/67096 [00:03<00:00, 19796.70 examples/s]\n",
      "Filter: 100%|██████████| 268383/268383 [00:00<00:00, 509865.21 examples/s]\n",
      "Filter: 100%|██████████| 67096/67096 [00:00<00:00, 450652.90 examples/s]\n",
      "Casting the dataset: 100%|██████████| 268383/268383 [00:47<00:00, 5611.76 examples/s]\n",
      "Casting the dataset: 100%|██████████| 67096/67096 [00:12<00:00, 5492.52 examples/s]\n"
     ]
    }
   ],
   "source": [
    "proc_ds = process_dataset(\n",
    "    parquet_file_path='/cmnfs/data/proteomics/Prosit_PTMs/TUM_mod_monomethyl.parquet',\n",
    "    model=model,\n",
    "    modifications=['K[UNIMOD:34]', 'R[UNIMOD:34]']\n",
    ")"
   ]
  },
  {
   "cell_type": "code",
   "execution_count": 11,
   "metadata": {},
   "outputs": [],
   "source": [
    "train_seqs = [''.join(seq) for seq in proc_ds['train']['_parsed_sequence']]"
   ]
  },
  {
   "cell_type": "code",
   "execution_count": 12,
   "metadata": {},
   "outputs": [],
   "source": [
    "val_seqs = [''.join(seq) for seq in proc_ds['val']['_parsed_sequence']]"
   ]
  },
  {
   "cell_type": "code",
   "execution_count": 14,
   "metadata": {},
   "outputs": [
    {
     "data": {
      "text/plain": [
       "(268383, 67096)"
      ]
     },
     "execution_count": 14,
     "metadata": {},
     "output_type": "execute_result"
    }
   ],
   "source": [
    "len(train_seqs), len(val_seqs)"
   ]
  },
  {
   "cell_type": "code",
   "execution_count": 15,
   "metadata": {},
   "outputs": [
    {
     "data": {
      "text/plain": [
       "1"
      ]
     },
     "execution_count": 15,
     "metadata": {},
     "output_type": "execute_result"
    }
   ],
   "source": [
    "len(set(train_seqs) & set(val_seqs))"
   ]
  },
  {
   "cell_type": "markdown",
   "metadata": {},
   "source": [
    "### -> works "
   ]
  }
 ],
 "metadata": {
  "kernelspec": {
   "display_name": "dlomix",
   "language": "python",
   "name": "python3"
  },
  "language_info": {
   "codemirror_mode": {
    "name": "ipython",
    "version": 3
   },
   "file_extension": ".py",
   "mimetype": "text/x-python",
   "name": "python",
   "nbconvert_exporter": "python",
   "pygments_lexer": "ipython3",
   "version": "3.10.0"
  }
 },
 "nbformat": 4,
 "nbformat_minor": 2
}
