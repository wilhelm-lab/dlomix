{
 "cells": [
  {
   "cell_type": "code",
   "execution_count": 8,
   "metadata": {},
   "outputs": [],
   "source": [
    "import pandas as pd\n",
    "import pyarrow.parquet as pq\n",
    "import random"
   ]
  },
  {
   "cell_type": "markdown",
   "metadata": {},
   "source": [
    "Create a toy dataset which has only half of the intensities to test changed output layer"
   ]
  },
  {
   "cell_type": "code",
   "execution_count": 14,
   "metadata": {},
   "outputs": [],
   "source": [
    "inpath = '/cmnfs/proj/prosit_astral/bmpc_dlomix_group/datasets/parquet/noptm_baseline_small'\n",
    "outpath = '/cmnfs/proj/prosit_astral/bmpc_dlomix_group/datasets/parquet/transfer_learning_toy_dataset/half_intesities'\n",
    "dataset_types = ['train', 'val', 'test'] \n",
    "\n",
    "for data_type in dataset_types:\n",
    "    dataset = pd.read_parquet(f'{inpath}_{data_type}.parquet')\n",
    "    # cut number of intensities in half\n",
    "    dataset.loc[:, 'intensities_raw'] = dataset.loc[:, 'intensities_raw'].apply(lambda intensities: intensities[:87])\n",
    "    dataset.reset_index(inplace=True)\n",
    "    dataset.drop(columns=['index'], inplace=True)\n",
    "    dataset.to_parquet(f'{outpath}_{data_type}.parquet', index=False)"
   ]
  },
  {
   "cell_type": "markdown",
   "metadata": {},
   "source": [
    "Create a toy dataset which has a the arbitrary modification M[UNIMOD:999] in some sequences"
   ]
  },
  {
   "cell_type": "code",
   "execution_count": 1,
   "metadata": {},
   "outputs": [],
   "source": [
    "inpath = '/cmnfs/proj/prosit_astral/bmpc_dlomix_group/datasets/parquet/noptm_baseline_small'\n",
    "outpath = '/cmnfs/proj/prosit_astral/bmpc_dlomix_group/datasets/parquet/transfer_learning_toy_dataset/new_modification'\n",
    "dataset_types = ['train', 'val', 'test'] "
   ]
  },
  {
   "cell_type": "code",
   "execution_count": 49,
   "metadata": {},
   "outputs": [],
   "source": [
    "def insert_modification(seq, prob: float = 1):\n",
    "    if 'UNIMOD' in seq:\n",
    "        return seq\n",
    "    if random.random() > prob:\n",
    "        return seq\n",
    "    \n",
    "    idx = random.randint(3, len(seq) - 3)\n",
    "    return seq[:idx] + 'M[UNIMOD:999]' + seq[idx:]"
   ]
  },
  {
   "cell_type": "code",
   "execution_count": 56,
   "metadata": {},
   "outputs": [],
   "source": [
    "for data_type in dataset_types:\n",
    "    dataset = pd.read_parquet(f'{inpath}_{data_type}.parquet')\n",
    "    # insert the arbitrary modification M[UNIMOD:999] in 10% of unmodified sequences\n",
    "    dataset.loc[:, 'modified_sequence'] = dataset.loc[:, 'modified_sequence'].apply(insert_modification, prob=0.1)\n",
    "    dataset.reset_index(inplace=True)\n",
    "    dataset.drop(columns=['index'], inplace=True)\n",
    "    dataset.to_parquet(f'{outpath}_{data_type}.parquet', index=False)"
   ]
  },
  {
   "cell_type": "code",
   "execution_count": null,
   "metadata": {},
   "outputs": [],
   "source": []
  }
 ],
 "metadata": {
  "kernelspec": {
   "display_name": "dlomix",
   "language": "python",
   "name": "python3"
  },
  "language_info": {
   "codemirror_mode": {
    "name": "ipython",
    "version": 3
   },
   "file_extension": ".py",
   "mimetype": "text/x-python",
   "name": "python",
   "nbconvert_exporter": "python",
   "pygments_lexer": "ipython3",
   "version": "3.10.0"
  }
 },
 "nbformat": 4,
 "nbformat_minor": 2
}
