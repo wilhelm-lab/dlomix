{
 "cells": [
  {
   "cell_type": "code",
   "execution_count": 1,
   "metadata": {},
   "outputs": [
    {
     "name": "stdout",
     "output_type": "stream",
     "text": [
      "\n",
      "Avaliable feature extractors are (use the key of the following dict and pass it to features_to_extract in the Dataset Class):\n",
      "{\n",
      "   \"atom_count\": \"Atom count of PTM.\",\n",
      "   \"delta_mass\": \"Delta mass of PTM.\",\n",
      "   \"mod_gain\": \"Gain of atoms due to PTM.\",\n",
      "   \"mod_loss\": \"Loss of atoms due to PTM.\",\n",
      "   \"red_smiles\": \"Reduced SMILES representation of PTM.\"\n",
      "}.\n",
      "When writing your own feature extractor, you can either\n",
      "    (1) use the FeatureExtractor class or\n",
      "    (2) write a function that can be mapped to the Hugging Face dataset.\n",
      "In both cases, you can access the parsed sequence information from the dataset using the following keys, which all provide python lists:\n",
      "    - _parsed_sequence: parsed sequence\n",
      "    - _n_term_mods: N-terminal modifications\n",
      "    - _c_term_mods: C-terminal modifications\n",
      "\n"
     ]
    }
   ],
   "source": [
    "import os\n",
    "from oktoberfest.runner import run_job\n",
    "import json\n",
    "from tqdm import tqdm"
   ]
  },
  {
   "cell_type": "code",
   "execution_count": 2,
   "metadata": {},
   "outputs": [],
   "source": [
    "%load_ext autoreload\n",
    "%autoreload 2"
   ]
  },
  {
   "cell_type": "code",
   "execution_count": 3,
   "metadata": {},
   "outputs": [
    {
     "name": "stdout",
     "output_type": "stream",
     "text": [
      "2024-08-09 11:59:16,040 - INFO - oktoberfest.utils.config::read Reading configuration from ./configs/rescoring_etd_config.json\n",
      "2024-08-09 11:59:16,047 - INFO - oktoberfest.runner::run_job Oktoberfest version 0.7.0\n",
      "Copyright 2024, Wilhelmlab at Technical University of Munich\n",
      "2024-08-09 11:59:16,049 - INFO - oktoberfest.runner::run_job Job executed with the following config:\n",
      "2024-08-09 11:59:16,051 - INFO - oktoberfest.runner::run_job {\n",
      "    \"type\": \"Rescoring\",\n",
      "    \"tag\": \"\",\n",
      "    \"inputs\": {\n",
      "        \"search_results\": \"/cmnfs/data/proteomics/ProteomeTools/ETD/MQ/TUM_HLA2_30_01_01/ETD-1h-R1-unspecific/ETD-1h-R1-unspecific/combined/txt\",\n",
      "        \"search_results_type\": \"Maxquant\",\n",
      "        \"spectra\": \"/cmnfs/data/proteomics/ProteomeTools/ETD/raw\",\n",
      "        \"spectra_type\": \"raw\"\n",
      "    },\n",
      "    \"output\": \"../rescoring_out\",\n",
      "    \"models\": {\n",
      "        \"intensity\": \"/cmnfs/proj/bmpc_dlomix/oktoberfest_output/out2/data/dlomix/refined.keras\",\n",
      "        \"irt\": \"Prosit_2019_irt\"\n",
      "    },\n",
      "    \"thermoExe\": \"/cmnfs/home/students/j.schlensok/compomics/ThermoRawFileParser.exe\",\n",
      "    \"numThreads\": 1,\n",
      "    \"fdr_estimation_method\": \"percolator\",\n",
      "    \"regressionMethod\": \"spline\",\n",
      "    \"allFeatures\": false,\n",
      "    \"massTolerance\": 20,\n",
      "    \"unitMassTolerance\": \"ppm\",\n",
      "    \"fragmentation_method\": \"ETD\"\n",
      "}\n",
      "2024-08-09 11:59:16,052 - INFO - oktoberfest.utils.config::read Reading configuration from ./configs/rescoring_etd_config.json\n",
      "2024-08-09 11:59:16,067 - INFO - oktoberfest.preprocessing.preprocessing::list_spectra Found 1733 raw files in the spectra input directory.\n",
      "2024-08-09 11:59:16,070 - INFO - oktoberfest.utils.process_step::is_done Skipping preprocessing_search step because configs/../rescoring_out/proc/preprocessing_search.done was found.\n"
     ]
    },
    {
     "name": "stderr",
     "output_type": "stream",
     "text": [
      "/cmnfs/home/f.kapitza/miniconda3/envs/mapra_pipeline/lib/python3.10/site-packages/oktoberfest/predict/alignment.py:29: FutureWarning: The default of observed=False is deprecated and will be changed to True in a future version of pandas. Pass observed=False to retain current behavior or observed=True to adopt the future default and silence this warning.\n",
      "  hcd_targets = hcd_targets.sort_values(by=\"SCORE\", ascending=False).groupby(\"RAW_FILE\")\n"
     ]
    },
    {
     "ename": "ValueError",
     "evalue": "Unknown fragmentation method provided: ELECTRON TRANSFER DISSOCIATION",
     "output_type": "error",
     "traceback": [
      "\u001b[0;31m---------------------------------------------------------------------------\u001b[0m",
      "\u001b[0;31mValueError\u001b[0m                                Traceback (most recent call last)",
      "Cell \u001b[0;32mIn[3], line 1\u001b[0m\n\u001b[0;32m----> 1\u001b[0m runner \u001b[38;5;241m=\u001b[39m \u001b[43mrun_job\u001b[49m\u001b[43m(\u001b[49m\u001b[38;5;124;43m'\u001b[39;49m\u001b[38;5;124;43m./configs/rescoring_etd_config.json\u001b[39;49m\u001b[38;5;124;43m'\u001b[39;49m\u001b[43m)\u001b[49m\n",
      "File \u001b[0;32m~/miniconda3/envs/mapra_pipeline/lib/python3.10/site-packages/oktoberfest/runner.py:771\u001b[0m, in \u001b[0;36mrun_job\u001b[0;34m(config_path)\u001b[0m\n\u001b[1;32m    769\u001b[0m     run_ce_calibration(config_path)\n\u001b[1;32m    770\u001b[0m \u001b[38;5;28;01melif\u001b[39;00m job_type \u001b[38;5;241m==\u001b[39m \u001b[38;5;124m\"\u001b[39m\u001b[38;5;124mRescoring\u001b[39m\u001b[38;5;124m\"\u001b[39m:\n\u001b[0;32m--> 771\u001b[0m     \u001b[43mrun_rescoring\u001b[49m\u001b[43m(\u001b[49m\u001b[43mconfig_path\u001b[49m\u001b[43m)\u001b[49m\n\u001b[1;32m    772\u001b[0m \u001b[38;5;28;01melse\u001b[39;00m:\n\u001b[1;32m    773\u001b[0m     \u001b[38;5;28;01mraise\u001b[39;00m \u001b[38;5;167;01mValueError\u001b[39;00m(\u001b[38;5;124mf\u001b[39m\u001b[38;5;124m\"\u001b[39m\u001b[38;5;124mUnknown job_type in config: \u001b[39m\u001b[38;5;132;01m{\u001b[39;00mjob_type\u001b[38;5;132;01m}\u001b[39;00m\u001b[38;5;124m\"\u001b[39m)\n",
      "File \u001b[0;32m~/miniconda3/envs/mapra_pipeline/lib/python3.10/site-packages/oktoberfest/runner.py:691\u001b[0m, in \u001b[0;36mrun_rescoring\u001b[0;34m(config_path)\u001b[0m\n\u001b[1;32m    689\u001b[0m \u001b[38;5;28;01melse\u001b[39;00m:\n\u001b[1;32m    690\u001b[0m     \u001b[38;5;28;01mfor\u001b[39;00m spectra_file \u001b[38;5;129;01min\u001b[39;00m spectra_files:\n\u001b[0;32m--> 691\u001b[0m         _ \u001b[38;5;241m=\u001b[39m \u001b[43m_ce_calib\u001b[49m\u001b[43m(\u001b[49m\u001b[43mspectra_file\u001b[49m\u001b[43m,\u001b[49m\u001b[43m \u001b[49m\u001b[43mconfig\u001b[49m\u001b[43m)\u001b[49m\n\u001b[1;32m    693\u001b[0m \u001b[38;5;28;01mif\u001b[39;00m config\u001b[38;5;241m.\u001b[39mdo_refinement_learning:\n\u001b[1;32m    694\u001b[0m     _refinement_learn(spectra_files, config)\n",
      "File \u001b[0;32m~/miniconda3/envs/mapra_pipeline/lib/python3.10/site-packages/oktoberfest/runner.py:496\u001b[0m, in \u001b[0;36m_ce_calib\u001b[0;34m(spectra_file, config)\u001b[0m\n\u001b[1;32m    494\u001b[0m     tims_meta_file \u001b[38;5;241m=\u001b[39m config\u001b[38;5;241m.\u001b[39moutput \u001b[38;5;241m/\u001b[39m \u001b[38;5;124m\"\u001b[39m\u001b[38;5;124mmsms\u001b[39m\u001b[38;5;124m\"\u001b[39m \u001b[38;5;241m/\u001b[39m spectra_file\u001b[38;5;241m.\u001b[39mwith_suffix(\u001b[38;5;124m\"\u001b[39m\u001b[38;5;124m.timsmeta\u001b[39m\u001b[38;5;124m\"\u001b[39m)\u001b[38;5;241m.\u001b[39mname\n\u001b[1;32m    495\u001b[0m aspec \u001b[38;5;241m=\u001b[39m _annotate_and_get_library(spectra_file, config, tims_meta_file\u001b[38;5;241m=\u001b[39mtims_meta_file)\n\u001b[0;32m--> 496\u001b[0m \u001b[43m_get_best_ce\u001b[49m\u001b[43m(\u001b[49m\u001b[43maspec\u001b[49m\u001b[43m,\u001b[49m\u001b[43m \u001b[49m\u001b[43mspectra_file\u001b[49m\u001b[43m,\u001b[49m\u001b[43m \u001b[49m\u001b[43mconfig\u001b[49m\u001b[43m)\u001b[49m\n\u001b[1;32m    498\u001b[0m aspec\u001b[38;5;241m.\u001b[39mwrite_as_hdf5(config\u001b[38;5;241m.\u001b[39moutput \u001b[38;5;241m/\u001b[39m \u001b[38;5;124m\"\u001b[39m\u001b[38;5;124mdata\u001b[39m\u001b[38;5;124m\"\u001b[39m \u001b[38;5;241m/\u001b[39m spectra_file\u001b[38;5;241m.\u001b[39mwith_suffix(\u001b[38;5;124m\"\u001b[39m\u001b[38;5;124m.mzml.pred.hdf5\u001b[39m\u001b[38;5;124m\"\u001b[39m)\u001b[38;5;241m.\u001b[39mname)\n\u001b[1;32m    500\u001b[0m ce_calib_step\u001b[38;5;241m.\u001b[39mmark_done()\n",
      "File \u001b[0;32m~/miniconda3/envs/mapra_pipeline/lib/python3.10/site-packages/oktoberfest/runner.py:169\u001b[0m, in \u001b[0;36m_get_best_ce\u001b[0;34m(library, spectra_file, config)\u001b[0m\n\u001b[1;32m    167\u001b[0m use_ransac_model \u001b[38;5;241m=\u001b[39m config\u001b[38;5;241m.\u001b[39muse_ransac_model\n\u001b[1;32m    168\u001b[0m predictor \u001b[38;5;241m=\u001b[39m pr\u001b[38;5;241m.\u001b[39mPredictor\u001b[38;5;241m.\u001b[39mfrom_config(config, model_type\u001b[38;5;241m=\u001b[39m\u001b[38;5;124m\"\u001b[39m\u001b[38;5;124mintensity\u001b[39m\u001b[38;5;124m\"\u001b[39m)\n\u001b[0;32m--> 169\u001b[0m alignment_library \u001b[38;5;241m=\u001b[39m \u001b[43mpredictor\u001b[49m\u001b[38;5;241;43m.\u001b[39;49m\u001b[43mce_calibration\u001b[49m\u001b[43m(\u001b[49m\n\u001b[1;32m    170\u001b[0m \u001b[43m    \u001b[49m\u001b[43mlibrary\u001b[49m\u001b[43m,\u001b[49m\n\u001b[1;32m    171\u001b[0m \u001b[43m    \u001b[49m\u001b[43mconfig\u001b[49m\u001b[38;5;241;43m.\u001b[39;49m\u001b[43mce_range\u001b[49m\u001b[43m,\u001b[49m\n\u001b[1;32m    172\u001b[0m \u001b[43m    \u001b[49m\u001b[43muse_ransac_model\u001b[49m\u001b[43m,\u001b[49m\n\u001b[1;32m    173\u001b[0m \u001b[43m    \u001b[49m\u001b[43mmodel_name\u001b[49m\u001b[38;5;241;43m=\u001b[39;49m\u001b[38;5;124;43m\"\u001b[39;49m\u001b[38;5;124;43mintensity\u001b[39;49m\u001b[38;5;124;43m\"\u001b[39;49m\u001b[43m,\u001b[49m\n\u001b[1;32m    174\u001b[0m \u001b[43m    \u001b[49m\u001b[43mdataset_name\u001b[49m\u001b[38;5;241;43m=\u001b[39;49m\u001b[43mspectra_file\u001b[49m\u001b[38;5;241;43m.\u001b[39;49m\u001b[43mstem\u001b[49m\u001b[43m \u001b[49m\u001b[38;5;241;43m+\u001b[39;49m\u001b[43m \u001b[49m\u001b[38;5;124;43m\"\u001b[39;49m\u001b[38;5;124;43m_ce_calibration\u001b[39;49m\u001b[38;5;124;43m\"\u001b[39;49m\u001b[43m,\u001b[49m\n\u001b[1;32m    175\u001b[0m \u001b[43m\u001b[49m\u001b[43m)\u001b[49m\n\u001b[1;32m    177\u001b[0m \u001b[38;5;28;01mif\u001b[39;00m use_ransac_model:\n\u001b[1;32m    178\u001b[0m     logger\u001b[38;5;241m.\u001b[39minfo(\u001b[38;5;124m\"\u001b[39m\u001b[38;5;124mPerforming RANSAC regression\u001b[39m\u001b[38;5;124m\"\u001b[39m)\n",
      "File \u001b[0;32m~/miniconda3/envs/mapra_pipeline/lib/python3.10/site-packages/oktoberfest/predict/predictor.py:191\u001b[0m, in \u001b[0;36mPredictor.ce_calibration\u001b[0;34m(self, library, ce_range, group_by_charge, model_name, **kwargs)\u001b[0m\n\u001b[1;32m    173\u001b[0m \u001b[38;5;28;01mdef\u001b[39;00m \u001b[38;5;21mce_calibration\u001b[39m(\n\u001b[1;32m    174\u001b[0m     \u001b[38;5;28mself\u001b[39m, library: Spectra, ce_range: \u001b[38;5;28mtuple\u001b[39m[\u001b[38;5;28mint\u001b[39m, \u001b[38;5;28mint\u001b[39m], group_by_charge: \u001b[38;5;28mbool\u001b[39m, model_name: \u001b[38;5;28mstr\u001b[39m, \u001b[38;5;241m*\u001b[39m\u001b[38;5;241m*\u001b[39mkwargs\n\u001b[1;32m    175\u001b[0m ) \u001b[38;5;241m-\u001b[39m\u001b[38;5;241m>\u001b[39m Spectra:\n\u001b[1;32m    176\u001b[0m \u001b[38;5;250m    \u001b[39m\u001b[38;5;124;03m\"\"\"\u001b[39;00m\n\u001b[1;32m    177\u001b[0m \u001b[38;5;124;03m    Calculate best collision energy for peptide property predictions.\u001b[39;00m\n\u001b[1;32m    178\u001b[0m \n\u001b[0;32m   (...)\u001b[0m\n\u001b[1;32m    189\u001b[0m \u001b[38;5;124;03m    :return: a spectra object containing the spectral angle for each tested CE\u001b[39;00m\n\u001b[1;32m    190\u001b[0m \u001b[38;5;124;03m    \"\"\"\u001b[39;00m\n\u001b[0;32m--> 191\u001b[0m     alignment_library \u001b[38;5;241m=\u001b[39m \u001b[43m_prepare_alignment_df\u001b[49m\u001b[43m(\u001b[49m\u001b[43mlibrary\u001b[49m\u001b[43m,\u001b[49m\u001b[43m \u001b[49m\u001b[43mce_range\u001b[49m\u001b[38;5;241;43m=\u001b[39;49m\u001b[43mce_range\u001b[49m\u001b[43m,\u001b[49m\u001b[43m \u001b[49m\u001b[43mgroup_by_charge\u001b[49m\u001b[38;5;241;43m=\u001b[39;49m\u001b[43mgroup_by_charge\u001b[49m\u001b[43m)\u001b[49m\n\u001b[1;32m    193\u001b[0m     \u001b[38;5;28;01mif\u001b[39;00m \u001b[38;5;124m\"\u001b[39m\u001b[38;5;124malphapept\u001b[39m\u001b[38;5;124m\"\u001b[39m \u001b[38;5;129;01min\u001b[39;00m model_name\u001b[38;5;241m.\u001b[39mlower():\n\u001b[1;32m    194\u001b[0m         chunk_idx \u001b[38;5;241m=\u001b[39m \u001b[38;5;28mlist\u001b[39m(group_iterator(df\u001b[38;5;241m=\u001b[39malignment_library\u001b[38;5;241m.\u001b[39mobs, group_by_column\u001b[38;5;241m=\u001b[39m\u001b[38;5;124m\"\u001b[39m\u001b[38;5;124mPEPTIDE_LENGTH\u001b[39m\u001b[38;5;124m\"\u001b[39m))\n",
      "File \u001b[0;32m~/miniconda3/envs/mapra_pipeline/lib/python3.10/site-packages/oktoberfest/predict/alignment.py:47\u001b[0m, in \u001b[0;36m_prepare_alignment_df\u001b[0;34m(library, ce_range, group_by_charge)\u001b[0m\n\u001b[1;32m     42\u001b[0m alignment_library\u001b[38;5;241m.\u001b[39mobs[\u001b[38;5;124m\"\u001b[39m\u001b[38;5;124mORIG_COLLISION_ENERGY\u001b[39m\u001b[38;5;124m\"\u001b[39m] \u001b[38;5;241m=\u001b[39m alignment_library\u001b[38;5;241m.\u001b[39mobs[\u001b[38;5;124m\"\u001b[39m\u001b[38;5;124mCOLLISION_ENERGY\u001b[39m\u001b[38;5;124m\"\u001b[39m]\n\u001b[1;32m     43\u001b[0m alignment_library\u001b[38;5;241m.\u001b[39mobs[\u001b[38;5;124m\"\u001b[39m\u001b[38;5;124mCOLLISION_ENERGY\u001b[39m\u001b[38;5;124m\"\u001b[39m] \u001b[38;5;241m=\u001b[39m np\u001b[38;5;241m.\u001b[39mrepeat(\u001b[38;5;28mrange\u001b[39m(\u001b[38;5;241m*\u001b[39mce_range), top_n)\n\u001b[1;32m     45\u001b[0m alignment_library\u001b[38;5;241m.\u001b[39muns[\u001b[38;5;124m\"\u001b[39m\u001b[38;5;124mion_types\u001b[39m\u001b[38;5;124m\"\u001b[39m] \u001b[38;5;241m=\u001b[39m np\u001b[38;5;241m.\u001b[39marray(\n\u001b[1;32m     46\u001b[0m     \u001b[38;5;28mlist\u001b[39m(\n\u001b[0;32m---> 47\u001b[0m         {\n\u001b[1;32m     48\u001b[0m             ion_type\n\u001b[1;32m     49\u001b[0m             \u001b[38;5;28;01mfor\u001b[39;00m fragmentation_method \u001b[38;5;129;01min\u001b[39;00m library\u001b[38;5;241m.\u001b[39mobs[\u001b[38;5;124m\"\u001b[39m\u001b[38;5;124mFRAGMENTATION\u001b[39m\u001b[38;5;124m\"\u001b[39m]\u001b[38;5;241m.\u001b[39munique()\n\u001b[1;32m     50\u001b[0m             \u001b[38;5;28;01mfor\u001b[39;00m ion_type \u001b[38;5;129;01min\u001b[39;00m retrieve_ion_types(fragmentation_method)\n\u001b[1;32m     51\u001b[0m         }\n\u001b[1;32m     52\u001b[0m     ),\n\u001b[1;32m     53\u001b[0m     dtype\u001b[38;5;241m=\u001b[39m\u001b[38;5;28mobject\u001b[39m,\n\u001b[1;32m     54\u001b[0m )\n\u001b[1;32m     56\u001b[0m \u001b[38;5;28;01mreturn\u001b[39;00m alignment_library\n",
      "File \u001b[0;32m~/miniconda3/envs/mapra_pipeline/lib/python3.10/site-packages/oktoberfest/predict/alignment.py:50\u001b[0m, in \u001b[0;36m<setcomp>\u001b[0;34m(.0)\u001b[0m\n\u001b[1;32m     42\u001b[0m alignment_library\u001b[38;5;241m.\u001b[39mobs[\u001b[38;5;124m\"\u001b[39m\u001b[38;5;124mORIG_COLLISION_ENERGY\u001b[39m\u001b[38;5;124m\"\u001b[39m] \u001b[38;5;241m=\u001b[39m alignment_library\u001b[38;5;241m.\u001b[39mobs[\u001b[38;5;124m\"\u001b[39m\u001b[38;5;124mCOLLISION_ENERGY\u001b[39m\u001b[38;5;124m\"\u001b[39m]\n\u001b[1;32m     43\u001b[0m alignment_library\u001b[38;5;241m.\u001b[39mobs[\u001b[38;5;124m\"\u001b[39m\u001b[38;5;124mCOLLISION_ENERGY\u001b[39m\u001b[38;5;124m\"\u001b[39m] \u001b[38;5;241m=\u001b[39m np\u001b[38;5;241m.\u001b[39mrepeat(\u001b[38;5;28mrange\u001b[39m(\u001b[38;5;241m*\u001b[39mce_range), top_n)\n\u001b[1;32m     45\u001b[0m alignment_library\u001b[38;5;241m.\u001b[39muns[\u001b[38;5;124m\"\u001b[39m\u001b[38;5;124mion_types\u001b[39m\u001b[38;5;124m\"\u001b[39m] \u001b[38;5;241m=\u001b[39m np\u001b[38;5;241m.\u001b[39marray(\n\u001b[1;32m     46\u001b[0m     \u001b[38;5;28mlist\u001b[39m(\n\u001b[1;32m     47\u001b[0m         {\n\u001b[1;32m     48\u001b[0m             ion_type\n\u001b[1;32m     49\u001b[0m             \u001b[38;5;28;01mfor\u001b[39;00m fragmentation_method \u001b[38;5;129;01min\u001b[39;00m library\u001b[38;5;241m.\u001b[39mobs[\u001b[38;5;124m\"\u001b[39m\u001b[38;5;124mFRAGMENTATION\u001b[39m\u001b[38;5;124m\"\u001b[39m]\u001b[38;5;241m.\u001b[39munique()\n\u001b[0;32m---> 50\u001b[0m             \u001b[38;5;28;01mfor\u001b[39;00m ion_type \u001b[38;5;129;01min\u001b[39;00m \u001b[43mretrieve_ion_types\u001b[49m\u001b[43m(\u001b[49m\u001b[43mfragmentation_method\u001b[49m\u001b[43m)\u001b[49m\n\u001b[1;32m     51\u001b[0m         }\n\u001b[1;32m     52\u001b[0m     ),\n\u001b[1;32m     53\u001b[0m     dtype\u001b[38;5;241m=\u001b[39m\u001b[38;5;28mobject\u001b[39m,\n\u001b[1;32m     54\u001b[0m )\n\u001b[1;32m     56\u001b[0m \u001b[38;5;28;01mreturn\u001b[39;00m alignment_library\n",
      "File \u001b[0;32m~/miniconda3/envs/mapra_pipeline/lib/python3.10/site-packages/spectrum_fundamentals/fragments.py:108\u001b[0m, in \u001b[0;36mretrieve_ion_types\u001b[0;34m(fragmentation_method)\u001b[0m\n\u001b[1;32m    106\u001b[0m     \u001b[38;5;28;01mreturn\u001b[39;00m [\u001b[38;5;124m\"\u001b[39m\u001b[38;5;124my\u001b[39m\u001b[38;5;124m\"\u001b[39m, \u001b[38;5;124m\"\u001b[39m\u001b[38;5;124mb\u001b[39m\u001b[38;5;124m\"\u001b[39m, \u001b[38;5;124m\"\u001b[39m\u001b[38;5;124mz\u001b[39m\u001b[38;5;124m\"\u001b[39m, \u001b[38;5;124m\"\u001b[39m\u001b[38;5;124mc\u001b[39m\u001b[38;5;124m\"\u001b[39m, \u001b[38;5;124m\"\u001b[39m\u001b[38;5;124mx\u001b[39m\u001b[38;5;124m\"\u001b[39m, \u001b[38;5;124m\"\u001b[39m\u001b[38;5;124ma\u001b[39m\u001b[38;5;124m\"\u001b[39m]\n\u001b[1;32m    107\u001b[0m \u001b[38;5;28;01melse\u001b[39;00m:\n\u001b[0;32m--> 108\u001b[0m     \u001b[38;5;28;01mraise\u001b[39;00m \u001b[38;5;167;01mValueError\u001b[39;00m(\u001b[38;5;124mf\u001b[39m\u001b[38;5;124m\"\u001b[39m\u001b[38;5;124mUnknown fragmentation method provided: \u001b[39m\u001b[38;5;132;01m{\u001b[39;00mfragmentation_method\u001b[38;5;132;01m}\u001b[39;00m\u001b[38;5;124m\"\u001b[39m)\n",
      "\u001b[0;31mValueError\u001b[0m: Unknown fragmentation method provided: ELECTRON TRANSFER DISSOCIATION"
     ]
    }
   ],
   "source": [
    "runner = run_job('./configs/rescoring_etd_config.json')"
   ]
  },
  {
   "cell_type": "code",
   "execution_count": 13,
   "metadata": {},
   "outputs": [],
   "source": [
    "from oktoberfest.data import Spectra\n",
    "s = Spectra.from_hdf5('./rescoring_out/data/03035a_GC6-TUM_HLA2_30_01_01-ETD-1h-R1.mzml.hdf5')\n",
    "s.obs['FRAGMENTATION'] = s.obs['FRAGMENTATION'].cat.rename_categories({'CID': 'CID', 'HCD': 'HCD', 'ETD': 'ETD', 'electron transfer dissociation': 'ETD'})\n",
    "Spectra.write_as_hdf5(s, './rescoring_out/data/03035a_GC6-TUM_HLA2_30_01_01-ETD-1h-R1.mzml.hdf5')"
   ]
  },
  {
   "cell_type": "code",
   "execution_count": null,
   "metadata": {},
   "outputs": [],
   "source": []
  }
 ],
 "metadata": {
  "kernelspec": {
   "display_name": "mapra_pipeline",
   "language": "python",
   "name": "python3"
  },
  "language_info": {
   "codemirror_mode": {
    "name": "ipython",
    "version": 3
   },
   "file_extension": ".py",
   "mimetype": "text/x-python",
   "name": "python",
   "nbconvert_exporter": "python",
   "pygments_lexer": "ipython3",
   "version": "3.10.14"
  }
 },
 "nbformat": 4,
 "nbformat_minor": 2
}
