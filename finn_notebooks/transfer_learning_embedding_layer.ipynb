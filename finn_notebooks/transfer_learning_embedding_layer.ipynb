{
 "cells": [
  {
   "cell_type": "code",
   "execution_count": 1,
   "metadata": {},
   "outputs": [
    {
     "name": "stderr",
     "output_type": "stream",
     "text": [
      "2024-07-02 09:22:49.003782: E external/local_xla/xla/stream_executor/cuda/cuda_dnn.cc:9261] Unable to register cuDNN factory: Attempting to register factory for plugin cuDNN when one has already been registered\n",
      "2024-07-02 09:22:49.003820: E external/local_xla/xla/stream_executor/cuda/cuda_fft.cc:607] Unable to register cuFFT factory: Attempting to register factory for plugin cuFFT when one has already been registered\n",
      "2024-07-02 09:22:49.005467: E external/local_xla/xla/stream_executor/cuda/cuda_blas.cc:1515] Unable to register cuBLAS factory: Attempting to register factory for plugin cuBLAS when one has already been registered\n",
      "2024-07-02 09:22:49.014515: I tensorflow/core/platform/cpu_feature_guard.cc:182] This TensorFlow binary is optimized to use available CPU instructions in performance-critical operations.\n",
      "To enable the following instructions: AVX2 FMA, in other operations, rebuild TensorFlow with the appropriate compiler flags.\n",
      "2024-07-02 09:22:51.239755: W tensorflow/compiler/tf2tensorrt/utils/py_utils.cc:38] TF-TRT Warning: Could not find TensorRT\n",
      "/cmnfs/home/f.kapitza/miniconda3/envs/dlomix/lib/python3.10/site-packages/tqdm/auto.py:21: TqdmWarning: IProgress not found. Please update jupyter and ipywidgets. See https://ipywidgets.readthedocs.io/en/stable/user_install.html\n",
      "  from .autonotebook import tqdm as notebook_tqdm\n"
     ]
    },
    {
     "name": "stdout",
     "output_type": "stream",
     "text": [
      "\n",
      "Avaliable feature extractors are (use the key of the following dict and pass it to features_to_extract in the Dataset Class):\n",
      "{\n",
      "   \"atom_count\": \"Atom count of PTM.\",\n",
      "   \"delta_mass\": \"Delta mass of PTM.\",\n",
      "   \"mod_gain\": \"Gain of atoms due to PTM.\",\n",
      "   \"mod_loss\": \"Loss of atoms due to PTM.\",\n",
      "   \"red_smiles\": \"Reduced SMILES representation of PTM.\"\n",
      "}.\n",
      "When writing your own feature extractor, you can either\n",
      "    (1) use the FeatureExtractor class or\n",
      "    (2) write a function that can be mapped to the Hugging Face dataset.\n",
      "In both cases, you can access the parsed sequence information from the dataset using the following keys, which all provide python lists:\n",
      "    - _parsed_sequence: parsed sequence\n",
      "    - _n_term_mods: N-terminal modifications\n",
      "    - _c_term_mods: C-terminal modifications\n",
      "\n"
     ]
    }
   ],
   "source": [
    "import tensorflow as tf\n",
    "import wandb\n",
    "import dlomix\n",
    "import os\n",
    "import dlomix.losses\n",
    "from dlomix.data import load_processed_dataset\n",
    "import seaborn as sns\n",
    "import numpy as np\n",
    "from matplotlib import pyplot as plt"
   ]
  },
  {
   "cell_type": "code",
   "execution_count": 2,
   "metadata": {},
   "outputs": [],
   "source": [
    "os.environ[\"CUDA_VISIBLE_DEVICES\"] = ''"
   ]
  },
  {
   "cell_type": "code",
   "execution_count": 3,
   "metadata": {},
   "outputs": [
    {
     "name": "stdout",
     "output_type": "stream",
     "text": [
      "Number of GPUs available: 0\n"
     ]
    },
    {
     "name": "stderr",
     "output_type": "stream",
     "text": [
      "2024-07-02 09:22:59.415758: E external/local_xla/xla/stream_executor/cuda/cuda_driver.cc:274] failed call to cuInit: CUDA_ERROR_NO_DEVICE: no CUDA-capable device is detected\n",
      "2024-07-02 09:22:59.415815: I external/local_xla/xla/stream_executor/cuda/cuda_diagnostics.cc:129] retrieving CUDA diagnostic information for host: dragon.exbio.wzw.tum.de\n",
      "2024-07-02 09:22:59.415826: I external/local_xla/xla/stream_executor/cuda/cuda_diagnostics.cc:136] hostname: dragon.exbio.wzw.tum.de\n",
      "2024-07-02 09:22:59.416038: I external/local_xla/xla/stream_executor/cuda/cuda_diagnostics.cc:159] libcuda reported version is: 535.129.3\n",
      "2024-07-02 09:22:59.416074: I external/local_xla/xla/stream_executor/cuda/cuda_diagnostics.cc:163] kernel reported version is: 535.129.3\n",
      "2024-07-02 09:22:59.416082: I external/local_xla/xla/stream_executor/cuda/cuda_diagnostics.cc:241] kernel version seems to match DSO: 535.129.3\n"
     ]
    }
   ],
   "source": [
    "print(f'Number of GPUs available: {len(tf.config.list_physical_devices(\"GPU\"))}')\n",
    "tf.config.set_soft_device_placement(True)"
   ]
  },
  {
   "cell_type": "code",
   "execution_count": 6,
   "metadata": {},
   "outputs": [],
   "source": [
    "MODEL_DIR = '/cmnfs/proj/bmpc_dlomix/models/baseline_models/noptm_baseline_full_bs1024_naivemods/'\n",
    "RUN_NAME = 'd961f940-d142-4102-9775-c1f8b4373c91'"
   ]
  },
  {
   "cell_type": "code",
   "execution_count": 7,
   "metadata": {},
   "outputs": [
    {
     "name": "stderr",
     "output_type": "stream",
     "text": [
      "2024-06-26 11:06:49.225972: I tensorflow/core/common_runtime/gpu/gpu_device.cc:1929] Created device /job:localhost/replica:0/task:0/device:GPU:0 with 7505 MB memory:  -> device: 0, name: NVIDIA GeForce GTX 1080, pci bus id: 0000:02:00.0, compute capability: 6.1\n"
     ]
    },
    {
     "name": "stdout",
     "output_type": "stream",
     "text": [
      "Model: \"prosit_intensity_predictor\"\n",
      "_________________________________________________________________\n",
      " Layer (type)                Output Shape              Param #   \n",
      "=================================================================\n",
      " embedding (Embedding)       multiple                  432       \n",
      "                                                                 \n",
      " sequential (Sequential)     (None, 30, 512)           1996800   \n",
      "                                                                 \n",
      " sequential_1 (Sequential)   multiple                  4608      \n",
      "                                                                 \n",
      " sequential_2 (Sequential)   (None, 29, 512)           1576806   \n",
      "                                                                 \n",
      " encoder_att (AttentionLaye  multiple                  542       \n",
      " r)                                                              \n",
      "                                                                 \n",
      " sequential_3 (Sequential)   multiple                  0         \n",
      "                                                                 \n",
      " sequential_4 (Sequential)   (None, 174)               3078      \n",
      "                                                                 \n",
      "=================================================================\n",
      "Total params: 3582266 (13.67 MB)\n",
      "Trainable params: 3582266 (13.67 MB)\n",
      "Non-trainable params: 0 (0.00 Byte)\n",
      "_________________________________________________________________\n",
      "None\n"
     ]
    }
   ],
   "source": [
    "model = tf.keras.models.load_model(\n",
    "    MODEL_DIR + RUN_NAME + '.keras', \n",
    "    # custom_objects={'masked_spectral_distance': dlomix.losses.masked_spectral_distance}\n",
    "    )\n",
    "print(model.summary())"
   ]
  },
  {
   "cell_type": "code",
   "execution_count": 8,
   "metadata": {},
   "outputs": [],
   "source": [
    "# check performance of model on the test set without modifications\n",
    "baseline_data = load_processed_dataset('/cmnfs/proj/bmpc_dlomix/datasets/processed/noptm_baseline_small_bs1024_unmod_extended')"
   ]
  },
  {
   "cell_type": "code",
   "execution_count": 9,
   "metadata": {},
   "outputs": [
    {
     "data": {
      "text/plain": [
       "8"
      ]
     },
     "execution_count": 9,
     "metadata": {},
     "output_type": "execute_result"
    }
   ],
   "source": [
    "len(baseline_data.tensor_train_data)"
   ]
  },
  {
   "cell_type": "code",
   "execution_count": 10,
   "metadata": {},
   "outputs": [
    {
     "name": "stdout",
     "output_type": "stream",
     "text": [
      "Max value:  26\n",
      "Min value:  0\n"
     ]
    },
    {
     "name": "stderr",
     "output_type": "stream",
     "text": [
      "2024-06-26 11:07:01.599322: I external/local_xla/xla/stream_executor/cuda/cuda_dnn.cc:454] Loaded cuDNN version 8904\n"
     ]
    },
    {
     "name": "stdout",
     "output_type": "stream",
     "text": [
      "32/32 [==============================] - 3s 9ms/step\n",
      "Max value:  26\n",
      "Min value:  0\n",
      "31/31 [==============================] - 2s 13ms/step\n"
     ]
    }
   ],
   "source": [
    "from dlomix.losses import masked_spectral_distance\n",
    "sd_baseline = list()\n",
    "for batch, y_true in baseline_data.tensor_test_data:\n",
    "    print('Max value: ', batch['modified_sequence'].numpy().max())\n",
    "    print('Min value: ', batch['modified_sequence'].numpy().min())\n",
    "    y_pred = model.predict(batch)\n",
    "    sd_baseline.extend(masked_spectral_distance(y_true=y_true, y_pred=y_pred).numpy())"
   ]
  },
  {
   "cell_type": "code",
   "execution_count": 11,
   "metadata": {},
   "outputs": [
    {
     "data": {
      "image/png": "[encoded data removed]",
      "text/plain": [
       "<Figure size 640x480 with 1 Axes>"
      ]
     },
     "metadata": {},
     "output_type": "display_data"
    }
   ],
   "source": [
    "# distribution of spectral angles on baseline test set\n",
    "sa_baseline = [1 - sd for sd in sd_baseline]\n",
    "avg_sa_baseline = np.mean(sa_baseline)\n",
    "p = sns.histplot(sa_baseline)\n",
    "p.text(0.2, 100, f'Avg. SA = {avg_sa_baseline:.2}')\n",
    "plt.title('SA distribution of test set with no PTMs')\n",
    "plt.xlabel('Spectral Angle')\n",
    "plt.tight_layout()"
   ]
  },
  {
   "cell_type": "code",
   "execution_count": 12,
   "metadata": {},
   "outputs": [
    {
     "data": {
      "text/plain": [
       "(27, 16)"
      ]
     },
     "execution_count": 12,
     "metadata": {},
     "output_type": "execute_result"
    }
   ],
   "source": [
    "# check the shape of the weights of the embedding layer\n",
    "# 58 for the alphabet size and 16 for the embeddings\n",
    "# each input sequence of shape (n, 1) is mapped to the respective embedding resulting in shape (n, 16)\n",
    "model.layers[0].get_weights()[0].shape"
   ]
  },
  {
   "cell_type": "code",
   "execution_count": 13,
   "metadata": {},
   "outputs": [
    {
     "name": "stdout",
     "output_type": "stream",
     "text": [
      "{'C[UNIMOD:4]': 24, 'M[UNIMOD:35]': 25, 'A': 1, 'C': 2, 'D': 3, 'E': 4, 'F': 5, 'G': 6, 'H': 7, 'I': 8, 'K': 9, 'L': 10, 'M': 11, 'N': 12, 'P': 13, 'Q': 14, 'R': 15, 'S': 16, 'T': 17, 'V': 18, 'W': 19, 'Y': 20, '[]-': 21, '-[]': 22, '[UNIMOD:737]-': 21, 'K[UNIMOD:122]': 26}\n"
     ]
    }
   ],
   "source": [
    "# alphabet that contains all naive mods as well as the K modification Fromyl -> dataset at /cmnfs/data/proteomics/Prosit_PTMs/21PTMs/Kmod_Formyl.parquet\n",
    "from dlomix.constants import ALPHABET_NAIVE_MODS\n",
    "ALPHABET_NAIVE_MODS.update({'K[UNIMOD:122]': 26})\n",
    "print(ALPHABET_NAIVE_MODS)"
   ]
  },
  {
   "cell_type": "code",
   "execution_count": 14,
   "metadata": {},
   "outputs": [],
   "source": [
    "# load a small dataset which contains only the new modification K[UNIMOD:122] as well as the other ones present in ALPHABET_NAIVE_MODS\n",
    "data = load_processed_dataset('/cmnfs/proj/bmpc_dlomix/datasets/processed/kmod_formyl')"
   ]
  },
  {
   "cell_type": "code",
   "execution_count": 15,
   "metadata": {},
   "outputs": [
    {
     "name": "stdout",
     "output_type": "stream",
     "text": [
      "Modification K[UNIMOD:122] is correctly encoded and present in the current batch\n",
      "Modification K[UNIMOD:122] is correctly encoded and present in the current batch\n",
      "Modification K[UNIMOD:122] is correctly encoded and present in the current batch\n",
      "Modification K[UNIMOD:122] is correctly encoded and present in the current batch\n",
      "Modification K[UNIMOD:122] is correctly encoded and present in the current batch\n",
      "Modification K[UNIMOD:122] is correctly encoded and present in the current batch\n",
      "Modification K[UNIMOD:122] is correctly encoded and present in the current batch\n",
      "Modification K[UNIMOD:122] is correctly encoded and present in the current batch\n"
     ]
    }
   ],
   "source": [
    "from collections import Counter\n",
    "c = Counter()\n",
    "total_seqs = 0\n",
    "for batch, _ in data.tensor_train_data:\n",
    "    for seq in batch['modified_sequence'].numpy():\n",
    "        c.update(seq)\n",
    "        total_seqs += 1\n",
    "    for k, v in ALPHABET_NAIVE_MODS.items():\n",
    "        if v == batch['modified_sequence'].numpy().max():\n",
    "            print(f'Modification {k} is correctly encoded and present in the current batch')"
   ]
  },
  {
   "cell_type": "code",
   "execution_count": 16,
   "metadata": {},
   "outputs": [
    {
     "name": "stdout",
     "output_type": "stream",
     "text": [
      "Total of 5807 istances of the new modification in 7169 are present\n"
     ]
    }
   ],
   "source": [
    "print(f'Total of {c[26]} istances of the new modification in {total_seqs} are present')"
   ]
  },
  {
   "cell_type": "code",
   "execution_count": 17,
   "metadata": {},
   "outputs": [
    {
     "name": "stdout",
     "output_type": "stream",
     "text": [
      "Max value:  26\n",
      "Min value:  0\n",
      "32/32 [==============================] - 0s 9ms/step\n",
      "Max value:  26\n",
      "Min value:  0\n",
      "25/25 [==============================] - 0s 10ms/step\n"
     ]
    }
   ],
   "source": [
    "# predict the intensities and calculate spectral distance between predictions and true intensities\n",
    "sd_new_mod = list()\n",
    "for batch, y_true in data.tensor_val_data:\n",
    "    print('Max value: ', batch['modified_sequence'].numpy().max())\n",
    "    print('Min value: ', batch['modified_sequence'].numpy().min())\n",
    "    y_pred = model.predict(batch)\n",
    "    sd_new_mod.extend(masked_spectral_distance(y_true=y_true, y_pred=y_pred).numpy())"
   ]
  },
  {
   "cell_type": "code",
   "execution_count": 18,
   "metadata": {},
   "outputs": [
    {
     "data": {
      "image/png": "[encoded data removed]",
      "text/plain": [
       "<Figure size 640x480 with 1 Axes>"
      ]
     },
     "metadata": {},
     "output_type": "display_data"
    }
   ],
   "source": [
    "# distribution of spectral angles on the dataset with new modification\n",
    "sa_new_mod = [1 - sd for sd in sd_new_mod]\n",
    "avg_sa_new_mod = np.mean(sa_new_mod)\n",
    "q = sns.histplot(sa_new_mod)\n",
    "q.text(0.2, 100, f'Avg. SA = {avg_sa_new_mod:.2}')\n",
    "plt.title('SA distribution of test set with Formylation of K')\n",
    "plt.xlabel('Spectral Angle')\n",
    "plt.tight_layout()"
   ]
  },
  {
   "cell_type": "markdown",
   "metadata": {},
   "source": [
    "### Try to only allow the new embeddings to train"
   ]
  },
  {
   "cell_type": "code",
   "execution_count": 19,
   "metadata": {},
   "outputs": [],
   "source": [
    "from dlomix.models import PrositIntensityPredictor\n",
    "def change_input_layer(model: PrositIntensityPredictor, modifications: list = None) -> None:\n",
    "    if modifications:\n",
    "        for new_mod in modifications:\n",
    "            model.alphabet.update({new_mod: max(model.alphabet.values()) + 1})\n",
    "\n",
    "    model.embedding = tf.keras.layers.Embedding(\n",
    "        input_dim=len(model.alphabet) + 2,\n",
    "        output_dim=model.embedding_output_dim,\n",
    "        input_length=model.seq_length,\n",
    "        name='embedding'\n",
    "    )"
   ]
  },
  {
   "cell_type": "code",
   "execution_count": 20,
   "metadata": {},
   "outputs": [
    {
     "name": "stdout",
     "output_type": "stream",
     "text": [
      "Shape of the old embeddings: (27, 16)\n"
     ]
    }
   ],
   "source": [
    "# get the weights from the old embedding layer\n",
    "old_embedding_weights = model.layers[0].get_weights()[0]\n",
    "print(f'Shape of the old embeddings: {old_embedding_weights.shape}')"
   ]
  },
  {
   "cell_type": "code",
   "execution_count": 21,
   "metadata": {},
   "outputs": [
    {
     "name": "stdout",
     "output_type": "stream",
     "text": [
      "Shape of weights for new embedding layer: (28, 16)\n"
     ]
    }
   ],
   "source": [
    "# initialize the new embedding weights with a random initialization and the new shape -> use updated alphabet\n",
    "new_embedding_weights = tf.Variable(tf.random.normal([len(model.alphabet) + 3, old_embedding_weights.shape[1]]))\n",
    "print(f'Shape of weights for new embedding layer: {new_embedding_weights.shape}')"
   ]
  },
  {
   "cell_type": "code",
   "execution_count": 22,
   "metadata": {},
   "outputs": [
    {
     "name": "stdout",
     "output_type": "stream",
     "text": [
      "New embeddings are the same as old embeddings: True\n"
     ]
    }
   ],
   "source": [
    "# set the old embedding weights as the first len(model.old_alphabet) + 2 embeddings\n",
    "new_embedding_weights[:old_embedding_weights.shape[0], :].assign(old_embedding_weights)\n",
    "# randomly initialize the new embedding dimensions\n",
    "new_embedding_weights[old_embedding_weights.shape[0]:, :].assign(tf.random.normal([1, old_embedding_weights.shape[1]]))\n",
    "print(f'New embeddings are the same as old embeddings: {np.all(old_embedding_weights == new_embedding_weights[:old_embedding_weights.shape[0], :])}')"
   ]
  },
  {
   "cell_type": "code",
   "execution_count": 23,
   "metadata": {},
   "outputs": [],
   "source": [
    "# change the input layer such that new modification can be implemented\n",
    "change_input_layer(model, ['K[UNIMOD:122]'])"
   ]
  },
  {
   "cell_type": "code",
   "execution_count": 24,
   "metadata": {},
   "outputs": [
    {
     "name": "stdout",
     "output_type": "stream",
     "text": [
      "Shape of newly build embedding layer is: (28, 16)\n"
     ]
    }
   ],
   "source": [
    "# build the new layer to initialize random weights\n",
    "model.get_layer('embedding').build((None,))\n",
    "print(f'Shape of newly build embedding layer is: {model.get_layer(\"embedding\").get_weights()[0].shape}')"
   ]
  },
  {
   "cell_type": "code",
   "execution_count": 25,
   "metadata": {},
   "outputs": [],
   "source": [
    "# set the old weights + the new embedding layer to the layer weights\n",
    "model.get_layer('embedding').set_weights([new_embedding_weights])"
   ]
  },
  {
   "cell_type": "code",
   "execution_count": 26,
   "metadata": {},
   "outputs": [
    {
     "name": "stdout",
     "output_type": "stream",
     "text": [
      "Embedding layer weight shape after changing output layer: (28, 16)\n",
      "The weights from the embedding layer are the same as the old embedding layer for the first n-dimensions: True\n"
     ]
    }
   ],
   "source": [
    "print(f'Embedding layer weight shape after changing output layer: {model.get_layer(name=\"embedding\").get_weights()[0].shape}')\n",
    "print(f'The weights from the embedding layer are the same as the old embedding layer for the first n-dimensions: {np.all(old_embedding_weights == model.get_layer(\"embedding\").get_weights()[0][:old_embedding_weights.shape[0], :])}')"
   ]
  },
  {
   "cell_type": "markdown",
   "metadata": {},
   "source": [
    "### Test if one can apply a constraint during training to only allow the new embeddings to train"
   ]
  },
  {
   "cell_type": "code",
   "execution_count": 29,
   "metadata": {},
   "outputs": [],
   "source": [
    "weights = model.get_layer('embedding').get_weights()[0]"
   ]
  },
  {
   "cell_type": "code",
   "execution_count": 30,
   "metadata": {},
   "outputs": [],
   "source": [
    "from tensorflow.keras.constraints import Constraint\n",
    "import keras.backend as K\n",
    "class FixWeights(Constraint):\n",
    "    def __init__(self, old_weights):\n",
    "        self.old_weights = old_weights\n",
    "    def __call__(self, w):\n",
    "        return K.concatenate([self.old_weights, w[self.old_weights.shape[0]:]], axis=0)"
   ]
  },
  {
   "cell_type": "code",
   "execution_count": null,
   "metadata": {},
   "outputs": [],
   "source": [
    "# Example usage\n",
    "vocab_size = 28\n",
    "embedding_dim = 16\n",
    "\n",
    "old_model = tf.keras.Sequential([\n",
    "    tf.keras.layers.Embedding(input_dim=vocab_size, output_dim=embedding_dim, input_length=30),\n",
    "    tf.keras.layers.Flatten(),\n",
    "    tf.keras.layers.Dense(units=1, activation='sigmoid')\n",
    "])\n",
    "\n",
    "old_model.compile(optimizer='adam', loss='binary_crossentropy')\n",
    "\n",
    "# Dummy data\n",
    "inputs = tf.random.uniform((15, 30), maxval=vocab_size, dtype=tf.int32)\n",
    "labels = tf.random.uniform((15,), maxval=2, dtype=tf.int32)\n",
    "\n",
    "old_model.fit(inputs, labels, epochs=100)"
   ]
  },
  {
   "cell_type": "code",
   "execution_count": 32,
   "metadata": {},
   "outputs": [
    {
     "data": {
      "text/plain": [
       "(28, 16)"
      ]
     },
     "execution_count": 32,
     "metadata": {},
     "output_type": "execute_result"
    }
   ],
   "source": [
    "# get old model embedding weights\n",
    "old_weights = old_model.layers[0].get_weights()[0]\n",
    "old_weights.shape"
   ]
  },
  {
   "cell_type": "code",
   "execution_count": 33,
   "metadata": {},
   "outputs": [],
   "source": [
    "# build a new model with the FixWeights constraint\n",
    "new_vocab_size = vocab_size + 1\n",
    "new_model = tf.keras.Sequential([\n",
    "    tf.keras.layers.Embedding(input_dim=new_vocab_size, output_dim=embedding_dim, input_length=30, embeddings_constraint=FixWeights(old_weights=old_weights)),\n",
    "    tf.keras.layers.Flatten(),\n",
    "    tf.keras.layers.Dense(units=1, activation='sigmoid')\n",
    "])\n",
    "\n",
    "new_model.compile(optimizer='adam', loss='binary_crossentropy')\n",
    "\n",
    "# Dummy data\n",
    "new_inputs = tf.random.uniform((15, 30), maxval=new_vocab_size, dtype=tf.int32)\n",
    "new_labels = tf.random.uniform((15,), maxval=2, dtype=tf.int32)"
   ]
  },
  {
   "cell_type": "code",
   "execution_count": 34,
   "metadata": {},
   "outputs": [
    {
     "data": {
      "text/plain": [
       "(16,)"
      ]
     },
     "execution_count": 34,
     "metadata": {},
     "output_type": "execute_result"
    }
   ],
   "source": [
    "# get the untrained last embedding slice \n",
    "new_embedding = new_model.layers[0].get_weights()[0][27]\n",
    "new_embedding.shape"
   ]
  },
  {
   "cell_type": "code",
   "execution_count": null,
   "metadata": {},
   "outputs": [],
   "source": [
    "new_model.fit(new_inputs, new_labels, epochs=100)"
   ]
  },
  {
   "cell_type": "code",
   "execution_count": 36,
   "metadata": {},
   "outputs": [
    {
     "data": {
      "text/plain": [
       "(29, 16)"
      ]
     },
     "execution_count": 36,
     "metadata": {},
     "output_type": "execute_result"
    }
   ],
   "source": [
    "new_weights = new_model.layers[0].get_weights()[0]\n",
    "new_weights.shape"
   ]
  },
  {
   "cell_type": "code",
   "execution_count": 37,
   "metadata": {},
   "outputs": [
    {
     "name": "stdout",
     "output_type": "stream",
     "text": [
      "The old and the new embedding weights are the same: True\n"
     ]
    }
   ],
   "source": [
    "print(f'The old and the new embedding weights are the same: {np.all(old_weights[:27] == new_weights[:27])}')"
   ]
  },
  {
   "cell_type": "code",
   "execution_count": 38,
   "metadata": {},
   "outputs": [
    {
     "name": "stdout",
     "output_type": "stream",
     "text": [
      "The new embedding layer is the same as before training: False\n"
     ]
    }
   ],
   "source": [
    "new_embedding_trained = new_model.layers[0].get_weights()[0][27]\n",
    "print(f'The new embedding layer is the same as before training: {np.any(new_embedding == new_embedding_trained)}')"
   ]
  },
  {
   "cell_type": "markdown",
   "metadata": {},
   "source": [
    "-> all the old embeddings stayed the same, the new embedding was trained"
   ]
  },
  {
   "cell_type": "markdown",
   "metadata": {},
   "source": [
    "### See if the constraint approach can be applied to the prosit network"
   ]
  },
  {
   "cell_type": "code",
   "execution_count": 39,
   "metadata": {},
   "outputs": [],
   "source": [
    "from dlomix.models import PrositIntensityPredictor\n",
    "import keras.backend as K\n",
    "from tensorflow.keras.constraints import Constraint\n",
    "\n",
    "class FixWeights(Constraint):\n",
    "    def __init__(self, old_weights):\n",
    "        self.old_weights = old_weights\n",
    "        self.freeze_weights = True\n",
    "\n",
    "    def __call__(self, w):\n",
    "        if self.freeze_weights:\n",
    "            # because of the 'unused' embedding entry -> substract 1 from the shape and allow the last two embedding shapes to train\n",
    "            new_w =  K.concatenate([self.old_weights[:self.old_weights.shape[0] - 1], w[self.old_weights.shape[0] - 1:]], axis=0)\n",
    "            return new_w\n",
    "        else:\n",
    "            return w\n",
    "\n",
    "    \n",
    "\n",
    "def change_input_layer(model: PrositIntensityPredictor, modifications: list = None, freeze_old_embeds: bool = False) -> None:\n",
    "    if modifications:\n",
    "        model.alphabet.update({k: i for i, k in enumerate(modifications, start=len(model.alphabet) + 1)})\n",
    "        \n",
    "    embeddings_constraint = None\n",
    "    if freeze_old_embeds:\n",
    "        # if added names to the model, replace get_layer index with name \n",
    "        trained_embeds_weights = model.layers[0].get_weights()[0]\n",
    "        embeddings_constraint = FixWeights(trained_embeds_weights)\n",
    "\n",
    "    model.embedding = tf.keras.layers.Embedding(\n",
    "        input_dim=len(model.alphabet) + 2,\n",
    "        output_dim=model.embedding_output_dim,\n",
    "        input_length=model.seq_length,\n",
    "        embeddings_constraint=embeddings_constraint,\n",
    "        name='embedding'\n",
    "        )"
   ]
  },
  {
   "cell_type": "code",
   "execution_count": 40,
   "metadata": {},
   "outputs": [],
   "source": [
    "# use a Custom Callback to check if the weights of the new embedding layer changes\n",
    "class PrintWeights(tf.keras.callbacks.Callback):\n",
    "    def __init__(self, index):\n",
    "        super().__init__()\n",
    "        self.index = index\n",
    "    def on_epoch_end(self, epoch, logs=None):\n",
    "        print(self.model.get_layer('embedding').get_weights()[0][self.index])"
   ]
  },
  {
   "cell_type": "code",
   "execution_count": 41,
   "metadata": {},
   "outputs": [],
   "source": [
    "# load a small dataset containing the new modification\n",
    "data = load_processed_dataset('/cmnfs/proj/bmpc_dlomix/datasets/processed/kmod_formyl')"
   ]
  },
  {
   "cell_type": "code",
   "execution_count": 42,
   "metadata": {},
   "outputs": [],
   "source": [
    "# load the model\n",
    "model = tf.keras.models.load_model(MODEL_DIR + RUN_NAME + '.keras')"
   ]
  },
  {
   "cell_type": "code",
   "execution_count": 43,
   "metadata": {},
   "outputs": [
    {
     "data": {
      "text/plain": [
       "(27, 16)"
      ]
     },
     "execution_count": 43,
     "metadata": {},
     "output_type": "execute_result"
    }
   ],
   "source": [
    "# get the trained weights from the embedding layer\n",
    "old_w = model.layers[0].get_weights()[0]\n",
    "old_w.shape"
   ]
  },
  {
   "cell_type": "code",
   "execution_count": 44,
   "metadata": {},
   "outputs": [],
   "source": [
    "# change the embedding layer \n",
    "change_input_layer(model, modifications=['K[UNIMOD:122]'], freeze_old_embeds=True)"
   ]
  },
  {
   "cell_type": "code",
   "execution_count": 45,
   "metadata": {},
   "outputs": [],
   "source": [
    "# freeze everything except the embedding layer\n",
    "def freeze_model(model:dlomix.models.prosit.PrositIntensityPredictor, trainable_first_layer:bool = False, trainable_last_layer:bool = False) -> None:\n",
    "    model.trainable = True \n",
    "    for lay in model.layers:\n",
    "        try:\n",
    "            for sublay in lay.layers:\n",
    "                sublay.trainable = False\n",
    "        except (AttributeError):\n",
    "            lay.trainable = False\n",
    "\n",
    "    if (trainable_first_layer):\n",
    "        first_layer = model.get_layer(name=\"embedding\")\n",
    "        first_layer.trainable = True\n",
    "\n",
    "    if (trainable_last_layer):\n",
    "        last_layer = model.get_layer(name = \"sequential_4\").get_layer(name = \"time_dense\")\n",
    "        last_layer.trainable = True\n",
    "freeze_model(model, trainable_first_layer=True)"
   ]
  },
  {
   "cell_type": "code",
   "execution_count": 46,
   "metadata": {},
   "outputs": [
    {
     "data": {
      "text/plain": [
       "<__main__.FixWeights at 0x7f4b9413cee0>"
      ]
     },
     "execution_count": 46,
     "metadata": {},
     "output_type": "execute_result"
    }
   ],
   "source": [
    "# check the embeddings constraint\n",
    "model.get_layer('embedding').embeddings_constraint"
   ]
  },
  {
   "cell_type": "code",
   "execution_count": 47,
   "metadata": {},
   "outputs": [],
   "source": [
    "# recompile the model\n",
    "model.compile(tf.keras.optimizers.Adam(learning_rate=0.0001), loss=masked_spectral_distance)"
   ]
  },
  {
   "cell_type": "code",
   "execution_count": 48,
   "metadata": {},
   "outputs": [
    {
     "data": {
      "text/plain": [
       "{'C[UNIMOD:4]': 24,\n",
       " 'M[UNIMOD:35]': 25,\n",
       " 'A': 1,\n",
       " 'C': 2,\n",
       " 'D': 3,\n",
       " 'E': 4,\n",
       " 'F': 5,\n",
       " 'G': 6,\n",
       " 'H': 7,\n",
       " 'I': 8,\n",
       " 'K': 9,\n",
       " 'L': 10,\n",
       " 'M': 11,\n",
       " 'N': 12,\n",
       " 'P': 13,\n",
       " 'Q': 14,\n",
       " 'R': 15,\n",
       " 'S': 16,\n",
       " 'T': 17,\n",
       " 'V': 18,\n",
       " 'W': 19,\n",
       " 'Y': 20,\n",
       " '[]-': 21,\n",
       " '-[]': 22,\n",
       " '[UNIMOD:737]-': 21,\n",
       " 'K[UNIMOD:122]': 26}"
      ]
     },
     "execution_count": 48,
     "metadata": {},
     "output_type": "execute_result"
    }
   ],
   "source": [
    "model.alphabet"
   ]
  },
  {
   "cell_type": "code",
   "execution_count": 49,
   "metadata": {},
   "outputs": [
    {
     "name": "stdout",
     "output_type": "stream",
     "text": [
      "Epoch 1/2\n",
      "6/8 [=====================>........] - ETA: 0s - loss: 0.2809WARNING:tensorflow:Callback method `on_train_batch_end` is slow compared to the batch time (batch time: 0.0743s vs `on_train_batch_end` time: 0.0960s). Check your callbacks.\n",
      "8/8 [==============================] - ETA: 0s - loss: 0.2686[ 0.00951153  0.02825438  0.00858471  0.03224173 -0.01949676 -0.03231857\n",
      " -0.01503084  0.04096214 -0.04882079  0.03091751  0.03665249 -0.0488998\n",
      " -0.00484669 -0.04642855 -0.04924761 -0.04871641]\n",
      "8/8 [==============================] - 8s 384ms/step - loss: 0.2686 - val_loss: 0.1835\n",
      "Epoch 2/2\n",
      "7/8 [=========================>....] - ETA: 0s - loss: 0.1865[ 0.01028507  0.02752161  0.00779809  0.03145138 -0.02026048 -0.03153876\n",
      " -0.01581676  0.04019156 -0.04898028  0.03012401  0.03585217 -0.04967691\n",
      " -0.00407051 -0.04721371 -0.04846415 -0.04792771]\n",
      "8/8 [==============================] - 2s 201ms/step - loss: 0.1865 - val_loss: 0.1818\n"
     ]
    },
    {
     "data": {
      "text/plain": [
       "<keras.src.callbacks.History at 0x7f4bc47b4ac0>"
      ]
     },
     "execution_count": 49,
     "metadata": {},
     "output_type": "execute_result"
    }
   ],
   "source": [
    "# train the model on the dataset containing the new modification for two epochs\n",
    "model.fit(\n",
    "    data.tensor_train_data,\n",
    "    validation_data=data.tensor_val_data,\n",
    "    epochs=2,\n",
    "    callbacks=[PrintWeights(index=model.alphabet['K[UNIMOD:122]'])]\n",
    ")"
   ]
  },
  {
   "cell_type": "code",
   "execution_count": 50,
   "metadata": {},
   "outputs": [
    {
     "data": {
      "text/plain": [
       "(28, 16)"
      ]
     },
     "execution_count": 50,
     "metadata": {},
     "output_type": "execute_result"
    }
   ],
   "source": [
    "# retrieve the weigths of the new embedding layer\n",
    "new_w = model.get_layer('embedding').get_weights()[0]\n",
    "new_w.shape"
   ]
  },
  {
   "cell_type": "code",
   "execution_count": 51,
   "metadata": {},
   "outputs": [
    {
     "name": "stdout",
     "output_type": "stream",
     "text": [
      "The weights for the old embeddings are the same as before training: True\n"
     ]
    }
   ],
   "source": [
    "# check if the old embedding weights are the same\n",
    "print(f'The weights for the old embeddings are the same as before training: {np.all(old_w[:26] == new_w[:26])}')"
   ]
  },
  {
   "cell_type": "code",
   "execution_count": 52,
   "metadata": {},
   "outputs": [
    {
     "name": "stdout",
     "output_type": "stream",
     "text": [
      "The weights of the new embedding did not change: False\n"
     ]
    }
   ],
   "source": [
    "print(f'The weights of the new embedding did not change: {np.all(old_w[26] == new_w[26])}')"
   ]
  },
  {
   "cell_type": "markdown",
   "metadata": {},
   "source": [
    "### Check if the constraint can be lifted after a specified number of epochs"
   ]
  },
  {
   "cell_type": "code",
   "execution_count": 125,
   "metadata": {},
   "outputs": [],
   "source": [
    "from keras.callbacks import Callback\n",
    "class ReleaseTrainedEmbeddings(Callback):\n",
    "    def __init__(self, removal_epoch):\n",
    "        super().__init__()\n",
    "        self.removal_epoch = removal_epoch\n",
    "    \n",
    "    def on_epoch_end(self, epoch, logs=None):\n",
    "        if epoch == self.removal_epoch:\n",
    "            print(f'Removing Constraint from the Embedding layer at the end of epoch {epoch + 1}')\n",
    "            print(f\"Freeze Weight parameter of embeddings constraint: {self.model.get_layer('embedding').embeddings_constraint.freeze_weights}\")\n",
    "            self.model.get_layer('embedding').embeddings_constraint.freeze_weights = False\n",
    "            print(f\"Freeze Weight parameter of embeddings constraint: {self.model.get_layer('embedding').embeddings_constraint.freeze_weights}\")\n",
    "        print(f'Current status of the freeze variable: {self.model.get_layer(\"embedding\").embeddings_constraint.freeze_weights}')\n",
    "        # print(f'Weights of the last embedding layer: {self.model.get_layer(\"embedding\").get_weights()[0][-1]}')\n",
    "        return super().on_epoch_begin(epoch, logs)"
   ]
  },
  {
   "cell_type": "markdown",
   "metadata": {},
   "source": [
    "**Problem:** The model cannot be recompiled inside a Custom Callback -> have to stop the training, remove the constraint, compile the model again and than restart the training"
   ]
  },
  {
   "cell_type": "code",
   "execution_count": 53,
   "metadata": {},
   "outputs": [],
   "source": [
    "def remove_embeddings_constraint(model: PrositIntensityPredictor):\n",
    "    print(f\"Freeze Weight parameter of embeddings constraint before removing: {model.get_layer('embedding').embeddings_constraint.freeze_weights}\")\n",
    "    model.get_layer('embedding').embeddings_constraint.freeze_weights = False\n",
    "    print(f\"Freeze Weight parameter of embeddings constraint after removing: {model.get_layer('embedding').embeddings_constraint.freeze_weights}\")"
   ]
  },
  {
   "cell_type": "code",
   "execution_count": 54,
   "metadata": {},
   "outputs": [],
   "source": [
    "model = tf.keras.models.load_model(MODEL_DIR + RUN_NAME + '.keras')"
   ]
  },
  {
   "cell_type": "code",
   "execution_count": 55,
   "metadata": {},
   "outputs": [
    {
     "data": {
      "text/plain": [
       "(27, 16)"
      ]
     },
     "execution_count": 55,
     "metadata": {},
     "output_type": "execute_result"
    }
   ],
   "source": [
    "old_w = model.layers[0].get_weights()[0]\n",
    "old_w.shape"
   ]
  },
  {
   "cell_type": "code",
   "execution_count": 56,
   "metadata": {},
   "outputs": [],
   "source": [
    "change_input_layer(model, modifications=['K[UNIMOD:122]'], freeze_old_embeds=True)"
   ]
  },
  {
   "cell_type": "code",
   "execution_count": 57,
   "metadata": {},
   "outputs": [],
   "source": [
    "model.compile(\n",
    "    optimizer=tf.keras.optimizers.Adam(learning_rate=1e-4),\n",
    "    loss=masked_spectral_distance\n",
    ")"
   ]
  },
  {
   "cell_type": "code",
   "execution_count": 58,
   "metadata": {},
   "outputs": [
    {
     "name": "stdout",
     "output_type": "stream",
     "text": [
      "6/8 [=====================>........] - ETA: 0s - loss: 0.2494WARNING:tensorflow:Callback method `on_train_batch_end` is slow compared to the batch time (batch time: 0.0775s vs `on_train_batch_end` time: 0.0971s). Check your callbacks.\n",
      "8/8 [==============================] - ETA: 0s - loss: 0.2329[ 0.03852899 -0.02042289 -0.01456864  0.03750365  0.02631697 -0.04211094\n",
      " -0.04854193 -0.01988359 -0.02496628  0.01367044 -0.04318799  0.0446332\n",
      " -0.01751333  0.02484797 -0.03581357 -0.03468513]\n",
      "8/8 [==============================] - 10s 365ms/step - loss: 0.2329 - val_loss: 0.1260\n"
     ]
    },
    {
     "data": {
      "text/plain": [
       "<keras.src.callbacks.History at 0x7f4b383e2290>"
      ]
     },
     "execution_count": 58,
     "metadata": {},
     "output_type": "execute_result"
    }
   ],
   "source": [
    "# fit the model for one epoch and check the weights of the embeddings\n",
    "model.fit(\n",
    "    data.tensor_train_data,\n",
    "    validation_data=data.tensor_val_data,\n",
    "    epochs=1,\n",
    "    callbacks=[PrintWeights(index=model.alphabet['K[UNIMOD:122]'])]\n",
    ")"
   ]
  },
  {
   "cell_type": "code",
   "execution_count": 59,
   "metadata": {},
   "outputs": [
    {
     "name": "stdout",
     "output_type": "stream",
     "text": [
      "The weights for the old embeddings are the same as before training: True\n",
      "The weights for the new embeddings are the same as before training: False\n"
     ]
    }
   ],
   "source": [
    "# check if the embedding weights did change\n",
    "new_w = model.get_layer('embedding').get_weights()[0]\n",
    "print(f'The weights for the old embeddings are the same as before training: {np.all(old_w[:26] == new_w[:26])}')\n",
    "print(f'The weights for the new embeddings are the same as before training: {np.all(old_w[26] == new_w[26])}')"
   ]
  },
  {
   "cell_type": "code",
   "execution_count": 61,
   "metadata": {},
   "outputs": [],
   "source": [
    "old_w = model.get_layer('embedding').get_weights()[0]"
   ]
  },
  {
   "cell_type": "code",
   "execution_count": 60,
   "metadata": {},
   "outputs": [
    {
     "name": "stdout",
     "output_type": "stream",
     "text": [
      "Freeze Weight parameter of embeddings constraint before removing: True\n",
      "Freeze Weight parameter of embeddings constraint after removing: False\n"
     ]
    }
   ],
   "source": [
    "# remove the constraint\n",
    "remove_embeddings_constraint(model)"
   ]
  },
  {
   "cell_type": "code",
   "execution_count": 62,
   "metadata": {},
   "outputs": [],
   "source": [
    "# recompile the model\n",
    "model.compile(\n",
    "    optimizer=tf.keras.optimizers.Adam(learning_rate=1e-4),\n",
    "    loss=masked_spectral_distance\n",
    ")"
   ]
  },
  {
   "cell_type": "code",
   "execution_count": 64,
   "metadata": {},
   "outputs": [
    {
     "name": "stdout",
     "output_type": "stream",
     "text": [
      "8/8 [==============================] - 9s 367ms/step - loss: 0.1276 - val_loss: 0.1104\n"
     ]
    },
    {
     "data": {
      "text/plain": [
       "<keras.src.callbacks.History at 0x7f4b383e1540>"
      ]
     },
     "execution_count": 64,
     "metadata": {},
     "output_type": "execute_result"
    }
   ],
   "source": [
    "# fit the model for another epoch and check the weights\n",
    "model.fit(\n",
    "    data.tensor_train_data,\n",
    "    validation_data=data.tensor_val_data,\n",
    "    epochs=1\n",
    ")"
   ]
  },
  {
   "cell_type": "code",
   "execution_count": 65,
   "metadata": {},
   "outputs": [],
   "source": [
    "new_w = model.get_layer('embedding').get_weights()[0]"
   ]
  },
  {
   "cell_type": "code",
   "execution_count": 66,
   "metadata": {},
   "outputs": [
    {
     "name": "stdout",
     "output_type": "stream",
     "text": [
      "The weights for the old embeddings are the same as before training: False\n",
      "The weights for the new embeddings are the same as before training: False\n"
     ]
    }
   ],
   "source": [
    "print(f'The weights for the old embeddings are the same as before training: {np.all(old_w[:26] == new_w[:26])}')\n",
    "print(f'The weights for the new embeddings are the same as before training: {np.all(old_w[26] == new_w[26])}')"
   ]
  },
  {
   "cell_type": "markdown",
   "metadata": {},
   "source": [
    "-> After removing the constraint and training the model fo another epoch, the embedding constraint of the layer is not in place anymore. \\\n",
    "The old embedding weights and the trained embedding weights do not match as before"
   ]
  },
  {
   "cell_type": "code",
   "execution_count": 106,
   "metadata": {},
   "outputs": [],
   "source": [
    "# test if the changed model can be saved and loaded again after changing the input layer\n",
    "model.save('test_changed_model.keras', save_format='keras')"
   ]
  },
  {
   "cell_type": "code",
   "execution_count": 101,
   "metadata": {},
   "outputs": [],
   "source": [
    "model_2 = tf.keras.models.load_model('test_changed_model.keras', compile=False)"
   ]
  },
  {
   "cell_type": "code",
   "execution_count": 108,
   "metadata": {},
   "outputs": [
    {
     "name": "stdout",
     "output_type": "stream",
     "text": [
      "32/32 [==============================] - 1s 9ms/step\n",
      "25/25 [==============================] - 1s 10ms/step\n"
     ]
    }
   ],
   "source": [
    "# model can be loaded again and can be used to predict\n",
    "for batch, _ in data.tensor_val_data:\n",
    "    y_pred = model_2.predict(batch)"
   ]
  }
 ],
 "metadata": {
  "kernelspec": {
   "display_name": "dlomix",
   "language": "python",
   "name": "python3"
  },
  "language_info": {
   "codemirror_mode": {
    "name": "ipython",
    "version": 3
   },
   "file_extension": ".py",
   "mimetype": "text/x-python",
   "name": "python",
   "nbconvert_exporter": "python",
   "pygments_lexer": "ipython3",
   "version": "3.10.0"
  }
 },
 "nbformat": 4,
 "nbformat_minor": 2
}
