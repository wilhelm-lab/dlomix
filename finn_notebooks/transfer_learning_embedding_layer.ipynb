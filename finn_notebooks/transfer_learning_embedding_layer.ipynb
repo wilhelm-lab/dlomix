{
 "cells": [
  {
   "cell_type": "code",
   "execution_count": 116,
   "metadata": {},
   "outputs": [],
   "source": [
    "import tensorflow as tf\n",
    "import wandb\n",
    "import dlomix\n",
    "import dlomix.losses\n",
    "from dlomix.data import load_processed_dataset\n",
    "import seaborn as sns\n",
    "import numpy as np\n",
    "import seaborn.objects as so "
   ]
  },
  {
   "cell_type": "code",
   "execution_count": 105,
   "metadata": {},
   "outputs": [],
   "source": [
    "MODEL_PATH = '/cmnfs/proj/prosit_astral/bmpc_dlomix_group/models/baseline_models/noptm_baseline_full_bs1024/5773031a-cd51-4100-a11b-6e82ca7a0ef4.keras'"
   ]
  },
  {
   "cell_type": "code",
   "execution_count": 106,
   "metadata": {},
   "outputs": [
    {
     "name": "stdout",
     "output_type": "stream",
     "text": [
      "Model: \"prosit_intensity_predictor_2\"\n",
      "_________________________________________________________________\n",
      " Layer (type)                Output Shape              Param #   \n",
      "=================================================================\n",
      " embedding_2 (Embedding)     multiple                  928       \n",
      "                                                                 \n",
      " sequential_10 (Sequential)  (None, 30, 512)           1996800   \n",
      "                                                                 \n",
      " sequential_11 (Sequential)  multiple                  4608      \n",
      "                                                                 \n",
      " sequential_12 (Sequential)  (None, 29, 512)           1576806   \n",
      "                                                                 \n",
      " encoder_att (AttentionLaye  multiple                  542       \n",
      " r)                                                              \n",
      "                                                                 \n",
      " sequential_13 (Sequential)  multiple                  0         \n",
      "                                                                 \n",
      " sequential_14 (Sequential)  (None, 174)               3078      \n",
      "                                                                 \n",
      "=================================================================\n",
      "Total params: 3582762 (13.67 MB)\n",
      "Trainable params: 3582762 (13.67 MB)\n",
      "Non-trainable params: 0 (0.00 Byte)\n",
      "_________________________________________________________________\n",
      "None\n"
     ]
    }
   ],
   "source": [
    "model = tf.keras.models.load_model(\n",
    "    MODEL_PATH, \n",
    "    # custom_objects={'masked_spectral_distance': dlomix.losses.masked_spectral_distance}\n",
    "    )\n",
    "print(model.summary())"
   ]
  },
  {
   "cell_type": "code",
   "execution_count": 107,
   "metadata": {},
   "outputs": [],
   "source": [
    "# check performance of model on the test set without modifications\n",
    "baseline_data = load_processed_dataset('/cmnfs/proj/prosit_astral/bmpc_dlomix_group/datasets/processed/noptm_baseline_small_bs1024')"
   ]
  },
  {
   "cell_type": "code",
   "execution_count": 113,
   "metadata": {},
   "outputs": [
    {
     "name": "stdout",
     "output_type": "stream",
     "text": [
      "32/32 [==============================] - 2s 77ms/step\n",
      "31/31 [==============================] - 2s 79ms/step\n"
     ]
    }
   ],
   "source": [
    "from dlomix.losses import masked_spectral_distance\n",
    "sd_baseline = list()\n",
    "for batch, y_true in baseline_data.tensor_test_data:\n",
    "    y_pred = model.predict(batch)\n",
    "    sd_baseline.extend(masked_spectral_distance(y_true=y_true, y_pred=y_pred).numpy())"
   ]
  },
  {
   "cell_type": "code",
   "execution_count": 120,
   "metadata": {},
   "outputs": [
    {
     "data": {
      "text/plain": [
       "Text(0.2, 100, 'Avg. SA = 0.88')"
      ]
     },
     "execution_count": 120,
     "metadata": {},
     "output_type": "execute_result"
    },
    {
     "data": {
      "image/png": "[encoded data removed]",
      "text/plain": [
       "<Figure size 640x480 with 1 Axes>"
      ]
     },
     "metadata": {},
     "output_type": "display_data"
    }
   ],
   "source": [
    "# distribution of spectral angles on baseline test set\n",
    "sa_baseline = [1 - sd for sd in sd_baseline]\n",
    "avg_sa_baseline = np.mean(sa_baseline)\n",
    "p = sns.histplot(sa_baseline)\n",
    "p.text(0.2, 100, f'Avg. SA = {avg_sa_baseline:.2}')\n"
   ]
  },
  {
   "cell_type": "code",
   "execution_count": 18,
   "metadata": {},
   "outputs": [
    {
     "data": {
      "text/plain": [
       "(58, 16)"
      ]
     },
     "execution_count": 18,
     "metadata": {},
     "output_type": "execute_result"
    }
   ],
   "source": [
    "# check the shape of the weights of the embedding layer\n",
    "# 58 for the alphabet size and 16 for the embeddings\n",
    "# each input sequence of shape (n, 1) is mapped to the respective embedding resulting in shape (n, 16)\n",
    "model.layers[0].get_weights()[0].shape"
   ]
  },
  {
   "cell_type": "code",
   "execution_count": 33,
   "metadata": {},
   "outputs": [
    {
     "name": "stdout",
     "output_type": "stream",
     "text": [
      "{'C[UNIMOD:4]': 24, 'M[UNIMOD:35]': 25, 'A': 1, 'C': 2, 'D': 3, 'E': 4, 'F': 5, 'G': 6, 'H': 7, 'I': 8, 'K': 9, 'L': 10, 'M': 11, 'N': 12, 'P': 13, 'Q': 14, 'R': 15, 'S': 16, 'T': 17, 'V': 18, 'W': 19, 'Y': 20, '[]-': 21, '-[]': 22, '[UNIMOD:737]-': 21, 'K[UNIMOD:122]': 26}\n"
     ]
    }
   ],
   "source": [
    "# alphabet that contains all naive mods as well as the K modification Fromyl -> dataset at /cmnfs/data/proteomics/Prosit_PTMs/21PTMs/Kmod_Formyl.parquet\n",
    "from dlomix.constants import ALPHABET_NAIVE_MODS\n",
    "ALPHABET_NAIVE_MODS.update({'K[UNIMOD:122]': 26})\n",
    "print(ALPHABET_NAIVE_MODS)"
   ]
  },
  {
   "cell_type": "code",
   "execution_count": 34,
   "metadata": {},
   "outputs": [],
   "source": [
    "# load a small dataset which contains only the new modification K[UNIMOD:122] as well as the other ones present in ALPHABET_NAIVE_MODS\n",
    "data = load_processed_dataset('/cmnfs/proj/prosit_astral/bmpc_dlomix_group/datasets/processed/kmod_formyl')"
   ]
  },
  {
   "cell_type": "code",
   "execution_count": 77,
   "metadata": {},
   "outputs": [
    {
     "name": "stdout",
     "output_type": "stream",
     "text": [
      "Modification K[UNIMOD:122] is correctly encoded and present in the current batch\n",
      "Modification K[UNIMOD:122] is correctly encoded and present in the current batch\n",
      "Modification K[UNIMOD:122] is correctly encoded and present in the current batch\n",
      "Modification K[UNIMOD:122] is correctly encoded and present in the current batch\n",
      "Modification K[UNIMOD:122] is correctly encoded and present in the current batch\n",
      "Modification K[UNIMOD:122] is correctly encoded and present in the current batch\n",
      "Modification K[UNIMOD:122] is correctly encoded and present in the current batch\n",
      "Modification K[UNIMOD:122] is correctly encoded and present in the current batch\n"
     ]
    }
   ],
   "source": [
    "from collections import Counter\n",
    "c = Counter()\n",
    "total_seqs = 0\n",
    "for batch, _ in data.tensor_train_data:\n",
    "    for seq in batch['modified_sequence'].numpy():\n",
    "        c.update(seq)\n",
    "        total_seqs += 1\n",
    "    for k, v in ALPHABET_NAIVE_MODS.items():\n",
    "        if v == batch['modified_sequence'].numpy().max():\n",
    "            print(f'Modification {k} is correctly encoded and present in the current batch')"
   ]
  },
  {
   "cell_type": "code",
   "execution_count": 78,
   "metadata": {},
   "outputs": [
    {
     "name": "stdout",
     "output_type": "stream",
     "text": [
      "Total of 5807 istances of the new modification in 7169 are present\n"
     ]
    }
   ],
   "source": [
    "print(f'Total of {c[26]} istances of the new modification in {total_seqs} are present')"
   ]
  },
  {
   "cell_type": "code",
   "execution_count": 121,
   "metadata": {},
   "outputs": [
    {
     "name": "stdout",
     "output_type": "stream",
     "text": [
      "32/32 [==============================] - 3s 83ms/step\n",
      "25/25 [==============================] - 2s 78ms/step\n"
     ]
    }
   ],
   "source": [
    "# predict the intensities and calculate spectral distance between predictions and true intensities\n",
    "sd_new_mod = list()\n",
    "for batch, y_true in data.tensor_val_data:\n",
    "    y_pred = model.predict(batch)\n",
    "    sd_new_mod.extend(masked_spectral_distance(y_true=y_true, y_pred=y_pred).numpy())"
   ]
  },
  {
   "cell_type": "code",
   "execution_count": 122,
   "metadata": {},
   "outputs": [
    {
     "data": {
      "text/plain": [
       "Text(0.2, 100, 'Avg. SA = 0.85')"
      ]
     },
     "execution_count": 122,
     "metadata": {},
     "output_type": "execute_result"
    },
    {
     "data": {
      "image/png": "[encoded data removed]",
      "text/plain": [
       "<Figure size 640x480 with 1 Axes>"
      ]
     },
     "metadata": {},
     "output_type": "display_data"
    }
   ],
   "source": [
    "# distribution of spectral angles on the dataset with new modification\n",
    "sa_new_mod = [1 - sd for sd in sd_new_mod]\n",
    "avg_sa_new_mod = np.mean(sa_new_mod)\n",
    "q = sns.histplot(sa_new_mod)\n",
    "q.text(0.2, 100, f'Avg. SA = {avg_sa_new_mod:.2}')"
   ]
  },
  {
   "cell_type": "code",
   "execution_count": null,
   "metadata": {},
   "outputs": [],
   "source": []
  }
 ],
 "metadata": {
  "kernelspec": {
   "display_name": "dlomix",
   "language": "python",
   "name": "python3"
  },
  "language_info": {
   "codemirror_mode": {
    "name": "ipython",
    "version": 3
   },
   "file_extension": ".py",
   "mimetype": "text/x-python",
   "name": "python",
   "nbconvert_exporter": "python",
   "pygments_lexer": "ipython3",
   "version": "3.10.0"
  }
 },
 "nbformat": 4,
 "nbformat_minor": 2
}
