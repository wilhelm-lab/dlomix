{
 "cells": [
  {
   "cell_type": "code",
   "execution_count": 3,
   "metadata": {},
   "outputs": [],
   "source": [
    "import tensorflow as tf\n",
    "import wandb\n",
    "import dlomix\n",
    "import dlomix.losses\n",
    "from dlomix.data import load_processed_dataset\n",
    "import seaborn as sns\n",
    "import numpy as np\n",
    "from matplotlib import pyplot as plt"
   ]
  },
  {
   "cell_type": "code",
   "execution_count": 4,
   "metadata": {},
   "outputs": [],
   "source": [
    "MODEL_DIR = '/cmnfs/proj/prosit_astral/bmpc_dlomix_group/models/baseline_models/noptm_baseline_full_bs1024_naivemods/'\n",
    "RUN_NAME = 'd961f940-d142-4102-9775-c1f8b4373c91'"
   ]
  },
  {
   "cell_type": "code",
   "execution_count": 53,
   "metadata": {},
   "outputs": [
    {
     "name": "stdout",
     "output_type": "stream",
     "text": [
      "Model: \"prosit_intensity_predictor_2\"\n",
      "_________________________________________________________________\n",
      " Layer (type)                Output Shape              Param #   \n",
      "=================================================================\n",
      " embedding_2 (Embedding)     multiple                  432       \n",
      "                                                                 \n",
      " sequential_10 (Sequential)  (None, 30, 512)           1996800   \n",
      "                                                                 \n",
      " sequential_11 (Sequential)  multiple                  4608      \n",
      "                                                                 \n",
      " sequential_12 (Sequential)  (None, 29, 512)           1576806   \n",
      "                                                                 \n",
      " encoder_att (AttentionLaye  multiple                  542       \n",
      " r)                                                              \n",
      "                                                                 \n",
      " sequential_13 (Sequential)  multiple                  0         \n",
      "                                                                 \n",
      " sequential_14 (Sequential)  (None, 174)               3078      \n",
      "                                                                 \n",
      "=================================================================\n",
      "Total params: 3582266 (13.67 MB)\n",
      "Trainable params: 3582266 (13.67 MB)\n",
      "Non-trainable params: 0 (0.00 Byte)\n",
      "_________________________________________________________________\n",
      "None\n"
     ]
    }
   ],
   "source": [
    "model = tf.keras.models.load_model(\n",
    "    MODEL_DIR + RUN_NAME + '.keras', \n",
    "    # custom_objects={'masked_spectral_distance': dlomix.losses.masked_spectral_distance}\n",
    "    )\n",
    "print(model.summary())"
   ]
  },
  {
   "cell_type": "code",
   "execution_count": 5,
   "metadata": {},
   "outputs": [],
   "source": [
    "# check performance of model on the test set without modifications\n",
    "baseline_data = load_processed_dataset('/cmnfs/proj/prosit_astral/bmpc_dlomix_group/datasets/processed/noptm_baseline_small_bs1024')"
   ]
  },
  {
   "cell_type": "code",
   "execution_count": 6,
   "metadata": {},
   "outputs": [
    {
     "name": "stderr",
     "output_type": "stream",
     "text": [
      "2024-06-24 14:40:36.627241: W tensorflow/core/common_runtime/gpu/gpu_device.cc:2256] Cannot dlopen some GPU libraries. Please make sure the missing libraries mentioned above are installed properly if you would like to use GPU. Follow the guide at https://www.tensorflow.org/install/gpu for how to download and setup the required libraries for your platform.\n",
      "Skipping registering GPU devices...\n"
     ]
    },
    {
     "data": {
      "text/plain": [
       "8"
      ]
     },
     "execution_count": 6,
     "metadata": {},
     "output_type": "execute_result"
    }
   ],
   "source": [
    "len(baseline_data.tensor_train_data)"
   ]
  },
  {
   "cell_type": "code",
   "execution_count": 7,
   "metadata": {},
   "outputs": [
    {
     "name": "stdout",
     "output_type": "stream",
     "text": [
      "Max value:  56\n",
      "Min value:  0\n",
      "Max value:  56\n",
      "Min value:  0\n",
      "Max value:  56\n",
      "Min value:  0\n",
      "Max value:  56\n",
      "Min value:  0\n",
      "Max value:  56\n",
      "Min value:  0\n",
      "Max value:  56\n",
      "Min value:  0\n",
      "Max value:  56\n",
      "Min value:  0\n",
      "Max value:  56\n",
      "Min value:  0\n"
     ]
    }
   ],
   "source": [
    "from dlomix.losses import masked_spectral_distance\n",
    "sd_baseline = list()\n",
    "for batch, y_true in baseline_data.tensor_train_data:\n",
    "    print('Max value: ', batch['modified_sequence'].numpy().max())\n",
    "    print('Min value: ', batch['modified_sequence'].numpy().min())\n",
    "    # y_pred = model.predict(batch)\n",
    "    # sd_baseline.extend(masked_spectral_distance(y_true=y_true, y_pred=y_pred).numpy())"
   ]
  },
  {
   "cell_type": "code",
   "execution_count": 20,
   "metadata": {},
   "outputs": [
    {
     "data": {
      "image/png": "[encoded data removed]",
      "text/plain": [
       "<Figure size 640x480 with 1 Axes>"
      ]
     },
     "metadata": {},
     "output_type": "display_data"
    }
   ],
   "source": [
    "# distribution of spectral angles on baseline test set\n",
    "sa_baseline = [1 - sd for sd in sd_baseline]\n",
    "avg_sa_baseline = np.mean(sa_baseline)\n",
    "p = sns.histplot(sa_baseline)\n",
    "p.text(0.2, 100, f'Avg. SA = {avg_sa_baseline:.2}')\n",
    "plt.title('SA distribution of test set with no PTMs')\n",
    "plt.xlabel('Spectral Angle')\n",
    "plt.tight_layout()"
   ]
  },
  {
   "cell_type": "code",
   "execution_count": 8,
   "metadata": {},
   "outputs": [
    {
     "data": {
      "text/plain": [
       "(58, 16)"
      ]
     },
     "execution_count": 8,
     "metadata": {},
     "output_type": "execute_result"
    }
   ],
   "source": [
    "# check the shape of the weights of the embedding layer\n",
    "# 58 for the alphabet size and 16 for the embeddings\n",
    "# each input sequence of shape (n, 1) is mapped to the respective embedding resulting in shape (n, 16)\n",
    "model.layers[0].get_weights()[0].shape"
   ]
  },
  {
   "cell_type": "code",
   "execution_count": 178,
   "metadata": {},
   "outputs": [
    {
     "name": "stdout",
     "output_type": "stream",
     "text": [
      "{'C[UNIMOD:4]': 24, 'M[UNIMOD:35]': 25, 'A': 1, 'C': 2, 'D': 3, 'E': 4, 'F': 5, 'G': 6, 'H': 7, 'I': 8, 'K': 9, 'L': 10, 'M': 11, 'N': 12, 'P': 13, 'Q': 14, 'R': 15, 'S': 16, 'T': 17, 'V': 18, 'W': 19, 'Y': 20, '[]-': 21, '-[]': 22, '[UNIMOD:737]-': 21, 'K[UNIMOD:122]': 26}\n"
     ]
    }
   ],
   "source": [
    "# alphabet that contains all naive mods as well as the K modification Fromyl -> dataset at /cmnfs/data/proteomics/Prosit_PTMs/21PTMs/Kmod_Formyl.parquet\n",
    "from dlomix.constants import ALPHABET_NAIVE_MODS\n",
    "ALPHABET_NAIVE_MODS.update({'K[UNIMOD:122]': 26})\n",
    "print(ALPHABET_NAIVE_MODS)"
   ]
  },
  {
   "cell_type": "code",
   "execution_count": 179,
   "metadata": {},
   "outputs": [],
   "source": [
    "# load a small dataset which contains only the new modification K[UNIMOD:122] as well as the other ones present in ALPHABET_NAIVE_MODS\n",
    "data = load_processed_dataset('/cmnfs/proj/prosit_astral/bmpc_dlomix_group/datasets/processed/kmod_formyl')"
   ]
  },
  {
   "cell_type": "code",
   "execution_count": 180,
   "metadata": {},
   "outputs": [
    {
     "name": "stdout",
     "output_type": "stream",
     "text": [
      "Modification K[UNIMOD:122] is correctly encoded and present in the current batch\n",
      "Modification K[UNIMOD:122] is correctly encoded and present in the current batch\n",
      "Modification K[UNIMOD:122] is correctly encoded and present in the current batch\n",
      "Modification K[UNIMOD:122] is correctly encoded and present in the current batch\n",
      "Modification K[UNIMOD:122] is correctly encoded and present in the current batch\n",
      "Modification K[UNIMOD:122] is correctly encoded and present in the current batch\n",
      "Modification K[UNIMOD:122] is correctly encoded and present in the current batch\n",
      "Modification K[UNIMOD:122] is correctly encoded and present in the current batch\n"
     ]
    }
   ],
   "source": [
    "from collections import Counter\n",
    "c = Counter()\n",
    "total_seqs = 0\n",
    "for batch, _ in data.tensor_train_data:\n",
    "    for seq in batch['modified_sequence'].numpy():\n",
    "        c.update(seq)\n",
    "        total_seqs += 1\n",
    "    for k, v in ALPHABET_NAIVE_MODS.items():\n",
    "        if v == batch['modified_sequence'].numpy().max():\n",
    "            print(f'Modification {k} is correctly encoded and present in the current batch')"
   ]
  },
  {
   "cell_type": "code",
   "execution_count": 208,
   "metadata": {},
   "outputs": [
    {
     "data": {
      "text/plain": [
       "[0,\n",
       " 1,\n",
       " 3,\n",
       " 4,\n",
       " 5,\n",
       " 6,\n",
       " 7,\n",
       " 8,\n",
       " 9,\n",
       " 10,\n",
       " 11,\n",
       " 12,\n",
       " 13,\n",
       " 14,\n",
       " 15,\n",
       " 16,\n",
       " 17,\n",
       " 18,\n",
       " 19,\n",
       " 20,\n",
       " 21,\n",
       " 22,\n",
       " 24,\n",
       " 25,\n",
       " 26]"
      ]
     },
     "execution_count": 208,
     "metadata": {},
     "output_type": "execute_result"
    }
   ],
   "source": [
    "sorted(list(c.keys()))"
   ]
  },
  {
   "cell_type": "code",
   "execution_count": 13,
   "metadata": {},
   "outputs": [
    {
     "name": "stdout",
     "output_type": "stream",
     "text": [
      "Total of 5807 istances of the new modification in 7169 are present\n"
     ]
    }
   ],
   "source": [
    "print(f'Total of {c[26]} istances of the new modification in {total_seqs} are present')"
   ]
  },
  {
   "cell_type": "code",
   "execution_count": 14,
   "metadata": {},
   "outputs": [
    {
     "name": "stdout",
     "output_type": "stream",
     "text": [
      "32/32 [==============================] - 3s 86ms/step\n",
      "25/25 [==============================] - 2s 83ms/step\n"
     ]
    }
   ],
   "source": [
    "# predict the intensities and calculate spectral distance between predictions and true intensities\n",
    "sd_new_mod = list()\n",
    "for batch, y_true in data.tensor_val_data:\n",
    "    y_pred = model.predict(batch)\n",
    "    sd_new_mod.extend(masked_spectral_distance(y_true=y_true, y_pred=y_pred).numpy())"
   ]
  },
  {
   "cell_type": "code",
   "execution_count": 22,
   "metadata": {},
   "outputs": [
    {
     "data": {
      "image/png": "[encoded data removed]",
      "text/plain": [
       "<Figure size 640x480 with 1 Axes>"
      ]
     },
     "metadata": {},
     "output_type": "display_data"
    }
   ],
   "source": [
    "# distribution of spectral angles on the dataset with new modification\n",
    "sa_new_mod = [1 - sd for sd in sd_new_mod]\n",
    "avg_sa_new_mod = np.mean(sa_new_mod)\n",
    "q = sns.histplot(sa_new_mod)\n",
    "q.text(0.2, 100, f'Avg. SA = {avg_sa_new_mod:.2}')\n",
    "plt.title('SA distribution of test set with Formylation of K')\n",
    "plt.xlabel('Spectral Angle')\n",
    "plt.tight_layout()"
   ]
  },
  {
   "cell_type": "markdown",
   "metadata": {},
   "source": [
    "### Try to only allow the new embeddings to train"
   ]
  },
  {
   "cell_type": "code",
   "execution_count": 32,
   "metadata": {},
   "outputs": [],
   "source": [
    "from dlomix.models import PrositIntensityPredictor\n",
    "def change_input_layer(model: PrositIntensityPredictor, modifications: list = None) -> None:\n",
    "    if modifications:\n",
    "        for new_mod in modifications:\n",
    "            model.alphabet.update({new_mod: max(model.alphabet.values()) + 1})\n",
    "\n",
    "    model.embedding = tf.keras.layers.Embedding(\n",
    "        input_dim=len(model.alphabet) + 2,\n",
    "        output_dim=model.embedding_output_dim,\n",
    "        input_length=model.seq_length,\n",
    "        name='embedding'\n",
    "    )"
   ]
  },
  {
   "cell_type": "code",
   "execution_count": 54,
   "metadata": {},
   "outputs": [
    {
     "name": "stdout",
     "output_type": "stream",
     "text": [
      "Shape of the old embeddings: (27, 16)\n"
     ]
    }
   ],
   "source": [
    "# get the weights from the old embedding layer\n",
    "old_embedding_weights = model.layers[0].get_weights()[0]\n",
    "print(f'Shape of the old embeddings: {old_embedding_weights.shape}')"
   ]
  },
  {
   "cell_type": "code",
   "execution_count": 55,
   "metadata": {},
   "outputs": [
    {
     "name": "stdout",
     "output_type": "stream",
     "text": [
      "Shape of weights for new embedding layer: (28, 16)\n"
     ]
    }
   ],
   "source": [
    "# initialize the new embedding weights with a random initialization and the new shape -> use updated alphabet\n",
    "new_embedding_weights = tf.Variable(tf.random.normal([len(model.alphabet) + 3, old_embedding_weights.shape[1]]))\n",
    "print(f'Shape of weights for new embedding layer: {new_embedding_weights.shape}')"
   ]
  },
  {
   "cell_type": "code",
   "execution_count": 57,
   "metadata": {},
   "outputs": [
    {
     "name": "stdout",
     "output_type": "stream",
     "text": [
      "New embeddings are the same as old embeddings: True\n"
     ]
    }
   ],
   "source": [
    "# set the old embedding weights as the first len(model.old_alphabet) + 2 embeddings\n",
    "new_embedding_weights[:old_embedding_weights.shape[0], :].assign(old_embedding_weights)\n",
    "# randomly initialize the new embedding dimensions\n",
    "new_embedding_weights[old_embedding_weights.shape[0]:, :].assign(tf.random.normal([1, old_embedding_weights.shape[1]]))\n",
    "print(f'New embeddings are the same as old embeddings: {np.all(old_embedding_weights == new_embedding_weights[:old_embedding_weights.shape[0], :])}')"
   ]
  },
  {
   "cell_type": "code",
   "execution_count": 58,
   "metadata": {},
   "outputs": [],
   "source": [
    "# change the input layer such that new modification can be implemented\n",
    "change_input_layer(model, ['K[UNIMOD:122]'])"
   ]
  },
  {
   "cell_type": "code",
   "execution_count": 61,
   "metadata": {},
   "outputs": [
    {
     "name": "stdout",
     "output_type": "stream",
     "text": [
      "Shape of newly build embedding layer is: (28, 16)\n"
     ]
    },
    {
     "name": "stderr",
     "output_type": "stream",
     "text": [
      "/cmnfs/home/f.kapitza/miniconda3/envs/dlomix/lib/python3.10/site-packages/keras/src/initializers/initializers.py:120: UserWarning: The initializer RandomUniform is unseeded and being called multiple times, which will return identical values each time (even if the initializer is unseeded). Please update your code to provide a seed to the initializer, or avoid using the same initializer instance more than once.\n",
      "  warnings.warn(\n"
     ]
    }
   ],
   "source": [
    "# build the new layer to initialize random weights\n",
    "model.get_layer('embedding').build((None,))\n",
    "print(f'Shape of newly build embedding layer is: {model.get_layer(\"embedding\").get_weights()[0].shape}')"
   ]
  },
  {
   "cell_type": "code",
   "execution_count": 62,
   "metadata": {},
   "outputs": [],
   "source": [
    "# set the old weights + the new embedding layer to the layer weights\n",
    "model.get_layer('embedding').set_weights([new_embedding_weights])"
   ]
  },
  {
   "cell_type": "code",
   "execution_count": 63,
   "metadata": {},
   "outputs": [
    {
     "name": "stdout",
     "output_type": "stream",
     "text": [
      "Embedding layer weight shape after changing output layer: (28, 16)\n",
      "The weights from the embedding layer are the same as the old embedding layer for the first n-dimensions: True\n"
     ]
    }
   ],
   "source": [
    "print(f'Embedding layer weight shape after changing output layer: {model.get_layer(name=\"embedding\").get_weights()[0].shape}')\n",
    "print(f'The weights from the embedding layer are the same as the old embedding layer for the first n-dimensions: {np.all(old_embedding_weights == model.get_layer(\"embedding\").get_weights()[0][:old_embedding_weights.shape[0], :])}')"
   ]
  },
  {
   "cell_type": "code",
   "execution_count": 67,
   "metadata": {},
   "outputs": [],
   "source": [
    "# Test if the first n dimensions (the old embeddings) can be frozen\n",
    "weights = model.get_layer('embedding').trainable_weights[0]"
   ]
  },
  {
   "cell_type": "markdown",
   "metadata": {},
   "source": [
    "### Test if one can apply a constraint during training to only allow the new embeddings to train"
   ]
  },
  {
   "cell_type": "code",
   "execution_count": 78,
   "metadata": {},
   "outputs": [],
   "source": [
    "trainable_mask = tf.scatter_nd(\n",
    "    indices=tf.expand_dims([27], axis=1),\n",
    "    updates=tf.ones_like([27], dtype=tf.float32),\n",
    "    shape=[28]\n",
    ")\n",
    "frozen_mask = 1.0 - trainable_mask"
   ]
  },
  {
   "cell_type": "code",
   "execution_count": 80,
   "metadata": {},
   "outputs": [],
   "source": [
    "weights = model.get_layer('embedding').get_weights()[0]"
   ]
  },
  {
   "cell_type": "code",
   "execution_count": 140,
   "metadata": {},
   "outputs": [],
   "source": [
    "from tensorflow.keras.constraints import Constraint\n",
    "import keras.backend as K\n",
    "class FixWeights(Constraint):\n",
    "    def __init__(self, old_weights):\n",
    "        self.old_weights = old_weights\n",
    "    def __call__(self, w):\n",
    "        return K.concatenate([self.old_weights, w[self.old_weights.shape[0]:]], axis=0)"
   ]
  },
  {
   "cell_type": "code",
   "execution_count": null,
   "metadata": {},
   "outputs": [],
   "source": [
    "# Example usage\n",
    "vocab_size = 28\n",
    "embedding_dim = 16\n",
    "\n",
    "old_model = tf.keras.Sequential([\n",
    "    tf.keras.layers.Embedding(input_dim=vocab_size, output_dim=embedding_dim, input_length=30),\n",
    "    tf.keras.layers.Flatten(),\n",
    "    tf.keras.layers.Dense(units=1, activation='sigmoid')\n",
    "])\n",
    "\n",
    "old_model.compile(optimizer='adam', loss='binary_crossentropy')\n",
    "\n",
    "# Dummy data\n",
    "inputs = tf.random.uniform((15, 30), maxval=vocab_size, dtype=tf.int32)\n",
    "labels = tf.random.uniform((15,), maxval=2, dtype=tf.int32)\n",
    "\n",
    "old_model.fit(inputs, labels, epochs=100)"
   ]
  },
  {
   "cell_type": "code",
   "execution_count": 164,
   "metadata": {},
   "outputs": [
    {
     "data": {
      "text/plain": [
       "(28, 16)"
      ]
     },
     "execution_count": 164,
     "metadata": {},
     "output_type": "execute_result"
    }
   ],
   "source": [
    "# get old model embedding weights\n",
    "old_weights = old_model.layers[0].get_weights()[0]\n",
    "old_weights.shape"
   ]
  },
  {
   "cell_type": "code",
   "execution_count": 165,
   "metadata": {},
   "outputs": [],
   "source": [
    "# build a new model with the FixWeights constraint\n",
    "new_vocab_size = vocab_size + 1\n",
    "new_model = tf.keras.Sequential([\n",
    "    tf.keras.layers.Embedding(input_dim=new_vocab_size, output_dim=embedding_dim, input_length=30, embeddings_constraint=FixWeights(old_weights=old_weights)),\n",
    "    tf.keras.layers.Flatten(),\n",
    "    tf.keras.layers.Dense(units=1, activation='sigmoid')\n",
    "])\n",
    "\n",
    "new_model.compile(optimizer='adam', loss='binary_crossentropy')\n",
    "\n",
    "# Dummy data\n",
    "new_inputs = tf.random.uniform((15, 30), maxval=new_vocab_size, dtype=tf.int32)\n",
    "new_labels = tf.random.uniform((15,), maxval=2, dtype=tf.int32)"
   ]
  },
  {
   "cell_type": "code",
   "execution_count": 159,
   "metadata": {},
   "outputs": [
    {
     "data": {
      "text/plain": [
       "(16,)"
      ]
     },
     "execution_count": 159,
     "metadata": {},
     "output_type": "execute_result"
    }
   ],
   "source": [
    "# get the untrained last embedding slice \n",
    "new_embedding = new_model.layers[0].get_weights()[0][27]\n",
    "new_embedding.shape"
   ]
  },
  {
   "cell_type": "code",
   "execution_count": null,
   "metadata": {},
   "outputs": [],
   "source": [
    "new_model.fit(new_inputs, new_labels, epochs=100)"
   ]
  },
  {
   "cell_type": "code",
   "execution_count": 151,
   "metadata": {},
   "outputs": [
    {
     "data": {
      "text/plain": [
       "(29, 16)"
      ]
     },
     "execution_count": 151,
     "metadata": {},
     "output_type": "execute_result"
    }
   ],
   "source": [
    "new_weights = new_model.layers[0].get_weights()[0]\n",
    "new_weights.shape"
   ]
  },
  {
   "cell_type": "code",
   "execution_count": 155,
   "metadata": {},
   "outputs": [
    {
     "name": "stdout",
     "output_type": "stream",
     "text": [
      "The old and the new embedding weights are the same: True\n"
     ]
    }
   ],
   "source": [
    "print(f'The old and the new embedding weights are the same: {np.all(old_weights[:27] == new_weights[:27])}')"
   ]
  },
  {
   "cell_type": "code",
   "execution_count": 162,
   "metadata": {},
   "outputs": [
    {
     "name": "stdout",
     "output_type": "stream",
     "text": [
      "The new embedding layer is the same as before training: False\n"
     ]
    }
   ],
   "source": [
    "new_embedding_trained = new_model.layers[0].get_weights()[0][27]\n",
    "print(f'The new embedding layer is the same as before training: {np.any(new_embedding == new_embedding_trained)}')"
   ]
  },
  {
   "cell_type": "markdown",
   "metadata": {},
   "source": [
    "-> all the old embeddings stayed the same, the new embedding was trained"
   ]
  },
  {
   "cell_type": "markdown",
   "metadata": {},
   "source": [
    "### See if the constraint approach can be applied to the prosit network"
   ]
  },
  {
   "cell_type": "code",
   "execution_count": 253,
   "metadata": {},
   "outputs": [],
   "source": [
    "from dlomix.models import PrositIntensityPredictor\n",
    "import keras.backend as K\n",
    "from tensorflow.keras.constraints import Constraint\n",
    "\n",
    "class FixWeights(Constraint):\n",
    "    def __init__(self, old_weights):\n",
    "        self.old_weights = old_weights\n",
    "        self.freeze_weights = True\n",
    "\n",
    "    def __call__(self, w):\n",
    "        if self.freeze_weights:\n",
    "            new_w =  K.concatenate([self.old_weights[:self.old_weights.shape[0] - 1], w[self.old_weights.shape[0] - 1:]], axis=0)\n",
    "            return new_w\n",
    "        else:\n",
    "            return w\n",
    "\n",
    "    \n",
    "\n",
    "def change_input_layer(model: PrositIntensityPredictor, modifications: list = None, freeze_old_embeds: bool = False) -> None:\n",
    "    if modifications:\n",
    "        model.alphabet.update({k: i for i, k in enumerate(modifications, start=len(model.alphabet) + 1)})\n",
    "        \n",
    "    embeddings_constraint = None\n",
    "    if freeze_old_embeds:\n",
    "        # if added names to the model, replace get_layer index with name \n",
    "        trained_embeds_weights = model.layers[0].get_weights()[0]\n",
    "        embeddings_constraint = FixWeights(trained_embeds_weights)\n",
    "\n",
    "    model.embedding = tf.keras.layers.Embedding(\n",
    "        input_dim=len(model.alphabet) + 2,\n",
    "        output_dim=model.embedding_output_dim,\n",
    "        input_length=model.seq_length,\n",
    "        embeddings_constraint=embeddings_constraint,\n",
    "        name='embedding'\n",
    "        )"
   ]
  },
  {
   "cell_type": "code",
   "execution_count": 260,
   "metadata": {},
   "outputs": [],
   "source": [
    "# use a Custom Callback to check if the weights of the new embedding layer changes\n",
    "class PrintWeights(tf.keras.callbacks.Callback):\n",
    "    def __init__(self, index):\n",
    "        super().__init__()\n",
    "        self.index = index\n",
    "    def on_epoch_end(self, epoch, logs=None):\n",
    "        print(self.model.get_layer('embedding').get_weights()[0][self.index])"
   ]
  },
  {
   "cell_type": "code",
   "execution_count": 240,
   "metadata": {},
   "outputs": [],
   "source": [
    "# load a small dataset containing the new modification\n",
    "data = load_processed_dataset('/cmnfs/proj/prosit_astral/bmpc_dlomix_group/datasets/processed/kmod_formyl')"
   ]
  },
  {
   "cell_type": "code",
   "execution_count": 241,
   "metadata": {},
   "outputs": [],
   "source": [
    "# load the model\n",
    "model = tf.keras.models.load_model(MODEL_DIR + RUN_NAME + '.keras')"
   ]
  },
  {
   "cell_type": "code",
   "execution_count": 242,
   "metadata": {},
   "outputs": [
    {
     "data": {
      "text/plain": [
       "(27, 16)"
      ]
     },
     "execution_count": 242,
     "metadata": {},
     "output_type": "execute_result"
    }
   ],
   "source": [
    "# get the trained weights from the embedding layer\n",
    "old_w = model.layers[0].get_weights()[0]\n",
    "old_w.shape"
   ]
  },
  {
   "cell_type": "code",
   "execution_count": 243,
   "metadata": {},
   "outputs": [],
   "source": [
    "# change the embedding layer \n",
    "change_input_layer(model, modifications=['K[UNIMOD:122]'], freeze_old_embeds=True)"
   ]
  },
  {
   "cell_type": "code",
   "execution_count": 244,
   "metadata": {},
   "outputs": [],
   "source": [
    "# freeze everything except the embedding layer\n",
    "def freeze_model(model:dlomix.models.prosit.PrositIntensityPredictor, trainable_first_layer:bool = False, trainable_last_layer:bool = False) -> None:\n",
    "    model.trainable = True \n",
    "    for lay in model.layers:\n",
    "        try:\n",
    "            for sublay in lay.layers:\n",
    "                sublay.trainable = False\n",
    "        except (AttributeError):\n",
    "            lay.trainable = False\n",
    "\n",
    "    if (trainable_first_layer):\n",
    "        first_layer = model.get_layer(name=\"embedding\")\n",
    "        first_layer.trainable = True\n",
    "\n",
    "    if (trainable_last_layer):\n",
    "        last_layer = model.get_layer(name = \"sequential_4\").get_layer(name = \"time_dense\")\n",
    "        last_layer.trainable = True\n",
    "freeze_model(model, trainable_first_layer=True)"
   ]
  },
  {
   "cell_type": "code",
   "execution_count": 245,
   "metadata": {},
   "outputs": [
    {
     "data": {
      "text/plain": [
       "<__main__.FixWeights at 0x7f4f3c861420>"
      ]
     },
     "execution_count": 245,
     "metadata": {},
     "output_type": "execute_result"
    }
   ],
   "source": [
    "# check the embeddings constraint\n",
    "model.get_layer('embedding').embeddings_constraint"
   ]
  },
  {
   "cell_type": "code",
   "execution_count": 246,
   "metadata": {},
   "outputs": [],
   "source": [
    "# recompile the model\n",
    "model.compile(tf.keras.optimizers.Adam(learning_rate=0.0001), loss=masked_spectral_distance)"
   ]
  },
  {
   "cell_type": "code",
   "execution_count": 247,
   "metadata": {},
   "outputs": [
    {
     "data": {
      "text/plain": [
       "{'C[UNIMOD:4]': 24,\n",
       " 'M[UNIMOD:35]': 25,\n",
       " 'A': 1,\n",
       " 'C': 2,\n",
       " 'D': 3,\n",
       " 'E': 4,\n",
       " 'F': 5,\n",
       " 'G': 6,\n",
       " 'H': 7,\n",
       " 'I': 8,\n",
       " 'K': 9,\n",
       " 'L': 10,\n",
       " 'M': 11,\n",
       " 'N': 12,\n",
       " 'P': 13,\n",
       " 'Q': 14,\n",
       " 'R': 15,\n",
       " 'S': 16,\n",
       " 'T': 17,\n",
       " 'V': 18,\n",
       " 'W': 19,\n",
       " 'Y': 20,\n",
       " '[]-': 21,\n",
       " '-[]': 22,\n",
       " '[UNIMOD:737]-': 21,\n",
       " 'K[UNIMOD:122]': 26}"
      ]
     },
     "execution_count": 247,
     "metadata": {},
     "output_type": "execute_result"
    }
   ],
   "source": [
    "model.alphabet"
   ]
  },
  {
   "cell_type": "code",
   "execution_count": null,
   "metadata": {},
   "outputs": [],
   "source": [
    "# train the model on the dataset containing the new modification for two epochs\n",
    "model.fit(\n",
    "    data.tensor_train_data,\n",
    "    validation_data=data.tensor_val_data,\n",
    "    epochs=2,\n",
    "    callbacks=[PrintWeights(index=model.alphabet['K[UNIMOD:122]'])]\n",
    ")"
   ]
  },
  {
   "cell_type": "code",
   "execution_count": 249,
   "metadata": {},
   "outputs": [
    {
     "data": {
      "text/plain": [
       "(28, 16)"
      ]
     },
     "execution_count": 249,
     "metadata": {},
     "output_type": "execute_result"
    }
   ],
   "source": [
    "# retrieve the weigths of the new embedding layer\n",
    "new_w = model.get_layer('embedding').get_weights()[0]\n",
    "new_w.shape"
   ]
  },
  {
   "cell_type": "code",
   "execution_count": 251,
   "metadata": {},
   "outputs": [
    {
     "name": "stdout",
     "output_type": "stream",
     "text": [
      "The weights for the old embeddings are the same as before training: True\n"
     ]
    }
   ],
   "source": [
    "# check if the old embedding weights are the same\n",
    "print(f'The weights for the old embeddings are the same as before training: {np.all(old_w[:26] == new_w[:26])}')"
   ]
  },
  {
   "cell_type": "code",
   "execution_count": 252,
   "metadata": {},
   "outputs": [
    {
     "name": "stdout",
     "output_type": "stream",
     "text": [
      "The weights of the new embedding did not change: False\n"
     ]
    }
   ],
   "source": [
    "print(f'The weights of the new embedding did not change: {np.all(old_w[26] == new_w[26])}')"
   ]
  },
  {
   "cell_type": "markdown",
   "metadata": {},
   "source": [
    "### Check if the constraint can be lifted after a specified number of epochs"
   ]
  },
  {
   "cell_type": "code",
   "execution_count": 125,
   "metadata": {},
   "outputs": [],
   "source": [
    "from keras.callbacks import Callback\n",
    "class ReleaseTrainedEmbeddings(Callback):\n",
    "    def __init__(self, removal_epoch):\n",
    "        super().__init__()\n",
    "        self.removal_epoch = removal_epoch\n",
    "    \n",
    "    def on_epoch_end(self, epoch, logs=None):\n",
    "        if epoch == self.removal_epoch:\n",
    "            print(f'Removing Constraint from the Embedding layer at the end of epoch {epoch + 1}')\n",
    "            print(f\"Freeze Weight parameter of embeddings constraint: {self.model.get_layer('embedding').embeddings_constraint.freeze_weights}\")\n",
    "            self.model.get_layer('embedding').embeddings_constraint.freeze_weights = False\n",
    "            print(f\"Freeze Weight parameter of embeddings constraint: {self.model.get_layer('embedding').embeddings_constraint.freeze_weights}\")\n",
    "        print(f'Current status of the freeze variable: {self.model.get_layer(\"embedding\").embeddings_constraint.freeze_weights}')\n",
    "        # print(f'Weights of the last embedding layer: {self.model.get_layer(\"embedding\").get_weights()[0][-1]}')\n",
    "        return super().on_epoch_begin(epoch, logs)"
   ]
  },
  {
   "cell_type": "code",
   "execution_count": 262,
   "metadata": {},
   "outputs": [],
   "source": [
    "model = tf.keras.models.load_model(MODEL_DIR + RUN_NAME + '.keras')"
   ]
  },
  {
   "cell_type": "code",
   "execution_count": 263,
   "metadata": {},
   "outputs": [
    {
     "data": {
      "text/plain": [
       "(27, 16)"
      ]
     },
     "execution_count": 263,
     "metadata": {},
     "output_type": "execute_result"
    }
   ],
   "source": [
    "old_w = model.layers[0].get_weights()[0]\n",
    "old_w.shape"
   ]
  },
  {
   "cell_type": "code",
   "execution_count": 264,
   "metadata": {},
   "outputs": [],
   "source": [
    "change_input_layer(model, modifications=['K[UNIMOD:122]'], freeze_old_embeds=True)"
   ]
  },
  {
   "cell_type": "code",
   "execution_count": 265,
   "metadata": {},
   "outputs": [],
   "source": [
    "model.compile(\n",
    "    optimizer=tf.keras.optimizers.Adam(learning_rate=1e-4),\n",
    "    loss=masked_spectral_distance\n",
    ")"
   ]
  },
  {
   "cell_type": "code",
   "execution_count": 266,
   "metadata": {},
   "outputs": [],
   "source": [
    "remove_constraint = ReleaseTrainedEmbeddings(0)"
   ]
  },
  {
   "cell_type": "code",
   "execution_count": 267,
   "metadata": {},
   "outputs": [
    {
     "name": "stdout",
     "output_type": "stream",
     "text": [
      "Epoch 1/2\n",
      "8/8 [==============================] - ETA: 0s - loss: 0.2321Removing Constraint from the Embedding layer at the end of epoch 1\n",
      "Freeze Weight parameter of embeddings constraint: True\n",
      "Freeze Weight parameter of embeddings constraint: False\n",
      "Current status of the freeze variable: False\n",
      "[ 0.03406671 -0.0106273  -0.00315154 -0.0167591  -0.02614599 -0.01810019\n",
      " -0.021102   -0.00489302  0.0461325  -0.03015964 -0.01576848  0.00419869\n",
      "  0.0067616  -0.00386465  0.0232656  -0.03467298]\n",
      "8/8 [==============================] - 20s 2s/step - loss: 0.2321 - val_loss: 0.1250\n",
      "Epoch 2/2\n",
      "8/8 [==============================] - ETA: 0s - loss: 0.1283Current status of the freeze variable: False\n",
      "[ 0.03329237 -0.00989974 -0.0035409  -0.01699404 -0.02670727 -0.01735336\n",
      " -0.02149486 -0.00503155  0.04664031 -0.03054655 -0.01652582  0.00373193\n",
      "  0.00669289 -0.00374477  0.0235149  -0.03433805]\n",
      "8/8 [==============================] - 11s 1s/step - loss: 0.1283 - val_loss: 0.1165\n"
     ]
    },
    {
     "data": {
      "text/plain": [
       "<keras.src.callbacks.History at 0x7f4ee3636e60>"
      ]
     },
     "execution_count": 267,
     "metadata": {},
     "output_type": "execute_result"
    }
   ],
   "source": [
    "# check if the constraint can be removed after a certain epoch by using a Callback\n",
    "model.fit(\n",
    "    data.tensor_train_data,\n",
    "    validation_data=data.tensor_val_data,\n",
    "    epochs=2,\n",
    "    callbacks=[remove_constraint, PrintWeights(index=model.alphabet['K[UNIMOD:122]'])]\n",
    ")"
   ]
  },
  {
   "cell_type": "markdown",
   "metadata": {},
   "source": [
    "The weights printed are the weights of the new embedding layer. These weights change, whereas the old weights do not change (cell below!)\\\n",
    "BUT: even though we lift the constraint -> the old embedding weights do not change"
   ]
  },
  {
   "cell_type": "code",
   "execution_count": 269,
   "metadata": {},
   "outputs": [
    {
     "name": "stdout",
     "output_type": "stream",
     "text": [
      "The weights for the old embeddings are the same as before training: True\n"
     ]
    }
   ],
   "source": [
    "# check if the embedding weights did change\n",
    "new_w = model.get_layer('embedding').get_weights()[0]\n",
    "print(f'The weights for the old embeddings are the same as before training: {np.all(old_w[:26] == new_w[:26])}')"
   ]
  },
  {
   "cell_type": "markdown",
   "metadata": {},
   "source": [
    "-> The model needs to be compiled again after removing the constraint of the embeddings layer -> not so easily possible in TF2"
   ]
  }
 ],
 "metadata": {
  "kernelspec": {
   "display_name": "dlomix",
   "language": "python",
   "name": "python3"
  },
  "language_info": {
   "codemirror_mode": {
    "name": "ipython",
    "version": 3
   },
   "file_extension": ".py",
   "mimetype": "text/x-python",
   "name": "python",
   "nbconvert_exporter": "python",
   "pygments_lexer": "ipython3",
   "version": "3.10.0"
  }
 },
 "nbformat": 4,
 "nbformat_minor": 2
}
