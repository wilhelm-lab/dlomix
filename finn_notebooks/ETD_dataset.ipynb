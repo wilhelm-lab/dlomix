{
 "cells": [
  {
   "cell_type": "code",
   "execution_count": 7,
   "metadata": {},
   "outputs": [],
   "source": [
    "import pandas as pd\n",
    "import os\n",
    "from pathlib import Path\n",
    "from collections import Counter"
   ]
  },
  {
   "cell_type": "code",
   "execution_count": 2,
   "metadata": {},
   "outputs": [],
   "source": [
    "etd_dir = '/cmnfs/data/proteomics/ProteomeTools/ETD/parquet'\n",
    "data_frames = list()\n",
    "for file_name in os.listdir(etd_dir):\n",
    "    data_frames.append(pd.read_parquet(Path(etd_dir) / file_name))"
   ]
  },
  {
   "cell_type": "code",
   "execution_count": 3,
   "metadata": {},
   "outputs": [
    {
     "name": "stdout",
     "output_type": "stream",
     "text": [
      "2588\n",
      "2083\n",
      "2365\n",
      "2554\n",
      "2257\n",
      "2885\n",
      "2569\n",
      "2351\n",
      "2287\n",
      "2749\n"
     ]
    }
   ],
   "source": [
    "for df in data_frames:\n",
    "    print(len(df))"
   ]
  },
  {
   "cell_type": "code",
   "execution_count": 50,
   "metadata": {},
   "outputs": [],
   "source": [
    "all_seqs = pd.concat(data_frames, axis=0)"
   ]
  },
  {
   "cell_type": "code",
   "execution_count": 51,
   "metadata": {},
   "outputs": [],
   "source": [
    "all_seqs.reset_index(inplace=True)\n",
    "all_seqs.drop('index', inplace=True, axis=1)"
   ]
  },
  {
   "cell_type": "code",
   "execution_count": 52,
   "metadata": {},
   "outputs": [],
   "source": [
    "def count_non_zero(intensities):\n",
    "    intensities = intensities[intensities != 0]\n",
    "    intensities = intensities[intensities != -1]\n",
    "    return len(intensities)"
   ]
  },
  {
   "cell_type": "code",
   "execution_count": 53,
   "metadata": {},
   "outputs": [
    {
     "data": {
      "text/plain": [
       "count    24688.000000\n",
       "mean         3.915506\n",
       "std          2.415584\n",
       "min          0.000000\n",
       "25%          2.000000\n",
       "50%          3.000000\n",
       "75%          5.000000\n",
       "max         16.000000\n",
       "Name: intensities_raw, dtype: float64"
      ]
     },
     "execution_count": 53,
     "metadata": {},
     "output_type": "execute_result"
    }
   ],
   "source": [
    "all_seqs.loc[:, 'intensities_raw'].apply(count_non_zero).describe()"
   ]
  },
  {
   "cell_type": "code",
   "execution_count": 58,
   "metadata": {},
   "outputs": [
    {
     "name": "stdout",
     "output_type": "stream",
     "text": [
      "Train set has 70.00% of all sequences\n",
      "Validation set has 20.00% of all sequences\n",
      "Test set has 10.00% of all sequences\n"
     ]
    }
   ],
   "source": [
    "total_seqs = len(all_seqs)\n",
    "train_df = all_seqs.sample(frac=0.7)\n",
    "all_seqs.drop(train_df.index, axis=0, inplace=True)\n",
    "val_df = all_seqs.sample(frac=2/3)\n",
    "test_df = all_seqs.drop(val_df.index, axis=0)\n",
    "print(f'Train set has {len(train_df) / total_seqs:.2%} of all sequences')\n",
    "print(f'Validation set has {len(val_df) / total_seqs:.2%} of all sequences')\n",
    "print(f'Test set has {len(test_df) / total_seqs:.2%} of all sequences')"
   ]
  },
  {
   "cell_type": "code",
   "execution_count": 61,
   "metadata": {},
   "outputs": [],
   "source": [
    "train_df.to_parquet(Path(etd_dir) / 'etd_data_train.parquet')\n",
    "val_df.to_parquet(Path(etd_dir) / 'etd_data_val.parquet')\n",
    "test_df.to_parquet(Path(etd_dir) / 'etd_data_test.parquet')"
   ]
  },
  {
   "cell_type": "code",
   "execution_count": null,
   "metadata": {},
   "outputs": [],
   "source": []
  }
 ],
 "metadata": {
  "kernelspec": {
   "display_name": "dlomix",
   "language": "python",
   "name": "python3"
  },
  "language_info": {
   "codemirror_mode": {
    "name": "ipython",
    "version": 3
   },
   "file_extension": ".py",
   "mimetype": "text/x-python",
   "name": "python",
   "nbconvert_exporter": "python",
   "pygments_lexer": "ipython3",
   "version": "3.10.0"
  }
 },
 "nbformat": 4,
 "nbformat_minor": 2
}
