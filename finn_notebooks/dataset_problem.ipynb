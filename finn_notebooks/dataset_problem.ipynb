{
 "cells": [
  {
   "cell_type": "markdown",
   "metadata": {},
   "source": [
    "### Check for unseen modifications that might explain negative values in the sequences"
   ]
  },
  {
   "cell_type": "markdown",
   "metadata": {},
   "source": [
    "invalid rows are the same as those sequences with the large negative values  "
   ]
  },
  {
   "cell_type": "code",
   "execution_count": 1,
   "metadata": {},
   "outputs": [],
   "source": [
    "import pandas as pd\n",
    "import re\n",
    "df = pd.read_parquet('/cmnfs/proj//bmpc_dlomix/datasets/parquet/noptm_baseline_small_test.parquet')\n",
    "# df = pd.read_parquet('/cmnfs/data/proteomics/Prosit_unmod/intensity/no_aug_test.parquet')"
   ]
  },
  {
   "cell_type": "code",
   "execution_count": 2,
   "metadata": {},
   "outputs": [
    {
     "data": {
      "text/plain": [
       "Index(['raw_file', 'scan_number', 'method_nbr', 'precursor_charge_onehot',\n",
       "       'collision_energy_aligned_normed', 'intensities_raw', 'package',\n",
       "       'modified_sequence', 'sub'],\n",
       "      dtype='object')"
      ]
     },
     "execution_count": 2,
     "metadata": {},
     "output_type": "execute_result"
    }
   ],
   "source": [
    "df.columns"
   ]
  },
  {
   "cell_type": "code",
   "execution_count": 3,
   "metadata": {},
   "outputs": [],
   "source": [
    "p = r'\\w?\\[UNIMOD:\\d{1,4}\\]'\n",
    "test = df.loc[:, 'modified_sequence'].apply(lambda seq: re.findall(p, seq))"
   ]
  },
  {
   "cell_type": "code",
   "execution_count": 4,
   "metadata": {},
   "outputs": [
    {
     "name": "stdout",
     "output_type": "stream",
     "text": [
      "{'[UNIMOD:737]', '[UNIMOD:1]', 'M[UNIMOD:35]', 'C[UNIMOD:4]', 'K[UNIMOD:737]'}\n"
     ]
    }
   ],
   "source": [
    "mods = set()\n",
    "test.apply(lambda mod: [mods.add(m) for m in mod])\n",
    "print(mods)"
   ]
  },
  {
   "cell_type": "code",
   "execution_count": 5,
   "metadata": {},
   "outputs": [
    {
     "data": {
      "text/plain": [
       "53"
      ]
     },
     "execution_count": 5,
     "metadata": {},
     "output_type": "execute_result"
    }
   ],
   "source": [
    "# find out rows in the dataset with the UNIMOD:1 or the K[UNIMOD:737] modification\n",
    "invalid_rows = list()\n",
    "for i, row in test.items():\n",
    "    if '[UNIMOD:1]' in row or 'K[UNIMOD:737]' in row:\n",
    "        invalid_rows.append(i)\n",
    "len(invalid_rows)"
   ]
  },
  {
   "cell_type": "markdown",
   "metadata": {},
   "source": [
    "The \\[UNIMOD:1\\] and K\\[UNIMOD:737\\] modification does not appear in the naive mods alphabet -> cause the large negative values"
   ]
  },
  {
   "cell_type": "code",
   "execution_count": 7,
   "metadata": {},
   "outputs": [],
   "source": [
    "# load the noptm small dataset processed with the naive alphabet and check wether the entries correspond to the negative values\n",
    "from dlomix.data import load_processed_dataset\n",
    "no_ptm_naive = load_processed_dataset('/cmnfs/proj/prosit_astral/bmpc_dlomix_group/datasets/processed/noptm_baseline_small_bs1024_naivemods')"
   ]
  },
  {
   "cell_type": "code",
   "execution_count": 8,
   "metadata": {},
   "outputs": [],
   "source": [
    "no_ptm_naive.batch_size = 1"
   ]
  },
  {
   "cell_type": "code",
   "execution_count": 13,
   "metadata": {},
   "outputs": [],
   "source": [
    "invalid_seqs = {}\n",
    "for i, (batch, _) in enumerate(no_ptm_naive.tensor_test_data):\n",
    "    if batch['modified_sequence'].numpy().min() == -9223372036854775808:\n",
    "        invalid_seqs[i] = batch['modified_sequence'].numpy()"
   ]
  },
  {
   "cell_type": "code",
   "execution_count": 10,
   "metadata": {},
   "outputs": [
    {
     "name": "stdout",
     "output_type": "stream",
     "text": [
      "[UNIMOD:1]-PHFTVVPVDGPR-[] [-9223372036854775808, 13, 7, 5, 17, 18, 18, 13, 18, 3, 6, 13, 15, 22, 0, 0, 0, 0, 0, 0, 0, 0, 0, 0, 0, 0, 0, 0, 0, 0]\n",
      "[UNIMOD:737]-APFTGITDFSVTK[UNIMOD:737]-[] [21, 1, 13, 5, 17, 6, 8, 17, 3, 5, 16, 18, 17, -9223372036854775808, 22, 0, 0, 0, 0, 0, 0, 0, 0, 0, 0, 0, 0, 0, 0, 0]\n",
      "[UNIMOD:737]-NFWIGLTYK[UNIMOD:737]-[] [21, 12, 5, 19, 8, 6, 10, 17, 20, -9223372036854775808, 22, 0, 0, 0, 0, 0, 0, 0, 0, 0, 0, 0, 0, 0, 0, 0, 0, 0, 0, 0]\n",
      "[UNIMOD:1]-AHAGGGSGGSGAGGPAGR-[] [-9223372036854775808, 1, 7, 1, 6, 6, 6, 16, 6, 6, 16, 6, 1, 6, 6, 13, 1, 6, 15, 22, 0, 0, 0, 0, 0, 0, 0, 0, 0, 0]\n",
      "[UNIMOD:1]-DNLSDTLKK-[] [-9223372036854775808, 3, 12, 10, 16, 3, 17, 10, 9, 9, 22, 0, 0, 0, 0, 0, 0, 0, 0, 0, 0, 0, 0, 0, 0, 0, 0, 0, 0, 0]\n",
      "[UNIMOD:1]-AASLVGKKIVFVTGNAK-[] [-9223372036854775808, 1, 1, 16, 10, 18, 6, 9, 9, 8, 18, 5, 18, 17, 6, 12, 1, 9, 22, 0, 0, 0, 0, 0, 0, 0, 0, 0, 0, 0]\n",
      "[UNIMOD:737]-VTHVEDLNAK[UNIMOD:737]-[] [21, 18, 17, 7, 18, 4, 3, 10, 12, 1, -9223372036854775808, 22, 0, 0, 0, 0, 0, 0, 0, 0, 0, 0, 0, 0, 0, 0, 0, 0, 0, 0]\n",
      "[UNIMOD:737]-LEFASM[UNIMOD:35]FDTIHAK[UNIMOD:737]-[] [21, 10, 4, 5, 1, 16, 25, 5, 3, 17, 8, 7, 1, -9223372036854775808, 22, 0, 0, 0, 0, 0, 0, 0, 0, 0, 0, 0, 0, 0, 0, 0]\n",
      "[UNIMOD:737]-AGALSDVSVSIQNLLLSQK[UNIMOD:737]-[] [21, 1, 6, 1, 10, 16, 3, 18, 16, 18, 16, 8, 14, 12, 10, 10, 10, 16, 14, -9223372036854775808, 22, 0, 0, 0, 0, 0, 0, 0, 0, 0]\n",
      "[UNIMOD:737]-IPEVPGSLPASHK[UNIMOD:737]-[] [21, 8, 13, 4, 18, 13, 6, 16, 10, 13, 1, 16, 7, -9223372036854775808, 22, 0, 0, 0, 0, 0, 0, 0, 0, 0, 0, 0, 0, 0, 0, 0]\n",
      "[UNIMOD:737]-MALNSGLTK[UNIMOD:737]-[] [21, 11, 1, 10, 12, 16, 6, 10, 17, -9223372036854775808, 22, 0, 0, 0, 0, 0, 0, 0, 0, 0, 0, 0, 0, 0, 0, 0, 0, 0, 0, 0]\n",
      "[UNIMOD:737]-LQPAAMYEIK[UNIMOD:737]-[] [21, 10, 14, 13, 1, 1, 11, 20, 4, 8, -9223372036854775808, 22, 0, 0, 0, 0, 0, 0, 0, 0, 0, 0, 0, 0, 0, 0, 0, 0, 0, 0]\n",
      "[UNIMOD:737]-GTDLQGELFK[UNIMOD:737]-[] [21, 6, 17, 3, 10, 14, 6, 4, 10, 5, -9223372036854775808, 22, 0, 0, 0, 0, 0, 0, 0, 0, 0, 0, 0, 0, 0, 0, 0, 0, 0, 0]\n",
      "[UNIMOD:737]-TLFFLC[UNIMOD:4]K[UNIMOD:737]-[] [21, 17, 10, 5, 5, 10, 24, -9223372036854775808, 22, 0, 0, 0, 0, 0, 0, 0, 0, 0, 0, 0, 0, 0, 0, 0, 0, 0, 0, 0, 0, 0]\n",
      "[UNIMOD:737]-LSGNEYVLSTK[UNIMOD:737]-[] [21, 10, 16, 6, 12, 4, 20, 18, 10, 16, 17, -9223372036854775808, 22, 0, 0, 0, 0, 0, 0, 0, 0, 0, 0, 0, 0, 0, 0, 0, 0, 0]\n",
      "[UNIMOD:737]-HFLTEGHRPK[UNIMOD:737]-[] [21, 7, 5, 10, 17, 4, 6, 7, 15, 13, -9223372036854775808, 22, 0, 0, 0, 0, 0, 0, 0, 0, 0, 0, 0, 0, 0, 0, 0, 0, 0, 0]\n",
      "[UNIMOD:737]-IWGLDFGDC[UNIMOD:4]HK[UNIMOD:737]-[] [21, 8, 19, 6, 10, 3, 5, 6, 3, 24, 7, -9223372036854775808, 22, 0, 0, 0, 0, 0, 0, 0, 0, 0, 0, 0, 0, 0, 0, 0, 0, 0]\n",
      "[UNIMOD:1]-EFVTALADLR-[] [-9223372036854775808, 4, 5, 18, 17, 1, 10, 1, 3, 10, 15, 22, 0, 0, 0, 0, 0, 0, 0, 0, 0, 0, 0, 0, 0, 0, 0, 0, 0, 0]\n",
      "[UNIMOD:737]-SILYPK[UNIMOD:737]PTDFK[UNIMOD:737]-[] [21, 16, 8, 10, 20, 13, -9223372036854775808, 13, 17, 3, 5, -9223372036854775808, 22, 0, 0, 0, 0, 0, 0, 0, 0, 0, 0, 0, 0, 0, 0, 0, 0, 0]\n",
      "[UNIMOD:737]-DTILAELLQIHK[UNIMOD:737]-[] [21, 3, 17, 8, 10, 1, 4, 10, 10, 14, 8, 7, -9223372036854775808, 22, 0, 0, 0, 0, 0, 0, 0, 0, 0, 0, 0, 0, 0, 0, 0, 0]\n",
      "[UNIMOD:737]-ISVPQLSGAPILLPDLEGTK[UNIMOD:737]-[] [21, 8, 16, 18, 13, 14, 10, 16, 6, 1, 13, 8, 10, 10, 13, 3, 10, 4, 6, 17, -9223372036854775808, 22, 0, 0, 0, 0, 0, 0, 0, 0]\n",
      "[UNIMOD:737]-SAIDLEEM[UNIMOD:35]ASGLNK[UNIMOD:737]-[] [21, 16, 1, 8, 3, 10, 4, 4, 25, 1, 16, 6, 10, 12, -9223372036854775808, 22, 0, 0, 0, 0, 0, 0, 0, 0, 0, 0, 0, 0, 0, 0]\n",
      "[UNIMOD:737]-K[UNIMOD:737]PFTFETQEGK[UNIMOD:737]-[] [21, -9223372036854775808, 13, 5, 17, 5, 4, 17, 14, 4, 6, -9223372036854775808, 22, 0, 0, 0, 0, 0, 0, 0, 0, 0, 0, 0, 0, 0, 0, 0, 0, 0]\n",
      "[UNIMOD:737]-NILDEIK[UNIMOD:737]-[] [21, 12, 8, 10, 3, 4, 8, -9223372036854775808, 22, 0, 0, 0, 0, 0, 0, 0, 0, 0, 0, 0, 0, 0, 0, 0, 0, 0, 0, 0, 0, 0]\n",
      "[UNIMOD:737]-MGTPVLEALGDGEFVK[UNIMOD:737]-[] [21, 11, 6, 17, 13, 18, 10, 4, 1, 10, 6, 3, 6, 4, 5, 18, -9223372036854775808, 22, 0, 0, 0, 0, 0, 0, 0, 0, 0, 0, 0, 0]\n",
      "[UNIMOD:737]-ENIPEDSSMVSK[UNIMOD:737]-[] [21, 4, 12, 8, 13, 4, 3, 16, 16, 11, 18, 16, -9223372036854775808, 22, 0, 0, 0, 0, 0, 0, 0, 0, 0, 0, 0, 0, 0, 0, 0, 0]\n",
      "[UNIMOD:737]-WVAGDGLEEQEFSIK[UNIMOD:737]-[] [21, 19, 18, 1, 6, 3, 6, 10, 4, 4, 14, 4, 5, 16, 8, -9223372036854775808, 22, 0, 0, 0, 0, 0, 0, 0, 0, 0, 0, 0, 0, 0]\n",
      "[UNIMOD:737]-VAAPAADATLSAK[UNIMOD:737]PR-[] [21, 18, 1, 1, 13, 1, 1, 3, 1, 17, 10, 16, 1, -9223372036854775808, 13, 15, 22, 0, 0, 0, 0, 0, 0, 0, 0, 0, 0, 0, 0, 0]\n",
      "[UNIMOD:1]-FINDVEQC[UNIMOD:4]QWIR-[] [-9223372036854775808, 5, 8, 12, 3, 18, 4, 14, 24, 14, 19, 8, 15, 22, 0, 0, 0, 0, 0, 0, 0, 0, 0, 0, 0, 0, 0, 0, 0, 0]\n",
      "[UNIMOD:1]-SNPRSLEEEKY-[] [-9223372036854775808, 16, 12, 13, 15, 16, 10, 4, 4, 4, 9, 20, 22, 0, 0, 0, 0, 0, 0, 0, 0, 0, 0, 0, 0, 0, 0, 0, 0, 0]\n",
      "[UNIMOD:737]-IC[UNIMOD:4]VITLAESHPVLQSGK[UNIMOD:737]-[] [21, 8, 24, 18, 8, 17, 10, 1, 4, 16, 7, 13, 18, 10, 14, 16, 6, -9223372036854775808, 22, 0, 0, 0, 0, 0, 0, 0, 0, 0, 0, 0]\n",
      "[UNIMOD:737]-ETFLGSVK[UNIMOD:737]-[] [21, 4, 17, 5, 10, 6, 16, 18, -9223372036854775808, 22, 0, 0, 0, 0, 0, 0, 0, 0, 0, 0, 0, 0, 0, 0, 0, 0, 0, 0, 0, 0]\n",
      "[UNIMOD:1]-VDIIFHYPFLGAMGDHSK-[] [-9223372036854775808, 18, 3, 8, 8, 5, 7, 20, 13, 5, 10, 6, 1, 11, 6, 3, 7, 16, 9, 22, 0, 0, 0, 0, 0, 0, 0, 0, 0, 0]\n",
      "[UNIMOD:1]-ATNFLAHEKIWFDK-[] [-9223372036854775808, 1, 17, 12, 5, 10, 1, 7, 4, 9, 8, 19, 5, 3, 9, 22, 0, 0, 0, 0, 0, 0, 0, 0, 0, 0, 0, 0, 0, 0]\n",
      "[UNIMOD:737]-NNFLQSSLLTQK[UNIMOD:737]-[] [21, 12, 12, 5, 10, 14, 16, 16, 10, 10, 17, 14, -9223372036854775808, 22, 0, 0, 0, 0, 0, 0, 0, 0, 0, 0, 0, 0, 0, 0, 0, 0]\n",
      "[UNIMOD:737]-NGGGVGGGELDK[UNIMOD:737]-[] [21, 12, 6, 6, 6, 18, 6, 6, 6, 4, 10, 3, -9223372036854775808, 22, 0, 0, 0, 0, 0, 0, 0, 0, 0, 0, 0, 0, 0, 0, 0, 0]\n",
      "[UNIMOD:737]-YLLTPSM[UNIMOD:35]QK[UNIMOD:737]-[] [21, 20, 10, 10, 17, 13, 16, 25, 14, -9223372036854775808, 22, 0, 0, 0, 0, 0, 0, 0, 0, 0, 0, 0, 0, 0, 0, 0, 0, 0, 0, 0]\n",
      "[UNIMOD:737]-GISAGAVQTAGK[UNIMOD:737]-[] [21, 6, 8, 16, 1, 6, 1, 18, 14, 17, 1, 6, -9223372036854775808, 22, 0, 0, 0, 0, 0, 0, 0, 0, 0, 0, 0, 0, 0, 0, 0, 0]\n",
      "[UNIMOD:737]-TPPAPSPFDLPELK[UNIMOD:737]-[] [21, 17, 13, 13, 1, 13, 16, 13, 5, 3, 10, 13, 4, 10, -9223372036854775808, 22, 0, 0, 0, 0, 0, 0, 0, 0, 0, 0, 0, 0, 0, 0]\n",
      "[UNIMOD:737]-VHQNEVQPPVRPGK[UNIMOD:737]-[] [21, 18, 7, 14, 12, 4, 18, 14, 13, 13, 18, 15, 13, 6, -9223372036854775808, 22, 0, 0, 0, 0, 0, 0, 0, 0, 0, 0, 0, 0, 0, 0]\n",
      "[UNIMOD:1]-VDRLANSEANTRR-[] [-9223372036854775808, 18, 3, 15, 10, 1, 12, 16, 4, 1, 12, 17, 15, 15, 22, 0, 0, 0, 0, 0, 0, 0, 0, 0, 0, 0, 0, 0, 0, 0]\n",
      "[UNIMOD:1]-AQAKINAKANEGRF-[] [-9223372036854775808, 1, 14, 1, 9, 8, 12, 1, 9, 1, 12, 4, 6, 15, 5, 22, 0, 0, 0, 0, 0, 0, 0, 0, 0, 0, 0, 0, 0, 0]\n",
      "[UNIMOD:737]-FIPSHLNNK[UNIMOD:737]-[] [21, 5, 8, 13, 16, 7, 10, 12, 12, -9223372036854775808, 22, 0, 0, 0, 0, 0, 0, 0, 0, 0, 0, 0, 0, 0, 0, 0, 0, 0, 0, 0]\n",
      "[UNIMOD:737]-EQVEVVEFHSNK[UNIMOD:737]-[] [21, 4, 14, 18, 4, 18, 18, 4, 5, 7, 16, 12, -9223372036854775808, 22, 0, 0, 0, 0, 0, 0, 0, 0, 0, 0, 0, 0, 0, 0, 0, 0]\n",
      "[UNIMOD:737]-AYLESFYK[UNIMOD:737]-[] [21, 1, 20, 10, 4, 16, 5, 20, -9223372036854775808, 22, 0, 0, 0, 0, 0, 0, 0, 0, 0, 0, 0, 0, 0, 0, 0, 0, 0, 0, 0, 0]\n",
      "[UNIMOD:737]-LSQELSTVATEK[UNIMOD:737]-[] [21, 10, 16, 14, 4, 10, 16, 17, 18, 1, 17, 4, -9223372036854775808, 22, 0, 0, 0, 0, 0, 0, 0, 0, 0, 0, 0, 0, 0, 0, 0, 0]\n",
      "[UNIMOD:737]-LYLLTEK[UNIMOD:737]-[] [21, 10, 20, 10, 10, 17, 4, -9223372036854775808, 22, 0, 0, 0, 0, 0, 0, 0, 0, 0, 0, 0, 0, 0, 0, 0, 0, 0, 0, 0, 0, 0]\n",
      "[UNIMOD:737]-NLYILGNFM[UNIMOD:35]QLK[UNIMOD:737]-[] [21, 12, 10, 20, 8, 10, 6, 12, 5, 25, 14, 10, -9223372036854775808, 22, 0, 0, 0, 0, 0, 0, 0, 0, 0, 0, 0, 0, 0, 0, 0, 0]\n",
      "[UNIMOD:737]-AEMEDLVSSK[UNIMOD:737]-[] [21, 1, 4, 11, 4, 3, 10, 18, 16, 16, -9223372036854775808, 22, 0, 0, 0, 0, 0, 0, 0, 0, 0, 0, 0, 0, 0, 0, 0, 0, 0, 0]\n",
      "[UNIMOD:737]-GDPYPQEVSATVQK[UNIMOD:737]-[] [21, 6, 3, 13, 20, 13, 14, 4, 18, 16, 1, 17, 18, 14, -9223372036854775808, 22, 0, 0, 0, 0, 0, 0, 0, 0, 0, 0, 0, 0, 0, 0]\n",
      "[UNIMOD:1]-ASMQKRLQKE-[] [-9223372036854775808, 1, 16, 11, 14, 9, 15, 10, 14, 9, 4, 22, 0, 0, 0, 0, 0, 0, 0, 0, 0, 0, 0, 0, 0, 0, 0, 0, 0, 0]\n",
      "[UNIMOD:1]-AATAAAVVAEEDTELR-[] [-9223372036854775808, 1, 1, 17, 1, 1, 1, 18, 18, 1, 4, 4, 3, 17, 4, 10, 15, 22, 0, 0, 0, 0, 0, 0, 0, 0, 0, 0, 0, 0]\n",
      "[UNIMOD:737]-TVVTPVILTK[UNIMOD:737]-[] [21, 17, 18, 18, 17, 13, 18, 8, 10, 17, -9223372036854775808, 22, 0, 0, 0, 0, 0, 0, 0, 0, 0, 0, 0, 0, 0, 0, 0, 0, 0, 0]\n"
     ]
    }
   ],
   "source": [
    "for i, seq in invalid_seqs.items():\n",
    "    print(df.loc[i, 'modified_sequence'], list(seq[0]))"
   ]
  },
  {
   "cell_type": "code",
   "execution_count": 11,
   "metadata": {},
   "outputs": [
    {
     "data": {
      "text/plain": [
       "(53, 53)"
      ]
     },
     "execution_count": 11,
     "metadata": {},
     "output_type": "execute_result"
    }
   ],
   "source": [
    "len(invalid_rows), len(invalid_seqs)"
   ]
  },
  {
   "cell_type": "code",
   "execution_count": 12,
   "metadata": {},
   "outputs": [],
   "source": [
    "assert set(invalid_rows) == set(invalid_seqs.keys())"
   ]
  }
 ],
 "metadata": {
  "kernelspec": {
   "display_name": "dlomix",
   "language": "python",
   "name": "python3"
  },
  "language_info": {
   "codemirror_mode": {
    "name": "ipython",
    "version": 3
   },
   "file_extension": ".py",
   "mimetype": "text/x-python",
   "name": "python",
   "nbconvert_exporter": "python",
   "pygments_lexer": "ipython3",
   "version": "3.10.0"
  }
 },
 "nbformat": 4,
 "nbformat_minor": 2
}
