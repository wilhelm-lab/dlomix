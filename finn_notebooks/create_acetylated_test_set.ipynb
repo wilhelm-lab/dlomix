{
 "cells": [
  {
   "cell_type": "code",
   "execution_count": 1,
   "metadata": {},
   "outputs": [],
   "source": [
    "from pyarrow import parquet as pq \n",
    "import numpy as np\n",
    "import pandas as pd"
   ]
  },
  {
   "cell_type": "code",
   "execution_count": 2,
   "metadata": {},
   "outputs": [],
   "source": [
    "unique_seqs_small = set()\n",
    "unique_seqs_large = set()\n",
    "path_to_large = '/cmnfs/data/proteomics/Prosit_PTMs/TUM_mod_acetylated.parquet'\n",
    "path_to_small = '/cmnfs/data/proteomics/Prosit_PTMs/21PTMs/Kmod_Acetyl.parquet'\n",
    "total_seqs_small = 0\n",
    "total_seqs_large = 0\n",
    "for batch in pq.ParquetFile(path_to_small).iter_batches():\n",
    "    for seq in batch['modified_sequence']:\n",
    "        total_seqs_small += 1\n",
    "        unique_seqs_small.add(seq)\n",
    "for batch in pq.ParquetFile(path_to_large).iter_batches():\n",
    "    for seq in batch['modified_sequence']:\n",
    "        total_seqs_large += 1\n",
    "        unique_seqs_large.add(seq)"
   ]
  },
  {
   "cell_type": "code",
   "execution_count": 3,
   "metadata": {},
   "outputs": [
    {
     "data": {
      "text/plain": [
       "(8549, 1037199)"
      ]
     },
     "execution_count": 3,
     "metadata": {},
     "output_type": "execute_result"
    }
   ],
   "source": [
    "total_seqs_small, total_seqs_large"
   ]
  },
  {
   "cell_type": "code",
   "execution_count": 4,
   "metadata": {},
   "outputs": [
    {
     "data": {
      "text/plain": [
       "(300, 36387)"
      ]
     },
     "execution_count": 4,
     "metadata": {},
     "output_type": "execute_result"
    }
   ],
   "source": [
    "len(unique_seqs_small), len(unique_seqs_large)"
   ]
  },
  {
   "cell_type": "code",
   "execution_count": 7,
   "metadata": {},
   "outputs": [
    {
     "data": {
      "text/plain": [
       "0"
      ]
     },
     "execution_count": 7,
     "metadata": {},
     "output_type": "execute_result"
    }
   ],
   "source": [
    "len(unique_seqs_small & unique_seqs_large)"
   ]
  },
  {
   "cell_type": "code",
   "execution_count": 12,
   "metadata": {},
   "outputs": [],
   "source": [
    "# create a test set for small containing 10.000 seqs from the large set and a test set for large containing all seqs from the small set\n",
    "batch_frames = list()\n",
    "for batch in pq.ParquetFile(path_to_large).iter_batches():\n",
    "    batch_frames.append(batch.to_pandas().reset_index())"
   ]
  },
  {
   "cell_type": "code",
   "execution_count": 10,
   "metadata": {},
   "outputs": [
    {
     "data": {
      "text/plain": [
       "16"
      ]
     },
     "execution_count": 10,
     "metadata": {},
     "output_type": "execute_result"
    }
   ],
   "source": [
    "len(batch_frames)"
   ]
  },
  {
   "cell_type": "code",
   "execution_count": 15,
   "metadata": {},
   "outputs": [],
   "source": [
    "all_batches = pd.concat(batch_frames, axis=0)"
   ]
  },
  {
   "cell_type": "code",
   "execution_count": 17,
   "metadata": {},
   "outputs": [],
   "source": [
    "rand_idx = np.random.randint(0, len(all_batches), size=10_000)"
   ]
  },
  {
   "cell_type": "code",
   "execution_count": 20,
   "metadata": {},
   "outputs": [],
   "source": [
    "test_set_for_small = all_batches.iloc[rand_idx, :]"
   ]
  },
  {
   "cell_type": "code",
   "execution_count": 21,
   "metadata": {},
   "outputs": [],
   "source": [
    "test_set_for_small.to_parquet('/cmnfs/proj/bmpc_dlomix/datasets/parquet/Kmod_Acetylated_test_for_small.parquet')"
   ]
  },
  {
   "cell_type": "markdown",
   "metadata": {},
   "source": [
    "### Make predictions on test set"
   ]
  },
  {
   "cell_type": "code",
   "execution_count": 2,
   "metadata": {},
   "outputs": [
    {
     "name": "stderr",
     "output_type": "stream",
     "text": [
      "2024-08-13 10:29:55.787048: E external/local_xla/xla/stream_executor/cuda/cuda_dnn.cc:9261] Unable to register cuDNN factory: Attempting to register factory for plugin cuDNN when one has already been registered\n",
      "2024-08-13 10:29:55.787088: E external/local_xla/xla/stream_executor/cuda/cuda_fft.cc:607] Unable to register cuFFT factory: Attempting to register factory for plugin cuFFT when one has already been registered\n",
      "2024-08-13 10:29:55.788747: E external/local_xla/xla/stream_executor/cuda/cuda_blas.cc:1515] Unable to register cuBLAS factory: Attempting to register factory for plugin cuBLAS when one has already been registered\n",
      "2024-08-13 10:29:55.797890: I tensorflow/core/platform/cpu_feature_guard.cc:182] This TensorFlow binary is optimized to use available CPU instructions in performance-critical operations.\n",
      "To enable the following instructions: AVX2 FMA, in other operations, rebuild TensorFlow with the appropriate compiler flags.\n",
      "2024-08-13 10:29:57.949642: W tensorflow/compiler/tf2tensorrt/utils/py_utils.cc:38] TF-TRT Warning: Could not find TensorRT\n",
      "/cmnfs/home/f.kapitza/miniconda3/envs/dlomix/lib/python3.10/site-packages/tqdm/auto.py:21: TqdmWarning: IProgress not found. Please update jupyter and ipywidgets. See https://ipywidgets.readthedocs.io/en/stable/user_install.html\n",
      "  from .autonotebook import tqdm as notebook_tqdm\n"
     ]
    },
    {
     "name": "stdout",
     "output_type": "stream",
     "text": [
      "\n",
      "Avaliable feature extractors are (use the key of the following dict and pass it to features_to_extract in the Dataset Class):\n",
      "{\n",
      "   \"atom_count\": \"Atom count of PTM.\",\n",
      "   \"delta_mass\": \"Delta mass of PTM.\",\n",
      "   \"mod_gain\": \"Gain of atoms due to PTM.\",\n",
      "   \"mod_loss\": \"Loss of atoms due to PTM.\",\n",
      "   \"red_smiles\": \"Reduced SMILES representation of PTM.\"\n",
      "}.\n",
      "When writing your own feature extractor, you can either\n",
      "    (1) use the FeatureExtractor class or\n",
      "    (2) write a function that can be mapped to the Hugging Face dataset.\n",
      "In both cases, you can access the parsed sequence information from the dataset using the following keys, which all provide python lists:\n",
      "    - _parsed_sequence: parsed sequence\n",
      "    - _n_term_mods: N-terminal modifications\n",
      "    - _c_term_mods: C-terminal modifications\n",
      "\n"
     ]
    }
   ],
   "source": [
    "import os\n",
    "import matplotlib.pyplot as plt\n",
    "import numpy as np\n",
    "from dlomix.interface import load_keras_model, process_dataset\n",
    "from dlomix.losses import masked_spectral_distance\n",
    "from tensorflow.keras.models import load_model"
   ]
  },
  {
   "cell_type": "code",
   "execution_count": 3,
   "metadata": {},
   "outputs": [],
   "source": [
    "os.environ[\"CUDA_VISIBLE_DEVICES\"] = '-1'"
   ]
  },
  {
   "cell_type": "code",
   "execution_count": 41,
   "metadata": {},
   "outputs": [],
   "source": [
    "small_model = load_model('/cmnfs/proj/bmpc_dlomix/models/refinement_transfer_learning/single_ptm_models/refined_to_Kmod_Acetyl.keras', compile=False)\n",
    "large_model = load_model('/cmnfs/proj/bmpc_dlomix/models/refinement_transfer_learning/single_ptm_models/refined_to_TUM_mod_acetylated.keras', compile=False)"
   ]
  },
  {
   "cell_type": "code",
   "execution_count": 42,
   "metadata": {},
   "outputs": [],
   "source": [
    "small_model.alphabet = {'A': 1, 'C': 2, 'D': 3, 'E': 4, 'F': 5, 'G': 6, 'H': 7, 'I': 8, 'K': 9, 'L': 10, 'M': 11, 'N': 12, 'P': 13, 'Q': 14, 'R': 15, 'S': 16, 'T': 17, 'V': 18, 'W': 19, 'Y': 20, '[]-': 21, '-[]': 22, '[UNIMOD:737]-': 21, 'M[UNIMOD:35]': 23, 'K[UNIMOD:737]': 24, 'C[UNIMOD:4]': 25, '[UNIMOD:1]-': 26, 'K[UNIMOD:1]': 28}\n",
    "large_model.alphabet = {'A': 1, 'C': 2, 'D': 3, 'E': 4, 'F': 5, 'G': 6, 'H': 7, 'I': 8, 'K': 9, 'L': 10, 'M': 11, 'N': 12, 'P': 13, 'Q': 14, 'R': 15, 'S': 16, 'T': 17, 'V': 18, 'W': 19, 'Y': 20, '[]-': 21, '-[]': 22, '[UNIMOD:737]-': 21, 'M[UNIMOD:35]': 23, 'K[UNIMOD:737]': 24, 'C[UNIMOD:4]': 25, '[UNIMOD:1]-': 26, 'K[UNIMOD:1]': 28}"
   ]
  },
  {
   "cell_type": "code",
   "execution_count": 43,
   "metadata": {},
   "outputs": [
    {
     "name": "stderr",
     "output_type": "stream",
     "text": [
      "Mapping SequenceParsingProcessor: 100%|██████████| 9999/9999 [00:01<00:00, 5688.24 examples/s]\n",
      "Mapping SequenceParsingProcessor: 100%|██████████| 1/1 [00:00<00:00, 28.55 examples/s]\n",
      "Mapping SequenceEncodingProcessor: 100%|██████████| 9999/9999 [00:00<00:00, 17786.00 examples/s]\n",
      "Mapping SequenceEncodingProcessor: 100%|██████████| 1/1 [00:00<00:00, 27.95 examples/s]\n",
      "Mapping SequencePaddingProcessor: 100%|██████████| 9999/9999 [00:00<00:00, 16767.13 examples/s]\n",
      "Mapping SequencePaddingProcessor: 100%|██████████| 1/1 [00:00<00:00, 26.41 examples/s]\n",
      "Filter: 100%|██████████| 9999/9999 [00:00<00:00, 206678.79 examples/s]\n",
      "Filter: 100%|██████████| 1/1 [00:00<00:00, 57.75 examples/s]\n",
      "Casting the dataset: 100%|██████████| 9999/9999 [00:03<00:00, 3244.99 examples/s]\n",
      "Casting the dataset: 100%|██████████| 1/1 [00:00<00:00, 39.79 examples/s]\n"
     ]
    }
   ],
   "source": [
    "testset_small = process_dataset(\n",
    "    parquet_file_path='/cmnfs/proj/bmpc_dlomix/datasets/parquet/Kmod_Acetylated_test_for_small.parquet',\n",
    "    model=small_model,\n",
    "    val_ratio=0.000001\n",
    ")"
   ]
  },
  {
   "cell_type": "code",
   "execution_count": 64,
   "metadata": {},
   "outputs": [
    {
     "name": "stderr",
     "output_type": "stream",
     "text": [
      "Mapping SequenceParsingProcessor: 100%|██████████| 8548/8548 [00:01<00:00, 6643.24 examples/s]\n",
      "Mapping SequenceParsingProcessor: 100%|██████████| 1/1 [00:00<00:00, 27.44 examples/s]\n",
      "Mapping SequenceEncodingProcessor: 100%|██████████| 8548/8548 [00:00<00:00, 15504.24 examples/s]\n",
      "Mapping SequenceEncodingProcessor: 100%|██████████| 1/1 [00:00<00:00, 25.36 examples/s]\n",
      "Mapping SequencePaddingProcessor: 100%|██████████| 8548/8548 [00:00<00:00, 16054.40 examples/s]\n",
      "Mapping SequencePaddingProcessor: 100%|██████████| 1/1 [00:00<00:00, 24.11 examples/s]\n",
      "Filter: 100%|██████████| 8548/8548 [00:00<00:00, 181796.06 examples/s]\n",
      "Filter: 100%|██████████| 1/1 [00:00<00:00, 71.99 examples/s]\n",
      "Casting the dataset: 100%|██████████| 8548/8548 [00:02<00:00, 3199.14 examples/s]\n",
      "Casting the dataset: 100%|██████████| 1/1 [00:00<00:00, 35.73 examples/s]\n"
     ]
    }
   ],
   "source": [
    "testset_large = process_dataset(\n",
    "    parquet_file_path='/cmnfs/data/proteomics/Prosit_PTMs/21PTMs/Kmod_Acetyl.parquet',\n",
    "    model=small_model,\n",
    "    val_ratio=0.000001\n",
    ")"
   ]
  },
  {
   "cell_type": "code",
   "execution_count": 46,
   "metadata": {},
   "outputs": [
    {
     "name": "stdout",
     "output_type": "stream",
     "text": [
      "32/32 [==============================] - 6s 83ms/step\n",
      "32/32 [==============================] - 3s 86ms/step\n",
      "32/32 [==============================] - 3s 81ms/step\n",
      "32/32 [==============================] - 3s 80ms/step\n",
      "32/32 [==============================] - 3s 85ms/step\n",
      "32/32 [==============================] - 3s 81ms/step\n",
      "32/32 [==============================] - 3s 78ms/step\n",
      "32/32 [==============================] - 3s 80ms/step\n",
      "32/32 [==============================] - 3s 79ms/step\n",
      "25/25 [==============================] - 4s 77ms/step\n"
     ]
    }
   ],
   "source": [
    "sd_small = list()\n",
    "for batch, y_true in testset_small.tensor_train_data:\n",
    "    # print('Max value: ', batch['modified_sequence'].numpy().max())\n",
    "    # print('Min value: ', batch['modified_sequence'].numpy().min())\n",
    "    y_pred = small_model.predict(batch)\n",
    "    sd_small.extend(masked_spectral_distance(y_true=y_true, y_pred=y_pred).numpy())"
   ]
  },
  {
   "cell_type": "code",
   "execution_count": 47,
   "metadata": {},
   "outputs": [
    {
     "name": "stdout",
     "output_type": "stream",
     "text": [
      "32/32 [==============================] - 5s 83ms/step\n",
      "32/32 [==============================] - 3s 81ms/step\n",
      "32/32 [==============================] - 3s 81ms/step\n",
      "32/32 [==============================] - 3s 81ms/step\n",
      "32/32 [==============================] - 3s 83ms/step\n",
      "32/32 [==============================] - 3s 80ms/step\n",
      "32/32 [==============================] - 3s 80ms/step\n",
      "32/32 [==============================] - 3s 82ms/step\n",
      "12/12 [==============================] - 3s 78ms/step\n"
     ]
    }
   ],
   "source": [
    "sd_large = list()\n",
    "for batch, y_true in testset_large.tensor_train_data:\n",
    "    # print('Max value: ', batch['modified_sequence'].numpy().max())\n",
    "    # print('Min value: ', batch['modified_sequence'].numpy().min())\n",
    "    y_pred = large_model.predict(batch)\n",
    "    sd_large.extend(masked_spectral_distance(y_true=y_true, y_pred=y_pred).numpy())"
   ]
  },
  {
   "cell_type": "code",
   "execution_count": 49,
   "metadata": {},
   "outputs": [
    {
     "data": {
      "text/plain": [
       "Text(0.5, 0, 'Spectral Angle')"
      ]
     },
     "execution_count": 49,
     "metadata": {},
     "output_type": "execute_result"
    },
    {
     "data": {
      "image/png": "[encoded data removed]",
      "text/plain": [
       "<Figure size 1200x600 with 2 Axes>"
      ]
     },
     "metadata": {},
     "output_type": "display_data"
    }
   ],
   "source": [
    "fig, ax = plt.subplots(1, 2, figsize=(12, 6), sharey=True)\n",
    "sa_small = [1 - sd for sd in sd_small]\n",
    "avg_sa_scratch = np.mean(sa_small)\n",
    "ax[0].hist(sa_small, bins=30, alpha=0.75, edgecolor='black')\n",
    "ax[0].axvline(avg_sa_scratch, color='r', linestyle='dashed', linewidth=1)\n",
    "ax[0].text(0.2, 1e3, f'Avg. SA = {avg_sa_scratch:.2f}', color='r')\n",
    "ax[0].set_title(f'Spectral angles on holdoutset (Small dataset)')\n",
    "ax[0].set_xlabel('Spectral Angle')\n",
    "\n",
    "sa_large = [1 - sd for sd in sd_large]\n",
    "avg_sa_refined = np.mean(sa_large)\n",
    "ax[1].hist(sa_large, bins=30, alpha=0.75, edgecolor='black')\n",
    "ax[1].axvline(avg_sa_refined, color='r', linestyle='dashed', linewidth=1)\n",
    "ax[1].text(0.2, 1e3, f'Avg. SA = {avg_sa_refined:.2f}', color='r')\n",
    "ax[1].set_title(f'Spectral angles on holdoutset (Large dataset)')\n",
    "ax[1].set_xlabel('Spectral Angle')"
   ]
  },
  {
   "cell_type": "markdown",
   "metadata": {},
   "source": [
    "### Check if good citrullination model can predict on holdout data"
   ]
  },
  {
   "cell_type": "code",
   "execution_count": 4,
   "metadata": {},
   "outputs": [
    {
     "name": "stderr",
     "output_type": "stream",
     "text": [
      "2024-08-13 10:30:03.016668: E external/local_xla/xla/stream_executor/cuda/cuda_driver.cc:274] failed call to cuInit: CUDA_ERROR_NO_DEVICE: no CUDA-capable device is detected\n",
      "2024-08-13 10:30:03.016724: I external/local_xla/xla/stream_executor/cuda/cuda_diagnostics.cc:129] retrieving CUDA diagnostic information for host: dragon.exbio.wzw.tum.de\n",
      "2024-08-13 10:30:03.016742: I external/local_xla/xla/stream_executor/cuda/cuda_diagnostics.cc:136] hostname: dragon.exbio.wzw.tum.de\n",
      "2024-08-13 10:30:03.016891: I external/local_xla/xla/stream_executor/cuda/cuda_diagnostics.cc:159] libcuda reported version is: 535.129.3\n",
      "2024-08-13 10:30:03.016936: I external/local_xla/xla/stream_executor/cuda/cuda_diagnostics.cc:163] kernel reported version is: 535.129.3\n",
      "2024-08-13 10:30:03.016947: I external/local_xla/xla/stream_executor/cuda/cuda_diagnostics.cc:241] kernel version seems to match DSO: 535.129.3\n"
     ]
    }
   ],
   "source": [
    "citru_model = load_model('/cmnfs/proj/bmpc_dlomix/models/refinement_transfer_learning/single_ptm_models/refined_to_TUM_mod_citrullination_2.keras', compile=False)"
   ]
  },
  {
   "cell_type": "code",
   "execution_count": 5,
   "metadata": {},
   "outputs": [],
   "source": [
    "# update alphabet\n",
    "for key, val in citru_model.alphabet.items():\n",
    "    citru_model.alphabet[key] -= 27"
   ]
  },
  {
   "cell_type": "code",
   "execution_count": null,
   "metadata": {},
   "outputs": [],
   "source": [
    "citru_dataset = process_dataset(\n",
    "    parquet_file_path='/cmnfs/home/students/f.basso/oktoberfest/tests/unit_tests/out2_1/data/dlomix/refinement_dataset/processed_dataset.parquet',\n",
    "    model=citru_model,\n",
    "    val_ratio=0.5\n",
    ")"
   ]
  },
  {
   "cell_type": "code",
   "execution_count": null,
   "metadata": {},
   "outputs": [],
   "source": []
  }
 ],
 "metadata": {
  "kernelspec": {
   "display_name": "dlomix",
   "language": "python",
   "name": "python3"
  },
  "language_info": {
   "codemirror_mode": {
    "name": "ipython",
    "version": 3
   },
   "file_extension": ".py",
   "mimetype": "text/x-python",
   "name": "python",
   "nbconvert_exporter": "python",
   "pygments_lexer": "ipython3",
   "version": "3.10.0"
  }
 },
 "nbformat": 4,
 "nbformat_minor": 2
}
