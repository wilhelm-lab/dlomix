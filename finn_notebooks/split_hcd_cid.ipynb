{
 "cells": [
  {
   "cell_type": "code",
   "execution_count": 10,
   "metadata": {},
   "outputs": [],
   "source": [
    "import pyarrow.parquet as pq\n",
    "import pandas as pd\n",
    "import os\n",
    "from pathlib import Path\n",
    "from tqdm import tqdm"
   ]
  },
  {
   "cell_type": "code",
   "execution_count": 3,
   "metadata": {},
   "outputs": [],
   "source": [
    "DATA_PATH = '/cmnfs/data/proteomics/Prosit_unmod/intensity/no_aug'"
   ]
  },
  {
   "cell_type": "markdown",
   "metadata": {},
   "source": [
    "CID = 1\n",
    "HCD = 2"
   ]
  },
  {
   "cell_type": "code",
   "execution_count": null,
   "metadata": {},
   "outputs": [],
   "source": [
    "for ds_type in ['train', 'val', 'test']:\n",
    "    file_path = DATA_PATH + '_' + ds_type + '.parquet'\n",
    "    file = pq.ParquetFile(file_path)\n",
    "    print(f'Start processing dataset: {os.path.basename(file_path)}')\n",
    "\n",
    "    column_names = next(file.iter_batches(batch_size=1)).to_pandas().columns\n",
    "    all_cid = pd.DataFrame(columns=column_names)\n",
    "    all_hcd = pd.DataFrame(columns=column_names)\n",
    "    # iterate over batches of the file\n",
    "    total_seqs = 0\n",
    "    for batch in tqdm(file.iter_batches()):\n",
    "        total_seqs += len(batch)\n",
    "        df = batch.to_pandas()\n",
    "        all_cid = pd.concat([df[df['method_nbr'] == 1], all_cid])\n",
    "        all_hcd = pd.concat([df[df['method_nbr'] == 2], all_hcd])\n",
    "    \n",
    "    all_cid.to_parquet('/cmnfs/proj/bmpc_dlomix/datasets/parquet/no_aug' + '_cid_' + ds_type + '.parquet')\n",
    "    all_hcd.to_parquet('/cmnfs/proj/bmpc_dlomix/datasets/parquet/no_aug' + '_hcd_' + ds_type + '.parquet')"
   ]
  }
 ],
 "metadata": {
  "kernelspec": {
   "display_name": "dlomix",
   "language": "python",
   "name": "python3"
  },
  "language_info": {
   "codemirror_mode": {
    "name": "ipython",
    "version": 3
   },
   "file_extension": ".py",
   "mimetype": "text/x-python",
   "name": "python",
   "nbconvert_exporter": "python",
   "pygments_lexer": "ipython3",
   "version": "3.10.0"
  }
 },
 "nbformat": 4,
 "nbformat_minor": 2
}
