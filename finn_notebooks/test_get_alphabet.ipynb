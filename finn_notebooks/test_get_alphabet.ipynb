{
 "cells": [
  {
   "cell_type": "code",
   "execution_count": 4,
   "metadata": {},
   "outputs": [],
   "source": [
    "import sys\n",
    "sys.path.append('../bmpc_shared_scripts/prepare_dataset')\n",
    "from tqdm import tqdm\n",
    "from pyarrow import parquet as pq\n",
    "import re"
   ]
  },
  {
   "cell_type": "code",
   "execution_count": 5,
   "metadata": {},
   "outputs": [],
   "source": [
    "def get_modification(seq):\n",
    "    # mod_pattern = r\"[A-Za-z](?:\\[UNIMOD:\\d+\\])*|[^\\[\\]]|\\[UNIMOD:\\d+\\]\"\n",
    "    mod_pattern = r'[A-Za-z](?:\\[UNIMOD:\\d+\\])*|[^\\[\\]]'\n",
    "    splitted = seq.split('-')\n",
    "\n",
    "    match len(splitted):\n",
    "        case 1:\n",
    "            if splitted[0].startswith('[UNIMOD:'):\n",
    "                n_term = splitted[0][:splitted[0].find(']') + 1] + '-'\n",
    "                seq = splitted[0][splitted[0].find(']') + 1:]\n",
    "                c_term = '-[]'\n",
    "            else:\n",
    "                n_term, seq, c_term = '[]-', splitted[0], '-[]'\n",
    "        case 2:\n",
    "            if splitted[0].startswith('[UNIMOD:'):\n",
    "                n_term, seq, c_term = splitted[0] + '-', splitted[1], '-[]'\n",
    "            else:\n",
    "                n_term, seq, c_term = '[]-', splitted[0], '-' + splitted[1]\n",
    "        case 3:\n",
    "            n_term, seq, c_term = splitted[0] + '-', splitted[1], '-' + splitted[2]\n",
    "    \n",
    "    seq = re.findall(mod_pattern, seq)\n",
    "    seq.extend([n_term, c_term])\n",
    "    return seq"
   ]
  },
  {
   "cell_type": "code",
   "execution_count": 6,
   "metadata": {},
   "outputs": [
    {
     "name": "stderr",
     "output_type": "stream",
     "text": [
      "1it [00:00,  1.84it/s]"
     ]
    },
    {
     "name": "stdout",
     "output_type": "stream",
     "text": [
      "[UNIMOD:737]-LFK[UNIMOD:737]K[UNIMOD:737][UNIMOD:1]EVMNYR-[]\n"
     ]
    },
    {
     "name": "stderr",
     "output_type": "stream",
     "text": [
      "2it [00:00,  2.40it/s]"
     ]
    },
    {
     "name": "stdout",
     "output_type": "stream",
     "text": [
      "[UNIMOD:737]-MSDK[UNIMOD:737]SDLK[UNIMOD:737][UNIMOD:1]AELER-[]\n"
     ]
    },
    {
     "name": "stderr",
     "output_type": "stream",
     "text": [
      "4it [00:01,  3.02it/s]"
     ]
    },
    {
     "name": "stdout",
     "output_type": "stream",
     "text": [
      "[UNIMOD:737]-K[UNIMOD:737]K[UNIMOD:737][UNIMOD:1]LENEVEQR-[]\n",
      "[UNIMOD:737]-LDK[UNIMOD:1]K[UNIMOD:737]K[UNIMOD:737][UNIMOD:1]YPYWPHQPIENL-[]\n"
     ]
    },
    {
     "name": "stderr",
     "output_type": "stream",
     "text": [
      "5it [00:01,  2.79it/s]"
     ]
    },
    {
     "name": "stdout",
     "output_type": "stream",
     "text": [
      "[UNIMOD:737]-LDK[UNIMOD:737][UNIMOD:1]K[UNIMOD:737]K[UNIMOD:1]YPYWPHQPIENL-[]\n"
     ]
    },
    {
     "name": "stderr",
     "output_type": "stream",
     "text": [
      "6it [00:02,  3.15it/s]"
     ]
    },
    {
     "name": "stdout",
     "output_type": "stream",
     "text": [
      "[UNIMOD:737]-M[UNIMOD:35]SDK[UNIMOD:737]SDLK[UNIMOD:737][UNIMOD:1]AELER-[]\n"
     ]
    },
    {
     "name": "stderr",
     "output_type": "stream",
     "text": [
      "7it [00:02,  3.21it/s]"
     ]
    },
    {
     "name": "stdout",
     "output_type": "stream",
     "text": [
      "[UNIMOD:737]-TK[UNIMOD:737]SNK[UNIMOD:737][UNIMOD:1]DGGNQEVEIAR-[]\n"
     ]
    },
    {
     "name": "stderr",
     "output_type": "stream",
     "text": [
      "8it [00:02,  2.94it/s]"
     ]
    },
    {
     "name": "stdout",
     "output_type": "stream",
     "text": [
      "[UNIMOD:737]-SNAAAAALDK[UNIMOD:737][UNIMOD:1]K[UNIMOD:737]QR-[]\n"
     ]
    },
    {
     "name": "stderr",
     "output_type": "stream",
     "text": [
      "10it [00:03,  3.74it/s]"
     ]
    },
    {
     "name": "stdout",
     "output_type": "stream",
     "text": [
      "[UNIMOD:737]-FYSC[UNIMOD:4]PIYK[UNIMOD:737][UNIMOD:1]K[UNIMOD:737]PVR-[]\n",
      "[UNIMOD:737]-MSDK[UNIMOD:737][UNIMOD:1]SDLK[UNIMOD:737]AELER-[]\n"
     ]
    },
    {
     "name": "stderr",
     "output_type": "stream",
     "text": [
      "11it [00:03,  3.41it/s]"
     ]
    },
    {
     "name": "stdout",
     "output_type": "stream",
     "text": [
      "[UNIMOD:737]-EAK[UNIMOD:737][UNIMOD:1]EVK[UNIMOD:737]DAEIPEGAAR-[]\n"
     ]
    },
    {
     "name": "stderr",
     "output_type": "stream",
     "text": [
      "12it [00:04,  2.94it/s]"
     ]
    },
    {
     "name": "stdout",
     "output_type": "stream",
     "text": [
      "[UNIMOD:737]-SNAAAAALDK[UNIMOD:737]K[UNIMOD:737][UNIMOD:1]QR-[]\n"
     ]
    },
    {
     "name": "stderr",
     "output_type": "stream",
     "text": [
      "13it [00:04,  2.87it/s]"
     ]
    },
    {
     "name": "stdout",
     "output_type": "stream",
     "text": [
      "[UNIMOD:737]-K[UNIMOD:737]GPGK[UNIMOD:737][UNIMOD:1]QEEVC[UNIMOD:4]VIDALLADIR-[]\n"
     ]
    },
    {
     "name": "stderr",
     "output_type": "stream",
     "text": [
      "14it [00:04,  2.72it/s]"
     ]
    },
    {
     "name": "stdout",
     "output_type": "stream",
     "text": [
      "[UNIMOD:737]-VLPSEQESTK[UNIMOD:737][UNIMOD:1]K[UNIMOD:737]PYR-[]\n"
     ]
    },
    {
     "name": "stderr",
     "output_type": "stream",
     "text": [
      "15it [00:05,  2.77it/s]"
     ]
    },
    {
     "name": "stdout",
     "output_type": "stream",
     "text": [
      "[UNIMOD:737]-M[UNIMOD:35]SDK[UNIMOD:737]SDLK[UNIMOD:737][UNIMOD:1]AELER-[]\n"
     ]
    },
    {
     "name": "stderr",
     "output_type": "stream",
     "text": [
      "16it [00:05,  2.92it/s]"
     ]
    },
    {
     "name": "stdout",
     "output_type": "stream",
     "text": [
      "[UNIMOD:737]-LDK[UNIMOD:737][UNIMOD:1]K[UNIMOD:1]K[UNIMOD:737]YPYWPHQPIENL-[]\n"
     ]
    },
    {
     "name": "stderr",
     "output_type": "stream",
     "text": [
      "17it [00:05,  2.60it/s]"
     ]
    },
    {
     "name": "stdout",
     "output_type": "stream",
     "text": [
      "[UNIMOD:737]-EAK[UNIMOD:737][UNIMOD:1]EVK[UNIMOD:737]DAEIPEGAAR-[]\n"
     ]
    },
    {
     "name": "stderr",
     "output_type": "stream",
     "text": [
      "18it [00:06,  2.59it/s]"
     ]
    },
    {
     "name": "stdout",
     "output_type": "stream",
     "text": [
      "[UNIMOD:737]-LDK[UNIMOD:737]K[UNIMOD:1]K[UNIMOD:737][UNIMOD:1]YPYWPHQPIENL-[]\n"
     ]
    },
    {
     "name": "stderr",
     "output_type": "stream",
     "text": [
      "19it [00:06,  2.72it/s]"
     ]
    },
    {
     "name": "stdout",
     "output_type": "stream",
     "text": [
      "[UNIMOD:737]-MSDK[UNIMOD:737][UNIMOD:1]SDLK[UNIMOD:737]AELER-[]\n"
     ]
    },
    {
     "name": "stderr",
     "output_type": "stream",
     "text": [
      "20it [00:07,  2.60it/s]"
     ]
    },
    {
     "name": "stdout",
     "output_type": "stream",
     "text": [
      "[UNIMOD:737]-SQNTK[UNIMOD:737]ISTQLDFASK[UNIMOD:737][UNIMOD:1]R-[]\n"
     ]
    },
    {
     "name": "stderr",
     "output_type": "stream",
     "text": [
      "21it [00:07,  2.46it/s]"
     ]
    },
    {
     "name": "stdout",
     "output_type": "stream",
     "text": [
      "[UNIMOD:737]-M[UNIMOD:35]SDK[UNIMOD:737][UNIMOD:1]SDLK[UNIMOD:737]AELER-[]\n"
     ]
    },
    {
     "name": "stderr",
     "output_type": "stream",
     "text": [
      "22it [00:07,  2.40it/s]"
     ]
    },
    {
     "name": "stdout",
     "output_type": "stream",
     "text": [
      "[UNIMOD:737]-K[UNIMOD:737]K[UNIMOD:737][UNIMOD:1]LSELLR-[]\n"
     ]
    },
    {
     "name": "stderr",
     "output_type": "stream",
     "text": [
      "23it [00:08,  2.36it/s]"
     ]
    },
    {
     "name": "stdout",
     "output_type": "stream",
     "text": [
      "[UNIMOD:737]-K[UNIMOD:737]K[UNIMOD:737][UNIMOD:1]LSELLR-[]\n"
     ]
    },
    {
     "name": "stderr",
     "output_type": "stream",
     "text": [
      "24it [00:08,  2.53it/s]"
     ]
    },
    {
     "name": "stdout",
     "output_type": "stream",
     "text": [
      "[UNIMOD:737]-M[UNIMOD:35]SDK[UNIMOD:737]SDLK[UNIMOD:737][UNIMOD:1]AELER-[]\n"
     ]
    },
    {
     "name": "stderr",
     "output_type": "stream",
     "text": [
      "26it [00:09,  3.17it/s]"
     ]
    },
    {
     "name": "stdout",
     "output_type": "stream",
     "text": [
      "[UNIMOD:737]-FAQVVLQDLDK[UNIMOD:737]K[UNIMOD:737][UNIMOD:1]ENGLR-[]\n",
      "[UNIMOD:737]-M[UNIMOD:35]SDK[UNIMOD:737]SDLK[UNIMOD:737][UNIMOD:1]AELER-[]\n"
     ]
    },
    {
     "name": "stderr",
     "output_type": "stream",
     "text": [
      "27it [00:09,  3.10it/s]"
     ]
    },
    {
     "name": "stdout",
     "output_type": "stream",
     "text": [
      "[UNIMOD:737]-M[UNIMOD:35]SDK[UNIMOD:737][UNIMOD:1]SDLK[UNIMOD:737]AELER-[]\n"
     ]
    },
    {
     "name": "stderr",
     "output_type": "stream",
     "text": [
      "28it [00:10,  2.83it/s]"
     ]
    },
    {
     "name": "stdout",
     "output_type": "stream",
     "text": [
      "[UNIMOD:737]-K[UNIMOD:737]GPGK[UNIMOD:737][UNIMOD:1]QEEVC[UNIMOD:4]VIDALLADIR-[]\n"
     ]
    },
    {
     "name": "stderr",
     "output_type": "stream",
     "text": [
      "29it [00:10,  2.72it/s]"
     ]
    },
    {
     "name": "stdout",
     "output_type": "stream",
     "text": [
      "[UNIMOD:737]-K[UNIMOD:737]GPGK[UNIMOD:737][UNIMOD:1]QEEVC[UNIMOD:4]VIDALLADIR-[]\n"
     ]
    },
    {
     "name": "stderr",
     "output_type": "stream",
     "text": [
      "30it [00:10,  2.78it/s]"
     ]
    },
    {
     "name": "stdout",
     "output_type": "stream",
     "text": [
      "[]-TQAETM[UNIMOD:35]K[UNIMOD:737][UNIMOD:1]LK[UNIMOD:737]R-[]\n"
     ]
    },
    {
     "name": "stderr",
     "output_type": "stream",
     "text": [
      "31it [00:11,  2.59it/s]"
     ]
    },
    {
     "name": "stdout",
     "output_type": "stream",
     "text": [
      "[UNIMOD:737]-GAAGPAEGPGK[UNIMOD:737][UNIMOD:1]K[UNIMOD:737]APAER-[]\n"
     ]
    },
    {
     "name": "stderr",
     "output_type": "stream",
     "text": [
      "32it [00:11,  2.53it/s]"
     ]
    },
    {
     "name": "stdout",
     "output_type": "stream",
     "text": [
      "[UNIMOD:737]-M[UNIMOD:35]SDK[UNIMOD:737]SDLK[UNIMOD:737][UNIMOD:1]AELER-[]\n"
     ]
    },
    {
     "name": "stderr",
     "output_type": "stream",
     "text": [
      "33it [00:12,  2.29it/s]"
     ]
    },
    {
     "name": "stdout",
     "output_type": "stream",
     "text": [
      "[UNIMOD:737]-LDK[UNIMOD:737][UNIMOD:1]K[UNIMOD:737]K[UNIMOD:1]YPYWPHQPIENL-[]\n"
     ]
    },
    {
     "name": "stderr",
     "output_type": "stream",
     "text": [
      "34it [00:12,  2.50it/s]"
     ]
    },
    {
     "name": "stdout",
     "output_type": "stream",
     "text": [
      "[UNIMOD:737]-FAQVVLQDLDK[UNIMOD:737]K[UNIMOD:737][UNIMOD:1]ENGLR-[]\n"
     ]
    },
    {
     "name": "stderr",
     "output_type": "stream",
     "text": [
      "35it [00:12,  2.63it/s]"
     ]
    },
    {
     "name": "stdout",
     "output_type": "stream",
     "text": [
      "[UNIMOD:737]-K[UNIMOD:737]K[UNIMOD:737][UNIMOD:1]LSELLR-[]\n"
     ]
    },
    {
     "name": "stderr",
     "output_type": "stream",
     "text": [
      "37it [00:13,  3.09it/s]"
     ]
    },
    {
     "name": "stdout",
     "output_type": "stream",
     "text": [
      "[UNIMOD:737]-SNAAAAALDK[UNIMOD:737][UNIMOD:1]K[UNIMOD:737]QR-[]\n",
      "[UNIMOD:737]-MSDK[UNIMOD:737]SDLK[UNIMOD:737][UNIMOD:1]AELER-[]\n"
     ]
    },
    {
     "name": "stderr",
     "output_type": "stream",
     "text": [
      "38it [00:13,  2.53it/s]"
     ]
    },
    {
     "name": "stdout",
     "output_type": "stream",
     "text": [
      "[UNIMOD:737]-NQEK[UNIMOD:737]K[UNIMOD:737][UNIMOD:1]IDYFER-[]\n"
     ]
    },
    {
     "name": "stderr",
     "output_type": "stream",
     "text": [
      "39it [00:14,  2.78it/s]"
     ]
    },
    {
     "name": "stdout",
     "output_type": "stream",
     "text": [
      "[UNIMOD:737]-SNAAAAALDK[UNIMOD:737][UNIMOD:1]K[UNIMOD:737]QR-[]\n"
     ]
    },
    {
     "name": "stderr",
     "output_type": "stream",
     "text": [
      "40it [00:14,  2.51it/s]"
     ]
    },
    {
     "name": "stdout",
     "output_type": "stream",
     "text": [
      "[UNIMOD:737]-LDK[UNIMOD:737][UNIMOD:1]K[UNIMOD:737]K[UNIMOD:1]YPYWPHQPIENL-[]\n"
     ]
    },
    {
     "name": "stderr",
     "output_type": "stream",
     "text": [
      "41it [00:14,  2.85it/s]"
     ]
    },
    {
     "name": "stdout",
     "output_type": "stream",
     "text": [
      "[UNIMOD:737]-MSDK[UNIMOD:737]SDLK[UNIMOD:737][UNIMOD:1]AELER-[]\n"
     ]
    },
    {
     "name": "stderr",
     "output_type": "stream",
     "text": [
      "42it [00:15,  2.96it/s]"
     ]
    },
    {
     "name": "stdout",
     "output_type": "stream",
     "text": [
      "[UNIMOD:737]-GIVGVENVAELK[UNIMOD:737][UNIMOD:1]K[UNIMOD:737]SFNR-[]\n"
     ]
    },
    {
     "name": "stderr",
     "output_type": "stream",
     "text": [
      "43it [00:15,  2.77it/s]"
     ]
    },
    {
     "name": "stdout",
     "output_type": "stream",
     "text": [
      "[UNIMOD:737]-GAAGPAEGPGK[UNIMOD:737]K[UNIMOD:737][UNIMOD:1]APAER-[]\n"
     ]
    },
    {
     "name": "stderr",
     "output_type": "stream",
     "text": [
      "44it [00:16,  2.78it/s]"
     ]
    },
    {
     "name": "stdout",
     "output_type": "stream",
     "text": [
      "[UNIMOD:737]-K[UNIMOD:737]K[UNIMOD:737][UNIMOD:1]LSELLR-[]\n"
     ]
    },
    {
     "name": "stderr",
     "output_type": "stream",
     "text": [
      "45it [00:16,  2.67it/s]"
     ]
    },
    {
     "name": "stdout",
     "output_type": "stream",
     "text": [
      "[UNIMOD:737]-LSDK[UNIMOD:737][UNIMOD:1]GLK[UNIMOD:737]AELMER-[]\n"
     ]
    },
    {
     "name": "stderr",
     "output_type": "stream",
     "text": [
      "46it [00:16,  2.76it/s]"
     ]
    },
    {
     "name": "stdout",
     "output_type": "stream",
     "text": [
      "[UNIMOD:737]-K[UNIMOD:737]M[UNIMOD:35]K[UNIMOD:737][UNIMOD:1]DTDSEEEIR-[]\n"
     ]
    },
    {
     "name": "stderr",
     "output_type": "stream",
     "text": [
      "\n"
     ]
    }
   ],
   "source": [
    "modifications = set()\n",
    "\n",
    "file = pq.ParquetFile('/cmnfs/data/proteomics/Prosit_PTMs/Transformer_Train/no_aug_test.parquet')\n",
    "\n",
    "# iterate over batches of the file\n",
    "total_seqs = 0\n",
    "for batch in tqdm(file.iter_batches()):\n",
    "    total_seqs += len(batch)\n",
    "    for cur_seq in batch['modified_sequence']:\n",
    "        cur_mods = get_modification(str(cur_seq))\n",
    "        if 'K[UNIMOD:737][UNIMOD:1]' in cur_mods:\n",
    "            print(cur_seq)\n",
    "            break\n",
    "        modifications |= set(cur_mods)"
   ]
  },
  {
   "cell_type": "code",
   "execution_count": null,
   "metadata": {},
   "outputs": [],
   "source": []
  }
 ],
 "metadata": {
  "kernelspec": {
   "display_name": "dlomix",
   "language": "python",
   "name": "python3"
  },
  "language_info": {
   "codemirror_mode": {
    "name": "ipython",
    "version": 3
   },
   "file_extension": ".py",
   "mimetype": "text/x-python",
   "name": "python",
   "nbconvert_exporter": "python",
   "pygments_lexer": "ipython3",
   "version": "3.10.0"
  }
 },
 "nbformat": 4,
 "nbformat_minor": 2
}
