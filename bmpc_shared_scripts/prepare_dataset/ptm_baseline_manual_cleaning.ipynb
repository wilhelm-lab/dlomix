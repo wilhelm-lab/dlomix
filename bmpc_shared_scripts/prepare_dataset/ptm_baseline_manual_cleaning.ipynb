{
 "cells": [
  {
   "cell_type": "code",
   "execution_count": 47,
   "metadata": {},
   "outputs": [],
   "source": [
    "import pandas as pd"
   ]
  },
  {
   "cell_type": "code",
   "execution_count": 48,
   "metadata": {},
   "outputs": [],
   "source": [
    "dataset = pd.read_parquet('/cmnfs/data/proteomics/Prosit_PTMs/Transformer_Train/clean_val.parquet')"
   ]
  },
  {
   "cell_type": "code",
   "execution_count": 49,
   "metadata": {},
   "outputs": [
    {
     "name": "stdout",
     "output_type": "stream",
     "text": [
      "RangeIndex(start=0, stop=4000, step=1)\n",
      "Index(['raw_file', 'scan_number', 'method_nbr', 'precursor_charge_onehot',\n",
      "       'collision_energy_aligned_normed', 'intensities_raw', 'package',\n",
      "       'modified_sequence', 'sub'],\n",
      "      dtype='object')\n"
     ]
    }
   ],
   "source": [
    "print(dataset.index)\n",
    "print(dataset.columns)"
   ]
  },
  {
   "cell_type": "code",
   "execution_count": 50,
   "metadata": {},
   "outputs": [
    {
     "data": {
      "text/html": [
       "<div>\n",
       "<style scoped>\n",
       "    .dataframe tbody tr th:only-of-type {\n",
       "        vertical-align: middle;\n",
       "    }\n",
       "\n",
       "    .dataframe tbody tr th {\n",
       "        vertical-align: top;\n",
       "    }\n",
       "\n",
       "    .dataframe thead th {\n",
       "        text-align: right;\n",
       "    }\n",
       "</style>\n",
       "<table border=\"1\" class=\"dataframe\">\n",
       "  <thead>\n",
       "    <tr style=\"text-align: right;\">\n",
       "      <th></th>\n",
       "      <th>raw_file</th>\n",
       "      <th>scan_number</th>\n",
       "      <th>method_nbr</th>\n",
       "      <th>precursor_charge_onehot</th>\n",
       "      <th>collision_energy_aligned_normed</th>\n",
       "      <th>intensities_raw</th>\n",
       "      <th>package</th>\n",
       "      <th>modified_sequence</th>\n",
       "      <th>sub</th>\n",
       "    </tr>\n",
       "  </thead>\n",
       "  <tbody>\n",
       "    <tr>\n",
       "      <th>3401</th>\n",
       "      <td>02525_GB5-TMT_TUM_mod_monomethyl_17_01_01-TMT1...</td>\n",
       "      <td>25423</td>\n",
       "      <td>1</td>\n",
       "      <td>[0, 0, 1, 0, 0, 0]</td>\n",
       "      <td>0.35</td>\n",
       "      <td>[0.12, 0.0, 0.0, 0.07, 0.0, 0.0, 0.04, 0.0, 0....</td>\n",
       "      <td>TMT_TUM_mod_monomethyl</td>\n",
       "      <td>[UNIMOD:737]-M[UNIMOD:35]GNSASNIVSPQEALPGRK[UN...</td>\n",
       "      <td>0.0</td>\n",
       "    </tr>\n",
       "  </tbody>\n",
       "</table>\n",
       "</div>"
      ],
      "text/plain": [
       "                                               raw_file  scan_number  \\\n",
       "3401  02525_GB5-TMT_TUM_mod_monomethyl_17_01_01-TMT1...        25423   \n",
       "\n",
       "      method_nbr precursor_charge_onehot  collision_energy_aligned_normed  \\\n",
       "3401           1      [0, 0, 1, 0, 0, 0]                             0.35   \n",
       "\n",
       "                                        intensities_raw  \\\n",
       "3401  [0.12, 0.0, 0.0, 0.07, 0.0, 0.0, 0.04, 0.0, 0....   \n",
       "\n",
       "                     package  \\\n",
       "3401  TMT_TUM_mod_monomethyl   \n",
       "\n",
       "                                      modified_sequence  sub  \n",
       "3401  [UNIMOD:737]-M[UNIMOD:35]GNSASNIVSPQEALPGRK[UN...  0.0  "
      ]
     },
     "execution_count": 50,
     "metadata": {},
     "output_type": "execute_result"
    }
   ],
   "source": [
    "faulty_entry = dataset.loc[dataset['modified_sequence'] == '[UNIMOD:737]-M[UNIMOD:35]GNSASNIVSPQEALPGRK[UNIMOD:737][UNIMOD:34]-[]']\n",
    "faulty_entry"
   ]
  },
  {
   "cell_type": "code",
   "execution_count": 51,
   "metadata": {},
   "outputs": [
    {
     "name": "stdout",
     "output_type": "stream",
     "text": [
      "RangeIndex(start=0, stop=3999, step=1)\n",
      "Index(['index', 'raw_file', 'scan_number', 'method_nbr',\n",
      "       'precursor_charge_onehot', 'collision_energy_aligned_normed',\n",
      "       'intensities_raw', 'package', 'modified_sequence', 'sub'],\n",
      "      dtype='object')\n"
     ]
    }
   ],
   "source": [
    "dataset.drop(faulty_entry.index, inplace = True)\n",
    "dataset.reset_index(inplace=True)\n",
    "print(dataset.index)\n",
    "print(dataset.columns)"
   ]
  },
  {
   "cell_type": "code",
   "execution_count": 52,
   "metadata": {},
   "outputs": [
    {
     "name": "stdout",
     "output_type": "stream",
     "text": [
      "Index(['raw_file', 'scan_number', 'method_nbr', 'precursor_charge_onehot',\n",
      "       'collision_energy_aligned_normed', 'intensities_raw', 'package',\n",
      "       'modified_sequence', 'sub'],\n",
      "      dtype='object')\n"
     ]
    }
   ],
   "source": [
    "dataset.drop(columns=['index'], inplace=True)\n",
    "print(dataset.columns)"
   ]
  },
  {
   "cell_type": "code",
   "execution_count": 53,
   "metadata": {},
   "outputs": [
    {
     "data": {
      "text/html": [
       "<div>\n",
       "<style scoped>\n",
       "    .dataframe tbody tr th:only-of-type {\n",
       "        vertical-align: middle;\n",
       "    }\n",
       "\n",
       "    .dataframe tbody tr th {\n",
       "        vertical-align: top;\n",
       "    }\n",
       "\n",
       "    .dataframe thead th {\n",
       "        text-align: right;\n",
       "    }\n",
       "</style>\n",
       "<table border=\"1\" class=\"dataframe\">\n",
       "  <thead>\n",
       "    <tr style=\"text-align: right;\">\n",
       "      <th></th>\n",
       "      <th>raw_file</th>\n",
       "      <th>scan_number</th>\n",
       "      <th>method_nbr</th>\n",
       "      <th>precursor_charge_onehot</th>\n",
       "      <th>collision_energy_aligned_normed</th>\n",
       "      <th>intensities_raw</th>\n",
       "      <th>package</th>\n",
       "      <th>modified_sequence</th>\n",
       "      <th>sub</th>\n",
       "    </tr>\n",
       "  </thead>\n",
       "  <tbody>\n",
       "  </tbody>\n",
       "</table>\n",
       "</div>"
      ],
      "text/plain": [
       "Empty DataFrame\n",
       "Columns: [raw_file, scan_number, method_nbr, precursor_charge_onehot, collision_energy_aligned_normed, intensities_raw, package, modified_sequence, sub]\n",
       "Index: []"
      ]
     },
     "execution_count": 53,
     "metadata": {},
     "output_type": "execute_result"
    }
   ],
   "source": [
    "faulty_entry = dataset.loc[dataset['modified_sequence'] == '[UNIMOD:737]-M[UNIMOD:35]GNSASNIVSPQEALPGRK[UNIMOD:737][UNIMOD:34]-[]']\n",
    "faulty_entry"
   ]
  },
  {
   "cell_type": "code",
   "execution_count": 54,
   "metadata": {},
   "outputs": [],
   "source": [
    "dataset.to_parquet('/cmnfs/proj/bmpc_dlomix/datasets/parquet/ptm_baseline_small_cleaned_val.parquet', index=False)"
   ]
  }
 ],
 "metadata": {
  "kernelspec": {
   "display_name": "dlomix",
   "language": "python",
   "name": "python3"
  },
  "language_info": {
   "codemirror_mode": {
    "name": "ipython",
    "version": 3
   },
   "file_extension": ".py",
   "mimetype": "text/x-python",
   "name": "python",
   "nbconvert_exporter": "python",
   "pygments_lexer": "ipython3",
   "version": "3.10.6"
  }
 },
 "nbformat": 4,
 "nbformat_minor": 2
}
