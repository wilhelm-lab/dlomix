{
 "cells": [
  {
   "cell_type": "code",
   "execution_count": 1,
   "metadata": {},
   "outputs": [],
   "source": [
    "import pandas as pd\n",
    "import pyarrow.parquet as pq"
   ]
  },
  {
   "cell_type": "code",
   "execution_count": 2,
   "metadata": {},
   "outputs": [],
   "source": [
    "def reduce_entries(inpath, outpath, num_entries):\n",
    "    parquet_file = pq.ParquetFile(inpath)\n",
    "    for batch in parquet_file.iter_batches(batch_size=num_entries):\n",
    "        dataset = batch.to_pandas()\n",
    "        break\n",
    "    # dataset = pd.read_parquet(inpath)\n",
    "    dataset = dataset.iloc[0:num_entries]\n",
    "    dataset.reset_index(inplace=True)\n",
    "    dataset.drop(columns=['index'], inplace=True)\n",
    "    dataset.to_parquet(outpath, index=False)"
   ]
  },
  {
   "cell_type": "code",
   "execution_count": 3,
   "metadata": {},
   "outputs": [],
   "source": [
    "base_in_path = '/cmnfs/data/proteomics/Prosit_unmod/intensity/no_aug'\n",
    "base_out_path = '/cmnfs/proj/bmpc_dlomix/datasets/parquet/noptm_baseline_small'\n",
    "dataset_types = ['train', 'val', 'test']\n",
    "num_entries = {\n",
    "    'train': 8000,\n",
    "    'val': 4000,\n",
    "    'test': 2000\n",
    "}\n",
    "\n",
    "for type in dataset_types:\n",
    "    reduce_entries(\n",
    "        f'{base_in_path}_{type}.parquet',\n",
    "        f'{base_out_path}_{type}.parquet',\n",
    "        num_entries[type]\n",
    "    )"
   ]
  }
 ],
 "metadata": {
  "kernelspec": {
   "display_name": "dlomix",
   "language": "python",
   "name": "python3"
  },
  "language_info": {
   "codemirror_mode": {
    "name": "ipython",
    "version": 3
   },
   "file_extension": ".py",
   "mimetype": "text/x-python",
   "name": "python",
   "nbconvert_exporter": "python",
   "pygments_lexer": "ipython3",
   "version": "3.10.6"
  }
 },
 "nbformat": 4,
 "nbformat_minor": 2
}
