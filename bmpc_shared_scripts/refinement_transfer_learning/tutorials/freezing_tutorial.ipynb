{
 "cells": [
  {
   "cell_type": "markdown",
   "metadata": {},
   "source": [
    "# Tutorial for freezing the Prosit Model\n",
    "This tutorial shows, how to freeze the Prosit Intensity Predictor model and only let the first and last layer remain trainable for refinement and transfer learning."
   ]
  },
  {
   "cell_type": "markdown",
   "metadata": {},
   "source": [
    "### Imports"
   ]
  },
  {
   "cell_type": "code",
   "execution_count": 1,
   "metadata": {},
   "outputs": [
    {
     "name": "stderr",
     "output_type": "stream",
     "text": [
      "2024-07-18 10:43:49.486426: E external/local_xla/xla/stream_executor/cuda/cuda_dnn.cc:9261] Unable to register cuDNN factory: Attempting to register factory for plugin cuDNN when one has already been registered\n",
      "2024-07-18 10:43:49.486483: E external/local_xla/xla/stream_executor/cuda/cuda_fft.cc:607] Unable to register cuFFT factory: Attempting to register factory for plugin cuFFT when one has already been registered\n",
      "2024-07-18 10:43:49.487966: E external/local_xla/xla/stream_executor/cuda/cuda_blas.cc:1515] Unable to register cuBLAS factory: Attempting to register factory for plugin cuBLAS when one has already been registered\n",
      "2024-07-18 10:43:49.495873: I tensorflow/core/platform/cpu_feature_guard.cc:182] This TensorFlow binary is optimized to use available CPU instructions in performance-critical operations.\n",
      "To enable the following instructions: AVX2 FMA, in other operations, rebuild TensorFlow with the appropriate compiler flags.\n",
      "2024-07-18 10:43:51.331273: W tensorflow/compiler/tf2tensorrt/utils/py_utils.cc:38] TF-TRT Warning: Could not find TensorRT\n",
      "/nfs/home/students/l.willruth/miniconda3/envs/dlomix2/lib/python3.10/site-packages/tqdm/auto.py:21: TqdmWarning: IProgress not found. Please update jupyter and ipywidgets. See https://ipywidgets.readthedocs.io/en/stable/user_install.html\n",
      "  from .autonotebook import tqdm as notebook_tqdm\n"
     ]
    },
    {
     "name": "stdout",
     "output_type": "stream",
     "text": [
      "\n",
      "Avaliable feature extractors are (use the key of the following dict and pass it to features_to_extract in the Dataset Class):\n",
      "{\n",
      "   \"atom_count\": \"Atom count of PTM.\",\n",
      "   \"delta_mass\": \"Delta mass of PTM.\",\n",
      "   \"mod_gain\": \"Gain of atoms due to PTM.\",\n",
      "   \"mod_loss\": \"Loss of atoms due to PTM.\",\n",
      "   \"red_smiles\": \"Reduced SMILES representation of PTM.\"\n",
      "}.\n",
      "When writing your own feature extractor, you can either\n",
      "    (1) use the FeatureExtractor class or\n",
      "    (2) write a function that can be mapped to the Hugging Face dataset.\n",
      "In both cases, you can access the parsed sequence information from the dataset using the following keys, which all provide python lists:\n",
      "    - _parsed_sequence: parsed sequence\n",
      "    - _n_term_mods: N-terminal modifications\n",
      "    - _c_term_mods: C-terminal modifications\n",
      "\n"
     ]
    }
   ],
   "source": [
    "import dlomix\n",
    "from dlomix.models import PrositIntensityPredictor\n",
    "import tensorflow as tf\n",
    "import yaml\n",
    "from dlomix.losses import masked_spectral_distance, masked_pearson_correlation_distance"
   ]
  },
  {
   "cell_type": "markdown",
   "metadata": {},
   "source": [
    "### Load a pretrained model"
   ]
  },
  {
   "cell_type": "code",
   "execution_count": 2,
   "metadata": {},
   "outputs": [
    {
     "name": "stderr",
     "output_type": "stream",
     "text": [
      "2024-07-18 10:43:55.436963: E external/local_xla/xla/stream_executor/cuda/cuda_driver.cc:274] failed call to cuInit: CUDA_ERROR_NOT_INITIALIZED: initialization error\n",
      "2024-07-18 10:43:55.437025: I external/local_xla/xla/stream_executor/cuda/cuda_diagnostics.cc:129] retrieving CUDA diagnostic information for host: minotaur.exbio.wzw.tum.de\n",
      "2024-07-18 10:43:55.437038: I external/local_xla/xla/stream_executor/cuda/cuda_diagnostics.cc:136] hostname: minotaur.exbio.wzw.tum.de\n",
      "2024-07-18 10:43:55.437217: I external/local_xla/xla/stream_executor/cuda/cuda_diagnostics.cc:159] libcuda reported version is: 550.90.7\n",
      "2024-07-18 10:43:55.437262: I external/local_xla/xla/stream_executor/cuda/cuda_diagnostics.cc:163] kernel reported version is: 550.90.7\n",
      "2024-07-18 10:43:55.437272: I external/local_xla/xla/stream_executor/cuda/cuda_diagnostics.cc:241] kernel version seems to match DSO: 550.90.7\n"
     ]
    },
    {
     "name": "stdout",
     "output_type": "stream",
     "text": [
      "Model: \"prosit_intensity_predictor\"\n",
      "_________________________________________________________________\n",
      " Layer (type)                Output Shape              Param #   \n",
      "=================================================================\n",
      " embedding (Embedding)       multiple                  928       \n",
      "                                                                 \n",
      " sequential (Sequential)     (None, 30, 512)           1996800   \n",
      "                                                                 \n",
      " sequential_1 (Sequential)   multiple                  4608      \n",
      "                                                                 \n",
      " sequential_2 (Sequential)   (None, 29, 512)           1576806   \n",
      "                                                                 \n",
      " encoder_att (AttentionLaye  multiple                  542       \n",
      " r)                                                              \n",
      "                                                                 \n",
      " sequential_3 (Sequential)   multiple                  0         \n",
      "                                                                 \n",
      " sequential_4 (Sequential)   (None, 174)               3078      \n",
      "                                                                 \n",
      "=================================================================\n",
      "Total params: 3582762 (13.67 MB)\n",
      "Trainable params: 3582762 (13.67 MB)\n",
      "Non-trainable params: 0 (0.00 Byte)\n",
      "_________________________________________________________________\n"
     ]
    }
   ],
   "source": [
    "model_path = \"/cmnfs/proj/bmpc_dlomix/models/baseline_models/noptm_baseline_full_bs1024/\"\n",
    "model = tf.keras.models.load_model(model_path + \"85c6c918-4a2a-42e5-aab1-e666121c69a6.keras\")\n",
    "model.summary()"
   ]
  },
  {
   "cell_type": "markdown",
   "metadata": {},
   "source": [
    "##### Initialize the optimizer "
   ]
  },
  {
   "cell_type": "code",
   "execution_count": 3,
   "metadata": {},
   "outputs": [],
   "source": [
    "optimizer = tf.keras.optimizers.Adam(learning_rate=1e-4)"
   ]
  },
  {
   "cell_type": "markdown",
   "metadata": {},
   "source": [
    "### Freeze the model"
   ]
  },
  {
   "cell_type": "code",
   "execution_count": 4,
   "metadata": {},
   "outputs": [],
   "source": [
    "# function to freeze all layers except first and/or last layer\n",
    "def freeze_model(model:dlomix.models.prosit.PrositIntensityPredictor,optimizer:tf.keras.optimizers, trainable_first_layer:bool = False, trainable_last_layer:bool = False, loss:dlomix.losses=masked_spectral_distance, metrics:list=[masked_pearson_correlation_distance]) -> None:\n",
    "    ''' Freezes all layers of a PrositIntensityPredictor and keep first and/or last layer trainable.\n",
    "\n",
    "    First setting the whole model to trainable because this attribute overshadows the trainable attribute of every sublayer.\n",
    "    Then iterating through all sublayers and sets the trainable attribute of every layer to 'False', model is now frozen.\n",
    "    Next, setting the trainable attribute of either the first embedding layer or the last time density layer to trainable.\n",
    "    Finally, compile the model with the optimizer, loss, and metrics to make the changes take effect.\n",
    "\n",
    "    Parameter\n",
    "    ---------\n",
    "    model                   : dlomix.models.prosit.PrositIntensityPredictor\n",
    "                              The model to be frozen.\n",
    "    optimizer               : tf.keras.optimizers\n",
    "                              The optimizer is needed for compiling the model.\n",
    "    trainable_first_layer   : bool\n",
    "                              Whether the first layer should remain trainable.\n",
    "    trainable_last_layer    : bool\n",
    "                              Whether the last layer should remain trainable\n",
    "    loss                    : dlomix.losses\n",
    "                              The loss for compiling the model. \n",
    "                              default: masked_spectral_distance\n",
    "    metrics                 : list[dlomix.losses]\n",
    "                              The metrics for compiling the model.\n",
    "                              default: [masked_pearson_correlation_distance] \n",
    "    --------\n",
    "\n",
    "    '''\n",
    "\n",
    "    model.trainable = True \n",
    "    for lay in model.layers:\n",
    "        try:\n",
    "            for sublay in lay.layers:\n",
    "                sublay.trainable = False\n",
    "        except (AttributeError):\n",
    "            lay.trainable = False\n",
    "\n",
    "    if (trainable_first_layer):\n",
    "        first_layer = model.get_layer(name=\"embedding\")\n",
    "        first_layer.trainable = True\n",
    "\n",
    "    if (trainable_last_layer):\n",
    "        last_layer = model.regressor.get_layer(name = \"time_dense\")\n",
    "        last_layer.trainable = True\n",
    "\n",
    "    model.compile(\n",
    "        optimizer=optimizer,\n",
    "        loss=loss,\n",
    "        metrics=metrics\n",
    "    )"
   ]
  },
  {
   "cell_type": "code",
   "execution_count": 5,
   "metadata": {},
   "outputs": [],
   "source": [
    "# function to print the trainable attribute of every layer\n",
    "def check_trainability(model, sublayers = False):\n",
    "    for lay in model.layers:\n",
    "        if(sublayers):\n",
    "            print()\n",
    "            try:\n",
    "                lay.layers\n",
    "                print(f'Layer: {lay.name}, Trainable: {lay.trainable}')\n",
    "                for lay2 in lay.layers:\n",
    "                    print(f\"Layer: {lay2.name}, Trainable: {lay2.trainable}\")\n",
    "            except(AttributeError):\n",
    "                print(f'Layer: {lay.name}, Trainable: {lay.trainable}')\n",
    "        else:\n",
    "            print(f'Layer: {lay.name}, Trainable: {lay.trainable}')\n"
   ]
  },
  {
   "cell_type": "markdown",
   "metadata": {},
   "source": [
    "*Freeze all layers except the first and the last layer:*"
   ]
  },
  {
   "cell_type": "code",
   "execution_count": 6,
   "metadata": {},
   "outputs": [
    {
     "name": "stdout",
     "output_type": "stream",
     "text": [
      "\n",
      "Layer: embedding, Trainable: True\n",
      "\n",
      "Layer: sequential, Trainable: True\n",
      "Layer: bidirectional, Trainable: False\n",
      "Layer: dropout, Trainable: False\n",
      "Layer: gru_1, Trainable: False\n",
      "Layer: dropout_1, Trainable: False\n",
      "\n",
      "Layer: sequential_1, Trainable: True\n",
      "Layer: meta_in, Trainable: False\n",
      "Layer: meta_dense, Trainable: False\n",
      "Layer: meta_dense_do, Trainable: False\n",
      "\n",
      "Layer: sequential_2, Trainable: True\n",
      "Layer: decoder, Trainable: False\n",
      "Layer: dropout_2, Trainable: False\n",
      "Layer: decoder_attention_layer, Trainable: False\n",
      "\n",
      "Layer: encoder_att, Trainable: False\n",
      "\n",
      "Layer: sequential_3, Trainable: True\n",
      "Layer: add_meta, Trainable: False\n",
      "Layer: repeat, Trainable: False\n",
      "\n",
      "Layer: sequential_4, Trainable: True\n",
      "Layer: time_dense, Trainable: True\n",
      "Layer: activation, Trainable: False\n",
      "Layer: out, Trainable: False\n"
     ]
    }
   ],
   "source": [
    "freeze_model(model, optimizer, trainable_first_layer=True, trainable_last_layer=True)\n",
    "check_trainability(model, sublayers=True)"
   ]
  },
  {
   "cell_type": "markdown",
   "metadata": {},
   "source": [
    "### Prepare everything for training"
   ]
  },
  {
   "cell_type": "markdown",
   "metadata": {},
   "source": [
    "##### Load the dataset and the PTM alphabet"
   ]
  },
  {
   "cell_type": "code",
   "execution_count": 7,
   "metadata": {},
   "outputs": [],
   "source": [
    "from dlomix.data import load_processed_dataset\n",
    "dataset = load_processed_dataset(\"/cmnfs/proj/bmpc_dlomix/datasets/processed/noptm_baseline_small_bs1024\")"
   ]
  },
  {
   "cell_type": "markdown",
   "metadata": {},
   "source": [
    "### Continue Training with frozen layers"
   ]
  },
  {
   "cell_type": "code",
   "execution_count": 8,
   "metadata": {},
   "outputs": [
    {
     "name": "stdout",
     "output_type": "stream",
     "text": [
      "\n",
      "Layer: embedding, Trainable: True\n",
      "\n",
      "Layer: sequential, Trainable: True\n",
      "Layer: bidirectional, Trainable: False\n",
      "Layer: dropout, Trainable: False\n",
      "Layer: gru_1, Trainable: False\n",
      "Layer: dropout_1, Trainable: False\n",
      "\n",
      "Layer: sequential_1, Trainable: True\n",
      "Layer: meta_in, Trainable: False\n",
      "Layer: meta_dense, Trainable: False\n",
      "Layer: meta_dense_do, Trainable: False\n",
      "\n",
      "Layer: sequential_2, Trainable: True\n",
      "Layer: decoder, Trainable: False\n",
      "Layer: dropout_2, Trainable: False\n",
      "Layer: decoder_attention_layer, Trainable: False\n",
      "\n",
      "Layer: encoder_att, Trainable: False\n",
      "\n",
      "Layer: sequential_3, Trainable: True\n",
      "Layer: add_meta, Trainable: False\n",
      "Layer: repeat, Trainable: False\n",
      "\n",
      "Layer: sequential_4, Trainable: True\n",
      "Layer: time_dense, Trainable: True\n",
      "Layer: activation, Trainable: False\n",
      "Layer: out, Trainable: False\n"
     ]
    }
   ],
   "source": [
    "freeze_model(model,optimizer, trainable_first_layer=True, trainable_last_layer=True)\n",
    "check_trainability(model, sublayers=True)"
   ]
  },
  {
   "cell_type": "code",
   "execution_count": 9,
   "metadata": {},
   "outputs": [],
   "source": [
    "original_weights = model.get_weights()"
   ]
  },
  {
   "cell_type": "code",
   "execution_count": 10,
   "metadata": {},
   "outputs": [
    {
     "name": "stdout",
     "output_type": "stream",
     "text": [
      "8/8 [==============================] - 22s 2s/step - loss: 0.1371 - masked_pearson_correlation_distance: 0.1459 - val_loss: 0.1177 - val_masked_pearson_correlation_distance: 0.1344\n"
     ]
    },
    {
     "data": {
      "text/plain": [
       "<keras.src.callbacks.History at 0x7f98081827a0>"
      ]
     },
     "execution_count": 10,
     "metadata": {},
     "output_type": "execute_result"
    }
   ],
   "source": [
    "# train again while only the first layer and the last layer are trainable\n",
    "model.fit(\n",
    "    dataset.tensor_train_data,\n",
    "    validation_data=dataset.tensor_val_data,\n",
    "    epochs=1\n",
    ")"
   ]
  },
  {
   "cell_type": "code",
   "execution_count": 11,
   "metadata": {},
   "outputs": [
    {
     "name": "stdout",
     "output_type": "stream",
     "text": [
      "weights 0 stayed the same: False\n",
      "weights 1 stayed the same: True\n",
      "weights 2 stayed the same: True\n",
      "weights 3 stayed the same: True\n",
      "weights 4 stayed the same: True\n",
      "weights 5 stayed the same: True\n",
      "weights 6 stayed the same: True\n",
      "weights 7 stayed the same: True\n",
      "weights 8 stayed the same: True\n",
      "weights 9 stayed the same: True\n",
      "weights 10 stayed the same: True\n",
      "weights 11 stayed the same: True\n",
      "weights 12 stayed the same: True\n",
      "weights 13 stayed the same: True\n",
      "weights 14 stayed the same: True\n",
      "weights 15 stayed the same: True\n",
      "weights 16 stayed the same: True\n",
      "weights 17 stayed the same: True\n",
      "weights 18 stayed the same: True\n",
      "weights 19 stayed the same: False\n",
      "weights 20 stayed the same: False\n"
     ]
    }
   ],
   "source": [
    "# check which weights have changed\n",
    "retrained_weights = model.get_weights()\n",
    "for i, w in enumerate(zip(original_weights, retrained_weights)):\n",
    "    print(f'weights {i} stayed the same: {(w[0]==w[1]).all()}')\n",
    "    "
   ]
  },
  {
   "cell_type": "markdown",
   "metadata": {},
   "source": [
    "Two weight tensors changed for the last layer. Both tensors belong to the last time_dense layer:"
   ]
  },
  {
   "cell_type": "code",
   "execution_count": 13,
   "metadata": {},
   "outputs": [
    {
     "name": "stdout",
     "output_type": "stream",
     "text": [
      "[0.15428965 0.05034949 0.01139193 0.07319621 0.02805466 0.00192984]\n",
      "512\n",
      "[6, 6, 6, 6, 6, 6, 6, 6, 6, 6, 6, 6, 6, 6, 6, 6, 6, 6, 6, 6, 6, 6, 6, 6, 6, 6, 6, 6, 6, 6, 6, 6, 6, 6, 6, 6, 6, 6, 6, 6, 6, 6, 6, 6, 6, 6, 6, 6, 6, 6, 6, 6, 6, 6, 6, 6, 6, 6, 6, 6, 6, 6, 6, 6, 6, 6, 6, 6, 6, 6, 6, 6, 6, 6, 6, 6, 6, 6, 6, 6, 6, 6, 6, 6, 6, 6, 6, 6, 6, 6, 6, 6, 6, 6, 6, 6, 6, 6, 6, 6, 6, 6, 6, 6, 6, 6, 6, 6, 6, 6, 6, 6, 6, 6, 6, 6, 6, 6, 6, 6, 6, 6, 6, 6, 6, 6, 6, 6, 6, 6, 6, 6, 6, 6, 6, 6, 6, 6, 6, 6, 6, 6, 6, 6, 6, 6, 6, 6, 6, 6, 6, 6, 6, 6, 6, 6, 6, 6, 6, 6, 6, 6, 6, 6, 6, 6, 6, 6, 6, 6, 6, 6, 6, 6, 6, 6, 6, 6, 6, 6, 6, 6, 6, 6, 6, 6, 6, 6, 6, 6, 6, 6, 6, 6, 6, 6, 6, 6, 6, 6, 6, 6, 6, 6, 6, 6, 6, 6, 6, 6, 6, 6, 6, 6, 6, 6, 6, 6, 6, 6, 6, 6, 6, 6, 6, 6, 6, 6, 6, 6, 6, 6, 6, 6, 6, 6, 6, 6, 6, 6, 6, 6, 6, 6, 6, 6, 6, 6, 6, 6, 6, 6, 6, 6, 6, 6, 6, 6, 6, 6, 6, 6, 6, 6, 6, 6, 6, 6, 6, 6, 6, 6, 6, 6, 6, 6, 6, 6, 6, 6, 6, 6, 6, 6, 6, 6, 6, 6, 6, 6, 6, 6, 6, 6, 6, 6, 6, 6, 6, 6, 6, 6, 6, 6, 6, 6, 6, 6, 6, 6, 6, 6, 6, 6, 6, 6, 6, 6, 6, 6, 6, 6, 6, 6, 6, 6, 6, 6, 6, 6, 6, 6, 6, 6, 6, 6, 6, 6, 6, 6, 6, 6, 6, 6, 6, 6, 6, 6, 6, 6, 6, 6, 6, 6, 6, 6, 6, 6, 6, 6, 6, 6, 6, 6, 6, 6, 6, 6, 6, 6, 6, 6, 6, 6, 6, 6, 6, 6, 6, 6, 6, 6, 6, 6, 6, 6, 6, 6, 6, 6, 6, 6, 6, 6, 6, 6, 6, 6, 6, 6, 6, 6, 6, 6, 6, 6, 6, 6, 6, 6, 6, 6, 6, 6, 6, 6, 6, 6, 6, 6, 6, 6, 6, 6, 6, 6, 6, 6, 6, 6, 6, 6, 6, 6, 6, 6, 6, 6, 6, 6, 6, 6, 6, 6, 6, 6, 6, 6, 6, 6, 6, 6, 6, 6, 6, 6, 6, 6, 6, 6, 6, 6, 6, 6, 6, 6, 6, 6, 6, 6, 6, 6, 6, 6, 6, 6, 6, 6, 6, 6, 6, 6, 6, 6, 6, 6, 6, 6, 6, 6, 6, 6, 6, 6, 6, 6, 6, 6, 6, 6, 6, 6, 6, 6, 6, 6, 6, 6, 6, 6, 6, 6]\n",
      "3078\n",
      "Model: \"sequential_4\"\n",
      "_________________________________________________________________\n",
      " Layer (type)                Output Shape              Param #   \n",
      "=================================================================\n",
      " time_dense (TimeDistribute  (None, 29, 6)             3078      \n",
      " d)                                                              \n",
      "                                                                 \n",
      " activation (LeakyReLU)      (None, 29, 6)             0         \n",
      "                                                                 \n",
      " out (Flatten)               (None, 174)               0         \n",
      "                                                                 \n",
      "=================================================================\n",
      "Total params: 3078 (12.02 KB)\n",
      "Trainable params: 3078 (12.02 KB)\n",
      "Non-trainable params: 0 (0.00 Byte)\n",
      "_________________________________________________________________\n",
      "None\n"
     ]
    }
   ],
   "source": [
    "print(retrained_weights[20]) # 6\n",
    "print(len(retrained_weights[19])) # 512\n",
    "print([len(x) for x in retrained_weights[19]]) # 6\n",
    "print(512 * 6 + 6) # 3078\n",
    "print(model.get_layer(name=\"sequential_4\").summary())"
   ]
  },
  {
   "cell_type": "markdown",
   "metadata": {},
   "source": [
    "##### Release the model again"
   ]
  },
  {
   "cell_type": "code",
   "execution_count": 13,
   "metadata": {},
   "outputs": [],
   "source": [
    "def release_model(model:PrositIntensityPredictor, optimizer_config: dict = {\"learning_rate\":1e-4}, loss:dlomix.losses=masked_spectral_distance, metrics:list=[masked_pearson_correlation_distance]) -> None:\n",
    "    '''Unfreezes all layers of a PrositIntensityPredictor model.\n",
    "\n",
    "        Sets the trainable attribute of every layer to 'True'.\n",
    "        Finally, compiles the model with the optimizer, loss, and metrics to make the changes take effect.\n",
    "\n",
    "        Parameter\n",
    "        ---------\n",
    "        model                   : dlomix.models.prosit.PrositIntensityPredictor\n",
    "                                The model to be unfrozen.\n",
    "        optimizer_config        : dict\n",
    "                                The initialization parameters for the new optimizer needed for compiling the model.\n",
    "        loss                    : dlomix.losses\n",
    "                                The loss for compiling the model.\n",
    "                                default: masked_spectral_distance\n",
    "        metrics                 : list[dlomix.losses]\n",
    "                                The metrics for compiling the model.\n",
    "                                default: [masked_pearson_correlation_distance] \n",
    "        --------\n",
    "        '''\n",
    "    model.trainable = True\n",
    "\n",
    "    for lay in model.layers:\n",
    "        try:\n",
    "            for sublay in lay.layers:\n",
    "                sublay.trainable = True\n",
    "        except (AttributeError):\n",
    "            lay.trainable = True\n",
    "\n",
    "    new_optimizer = tf.keras.optimizers.Adam(**optimizer_config)\n",
    "    model.compile(\n",
    "        optimizer=new_optimizer,\n",
    "        loss=loss,\n",
    "        metrics=metrics\n",
    "    )\n",
    "     \n",
    "\n",
    "     \n"
   ]
  },
  {
   "cell_type": "code",
   "execution_count": 16,
   "metadata": {},
   "outputs": [
    {
     "name": "stdout",
     "output_type": "stream",
     "text": [
      "model compiled\n",
      "\n",
      "Layer: embedding, Trainable: True\n",
      "\n",
      "Layer: sequential, Trainable: True\n",
      "Layer: bidirectional, Trainable: True\n",
      "Layer: dropout, Trainable: True\n",
      "Layer: gru_1, Trainable: True\n",
      "Layer: dropout_1, Trainable: True\n",
      "\n",
      "Layer: sequential_1, Trainable: True\n",
      "Layer: meta_in, Trainable: True\n",
      "Layer: meta_dense, Trainable: True\n",
      "Layer: meta_dense_do, Trainable: True\n",
      "\n",
      "Layer: sequential_2, Trainable: True\n",
      "Layer: decoder, Trainable: True\n",
      "Layer: dropout_2, Trainable: True\n",
      "Layer: decoder_attention_layer, Trainable: True\n",
      "\n",
      "Layer: encoder_att, Trainable: True\n",
      "\n",
      "Layer: sequential_3, Trainable: True\n",
      "Layer: add_meta, Trainable: True\n",
      "Layer: repeat, Trainable: True\n",
      "\n",
      "Layer: sequential_4, Trainable: True\n",
      "Layer: time_dense, Trainable: True\n",
      "Layer: activation, Trainable: True\n",
      "Layer: out, Trainable: True\n"
     ]
    }
   ],
   "source": [
    "release_model(model, optimizer_config = {\"learning_rate\": 1e-4})\n",
    "check_trainability(model, sublayers=True)"
   ]
  },
  {
   "cell_type": "code",
   "execution_count": 17,
   "metadata": {},
   "outputs": [],
   "source": [
    "weights = model.get_weights()"
   ]
  },
  {
   "cell_type": "code",
   "execution_count": 18,
   "metadata": {},
   "outputs": [
    {
     "name": "stdout",
     "output_type": "stream",
     "text": [
      "8/8 [==============================] - 23s 2s/step - loss: 0.1368 - masked_pearson_correlation_distance: 0.1454 - val_loss: 0.1171 - val_masked_pearson_correlation_distance: 0.1340\n"
     ]
    },
    {
     "data": {
      "text/plain": [
       "<keras.src.callbacks.History at 0x7f7f60490b20>"
      ]
     },
     "execution_count": 18,
     "metadata": {},
     "output_type": "execute_result"
    }
   ],
   "source": [
    "# train again while model is released again\n",
    "model.fit(\n",
    "    dataset.tensor_train_data,\n",
    "    validation_data=dataset.tensor_val_data,\n",
    "    epochs=1\n",
    ")"
   ]
  },
  {
   "cell_type": "code",
   "execution_count": 19,
   "metadata": {},
   "outputs": [
    {
     "name": "stdout",
     "output_type": "stream",
     "text": [
      "weights 0 stayed the same: False\n",
      "weights 1 stayed the same: False\n",
      "weights 2 stayed the same: False\n",
      "weights 3 stayed the same: False\n",
      "weights 4 stayed the same: False\n",
      "weights 5 stayed the same: False\n",
      "weights 6 stayed the same: False\n",
      "weights 7 stayed the same: False\n",
      "weights 8 stayed the same: False\n",
      "weights 9 stayed the same: False\n",
      "weights 10 stayed the same: False\n",
      "weights 11 stayed the same: False\n",
      "weights 12 stayed the same: False\n",
      "weights 13 stayed the same: False\n",
      "weights 14 stayed the same: False\n",
      "weights 15 stayed the same: False\n",
      "weights 16 stayed the same: False\n",
      "weights 17 stayed the same: False\n",
      "weights 18 stayed the same: False\n",
      "weights 19 stayed the same: False\n",
      "weights 20 stayed the same: False\n"
     ]
    }
   ],
   "source": [
    "# check which weights have changed\n",
    "retrained_weights = model.get_weights()\n",
    "for i, w in enumerate(zip(original_weights, retrained_weights)):\n",
    "    print(f'weights {i} stayed the same: {(w[0]==w[1]).all()}')"
   ]
  }
 ],
 "metadata": {
  "kernelspec": {
   "display_name": "dlomix",
   "language": "python",
   "name": "python3"
  },
  "language_info": {
   "codemirror_mode": {
    "name": "ipython",
    "version": 3
   },
   "file_extension": ".py",
   "mimetype": "text/x-python",
   "name": "python",
   "nbconvert_exporter": "python",
   "pygments_lexer": "ipython3",
   "version": "3.10.14"
  }
 },
 "nbformat": 4,
 "nbformat_minor": 2
}
