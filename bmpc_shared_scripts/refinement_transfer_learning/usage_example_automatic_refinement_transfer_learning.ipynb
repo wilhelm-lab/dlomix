{
 "cells": [
  {
   "cell_type": "code",
   "execution_count": null,
   "metadata": {},
   "outputs": [],
   "source": [
    "%load_ext autoreload\n",
    "%autoreload 2"
   ]
  },
  {
   "cell_type": "code",
   "execution_count": null,
   "metadata": {},
   "outputs": [],
   "source": [
    "import os\n",
    "\n",
    "# os.environ[\"CUDA_VISIBLE_DEVICES\"] = '-1'\n",
    "os.environ['HF_HOME'] = '/cmnfs/proj/bmpc_dlomix/datasets'\n",
    "os.environ['HF_DATASETS_CACHE'] = '/cmnfs/proj/bmpc_dlomix/datasets/hf_cache'\n",
    "\n",
    "num_proc = 16\n",
    "os.environ[\"OMP_NUM_THREADS\"] = f\"{num_proc}\"\n",
    "os.environ[\"TF_NUM_INTRAOP_THREADS\"] = f\"{num_proc}\"\n",
    "os.environ[\"TF_NUM_INTEROP_THREADS\"] = f\"{num_proc}\"\n",
    "\n",
    "import tensorflow as tf\n",
    "tf.config.threading.set_inter_op_parallelism_threads(num_proc)\n",
    "tf.config.threading.set_intra_op_parallelism_threads(num_proc)\n"
   ]
  },
  {
   "cell_type": "code",
   "execution_count": null,
   "metadata": {},
   "outputs": [],
   "source": [
    "from dlomix.data import load_processed_dataset\n",
    "\n",
    "dataset = load_processed_dataset('/cmnfs/proj/bmpc_dlomix/datasets/processed/ptm_baseline_small_cleaned_bs1024')"
   ]
  },
  {
   "cell_type": "code",
   "execution_count": null,
   "metadata": {},
   "outputs": [],
   "source": [
    "from dlomix.models import PrositIntensityPredictor\n",
    "from dlomix.losses import masked_spectral_distance, masked_pearson_correlation_distance\n",
    "\n",
    "model = tf.keras.models.load_model('/cmnfs/proj/bmpc_dlomix/models/baseline_models/noptm_baseline_full_bs1024_unmod_extended/7ef3360f-2349-46c0-a905-01187d4899e2.keras')"
   ]
  },
  {
   "cell_type": "code",
   "execution_count": null,
   "metadata": {},
   "outputs": [],
   "source": [
<<<<<<< HEAD
    "from automatic_rl_tl import AutomaticRlTlTraining, AutomaticRlTlTrainingConfig\n",
=======
    "from dlomix.refinement_transfer_learning.automatic_rl_tl import AutomaticRlTlTraining, AutomaticRlTlTrainingConfig\n",
>>>>>>> feature/bmpc
    "\n",
    "config = AutomaticRlTlTrainingConfig(\n",
    "    dataset=dataset,\n",
    "    baseline_model=model,\n",
    "    use_wandb=True\n",
    ")\n",
    "\n",
    "trainer = AutomaticRlTlTraining(config)"
   ]
  },
  {
   "cell_type": "code",
   "execution_count": null,
   "metadata": {},
   "outputs": [],
   "source": [
    "new_model = trainer.train()"
   ]
  }
 ],
 "metadata": {
  "kernelspec": {
   "display_name": "Python 3",
   "language": "python",
   "name": "python3"
  },
  "language_info": {
   "codemirror_mode": {
    "name": "ipython",
    "version": 3
   },
   "file_extension": ".py",
   "mimetype": "text/x-python",
   "name": "python",
   "nbconvert_exporter": "python",
   "pygments_lexer": "ipython3",
   "version": "3.10.6"
  }
 },
 "nbformat": 4,
 "nbformat_minor": 2
}
