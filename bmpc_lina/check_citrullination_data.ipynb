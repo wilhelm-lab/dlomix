{
 "cells": [
  {
   "cell_type": "code",
   "execution_count": 1,
   "metadata": {},
   "outputs": [],
   "source": [
    "import pandas as pd\n",
    "import pyarrow.parquet as pq\n",
    "import numpy as np"
   ]
  },
  {
   "cell_type": "code",
   "execution_count": 2,
   "metadata": {},
   "outputs": [
    {
     "name": "stderr",
     "output_type": "stream",
     "text": [
      "/tmp/ipykernel_53149/3099777723.py:1: DtypeWarning: Columns (69,70,71) have mixed types. Specify dtype option on import or set low_memory=False.\n",
      "  msms = pd.read_csv(\"/cmnfs/data/proteomics/MQ_cit_LeeLab/MQ100%/msms.txt\", sep = \"\\t\")\n"
     ]
    }
   ],
   "source": [
    "msms = pd.read_csv(\"/cmnfs/data/proteomics/MQ_cit_LeeLab/MQ100%/msms.txt\", sep = \"\\t\")"
   ]
  },
  {
   "cell_type": "code",
   "execution_count": 3,
   "metadata": {},
   "outputs": [],
   "source": [
    "def check_citrullination(modifications):\n",
    "    if isinstance(modifications, list):\n",
    "        return 'Citrullination' in modifications\n",
    "    return 'Citrullination' == modifications"
   ]
  },
  {
   "cell_type": "code",
   "execution_count": 4,
   "metadata": {},
   "outputs": [
    {
     "name": "stdout",
     "output_type": "stream",
     "text": [
      "There is at least one entry with '+' in 'Reverse' and 'Citrullination' in 'Modifications'.\n"
     ]
    }
   ],
   "source": [
    "# Applying the conditions\n",
    "condition = msms['Reverse'].isna() & msms['Modifications'].apply(check_citrullination)\n",
    "\n",
    "# Checking if any row satisfies both conditions\n",
    "if condition.any():\n",
    "    print(\"There is at least one entry with '+' in 'Reverse' and 'Citrullination' in 'Modifications'.\")\n",
    "else:\n",
    "    print(\"No entry found with both conditions.\")"
   ]
  },
  {
   "cell_type": "code",
   "execution_count": 5,
   "metadata": {},
   "outputs": [],
   "source": [
    "# Creating a new DataFrame with the filtered rows\n",
    "filtered_df = msms[condition]"
   ]
  },
  {
   "cell_type": "code",
   "execution_count": 6,
   "metadata": {},
   "outputs": [],
   "source": [
    "condition2 = msms['Reverse'].str.contains(r'\\+') & msms['Modifications'].apply(check_citrullination)\n",
    "filtered_df2 = msms[condition2]"
   ]
  },
  {
   "cell_type": "code",
   "execution_count": 7,
   "metadata": {},
   "outputs": [
    {
     "data": {
      "text/plain": [
       "(4542, 73)"
      ]
     },
     "execution_count": 7,
     "metadata": {},
     "output_type": "execute_result"
    }
   ],
   "source": [
    "msms[msms['Modifications'].apply(check_citrullination)].shape"
   ]
  },
  {
   "cell_type": "code",
   "execution_count": 8,
   "metadata": {},
   "outputs": [
    {
     "data": {
      "text/plain": [
       "(408354, 73)"
      ]
     },
     "execution_count": 8,
     "metadata": {},
     "output_type": "execute_result"
    }
   ],
   "source": [
    "msms.shape"
   ]
  },
  {
   "cell_type": "code",
   "execution_count": 9,
   "metadata": {},
   "outputs": [],
   "source": [
    "new_msms = pd.read_csv(\"/cmnfs/proj/bmpc_dlomix/oktoberfest_output/citrullination_test2/msms/msms.prosit\")"
   ]
  },
  {
   "cell_type": "code",
   "execution_count": 10,
   "metadata": {},
   "outputs": [
    {
     "data": {
      "text/plain": [
       "(385052, 10)"
      ]
     },
     "execution_count": 10,
     "metadata": {},
     "output_type": "execute_result"
    }
   ],
   "source": [
    "new_msms.shape"
   ]
  },
  {
   "cell_type": "code",
   "execution_count": 11,
   "metadata": {},
   "outputs": [
    {
     "data": {
      "text/plain": [
       "False"
      ]
     },
     "execution_count": 11,
     "metadata": {},
     "output_type": "execute_result"
    }
   ],
   "source": [
    "any([\"UNIMOD:7\" in peptide for peptide in new_msms[\"MODIFIED_SEQUENCE\"]])"
   ]
  },
  {
   "cell_type": "code",
   "execution_count": 12,
   "metadata": {},
   "outputs": [
    {
     "data": {
      "text/plain": [
       "False"
      ]
     },
     "execution_count": 12,
     "metadata": {},
     "output_type": "execute_result"
    }
   ],
   "source": [
    "any([\"R(Citrullination)\" in peptide for peptide in new_msms[\"MODIFIED_SEQUENCE\"]])"
   ]
  },
  {
   "cell_type": "markdown",
   "metadata": {},
   "source": [
    "In original msms, replace R(Citrullination) with R(ci) to avoid conflict with C -> C[UNIMOD:4]"
   ]
  },
  {
   "cell_type": "code",
   "execution_count": 15,
   "metadata": {},
   "outputs": [],
   "source": [
    "msms['Modified sequence'] = msms['Modified sequence'].str.replace(r'R\\(Citrullination\\)', 'R(ci)', regex=True)\n"
   ]
  },
  {
   "cell_type": "code",
   "execution_count": 16,
   "metadata": {},
   "outputs": [
    {
     "data": {
      "text/plain": [
       "array(['_(Acetyl (Protein N-term))AAAAAAAAAAGAAGGR_',\n",
       "       '_AAAAAAAAAVSR(ci)R(ci)R(ci)_', '_AAAAAAALQAK_', ..., '_YYYSGKR_',\n",
       "       '_YYYYHRQYRR_', '_YYYYWHLR_'], dtype=object)"
      ]
     },
     "execution_count": 16,
     "metadata": {},
     "output_type": "execute_result"
    }
   ],
   "source": [
    "msms[\"Modified sequence\"].unique()"
   ]
  },
  {
   "cell_type": "code",
   "execution_count": 19,
   "metadata": {},
   "outputs": [],
   "source": [
    "msms.to_csv(\"/cmnfs/proj/bmpc_dlomix/datasets/citrullination_100_replaced/msms.txt\", sep = \"\\t\")"
   ]
  },
  {
   "cell_type": "markdown",
   "metadata": {},
   "source": []
  }
 ],
 "metadata": {
  "kernelspec": {
   "display_name": "oktoberfest_dlomix",
   "language": "python",
   "name": "python3"
  },
  "language_info": {
   "codemirror_mode": {
    "name": "ipython",
    "version": 3
   },
   "file_extension": ".py",
   "mimetype": "text/x-python",
   "name": "python",
   "nbconvert_exporter": "python",
   "pygments_lexer": "ipython3",
   "version": "3.10.14"
  }
 },
 "nbformat": 4,
 "nbformat_minor": 2
}
