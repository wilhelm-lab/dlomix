{
 "cells": [
  {
   "cell_type": "code",
   "execution_count": 1,
   "metadata": {},
   "outputs": [
    {
     "name": "stderr",
     "output_type": "stream",
     "text": [
      "2024-08-13 10:58:54.009890: E external/local_xla/xla/stream_executor/cuda/cuda_dnn.cc:9261] Unable to register cuDNN factory: Attempting to register factory for plugin cuDNN when one has already been registered\n",
      "2024-08-13 10:58:54.009932: E external/local_xla/xla/stream_executor/cuda/cuda_fft.cc:607] Unable to register cuFFT factory: Attempting to register factory for plugin cuFFT when one has already been registered\n",
      "2024-08-13 10:58:54.011608: E external/local_xla/xla/stream_executor/cuda/cuda_blas.cc:1515] Unable to register cuBLAS factory: Attempting to register factory for plugin cuBLAS when one has already been registered\n",
      "2024-08-13 10:58:54.020612: I tensorflow/core/platform/cpu_feature_guard.cc:182] This TensorFlow binary is optimized to use available CPU instructions in performance-critical operations.\n",
      "To enable the following instructions: AVX2 FMA, in other operations, rebuild TensorFlow with the appropriate compiler flags.\n",
      "2024-08-13 10:58:55.760765: W tensorflow/compiler/tf2tensorrt/utils/py_utils.cc:38] TF-TRT Warning: Could not find TensorRT\n",
      "/nfs/home/students/l.willruth/miniconda3/envs/oktoberfest_dlomix/lib/python3.10/site-packages/tqdm/auto.py:21: TqdmWarning: IProgress not found. Please update jupyter and ipywidgets. See https://ipywidgets.readthedocs.io/en/stable/user_install.html\n",
      "  from .autonotebook import tqdm as notebook_tqdm\n"
     ]
    },
    {
     "name": "stdout",
     "output_type": "stream",
     "text": [
      "\n",
      "Avaliable feature extractors are (use the key of the following dict and pass it to features_to_extract in the Dataset Class):\n",
      "{\n",
      "   \"atom_count\": \"Atom count of PTM.\",\n",
      "   \"delta_mass\": \"Delta mass of PTM.\",\n",
      "   \"mod_gain\": \"Gain of atoms due to PTM.\",\n",
      "   \"mod_loss\": \"Loss of atoms due to PTM.\",\n",
      "   \"red_smiles\": \"Reduced SMILES representation of PTM.\"\n",
      "}.\n",
      "When writing your own feature extractor, you can either\n",
      "    (1) use the FeatureExtractor class or\n",
      "    (2) write a function that can be mapped to the Hugging Face dataset.\n",
      "In both cases, you can access the parsed sequence information from the dataset using the following keys, which all provide python lists:\n",
      "    - _parsed_sequence: parsed sequence\n",
      "    - _n_term_mods: N-terminal modifications\n",
      "    - _c_term_mods: C-terminal modifications\n",
      "\n"
     ]
    }
   ],
   "source": [
    "import os\n",
    "import matplotlib.pyplot as plt\n",
    "import numpy as np\n",
    "from dlomix.interface import load_keras_model, process_dataset\n",
    "from dlomix.losses import masked_spectral_distance"
   ]
  },
  {
   "cell_type": "code",
   "execution_count": 2,
   "metadata": {},
   "outputs": [],
   "source": [
    "os.environ[\"CUDA_VISIBLE_DEVICES\"] = '-1'"
   ]
  },
  {
   "cell_type": "code",
   "execution_count": null,
   "metadata": {},
   "outputs": [],
   "source": [
    "from oktoberfest.runner import run_job\n",
    "runner = run_job('./configs/large_etd_holdout_config.json')"
   ]
  },
  {
   "cell_type": "code",
   "execution_count": 4,
   "metadata": {},
   "outputs": [
    {
     "name": "stderr",
     "output_type": "stream",
     "text": [
      "2024-08-12 15:57:00.293742: E external/local_xla/xla/stream_executor/cuda/cuda_driver.cc:274] failed call to cuInit: CUDA_ERROR_NO_DEVICE: no CUDA-capable device is detected\n",
      "2024-08-12 15:57:00.293788: I external/local_xla/xla/stream_executor/cuda/cuda_diagnostics.cc:129] retrieving CUDA diagnostic information for host: dragon.exbio.wzw.tum.de\n",
      "2024-08-12 15:57:00.293797: I external/local_xla/xla/stream_executor/cuda/cuda_diagnostics.cc:136] hostname: dragon.exbio.wzw.tum.de\n",
      "2024-08-12 15:57:00.293908: I external/local_xla/xla/stream_executor/cuda/cuda_diagnostics.cc:159] libcuda reported version is: 535.129.3\n",
      "2024-08-12 15:57:00.293941: I external/local_xla/xla/stream_executor/cuda/cuda_diagnostics.cc:163] kernel reported version is: 535.129.3\n",
      "2024-08-12 15:57:00.293948: I external/local_xla/xla/stream_executor/cuda/cuda_diagnostics.cc:241] kernel version seems to match DSO: 535.129.3\n"
     ]
    }
   ],
   "source": [
    "refined_model = load_keras_model('/cmnfs/proj/bmpc_dlomix/oktoberfest_output/refinement_etd_out/data/dlomix/refined.keras')\n",
    "scratch_model = load_keras_model('/cmnfs/proj/bmpc_dlomix/models/refinement_transfer_learning/etd_models/ETD_from_scratch/etd_from_scratch.keras')"
   ]
  },
  {
   "cell_type": "code",
   "execution_count": 5,
   "metadata": {},
   "outputs": [
    {
     "name": "stderr",
     "output_type": "stream",
     "text": [
      "\n",
      "                Number of ions is the same as the loaded model supports, but the ion types are different.\n",
      "                The model probably needs to be refined to achieve a better performance on these new ion types.\n",
      "                \n"
     ]
    },
    {
     "data": {
      "application/vnd.jupyter.widget-view+json": {
       "model_id": "839cabdcbdbd4389b89a0002b54b74ed",
       "version_major": 2,
       "version_minor": 0
      },
      "text/plain": [
       "Generating train split: 0 examples [00:00, ? examples/s]"
      ]
     },
     "metadata": {},
     "output_type": "display_data"
    },
    {
     "data": {
      "application/vnd.jupyter.widget-view+json": {
       "model_id": "0c41845ac67b435288d30499fcb4a061",
       "version_major": 2,
       "version_minor": 0
      },
      "text/plain": [
       "Mapping SequenceParsingProcessor:   0%|          | 0/26038 [00:00<?, ? examples/s]"
      ]
     },
     "metadata": {},
     "output_type": "display_data"
    },
    {
     "data": {
      "application/vnd.jupyter.widget-view+json": {
       "model_id": "36825f309d0e44b8ad516ce7ca5d993a",
       "version_major": 2,
       "version_minor": 0
      },
      "text/plain": [
       "Mapping SequenceParsingProcessor:   0%|          | 0/4340 [00:00<?, ? examples/s]"
      ]
     },
     "metadata": {},
     "output_type": "display_data"
    },
    {
     "data": {
      "application/vnd.jupyter.widget-view+json": {
       "model_id": "2bdc3ca713dd4a61966a07045f6c29f4",
       "version_major": 2,
       "version_minor": 0
      },
      "text/plain": [
       "Mapping SequenceParsingProcessor:   0%|          | 0/13019 [00:00<?, ? examples/s]"
      ]
     },
     "metadata": {},
     "output_type": "display_data"
    },
    {
     "data": {
      "application/vnd.jupyter.widget-view+json": {
       "model_id": "ad5dd1f21bba408c8beb04fd5832171a",
       "version_major": 2,
       "version_minor": 0
      },
      "text/plain": [
       "Mapping SequenceEncodingProcessor:   0%|          | 0/26038 [00:00<?, ? examples/s]"
      ]
     },
     "metadata": {},
     "output_type": "display_data"
    },
    {
     "data": {
      "application/vnd.jupyter.widget-view+json": {
       "model_id": "2d03431045514022a777b98618b838f8",
       "version_major": 2,
       "version_minor": 0
      },
      "text/plain": [
       "Mapping SequenceEncodingProcessor:   0%|          | 0/4340 [00:00<?, ? examples/s]"
      ]
     },
     "metadata": {},
     "output_type": "display_data"
    },
    {
     "data": {
      "application/vnd.jupyter.widget-view+json": {
       "model_id": "576764aa94a443b9a32f3773262bac35",
       "version_major": 2,
       "version_minor": 0
      },
      "text/plain": [
       "Mapping SequenceEncodingProcessor:   0%|          | 0/13019 [00:00<?, ? examples/s]"
      ]
     },
     "metadata": {},
     "output_type": "display_data"
    },
    {
     "data": {
      "application/vnd.jupyter.widget-view+json": {
       "model_id": "ccc56562f08c45ef9b257cd1d35b6a82",
       "version_major": 2,
       "version_minor": 0
      },
      "text/plain": [
       "Mapping SequencePaddingProcessor:   0%|          | 0/26038 [00:00<?, ? examples/s]"
      ]
     },
     "metadata": {},
     "output_type": "display_data"
    },
    {
     "data": {
      "application/vnd.jupyter.widget-view+json": {
       "model_id": "9cd60f55202446eea153782ef243c91f",
       "version_major": 2,
       "version_minor": 0
      },
      "text/plain": [
       "Mapping SequencePaddingProcessor:   0%|          | 0/4340 [00:00<?, ? examples/s]"
      ]
     },
     "metadata": {},
     "output_type": "display_data"
    },
    {
     "data": {
      "application/vnd.jupyter.widget-view+json": {
       "model_id": "abdc0755f56b43f2b5ed4c3e2fafc5ee",
       "version_major": 2,
       "version_minor": 0
      },
      "text/plain": [
       "Mapping SequencePaddingProcessor:   0%|          | 0/13019 [00:00<?, ? examples/s]"
      ]
     },
     "metadata": {},
     "output_type": "display_data"
    },
    {
     "data": {
      "application/vnd.jupyter.widget-view+json": {
       "model_id": "1fa66513c8744719a4192ff09c5ef1e0",
       "version_major": 2,
       "version_minor": 0
      },
      "text/plain": [
       "Filter:   0%|          | 0/26038 [00:00<?, ? examples/s]"
      ]
     },
     "metadata": {},
     "output_type": "display_data"
    },
    {
     "data": {
      "application/vnd.jupyter.widget-view+json": {
       "model_id": "bb5e7f03cc4646589a0e524dfd8bcb42",
       "version_major": 2,
       "version_minor": 0
      },
      "text/plain": [
       "Filter:   0%|          | 0/4340 [00:00<?, ? examples/s]"
      ]
     },
     "metadata": {},
     "output_type": "display_data"
    },
    {
     "data": {
      "application/vnd.jupyter.widget-view+json": {
       "model_id": "4d2c470ee7a2487b99dde118c16531aa",
       "version_major": 2,
       "version_minor": 0
      },
      "text/plain": [
       "Casting the dataset:   0%|          | 0/26038 [00:00<?, ? examples/s]"
      ]
     },
     "metadata": {},
     "output_type": "display_data"
    },
    {
     "data": {
      "application/vnd.jupyter.widget-view+json": {
       "model_id": "e3b64ffa7d484f6986cdcb37cfcb6318",
       "version_major": 2,
       "version_minor": 0
      },
      "text/plain": [
       "Casting the dataset:   0%|          | 0/4340 [00:00<?, ? examples/s]"
      ]
     },
     "metadata": {},
     "output_type": "display_data"
    },
    {
     "data": {
      "application/vnd.jupyter.widget-view+json": {
       "model_id": "da706deecd1a4c4ab52f95496e063ed5",
       "version_major": 2,
       "version_minor": 0
      },
      "text/plain": [
       "Casting the dataset:   0%|          | 0/13019 [00:00<?, ? examples/s]"
      ]
     },
     "metadata": {},
     "output_type": "display_data"
    }
   ],
   "source": [
    "dataset = process_dataset(\n",
    "    parquet_file_path='./rescoring_out_large/data/dlomix/refinement_dataset/processed_dataset.parquet',\n",
    "    model=refined_model,\n",
    "    ion_types=['z', 'c'],\n",
    "    val_ratio=0.1,\n",
    "    test_ratio=0.3\n",
    ")"
   ]
  },
  {
   "cell_type": "code",
   "execution_count": 6,
   "metadata": {},
   "outputs": [
    {
     "data": {
      "text/plain": [
       "DatasetDict({\n",
       "    train: Dataset({\n",
       "        features: ['modified_sequence', 'intensities_raw', 'precursor_charge_onehot', 'collision_energy_aligned_normed', 'method_nbr', '_parsed_sequence', '_n_term_mods', '_c_term_mods'],\n",
       "        num_rows: 26038\n",
       "    })\n",
       "    val: Dataset({\n",
       "        features: ['modified_sequence', 'intensities_raw', 'precursor_charge_onehot', 'collision_energy_aligned_normed', 'method_nbr', '_parsed_sequence', '_n_term_mods', '_c_term_mods'],\n",
       "        num_rows: 4340\n",
       "    })\n",
       "    test: Dataset({\n",
       "        features: ['modified_sequence', 'intensities_raw', 'precursor_charge_onehot', 'collision_energy_aligned_normed', 'method_nbr', '_parsed_sequence', '_n_term_mods', '_c_term_mods'],\n",
       "        num_rows: 13019\n",
       "    })\n",
       "})"
      ]
     },
     "execution_count": 6,
     "metadata": {},
     "output_type": "execute_result"
    }
   ],
   "source": [
    "dataset"
   ]
  },
  {
   "cell_type": "code",
   "execution_count": 7,
   "metadata": {},
   "outputs": [
    {
     "name": "stdout",
     "output_type": "stream",
     "text": [
      "32/32 [==============================] - 5s 81ms/step\n",
      "32/32 [==============================] - 3s 84ms/step\n",
      "32/32 [==============================] - 3s 83ms/step\n",
      "32/32 [==============================] - 3s 88ms/step\n",
      "32/32 [==============================] - 3s 83ms/step\n",
      "32/32 [==============================] - 3s 83ms/step\n",
      "32/32 [==============================] - 3s 83ms/step\n",
      "32/32 [==============================] - 3s 83ms/step\n",
      "32/32 [==============================] - 3s 83ms/step\n",
      "32/32 [==============================] - 3s 84ms/step\n",
      "32/32 [==============================] - 3s 82ms/step\n",
      "32/32 [==============================] - 3s 83ms/step\n",
      "23/23 [==============================] - 3s 83ms/step\n"
     ]
    }
   ],
   "source": [
    "sd_refined = list()\n",
    "for batch, y_true in dataset.tensor_test_data:\n",
    "    y_pred = refined_model.predict(batch)\n",
    "    sd_refined.extend(masked_spectral_distance(y_true=y_true, y_pred=y_pred).numpy())"
   ]
  },
  {
   "cell_type": "code",
   "execution_count": 8,
   "metadata": {},
   "outputs": [
    {
     "name": "stdout",
     "output_type": "stream",
     "text": [
      "32/32 [==============================] - 5s 85ms/step\n",
      "32/32 [==============================] - 3s 86ms/step\n",
      "32/32 [==============================] - 3s 83ms/step\n",
      "32/32 [==============================] - 3s 83ms/step\n",
      "32/32 [==============================] - 3s 84ms/step\n",
      "32/32 [==============================] - 3s 84ms/step\n",
      "32/32 [==============================] - 3s 84ms/step\n",
      "32/32 [==============================] - 3s 82ms/step\n",
      "32/32 [==============================] - 3s 81ms/step\n",
      "32/32 [==============================] - 3s 81ms/step\n",
      "32/32 [==============================] - 3s 82ms/step\n",
      "32/32 [==============================] - 3s 82ms/step\n",
      "23/23 [==============================] - 3s 87ms/step\n"
     ]
    }
   ],
   "source": [
    "sd_scratch = list()\n",
    "for batch, y_true in dataset.tensor_test_data:\n",
    "    y_pred = scratch_model.predict(batch)\n",
    "    sd_scratch.extend(masked_spectral_distance(y_true=y_true, y_pred=y_pred).numpy())"
   ]
  },
  {
   "cell_type": "code",
   "execution_count": 13,
   "metadata": {},
   "outputs": [
    {
     "data": {
      "text/plain": [
       "Text(0.5, 0, 'Spectral Angle')"
      ]
     },
     "execution_count": 13,
     "metadata": {},
     "output_type": "execute_result"
    },
    {
     "data": {
      "image/png": "[encoded data removed]",
      "text/plain": [
       "<Figure size 1200x600 with 2 Axes>"
      ]
     },
     "metadata": {},
     "output_type": "display_data"
    }
   ],
   "source": [
    "fig, ax = plt.subplots(1, 2, figsize=(12, 6), sharey=True)\n",
    "sa_scratch = [1 - sd for sd in sd_scratch]\n",
    "avg_sa_scratch = np.mean(sa_scratch)\n",
    "ax[0].hist(sa_scratch, bins=30, alpha=0.75, edgecolor='black')\n",
    "ax[0].axvline(avg_sa_scratch, color='r', linestyle='dashed', linewidth=1)\n",
    "ax[0].text(0.2, 1e3, f'Avg. SA = {avg_sa_scratch:.2f}', color='r')\n",
    "ax[0].set_title(f'Spectral angles on holdoutset (Scratch model)')\n",
    "ax[0].set_xlabel('Spectral Angle')\n",
    "\n",
    "sa_refined = [1 - sd for sd in sd_refined]\n",
    "avg_sa_refined = np.mean(sa_refined)\n",
    "ax[1].hist(sa_refined, bins=30, alpha=0.75, edgecolor='black')\n",
    "ax[1].axvline(avg_sa_refined, color='r', linestyle='dashed', linewidth=1)\n",
    "ax[1].text(0.2, 1e3, f'Avg. SA = {avg_sa_refined:.2f}', color='r')\n",
    "ax[1].set_title(f'Spectral angles on holdoutset (Refined model)')\n",
    "ax[1].set_xlabel('Spectral Angle')"
   ]
  },
  {
   "cell_type": "code",
   "execution_count": null,
   "metadata": {},
   "outputs": [],
   "source": []
  }
 ],
 "metadata": {
  "kernelspec": {
   "display_name": "mapra_pipeline",
   "language": "python",
   "name": "python3"
  },
  "language_info": {
   "codemirror_mode": {
    "name": "ipython",
    "version": 3
   },
   "file_extension": ".py",
   "mimetype": "text/x-python",
   "name": "python",
   "nbconvert_exporter": "python",
   "pygments_lexer": "ipython3",
   "version": "3.10.14"
  }
 },
 "nbformat": 4,
 "nbformat_minor": 2
}
