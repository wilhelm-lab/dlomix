{
 "cells": [
  {
   "cell_type": "code",
   "execution_count": 1,
   "metadata": {},
   "outputs": [],
   "source": [
    "import pandas as pd\n",
    "import pyarrow.parquet as pq\n",
    "import numpy as np"
   ]
  },
  {
   "cell_type": "code",
   "execution_count": 2,
   "metadata": {},
   "outputs": [],
   "source": [
    "inpath = '/cmnfs/proj/bmpc_dlomix/datasets/parquet/noptm_baseline_small'\n",
    "dataset1 = pd.read_parquet(f'{inpath}_train.parquet')"
   ]
  },
  {
   "cell_type": "code",
   "execution_count": 3,
   "metadata": {},
   "outputs": [],
   "source": [
    "dataset2 = pd.read_parquet('/cmnfs/proj/oktoberfest/ETD_Support/02445d_BA1-TUM_HLA_1_01_01-ETD-1h-R4.parquet')\n",
    "# dataset2 = pd.read_parquet(\"/cmnfs/home/students/j.schlensok/oktoberfest/tutorials/out/data/dlomix/refinement_dataset/processed_dataset.parquet\")\n",
    "dataset2 = pd.read_parquet(\"/nfs/home/students/l.willruth/mapra/ce_calibration_out/data/dlomix/refinement_dataset/processed_dataset.parquet\")"
   ]
  },
  {
   "cell_type": "code",
   "execution_count": 4,
   "metadata": {},
   "outputs": [
    {
     "data": {
      "text/html": [
       "<div>\n",
       "<style scoped>\n",
       "    .dataframe tbody tr th:only-of-type {\n",
       "        vertical-align: middle;\n",
       "    }\n",
       "\n",
       "    .dataframe tbody tr th {\n",
       "        vertical-align: top;\n",
       "    }\n",
       "\n",
       "    .dataframe thead th {\n",
       "        text-align: right;\n",
       "    }\n",
       "</style>\n",
       "<table border=\"1\" class=\"dataframe\">\n",
       "  <thead>\n",
       "    <tr style=\"text-align: right;\">\n",
       "      <th></th>\n",
       "      <th>raw_file</th>\n",
       "      <th>scan_number</th>\n",
       "      <th>method_nbr</th>\n",
       "      <th>precursor_charge_onehot</th>\n",
       "      <th>collision_energy_aligned_normed</th>\n",
       "      <th>intensities_raw</th>\n",
       "      <th>package</th>\n",
       "      <th>modified_sequence</th>\n",
       "      <th>sub</th>\n",
       "    </tr>\n",
       "  </thead>\n",
       "  <tbody>\n",
       "    <tr>\n",
       "      <th>0</th>\n",
       "      <td>01640c_BA2-Thermo_SRM_Pool_9_01_01-2xIT_2xHCD-...</td>\n",
       "      <td>29024</td>\n",
       "      <td>2</td>\n",
       "      <td>[0, 1, 0, 0, 0, 0]</td>\n",
       "      <td>0.223670</td>\n",
       "      <td>[0.2857142857142857, 0.0, -1.0, 0.0, 0.0, -1.0...</td>\n",
       "      <td>Thermo_SRM_Pool_9</td>\n",
       "      <td>[]-TGQFDSQEYTEYAVK-[]</td>\n",
       "      <td>0.0</td>\n",
       "    </tr>\n",
       "    <tr>\n",
       "      <th>1</th>\n",
       "      <td>03036a_BB12-TUM_HLA2_120_01_01-DDA-1h-R1</td>\n",
       "      <td>24650</td>\n",
       "      <td>2</td>\n",
       "      <td>[0, 0, 1, 0, 0, 0]</td>\n",
       "      <td>0.312461</td>\n",
       "      <td>[0.66, 0.0, 0.0, 0.0, 0.0, 0.0, 0.01, 0.0, 0.0...</td>\n",
       "      <td>TUM_HLA2_122_01</td>\n",
       "      <td>[]-AHPKLVFSQEGRY-[]</td>\n",
       "      <td>0.0</td>\n",
       "    </tr>\n",
       "    <tr>\n",
       "      <th>2</th>\n",
       "      <td>02445d_BH9-TUM_HLA_93_01_01-2xIT_2xHCD-1h-R4</td>\n",
       "      <td>10628</td>\n",
       "      <td>2</td>\n",
       "      <td>[0, 1, 0, 0, 0, 0]</td>\n",
       "      <td>0.216905</td>\n",
       "      <td>[0.0, 0.0, -1.0, 0.0, 0.0, -1.0, 0.25, 0.0, -1...</td>\n",
       "      <td>TUM_HLA_93_01</td>\n",
       "      <td>[]-NEEPKVATA-[]</td>\n",
       "      <td>0.0</td>\n",
       "    </tr>\n",
       "    <tr>\n",
       "      <th>3</th>\n",
       "      <td>02445d_BF9-TUM_HLA_69_01_01-2xIT_2xHCD-1h-R4</td>\n",
       "      <td>49207</td>\n",
       "      <td>2</td>\n",
       "      <td>[0, 1, 0, 0, 0, 0]</td>\n",
       "      <td>0.231191</td>\n",
       "      <td>[0.04, 0.0, -1.0, 0.0, 0.0, -1.0, 0.04, 0.0, -...</td>\n",
       "      <td>TUM_HLA_69_01</td>\n",
       "      <td>[]-WPEAWRQQL-[]</td>\n",
       "      <td>0.0</td>\n",
       "    </tr>\n",
       "    <tr>\n",
       "      <th>4</th>\n",
       "      <td>01812a_GG1-TUM_second_pool_91_01_01-3xHCD-1h-R1</td>\n",
       "      <td>51757</td>\n",
       "      <td>2</td>\n",
       "      <td>[0, 0, 1, 0, 0, 0]</td>\n",
       "      <td>0.273261</td>\n",
       "      <td>[0.02, 0.0, 0.0, 0.0, 0.0, 0.0, 0.0, 0.0, 0.0,...</td>\n",
       "      <td>TUM_first_pool_105</td>\n",
       "      <td>[]-SDLEANVEALTQEIDFLRR-[]</td>\n",
       "      <td>0.0</td>\n",
       "    </tr>\n",
       "    <tr>\n",
       "      <th>...</th>\n",
       "      <td>...</td>\n",
       "      <td>...</td>\n",
       "      <td>...</td>\n",
       "      <td>...</td>\n",
       "      <td>...</td>\n",
       "      <td>...</td>\n",
       "      <td>...</td>\n",
       "      <td>...</td>\n",
       "      <td>...</td>\n",
       "    </tr>\n",
       "    <tr>\n",
       "      <th>7995</th>\n",
       "      <td>01640c_BD2-Thermo_SRM_Pool_12_01_01-3xHCD-1h-R2</td>\n",
       "      <td>55210</td>\n",
       "      <td>2</td>\n",
       "      <td>[0, 1, 0, 0, 0, 0]</td>\n",
       "      <td>0.372297</td>\n",
       "      <td>[0.51, 0.0, -1.0, 0.0, 0.0, -1.0, 0.5, 0.0, -1...</td>\n",
       "      <td>Thermo_SRM_Pool_12</td>\n",
       "      <td>[]-EELSGSLLQSVQEALEER-[]</td>\n",
       "      <td>0.0</td>\n",
       "    </tr>\n",
       "    <tr>\n",
       "      <th>7996</th>\n",
       "      <td>02097a_BF7-TUM_isoform_67_01_01-3xHCD-1h-R3</td>\n",
       "      <td>32437</td>\n",
       "      <td>2</td>\n",
       "      <td>[0, 0, 0, 1, 0, 0]</td>\n",
       "      <td>0.266420</td>\n",
       "      <td>[0.22, 0.0, 0.0, 0.0, 0.0, 0.0, 0.1, 0.0, 0.0,...</td>\n",
       "      <td>TUM_isoform_67_01</td>\n",
       "      <td>[]-PLLGSLRHMAPIR-[]</td>\n",
       "      <td>0.0</td>\n",
       "    </tr>\n",
       "    <tr>\n",
       "      <th>7997</th>\n",
       "      <td>02445b_BG5-TUM_HLA_77_01_01-3xHCD-1h-R4</td>\n",
       "      <td>22717</td>\n",
       "      <td>2</td>\n",
       "      <td>[0, 0, 1, 0, 0, 0]</td>\n",
       "      <td>0.283213</td>\n",
       "      <td>[0.01, 0.0, 0.0, 0.03, 0.0, 0.0, 0.24, 0.0, 0....</td>\n",
       "      <td>TUM_HLA_77_01</td>\n",
       "      <td>[]-RPASPPVVKL-[]</td>\n",
       "      <td>0.0</td>\n",
       "    </tr>\n",
       "    <tr>\n",
       "      <th>7998</th>\n",
       "      <td>01717a_BF2-TUM_second_pool_26_01_01-DDA-1h-R1</td>\n",
       "      <td>12543</td>\n",
       "      <td>2</td>\n",
       "      <td>[0, 0, 1, 0, 0, 0]</td>\n",
       "      <td>0.325728</td>\n",
       "      <td>[0.67, 0.0, 0.0, 0.0, 0.0, 0.0, 0.32, 0.0, 0.0...</td>\n",
       "      <td>TUM_second_pool_26</td>\n",
       "      <td>[]-EIPEVKDEEK-[]</td>\n",
       "      <td>0.0</td>\n",
       "    </tr>\n",
       "    <tr>\n",
       "      <th>7999</th>\n",
       "      <td>01650b_BF1-TUM_first_pool_48_01_01-3xHCD-1h-R2</td>\n",
       "      <td>21080</td>\n",
       "      <td>2</td>\n",
       "      <td>[0, 1, 0, 0, 0, 0]</td>\n",
       "      <td>0.273895</td>\n",
       "      <td>[0.04, 0.0, -1.0, 0.0, 0.0, -1.0, 0.03, 0.0, -...</td>\n",
       "      <td>TUM_first_pool_48</td>\n",
       "      <td>[]-AEAEVWAQANER-[]</td>\n",
       "      <td>0.0</td>\n",
       "    </tr>\n",
       "  </tbody>\n",
       "</table>\n",
       "<p>8000 rows × 9 columns</p>\n",
       "</div>"
      ],
      "text/plain": [
       "                                               raw_file  scan_number  \\\n",
       "0     01640c_BA2-Thermo_SRM_Pool_9_01_01-2xIT_2xHCD-...        29024   \n",
       "1              03036a_BB12-TUM_HLA2_120_01_01-DDA-1h-R1        24650   \n",
       "2          02445d_BH9-TUM_HLA_93_01_01-2xIT_2xHCD-1h-R4        10628   \n",
       "3          02445d_BF9-TUM_HLA_69_01_01-2xIT_2xHCD-1h-R4        49207   \n",
       "4       01812a_GG1-TUM_second_pool_91_01_01-3xHCD-1h-R1        51757   \n",
       "...                                                 ...          ...   \n",
       "7995    01640c_BD2-Thermo_SRM_Pool_12_01_01-3xHCD-1h-R2        55210   \n",
       "7996        02097a_BF7-TUM_isoform_67_01_01-3xHCD-1h-R3        32437   \n",
       "7997            02445b_BG5-TUM_HLA_77_01_01-3xHCD-1h-R4        22717   \n",
       "7998      01717a_BF2-TUM_second_pool_26_01_01-DDA-1h-R1        12543   \n",
       "7999     01650b_BF1-TUM_first_pool_48_01_01-3xHCD-1h-R2        21080   \n",
       "\n",
       "      method_nbr precursor_charge_onehot  collision_energy_aligned_normed  \\\n",
       "0              2      [0, 1, 0, 0, 0, 0]                         0.223670   \n",
       "1              2      [0, 0, 1, 0, 0, 0]                         0.312461   \n",
       "2              2      [0, 1, 0, 0, 0, 0]                         0.216905   \n",
       "3              2      [0, 1, 0, 0, 0, 0]                         0.231191   \n",
       "4              2      [0, 0, 1, 0, 0, 0]                         0.273261   \n",
       "...          ...                     ...                              ...   \n",
       "7995           2      [0, 1, 0, 0, 0, 0]                         0.372297   \n",
       "7996           2      [0, 0, 0, 1, 0, 0]                         0.266420   \n",
       "7997           2      [0, 0, 1, 0, 0, 0]                         0.283213   \n",
       "7998           2      [0, 0, 1, 0, 0, 0]                         0.325728   \n",
       "7999           2      [0, 1, 0, 0, 0, 0]                         0.273895   \n",
       "\n",
       "                                        intensities_raw             package  \\\n",
       "0     [0.2857142857142857, 0.0, -1.0, 0.0, 0.0, -1.0...   Thermo_SRM_Pool_9   \n",
       "1     [0.66, 0.0, 0.0, 0.0, 0.0, 0.0, 0.01, 0.0, 0.0...     TUM_HLA2_122_01   \n",
       "2     [0.0, 0.0, -1.0, 0.0, 0.0, -1.0, 0.25, 0.0, -1...       TUM_HLA_93_01   \n",
       "3     [0.04, 0.0, -1.0, 0.0, 0.0, -1.0, 0.04, 0.0, -...       TUM_HLA_69_01   \n",
       "4     [0.02, 0.0, 0.0, 0.0, 0.0, 0.0, 0.0, 0.0, 0.0,...  TUM_first_pool_105   \n",
       "...                                                 ...                 ...   \n",
       "7995  [0.51, 0.0, -1.0, 0.0, 0.0, -1.0, 0.5, 0.0, -1...  Thermo_SRM_Pool_12   \n",
       "7996  [0.22, 0.0, 0.0, 0.0, 0.0, 0.0, 0.1, 0.0, 0.0,...   TUM_isoform_67_01   \n",
       "7997  [0.01, 0.0, 0.0, 0.03, 0.0, 0.0, 0.24, 0.0, 0....       TUM_HLA_77_01   \n",
       "7998  [0.67, 0.0, 0.0, 0.0, 0.0, 0.0, 0.32, 0.0, 0.0...  TUM_second_pool_26   \n",
       "7999  [0.04, 0.0, -1.0, 0.0, 0.0, -1.0, 0.03, 0.0, -...   TUM_first_pool_48   \n",
       "\n",
       "              modified_sequence  sub  \n",
       "0         []-TGQFDSQEYTEYAVK-[]  0.0  \n",
       "1           []-AHPKLVFSQEGRY-[]  0.0  \n",
       "2               []-NEEPKVATA-[]  0.0  \n",
       "3               []-WPEAWRQQL-[]  0.0  \n",
       "4     []-SDLEANVEALTQEIDFLRR-[]  0.0  \n",
       "...                         ...  ...  \n",
       "7995   []-EELSGSLLQSVQEALEER-[]  0.0  \n",
       "7996        []-PLLGSLRHMAPIR-[]  0.0  \n",
       "7997           []-RPASPPVVKL-[]  0.0  \n",
       "7998           []-EIPEVKDEEK-[]  0.0  \n",
       "7999         []-AEAEVWAQANER-[]  0.0  \n",
       "\n",
       "[8000 rows x 9 columns]"
      ]
     },
     "execution_count": 4,
     "metadata": {},
     "output_type": "execute_result"
    }
   ],
   "source": [
    "dataset1"
   ]
  },
  {
   "cell_type": "code",
   "execution_count": 5,
   "metadata": {},
   "outputs": [
    {
     "data": {
      "text/html": [
       "<div>\n",
       "<style scoped>\n",
       "    .dataframe tbody tr th:only-of-type {\n",
       "        vertical-align: middle;\n",
       "    }\n",
       "\n",
       "    .dataframe tbody tr th {\n",
       "        vertical-align: top;\n",
       "    }\n",
       "\n",
       "    .dataframe thead th {\n",
       "        text-align: right;\n",
       "    }\n",
       "</style>\n",
       "<table border=\"1\" class=\"dataframe\">\n",
       "  <thead>\n",
       "    <tr style=\"text-align: right;\">\n",
       "      <th></th>\n",
       "      <th>modified_sequence</th>\n",
       "      <th>precursor_charge_onehot</th>\n",
       "      <th>collision_energy_aligned_normed</th>\n",
       "      <th>method_nbr</th>\n",
       "      <th>intensities_raw</th>\n",
       "      <th>sequence</th>\n",
       "      <th>raw_file</th>\n",
       "      <th>scan_number</th>\n",
       "    </tr>\n",
       "  </thead>\n",
       "  <tbody>\n",
       "    <tr>\n",
       "      <th>0</th>\n",
       "      <td>AADSPR[UNIMOD:7]PGDWILER</td>\n",
       "      <td>[0, 1, 0, 0, 0, 0]</td>\n",
       "      <td>18</td>\n",
       "      <td>1</td>\n",
       "      <td>[0.0, 0.0, -1.0, 0.0, 0.0, -1.0, 0.0, 0.0, -1....</td>\n",
       "      <td>AADSPRPGDWILER</td>\n",
       "      <td>02207a_GA10-TUM_mod_citrullination_l_10_01_01-...</td>\n",
       "      <td>45454</td>\n",
       "    </tr>\n",
       "    <tr>\n",
       "      <th>1</th>\n",
       "      <td>AADSPR[UNIMOD:7]PGDWILER</td>\n",
       "      <td>[0, 1, 0, 0, 0, 0]</td>\n",
       "      <td>18</td>\n",
       "      <td>2</td>\n",
       "      <td>[0.0, 0.0, -1.0, 0.0, 0.0, -1.0, 0.0, 0.0, -1....</td>\n",
       "      <td>AADSPRPGDWILER</td>\n",
       "      <td>02207a_GA10-TUM_mod_citrullination_l_10_01_01-...</td>\n",
       "      <td>45455</td>\n",
       "    </tr>\n",
       "    <tr>\n",
       "      <th>2</th>\n",
       "      <td>AADSPR[UNIMOD:7]PGDWILER</td>\n",
       "      <td>[0, 1, 0, 0, 0, 0]</td>\n",
       "      <td>18</td>\n",
       "      <td>2</td>\n",
       "      <td>[0.03851208917060039, 0.0, -1.0, 0.0, 0.0, -1....</td>\n",
       "      <td>AADSPRPGDWILER</td>\n",
       "      <td>02207a_GA10-TUM_mod_citrullination_l_10_01_01-...</td>\n",
       "      <td>45456</td>\n",
       "    </tr>\n",
       "    <tr>\n",
       "      <th>3</th>\n",
       "      <td>AADSPR[UNIMOD:7]PGDWILER</td>\n",
       "      <td>[0, 1, 0, 0, 0, 0]</td>\n",
       "      <td>18</td>\n",
       "      <td>2</td>\n",
       "      <td>[0.051773361116773726, 0.0, -1.0, 0.0, 0.0, -1...</td>\n",
       "      <td>AADSPRPGDWILER</td>\n",
       "      <td>02207a_GA10-TUM_mod_citrullination_l_10_01_01-...</td>\n",
       "      <td>45457</td>\n",
       "    </tr>\n",
       "    <tr>\n",
       "      <th>4</th>\n",
       "      <td>AADSPR[UNIMOD:7]PGDWILER</td>\n",
       "      <td>[0, 1, 0, 0, 0, 0]</td>\n",
       "      <td>18</td>\n",
       "      <td>1</td>\n",
       "      <td>[0.0, 0.0, -1.0, 0.0, 0.0, -1.0, 0.0, 0.0, -1....</td>\n",
       "      <td>AADSPRPGDWILER</td>\n",
       "      <td>02207a_GA10-TUM_mod_citrullination_l_10_01_01-...</td>\n",
       "      <td>45495</td>\n",
       "    </tr>\n",
       "    <tr>\n",
       "      <th>...</th>\n",
       "      <td>...</td>\n",
       "      <td>...</td>\n",
       "      <td>...</td>\n",
       "      <td>...</td>\n",
       "      <td>...</td>\n",
       "      <td>...</td>\n",
       "      <td>...</td>\n",
       "      <td>...</td>\n",
       "    </tr>\n",
       "    <tr>\n",
       "      <th>27148</th>\n",
       "      <td>YVGR[UNIMOD:7]TFIEPDM[UNIMOD:35]RLR</td>\n",
       "      <td>[0, 0, 1, 0, 0, 0]</td>\n",
       "      <td>18</td>\n",
       "      <td>2</td>\n",
       "      <td>[0.013124908695560478, 0.0, 0.0, 0.0, 0.0, 0.0...</td>\n",
       "      <td>YVGRTFIEPDMRLR</td>\n",
       "      <td>02207a_GA10-TUM_mod_citrullination_l_10_01_01-...</td>\n",
       "      <td>37003</td>\n",
       "    </tr>\n",
       "    <tr>\n",
       "      <th>27149</th>\n",
       "      <td>YVGR[UNIMOD:7]TFIEPDM[UNIMOD:35]RLR</td>\n",
       "      <td>[0, 0, 1, 0, 0, 0]</td>\n",
       "      <td>18</td>\n",
       "      <td>1</td>\n",
       "      <td>[0.0, 0.0, 0.0, 0.0, 0.0, 0.0, 0.0, 0.0, 0.0, ...</td>\n",
       "      <td>YVGRTFIEPDMRLR</td>\n",
       "      <td>02207a_GA10-TUM_mod_citrullination_l_10_01_01-...</td>\n",
       "      <td>37070</td>\n",
       "    </tr>\n",
       "    <tr>\n",
       "      <th>27150</th>\n",
       "      <td>YVGR[UNIMOD:7]TFIEPDM[UNIMOD:35]RLR</td>\n",
       "      <td>[0, 0, 1, 0, 0, 0]</td>\n",
       "      <td>18</td>\n",
       "      <td>2</td>\n",
       "      <td>[0.0, 0.0, 0.0, 0.0, 0.0, 0.0, 0.0, 0.0, 0.0, ...</td>\n",
       "      <td>YVGRTFIEPDMRLR</td>\n",
       "      <td>02207a_GA10-TUM_mod_citrullination_l_10_01_01-...</td>\n",
       "      <td>37071</td>\n",
       "    </tr>\n",
       "    <tr>\n",
       "      <th>27151</th>\n",
       "      <td>YVGR[UNIMOD:7]TFIEPDM[UNIMOD:35]RLR</td>\n",
       "      <td>[0, 0, 1, 0, 0, 0]</td>\n",
       "      <td>18</td>\n",
       "      <td>2</td>\n",
       "      <td>[0.017110848435929794, 0.0, 0.0, 0.0, 0.0, 0.0...</td>\n",
       "      <td>YVGRTFIEPDMRLR</td>\n",
       "      <td>02207a_GA10-TUM_mod_citrullination_l_10_01_01-...</td>\n",
       "      <td>37072</td>\n",
       "    </tr>\n",
       "    <tr>\n",
       "      <th>27152</th>\n",
       "      <td>YVGR[UNIMOD:7]TFIEPDM[UNIMOD:35]RLR</td>\n",
       "      <td>[0, 0, 1, 0, 0, 0]</td>\n",
       "      <td>18</td>\n",
       "      <td>2</td>\n",
       "      <td>[0.022596954136669213, 0.0, 0.0, 0.0, 0.0, 0.0...</td>\n",
       "      <td>YVGRTFIEPDMRLR</td>\n",
       "      <td>02207a_GA10-TUM_mod_citrullination_l_10_01_01-...</td>\n",
       "      <td>37073</td>\n",
       "    </tr>\n",
       "  </tbody>\n",
       "</table>\n",
       "<p>27149 rows × 8 columns</p>\n",
       "</div>"
      ],
      "text/plain": [
       "                         modified_sequence precursor_charge_onehot  \\\n",
       "0                 AADSPR[UNIMOD:7]PGDWILER      [0, 1, 0, 0, 0, 0]   \n",
       "1                 AADSPR[UNIMOD:7]PGDWILER      [0, 1, 0, 0, 0, 0]   \n",
       "2                 AADSPR[UNIMOD:7]PGDWILER      [0, 1, 0, 0, 0, 0]   \n",
       "3                 AADSPR[UNIMOD:7]PGDWILER      [0, 1, 0, 0, 0, 0]   \n",
       "4                 AADSPR[UNIMOD:7]PGDWILER      [0, 1, 0, 0, 0, 0]   \n",
       "...                                    ...                     ...   \n",
       "27148  YVGR[UNIMOD:7]TFIEPDM[UNIMOD:35]RLR      [0, 0, 1, 0, 0, 0]   \n",
       "27149  YVGR[UNIMOD:7]TFIEPDM[UNIMOD:35]RLR      [0, 0, 1, 0, 0, 0]   \n",
       "27150  YVGR[UNIMOD:7]TFIEPDM[UNIMOD:35]RLR      [0, 0, 1, 0, 0, 0]   \n",
       "27151  YVGR[UNIMOD:7]TFIEPDM[UNIMOD:35]RLR      [0, 0, 1, 0, 0, 0]   \n",
       "27152  YVGR[UNIMOD:7]TFIEPDM[UNIMOD:35]RLR      [0, 0, 1, 0, 0, 0]   \n",
       "\n",
       "       collision_energy_aligned_normed  method_nbr  \\\n",
       "0                                   18           1   \n",
       "1                                   18           2   \n",
       "2                                   18           2   \n",
       "3                                   18           2   \n",
       "4                                   18           1   \n",
       "...                                ...         ...   \n",
       "27148                               18           2   \n",
       "27149                               18           1   \n",
       "27150                               18           2   \n",
       "27151                               18           2   \n",
       "27152                               18           2   \n",
       "\n",
       "                                         intensities_raw        sequence  \\\n",
       "0      [0.0, 0.0, -1.0, 0.0, 0.0, -1.0, 0.0, 0.0, -1....  AADSPRPGDWILER   \n",
       "1      [0.0, 0.0, -1.0, 0.0, 0.0, -1.0, 0.0, 0.0, -1....  AADSPRPGDWILER   \n",
       "2      [0.03851208917060039, 0.0, -1.0, 0.0, 0.0, -1....  AADSPRPGDWILER   \n",
       "3      [0.051773361116773726, 0.0, -1.0, 0.0, 0.0, -1...  AADSPRPGDWILER   \n",
       "4      [0.0, 0.0, -1.0, 0.0, 0.0, -1.0, 0.0, 0.0, -1....  AADSPRPGDWILER   \n",
       "...                                                  ...             ...   \n",
       "27148  [0.013124908695560478, 0.0, 0.0, 0.0, 0.0, 0.0...  YVGRTFIEPDMRLR   \n",
       "27149  [0.0, 0.0, 0.0, 0.0, 0.0, 0.0, 0.0, 0.0, 0.0, ...  YVGRTFIEPDMRLR   \n",
       "27150  [0.0, 0.0, 0.0, 0.0, 0.0, 0.0, 0.0, 0.0, 0.0, ...  YVGRTFIEPDMRLR   \n",
       "27151  [0.017110848435929794, 0.0, 0.0, 0.0, 0.0, 0.0...  YVGRTFIEPDMRLR   \n",
       "27152  [0.022596954136669213, 0.0, 0.0, 0.0, 0.0, 0.0...  YVGRTFIEPDMRLR   \n",
       "\n",
       "                                                raw_file  scan_number  \n",
       "0      02207a_GA10-TUM_mod_citrullination_l_10_01_01-...        45454  \n",
       "1      02207a_GA10-TUM_mod_citrullination_l_10_01_01-...        45455  \n",
       "2      02207a_GA10-TUM_mod_citrullination_l_10_01_01-...        45456  \n",
       "3      02207a_GA10-TUM_mod_citrullination_l_10_01_01-...        45457  \n",
       "4      02207a_GA10-TUM_mod_citrullination_l_10_01_01-...        45495  \n",
       "...                                                  ...          ...  \n",
       "27148  02207a_GA10-TUM_mod_citrullination_l_10_01_01-...        37003  \n",
       "27149  02207a_GA10-TUM_mod_citrullination_l_10_01_01-...        37070  \n",
       "27150  02207a_GA10-TUM_mod_citrullination_l_10_01_01-...        37071  \n",
       "27151  02207a_GA10-TUM_mod_citrullination_l_10_01_01-...        37072  \n",
       "27152  02207a_GA10-TUM_mod_citrullination_l_10_01_01-...        37073  \n",
       "\n",
       "[27149 rows x 8 columns]"
      ]
     },
     "execution_count": 5,
     "metadata": {},
     "output_type": "execute_result"
    }
   ],
   "source": [
    "dataset2"
   ]
  },
  {
   "cell_type": "code",
   "execution_count": 6,
   "metadata": {},
   "outputs": [
    {
     "data": {
      "text/html": [
       "<div>\n",
       "<style scoped>\n",
       "    .dataframe tbody tr th:only-of-type {\n",
       "        vertical-align: middle;\n",
       "    }\n",
       "\n",
       "    .dataframe tbody tr th {\n",
       "        vertical-align: top;\n",
       "    }\n",
       "\n",
       "    .dataframe thead th {\n",
       "        text-align: right;\n",
       "    }\n",
       "</style>\n",
       "<table border=\"1\" class=\"dataframe\">\n",
       "  <thead>\n",
       "    <tr style=\"text-align: right;\">\n",
       "      <th></th>\n",
       "      <th>collision_energy_aligned_normed</th>\n",
       "      <th>method_nbr</th>\n",
       "      <th>scan_number</th>\n",
       "    </tr>\n",
       "  </thead>\n",
       "  <tbody>\n",
       "    <tr>\n",
       "      <th>count</th>\n",
       "      <td>27149.0</td>\n",
       "      <td>27149.000000</td>\n",
       "      <td>27149.000000</td>\n",
       "    </tr>\n",
       "    <tr>\n",
       "      <th>mean</th>\n",
       "      <td>18.0</td>\n",
       "      <td>1.721831</td>\n",
       "      <td>31355.303731</td>\n",
       "    </tr>\n",
       "    <tr>\n",
       "      <th>std</th>\n",
       "      <td>0.0</td>\n",
       "      <td>0.448105</td>\n",
       "      <td>16334.226554</td>\n",
       "    </tr>\n",
       "    <tr>\n",
       "      <th>min</th>\n",
       "      <td>18.0</td>\n",
       "      <td>1.000000</td>\n",
       "      <td>77.000000</td>\n",
       "    </tr>\n",
       "    <tr>\n",
       "      <th>25%</th>\n",
       "      <td>18.0</td>\n",
       "      <td>1.000000</td>\n",
       "      <td>16915.000000</td>\n",
       "    </tr>\n",
       "    <tr>\n",
       "      <th>50%</th>\n",
       "      <td>18.0</td>\n",
       "      <td>2.000000</td>\n",
       "      <td>31939.000000</td>\n",
       "    </tr>\n",
       "    <tr>\n",
       "      <th>75%</th>\n",
       "      <td>18.0</td>\n",
       "      <td>2.000000</td>\n",
       "      <td>45251.000000</td>\n",
       "    </tr>\n",
       "    <tr>\n",
       "      <th>max</th>\n",
       "      <td>18.0</td>\n",
       "      <td>2.000000</td>\n",
       "      <td>64159.000000</td>\n",
       "    </tr>\n",
       "  </tbody>\n",
       "</table>\n",
       "</div>"
      ],
      "text/plain": [
       "       collision_energy_aligned_normed    method_nbr   scan_number\n",
       "count                          27149.0  27149.000000  27149.000000\n",
       "mean                              18.0      1.721831  31355.303731\n",
       "std                                0.0      0.448105  16334.226554\n",
       "min                               18.0      1.000000     77.000000\n",
       "25%                               18.0      1.000000  16915.000000\n",
       "50%                               18.0      2.000000  31939.000000\n",
       "75%                               18.0      2.000000  45251.000000\n",
       "max                               18.0      2.000000  64159.000000"
      ]
     },
     "execution_count": 6,
     "metadata": {},
     "output_type": "execute_result"
    }
   ],
   "source": [
    "dataset2.describe()"
   ]
  },
  {
   "cell_type": "code",
   "execution_count": 7,
   "metadata": {},
   "outputs": [
    {
     "data": {
      "text/plain": [
       "(27149, 8)"
      ]
     },
     "execution_count": 7,
     "metadata": {},
     "output_type": "execute_result"
    }
   ],
   "source": [
    "dataset2.shape"
   ]
  },
  {
   "cell_type": "code",
   "execution_count": 8,
   "metadata": {},
   "outputs": [],
   "source": [
    "def count_nans(lst):\n",
    "    return sum(1 for x in lst if pd.isna(x))"
   ]
  },
  {
   "cell_type": "code",
   "execution_count": 9,
   "metadata": {},
   "outputs": [],
   "source": [
    "ds1_nans = [count_nans(l) for l in dataset1[\"intensities_raw\"]]"
   ]
  },
  {
   "cell_type": "code",
   "execution_count": 10,
   "metadata": {},
   "outputs": [],
   "source": [
    "ds2_nans = [count_nans(l) for l in dataset2[\"intensities_raw\"]]"
   ]
  },
  {
   "cell_type": "code",
   "execution_count": 11,
   "metadata": {},
   "outputs": [
    {
     "data": {
      "text/plain": [
       "0"
      ]
     },
     "execution_count": 11,
     "metadata": {},
     "output_type": "execute_result"
    }
   ],
   "source": [
    "sum(ds1_nans)"
   ]
  },
  {
   "cell_type": "code",
   "execution_count": 12,
   "metadata": {},
   "outputs": [
    {
     "data": {
      "text/plain": [
       "0"
      ]
     },
     "execution_count": 12,
     "metadata": {},
     "output_type": "execute_result"
    }
   ],
   "source": [
    "sum(ds2_nans)"
   ]
  },
  {
   "cell_type": "code",
   "execution_count": 13,
   "metadata": {},
   "outputs": [],
   "source": [
    "def count_zeros_and_minus_ones(lst):\n",
    "    return sum(1 for x in lst if x == 0 or x == -1)"
   ]
  },
  {
   "cell_type": "code",
   "execution_count": 14,
   "metadata": {},
   "outputs": [],
   "source": [
    "ds1 = [count_zeros_and_minus_ones(l) for l in dataset1[\"intensities_raw\"]]\n"
   ]
  },
  {
   "cell_type": "code",
   "execution_count": 15,
   "metadata": {},
   "outputs": [],
   "source": [
    "ds2 = [count_zeros_and_minus_ones(l) for l in dataset2[\"intensities_raw\"]]"
   ]
  },
  {
   "cell_type": "code",
   "execution_count": 16,
   "metadata": {},
   "outputs": [
    {
     "data": {
      "text/plain": [
       "154.273375"
      ]
     },
     "execution_count": 16,
     "metadata": {},
     "output_type": "execute_result"
    }
   ],
   "source": [
    "np.mean(ds1)"
   ]
  },
  {
   "cell_type": "code",
   "execution_count": 17,
   "metadata": {},
   "outputs": [
    {
     "data": {
      "text/plain": [
       "163.7123650963203"
      ]
     },
     "execution_count": 17,
     "metadata": {},
     "output_type": "execute_result"
    }
   ],
   "source": [
    "np.mean(ds2)"
   ]
  },
  {
   "cell_type": "code",
   "execution_count": 18,
   "metadata": {},
   "outputs": [],
   "source": [
    "def all_zeros_or_minus_ones(lst):\n",
    "    return all(x in [0, -1] for x in lst)\n"
   ]
  },
  {
   "cell_type": "code",
   "execution_count": 19,
   "metadata": {},
   "outputs": [],
   "source": [
    "ds1 = [all_zeros_or_minus_ones(l) for l in dataset1[\"intensities_raw\"]]\n",
    "ds2 = [all_zeros_or_minus_ones(l) for l in dataset2[\"intensities_raw\"]]\n"
   ]
  },
  {
   "cell_type": "code",
   "execution_count": 20,
   "metadata": {},
   "outputs": [
    {
     "data": {
      "text/plain": [
       "0"
      ]
     },
     "execution_count": 20,
     "metadata": {},
     "output_type": "execute_result"
    }
   ],
   "source": [
    "sum(ds1)"
   ]
  },
  {
   "cell_type": "code",
   "execution_count": 21,
   "metadata": {},
   "outputs": [
    {
     "data": {
      "text/plain": [
       "399"
      ]
     },
     "execution_count": 21,
     "metadata": {},
     "output_type": "execute_result"
    }
   ],
   "source": [
    "sum(ds2)"
   ]
  },
  {
   "cell_type": "code",
   "execution_count": 22,
   "metadata": {},
   "outputs": [],
   "source": [
    "def count_non_zero_minus_ones(lst):\n",
    "    return sum(1 for x in lst if x != 0 and x != -1)\n"
   ]
  },
  {
   "cell_type": "code",
   "execution_count": 33,
   "metadata": {},
   "outputs": [],
   "source": [
    "dataset1['non_zero_minus_ones_count'] = dataset1['intensities_raw'].apply(count_non_zero_minus_ones)\n",
    "dataset2['non_zero_minus_ones_count'] = dataset2['intensities_raw'].apply(count_non_zero_minus_ones)\n",
    "\n",
    "# Calculate the means\n",
    "mean1 = dataset1['non_zero_minus_ones_count'].mean()\n",
    "mean2 = dataset2['non_zero_minus_ones_count'].mean()"
   ]
  },
  {
   "cell_type": "code",
   "execution_count": 26,
   "metadata": {},
   "outputs": [],
   "source": [
    "import matplotlib.pyplot as plt\n",
    "import seaborn as sns"
   ]
  },
  {
   "cell_type": "code",
   "execution_count": 39,
   "metadata": {},
   "outputs": [
    {
     "data": {
      "image/png": "[encoded data removed]",
      "text/plain": [
       "<Figure size 1200x600 with 2 Axes>"
      ]
     },
     "metadata": {},
     "output_type": "display_data"
    }
   ],
   "source": [
    "# Plotting the histograms together\n",
    "plt.figure(figsize=(12, 6))\n",
    "\n",
    "# Histogram for dataset1\n",
    "plt.subplot(1, 2, 1)\n",
    "sns.histplot(dataset1['non_zero_minus_ones_count'], bins=20, kde=False)\n",
    "plt.axvline(mean1, color='red', linestyle='--', linewidth=2, label=f'Mean: {mean1:.2f}')\n",
    "plt.title('Reference Dataset: Intensities not 0 or -1')\n",
    "plt.xlabel('Number of Non-Zero and Non-Minus-One Values')\n",
    "plt.ylabel('Frequency')\n",
    "plt.legend()\n",
    "\n",
    "# Histogram for dataset2\n",
    "plt.subplot(1, 2, 2)\n",
    "sns.histplot(dataset2['non_zero_minus_ones_count'], bins=20, kde=False)\n",
    "plt.axvline(mean2, color='red', linestyle='--', linewidth=2, label=f'Mean: {mean2:.2f}')\n",
    "plt.title('Citrullination Dataset (GA10): Intensities not 0 or -1')\n",
    "plt.xlabel('Number of Non-Zero and Non-Minus-One Values')\n",
    "plt.ylabel('Frequency')\n",
    "plt.legend()\n",
    "\n",
    "# Ensure common scale on x-axis\n",
    "plt.xlim(min(dataset1['non_zero_minus_ones_count'].min(), dataset2['non_zero_minus_ones_count'].min()),\n",
    "         max(dataset1['non_zero_minus_ones_count'].max(), dataset2['non_zero_minus_ones_count'].max()))\n",
    "\n",
    "# Adjust layout to avoid overlap\n",
    "plt.tight_layout()\n",
    "\n",
    "# Show the plot\n",
    "plt.show()"
   ]
  },
  {
   "cell_type": "code",
   "execution_count": 40,
   "metadata": {},
   "outputs": [
    {
     "data": {
      "image/png": "[encoded data removed]",
      "text/plain": [
       "<Figure size 1000x600 with 1 Axes>"
      ]
     },
     "metadata": {},
     "output_type": "display_data"
    }
   ],
   "source": [
    "# Plotting the histogram\n",
    "plt.figure(figsize=(10, 6))\n",
    "sns.histplot(dataset1['non_zero_minus_ones_count'], bins=20, kde=False)\n",
    "\n",
    "plt.title('Intensities not 0 or 1 Count Reference Dataset')\n",
    "plt.xlabel('Number of Non-Zero and Non-Minus-One Values')\n",
    "plt.ylabel('Frequency')\n",
    "plt.show()\n"
   ]
  },
  {
   "cell_type": "code",
   "execution_count": 42,
   "metadata": {},
   "outputs": [
    {
     "data": {
      "image/png": "[encoded data removed]",
      "text/plain": [
       "<Figure size 1000x600 with 1 Axes>"
      ]
     },
     "metadata": {},
     "output_type": "display_data"
    }
   ],
   "source": [
    "# Plotting the histogram\n",
    "plt.figure(figsize=(10, 6))\n",
    "sns.histplot(dataset2['non_zero_minus_ones_count'], binwidth=1, kde=False)\n",
    "\n",
    "plt.title('Intensities not 0 or 1 Count Citrullination (GA10)')\n",
    "plt.xlabel('Number of Non-Zero and Non-Minus-One Values')\n",
    "plt.ylabel('Frequency')\n",
    "plt.show()"
   ]
  },
  {
   "cell_type": "code",
   "execution_count": null,
   "metadata": {},
   "outputs": [],
   "source": []
  }
 ],
 "metadata": {
  "kernelspec": {
   "display_name": "dlomix2",
   "language": "python",
   "name": "python3"
  },
  "language_info": {
   "codemirror_mode": {
    "name": "ipython",
    "version": 3
   },
   "file_extension": ".py",
   "mimetype": "text/x-python",
   "name": "python",
   "nbconvert_exporter": "python",
   "pygments_lexer": "ipython3",
   "version": "3.10.14"
  }
 },
 "nbformat": 4,
 "nbformat_minor": 2
}
