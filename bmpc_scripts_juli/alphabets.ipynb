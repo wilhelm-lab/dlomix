{
 "cells": [
  {
   "cell_type": "code",
   "execution_count": 1,
   "metadata": {},
   "outputs": [],
   "source": [
    "from dlomix.constants import PTMS_ALPHABET, ALPHABET_UNMOD, ALPHABET_NAIVE_MODS"
   ]
  },
  {
   "cell_type": "code",
   "execution_count": 2,
   "metadata": {},
   "outputs": [
    {
     "data": {
      "text/plain": [
       "{'A': 1,\n",
       " 'C': 2,\n",
       " 'D': 3,\n",
       " 'E': 4,\n",
       " 'F': 5,\n",
       " 'G': 6,\n",
       " 'H': 7,\n",
       " 'I': 8,\n",
       " 'K': 9,\n",
       " 'L': 10,\n",
       " 'M': 11,\n",
       " 'N': 12,\n",
       " 'P': 13,\n",
       " 'Q': 14,\n",
       " 'R': 15,\n",
       " 'S': 16,\n",
       " 'T': 17,\n",
       " 'V': 18,\n",
       " 'W': 19,\n",
       " 'Y': 20,\n",
       " '[]-': 21,\n",
       " '-[]': 22,\n",
       " '[UNIMOD:737]-': 56,\n",
       " 'M[UNIMOD:35]': 23,\n",
       " 'S[UNIMOD:21]': 24,\n",
       " 'T[UNIMOD:21]': 25,\n",
       " 'Y[UNIMOD:21]': 26,\n",
       " 'R[UNIMOD:7]': 27,\n",
       " 'Q[UNIMOD:7]': 4,\n",
       " 'N[UNIMOD:7]': 3,\n",
       " 'K[UNIMOD:1]': 28,\n",
       " 'K[UNIMOD:121]': 29,\n",
       " 'Q[UNIMOD:28]': 30,\n",
       " 'R[UNIMOD:34]': 31,\n",
       " 'K[UNIMOD:34]': 32,\n",
       " 'T[UNIMOD:43]': 35,\n",
       " 'S[UNIMOD:43]': 36,\n",
       " 'C[UNIMOD:4]': 37,\n",
       " '[UNIMOD:1]-': 38,\n",
       " 'E[UNIMOD:27]': 39,\n",
       " 'K[UNIMOD:36]': 40,\n",
       " 'K[UNIMOD:37]': 41,\n",
       " 'K[UNIMOD:122]': 42,\n",
       " 'K[UNIMOD:58]': 43,\n",
       " 'K[UNIMOD:1289]': 44,\n",
       " 'K[UNIMOD:747]': 45,\n",
       " 'K[UNIMOD:64]': 46,\n",
       " 'K[UNIMOD:1848]': 47,\n",
       " 'K[UNIMOD:1363]': 48,\n",
       " 'K[UNIMOD:1849]': 49,\n",
       " 'K[UNIMOD:3]': 50,\n",
       " 'K[UNIMOD:737]': 55,\n",
       " 'R[UNIMOD:36]': 51,\n",
       " 'R[UNIMOD:36a]': 52,\n",
       " 'P[UNIMOD:35]': 53,\n",
       " 'Y[UNIMOD:354]': 54}"
      ]
     },
     "execution_count": 2,
     "metadata": {},
     "output_type": "execute_result"
    }
   ],
   "source": [
    "PTMS_ALPHABET"
   ]
  },
  {
   "cell_type": "code",
   "execution_count": 3,
   "metadata": {},
   "outputs": [
    {
     "data": {
      "text/plain": [
       "{'A': 1,\n",
       " 'C': 2,\n",
       " 'D': 3,\n",
       " 'E': 4,\n",
       " 'F': 5,\n",
       " 'G': 6,\n",
       " 'H': 7,\n",
       " 'I': 8,\n",
       " 'K': 9,\n",
       " 'L': 10,\n",
       " 'M': 11,\n",
       " 'N': 12,\n",
       " 'P': 13,\n",
       " 'Q': 14,\n",
       " 'R': 15,\n",
       " 'S': 16,\n",
       " 'T': 17,\n",
       " 'V': 18,\n",
       " 'W': 19,\n",
       " 'Y': 20,\n",
       " '[]-': 21,\n",
       " '-[]': 22,\n",
       " '[UNIMOD:737]-': 21}"
      ]
     },
     "execution_count": 3,
     "metadata": {},
     "output_type": "execute_result"
    }
   ],
   "source": [
    "ALPHABET_UNMOD"
   ]
  },
  {
   "cell_type": "code",
   "execution_count": 4,
   "metadata": {},
   "outputs": [
    {
     "data": {
      "text/plain": [
       "{'C[UNIMOD:4]': 24,\n",
       " 'M[UNIMOD:35]': 25,\n",
       " 'A': 1,\n",
       " 'C': 2,\n",
       " 'D': 3,\n",
       " 'E': 4,\n",
       " 'F': 5,\n",
       " 'G': 6,\n",
       " 'H': 7,\n",
       " 'I': 8,\n",
       " 'K': 9,\n",
       " 'L': 10,\n",
       " 'M': 11,\n",
       " 'N': 12,\n",
       " 'P': 13,\n",
       " 'Q': 14,\n",
       " 'R': 15,\n",
       " 'S': 16,\n",
       " 'T': 17,\n",
       " 'V': 18,\n",
       " 'W': 19,\n",
       " 'Y': 20,\n",
       " '[]-': 21,\n",
       " '-[]': 22,\n",
       " '[UNIMOD:737]-': 21}"
      ]
     },
     "execution_count": 4,
     "metadata": {},
     "output_type": "execute_result"
    }
   ],
   "source": [
    "ALPHABET_NAIVE_MODS"
   ]
  }
 ],
 "metadata": {
  "kernelspec": {
   "display_name": "Python 3",
   "language": "python",
   "name": "python3"
  },
  "language_info": {
   "codemirror_mode": {
    "name": "ipython",
    "version": 3
   },
   "file_extension": ".py",
   "mimetype": "text/x-python",
   "name": "python",
   "nbconvert_exporter": "python",
   "pygments_lexer": "ipython3",
   "version": "3.10.6"
  }
 },
 "nbformat": 4,
 "nbformat_minor": 2
}
