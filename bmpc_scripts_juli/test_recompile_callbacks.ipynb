{
 "cells": [
  {
   "cell_type": "code",
   "execution_count": 2,
   "metadata": {},
   "outputs": [],
   "source": [
    "total_epochs = 100\n",
    "recompile_callbacks = [\n",
    "    {\n",
    "        \"epoch\": total_epochs,\n",
    "        \"callback\": lambda *args: None\n",
    "    },\n",
    "    {\n",
    "        \"epoch\": 10,\n",
    "        \"callback\": lambda *args: None\n",
    "    },\n",
    "    {\n",
    "        \"epoch\": 20,\n",
    "        \"callback\": lambda *args: None\n",
    "    },\n",
    "    {\n",
    "        \"epoch\": 10,\n",
    "        \"callback\": lambda *args: None\n",
    "    }\n",
    "]"
   ]
  },
  {
   "cell_type": "code",
   "execution_count": 6,
   "metadata": {},
   "outputs": [
    {
     "data": {
      "text/plain": [
       "{100: [<function __main__.<lambda>(*args)>],\n",
       " 10: [<function __main__.<lambda>(*args)>,\n",
       "  <function __main__.<lambda>(*args)>],\n",
       " 20: [<function __main__.<lambda>(*args)>]}"
      ]
     },
     "execution_count": 6,
     "metadata": {},
     "output_type": "execute_result"
    }
   ],
   "source": [
    "assert not any([x['epoch'] > total_epochs for x in recompile_callbacks])\n",
    "rcb_dict = {}\n",
    "for rcb in recompile_callbacks:\n",
    "    rcb_dict.setdefault(rcb['epoch'], [])\n",
    "    rcb_dict[rcb['epoch']].append(rcb['callback'])\n",
    "\n",
    "rcb_dict\n"
   ]
  },
  {
   "cell_type": "code",
   "execution_count": 7,
   "metadata": {},
   "outputs": [
    {
     "name": "stdout",
     "output_type": "stream",
     "text": [
      "[{'num_epochs': 10, 'callbacks': [[<function <lambda> at 0x7fae9eac9480>, <function <lambda> at 0x7fae9eac95a0>]]}, {'num_epochs': 10, 'callbacks': [[<function <lambda> at 0x7fae9eac9510>]]}, {'num_epochs': 80, 'callbacks': [[<function <lambda> at 0x7fae9eac93f0>]]}]\n"
     ]
    }
   ],
   "source": [
    "rcb_keys = sorted([int(x) for x in rcb_dict])\n",
    "current_epoch = 0\n",
    "training_parts = []\n",
    "for epoch_key in rcb_keys:\n",
    "    training_parts.append({\n",
    "        \"num_epochs\": epoch_key - current_epoch,\n",
    "        \"callbacks\": [rcb_dict[epoch_key]]\n",
    "    })\n",
    "    current_epoch = epoch_key\n",
    "\n",
    "print(training_parts)"
   ]
  }
 ],
 "metadata": {
  "kernelspec": {
   "display_name": "Python 3",
   "language": "python",
   "name": "python3"
  },
  "language_info": {
   "codemirror_mode": {
    "name": "ipython",
    "version": 3
   },
   "file_extension": ".py",
   "mimetype": "text/x-python",
   "name": "python",
   "nbconvert_exporter": "python",
   "pygments_lexer": "ipython3",
   "version": "3.10.6"
  }
 },
 "nbformat": 4,
 "nbformat_minor": 2
}
