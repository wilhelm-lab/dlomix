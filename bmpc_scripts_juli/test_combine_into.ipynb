{
 "cells": [
  {
   "cell_type": "code",
   "execution_count": 1,
   "metadata": {},
   "outputs": [
    {
     "name": "stderr",
     "output_type": "stream",
     "text": [
      "2024-06-13 10:17:29.374542: E external/local_xla/xla/stream_executor/cuda/cuda_dnn.cc:9261] Unable to register cuDNN factory: Attempting to register factory for plugin cuDNN when one has already been registered\n",
      "2024-06-13 10:17:29.374642: E external/local_xla/xla/stream_executor/cuda/cuda_fft.cc:607] Unable to register cuFFT factory: Attempting to register factory for plugin cuFFT when one has already been registered\n",
      "2024-06-13 10:17:29.517498: E external/local_xla/xla/stream_executor/cuda/cuda_blas.cc:1515] Unable to register cuBLAS factory: Attempting to register factory for plugin cuBLAS when one has already been registered\n",
      "2024-06-13 10:17:30.091663: I tensorflow/core/platform/cpu_feature_guard.cc:182] This TensorFlow binary is optimized to use available CPU instructions in performance-critical operations.\n",
      "To enable the following instructions: AVX2 AVX512F FMA, in other operations, rebuild TensorFlow with the appropriate compiler flags.\n",
      "2024-06-13 10:17:38.776809: W tensorflow/compiler/tf2tensorrt/utils/py_utils.cc:38] TF-TRT Warning: Could not find TensorRT\n",
      "/nfs/home/students/j.poschenrieder/miniconda3/envs/dlomix/lib/python3.10/site-packages/tqdm/auto.py:21: TqdmWarning: IProgress not found. Please update jupyter and ipywidgets. See https://ipywidgets.readthedocs.io/en/stable/user_install.html\n",
      "  from .autonotebook import tqdm as notebook_tqdm\n"
     ]
    },
    {
     "name": "stdout",
     "output_type": "stream",
     "text": [
      "\n",
      "Avaliable feature extractors are (use the key of the following dict and pass it to features_to_extract in the Dataset Class):\n",
      "{\n",
      "   \"atom_count\": \"Atom count of PTM.\",\n",
      "   \"delta_mass\": \"Delta mass of PTM.\",\n",
      "   \"mod_gain\": \"Gain of atoms due to PTM.\",\n",
      "   \"mod_loss\": \"Loss of atoms due to PTM.\",\n",
      "   \"red_smiles\": \"Reduced SMILES representation of PTM.\"\n",
      "}.\n",
      "When writing your own feature extractor, you can either\n",
      "    (1) use the FeatureExtractor class or\n",
      "    (2) write a function that can be mapped to the Hugging Face dataset.\n",
      "In both cases, you can access the parsed sequence information from the dataset using the following keys, which all provide python lists:\n",
      "    - _parsed_sequence: parsed sequence\n",
      "    - _n_term_mods: N-terminal modifications\n",
      "    - _c_term_mods: C-terminal modifications\n",
      "\n"
     ]
    }
   ],
   "source": [
    "from src.model_training import combine_into"
   ]
  },
  {
   "cell_type": "code",
   "execution_count": 2,
   "metadata": {},
   "outputs": [
    {
     "name": "stdout",
     "output_type": "stream",
     "text": [
      "{'abc': 'def', 'ghi': {'xyz': 123, 'xxx': 456}}\n",
      "{'foo': 'bar', 'foo2': {'bar2': 'bar2'}, 'ghi': {'xxx': 999, 'zzz': 111}}\n",
      "{'abc': 'def', 'ghi': {'xyz': 123, 'xxx': 456}}\n",
      "{'foo': 'bar', 'foo2': {'bar2': 'bar2'}, 'ghi': {'xxx': 456, 'zzz': 111, 'xyz': 123}, 'abc': 'def'}\n"
     ]
    }
   ],
   "source": [
    "dict1 = {\n",
    "    \"abc\": \"def\",\n",
    "    \"ghi\": {\n",
    "        \"xyz\": 123,\n",
    "        \"xxx\": 456\n",
    "    }\n",
    "}\n",
    "\n",
    "dict2 = {\n",
    "    \"foo\": \"bar\",\n",
    "    \"foo2\": {\n",
    "        \"bar2\": \"bar2\"\n",
    "    },\n",
    "    \"ghi\": {\n",
    "        \"xxx\": 999,\n",
    "        \"zzz\": 111\n",
    "    }\n",
    "}\n",
    "\n",
    "print(dict1)\n",
    "print(dict2)\n",
    "\n",
    "combine_into(dict1, dict2)\n",
    "\n",
    "print(dict1)\n",
    "print(dict2)"
   ]
  },
  {
   "cell_type": "code",
   "execution_count": 3,
   "metadata": {},
   "outputs": [
    {
     "name": "stdout",
     "output_type": "stream",
     "text": [
      "{'abc': 'def', 'ghi': {'xyz': 123, 'xxx': 456}}\n",
      "{'foo': 'bar', 'foo2': {'bar2': 'bar2'}, 'ghi': {'xxx': 999, 'zzz': 111}}\n",
      "{'abc': 'def', 'ghi': {'xyz': 123, 'xxx': 999, 'zzz': 111}, 'foo': 'bar', 'foo2': {'bar2': 'bar2'}}\n",
      "{'foo': 'bar', 'foo2': {'bar2': 'bar2'}, 'ghi': {'xxx': 999, 'zzz': 111}}\n"
     ]
    }
   ],
   "source": [
    "dict1 = {\n",
    "    \"abc\": \"def\",\n",
    "    \"ghi\": {\n",
    "        \"xyz\": 123,\n",
    "        \"xxx\": 456\n",
    "    }\n",
    "}\n",
    "\n",
    "dict2 = {\n",
    "    \"foo\": \"bar\",\n",
    "    \"foo2\": {\n",
    "        \"bar2\": \"bar2\"\n",
    "    },\n",
    "    \"ghi\": {\n",
    "        \"xxx\": 999,\n",
    "        \"zzz\": 111\n",
    "    }\n",
    "}\n",
    "\n",
    "print(dict1)\n",
    "print(dict2)\n",
    "\n",
    "combine_into(dict2, dict1)\n",
    "\n",
    "print(dict1)\n",
    "print(dict2)"
   ]
  }
 ],
 "metadata": {
  "kernelspec": {
   "display_name": "Python 3",
   "language": "python",
   "name": "python3"
  },
  "language_info": {
   "codemirror_mode": {
    "name": "ipython",
    "version": 3
   },
   "file_extension": ".py",
   "mimetype": "text/x-python",
   "name": "python",
   "nbconvert_exporter": "python",
   "pygments_lexer": "ipython3",
   "version": "3.1.-1"
  }
 },
 "nbformat": 4,
 "nbformat_minor": 2
}
