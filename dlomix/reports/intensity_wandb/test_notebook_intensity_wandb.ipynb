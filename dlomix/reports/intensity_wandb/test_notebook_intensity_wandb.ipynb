{
 "cells": [
  {
   "cell_type": "code",
   "execution_count": 1,
   "outputs": [
    {
     "name": "stdout",
     "output_type": "stream",
     "text": [
      "\r\n",
      "\u001B[1m[\u001B[0m\u001B[34;49mnotice\u001B[0m\u001B[1;39;49m]\u001B[0m\u001B[39;49m A new release of pip available: \u001B[0m\u001B[31;49m22.3.1\u001B[0m\u001B[39;49m -> \u001B[0m\u001B[32;49m24.0\u001B[0m\r\n",
      "\u001B[1m[\u001B[0m\u001B[34;49mnotice\u001B[0m\u001B[1;39;49m]\u001B[0m\u001B[39;49m To update, run: \u001B[0m\u001B[32;49mpip install --upgrade pip\u001B[0m\r\n",
      "Requirement already satisfied: wandb in /Users/andi/PycharmProjects/dlomix_repo/venv/lib/python3.11/site-packages (0.16.2)\r\n",
      "Requirement already satisfied: Click!=8.0.0,>=7.1 in /Users/andi/PycharmProjects/dlomix_repo/venv/lib/python3.11/site-packages (from wandb) (8.1.7)\r\n",
      "Requirement already satisfied: GitPython!=3.1.29,>=1.0.0 in /Users/andi/PycharmProjects/dlomix_repo/venv/lib/python3.11/site-packages (from wandb) (3.1.41)\r\n",
      "Requirement already satisfied: requests<3,>=2.0.0 in /Users/andi/PycharmProjects/dlomix_repo/venv/lib/python3.11/site-packages (from wandb) (2.31.0)\r\n",
      "Requirement already satisfied: psutil>=5.0.0 in /Users/andi/PycharmProjects/dlomix_repo/venv/lib/python3.11/site-packages (from wandb) (5.9.8)\r\n",
      "Requirement already satisfied: sentry-sdk>=1.0.0 in /Users/andi/PycharmProjects/dlomix_repo/venv/lib/python3.11/site-packages (from wandb) (1.39.2)\r\n",
      "Requirement already satisfied: docker-pycreds>=0.4.0 in /Users/andi/PycharmProjects/dlomix_repo/venv/lib/python3.11/site-packages (from wandb) (0.4.0)\r\n",
      "Requirement already satisfied: PyYAML in /Users/andi/PycharmProjects/dlomix_repo/venv/lib/python3.11/site-packages (from wandb) (6.0.1)\r\n",
      "Requirement already satisfied: setproctitle in /Users/andi/PycharmProjects/dlomix_repo/venv/lib/python3.11/site-packages (from wandb) (1.3.3)\r\n",
      "Requirement already satisfied: setuptools in /Users/andi/PycharmProjects/dlomix_repo/venv/lib/python3.11/site-packages (from wandb) (65.5.1)\r\n",
      "Requirement already satisfied: appdirs>=1.4.3 in /Users/andi/PycharmProjects/dlomix_repo/venv/lib/python3.11/site-packages (from wandb) (1.4.4)\r\n",
      "Requirement already satisfied: protobuf!=4.21.0,<5,>=3.19.0 in /Users/andi/PycharmProjects/dlomix_repo/venv/lib/python3.11/site-packages (from wandb) (4.23.4)\r\n",
      "Requirement already satisfied: six>=1.4.0 in /Users/andi/PycharmProjects/dlomix_repo/venv/lib/python3.11/site-packages (from docker-pycreds>=0.4.0->wandb) (1.16.0)\r\n",
      "Requirement already satisfied: gitdb<5,>=4.0.1 in /Users/andi/PycharmProjects/dlomix_repo/venv/lib/python3.11/site-packages (from GitPython!=3.1.29,>=1.0.0->wandb) (4.0.11)\r\n",
      "Requirement already satisfied: charset-normalizer<4,>=2 in /Users/andi/PycharmProjects/dlomix_repo/venv/lib/python3.11/site-packages (from requests<3,>=2.0.0->wandb) (3.3.2)\r\n",
      "Requirement already satisfied: idna<4,>=2.5 in /Users/andi/PycharmProjects/dlomix_repo/venv/lib/python3.11/site-packages (from requests<3,>=2.0.0->wandb) (3.6)\r\n",
      "Requirement already satisfied: urllib3<3,>=1.21.1 in /Users/andi/PycharmProjects/dlomix_repo/venv/lib/python3.11/site-packages (from requests<3,>=2.0.0->wandb) (2.1.0)\r\n",
      "Requirement already satisfied: certifi>=2017.4.17 in /Users/andi/PycharmProjects/dlomix_repo/venv/lib/python3.11/site-packages (from requests<3,>=2.0.0->wandb) (2023.11.17)\r\n",
      "Requirement already satisfied: smmap<6,>=3.0.1 in /Users/andi/PycharmProjects/dlomix_repo/venv/lib/python3.11/site-packages (from gitdb<5,>=4.0.1->GitPython!=3.1.29,>=1.0.0->wandb) (5.0.1)\r\n",
      "\r\n",
      "\u001B[1m[\u001B[0m\u001B[34;49mnotice\u001B[0m\u001B[1;39;49m]\u001B[0m\u001B[39;49m A new release of pip available: \u001B[0m\u001B[31;49m22.3.1\u001B[0m\u001B[39;49m -> \u001B[0m\u001B[32;49m24.0\u001B[0m\r\n",
      "\u001B[1m[\u001B[0m\u001B[34;49mnotice\u001B[0m\u001B[1;39;49m]\u001B[0m\u001B[39;49m To update, run: \u001B[0m\u001B[32;49mpip install --upgrade pip\u001B[0m\r\n"
     ]
    },
    {
     "name": "stderr",
     "output_type": "stream",
     "text": [
      "\u001B[34m\u001B[1mwandb\u001B[0m: Thanks for trying out the Report API!\n",
      "\u001B[34m\u001B[1mwandb\u001B[0m: For a tutorial, check out https://colab.research.google.com/drive/1CzyJx1nuOS4pdkXa2XPaRQyZdmFmLmXV\n",
      "\u001B[34m\u001B[1mwandb\u001B[0m: \n",
      "\u001B[34m\u001B[1mwandb\u001B[0m: Try out tab completion to see what's available.\n",
      "\u001B[34m\u001B[1mwandb\u001B[0m:   ∟ everything:    `wr.<tab>`\n",
      "\u001B[34m\u001B[1mwandb\u001B[0m:       ∟ panels:    `wr.panels.<tab>`\n",
      "\u001B[34m\u001B[1mwandb\u001B[0m:       ∟ blocks:    `wr.blocks.<tab>`\n",
      "\u001B[34m\u001B[1mwandb\u001B[0m:       ∟ helpers:   `wr.helpers.<tab>`\n",
      "\u001B[34m\u001B[1mwandb\u001B[0m:       ∟ templates: `wr.templates.<tab>`\n",
      "\u001B[34m\u001B[1mwandb\u001B[0m:       \n",
      "\u001B[34m\u001B[1mwandb\u001B[0m: For bugs/feature requests, please create an issue on github: https://github.com/wandb/wandb/issues\n"
     ]
    }
   ],
   "source": [
    "# install the DLOmix package in the current environment using pip\n",
    "!python -m pip install -q dlomix==0.0.4\n",
    "!python -m pip install wandb\n",
    "import numpy as np\n",
    "import pandas as pd\n",
    "import dlomix\n",
    "from dlomix import constants, data, eval, layers, models, pipelines, reports, utils\n",
    "import wandb\n",
    "from wandb.keras import WandbCallback\n",
    "from wandb.keras import WandbMetricsLogger\n",
    "import wandb.apis.reports as wr\n",
    "from dlomix.data import IntensityDataset\n",
    "from dlomix.models import PrositIntensityPredictor\n",
    "from dlomix.reports.postprocessing import normalize_intensity_predictions\n",
    "import tensorflow as tf\n",
    "from dlomix.losses import masked_spectral_distance, masked_pearson_correlation_distance\n",
    "import seaborn as sns\n",
    "import plotly.express as px"
   ],
   "metadata": {
    "collapsed": false,
    "ExecuteTime": {
     "end_time": "2024-02-06T13:05:58.823085Z",
     "start_time": "2024-02-06T13:05:43.042930Z"
    }
   },
   "id": "f6f00921b7575d56"
  },
  {
   "cell_type": "code",
   "execution_count": 22,
   "outputs": [],
   "source": [
    "class IntensityReport():\n",
    "\n",
    "  def __init__(self, project:str, title: str, description: str, test_dataset: IntensityDataset, predictions):\n",
    "    self.entity = wandb.apis.PublicApi().default_entity\n",
    "    self.project = project\n",
    "    self.title = title\n",
    "    self.description = description\n",
    "    self.predictions = predictions\n",
    "    self.api = wandb.Api()\n",
    "    self.test_dataset = test_dataset\n",
    "    self.table_key_len = \"\"\n",
    "    self.table_key_intensity = \"\"\n",
    "\n",
    "  def create_report(self, add_config_section = True, add_train_section = True, add_val_section = True, add_train_val_section = True, \n",
    "                    add_spectral_angle_section = True):\n",
    "    report = wr.Report(\n",
    "        project = self.project,\n",
    "        title = self.title,\n",
    "        description = self.description\n",
    "    )\n",
    "\n",
    "    report.blocks = [\n",
    "        wr.TableOfContents()\n",
    "    ]\n",
    "    if add_config_section:\n",
    "      report.blocks += self.config_section()\n",
    "    if add_train_section:\n",
    "      report.blocks += self.train_section()\n",
    "    if add_val_section:\n",
    "      report.blocks += self.val_section()\n",
    "    if add_train_val_section:\n",
    "      report.blocks += self.train_val_section()\n",
    "    if add_spectral_angle_section:\n",
    "      report.blocks += self.spectral_angle_section()\n",
    "    \n",
    "    report.save()\n",
    "\n",
    "  # get metrics of last run in project or from specified run_id\n",
    "  def get_metrics(self, run_id = None):\n",
    "    if run_id:\n",
    "      # run is specified by <entity>/<project>/<run_id>\n",
    "      run = self.api.run(path = f\"{self.entity}/{self.project}/{run_id}\")\n",
    "      metrics_dataframe = run.history()\n",
    "      return metrics_dataframe\n",
    "    else:\n",
    "      # get metrics of latest run\n",
    "      # api.runs seems to have a delay\n",
    "      runs = self.api.runs(path = f\"{self.entity}/{self.project}\")\n",
    "      run = runs[0]\n",
    "      metrics_dataframe = run.history()\n",
    "      return metrics_dataframe\n",
    "\n",
    "  # get metric names split into train/val, train is further split into batch/epoch\n",
    "  def get_metrics_names(self):\n",
    "    metrics = self.get_metrics()\n",
    "    # filter strings from list that are not starting with \"_\" and do not contain \"val\"\n",
    "    pre_filter = [string for string in metrics if not string.startswith(\"_\")]\n",
    "    batch_train_metrics_names = [string for string in pre_filter if (\"val\" not in string.lower()) & (\"epoch\" not in string.lower()) & (\"table\" not in string.lower())]\n",
    "    epoch_train_metrics_names = [string for string in pre_filter if (\"val\" not in string.lower()) & (\"batch\" not in string.lower()) & (\"table\" not in string.lower())]\n",
    "    # filter strings from list that contain \"val\"\n",
    "    epoch_val_metrics_names = list(filter(lambda x: \"val\" in x.lower(), metrics))\n",
    "    # filter strings from train metrics that are 'epoch/learning_rate' and 'epoch/epoch'\n",
    "    strings_to_filter = ['epoch/learning_rate', 'epoch/epoch', 'batch/learning_rate', 'batch/batch_step']\n",
    "    batch_train_metrics_names = [string for string in epoch_train_metrics_names if string not in strings_to_filter]\n",
    "    epoch_train_metrics_names = [string for string in epoch_train_metrics_names if string not in strings_to_filter]\n",
    "    return batch_train_metrics_names, epoch_train_metrics_names, epoch_val_metrics_names\n",
    "\n",
    "  def get_train_val_metrics_names(self):\n",
    "    _, epoch_train_metrics_names, epoch_val_metrics_names = self.get_metrics_names()\n",
    "    epoch_train_metrics_names.sort()\n",
    "    epoch_val_metrics_names.sort()\n",
    "    return list(zip(epoch_train_metrics_names, epoch_val_metrics_names))\n",
    "  \n",
    "  def generate_intensity_results_df(self):\n",
    "      predictions_df = pd.DataFrame()\n",
    "      predictions_df['sequences'] = self.test_dataset.sequences\n",
    "      predictions_df['intensities_pred'] = self.predictions.tolist()\n",
    "      predictions_df['precursor_charge_onehot'] = self.test_dataset.precursor_charge.tolist()\n",
    "      predictions_df['precursor_charge'] = np.argmax(self.test_dataset.precursor_charge, axis=1) + 1\n",
    "      predictions_df['intensities_raw'] = self.test_dataset.intensities.tolist()\n",
    "      predictions_df['collision_energy'] = self.test_dataset.collision_energy\n",
    "      return predictions_df\n",
    "  \n",
    "  def log_spectral_angle_image(self):\n",
    "    predictions_df = self.generate_intensity_results_df()\n",
    "    predictions_acc = normalize_intensity_predictions(predictions_df, self.test_dataset.batch_size)\n",
    "    violin_plot = sns.violinplot(data=predictions_acc, x=None, y=\"spectral_angle\")\n",
    "    fig = violin_plot.get_figure()\n",
    "    wandb.log({\"chart\": wandb.Image(fig)})\n",
    "\n",
    "  def config_section(self):\n",
    "    config_block = [\n",
    "        wr.H1(text = \"Config\"),\n",
    "        wr.PanelGrid(\n",
    "          runsets=[\n",
    "            wr.Runset(self.entity, self.project),\n",
    "          ],\n",
    "          panels=[\n",
    "            wr.RunComparer(layout = {'w': 24})\n",
    "          ],\n",
    "        ),\n",
    "        wr.HorizontalRule(),\n",
    "    ]\n",
    "    return config_block\n",
    "\n",
    "  def train_section(self):\n",
    "    batch_train_metrics_names, epoch_train_metrics_names, _ = self.get_metrics_names()\n",
    "    panel_list_batch = []\n",
    "    panel_list_epoch = []\n",
    "    for name in batch_train_metrics_names:\n",
    "      panel_list_batch.append(wr.LinePlot(x='Step', y=[name]))\n",
    "    for name in epoch_train_metrics_names:\n",
    "      panel_list_epoch.append(wr.LinePlot(x='Step', y=[name]))\n",
    "    train_block = [\n",
    "        wr.H1(text = \"Training metrics\"),\n",
    "        wr.P(\"Lorem ipsum dolor sit amet. Aut laborum perspiciatis sit odit omnis aut aliquam voluptatibus ut rerum molestiae sed assumenda nulla ut minus illo sit sunt explicabo? Sed quia architecto est voluptatem magni sit molestiae dolores. Non animi repellendus ea enim internos et iste itaque quo labore mollitia aut omnis totam.\"),\n",
    "        wr.H2(text = \"per batch\"),\n",
    "        wr.PanelGrid(\n",
    "          runsets=[\n",
    "            wr.Runset(self.entity, self.project),\n",
    "          ],\n",
    "          panels = panel_list_batch\n",
    "        ),\n",
    "        wr.H2(text = \"per epoch\"),\n",
    "        wr.PanelGrid(\n",
    "          runsets=[\n",
    "            wr.Runset(self.entity, self.project),\n",
    "          ],\n",
    "          panels = panel_list_epoch\n",
    "        ),\n",
    "        wr.HorizontalRule(),\n",
    "    ]\n",
    "    return train_block\n",
    "\n",
    "  def val_section(self):\n",
    "    _, _, epoch_val_metrics_names = self.get_metrics_names()\n",
    "    panel_list_epoch = []\n",
    "    for name in epoch_val_metrics_names:\n",
    "      panel_list_epoch.append(wr.LinePlot(x='Step', y=[name]))\n",
    "    val_block = [\n",
    "        wr.H1(text = \"Validation metrics\"),\n",
    "        wr.P(\"Lorem ipsum dolor sit amet. Aut laborum perspiciatis sit odit omnis aut aliquam voluptatibus ut rerum molestiae sed assumenda nulla ut minus illo sit sunt explicabo? Sed quia architecto est voluptatem magni sit molestiae dolores. Non animi repellendus ea enim internos et iste itaque quo labore mollitia aut omnis totam.\"),\n",
    "        wr.H2(text = \"per epoch\"),\n",
    "        wr.PanelGrid(\n",
    "          runsets=[\n",
    "            wr.Runset(self.entity, self.project),\n",
    "          ],\n",
    "          panels = panel_list_epoch\n",
    "        ),\n",
    "        wr.HorizontalRule(),\n",
    "    ]\n",
    "    return val_block\n",
    "\n",
    "  def train_val_section(self):\n",
    "    train_val_metrics_names = self.get_train_val_metrics_names()\n",
    "    panel_list_epoch = []\n",
    "    for name in train_val_metrics_names:\n",
    "      panel_list_epoch.append(wr.LinePlot(x='Step', y=list(name)))\n",
    "    train_val_block = [\n",
    "        wr.H1(text = \"Train - Validation metrics\"),\n",
    "        wr.P(\"Lorem ipsum dolor sit amet. Aut laborum perspiciatis sit odit omnis aut aliquam voluptatibus ut rerum molestiae sed assumenda nulla ut minus illo sit sunt explicabo? Sed quia architecto est voluptatem magni sit molestiae dolores. Non animi repellendus ea enim internos et iste itaque quo labore mollitia aut omnis totam.\"),\n",
    "        wr.H2(text = \"per epoch\"),\n",
    "        wr.PanelGrid(\n",
    "          runsets=[\n",
    "            wr.Runset(self.entity, self.project),\n",
    "          ],\n",
    "          panels = panel_list_epoch\n",
    "        ),\n",
    "        wr.HorizontalRule(),\n",
    "    ]\n",
    "    return train_val_block\n",
    "  \n",
    "  def spectral_angle_section(self):\n",
    "    self.log_spectral_angle_image()\n",
    "    spectral_angle_block = [\n",
    "        wr.H1(text = \"Spectral Angle\"),\n",
    "        wr.P(\"Lorem ipsum dolor sit amet. Aut laborum perspiciatis sit odit omnis aut aliquam voluptatibus ut rerum molestiae sed assumenda nulla ut minus illo sit sunt explicabo? Sed quia architecto est voluptatem magni sit molestiae dolores. Non animi repellendus ea enim internos et iste itaque quo labore mollitia aut omnis totam.\"),\n",
    "        wr.PanelGrid(\n",
    "          runsets=[\n",
    "            wr.Runset(self.entity, self.project),\n",
    "          ],\n",
    "          panels = [wr.MediaBrowser(media_keys=\"chart\", num_columns=1)]\n",
    "        ),\n",
    "        wr.HorizontalRule(),\n",
    "    ]\n",
    "    return spectral_angle_block"
   ],
   "metadata": {
    "collapsed": false,
    "ExecuteTime": {
     "end_time": "2024-02-06T13:31:41.867396Z",
     "start_time": "2024-02-06T13:31:41.858044Z"
    }
   },
   "id": "initial_id"
  },
  {
   "cell_type": "code",
   "execution_count": 23,
   "outputs": [
    {
     "data": {
      "text/plain": "<IPython.core.display.HTML object>",
      "text/html": "Finishing last run (ID:b17ud8uh) before initializing another..."
     },
     "metadata": {},
     "output_type": "display_data"
    },
    {
     "data": {
      "text/plain": "VBox(children=(Label(value='0.010 MB of 0.010 MB uploaded\\r'), FloatProgress(value=1.0, max=1.0)))",
      "application/vnd.jupyter.widget-view+json": {
       "version_major": 2,
       "version_minor": 0,
       "model_id": "fb2d5356e3eb4b7da5b8317ddef06e1a"
      }
     },
     "metadata": {},
     "output_type": "display_data"
    },
    {
     "data": {
      "text/plain": "<IPython.core.display.HTML object>",
      "text/html": " View run <strong style=\"color:#cdcd00\">run_4</strong> at: <a href='https://wandb.ai/master_praktikum/Demo_IntensityTimeReport/runs/b17ud8uh' target=\"_blank\">https://wandb.ai/master_praktikum/Demo_IntensityTimeReport/runs/b17ud8uh</a><br/>Synced 5 W&B file(s), 1 media file(s), 0 artifact file(s) and 0 other file(s)"
     },
     "metadata": {},
     "output_type": "display_data"
    },
    {
     "data": {
      "text/plain": "<IPython.core.display.HTML object>",
      "text/html": "Find logs at: <code></code>"
     },
     "metadata": {},
     "output_type": "display_data"
    },
    {
     "data": {
      "text/plain": "<IPython.core.display.HTML object>",
      "text/html": "Successfully finished last run (ID:b17ud8uh). Initializing new run:<br/>"
     },
     "metadata": {},
     "output_type": "display_data"
    },
    {
     "data": {
      "text/plain": "VBox(children=(Label(value='Waiting for wandb.init()...\\r'), FloatProgress(value=0.011166966667709251, max=1.0…",
      "application/vnd.jupyter.widget-view+json": {
       "version_major": 2,
       "version_minor": 0,
       "model_id": "963b265dd4db4f35b24332f10675d0e7"
      }
     },
     "metadata": {},
     "output_type": "display_data"
    },
    {
     "data": {
      "text/plain": "<IPython.core.display.HTML object>",
      "text/html": "Tracking run with wandb version 0.16.2"
     },
     "metadata": {},
     "output_type": "display_data"
    },
    {
     "data": {
      "text/plain": "<IPython.core.display.HTML object>",
      "text/html": "Run data is saved locally in <code>/var/folders/_g/z2pczf9n05qdzqzycgn74fkw0000gn/T/wandb/run-20240206_143145-hmf60byh</code>"
     },
     "metadata": {},
     "output_type": "display_data"
    },
    {
     "data": {
      "text/plain": "<IPython.core.display.HTML object>",
      "text/html": "Syncing run <strong><a href='https://wandb.ai/master_praktikum/Demo_IntensityTimeReport/runs/hmf60byh' target=\"_blank\">run_3</a></strong> to <a href='https://wandb.ai/master_praktikum/Demo_IntensityTimeReport' target=\"_blank\">Weights & Biases</a> (<a href='https://wandb.me/run' target=\"_blank\">docs</a>)<br/>"
     },
     "metadata": {},
     "output_type": "display_data"
    },
    {
     "data": {
      "text/plain": "<IPython.core.display.HTML object>",
      "text/html": " View project at <a href='https://wandb.ai/master_praktikum/Demo_IntensityTimeReport' target=\"_blank\">https://wandb.ai/master_praktikum/Demo_IntensityTimeReport</a>"
     },
     "metadata": {},
     "output_type": "display_data"
    },
    {
     "data": {
      "text/plain": "<IPython.core.display.HTML object>",
      "text/html": " View run at <a href='https://wandb.ai/master_praktikum/Demo_IntensityTimeReport/runs/hmf60byh' target=\"_blank\">https://wandb.ai/master_praktikum/Demo_IntensityTimeReport/runs/hmf60byh</a>"
     },
     "metadata": {},
     "output_type": "display_data"
    },
    {
     "data": {
      "text/html": "<button onClick=\"this.nextSibling.style.display='block';this.style.display='none';\">Display W&B run</button><iframe src='https://wandb.ai/master_praktikum/Demo_IntensityTimeReport/runs/hmf60byh?jupyter=true' style='border:none;width:100%;height:420px;display:none;'></iframe>",
      "text/plain": "<wandb.sdk.wandb_run.Run at 0x2b9c03690>"
     },
     "execution_count": 23,
     "metadata": {},
     "output_type": "execute_result"
    }
   ],
   "source": [
    "# Create config\n",
    "config = {\n",
    "  \"seq_length\" : 30,\n",
    "  \"batch_size\" : 64,\n",
    "  \"val_ratio\" : 0.2,\n",
    "  \"lr\" : 0.0001,\n",
    "  \"optimizer\" : \"ADAM\",\n",
    "  \"loss\" : \"mse\"\n",
    "}\n",
    "\n",
    "# Initialize WANDB\n",
    "PROJECT = 'Demo_IntensityTimeReport'\n",
    "RUN = \"run_3\"\n",
    "wandb.init(project = PROJECT, name = RUN, config = config)"
   ],
   "metadata": {
    "collapsed": false,
    "ExecuteTime": {
     "end_time": "2024-02-06T13:31:55.122385Z",
     "start_time": "2024-02-06T13:31:45.238024Z"
    }
   },
   "id": "f9f998503638356e"
  },
  {
   "cell_type": "code",
   "execution_count": 24,
   "outputs": [],
   "source": [
    "TRAIN_DATAPATH = 'https://raw.githubusercontent.com/wilhelm-lab/dlomix-resources/tasks/intensity/example_datasets/Intensity/proteomeTools_train_val.csv'\n",
    "BATCH_SIZE = 64\n",
    "\n",
    "int_data = IntensityDataset(data_source=TRAIN_DATAPATH, seq_length=30, batch_size=BATCH_SIZE,\n",
    "                            collision_energy_col='collision_energy', val_ratio=0.2, test=False)"
   ],
   "metadata": {
    "collapsed": false,
    "ExecuteTime": {
     "end_time": "2024-02-06T13:32:07.072242Z",
     "start_time": "2024-02-06T13:32:00.589293Z"
    }
   },
   "id": "65ad1cc974923ee3"
  },
  {
   "cell_type": "code",
   "execution_count": 25,
   "outputs": [
    {
     "name": "stdout",
     "output_type": "stream",
     "text": [
      "Epoch 1/5\n",
      "369/369 [==============================] - 88s 231ms/step - loss: 0.6059 - mse: 0.8246 - masked_pearson_correlation_distance: 0.4775 - val_loss: 0.5981 - val_mse: 0.8154 - val_masked_pearson_correlation_distance: 0.4652\n",
      "Epoch 2/5\n",
      "369/369 [==============================] - 86s 232ms/step - loss: 0.5790 - mse: 0.8318 - masked_pearson_correlation_distance: 0.4433 - val_loss: 0.5608 - val_mse: 0.8085 - val_masked_pearson_correlation_distance: 0.4214\n",
      "Epoch 3/5\n",
      "369/369 [==============================] - 87s 235ms/step - loss: 0.5406 - mse: 0.8347 - masked_pearson_correlation_distance: 0.4239 - val_loss: 0.5237 - val_mse: 0.8134 - val_masked_pearson_correlation_distance: 0.3980\n",
      "Epoch 4/5\n",
      "369/369 [==============================] - 87s 236ms/step - loss: 0.5109 - mse: 0.8562 - masked_pearson_correlation_distance: 0.4001 - val_loss: 0.5088 - val_mse: 0.8323 - val_masked_pearson_correlation_distance: 0.3793\n",
      "Epoch 5/5\n",
      "369/369 [==============================] - 89s 242ms/step - loss: 0.4891 - mse: 0.8618 - masked_pearson_correlation_distance: 0.3858 - val_loss: 0.4637 - val_mse: 0.8435 - val_masked_pearson_correlation_distance: 0.3666\n"
     ]
    }
   ],
   "source": [
    "model = PrositIntensityPredictor(seq_length=30)\n",
    "tf.get_logger().setLevel('ERROR')\n",
    "# create the optimizer object\n",
    "optimizer = tf.keras.optimizers.legacy.Adam(learning_rate=0.001)\n",
    "\n",
    "# compile the model  with the optimizer and the metrics we want to use, we can add our custom timedelta metric\n",
    "model.compile(optimizer=optimizer,\n",
    "              loss=masked_spectral_distance,\n",
    "              metrics=['mse',masked_pearson_correlation_distance])\n",
    "history = model.fit(int_data.train_data,\n",
    "                    validation_data=int_data.val_data,\n",
    "                    epochs=5,callbacks=[WandbMetricsLogger(log_freq = \"batch\")])\n",
    "# Mark the run as finished"
   ],
   "metadata": {
    "collapsed": false,
    "ExecuteTime": {
     "end_time": "2024-02-06T13:39:23.696916Z",
     "start_time": "2024-02-06T13:32:07.072650Z"
    }
   },
   "id": "b6fd108c5a86ec79"
  },
  {
   "cell_type": "code",
   "execution_count": 26,
   "outputs": [
    {
     "name": "stdout",
     "output_type": "stream",
     "text": [
      "231/231 [==============================] - 11s 46ms/step\n"
     ]
    }
   ],
   "source": [
    "# create the dataset object for test data\n",
    "\n",
    "TEST_DATAPATH = 'https://raw.githubusercontent.com/wilhelm-lab/dlomix-resources/tasks/intensity/example_datasets/Intensity/proteomeTools_test.csv'\n",
    "\n",
    "test_int_data = IntensityDataset(data_source=TEST_DATAPATH,\n",
    "                              seq_length=30, collision_energy_col='collision_energy',batch_size=32, test=True)\n",
    "\n",
    "# use model.predict from keras directly on the testdata\n",
    "\n",
    "predictions = model.predict(test_int_data.test_data)\n"
   ],
   "metadata": {
    "collapsed": false,
    "ExecuteTime": {
     "end_time": "2024-02-06T13:39:36.612933Z",
     "start_time": "2024-02-06T13:39:23.702800Z"
    }
   },
   "id": "e010e9b0f534c669"
  },
  {
   "cell_type": "code",
   "execution_count": 27,
   "outputs": [],
   "source": [
    "# Create a report\n",
    "report = IntensityReport(project = \"Demo_IntensityTimeReport\",\n",
    "                         title = \"Comparison of different optimizers\",\n",
    "                         description = \"Comparison of two optimizers Adam and RMSprop\",\n",
    "                         test_dataset = test_int_data,\n",
    "                         predictions = predictions)"
   ],
   "metadata": {
    "collapsed": false,
    "ExecuteTime": {
     "end_time": "2024-02-06T13:39:36.863448Z",
     "start_time": "2024-02-06T13:39:36.605884Z"
    }
   },
   "id": "3f65fdab38ec15b5"
  },
  {
   "cell_type": "code",
   "execution_count": 28,
   "outputs": [
    {
     "name": "stderr",
     "output_type": "stream",
     "text": [
      "/Users/andi/PycharmProjects/dlomix_repo/venv/lib/python3.11/site-packages/seaborn/_base.py:949: FutureWarning:\n",
      "\n",
      "When grouping with a length-1 list-like, you will need to pass a length-1 tuple to get_group in a future version of pandas. Pass `(name,)` instead of `name` to silence this warning.\n",
      "\n"
     ]
    },
    {
     "data": {
      "text/plain": "<Figure size 640x480 with 1 Axes>",
      "image/png": "[encoded data removed]"
     },
     "metadata": {},
     "output_type": "display_data"
    }
   ],
   "source": [
    "report.create_report()"
   ],
   "metadata": {
    "collapsed": false,
    "ExecuteTime": {
     "end_time": "2024-02-06T13:40:15.257023Z",
     "start_time": "2024-02-06T13:39:36.864125Z"
    }
   },
   "id": "547d308789a6fbc1"
  },
  {
   "cell_type": "code",
   "execution_count": 17,
   "outputs": [
    {
     "data": {
      "text/plain": "VBox(children=(Label(value='0.023 MB of 0.023 MB uploaded\\r'), FloatProgress(value=1.0, max=1.0)))",
      "application/vnd.jupyter.widget-view+json": {
       "version_major": 2,
       "version_minor": 0,
       "model_id": "8a1274a187ba4b51bb5cf671115af282"
      }
     },
     "metadata": {},
     "output_type": "display_data"
    },
    {
     "data": {
      "text/plain": "<IPython.core.display.HTML object>",
      "text/html": "<style>\n    table.wandb td:nth-child(1) { padding: 0 10px; text-align: left ; width: auto;} td:nth-child(2) {text-align: left ; width: 100%}\n    .wandb-row { display: flex; flex-direction: row; flex-wrap: wrap; justify-content: flex-start; width: 100% }\n    .wandb-col { display: flex; flex-direction: column; flex-basis: 100%; flex: 1; padding: 10px; }\n    </style>\n<div class=\"wandb-row\"><div class=\"wandb-col\"><h3>Run history:</h3><br/><table class=\"wandb\"><tr><td>batch/batch_step</td><td>▁▁▁▁▂▂▂▂▂▃▃▃▃▃▃▄▄▄▄▄▅▅▅▅▅▅▆▆▆▆▆▇▇▇▇▇▇███</td></tr><tr><td>batch/learning_rate</td><td>▁▁▁▁▁▁▁▁▁▁▁▁▁▁▁▁▁▁▁▁▁▁▁▁▁▁▁▁▁▁▁▁▁▁▁▁▁▁▁▁</td></tr><tr><td>batch/loss</td><td>█▆▆▅▅▅▅▅▅▄▅▅▄▄▄▄▃▃▃▃▃▃▃▃▂▂▂▂▂▂▂▂▁▁▁▁▁▁▁▁</td></tr><tr><td>batch/masked_pearson_correlation_distance</td><td>█▆▅▅▄▄▄▄▄▄▄▄▄▄▃▃▂▂▂▂▂▂▂▂▃▂▂▂▂▂▂▂▁▁▁▁▁▁▁▁</td></tr><tr><td>batch/mse</td><td>▁▂▃▄▄▄▄▄▅▅▅▅▅▅▅▅▅▅▅▅▅▅▆▆▇▇▇▇▇▇▇▇▇███████</td></tr><tr><td>epoch/epoch</td><td>▁▃▅▆█</td></tr><tr><td>epoch/learning_rate</td><td>▁▁▁▁▁</td></tr><tr><td>epoch/loss</td><td>█▇▄▂▁</td></tr><tr><td>epoch/masked_pearson_correlation_distance</td><td>█▆▄▂▁</td></tr><tr><td>epoch/mse</td><td>▁▃▄▆█</td></tr><tr><td>epoch/val_loss</td><td>█▆▃▂▁</td></tr><tr><td>epoch/val_masked_pearson_correlation_distance</td><td>█▅▄▁▁</td></tr><tr><td>epoch/val_mse</td><td>▁▁▄▅█</td></tr></table><br/></div><div class=\"wandb-col\"><h3>Run summary:</h3><br/><table class=\"wandb\"><tr><td>batch/batch_step</td><td>1844</td></tr><tr><td>batch/learning_rate</td><td>0.001</td></tr><tr><td>batch/loss</td><td>0.51693</td></tr><tr><td>batch/masked_pearson_correlation_distance</td><td>0.41676</td></tr><tr><td>batch/mse</td><td>0.92599</td></tr><tr><td>epoch/epoch</td><td>4</td></tr><tr><td>epoch/learning_rate</td><td>0.001</td></tr><tr><td>epoch/loss</td><td>0.51693</td></tr><tr><td>epoch/masked_pearson_correlation_distance</td><td>0.41676</td></tr><tr><td>epoch/mse</td><td>0.92599</td></tr><tr><td>epoch/val_loss</td><td>0.50729</td></tr><tr><td>epoch/val_masked_pearson_correlation_distance</td><td>0.39269</td></tr><tr><td>epoch/val_mse</td><td>0.92082</td></tr></table><br/></div></div>"
     },
     "metadata": {},
     "output_type": "display_data"
    },
    {
     "data": {
      "text/plain": "<IPython.core.display.HTML object>",
      "text/html": " View run <strong style=\"color:#cdcd00\">run_3</strong> at: <a href='https://wandb.ai/master_praktikum/Demo_IntensityTimeReport/runs/gvwa5kds' target=\"_blank\">https://wandb.ai/master_praktikum/Demo_IntensityTimeReport/runs/gvwa5kds</a><br/>Synced 5 W&B file(s), 1 media file(s), 0 artifact file(s) and 0 other file(s)"
     },
     "metadata": {},
     "output_type": "display_data"
    },
    {
     "data": {
      "text/plain": "<IPython.core.display.HTML object>",
      "text/html": "Find logs at: <code></code>"
     },
     "metadata": {},
     "output_type": "display_data"
    }
   ],
   "source": [
    "wandb.finish()"
   ],
   "metadata": {
    "collapsed": false,
    "ExecuteTime": {
     "end_time": "2024-02-06T13:26:54.754718Z",
     "start_time": "2024-02-06T13:26:48.242149Z"
    }
   },
   "id": "b530b21fa3ff9cc9"
  },
  {
   "cell_type": "code",
   "execution_count": null,
   "outputs": [],
   "source": [],
   "metadata": {
    "collapsed": false
   },
   "id": "ad36847cd1201422"
  }
 ],
 "metadata": {
  "kernelspec": {
   "display_name": "Python 3",
   "language": "python",
   "name": "python3"
  },
  "language_info": {
   "codemirror_mode": {
    "name": "ipython",
    "version": 2
   },
   "file_extension": ".py",
   "mimetype": "text/x-python",
   "name": "python",
   "nbconvert_exporter": "python",
   "pygments_lexer": "ipython2",
   "version": "2.7.6"
  }
 },
 "nbformat": 4,
 "nbformat_minor": 5
}
