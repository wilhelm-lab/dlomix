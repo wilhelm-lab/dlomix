{
 "cells": [
  {
   "cell_type": "code",
   "execution_count": 2,
   "metadata": {},
   "outputs": [],
   "source": [
    "import pandas as pd \n",
    "import numpy as np \n",
    "import matplotlib.pyplot as plt\n",
    "import seaborn as sns\n",
    "from sklearn.metrics import accuracy_score, classification_report, confusion_matrix\n",
    "from sklearn.multioutput import MultiOutputClassifier\n",
    "from sklearn.dummy import DummyClassifier\n",
    "\n",
    "\n",
    "# Constants\n",
    "from dlomix.constants import ALPHABET_UNMOD"
   ]
  },
  {
   "cell_type": "markdown",
   "metadata": {},
   "source": [
    "# Baselines"
   ]
  },
  {
   "cell_type": "markdown",
   "metadata": {},
   "source": [
    "## Preprocessed data"
   ]
  },
  {
   "cell_type": "markdown",
   "metadata": {},
   "source": [
    "### Random predictor"
   ]
  },
  {
   "cell_type": "code",
   "execution_count": 3,
   "metadata": {},
   "outputs": [],
   "source": [
    "processed_data = pd.read_parquet(\"/mnt/c/Users/Florian/Desktop/Uni/MSc/FoPr/preprocessed_pcp_data.parquet\")"
   ]
  },
  {
   "cell_type": "code",
   "execution_count": 4,
   "metadata": {},
   "outputs": [],
   "source": [
    "# remove UNIMOD sequences\n",
    "processed_data = processed_data[~processed_data.modified_sequence.str.contains('UNIMOD')]"
   ]
  },
  {
   "cell_type": "code",
   "execution_count": 5,
   "metadata": {},
   "outputs": [],
   "source": [
    "# encode the sequences\n",
    "processed_data.modified_sequence = processed_data.modified_sequence.apply(list).apply(lambda x: np.array([ALPHABET_UNMOD[aa] for aa in x]))"
   ]
  },
  {
   "cell_type": "code",
   "execution_count": 6,
   "metadata": {},
   "outputs": [
    {
     "data": {
      "text/plain": [
       "40"
      ]
     },
     "execution_count": 6,
     "metadata": {},
     "output_type": "execute_result"
    }
   ],
   "source": [
    "# determine the maximum sequence length in the dummy-dataset\n",
    "max_len = processed_data.modified_sequence.apply(len).max()\n",
    "max_len"
   ]
  },
  {
   "cell_type": "code",
   "execution_count": 7,
   "metadata": {},
   "outputs": [],
   "source": [
    "# pad sequences to max length with 0s\n",
    "processed_data.modified_sequence = processed_data.modified_sequence.apply(lambda x: np.pad(x, (0, max_len - len(x)), constant_values=0))"
   ]
  },
  {
   "cell_type": "code",
   "execution_count": 8,
   "metadata": {},
   "outputs": [],
   "source": [
    "# define minimum and maximum charge state\n",
    "min_charge_state = 1\n",
    "max_charge_state = 6"
   ]
  },
  {
   "cell_type": "code",
   "execution_count": 9,
   "metadata": {},
   "outputs": [
    {
     "data": {
      "text/html": [
       "<div>\n",
       "<style scoped>\n",
       "    .dataframe tbody tr th:only-of-type {\n",
       "        vertical-align: middle;\n",
       "    }\n",
       "\n",
       "    .dataframe tbody tr th {\n",
       "        vertical-align: top;\n",
       "    }\n",
       "\n",
       "    .dataframe thead th {\n",
       "        text-align: right;\n",
       "    }\n",
       "</style>\n",
       "<table border=\"1\" class=\"dataframe\">\n",
       "  <thead>\n",
       "    <tr style=\"text-align: right;\">\n",
       "      <th></th>\n",
       "      <th>modified_sequence</th>\n",
       "      <th>precursor_charge</th>\n",
       "      <th>precursor_intensity</th>\n",
       "      <th>charge_by_max_intensity</th>\n",
       "      <th>max_intensity</th>\n",
       "      <th>charge_by_avg_intensity</th>\n",
       "      <th>avg_intensity</th>\n",
       "      <th>one_hot_most_abundant_charge</th>\n",
       "      <th>charge_state_vector</th>\n",
       "      <th>normalized_intensity_distribution</th>\n",
       "      <th>random_prediction</th>\n",
       "    </tr>\n",
       "  </thead>\n",
       "  <tbody>\n",
       "    <tr>\n",
       "      <th>0</th>\n",
       "      <td>[1, 1, 1, 1, 1, 1, 1, 1, 1, 1, 1, 1, 1, 1, 1, ...</td>\n",
       "      <td>[2, 3, 2, 1, 1, 2, 2, 2, 2, 2, 2, 3, 2, 2, 2, ...</td>\n",
       "      <td>[12746190.0, 2009914.0, 12746190.0, 791369.9, ...</td>\n",
       "      <td>2</td>\n",
       "      <td>84118390.0</td>\n",
       "      <td>2</td>\n",
       "      <td>4.312718e+07</td>\n",
       "      <td>[0, 1, 0, 0, 0, 0]</td>\n",
       "      <td>[1, 1, 1, 0, 0, 0]</td>\n",
       "      <td>[0.0014942136737631886, 0.977159622342211, 0.0...</td>\n",
       "      <td>4</td>\n",
       "    </tr>\n",
       "    <tr>\n",
       "      <th>1</th>\n",
       "      <td>[1, 1, 1, 1, 1, 1, 1, 1, 1, 1, 1, 1, 1, 1, 1, ...</td>\n",
       "      <td>[2, 2, 2, 2, 2, 2, 2, 2, 2, 2, 2, 2, 2, 2]</td>\n",
       "      <td>[5944787.0, 5944787.0, 8502878.0, 6425294.0, 8...</td>\n",
       "      <td>2</td>\n",
       "      <td>8824163.0</td>\n",
       "      <td>2</td>\n",
       "      <td>7.635637e+06</td>\n",
       "      <td>[0, 1, 0, 0, 0, 0]</td>\n",
       "      <td>[0, 1, 0, 0, 0, 0]</td>\n",
       "      <td>[0.0, 1.0, 0.0, 0.0, 0.0, 0.0]</td>\n",
       "      <td>5</td>\n",
       "    </tr>\n",
       "    <tr>\n",
       "      <th>2</th>\n",
       "      <td>[1, 1, 1, 1, 1, 1, 1, 1, 1, 1, 1, 1, 1, 1, 1, ...</td>\n",
       "      <td>[2, 2, 2, 2]</td>\n",
       "      <td>[3067981.0, 3067981.0, 3067981.0, 3067981.0]</td>\n",
       "      <td>2</td>\n",
       "      <td>3067981.0</td>\n",
       "      <td>2</td>\n",
       "      <td>3.067981e+06</td>\n",
       "      <td>[0, 1, 0, 0, 0, 0]</td>\n",
       "      <td>[0, 1, 0, 0, 0, 0]</td>\n",
       "      <td>[0.0, 1.0, 0.0, 0.0, 0.0, 0.0]</td>\n",
       "      <td>3</td>\n",
       "    </tr>\n",
       "    <tr>\n",
       "      <th>3</th>\n",
       "      <td>[1, 1, 1, 1, 1, 1, 1, 1, 1, 1, 1, 1, 1, 1, 1, ...</td>\n",
       "      <td>[2, 2, 2, 2, 2, 2, 2, 2, 2, 2, 2, 2, 2, 2, 3]</td>\n",
       "      <td>[11913300.0, 11913300.0, 11913300.0, 11913300....</td>\n",
       "      <td>2</td>\n",
       "      <td>11913300.0</td>\n",
       "      <td>2</td>\n",
       "      <td>8.273927e+06</td>\n",
       "      <td>[0, 1, 0, 0, 0, 0]</td>\n",
       "      <td>[0, 1, 1, 0, 0, 0]</td>\n",
       "      <td>[0.0, 0.9879325512697509, 0.012067448730249095...</td>\n",
       "      <td>5</td>\n",
       "    </tr>\n",
       "    <tr>\n",
       "      <th>4</th>\n",
       "      <td>[1, 1, 1, 1, 1, 1, 1, 1, 1, 1, 1, 1, 1, 1, 6, ...</td>\n",
       "      <td>[1, 1, 1, 1, 1, 1, 1, 1, 1, 1, 1, 1, 1, 1, 1, ...</td>\n",
       "      <td>[1573785.0, 4638296.0, 7934979.0, 2019978.0, 4...</td>\n",
       "      <td>1</td>\n",
       "      <td>16573010.0</td>\n",
       "      <td>1</td>\n",
       "      <td>8.562738e+06</td>\n",
       "      <td>[1, 0, 0, 0, 0, 0]</td>\n",
       "      <td>[1, 0, 0, 0, 0, 0]</td>\n",
       "      <td>[1.0, 0.0, 0.0, 0.0, 0.0, 0.0]</td>\n",
       "      <td>5</td>\n",
       "    </tr>\n",
       "  </tbody>\n",
       "</table>\n",
       "</div>"
      ],
      "text/plain": [
       "                                   modified_sequence  \\\n",
       "0  [1, 1, 1, 1, 1, 1, 1, 1, 1, 1, 1, 1, 1, 1, 1, ...   \n",
       "1  [1, 1, 1, 1, 1, 1, 1, 1, 1, 1, 1, 1, 1, 1, 1, ...   \n",
       "2  [1, 1, 1, 1, 1, 1, 1, 1, 1, 1, 1, 1, 1, 1, 1, ...   \n",
       "3  [1, 1, 1, 1, 1, 1, 1, 1, 1, 1, 1, 1, 1, 1, 1, ...   \n",
       "4  [1, 1, 1, 1, 1, 1, 1, 1, 1, 1, 1, 1, 1, 1, 6, ...   \n",
       "\n",
       "                                    precursor_charge  \\\n",
       "0  [2, 3, 2, 1, 1, 2, 2, 2, 2, 2, 2, 3, 2, 2, 2, ...   \n",
       "1         [2, 2, 2, 2, 2, 2, 2, 2, 2, 2, 2, 2, 2, 2]   \n",
       "2                                       [2, 2, 2, 2]   \n",
       "3      [2, 2, 2, 2, 2, 2, 2, 2, 2, 2, 2, 2, 2, 2, 3]   \n",
       "4  [1, 1, 1, 1, 1, 1, 1, 1, 1, 1, 1, 1, 1, 1, 1, ...   \n",
       "\n",
       "                                 precursor_intensity  charge_by_max_intensity  \\\n",
       "0  [12746190.0, 2009914.0, 12746190.0, 791369.9, ...                        2   \n",
       "1  [5944787.0, 5944787.0, 8502878.0, 6425294.0, 8...                        2   \n",
       "2       [3067981.0, 3067981.0, 3067981.0, 3067981.0]                        2   \n",
       "3  [11913300.0, 11913300.0, 11913300.0, 11913300....                        2   \n",
       "4  [1573785.0, 4638296.0, 7934979.0, 2019978.0, 4...                        1   \n",
       "\n",
       "   max_intensity  charge_by_avg_intensity  avg_intensity  \\\n",
       "0     84118390.0                        2   4.312718e+07   \n",
       "1      8824163.0                        2   7.635637e+06   \n",
       "2      3067981.0                        2   3.067981e+06   \n",
       "3     11913300.0                        2   8.273927e+06   \n",
       "4     16573010.0                        1   8.562738e+06   \n",
       "\n",
       "  one_hot_most_abundant_charge charge_state_vector  \\\n",
       "0           [0, 1, 0, 0, 0, 0]  [1, 1, 1, 0, 0, 0]   \n",
       "1           [0, 1, 0, 0, 0, 0]  [0, 1, 0, 0, 0, 0]   \n",
       "2           [0, 1, 0, 0, 0, 0]  [0, 1, 0, 0, 0, 0]   \n",
       "3           [0, 1, 0, 0, 0, 0]  [0, 1, 1, 0, 0, 0]   \n",
       "4           [1, 0, 0, 0, 0, 0]  [1, 0, 0, 0, 0, 0]   \n",
       "\n",
       "                   normalized_intensity_distribution  random_prediction  \n",
       "0  [0.0014942136737631886, 0.977159622342211, 0.0...                  4  \n",
       "1                     [0.0, 1.0, 0.0, 0.0, 0.0, 0.0]                  5  \n",
       "2                     [0.0, 1.0, 0.0, 0.0, 0.0, 0.0]                  3  \n",
       "3  [0.0, 0.9879325512697509, 0.012067448730249095...                  5  \n",
       "4                     [1.0, 0.0, 0.0, 0.0, 0.0, 0.0]                  5  "
      ]
     },
     "execution_count": 9,
     "metadata": {},
     "output_type": "execute_result"
    }
   ],
   "source": [
    "# Generate random charge states for each sequence\n",
    "np.random.seed(42)\n",
    "random_predictions = np.random.randint(min_charge_state, max_charge_state+1, size=len(processed_data))\n",
    "processed_data['random_prediction'] = random_predictions\n",
    "processed_data.head()"
   ]
  },
  {
   "cell_type": "code",
   "execution_count": 10,
   "metadata": {},
   "outputs": [
    {
     "data": {
      "text/plain": [
       "Index(['modified_sequence', 'precursor_charge', 'precursor_intensity',\n",
       "       'charge_by_max_intensity', 'max_intensity', 'charge_by_avg_intensity',\n",
       "       'avg_intensity', 'one_hot_most_abundant_charge', 'charge_state_vector',\n",
       "       'normalized_intensity_distribution', 'random_prediction'],\n",
       "      dtype='object')"
      ]
     },
     "execution_count": 10,
     "metadata": {},
     "output_type": "execute_result"
    }
   ],
   "source": [
    "processed_data.columns"
   ]
  },
  {
   "cell_type": "code",
   "execution_count": 11,
   "metadata": {},
   "outputs": [
    {
     "name": "stdout",
     "output_type": "stream",
     "text": [
      "Accuracy of the random predictor: 0.17\n",
      "              precision    recall  f1-score   support\n",
      "\n",
      "           1       0.05      0.17      0.08     28035\n",
      "           2       0.56      0.17      0.26    295679\n",
      "           3       0.32      0.17      0.22    168677\n",
      "           4       0.06      0.17      0.09     32807\n",
      "           5       0.01      0.17      0.01      3601\n",
      "           6       0.00      0.13      0.00       266\n",
      "\n",
      "    accuracy                           0.17    529065\n",
      "   macro avg       0.17      0.16      0.11    529065\n",
      "weighted avg       0.42      0.17      0.22    529065\n",
      "\n"
     ]
    }
   ],
   "source": [
    "# Calculate the accuracy of the random predictor\n",
    "accuracy = accuracy_score(processed_data['charge_by_max_intensity'], processed_data['random_prediction'])\n",
    "\n",
    "print(f\"Accuracy of the random predictor: {accuracy:.2f}\")\n",
    "print(classification_report(processed_data['charge_by_max_intensity'], processed_data['random_prediction']))"
   ]
  },
  {
   "cell_type": "markdown",
   "metadata": {},
   "source": [
    "### Random predictor with distribution bias"
   ]
  },
  {
   "cell_type": "code",
   "execution_count": 12,
   "metadata": {},
   "outputs": [
    {
     "data": {
      "text/plain": [
       "charge_by_max_intensity\n",
       "2    295679\n",
       "3    168677\n",
       "4     32807\n",
       "1     28035\n",
       "5      3601\n",
       "6       266\n",
       "Name: count, dtype: int64"
      ]
     },
     "execution_count": 12,
     "metadata": {},
     "output_type": "execute_result"
    }
   ],
   "source": [
    "# distribution of precursor_charges\n",
    "charge_distribution = processed_data['charge_by_max_intensity'].value_counts(normalize=False)\n",
    "\n",
    "charge_distribution"
   ]
  },
  {
   "cell_type": "code",
   "execution_count": 13,
   "metadata": {},
   "outputs": [
    {
     "data": {
      "text/html": [
       "<div>\n",
       "<style scoped>\n",
       "    .dataframe tbody tr th:only-of-type {\n",
       "        vertical-align: middle;\n",
       "    }\n",
       "\n",
       "    .dataframe tbody tr th {\n",
       "        vertical-align: top;\n",
       "    }\n",
       "\n",
       "    .dataframe thead th {\n",
       "        text-align: right;\n",
       "    }\n",
       "</style>\n",
       "<table border=\"1\" class=\"dataframe\">\n",
       "  <thead>\n",
       "    <tr style=\"text-align: right;\">\n",
       "      <th></th>\n",
       "      <th>modified_sequence</th>\n",
       "      <th>precursor_charge</th>\n",
       "      <th>precursor_intensity</th>\n",
       "      <th>charge_by_max_intensity</th>\n",
       "      <th>max_intensity</th>\n",
       "      <th>charge_by_avg_intensity</th>\n",
       "      <th>avg_intensity</th>\n",
       "      <th>one_hot_most_abundant_charge</th>\n",
       "      <th>charge_state_vector</th>\n",
       "      <th>normalized_intensity_distribution</th>\n",
       "      <th>random_prediction</th>\n",
       "      <th>biased_random_prediction</th>\n",
       "    </tr>\n",
       "  </thead>\n",
       "  <tbody>\n",
       "    <tr>\n",
       "      <th>0</th>\n",
       "      <td>[1, 1, 1, 1, 1, 1, 1, 1, 1, 1, 1, 1, 1, 1, 1, ...</td>\n",
       "      <td>[2, 3, 2, 1, 1, 2, 2, 2, 2, 2, 2, 3, 2, 2, 2, ...</td>\n",
       "      <td>[12746190.0, 2009914.0, 12746190.0, 791369.9, ...</td>\n",
       "      <td>2</td>\n",
       "      <td>84118390.0</td>\n",
       "      <td>2</td>\n",
       "      <td>4.312718e+07</td>\n",
       "      <td>[0, 1, 0, 0, 0, 0]</td>\n",
       "      <td>[1, 1, 1, 0, 0, 0]</td>\n",
       "      <td>[0.0014942136737631886, 0.977159622342211, 0.0...</td>\n",
       "      <td>4</td>\n",
       "      <td>2</td>\n",
       "    </tr>\n",
       "    <tr>\n",
       "      <th>1</th>\n",
       "      <td>[1, 1, 1, 1, 1, 1, 1, 1, 1, 1, 1, 1, 1, 1, 1, ...</td>\n",
       "      <td>[2, 2, 2, 2, 2, 2, 2, 2, 2, 2, 2, 2, 2, 2]</td>\n",
       "      <td>[5944787.0, 5944787.0, 8502878.0, 6425294.0, 8...</td>\n",
       "      <td>2</td>\n",
       "      <td>8824163.0</td>\n",
       "      <td>2</td>\n",
       "      <td>7.635637e+06</td>\n",
       "      <td>[0, 1, 0, 0, 0, 0]</td>\n",
       "      <td>[0, 1, 0, 0, 0, 0]</td>\n",
       "      <td>[0.0, 1.0, 0.0, 0.0, 0.0, 0.0]</td>\n",
       "      <td>5</td>\n",
       "      <td>3</td>\n",
       "    </tr>\n",
       "    <tr>\n",
       "      <th>2</th>\n",
       "      <td>[1, 1, 1, 1, 1, 1, 1, 1, 1, 1, 1, 1, 1, 1, 1, ...</td>\n",
       "      <td>[2, 2, 2, 2]</td>\n",
       "      <td>[3067981.0, 3067981.0, 3067981.0, 3067981.0]</td>\n",
       "      <td>2</td>\n",
       "      <td>3067981.0</td>\n",
       "      <td>2</td>\n",
       "      <td>3.067981e+06</td>\n",
       "      <td>[0, 1, 0, 0, 0, 0]</td>\n",
       "      <td>[0, 1, 0, 0, 0, 0]</td>\n",
       "      <td>[0.0, 1.0, 0.0, 0.0, 0.0, 0.0]</td>\n",
       "      <td>3</td>\n",
       "      <td>2</td>\n",
       "    </tr>\n",
       "    <tr>\n",
       "      <th>3</th>\n",
       "      <td>[1, 1, 1, 1, 1, 1, 1, 1, 1, 1, 1, 1, 1, 1, 1, ...</td>\n",
       "      <td>[2, 2, 2, 2, 2, 2, 2, 2, 2, 2, 2, 2, 2, 2, 3]</td>\n",
       "      <td>[11913300.0, 11913300.0, 11913300.0, 11913300....</td>\n",
       "      <td>2</td>\n",
       "      <td>11913300.0</td>\n",
       "      <td>2</td>\n",
       "      <td>8.273927e+06</td>\n",
       "      <td>[0, 1, 0, 0, 0, 0]</td>\n",
       "      <td>[0, 1, 1, 0, 0, 0]</td>\n",
       "      <td>[0.0, 0.9879325512697509, 0.012067448730249095...</td>\n",
       "      <td>5</td>\n",
       "      <td>3</td>\n",
       "    </tr>\n",
       "    <tr>\n",
       "      <th>4</th>\n",
       "      <td>[1, 1, 1, 1, 1, 1, 1, 1, 1, 1, 1, 1, 1, 1, 6, ...</td>\n",
       "      <td>[1, 1, 1, 1, 1, 1, 1, 1, 1, 1, 1, 1, 1, 1, 1, ...</td>\n",
       "      <td>[1573785.0, 4638296.0, 7934979.0, 2019978.0, 4...</td>\n",
       "      <td>1</td>\n",
       "      <td>16573010.0</td>\n",
       "      <td>1</td>\n",
       "      <td>8.562738e+06</td>\n",
       "      <td>[1, 0, 0, 0, 0, 0]</td>\n",
       "      <td>[1, 0, 0, 0, 0, 0]</td>\n",
       "      <td>[1.0, 0.0, 0.0, 0.0, 0.0, 0.0]</td>\n",
       "      <td>5</td>\n",
       "      <td>2</td>\n",
       "    </tr>\n",
       "  </tbody>\n",
       "</table>\n",
       "</div>"
      ],
      "text/plain": [
       "                                   modified_sequence  \\\n",
       "0  [1, 1, 1, 1, 1, 1, 1, 1, 1, 1, 1, 1, 1, 1, 1, ...   \n",
       "1  [1, 1, 1, 1, 1, 1, 1, 1, 1, 1, 1, 1, 1, 1, 1, ...   \n",
       "2  [1, 1, 1, 1, 1, 1, 1, 1, 1, 1, 1, 1, 1, 1, 1, ...   \n",
       "3  [1, 1, 1, 1, 1, 1, 1, 1, 1, 1, 1, 1, 1, 1, 1, ...   \n",
       "4  [1, 1, 1, 1, 1, 1, 1, 1, 1, 1, 1, 1, 1, 1, 6, ...   \n",
       "\n",
       "                                    precursor_charge  \\\n",
       "0  [2, 3, 2, 1, 1, 2, 2, 2, 2, 2, 2, 3, 2, 2, 2, ...   \n",
       "1         [2, 2, 2, 2, 2, 2, 2, 2, 2, 2, 2, 2, 2, 2]   \n",
       "2                                       [2, 2, 2, 2]   \n",
       "3      [2, 2, 2, 2, 2, 2, 2, 2, 2, 2, 2, 2, 2, 2, 3]   \n",
       "4  [1, 1, 1, 1, 1, 1, 1, 1, 1, 1, 1, 1, 1, 1, 1, ...   \n",
       "\n",
       "                                 precursor_intensity  charge_by_max_intensity  \\\n",
       "0  [12746190.0, 2009914.0, 12746190.0, 791369.9, ...                        2   \n",
       "1  [5944787.0, 5944787.0, 8502878.0, 6425294.0, 8...                        2   \n",
       "2       [3067981.0, 3067981.0, 3067981.0, 3067981.0]                        2   \n",
       "3  [11913300.0, 11913300.0, 11913300.0, 11913300....                        2   \n",
       "4  [1573785.0, 4638296.0, 7934979.0, 2019978.0, 4...                        1   \n",
       "\n",
       "   max_intensity  charge_by_avg_intensity  avg_intensity  \\\n",
       "0     84118390.0                        2   4.312718e+07   \n",
       "1      8824163.0                        2   7.635637e+06   \n",
       "2      3067981.0                        2   3.067981e+06   \n",
       "3     11913300.0                        2   8.273927e+06   \n",
       "4     16573010.0                        1   8.562738e+06   \n",
       "\n",
       "  one_hot_most_abundant_charge charge_state_vector  \\\n",
       "0           [0, 1, 0, 0, 0, 0]  [1, 1, 1, 0, 0, 0]   \n",
       "1           [0, 1, 0, 0, 0, 0]  [0, 1, 0, 0, 0, 0]   \n",
       "2           [0, 1, 0, 0, 0, 0]  [0, 1, 0, 0, 0, 0]   \n",
       "3           [0, 1, 0, 0, 0, 0]  [0, 1, 1, 0, 0, 0]   \n",
       "4           [1, 0, 0, 0, 0, 0]  [1, 0, 0, 0, 0, 0]   \n",
       "\n",
       "                   normalized_intensity_distribution  random_prediction  \\\n",
       "0  [0.0014942136737631886, 0.977159622342211, 0.0...                  4   \n",
       "1                     [0.0, 1.0, 0.0, 0.0, 0.0, 0.0]                  5   \n",
       "2                     [0.0, 1.0, 0.0, 0.0, 0.0, 0.0]                  3   \n",
       "3  [0.0, 0.9879325512697509, 0.012067448730249095...                  5   \n",
       "4                     [1.0, 0.0, 0.0, 0.0, 0.0, 0.0]                  5   \n",
       "\n",
       "   biased_random_prediction  \n",
       "0                         2  \n",
       "1                         3  \n",
       "2                         2  \n",
       "3                         3  \n",
       "4                         2  "
      ]
     },
     "execution_count": 13,
     "metadata": {},
     "output_type": "execute_result"
    }
   ],
   "source": [
    "# Use the calculated distribution to randomly assign charge states\n",
    "charges = charge_distribution.index.to_list()\n",
    "probabilities = charge_distribution.values\n",
    "\n",
    "# Calculate the sum of the probabilities\n",
    "prob_sum = np.sum(probabilities)\n",
    "\n",
    "# Check if the sum of probabilities is 1\n",
    "if not np.isclose(prob_sum, 1):\n",
    "    # Normalize the probabilities if their sum is not 1\n",
    "    probabilities = probabilities / prob_sum\n",
    "\n",
    "# Generate random charge with using the normalized probabilities\n",
    "random_assigned_charges = np.random.choice(charges, size=len(processed_data), p=probabilities)\n",
    "processed_data['biased_random_prediction'] = random_assigned_charges\n",
    "processed_data.head()\n"
   ]
  },
  {
   "cell_type": "code",
   "execution_count": 14,
   "metadata": {},
   "outputs": [
    {
     "name": "stdout",
     "output_type": "stream",
     "text": [
      "Accuracy of the random predictor: 0.42\n",
      "              precision    recall  f1-score   support\n",
      "\n",
      "           1       0.05      0.05      0.05     28035\n",
      "           2       0.56      0.56      0.56    295679\n",
      "           3       0.32      0.32      0.32    168677\n",
      "           4       0.06      0.06      0.06     32807\n",
      "           5       0.01      0.01      0.01      3601\n",
      "           6       0.00      0.00      0.00       266\n",
      "\n",
      "    accuracy                           0.42    529065\n",
      "   macro avg       0.17      0.17      0.17    529065\n",
      "weighted avg       0.42      0.42      0.42    529065\n",
      "\n"
     ]
    }
   ],
   "source": [
    "# Calculate the accuracy of the random predictor\n",
    "accuracy = accuracy_score(processed_data['charge_by_max_intensity'], processed_data['biased_random_prediction'])\n",
    "\n",
    "print(f\"Accuracy of the random predictor: {accuracy:.2f}\")\n",
    "print(classification_report(processed_data['charge_by_max_intensity'], processed_data['biased_random_prediction']))"
   ]
  },
  {
   "cell_type": "markdown",
   "metadata": {},
   "source": [
    "### Mjority Baseline (single charge)"
   ]
  },
  {
   "cell_type": "code",
   "execution_count": 15,
   "metadata": {},
   "outputs": [],
   "source": [
    "def majority_baseline(df, k=1):\n",
    "    # Check if the required column exists in the dataframe\n",
    "    if 'charge_by_max_intensity' not in df.columns:\n",
    "        raise ValueError(\"Define a column with one integer value for the precursor charge\")\n",
    "\n",
    "    # Count occurrences of each precursor charge\n",
    "    charge_counts = df['charge_by_max_intensity'].value_counts()\n",
    "    \n",
    "    # Get the top-k charges\n",
    "    top_k_charges = charge_counts.nlargest(k).index.tolist()\n",
    "    \n",
    "    # Set the top charge for all data points as prediction\n",
    "    top_charge = top_k_charges[0]\n",
    "    baseline_predictions = [top_charge] * len(df)\n",
    "    \n",
    "    # Evaluate the baseline\n",
    "    actual_charges = df['charge_by_max_intensity'].tolist()\n",
    "    \n",
    "    # Generate evaluation metrics\n",
    "    accuracy = accuracy_score(actual_charges, baseline_predictions)\n",
    "    report = classification_report(actual_charges, baseline_predictions, labels=[top_charge], zero_division=0)\n",
    "\n",
    "    print(f\"majority charge is: {top_charge}\")\n",
    "    print(f\"Accuracy of the majority baseline: {accuracy:.2f}\")\n",
    "    print(report)"
   ]
  },
  {
   "cell_type": "code",
   "execution_count": 16,
   "metadata": {},
   "outputs": [
    {
     "name": "stdout",
     "output_type": "stream",
     "text": [
      "majority charge is: 2\n",
      "Accuracy of the majority baseline: 0.56\n",
      "              precision    recall  f1-score   support\n",
      "\n",
      "           2       0.56      1.00      0.72    295679\n",
      "\n",
      "   micro avg       0.56      1.00      0.72    295679\n",
      "   macro avg       0.56      1.00      0.72    295679\n",
      "weighted avg       0.56      1.00      0.72    295679\n",
      "\n"
     ]
    }
   ],
   "source": [
    "baseline_metrics = majority_baseline(processed_data, k=1)"
   ]
  },
  {
   "cell_type": "markdown",
   "metadata": {},
   "source": [
    "### sklearn dummy baselines \n",
    "#### Task 1"
   ]
  },
  {
   "cell_type": "code",
   "execution_count": 17,
   "metadata": {},
   "outputs": [
    {
     "name": "stdout",
     "output_type": "stream",
     "text": [
      "Accuracy of the most_frequent baseline: 0.56\n",
      "Accuracy of the stratified baseline: 0.42\n",
      "Accuracy of the constant baseline: 0.56\n",
      "Accuracy of the uniform baseline: 0.17\n"
     ]
    }
   ],
   "source": [
    "X_task1 = processed_data['modified_sequence']\n",
    "y_task1 = processed_data['charge_by_max_intensity']\n",
    "\n",
    "# All strategies\n",
    "strategies = ['most_frequent', 'stratified', 'constant', 'uniform']\n",
    "\n",
    "for strategy in strategies:\n",
    "    if strategy == 'constant':\n",
    "        dummy_clf = DummyClassifier(strategy=strategy, constant=y_task1.mode()[0])\n",
    "    else:\n",
    "        dummy_clf = DummyClassifier(strategy=strategy)\n",
    "\n",
    "    dummy_clf.fit(X_task1, y_task1)\n",
    "\n",
    "    # Make predictions\n",
    "    predictions = dummy_clf.predict(X_task1)\n",
    "\n",
    "    # Calculate accuracy\n",
    "    accuracy = accuracy_score(y_task1, predictions)\n",
    "    print(f\"Accuracy of the {strategy} baseline: {accuracy:.2f}\")"
   ]
  },
  {
   "cell_type": "markdown",
   "metadata": {},
   "source": [
    "### sklearn dummy baselines \n",
    "#### Task 2"
   ]
  },
  {
   "cell_type": "code",
   "execution_count": 18,
   "metadata": {},
   "outputs": [
    {
     "name": "stdout",
     "output_type": "stream",
     "text": [
      "Sequences with more than one charge state: 209133 \n",
      "-> 39.52879135833971 %\n"
     ]
    }
   ],
   "source": [
    "# Count how many charge_state_vectors actually contain more than one charge state\n",
    "processed_data['more_than_one_charge_state'] = processed_data['charge_state_vector'].apply(lambda x: np.sum(x) > 1)\n",
    "count_more_than_one = processed_data['more_than_one_charge_state'].sum()\n",
    "\n",
    "print(\"Sequences with more than one charge state:\", count_more_than_one, \"\\n->\", count_more_than_one / len(processed_data) * 100, \"%\")"
   ]
  },
  {
   "cell_type": "code",
   "execution_count": 19,
   "metadata": {},
   "outputs": [],
   "source": [
    "from sklearn.multioutput import MultiOutputClassifier\n",
    "from sklearn.dummy import DummyClassifier\n",
    "from sklearn.metrics import accuracy_score, hamming_loss"
   ]
  },
  {
   "cell_type": "code",
   "execution_count": 20,
   "metadata": {},
   "outputs": [],
   "source": [
    "X = processed_data['modified_sequence'].tolist()\n",
    "y = processed_data['charge_state_vector'].tolist()\n",
    "\n",
    "X = np.array(X)\n",
    "y = np.array(y)\n",
    "\n",
    "dummy = DummyClassifier(strategy=\"most_frequent\")\n",
    "multi_target_dummy = MultiOutputClassifier(dummy, n_jobs=-1)\n",
    "multi_target_dummy.fit(X, y)\n",
    "\n",
    "y_pred = multi_target_dummy.predict(X)\n"
   ]
  },
  {
   "cell_type": "code",
   "execution_count": 21,
   "metadata": {},
   "outputs": [
    {
     "name": "stdout",
     "output_type": "stream",
     "text": [
      "Accuracy of the multi-label dummy classifier: 0.44\n",
      "Hamming loss of the multi-label dummy classifier: 0.14\n"
     ]
    }
   ],
   "source": [
    "# Calculate accuracy\n",
    "accuracy = accuracy_score(y, y_pred)\n",
    "print(f\"Accuracy of the multi-label dummy classifier: {accuracy:.2f}\")\n",
    "\n",
    "# Calculate Hamming loss\n",
    "hamming = hamming_loss(y, y_pred)\n",
    "print(f\"Hamming loss of the multi-label dummy classifier: {hamming:.2f}\")\n"
   ]
  },
  {
   "cell_type": "markdown",
   "metadata": {},
   "source": [
    "#### Task 3"
   ]
  },
  {
   "cell_type": "code",
   "execution_count": 25,
   "metadata": {},
   "outputs": [
    {
     "name": "stdout",
     "output_type": "stream",
     "text": [
      "MSE of the mean baseline: 0.08\n",
      "MAE of the mean baseline: 0.25\n"
     ]
    }
   ],
   "source": [
    "import pandas as pd\n",
    "import numpy as np\n",
    "from sklearn.dummy import DummyRegressor\n",
    "from sklearn.metrics import mean_squared_error, mean_absolute_error\n",
    "\n",
    "# Create a dummy charge_distribution column with random values\n",
    "np.random.seed(42)\n",
    "processed_data['charge_distribution'] = np.random.rand(len(processed_data))\n",
    "\n",
    "# Prepare the data\n",
    "X = np.stack(processed_data.modified_sequence.values)\n",
    "y = processed_data.charge_distribution.values\n",
    "\n",
    "# Initialize the DummyRegressor with the 'mean' strategy\n",
    "dummy_regressor = DummyRegressor(strategy=\"mean\")\n",
    "\n",
    "# Train the model\n",
    "dummy_regressor.fit(X, y)\n",
    "\n",
    "# Predict\n",
    "y_pred = dummy_regressor.predict(X)\n",
    "\n",
    "# Calculate mean squared error\n",
    "mse = mean_squared_error(y, y_pred)\n",
    "\n",
    "# Calculate mean absolute error\n",
    "mae = mean_absolute_error(y, y_pred)\n",
    "\n",
    "# Print the results\n",
    "print(f\"MSE of the mean baseline: {mse:.2f}\")\n",
    "print(f\"MAE of the mean baseline: {mae:.2f}\")\n"
   ]
  },
  {
   "cell_type": "markdown",
   "metadata": {},
   "source": [
    "## Plots "
   ]
  },
  {
   "cell_type": "code",
   "execution_count": 14,
   "metadata": {},
   "outputs": [
    {
     "data": {
      "image/png": "[encoded data removed]",
      "text/plain": [
       "<Figure size 1000x600 with 1 Axes>"
      ]
     },
     "metadata": {},
     "output_type": "display_data"
    }
   ],
   "source": [
    "# Number of unique charge states\n",
    "unique_charges = processed_data['charge_by_max_intensity'].nunique()\n",
    "\n",
    "# Extracting colors from the 'viridis' colormap\n",
    "colormap = plt.cm.viridis\n",
    "colors = [colormap(i) for i in np.linspace(0, 1, unique_charges)]\n",
    "\n",
    "# Plotting the histogram\n",
    "plt.figure(figsize=(10, 6))\n",
    "n, bins, patches = plt.hist(processed_data['charge_by_max_intensity'], bins=range(1, max(processed_data['charge_by_max_intensity']) + 2), color='grey', alpha=0.7, label='Charge Distribution')\n",
    "\n",
    "for patch, color in zip(patches, colors):\n",
    "    patch.set_facecolor(color)\n",
    "\n",
    "plt.xlabel('Charge State')\n",
    "plt.ylabel('Frequency')\n",
    "plt.title('Charge Distribution')\n",
    "plt.xticks(range(1, max(processed_data['charge_by_max_intensity']) + 1))\n",
    "plt.show()"
   ]
  },
  {
   "cell_type": "code",
   "execution_count": 15,
   "metadata": {},
   "outputs": [
    {
     "data": {
      "image/png": "[encoded data removed]",
      "text/plain": [
       "<Figure size 800x600 with 2 Axes>"
      ]
     },
     "metadata": {},
     "output_type": "display_data"
    }
   ],
   "source": [
    "# Generate confusion matrix for biased random predictor\n",
    "conf_matrix = confusion_matrix(processed_data['charge_by_max_intensity'], processed_data['biased_random_prediction'])\n",
    "plt.figure(figsize=(8, 6))\n",
    "sns.heatmap(conf_matrix, annot=True, fmt='d', cmap='viridis', xticklabels=charges, yticklabels=charges)\n",
    "plt.title('Confusion Matrix')\n",
    "plt.xlabel('Predicted Charge')\n",
    "plt.ylabel('True Charge')\n",
    "plt.show()"
   ]
  },
  {
   "cell_type": "code",
   "execution_count": 16,
   "metadata": {},
   "outputs": [
    {
     "data": {
      "image/png": "[encoded data removed]",
      "text/plain": [
       "<Figure size 800x600 with 2 Axes>"
      ]
     },
     "metadata": {},
     "output_type": "display_data"
    }
   ],
   "source": [
    "# Generate confusion matrix for random predictor\n",
    "conf_matrix = confusion_matrix(processed_data['charge_by_max_intensity'], processed_data['random_prediction'])\n",
    "plt.figure(figsize=(8, 6))\n",
    "sns.heatmap(conf_matrix, annot=True, fmt='d', cmap='viridis', xticklabels=charges, yticklabels=charges)\n",
    "plt.title('Confusion Matrix')\n",
    "plt.xlabel('Predicted Charge')\n",
    "plt.ylabel('True Charge')\n",
    "plt.show()"
   ]
  }
 ],
 "metadata": {
  "kernelspec": {
   "display_name": "Python 3",
   "language": "python",
   "name": "python3"
  },
  "language_info": {
   "codemirror_mode": {
    "name": "ipython",
    "version": 3
   },
   "file_extension": ".py",
   "mimetype": "text/x-python",
   "name": "python",
   "nbconvert_exporter": "python",
   "pygments_lexer": "ipython3",
   "version": "3.1.undefined"
  }
 },
 "nbformat": 4,
 "nbformat_minor": 2
}
