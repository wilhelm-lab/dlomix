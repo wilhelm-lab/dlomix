{
 "cells": [
  {
   "cell_type": "code",
   "execution_count": 1,
   "id": "e875394b-3f3d-4179-b2ad-004ac33901c4",
   "metadata": {},
   "outputs": [
    {
     "name": "stderr",
     "output_type": "stream",
     "text": [
      "2024-07-25 15:23:26.902295: I tensorflow/core/util/port.cc:113] oneDNN custom operations are on. You may see slightly different numerical results due to floating-point round-off errors from different computation orders. To turn them off, set the environment variable `TF_ENABLE_ONEDNN_OPTS=0`.\n",
      "2024-07-25 15:23:26.921859: E external/local_xla/xla/stream_executor/cuda/cuda_dnn.cc:9261] Unable to register cuDNN factory: Attempting to register factory for plugin cuDNN when one has already been registered\n",
      "2024-07-25 15:23:26.921876: E external/local_xla/xla/stream_executor/cuda/cuda_fft.cc:607] Unable to register cuFFT factory: Attempting to register factory for plugin cuFFT when one has already been registered\n",
      "2024-07-25 15:23:26.922234: E external/local_xla/xla/stream_executor/cuda/cuda_blas.cc:1515] Unable to register cuBLAS factory: Attempting to register factory for plugin cuBLAS when one has already been registered\n",
      "2024-07-25 15:23:26.925409: I tensorflow/core/platform/cpu_feature_guard.cc:182] This TensorFlow binary is optimized to use available CPU instructions in performance-critical operations.\n",
      "To enable the following instructions: SSE4.1 SSE4.2 AVX AVX2 AVX_VNNI FMA, in other operations, rebuild TensorFlow with the appropriate compiler flags.\n"
     ]
    },
    {
     "name": "stdout",
     "output_type": "stream",
     "text": [
      "\n",
      "Avaliable feature extractors are (use the key of the following dict and pass it to features_to_extract in the Dataset Class):\n",
      "{\n",
      "   \"atom_count\": \"Atom count of PTM.\",\n",
      "   \"delta_mass\": \"Delta mass of PTM.\",\n",
      "   \"mod_gain\": \"Gain of atoms due to PTM.\",\n",
      "   \"mod_loss\": \"Loss of atoms due to PTM.\",\n",
      "   \"red_smiles\": \"Reduced SMILES representation of PTM.\"\n",
      "}.\n",
      "When writing your own feature extractor, you can either\n",
      "    (1) use the FeatureExtractor class or\n",
      "    (2) write a function that can be mapped to the Hugging Face dataset.\n",
      "In both cases, you can access the parsed sequence information from the dataset using the following keys, which all provide python lists:\n",
      "    - _parsed_sequence: parsed sequence\n",
      "    - _n_term_mods: N-terminal modifications\n",
      "    - _c_term_mods: C-terminal modifications\n",
      "\n"
     ]
    }
   ],
   "source": [
    "import pandas as pd\n",
    "import numpy as np\n",
    "\n",
    "from datasets import load_dataset\n",
    "from dlomix.models.chargestate import ChargeStateDistributionPredictor"
   ]
  },
  {
   "cell_type": "markdown",
   "id": "fa8a5cd4",
   "metadata": {},
   "source": [
    "## Load data from Huggingface"
   ]
  },
  {
   "cell_type": "code",
   "execution_count": 2,
   "id": "aef81bd4-cbb7-45c8-ac3b-e9b2f8b597f0",
   "metadata": {},
   "outputs": [],
   "source": [
    "dataset = load_dataset(\"Wilhelmlab/prospect-ptms-charge\")"
   ]
  },
  {
   "cell_type": "code",
   "execution_count": 3,
   "id": "983f43fa-5084-49d3-98f7-a7cfc167ed91",
   "metadata": {},
   "outputs": [
    {
     "data": {
      "text/plain": [
       "DatasetDict({\n",
       "    train: Dataset({\n",
       "        features: ['modified_sequence', 'raw_file', 'scan_number', 'package', 'most_abundant_charge_state', 'observed_charge_states', 'charge_state_dist'],\n",
       "        num_rows: 1142537\n",
       "    })\n",
       "    val: Dataset({\n",
       "        features: ['modified_sequence', 'raw_file', 'scan_number', 'package', 'most_abundant_charge_state', 'observed_charge_states', 'charge_state_dist'],\n",
       "        num_rows: 328072\n",
       "    })\n",
       "    test: Dataset({\n",
       "        features: ['modified_sequence', 'raw_file', 'scan_number', 'package', 'most_abundant_charge_state', 'observed_charge_states', 'charge_state_dist'],\n",
       "        num_rows: 161588\n",
       "    })\n",
       "})"
      ]
     },
     "execution_count": 3,
     "metadata": {},
     "output_type": "execute_result"
    }
   ],
   "source": [
    "dataset"
   ]
  },
  {
   "cell_type": "code",
   "execution_count": 4,
   "id": "47cf01bd",
   "metadata": {},
   "outputs": [
    {
     "data": {
      "application/vnd.jupyter.widget-view+json": {
       "model_id": "ec0ce118c5a84066b429d41ab55ada15",
       "version_major": 2,
       "version_minor": 0
      },
      "text/plain": [
       "Creating parquet from Arrow format:   0%|          | 0/1143 [00:00<?, ?ba/s]"
      ]
     },
     "metadata": {},
     "output_type": "display_data"
    },
    {
     "data": {
      "application/vnd.jupyter.widget-view+json": {
       "model_id": "57016e05056a4648a02742019ed96306",
       "version_major": 2,
       "version_minor": 0
      },
      "text/plain": [
       "Creating parquet from Arrow format:   0%|          | 0/329 [00:00<?, ?ba/s]"
      ]
     },
     "metadata": {},
     "output_type": "display_data"
    },
    {
     "data": {
      "application/vnd.jupyter.widget-view+json": {
       "model_id": "d9e5bf40794b4c21b6bfbdf43e3f2d89",
       "version_major": 2,
       "version_minor": 0
      },
      "text/plain": [
       "Creating parquet from Arrow format:   0%|          | 0/162 [00:00<?, ?ba/s]"
      ]
     },
     "metadata": {},
     "output_type": "display_data"
    },
    {
     "data": {
      "text/plain": [
       "108922584"
      ]
     },
     "execution_count": 4,
     "metadata": {},
     "output_type": "execute_result"
    }
   ],
   "source": [
    "dataset[\"train\"].to_parquet(\"train.parquet\")\n",
    "dataset[\"val\"].to_parquet(\"val.parquet\")\n",
    "dataset[\"test\"].to_parquet(\"test.parquet\")"
   ]
  },
  {
   "cell_type": "markdown",
   "id": "ce2eee0b",
   "metadata": {},
   "source": [
    "### Convert test set to pandas dataframe (only if manipulation is needed)"
   ]
  },
  {
   "cell_type": "code",
   "execution_count": 5,
   "id": "a06f3a7b-b327-4b1a-897c-f5da1e39f91d",
   "metadata": {},
   "outputs": [],
   "source": [
    "df = dataset[\"test\"].to_pandas()"
   ]
  },
  {
   "cell_type": "code",
   "execution_count": 6,
   "id": "1f98c8ec-9791-42c4-a7fa-0927412bbdfb",
   "metadata": {},
   "outputs": [
    {
     "data": {
      "text/html": [
       "<div>\n",
       "<style scoped>\n",
       "    .dataframe tbody tr th:only-of-type {\n",
       "        vertical-align: middle;\n",
       "    }\n",
       "\n",
       "    .dataframe tbody tr th {\n",
       "        vertical-align: top;\n",
       "    }\n",
       "\n",
       "    .dataframe thead th {\n",
       "        text-align: right;\n",
       "    }\n",
       "</style>\n",
       "<table border=\"1\" class=\"dataframe\">\n",
       "  <thead>\n",
       "    <tr style=\"text-align: right;\">\n",
       "      <th></th>\n",
       "      <th>modified_sequence</th>\n",
       "      <th>raw_file</th>\n",
       "      <th>scan_number</th>\n",
       "      <th>package</th>\n",
       "      <th>most_abundant_charge_state</th>\n",
       "      <th>observed_charge_states</th>\n",
       "      <th>charge_state_dist</th>\n",
       "    </tr>\n",
       "  </thead>\n",
       "  <tbody>\n",
       "    <tr>\n",
       "      <th>0</th>\n",
       "      <td>[UNIMOD:737]-YIHNILSI-[]</td>\n",
       "      <td>[02527_BA6-TMT_TUM_HLA_6_01_01-TMT1-1h-R1, 025...</td>\n",
       "      <td>[53707, 59458, 59518]</td>\n",
       "      <td>[TMT_TUM_HLA]</td>\n",
       "      <td>[0, 1, 0, 0, 0, 0]</td>\n",
       "      <td>[0, 1, 0, 0, 0, 0]</td>\n",
       "      <td>[0.0, 1.0, 0.0, 0.0, 0.0, 0.0]</td>\n",
       "    </tr>\n",
       "    <tr>\n",
       "      <th>1</th>\n",
       "      <td>[]-FHTPSNSYTAQR-[]</td>\n",
       "      <td>[02208a_GC3-TUM_second_addon_27_01_01-2xIT_2xH...</td>\n",
       "      <td>[13616, 13659, 13660, 13759, 13760, 13761, 138...</td>\n",
       "      <td>[TUM_second_addon]</td>\n",
       "      <td>[0, 0, 1, 0, 0, 0]</td>\n",
       "      <td>[0, 1, 1, 0, 0, 0]</td>\n",
       "      <td>[0.0, 0.18388216654438674, 0.8161178334556133,...</td>\n",
       "    </tr>\n",
       "    <tr>\n",
       "      <th>2</th>\n",
       "      <td>[]-IPGPEGQEVLC[UNIMOD:4]KQIK-[]</td>\n",
       "      <td>[01748a_BH4-TUM_second_pool_66_01_01-2xIT_2xHC...</td>\n",
       "      <td>[21369, 21370, 21371, 21397, 21398, 21399, 214...</td>\n",
       "      <td>[TUM_second_pool]</td>\n",
       "      <td>[0, 0, 1, 0, 0, 0]</td>\n",
       "      <td>[0, 1, 1, 0, 0, 0]</td>\n",
       "      <td>[0.0, 0.03440733446425485, 0.9655926655357452,...</td>\n",
       "    </tr>\n",
       "    <tr>\n",
       "      <th>3</th>\n",
       "      <td>[]-TGQK[UNIMOD:1]VALKK-[]</td>\n",
       "      <td>[02195a_GA4-TUM_mod_acetylated_4_01_01-DDA-1h-...</td>\n",
       "      <td>[9811, 9913, 9914, 10066, 10067]</td>\n",
       "      <td>[TUM_mod_acetylated]</td>\n",
       "      <td>[0, 1, 0, 0, 0, 0]</td>\n",
       "      <td>[0, 1, 0, 0, 0, 0]</td>\n",
       "      <td>[0.0, 1.0, 0.0, 0.0, 0.0, 0.0]</td>\n",
       "    </tr>\n",
       "    <tr>\n",
       "      <th>4</th>\n",
       "      <td>[]-ATLC[UNIMOD:4]C[UNIMOD:4]ARPEPR-[]</td>\n",
       "      <td>[01717a_BF3-TUM_second_pool_34_01_01-2xIT_2xHC...</td>\n",
       "      <td>[8995, 8996, 8997, 9041, 9042, 9043, 9300, 935...</td>\n",
       "      <td>[TUM_second_pool]</td>\n",
       "      <td>[0, 0, 1, 0, 0, 0]</td>\n",
       "      <td>[0, 1, 1, 0, 0, 0]</td>\n",
       "      <td>[0.0, 0.007387597915967662, 0.9926124020840323...</td>\n",
       "    </tr>\n",
       "  </tbody>\n",
       "</table>\n",
       "</div>"
      ],
      "text/plain": [
       "                       modified_sequence  \\\n",
       "0               [UNIMOD:737]-YIHNILSI-[]   \n",
       "1                     []-FHTPSNSYTAQR-[]   \n",
       "2        []-IPGPEGQEVLC[UNIMOD:4]KQIK-[]   \n",
       "3              []-TGQK[UNIMOD:1]VALKK-[]   \n",
       "4  []-ATLC[UNIMOD:4]C[UNIMOD:4]ARPEPR-[]   \n",
       "\n",
       "                                            raw_file  \\\n",
       "0  [02527_BA6-TMT_TUM_HLA_6_01_01-TMT1-1h-R1, 025...   \n",
       "1  [02208a_GC3-TUM_second_addon_27_01_01-2xIT_2xH...   \n",
       "2  [01748a_BH4-TUM_second_pool_66_01_01-2xIT_2xHC...   \n",
       "3  [02195a_GA4-TUM_mod_acetylated_4_01_01-DDA-1h-...   \n",
       "4  [01717a_BF3-TUM_second_pool_34_01_01-2xIT_2xHC...   \n",
       "\n",
       "                                         scan_number               package  \\\n",
       "0                              [53707, 59458, 59518]         [TMT_TUM_HLA]   \n",
       "1  [13616, 13659, 13660, 13759, 13760, 13761, 138...    [TUM_second_addon]   \n",
       "2  [21369, 21370, 21371, 21397, 21398, 21399, 214...     [TUM_second_pool]   \n",
       "3                   [9811, 9913, 9914, 10066, 10067]  [TUM_mod_acetylated]   \n",
       "4  [8995, 8996, 8997, 9041, 9042, 9043, 9300, 935...     [TUM_second_pool]   \n",
       "\n",
       "  most_abundant_charge_state observed_charge_states  \\\n",
       "0         [0, 1, 0, 0, 0, 0]     [0, 1, 0, 0, 0, 0]   \n",
       "1         [0, 0, 1, 0, 0, 0]     [0, 1, 1, 0, 0, 0]   \n",
       "2         [0, 0, 1, 0, 0, 0]     [0, 1, 1, 0, 0, 0]   \n",
       "3         [0, 1, 0, 0, 0, 0]     [0, 1, 0, 0, 0, 0]   \n",
       "4         [0, 0, 1, 0, 0, 0]     [0, 1, 1, 0, 0, 0]   \n",
       "\n",
       "                                   charge_state_dist  \n",
       "0                     [0.0, 1.0, 0.0, 0.0, 0.0, 0.0]  \n",
       "1  [0.0, 0.18388216654438674, 0.8161178334556133,...  \n",
       "2  [0.0, 0.03440733446425485, 0.9655926655357452,...  \n",
       "3                     [0.0, 1.0, 0.0, 0.0, 0.0, 0.0]  \n",
       "4  [0.0, 0.007387597915967662, 0.9926124020840323...  "
      ]
     },
     "execution_count": 6,
     "metadata": {},
     "output_type": "execute_result"
    }
   ],
   "source": [
    "df.head()"
   ]
  },
  {
   "cell_type": "markdown",
   "id": "0cb77685",
   "metadata": {},
   "source": [
    "## Create dataset"
   ]
  },
  {
   "cell_type": "code",
   "execution_count": 7,
   "id": "6a43a6dc",
   "metadata": {},
   "outputs": [],
   "source": [
    "from dlomix.data.charge_state import ChargeStateDataset\n",
    "from dlomix.constants import PTMS_ALPHABET"
   ]
  },
  {
   "cell_type": "code",
   "execution_count": 8,
   "id": "91d69194",
   "metadata": {},
   "outputs": [
    {
     "data": {
      "application/vnd.jupyter.widget-view+json": {
       "model_id": "008dbb901a4c42d9811870336ab51603",
       "version_major": 2,
       "version_minor": 0
      },
      "text/plain": [
       "Generating train split: 0 examples [00:00, ? examples/s]"
      ]
     },
     "metadata": {},
     "output_type": "display_data"
    },
    {
     "data": {
      "application/vnd.jupyter.widget-view+json": {
       "model_id": "2e5d5e1808a440ad9b64658898276bfb",
       "version_major": 2,
       "version_minor": 0
      },
      "text/plain": [
       "Generating val split: 0 examples [00:00, ? examples/s]"
      ]
     },
     "metadata": {},
     "output_type": "display_data"
    },
    {
     "data": {
      "application/vnd.jupyter.widget-view+json": {
       "model_id": "aea700a4d63043bab4b008e0fefc027a",
       "version_major": 2,
       "version_minor": 0
      },
      "text/plain": [
       "Generating test split: 0 examples [00:00, ? examples/s]"
      ]
     },
     "metadata": {},
     "output_type": "display_data"
    },
    {
     "name": "stderr",
     "output_type": "stream",
     "text": [
      "/mnt/c/Users/Florian/Desktop/Uni/MSc/FoPr/dlomix/src/dlomix/data/dataset.py:282: UserWarning: \n",
      "                Multiple data sources or a single non-train data source provided {'train': 'train.parquet', 'val': 'val.parquet', 'test': 'test.parquet'}, please ensure that the data sources are already split into train, val and test sets\n",
      "                since no splitting will happen. If not, please provide only one data_source and set the val_ratio to split the data into train and val sets.\"\n",
      "                \n",
      "  warnings.warn(\n"
     ]
    },
    {
     "data": {
      "application/vnd.jupyter.widget-view+json": {
       "model_id": "2a3df8ce96fb42d19fdc7fadbb45522b",
       "version_major": 2,
       "version_minor": 0
      },
      "text/plain": [
       "Mapping SequenceParsingProcessor:   0%|          | 0/1142537 [00:00<?, ? examples/s]"
      ]
     },
     "metadata": {},
     "output_type": "display_data"
    },
    {
     "data": {
      "application/vnd.jupyter.widget-view+json": {
       "model_id": "2bea9bf7ed5f4d01ac5cf89f05b0a592",
       "version_major": 2,
       "version_minor": 0
      },
      "text/plain": [
       "Mapping SequenceParsingProcessor:   0%|          | 0/328072 [00:00<?, ? examples/s]"
      ]
     },
     "metadata": {},
     "output_type": "display_data"
    },
    {
     "data": {
      "application/vnd.jupyter.widget-view+json": {
       "model_id": "34949e1bfc6d49cab04e38b072eaafc2",
       "version_major": 2,
       "version_minor": 0
      },
      "text/plain": [
       "Mapping SequenceParsingProcessor:   0%|          | 0/161588 [00:00<?, ? examples/s]"
      ]
     },
     "metadata": {},
     "output_type": "display_data"
    },
    {
     "data": {
      "application/vnd.jupyter.widget-view+json": {
       "model_id": "78323af2a7314f508456a22ece7f7adb",
       "version_major": 2,
       "version_minor": 0
      },
      "text/plain": [
       "Mapping SequenceEncodingProcessor:   0%|          | 0/1142537 [00:00<?, ? examples/s]"
      ]
     },
     "metadata": {},
     "output_type": "display_data"
    },
    {
     "data": {
      "application/vnd.jupyter.widget-view+json": {
       "model_id": "7a15223aff994da6b9662e1175097203",
       "version_major": 2,
       "version_minor": 0
      },
      "text/plain": [
       "Mapping SequenceEncodingProcessor:   0%|          | 0/328072 [00:00<?, ? examples/s]"
      ]
     },
     "metadata": {},
     "output_type": "display_data"
    },
    {
     "data": {
      "application/vnd.jupyter.widget-view+json": {
       "model_id": "d61cbe852fcc466cbef8b00c4df92376",
       "version_major": 2,
       "version_minor": 0
      },
      "text/plain": [
       "Mapping SequenceEncodingProcessor:   0%|          | 0/161588 [00:00<?, ? examples/s]"
      ]
     },
     "metadata": {},
     "output_type": "display_data"
    },
    {
     "data": {
      "application/vnd.jupyter.widget-view+json": {
       "model_id": "b1af6e4d8cbe46449c7b676f3e109eed",
       "version_major": 2,
       "version_minor": 0
      },
      "text/plain": [
       "Mapping SequencePaddingProcessor:   0%|          | 0/1142537 [00:00<?, ? examples/s]"
      ]
     },
     "metadata": {},
     "output_type": "display_data"
    },
    {
     "data": {
      "application/vnd.jupyter.widget-view+json": {
       "model_id": "563df42b7b06409683617abf5e52d6be",
       "version_major": 2,
       "version_minor": 0
      },
      "text/plain": [
       "Mapping SequencePaddingProcessor:   0%|          | 0/328072 [00:00<?, ? examples/s]"
      ]
     },
     "metadata": {},
     "output_type": "display_data"
    },
    {
     "data": {
      "application/vnd.jupyter.widget-view+json": {
       "model_id": "8d2dcc4976ef4993bbc6c3e513aab043",
       "version_major": 2,
       "version_minor": 0
      },
      "text/plain": [
       "Mapping SequencePaddingProcessor:   0%|          | 0/161588 [00:00<?, ? examples/s]"
      ]
     },
     "metadata": {},
     "output_type": "display_data"
    },
    {
     "data": {
      "application/vnd.jupyter.widget-view+json": {
       "model_id": "8e80a07637954938a32ffa197f4250bd",
       "version_major": 2,
       "version_minor": 0
      },
      "text/plain": [
       "Filter:   0%|          | 0/1142537 [00:00<?, ? examples/s]"
      ]
     },
     "metadata": {},
     "output_type": "display_data"
    },
    {
     "data": {
      "application/vnd.jupyter.widget-view+json": {
       "model_id": "5a76231d2f7a4a1d9245a6cc11163c6c",
       "version_major": 2,
       "version_minor": 0
      },
      "text/plain": [
       "Filter:   0%|          | 0/328072 [00:00<?, ? examples/s]"
      ]
     },
     "metadata": {},
     "output_type": "display_data"
    }
   ],
   "source": [
    "data = ChargeStateDataset(data_source=\"train.parquet\", val_data_source=\"val.parquet\", test_data_source=\"test.parquet\", sequence_column=\"modified_sequence\", label_column=\"charge_state_dist\", pad=True, padding_value=0, alphabet=PTMS_ALPHABET, encoding_scheme=\"naive-mods\")"
   ]
  },
  {
   "cell_type": "markdown",
   "id": "f05ed4e7",
   "metadata": {},
   "source": [
    "## Create model"
   ]
  },
  {
   "cell_type": "code",
   "execution_count": 9,
   "id": "b87d9f14",
   "metadata": {},
   "outputs": [],
   "source": [
    "from tensorflow.keras.optimizers import Adam"
   ]
  },
  {
   "cell_type": "code",
   "execution_count": 10,
   "id": "04ef3817-6f98-4e1d-86e3-479c8c8252ff",
   "metadata": {},
   "outputs": [
    {
     "name": "stderr",
     "output_type": "stream",
     "text": [
      "2024-07-25 15:24:07.919253: I external/local_xla/xla/stream_executor/cuda/cuda_executor.cc:887] could not open file to read NUMA node: /sys/bus/pci/devices/0000:01:00.0/numa_node\n",
      "Your kernel may have been built without NUMA support.\n",
      "2024-07-25 15:24:07.932712: I external/local_xla/xla/stream_executor/cuda/cuda_executor.cc:887] could not open file to read NUMA node: /sys/bus/pci/devices/0000:01:00.0/numa_node\n",
      "Your kernel may have been built without NUMA support.\n",
      "2024-07-25 15:24:07.932745: I external/local_xla/xla/stream_executor/cuda/cuda_executor.cc:887] could not open file to read NUMA node: /sys/bus/pci/devices/0000:01:00.0/numa_node\n",
      "Your kernel may have been built without NUMA support.\n",
      "2024-07-25 15:24:07.935219: I external/local_xla/xla/stream_executor/cuda/cuda_executor.cc:887] could not open file to read NUMA node: /sys/bus/pci/devices/0000:01:00.0/numa_node\n",
      "Your kernel may have been built without NUMA support.\n",
      "2024-07-25 15:24:07.935248: I external/local_xla/xla/stream_executor/cuda/cuda_executor.cc:887] could not open file to read NUMA node: /sys/bus/pci/devices/0000:01:00.0/numa_node\n",
      "Your kernel may have been built without NUMA support.\n",
      "2024-07-25 15:24:07.935264: I external/local_xla/xla/stream_executor/cuda/cuda_executor.cc:887] could not open file to read NUMA node: /sys/bus/pci/devices/0000:01:00.0/numa_node\n",
      "Your kernel may have been built without NUMA support.\n",
      "2024-07-25 15:24:08.082956: I external/local_xla/xla/stream_executor/cuda/cuda_executor.cc:887] could not open file to read NUMA node: /sys/bus/pci/devices/0000:01:00.0/numa_node\n",
      "Your kernel may have been built without NUMA support.\n",
      "2024-07-25 15:24:08.082995: I external/local_xla/xla/stream_executor/cuda/cuda_executor.cc:887] could not open file to read NUMA node: /sys/bus/pci/devices/0000:01:00.0/numa_node\n",
      "Your kernel may have been built without NUMA support.\n",
      "2024-07-25 15:24:08.083000: I tensorflow/core/common_runtime/gpu/gpu_device.cc:2022] Could not identify NUMA node of platform GPU id 0, defaulting to 0.  Your kernel may not have been built with NUMA support.\n",
      "2024-07-25 15:24:08.083022: I external/local_xla/xla/stream_executor/cuda/cuda_executor.cc:887] could not open file to read NUMA node: /sys/bus/pci/devices/0000:01:00.0/numa_node\n",
      "Your kernel may have been built without NUMA support.\n",
      "2024-07-25 15:24:08.083034: I tensorflow/core/common_runtime/gpu/gpu_device.cc:1929] Created device /job:localhost/replica:0/task:0/device:GPU:0 with 6701 MB memory:  -> device: 0, name: NVIDIA GeForce GTX 1080, pci bus id: 0000:01:00.0, compute capability: 6.1\n"
     ]
    }
   ],
   "source": [
    "optimizer = Adam(learning_rate=0.0001)"
   ]
  },
  {
   "cell_type": "code",
   "execution_count": 11,
   "id": "9662b240",
   "metadata": {},
   "outputs": [],
   "source": [
    "charge_distribution_model = ChargeStateDistributionPredictor(seq_length=30, vocab_dict=PTMS_ALPHABET)\n",
    "charge_distribution_model.compile(optimizer=optimizer, loss='mean_absolute_error')"
   ]
  },
  {
   "cell_type": "markdown",
   "id": "0b9149df",
   "metadata": {},
   "source": [
    "## Train model"
   ]
  },
  {
   "cell_type": "code",
   "execution_count": 12,
   "id": "a50afb28",
   "metadata": {},
   "outputs": [
    {
     "name": "stdout",
     "output_type": "stream",
     "text": [
      "Epoch 1/5\n"
     ]
    },
    {
     "name": "stderr",
     "output_type": "stream",
     "text": [
      "/root/miniforge3/envs/pcp_env/lib/python3.11/site-packages/datasets/arrow_dataset.py:410: FutureWarning: The output of `to_tf_dataset` will change when a passing single element list for `labels` or `columns` in the next datasets version. To return a tuple structure rather than dict, pass a single string.\n",
      "Old behaviour: columns=['a'], labels=['labels'] -> (tf.Tensor, tf.Tensor)  \n",
      "             : columns='a', labels='labels' -> (tf.Tensor, tf.Tensor)  \n",
      "New behaviour: columns=['a'],labels=['labels'] -> ({'a': tf.Tensor}, {'labels': tf.Tensor})  \n",
      "             : columns='a', labels='labels' -> (tf.Tensor, tf.Tensor) \n",
      "  warnings.warn(\n",
      "/root/miniforge3/envs/pcp_env/lib/python3.11/site-packages/datasets/utils/tf_utils.py:131: RuntimeWarning: invalid value encountered in cast\n",
      "  array = array.astype(cast_dtype)\n",
      "2024-07-25 15:24:10.891685: I external/local_xla/xla/stream_executor/cuda/cuda_dnn.cc:454] Loaded cuDNN version 8907\n",
      "2024-07-25 15:24:11.325924: I external/local_xla/xla/service/service.cc:168] XLA service 0x7ff3349bf9f0 initialized for platform CUDA (this does not guarantee that XLA will be used). Devices:\n",
      "2024-07-25 15:24:11.325950: I external/local_xla/xla/service/service.cc:176]   StreamExecutor device (0): NVIDIA GeForce GTX 1080, Compute Capability 6.1\n",
      "2024-07-25 15:24:11.328665: I tensorflow/compiler/mlir/tensorflow/utils/dump_mlir_util.cc:269] disabling MLIR crash reproducer, set env var `MLIR_CRASH_REPRODUCER_DIRECTORY` to enable.\n",
      "WARNING: All log messages before absl::InitializeLog() is called are written to STDERR\n",
      "I0000 00:00:1721913851.366044  141139 device_compiler.h:186] Compiled cluster using XLA!  This line is logged at most once for the lifetime of the process.\n"
     ]
    },
    {
     "name": "stdout",
     "output_type": "stream",
     "text": [
      "4446/4446 [==============================] - 187s 41ms/step - loss: 0.0529 - val_loss: 0.0350\n",
      "Epoch 2/5\n",
      "3321/4446 [=====================>........] - ETA: 41s - loss: 0.0347"
     ]
    }
   ],
   "source": [
    "charge_distribution_model_history = charge_distribution_model.fit(\n",
    "    data.tensor_train_data, \n",
    "    validation_data=data.tensor_val_data,\n",
    "    epochs=5,\n",
    ")"
   ]
  },
  {
   "cell_type": "markdown",
   "id": "8eef5a2f",
   "metadata": {},
   "source": [
    "### Train History"
   ]
  },
  {
   "cell_type": "code",
   "execution_count": null,
   "id": "0c64b6f0",
   "metadata": {},
   "outputs": [],
   "source": [
    "import matplotlib.pyplot as plt"
   ]
  },
  {
   "cell_type": "code",
   "execution_count": null,
   "id": "d79c27ad",
   "metadata": {},
   "outputs": [],
   "source": [
    "def plot_learning_curves(history, title='Learning Curves'):\n",
    "    history_dict = history.history\n",
    "    loss = history_dict['loss']\n",
    "    val_loss = history_dict.get('val_loss', [])\n",
    "    \n",
    "    epochs = range(1, len(loss) + 1)\n",
    "    \n",
    "    plt.figure(figsize=(8, 5))\n",
    "    plt.plot(epochs, loss, 'b-', label='Training Loss')\n",
    "    if val_loss:\n",
    "        plt.plot(epochs, val_loss, 'r-', label='Validation Loss')\n",
    "    plt.title(title)\n",
    "    plt.xlabel('Epochs')\n",
    "    plt.ylabel('Loss')\n",
    "    plt.legend()\n",
    "    plt.show()"
   ]
  },
  {
   "cell_type": "code",
   "execution_count": null,
   "id": "4b86f321",
   "metadata": {},
   "outputs": [
    {
     "data": {
      "image/png": "[encoded data removed]",
      "text/plain": [
       "<Figure size 1800x600 with 3 Axes>"
      ]
     },
     "metadata": {},
     "output_type": "display_data"
    }
   ],
   "source": [
    "plot_learning_curves(charge_distribution_model_history, title='Charge State Distribution Model')"
   ]
  }
 ],
 "metadata": {
  "kernelspec": {
   "display_name": "Python 3 (ipykernel)",
   "language": "python",
   "name": "python3"
  },
  "language_info": {
   "codemirror_mode": {
    "name": "ipython",
    "version": 3
   },
   "file_extension": ".py",
   "mimetype": "text/x-python",
   "name": "python",
   "nbconvert_exporter": "python",
   "pygments_lexer": "ipython3",
   "version": "3.11.8"
  }
 },
 "nbformat": 4,
 "nbformat_minor": 5
}
