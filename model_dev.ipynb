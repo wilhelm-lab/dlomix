{
 "cells": [
  {
   "cell_type": "markdown",
   "metadata": {},
   "source": [
    "### Autoreload"
   ]
  },
  {
   "cell_type": "code",
   "execution_count": 81,
   "metadata": {},
   "outputs": [
    {
     "name": "stdout",
     "output_type": "stream",
     "text": [
      "The autoreload extension is already loaded. To reload it, use:\n",
      "  %reload_ext autoreload\n"
     ]
    }
   ],
   "source": [
    "%load_ext autoreload\n",
    "%autoreload 2"
   ]
  },
  {
   "cell_type": "markdown",
   "metadata": {},
   "source": [
    "### Imports"
   ]
  },
  {
   "cell_type": "code",
   "execution_count": 82,
   "metadata": {},
   "outputs": [],
   "source": [
    "# Task models\n",
    "from dlomix.models.chargestate import DominantChargeStatePredictor\n",
    "from dlomix.models.chargestate import ObservedChargeStatePredictor\n",
    "# Test models\n",
    "from dlomix.models.experimental_chargestate import LSTMTest\n",
    "from dlomix.models.experimental_chargestate import LayerTestChargePredictor\n",
    "# Constants\n",
    "from dlomix.constants import ALPHABET_UNMOD\n",
    "# libraries\n",
    "from sklearn.model_selection import train_test_split\n",
    "import matplotlib.pyplot as plt\n",
    "import tensorflow as tf\n",
    "import pandas as pd \n",
    "import numpy as np "
   ]
  },
  {
   "cell_type": "markdown",
   "metadata": {},
   "source": [
    "### Create dummy data"
   ]
  },
  {
   "cell_type": "code",
   "execution_count": 83,
   "metadata": {},
   "outputs": [],
   "source": [
    "# read in parquet file\n",
    "df = pd.read_parquet('../data/TUM_third_pool_meta_data.parquet')"
   ]
  },
  {
   "cell_type": "code",
   "execution_count": 84,
   "metadata": {},
   "outputs": [],
   "source": [
    "# remove UNIMOD sequences\n",
    "df = df[~df.modified_sequence.str.contains('UNIMOD')]"
   ]
  },
  {
   "cell_type": "code",
   "execution_count": 85,
   "metadata": {},
   "outputs": [],
   "source": [
    "# randomly sample 10,000 rows\n",
    "df = df.sample(10000)"
   ]
  },
  {
   "cell_type": "code",
   "execution_count": 86,
   "metadata": {},
   "outputs": [],
   "source": [
    "# encode the sequences\n",
    "df.modified_sequence = df.modified_sequence.apply(list).apply(lambda x: np.array([ALPHABET_UNMOD[aa] for aa in x]))"
   ]
  },
  {
   "cell_type": "code",
   "execution_count": 87,
   "metadata": {},
   "outputs": [
    {
     "data": {
      "text/plain": [
       "32"
      ]
     },
     "execution_count": 87,
     "metadata": {},
     "output_type": "execute_result"
    }
   ],
   "source": [
    "# determine the maximum sequence length in the dummy-dataset\n",
    "max_len = df.modified_sequence.apply(len).max()\n",
    "max_len"
   ]
  },
  {
   "cell_type": "code",
   "execution_count": 88,
   "metadata": {},
   "outputs": [],
   "source": [
    "# pad sequences to max length with 0s\n",
    "df.modified_sequence = df.modified_sequence.apply(lambda x: np.pad(x, (0, max_len - len(x)), constant_values=0))"
   ]
  },
  {
   "cell_type": "code",
   "execution_count": 89,
   "metadata": {},
   "outputs": [],
   "source": [
    "# drop all column exept modified_sequence and precursor_charge\n",
    "df = df[['modified_sequence', 'precursor_charge']]"
   ]
  },
  {
   "cell_type": "code",
   "execution_count": 90,
   "metadata": {},
   "outputs": [],
   "source": [
    "# Split into features and labels\n",
    "X = np.array(df.modified_sequence.to_list())\n",
    "y = df['precursor_charge'].values\n",
    "\n",
    "# Split into training and validation sets\n",
    "x_train, x_val, y_train, y_val = train_test_split(X, y, test_size=0.2, random_state=42)"
   ]
  },
  {
   "cell_type": "code",
   "execution_count": 91,
   "metadata": {},
   "outputs": [],
   "source": [
    "# x_train = np.array(df.modified_sequence.to_list())"
   ]
  },
  {
   "cell_type": "markdown",
   "metadata": {
    "notebookRunGroups": {
     "groupValue": "1"
    }
   },
   "source": [
    "### Create model objects"
   ]
  },
  {
   "cell_type": "code",
   "execution_count": 92,
   "metadata": {},
   "outputs": [],
   "source": [
    "majority_model = DominantChargeStatePredictor()\n",
    "majority_model.compile(optimizer='adam', loss='sparse_categorical_crossentropy', metrics=['accuracy'])"
   ]
  },
  {
   "cell_type": "code",
   "execution_count": 93,
   "metadata": {},
   "outputs": [],
   "source": [
    "observed_model = ObservedChargeStatePredictor()\n",
    "observed_model.compile(optimizer='adam', loss='sparse_categorical_crossentropy', metrics=['accuracy'])"
   ]
  },
  {
   "cell_type": "code",
   "execution_count": 94,
   "metadata": {},
   "outputs": [],
   "source": [
    "lstm_model_test = LSTMTest()\n",
    "lstm_model_test.compile(optimizer='adam', loss='sparse_categorical_crossentropy', metrics=['accuracy'])"
   ]
  },
  {
   "cell_type": "code",
   "execution_count": 95,
   "metadata": {},
   "outputs": [],
   "source": [
    "all_of_it_test_model = LayerTestChargePredictor(seq_length=max_len)\n",
    "all_of_it_test_model.compile(optimizer='adam', loss='sparse_categorical_crossentropy', metrics=['accuracy'])"
   ]
  },
  {
   "cell_type": "markdown",
   "metadata": {},
   "source": [
    "### Train models on dummy data"
   ]
  },
  {
   "cell_type": "code",
   "execution_count": 96,
   "metadata": {},
   "outputs": [],
   "source": [
    "# regularisation: early stopping\n",
    "from tensorflow.keras.callbacks import EarlyStopping\n",
    "early_stopping = EarlyStopping(monitor='val_loss', patience=10, verbose=1, mode='min', restore_best_weights=True)"
   ]
  },
  {
   "cell_type": "code",
   "execution_count": 97,
   "metadata": {},
   "outputs": [
    {
     "name": "stdout",
     "output_type": "stream",
     "text": [
      "Epoch 1/100\n",
      "250/250 [==============================] - 1s 1ms/step - loss: 0.9149 - accuracy: 0.5936 - val_loss: 0.6972 - val_accuracy: 0.6695\n",
      "Epoch 2/100\n",
      "250/250 [==============================] - 0s 835us/step - loss: 0.6084 - accuracy: 0.7070 - val_loss: 0.5245 - val_accuracy: 0.7390\n",
      "Epoch 3/100\n",
      "250/250 [==============================] - 0s 846us/step - loss: 0.4948 - accuracy: 0.7611 - val_loss: 0.4649 - val_accuracy: 0.7815\n",
      "Epoch 4/100\n",
      "250/250 [==============================] - 0s 843us/step - loss: 0.4445 - accuracy: 0.7931 - val_loss: 0.4774 - val_accuracy: 0.7915\n",
      "Epoch 5/100\n",
      "250/250 [==============================] - 0s 834us/step - loss: 0.4220 - accuracy: 0.8055 - val_loss: 0.4344 - val_accuracy: 0.7880\n",
      "Epoch 6/100\n",
      "250/250 [==============================] - 0s 862us/step - loss: 0.4069 - accuracy: 0.8105 - val_loss: 0.4256 - val_accuracy: 0.7910\n",
      "Epoch 7/100\n",
      "250/250 [==============================] - 0s 834us/step - loss: 0.3955 - accuracy: 0.8180 - val_loss: 0.4353 - val_accuracy: 0.7745\n",
      "Epoch 8/100\n",
      "250/250 [==============================] - 0s 844us/step - loss: 0.3841 - accuracy: 0.8224 - val_loss: 0.4427 - val_accuracy: 0.7780\n",
      "Epoch 9/100\n",
      "250/250 [==============================] - 0s 834us/step - loss: 0.3834 - accuracy: 0.8229 - val_loss: 0.4176 - val_accuracy: 0.8085\n",
      "Epoch 10/100\n",
      "250/250 [==============================] - 0s 828us/step - loss: 0.3748 - accuracy: 0.8259 - val_loss: 0.4193 - val_accuracy: 0.7920\n",
      "Epoch 11/100\n",
      "250/250 [==============================] - 0s 846us/step - loss: 0.3688 - accuracy: 0.8264 - val_loss: 0.4177 - val_accuracy: 0.7915\n",
      "Epoch 12/100\n",
      "250/250 [==============================] - 0s 843us/step - loss: 0.3635 - accuracy: 0.8319 - val_loss: 0.4280 - val_accuracy: 0.7785\n",
      "Epoch 13/100\n",
      "250/250 [==============================] - 0s 875us/step - loss: 0.3586 - accuracy: 0.8359 - val_loss: 0.4173 - val_accuracy: 0.8055\n",
      "Epoch 14/100\n",
      "250/250 [==============================] - 0s 843us/step - loss: 0.3615 - accuracy: 0.8316 - val_loss: 0.4073 - val_accuracy: 0.8045\n",
      "Epoch 15/100\n",
      "250/250 [==============================] - 0s 850us/step - loss: 0.3513 - accuracy: 0.8324 - val_loss: 0.4178 - val_accuracy: 0.7925\n",
      "Epoch 16/100\n",
      "250/250 [==============================] - 0s 868us/step - loss: 0.3492 - accuracy: 0.8363 - val_loss: 0.4198 - val_accuracy: 0.7925\n",
      "Epoch 17/100\n",
      "250/250 [==============================] - 0s 883us/step - loss: 0.3449 - accuracy: 0.8386 - val_loss: 0.4319 - val_accuracy: 0.7860\n",
      "Epoch 18/100\n",
      "250/250 [==============================] - 0s 935us/step - loss: 0.3417 - accuracy: 0.8370 - val_loss: 0.4166 - val_accuracy: 0.8010\n",
      "Epoch 19/100\n",
      "250/250 [==============================] - 0s 848us/step - loss: 0.3394 - accuracy: 0.8404 - val_loss: 0.4179 - val_accuracy: 0.7945\n",
      "Epoch 20/100\n",
      "250/250 [==============================] - 0s 849us/step - loss: 0.3371 - accuracy: 0.8438 - val_loss: 0.4132 - val_accuracy: 0.8040\n",
      "Epoch 21/100\n",
      "250/250 [==============================] - 0s 853us/step - loss: 0.3351 - accuracy: 0.8430 - val_loss: 0.4285 - val_accuracy: 0.7965\n",
      "Epoch 22/100\n",
      "250/250 [==============================] - 0s 863us/step - loss: 0.3316 - accuracy: 0.8411 - val_loss: 0.4132 - val_accuracy: 0.8030\n",
      "Epoch 23/100\n",
      "250/250 [==============================] - 0s 859us/step - loss: 0.3300 - accuracy: 0.8439 - val_loss: 0.4144 - val_accuracy: 0.8160\n",
      "Epoch 24/100\n",
      "230/250 [==========================>...] - ETA: 0s - loss: 0.3311 - accuracy: 0.8433Restoring model weights from the end of the best epoch: 14.\n",
      "250/250 [==============================] - 0s 857us/step - loss: 0.3277 - accuracy: 0.8445 - val_loss: 0.4141 - val_accuracy: 0.8085\n",
      "Epoch 24: early stopping\n"
     ]
    }
   ],
   "source": [
    "# test if training works for majority model\n",
    "history_1 = majority_model.fit(x_train, y_train,epochs=100, batch_size=32, validation_data=(x_val, y_val), callbacks=[early_stopping])"
   ]
  },
  {
   "cell_type": "code",
   "execution_count": 98,
   "metadata": {},
   "outputs": [
    {
     "name": "stdout",
     "output_type": "stream",
     "text": [
      "Epoch 1/10\n",
      "250/250 [==============================] - 1s 1ms/step - loss: 0.9146 - accuracy: 0.6026 - val_loss: 0.6964 - val_accuracy: 0.6670\n",
      "Epoch 2/10\n",
      "250/250 [==============================] - 0s 756us/step - loss: 0.6113 - accuracy: 0.7120 - val_loss: 0.5276 - val_accuracy: 0.7495\n",
      "Epoch 3/10\n",
      "250/250 [==============================] - 0s 761us/step - loss: 0.4931 - accuracy: 0.7655 - val_loss: 0.4807 - val_accuracy: 0.7905\n",
      "Epoch 4/10\n",
      "250/250 [==============================] - 0s 765us/step - loss: 0.4455 - accuracy: 0.7928 - val_loss: 0.4430 - val_accuracy: 0.8015\n",
      "Epoch 5/10\n",
      "250/250 [==============================] - 0s 757us/step - loss: 0.4275 - accuracy: 0.8025 - val_loss: 0.4430 - val_accuracy: 0.7780\n",
      "Epoch 6/10\n",
      "250/250 [==============================] - 0s 748us/step - loss: 0.4135 - accuracy: 0.8106 - val_loss: 0.4385 - val_accuracy: 0.7905\n",
      "Epoch 7/10\n",
      "250/250 [==============================] - 0s 803us/step - loss: 0.4064 - accuracy: 0.8115 - val_loss: 0.4703 - val_accuracy: 0.7615\n",
      "Epoch 8/10\n",
      "250/250 [==============================] - 0s 751us/step - loss: 0.3960 - accuracy: 0.8149 - val_loss: 0.4303 - val_accuracy: 0.7835\n",
      "Epoch 9/10\n",
      "250/250 [==============================] - 0s 762us/step - loss: 0.3895 - accuracy: 0.8207 - val_loss: 0.4366 - val_accuracy: 0.7935\n",
      "Epoch 10/10\n",
      "250/250 [==============================] - 0s 746us/step - loss: 0.3848 - accuracy: 0.8248 - val_loss: 0.4253 - val_accuracy: 0.7810\n"
     ]
    }
   ],
   "source": [
    "# test if training works for observed model\n",
    "history_2 = observed_model.fit(x_train, y_train,epochs=10, batch_size=32, validation_data=(x_val, y_val), callbacks=[early_stopping])"
   ]
  },
  {
   "cell_type": "code",
   "execution_count": 99,
   "metadata": {},
   "outputs": [],
   "source": [
    "# Adjusting precursor charge -- HACK --\n",
    "df['adjusted_precursor_charge'] = df.precursor_charge - 1"
   ]
  },
  {
   "cell_type": "code",
   "execution_count": 100,
   "metadata": {},
   "outputs": [
    {
     "name": "stdout",
     "output_type": "stream",
     "text": [
      "Epoch 1/10\n",
      "250/250 [==============================] - 5s 9ms/step - loss: 0.7314 - accuracy: 0.6520 - val_loss: 0.4913 - val_accuracy: 0.7690\n",
      "Epoch 2/10\n",
      "250/250 [==============================] - 2s 7ms/step - loss: 0.4848 - accuracy: 0.7594 - val_loss: 0.4524 - val_accuracy: 0.7695\n",
      "Epoch 3/10\n",
      "250/250 [==============================] - 2s 7ms/step - loss: 0.4544 - accuracy: 0.7689 - val_loss: 0.4456 - val_accuracy: 0.7945\n",
      "Epoch 4/10\n",
      "250/250 [==============================] - 2s 7ms/step - loss: 0.4366 - accuracy: 0.7841 - val_loss: 0.4277 - val_accuracy: 0.7955\n",
      "Epoch 5/10\n",
      "250/250 [==============================] - 2s 7ms/step - loss: 0.4392 - accuracy: 0.7809 - val_loss: 0.4882 - val_accuracy: 0.7805\n",
      "Epoch 6/10\n",
      "250/250 [==============================] - 2s 7ms/step - loss: 0.4233 - accuracy: 0.7919 - val_loss: 0.4308 - val_accuracy: 0.7880\n",
      "Epoch 7/10\n",
      "250/250 [==============================] - 2s 8ms/step - loss: 0.4207 - accuracy: 0.7928 - val_loss: 0.4317 - val_accuracy: 0.7940\n",
      "Epoch 8/10\n",
      "250/250 [==============================] - 2s 7ms/step - loss: 0.4097 - accuracy: 0.7961 - val_loss: 0.4453 - val_accuracy: 0.7830\n",
      "Epoch 9/10\n",
      "250/250 [==============================] - 2s 7ms/step - loss: 0.4039 - accuracy: 0.8015 - val_loss: 0.4315 - val_accuracy: 0.7855\n",
      "Epoch 10/10\n",
      "250/250 [==============================] - 2s 7ms/step - loss: 0.4012 - accuracy: 0.8011 - val_loss: 0.4158 - val_accuracy: 0.7870\n"
     ]
    }
   ],
   "source": [
    "history_3 = lstm_model_test.fit(x_train, y_train,epochs=10, batch_size=32, validation_data=(x_val, y_val), callbacks=[early_stopping])"
   ]
  },
  {
   "cell_type": "code",
   "execution_count": 101,
   "metadata": {},
   "outputs": [],
   "source": [
    "# WIP - not working\n",
    "# history_4 = all_of_it_test_model.fit(x_train, y_train,epochs=10, batch_size=32, validation_data=(x_val, y_val), callbacks=[early_stopping])"
   ]
  },
  {
   "cell_type": "markdown",
   "metadata": {},
   "source": [
    "### Reporting"
   ]
  },
  {
   "cell_type": "code",
   "execution_count": 102,
   "metadata": {},
   "outputs": [],
   "source": [
    "def plot_learning_curves(history, title='Learning Curves'):\n",
    "    \"\"\"Plot the learning curves for training and validation loss and accuracy. \n",
    "    Args:\n",
    "    - history: Return value from model.fit().\n",
    "    - title (optional): Base title for the plots. It will be appended with \"Loss\" and \"Accuracy\" for the respective plots.\n",
    "    \"\"\"\n",
    "    history_dict = history.history\n",
    "    loss = history_dict['loss']\n",
    "    val_loss = history_dict.get('val_loss', [])\n",
    "    \n",
    "    epochs = range(1, len(loss) + 1)\n",
    "    \n",
    "    # Dynamically find accuracy keys in history_dict\n",
    "    accuracy_key = next((key for key in history_dict.keys() if 'acc' in key and not key.startswith('val_')), None)\n",
    "    val_accuracy_key = next((key for key in history_dict.keys() if 'acc' in key and key.startswith('val_')), None)\n",
    "    \n",
    "    # Create subplots\n",
    "    fig, (ax1, ax2) = plt.subplots(1, 2, figsize=(12, 6))\n",
    "    \n",
    "    # Plot training and validation loss\n",
    "    ax1.plot(epochs, loss, 'b', label='Training Loss')\n",
    "    if val_loss:\n",
    "        ax1.plot(epochs, val_loss, 'r', label='Validation Loss')\n",
    "    ax1.set_title(f'{title} - Loss')\n",
    "    ax1.set_xlabel('Epochs')\n",
    "    ax1.set_ylabel('Loss')\n",
    "    ax1.legend()\n",
    "    \n",
    "    # Plot training and validation accuracy if keys exist\n",
    "    if accuracy_key and val_accuracy_key:\n",
    "        accuracy = history_dict[accuracy_key]\n",
    "        val_accuracy = history_dict[val_accuracy_key]\n",
    "        ax2.plot(epochs, accuracy, 'b', label='Training Accuracy')\n",
    "        ax2.plot(epochs, val_accuracy, 'r', label='Validation Accuracy')\n",
    "        ax2.set_title(f'{title} - Accuracy')\n",
    "        ax2.set_xlabel('Epochs')\n",
    "        ax2.set_ylabel('Accuracy')\n",
    "        ax2.legend()\n",
    "    else:\n",
    "        ax2.set_title(f'{title} - Accuracy Not Available')\n",
    "        ax2.set_xlabel('Epochs')\n",
    "        ax2.set_ylabel('Accuracy')\n",
    "        ax2.text(0.5, 0.5, 'Accuracy data not found in history', horizontalalignment='center', verticalalignment='center', transform=ax2.transAxes)\n",
    "    \n",
    "    plt.tight_layout()\n",
    "    plt.show()"
   ]
  },
  {
   "cell_type": "code",
   "execution_count": 103,
   "metadata": {},
   "outputs": [
    {
     "data": {
      "image/png": "[encoded data removed]",
      "text/plain": [
       "<Figure size 1200x600 with 2 Axes>"
      ]
     },
     "metadata": {},
     "output_type": "display_data"
    }
   ],
   "source": [
    "plot_learning_curves(history_2, title='Majority Model')"
   ]
  },
  {
   "cell_type": "code",
   "execution_count": null,
   "metadata": {},
   "outputs": [],
   "source": []
  }
 ],
 "metadata": {
  "kernelspec": {
   "display_name": "Python 3 (ipykernel)",
   "language": "python",
   "name": "python3"
  },
  "language_info": {
   "codemirror_mode": {
    "name": "ipython",
    "version": 3
   },
   "file_extension": ".py",
   "mimetype": "text/x-python",
   "name": "python",
   "nbconvert_exporter": "python",
   "pygments_lexer": "ipython3",
   "version": "3.1.0"
  }
 },
 "nbformat": 4,
 "nbformat_minor": 4
}
