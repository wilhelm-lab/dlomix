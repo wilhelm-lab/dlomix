{
 "cells": [
  {
   "cell_type": "markdown",
   "metadata": {
    "id": "7YWkUVjVr7qJ"
   },
   "source": [
    "# Retention Time Prediction - Weights & Biases\n",
    "\n",
    "This notebook is prepared to be run in Google [Colaboratory](https://colab.research.google.com/). In order to train the model faster, please change the runtime of Colab to use Hardware Accelerator, either GPU or TPU."
   ]
  },
  {
   "cell_type": "markdown",
   "metadata": {
    "id": "S3DlTOq3r7qM"
   },
   "source": [
    "This notebook presents a short walkthrough the process of reading a dataset and training a model for retention time prediction. The dataset is an example dataset extracted from a ProteomTools dataset generated in the **Chair of Bioanalytics** at the **School of Life Sciences** at the **Technical University of Munich**.\n",
    "\n",
    "The framework being used is a custom wrapper on top of Keras/TensorFlow. The working name of the package is for now DLOmix -  `dlomix`.\n",
    "\n",
    "This notebook illustrates briefly how to integrate [Weights and Biases](https://wandb.ai/) to track your experiments."
   ]
  },
  {
   "cell_type": "code",
   "execution_count": null,
   "metadata": {
    "colab": {
     "base_uri": "https://localhost:8080/"
    },
    "id": "aO-69zbKsGey",
    "outputId": "c2064411-9f80-47e6-ca5b-312d547e0f6a",
    "scrolled": true
   },
   "outputs": [],
   "source": [
    "# install the DLOmix package in the current environment using pip\n",
    "\n",
    "!python -m pip install -q dlomix[wandb]==0.1.0"
   ]
  },
  {
   "cell_type": "code",
   "execution_count": 1,
   "metadata": {},
   "outputs": [],
   "source": [
    "\n",
    "# install wandb separately via pip if did not use the extra install in the previous step\n",
    "#!python -m pip install wandb"
   ]
  },
  {
   "cell_type": "markdown",
   "metadata": {
    "id": "Mo7H9qzWr7qN"
   },
   "source": [
    "The available modules in the framework are as follows:"
   ]
  },
  {
   "cell_type": "code",
   "execution_count": 2,
   "metadata": {
    "colab": {
     "base_uri": "https://localhost:8080/"
    },
    "id": "l0CS0tFur7qN",
    "outputId": "664e0978-980a-4254-90d1-61e9f1603234"
   },
   "outputs": [
    {
     "name": "stdout",
     "output_type": "stream",
     "text": [
      "\n",
      "Avaliable feature extractors are (use the key of the following dict and pass it to features_to_extract in the Dataset Class):\n",
      "{\n",
      "   \"atom_count\": \"Atom count of PTM.\",\n",
      "   \"delta_mass\": \"Delta mass of PTM.\",\n",
      "   \"mod_gain\": \"Gain of atoms due to PTM.\",\n",
      "   \"mod_loss\": \"Loss of atoms due to PTM.\"\n",
      "}.\n",
      "When writing your own feature extractor, you can either\n",
      "    (1) use the FeatureExtractor class or\n",
      "    (2) write a function that can be mapped to the Hugging Face dataset.\n",
      "In both cases, you can access the parsed sequence information from the dataset using the following keys, which all provide python lists:\n",
      "    - _parsed_sequence: parsed sequence\n",
      "    - _n_term_mods: N-terminal modifications\n",
      "    - _c_term_mods: C-terminal modifications\n",
      "\n"
     ]
    },
    {
     "name": "stderr",
     "output_type": "stream",
     "text": [
      "2024-04-23 19:08:22.738543: I metal_plugin/src/device/metal_device.cc:1154] Metal device set to: Apple M1 Max\n",
      "2024-04-23 19:08:22.738566: I metal_plugin/src/device/metal_device.cc:296] systemMemory: 32.00 GB\n",
      "2024-04-23 19:08:22.738571: I metal_plugin/src/device/metal_device.cc:313] maxCacheSize: 10.67 GB\n",
      "2024-04-23 19:08:22.738606: I tensorflow/core/common_runtime/pluggable_device/pluggable_device_factory.cc:306] Could not identify NUMA node of platform GPU ID 0, defaulting to 0. Your kernel may not have been built with NUMA support.\n",
      "2024-04-23 19:08:22.738619: I tensorflow/core/common_runtime/pluggable_device/pluggable_device_factory.cc:272] Created TensorFlow device (/job:localhost/replica:0/task:0/device:GPU:0 with 0 MB memory) -> physical PluggableDevice (device: 0, name: METAL, pci bus id: <undefined>)\n",
      "\u001b[34m\u001b[1mwandb\u001b[0m: \u001b[33mWARNING\u001b[0m The v1 API is deprecated and will be removed in a future release.  Please move to v2 by setting the env var WANDB_REPORT_API_ENABLE_V2=True.  This will be on by default in a future release.\n",
      "\u001b[34m\u001b[1mwandb\u001b[0m: \u001b[33mWARNING\u001b[0m You can disable this message by setting the env var WANDB_REPORT_API_DISABLE_MESSAGE=True\n"
     ]
    },
    {
     "name": "stdout",
     "output_type": "stream",
     "text": [
      "['META_DATA', 'constants', 'data', 'eval', 'layers', 'losses', 'models', 'pipelines', 'reports', 'utils']\n"
     ]
    }
   ],
   "source": [
    "import numpy as np\n",
    "import pandas as pd\n",
    "import dlomix\n",
    "from dlomix import constants, data, eval, layers, models, pipelines, reports, utils\n",
    "print([x for x in dir(dlomix) if not x.startswith(\"_\")])"
   ]
  },
  {
   "cell_type": "markdown",
   "metadata": {
    "id": "JsgPZb_Mr7qP"
   },
   "source": [
    "- `constants`: constants to be used in the framework (e.g. Aminoacid alphabet mapping)\n",
    "- `data`:  classes for representing dataset, wrappers around TensorFlow Dataset\n",
    "- `eval`: custom evaluation metrics implemented in Keras/TF to work as `metrics` for model training\n",
    "- `layers`: custom layer implementation required for the different models\n",
    "- `models`: different model implementations for Retention Time Prediction\n",
    "- `pipelines`: complete pipelines to run a task (e.g. Retention Time prediction)\n",
    "- `utils`: helper modules\n",
    "\n",
    "**Note**: reports and pipelines are work-in-progress, some funtionalities are not complete."
   ]
  },
  {
   "cell_type": "markdown",
   "metadata": {},
   "source": [
    "## 0. Import and Initialize Weights and Biases"
   ]
  },
  {
   "cell_type": "code",
   "execution_count": 3,
   "metadata": {},
   "outputs": [],
   "source": [
    "# import wandb and the Keras Callback\n",
    "\n",
    "import wandb\n",
    "from wandb.keras import WandbCallback"
   ]
  },
  {
   "cell_type": "code",
   "execution_count": 4,
   "metadata": {},
   "outputs": [
    {
     "name": "stderr",
     "output_type": "stream",
     "text": [
      "\u001b[34m\u001b[1mwandb\u001b[0m: Currently logged in as: \u001b[33mshouman\u001b[0m. Use \u001b[1m`wandb login --relogin`\u001b[0m to force relogin\n"
     ]
    },
    {
     "data": {
      "text/html": [
       "wandb version 0.16.6 is available!  To upgrade, please run:\n",
       " $ pip install wandb --upgrade"
      ],
      "text/plain": [
       "<IPython.core.display.HTML object>"
      ]
     },
     "metadata": {},
     "output_type": "display_data"
    },
    {
     "data": {
      "text/html": [
       "Tracking run with wandb version 0.16.4"
      ],
      "text/plain": [
       "<IPython.core.display.HTML object>"
      ]
     },
     "metadata": {},
     "output_type": "display_data"
    },
    {
     "data": {
      "text/html": [
       "Run data is saved locally in <code>/Users/Omar/Documents/VSCode_repos/dlomix/dlomix/notebooks/wandb/run-20240423_190830-r8ey9xmp</code>"
      ],
      "text/plain": [
       "<IPython.core.display.HTML object>"
      ]
     },
     "metadata": {},
     "output_type": "display_data"
    },
    {
     "data": {
      "text/html": [
       "Syncing run <strong><a href='https://wandb.ai/shouman/retention%20time%20sample%20run/runs/r8ey9xmp' target=\"_blank\">noble-blaze-7</a></strong> to <a href='https://wandb.ai/shouman/retention%20time%20sample%20run' target=\"_blank\">Weights & Biases</a> (<a href='https://wandb.me/run' target=\"_blank\">docs</a>)<br/>"
      ],
      "text/plain": [
       "<IPython.core.display.HTML object>"
      ]
     },
     "metadata": {},
     "output_type": "display_data"
    },
    {
     "data": {
      "text/html": [
       " View project at <a href='https://wandb.ai/shouman/retention%20time%20sample%20run' target=\"_blank\">https://wandb.ai/shouman/retention%20time%20sample%20run</a>"
      ],
      "text/plain": [
       "<IPython.core.display.HTML object>"
      ]
     },
     "metadata": {},
     "output_type": "display_data"
    },
    {
     "data": {
      "text/html": [
       " View run at <a href='https://wandb.ai/shouman/retention%20time%20sample%20run/runs/r8ey9xmp' target=\"_blank\">https://wandb.ai/shouman/retention%20time%20sample%20run/runs/r8ey9xmp</a>"
      ],
      "text/plain": [
       "<IPython.core.display.HTML object>"
      ]
     },
     "metadata": {},
     "output_type": "display_data"
    },
    {
     "data": {
      "text/html": [
       "<button onClick=\"this.nextSibling.style.display='block';this.style.display='none';\">Display W&B run</button><iframe src='https://wandb.ai/shouman/retention%20time%20sample%20run/runs/r8ey9xmp?jupyter=true' style='border:none;width:100%;height:420px;display:none;'></iframe>"
      ],
      "text/plain": [
       "<wandb.sdk.wandb_run.Run at 0x356106590>"
      ]
     },
     "execution_count": 4,
     "metadata": {},
     "output_type": "execute_result"
    }
   ],
   "source": [
    "# enter project name\n",
    "project_name = 'retention time sample run'\n",
    "wandb.init(project=project_name)"
   ]
  },
  {
   "cell_type": "markdown",
   "metadata": {
    "id": "41qXroyKr7qP"
   },
   "source": [
    "## 1. Load Data\n",
    "\n",
    "We can import the dataset class and create an object of type `RetentionTimeDataset`. This object wraps around a Hugging Face dataset that can generate TensorFlow Dataset objects or Torch Dataset for training, validation, or testing. This can be controlled by the arguments `val_ratio`, `val_data_source`, and `test_data_source`."
   ]
  },
  {
   "cell_type": "code",
   "execution_count": 5,
   "metadata": {
    "id": "RiXz_epEr7qQ"
   },
   "outputs": [],
   "source": [
    "from dlomix.data import RetentionTimeDataset"
   ]
  },
  {
   "cell_type": "code",
   "execution_count": 7,
   "metadata": {
    "id": "lzNXJ-s6r7qQ"
   },
   "outputs": [
    {
     "name": "stderr",
     "output_type": "stream",
     "text": [
      "/Users/Omar/Documents/VSCode_repos/dlomix/dlomix/src/dlomix/data/dataset.py:229: UserWarning: Encoding scheme is EncodingScheme.UNMOD, this enforces removing all occurences of PTMs in the sequences.\n",
      "If you prefer to encode the (amino-acids)+PTM combinations as tokens in the vocabulary, please use the encoding scheme 'naive-mods'.\n",
      "\n",
      "  warnings.warn(\n"
     ]
    },
    {
     "data": {
      "application/vnd.jupyter.widget-view+json": {
       "model_id": "05554e1d158a41acb667e29b70f060ab",
       "version_major": 2,
       "version_minor": 0
      },
      "text/plain": [
       "Mapping SequenceParsingProcessor (num_proc=10):   0%|          | 0/27200 [00:00<?, ? examples/s]"
      ]
     },
     "metadata": {},
     "output_type": "display_data"
    },
    {
     "data": {
      "application/vnd.jupyter.widget-view+json": {
       "model_id": "fb58059756c64f6480ae93df276049c0",
       "version_major": 2,
       "version_minor": 0
      },
      "text/plain": [
       "Mapping SequenceParsingProcessor (num_proc=10):   0%|          | 0/6800 [00:00<?, ? examples/s]"
      ]
     },
     "metadata": {},
     "output_type": "display_data"
    },
    {
     "data": {
      "application/vnd.jupyter.widget-view+json": {
       "model_id": "f621c0678a944ba99b32f950820217e0",
       "version_major": 2,
       "version_minor": 0
      },
      "text/plain": [
       "Mapping SequencePTMRemovalProcessor (num_proc=10):   0%|          | 0/27200 [00:00<?, ? examples/s]"
      ]
     },
     "metadata": {},
     "output_type": "display_data"
    },
    {
     "data": {
      "application/vnd.jupyter.widget-view+json": {
       "model_id": "88903762e04b4594ad1c036681a423d3",
       "version_major": 2,
       "version_minor": 0
      },
      "text/plain": [
       "Mapping SequencePTMRemovalProcessor (num_proc=10):   0%|          | 0/6800 [00:00<?, ? examples/s]"
      ]
     },
     "metadata": {},
     "output_type": "display_data"
    },
    {
     "data": {
      "application/vnd.jupyter.widget-view+json": {
       "model_id": "f49170bef66f4f918b0f2bf49cee2713",
       "version_major": 2,
       "version_minor": 0
      },
      "text/plain": [
       "Mapping SequenceEncodingProcessor (num_proc=10):   0%|          | 0/27200 [00:00<?, ? examples/s]"
      ]
     },
     "metadata": {},
     "output_type": "display_data"
    },
    {
     "data": {
      "application/vnd.jupyter.widget-view+json": {
       "model_id": "d767bfdaa0814aa1bdef336e43be5c80",
       "version_major": 2,
       "version_minor": 0
      },
      "text/plain": [
       "Mapping SequenceEncodingProcessor (num_proc=10):   0%|          | 0/6800 [00:00<?, ? examples/s]"
      ]
     },
     "metadata": {},
     "output_type": "display_data"
    },
    {
     "data": {
      "application/vnd.jupyter.widget-view+json": {
       "model_id": "a75fa8b9076343ba80aa286eb56b2826",
       "version_major": 2,
       "version_minor": 0
      },
      "text/plain": [
       "Mapping SequencePaddingProcessor (num_proc=10):   0%|          | 0/27200 [00:00<?, ? examples/s]"
      ]
     },
     "metadata": {},
     "output_type": "display_data"
    },
    {
     "data": {
      "application/vnd.jupyter.widget-view+json": {
       "model_id": "739ed409e52747409e15148114044a3e",
       "version_major": 2,
       "version_minor": 0
      },
      "text/plain": [
       "Mapping SequencePaddingProcessor (num_proc=10):   0%|          | 0/6800 [00:00<?, ? examples/s]"
      ]
     },
     "metadata": {},
     "output_type": "display_data"
    },
    {
     "data": {
      "application/vnd.jupyter.widget-view+json": {
       "model_id": "b6cc05eec42943c3a1aad8af87beee8c",
       "version_major": 2,
       "version_minor": 0
      },
      "text/plain": [
       "Filter (num_proc=10):   0%|          | 0/27200 [00:00<?, ? examples/s]"
      ]
     },
     "metadata": {},
     "output_type": "display_data"
    },
    {
     "data": {
      "application/vnd.jupyter.widget-view+json": {
       "model_id": "819dad61aeec495f91bbcbb237d6d0a5",
       "version_major": 2,
       "version_minor": 0
      },
      "text/plain": [
       "Filter (num_proc=10):   0%|          | 0/6800 [00:00<?, ? examples/s]"
      ]
     },
     "metadata": {},
     "output_type": "display_data"
    }
   ],
   "source": [
    "TRAIN_DATAPATH = 'https://raw.githubusercontent.com/wilhelm-lab/dlomix/develop/example_dataset/proteomTools_train_val.csv'\n",
    "BATCH_SIZE = 64\n",
    "\n",
    "rtdata = RetentionTimeDataset(data_source=TRAIN_DATAPATH,\n",
    "                              sequence_column=\"sequence\",\n",
    "                              label_column=\"irt\",\n",
    "                              data_format=\"csv\",\n",
    "                              max_seq_len=30, batch_size=BATCH_SIZE, val_ratio=0.2)"
   ]
  },
  {
   "cell_type": "markdown",
   "metadata": {
    "id": "_UUzvcHGr7qR"
   },
   "source": [
    "Now we have an RT dataset that can be used directly with standard or custom `Keras` models. This wrapper contains the splits we chose when creating it. In our case, they are training and validation splits. To get the TF Dataset, we call the attributes `.tensor_rain_data` and `.tensor_val_data`."
   ]
  },
  {
   "cell_type": "code",
   "execution_count": 8,
   "metadata": {},
   "outputs": [
    {
     "data": {
      "text/plain": [
       "('Hugging Face Dataset',\n",
       " DatasetDict({\n",
       "     train: Dataset({\n",
       "         features: ['sequence', 'irt', '_parsed_sequence', '_n_term_mods', '_c_term_mods'],\n",
       "         num_rows: 26946\n",
       "     })\n",
       "     val: Dataset({\n",
       "         features: ['sequence', 'irt', '_parsed_sequence', '_n_term_mods', '_c_term_mods'],\n",
       "         num_rows: 6725\n",
       "     })\n",
       " }))"
      ]
     },
     "execution_count": 8,
     "metadata": {},
     "output_type": "execute_result"
    }
   ],
   "source": [
    "\"Hugging Face Dataset\", rtdata"
   ]
  },
  {
   "cell_type": "code",
   "execution_count": 9,
   "metadata": {
    "colab": {
     "base_uri": "https://localhost:8080/"
    },
    "id": "y1l6YedCr7qS",
    "outputId": "72576b1a-698d-4632-c398-9e7d1bf8942e"
   },
   "outputs": [
    {
     "data": {
      "text/plain": [
       "('Training examples', 26946)"
      ]
     },
     "execution_count": 9,
     "metadata": {},
     "output_type": "execute_result"
    }
   ],
   "source": [
    " \"Training examples\", len(rtdata[\"train\"])"
   ]
  },
  {
   "cell_type": "code",
   "execution_count": 10,
   "metadata": {
    "colab": {
     "base_uri": "https://localhost:8080/"
    },
    "id": "uEnVWjtRr7qT",
    "outputId": "4a8de4e3-2857-4c6c-d939-c79d72e8313a"
   },
   "outputs": [
    {
     "data": {
      "text/plain": [
       "('Training examples', 6725)"
      ]
     },
     "execution_count": 10,
     "metadata": {},
     "output_type": "execute_result"
    }
   ],
   "source": [
    " \"Training examples\", len(rtdata[\"val\"])"
   ]
  },
  {
   "cell_type": "code",
   "execution_count": 11,
   "metadata": {},
   "outputs": [],
   "source": [
    "# if needed, add config params to wandb.config\n",
    "\n",
    "config = wandb.config\n",
    "\n",
    "config.seq_length = 30\n",
    "config.batch_size = BATCH_SIZE\n",
    "config.val_ratio = 0.2"
   ]
  },
  {
   "cell_type": "markdown",
   "metadata": {
    "id": "oWeVi0iar7qT"
   },
   "source": [
    "## 2. Model\n",
    "\n",
    "We can now create the model. We will use a simple Prediction with a conv1D encoder. It has the default working arguments, but most of the parameters can be customized.\n",
    "\n",
    "**Note**: Important is to ensure that the padding length used for the dataset object is equal to the sequence length passed to the model."
   ]
  },
  {
   "cell_type": "code",
   "execution_count": 12,
   "metadata": {
    "id": "Q8SGTvfRr7qT"
   },
   "outputs": [],
   "source": [
    "from dlomix.models import RetentionTimePredictor"
   ]
  },
  {
   "cell_type": "code",
   "execution_count": 13,
   "metadata": {
    "id": "ZqrsF6APr7qU"
   },
   "outputs": [],
   "source": [
    "model = RetentionTimePredictor(seq_length=30)"
   ]
  },
  {
   "cell_type": "markdown",
   "metadata": {
    "id": "adD60VwQr7qU"
   },
   "source": [
    "## 3. Training\n",
    "\n",
    "We can then train the model like a standard Keras model. The training parameters here are from Prosit, but other optimizer parameters can be used.  "
   ]
  },
  {
   "cell_type": "code",
   "execution_count": 14,
   "metadata": {
    "id": "IkPIHuWEr7qU"
   },
   "outputs": [],
   "source": [
    "#imports\n",
    "\n",
    "from dlomix.eval import TimeDeltaMetric"
   ]
  },
  {
   "cell_type": "code",
   "execution_count": 15,
   "metadata": {
    "colab": {
     "base_uri": "https://localhost:8080/"
    },
    "id": "xLy32wk7r7qU",
    "outputId": "34f9961e-1abc-4f8f-904c-7aac4a404241"
   },
   "outputs": [],
   "source": [
    "# compile the model  with the optimizer and the metrics we want to use, we can add our custom timedelta metric\n",
    "\n",
    "# you can also import tensorflow and build your custom optimizer object and pass it\n",
    "\n",
    "model.compile(optimizer='adam', \n",
    "              loss='mse',\n",
    "              metrics=[TimeDeltaMetric()])"
   ]
  },
  {
   "cell_type": "code",
   "execution_count": 16,
   "metadata": {},
   "outputs": [],
   "source": [
    "# add more parameters to config as per need\n",
    "\n",
    "config.lr = 0.0001\n",
    "config.optimizer = \"adam\""
   ]
  },
  {
   "cell_type": "markdown",
   "metadata": {
    "id": "wtEUn_vdr7qV"
   },
   "source": [
    "We store the result of training so that we can explore the metrics and the losses later. We can pass the attributes `tensor_train_data` and `tensor_val_data`, where each returns the corresponding TensorFlow Dataset object.\n",
    "\n",
    "At this point in a script or a notebook, the Callback for WandB is passed to `model.fit()` or similar functions accepting Callbacks (`model.fit_generator()`). \n",
    "\n",
    "Note that the warning is due to the choice of save format for the model, the arguments for the WandbCallback can be passed per preference and need. The documentation for `WandbCallback()` is available here: https://docs.wandb.ai/ref/python/integrations/keras/wandbcallback"
   ]
  },
  {
   "cell_type": "code",
   "execution_count": 17,
   "metadata": {
    "colab": {
     "base_uri": "https://localhost:8080/"
    },
    "id": "E14EcoYTr7qV",
    "outputId": "9c88b2d5-e1cb-46b4-e263-73468e222554",
    "scrolled": true
   },
   "outputs": [
    {
     "name": "stderr",
     "output_type": "stream",
     "text": [
      "/Users/Omar/miniconda3/envs/dlx/lib/python3.11/site-packages/datasets/arrow_dataset.py:401: FutureWarning: The output of `to_tf_dataset` will change when a passing single element list for `labels` or `columns` in the next datasets version. To return a tuple structure rather than dict, pass a single string.\n",
      "Old behaviour: columns=['a'], labels=['labels'] -> (tf.Tensor, tf.Tensor)  \n",
      "             : columns='a', labels='labels' -> (tf.Tensor, tf.Tensor)  \n",
      "New behaviour: columns=['a'],labels=['labels'] -> ({'a': tf.Tensor}, {'labels': tf.Tensor})  \n",
      "             : columns='a', labels='labels' -> (tf.Tensor, tf.Tensor) \n",
      "  warnings.warn(\n",
      "\u001b[34m\u001b[1mwandb\u001b[0m: \u001b[33mWARNING\u001b[0m The save_model argument by default saves the model in the HDF5 format that cannot save custom objects like subclassed models and custom layers. This behavior will be deprecated in a future release in favor of the SavedModel format. Meanwhile, the HDF5 model is saved as W&B files and the SavedModel as W&B Artifacts.\n"
     ]
    },
    {
     "name": "stdout",
     "output_type": "stream",
     "text": [
      "Epoch 1/5\n"
     ]
    },
    {
     "name": "stderr",
     "output_type": "stream",
     "text": [
      "2024-04-23 19:11:51.333565: I tensorflow/core/grappler/optimizers/custom_graph_optimizer_registry.cc:117] Plugin optimizer for device_type GPU is enabled.\n"
     ]
    },
    {
     "name": "stdout",
     "output_type": "stream",
     "text": [
      "422/422 [==============================] - ETA: 0s - loss: 767.7523 - timedelta: 19.8593"
     ]
    },
    {
     "name": "stderr",
     "output_type": "stream",
     "text": [
      "/Users/Omar/miniconda3/envs/dlx/lib/python3.11/site-packages/keras/src/engine/training.py:3103: UserWarning: You are saving your model as an HDF5 file via `model.save()`. This file format is considered legacy. We recommend using instead the native Keras format, e.g. `model.save('my_model.keras')`.\n",
      "  saving_api.save_model(\n",
      "\u001b[34m\u001b[1mwandb\u001b[0m: \u001b[32m\u001b[41mERROR\u001b[0m Can't save model in the h5py format. The model will be saved as as an W&B Artifact in the 'tf' format.\n"
     ]
    },
    {
     "name": "stdout",
     "output_type": "stream",
     "text": [
      "INFO:tensorflow:Assets written to: /Users/Omar/Documents/VSCode_repos/dlomix/dlomix/notebooks/wandb/run-20240423_190830-r8ey9xmp/files/model-best/assets\n"
     ]
    },
    {
     "name": "stderr",
     "output_type": "stream",
     "text": [
      "INFO:tensorflow:Assets written to: /Users/Omar/Documents/VSCode_repos/dlomix/dlomix/notebooks/wandb/run-20240423_190830-r8ey9xmp/files/model-best/assets\n",
      "\u001b[34m\u001b[1mwandb\u001b[0m: Adding directory to artifact (/Users/Omar/Documents/VSCode_repos/dlomix/dlomix/notebooks/wandb/run-20240423_190830-r8ey9xmp/files/model-best)... Done. 0.0s\n"
     ]
    },
    {
     "name": "stdout",
     "output_type": "stream",
     "text": [
      "422/422 [==============================] - 10s 21ms/step - loss: 767.7523 - timedelta: 19.8593 - val_loss: 1094.8611 - val_timedelta: 24.4809\n",
      "Epoch 2/5\n",
      "418/422 [============================>.] - ETA: 0s - loss: 1187.8536 - timedelta: 24.9882"
     ]
    },
    {
     "name": "stderr",
     "output_type": "stream",
     "text": [
      "/Users/Omar/miniconda3/envs/dlx/lib/python3.11/site-packages/keras/src/engine/training.py:3103: UserWarning: You are saving your model as an HDF5 file via `model.save()`. This file format is considered legacy. We recommend using instead the native Keras format, e.g. `model.save('my_model.keras')`.\n",
      "  saving_api.save_model(\n",
      "\u001b[34m\u001b[1mwandb\u001b[0m: \u001b[32m\u001b[41mERROR\u001b[0m Can't save model in the h5py format. The model will be saved as as an W&B Artifact in the 'tf' format.\n"
     ]
    },
    {
     "name": "stdout",
     "output_type": "stream",
     "text": [
      "INFO:tensorflow:Assets written to: /Users/Omar/Documents/VSCode_repos/dlomix/dlomix/notebooks/wandb/run-20240423_190830-r8ey9xmp/files/model-best/assets\n"
     ]
    },
    {
     "name": "stderr",
     "output_type": "stream",
     "text": [
      "INFO:tensorflow:Assets written to: /Users/Omar/Documents/VSCode_repos/dlomix/dlomix/notebooks/wandb/run-20240423_190830-r8ey9xmp/files/model-best/assets\n",
      "\u001b[34m\u001b[1mwandb\u001b[0m: Adding directory to artifact (/Users/Omar/Documents/VSCode_repos/dlomix/dlomix/notebooks/wandb/run-20240423_190830-r8ey9xmp/files/model-best)... Done. 0.0s\n"
     ]
    },
    {
     "name": "stdout",
     "output_type": "stream",
     "text": [
      "422/422 [==============================] - 8s 18ms/step - loss: 1180.6051 - timedelta: 24.8506 - val_loss: 225.7094 - val_timedelta: 10.8429\n",
      "Epoch 3/5\n",
      "422/422 [==============================] - 5s 11ms/step - loss: 405.9193 - timedelta: 13.7104 - val_loss: 1304.5931 - val_timedelta: 30.3945\n",
      "Epoch 4/5\n",
      "422/422 [==============================] - 5s 11ms/step - loss: 3574.3494 - timedelta: 41.1188 - val_loss: 5373.3657 - val_timedelta: 45.5958\n",
      "Epoch 5/5\n",
      "422/422 [==============================] - 5s 11ms/step - loss: 5997.7612 - timedelta: 52.4927 - val_loss: 3465.9001 - val_timedelta: 41.1460\n"
     ]
    }
   ],
   "source": [
    "# here we pass the WandbCallback to model.fit\n",
    "\n",
    "history = model.fit(rtdata.tensor_train_data,\n",
    "                    validation_data=rtdata.tensor_val_data,\n",
    "                    epochs=5, callbacks=[WandbCallback()] )"
   ]
  },
  {
   "cell_type": "markdown",
   "metadata": {
    "id": "oukZ4AyMr7qV"
   },
   "source": [
    "## 3. Testing and Reporting\n",
    "\n",
    "We can create a test dataset to test our model. Additionally, we can use the reporting module to produce plots and evaluate the model.\n",
    "\n",
    "Note: the reporting module is still in progress and some functionalities might easily break."
   ]
  },
  {
   "cell_type": "code",
   "execution_count": 18,
   "metadata": {
    "id": "ngz4zlnwr7qV"
   },
   "outputs": [
    {
     "name": "stderr",
     "output_type": "stream",
     "text": [
      "/Users/Omar/Documents/VSCode_repos/dlomix/dlomix/src/dlomix/data/dataset.py:229: UserWarning: Encoding scheme is EncodingScheme.UNMOD, this enforces removing all occurences of PTMs in the sequences.\n",
      "If you prefer to encode the (amino-acids)+PTM combinations as tokens in the vocabulary, please use the encoding scheme 'naive-mods'.\n",
      "\n",
      "  warnings.warn(\n"
     ]
    }
   ],
   "source": [
    "# create the dataset object for test data\n",
    "\n",
    "TEST_DATAPATH = 'https://raw.githubusercontent.com/wilhelm-lab/dlomix/develop/example_dataset/proteomTools_test.csv'\n",
    "\n",
    "test_rtdata = RetentionTimeDataset(test_data_source=TEST_DATAPATH,\n",
    "                                   data_format=\"csv\",\n",
    "                                   sequence_column=\"sequence\",\n",
    "                                   label_column=\"irt\",\n",
    "                                   max_seq_len=30, batch_size=32)"
   ]
  },
  {
   "cell_type": "code",
   "execution_count": 19,
   "metadata": {
    "id": "RrvR8Cl3r7qV"
   },
   "outputs": [
    {
     "name": "stdout",
     "output_type": "stream",
     "text": [
      "  9/188 [>.............................] - ETA: 1s "
     ]
    },
    {
     "name": "stderr",
     "output_type": "stream",
     "text": [
      "/Users/Omar/miniconda3/envs/dlx/lib/python3.11/site-packages/datasets/arrow_dataset.py:401: FutureWarning: The output of `to_tf_dataset` will change when a passing single element list for `labels` or `columns` in the next datasets version. To return a tuple structure rather than dict, pass a single string.\n",
      "Old behaviour: columns=['a'], labels=['labels'] -> (tf.Tensor, tf.Tensor)  \n",
      "             : columns='a', labels='labels' -> (tf.Tensor, tf.Tensor)  \n",
      "New behaviour: columns=['a'],labels=['labels'] -> ({'a': tf.Tensor}, {'labels': tf.Tensor})  \n",
      "             : columns='a', labels='labels' -> (tf.Tensor, tf.Tensor) \n",
      "  warnings.warn(\n"
     ]
    },
    {
     "name": "stdout",
     "output_type": "stream",
     "text": [
      "188/188 [==============================] - 1s 4ms/step\n"
     ]
    }
   ],
   "source": [
    "# use model.predict from keras directly on the testdata\n",
    "\n",
    "predictions = model.predict(test_rtdata.tensor_test_data)\n",
    "\n",
    "# we use ravel from numpy to flatten the array (since it comes out as an array of arrays)\n",
    "predictions = predictions.ravel()"
   ]
  },
  {
   "cell_type": "code",
   "execution_count": 20,
   "metadata": {
    "id": "wKk7MD7Wr7qW"
   },
   "outputs": [],
   "source": [
    "# we can get the targets of a specific split to calcualte evaluation metrics against predictions\n",
    "# we access the underlying hugging face split named \"test\" in this case and access the label column \"irt\"\n",
    "\n",
    "test_targets = test_rtdata[\"test\"][\"irt\"]"
   ]
  },
  {
   "cell_type": "code",
   "execution_count": 21,
   "metadata": {
    "colab": {
     "base_uri": "https://localhost:8080/"
    },
    "id": "6UnLZTZ9r7qW",
    "outputId": "efbf06be-2c80-45c1-de76-ddb38dc14702"
   },
   "outputs": [
    {
     "data": {
      "text/plain": [
       "([160.872622163197,\n",
       "  -9.967313826645132,\n",
       "  1.63019650045838,\n",
       "  108.566268844221,\n",
       "  14.7686069632344],\n",
       " array([ 58.02431  ,  16.832903 , -21.786238 ,  40.697163 ,  -7.6358466],\n",
       "       dtype=float32))"
      ]
     },
     "execution_count": 21,
     "metadata": {},
     "output_type": "execute_result"
    }
   ],
   "source": [
    "test_targets[:5], predictions[:5]"
   ]
  },
  {
   "cell_type": "code",
   "execution_count": 22,
   "metadata": {
    "id": "4kzCh0gwr7qX"
   },
   "outputs": [],
   "source": [
    "from dlomix.reports import RetentionTimeReport"
   ]
  },
  {
   "cell_type": "code",
   "execution_count": 23,
   "metadata": {
    "id": "_7LJZ3TLr7qX"
   },
   "outputs": [
    {
     "name": "stderr",
     "output_type": "stream",
     "text": [
      "/var/folders/cc/ny50w1ls59q3_l6sr7l5h3r40000gp/T/ipykernel_24896/138508270.py:2: DeprecationWarning: RetentionTimeReport This class is deprecated and will not further developed. Use RetentionTimeReportWandb instead for creating a report with the Weights & Biases Report API.\n",
      "  report = RetentionTimeReport(output_path=\"./output\", history=history)\n"
     ]
    }
   ],
   "source": [
    "# create a report object by passing the history object and plot different metrics\n",
    "report = RetentionTimeReport(output_path=\"./output\", history=history)"
   ]
  },
  {
   "cell_type": "code",
   "execution_count": 24,
   "metadata": {
    "colab": {
     "base_uri": "https://localhost:8080/",
     "height": 295
    },
    "id": "1iI-_Nufr7qX",
    "outputId": "25baa9f5-1d5b-47ed-d75a-def6a55e43bc"
   },
   "outputs": [
    {
     "data": {
      "image/png": "[encoded data removed]",
      "text/plain": [
       "<Figure size 640x480 with 1 Axes>"
      ]
     },
     "metadata": {},
     "output_type": "display_data"
    }
   ],
   "source": [
    "report.plot_keras_metric(\"loss\")"
   ]
  },
  {
   "cell_type": "code",
   "execution_count": 26,
   "metadata": {
    "colab": {
     "base_uri": "https://localhost:8080/",
     "height": 295
    },
    "id": "0GBkd9WSr7qX",
    "outputId": "5055d608-9043-40a0-9735-a34c76964cb4"
   },
   "outputs": [
    {
     "data": {
      "image/png": "[encoded data removed]",
      "text/plain": [
       "<Figure size 640x480 with 1 Axes>"
      ]
     },
     "metadata": {},
     "output_type": "display_data"
    }
   ],
   "source": [
    "report.plot_keras_metric(\"timedelta\")"
   ]
  },
  {
   "cell_type": "code",
   "execution_count": 27,
   "metadata": {
    "colab": {
     "base_uri": "https://localhost:8080/"
    },
    "id": "hABgy_pYr7qY",
    "outputId": "d264236f-9558-4802-fae6-c6a9102892d2"
   },
   "outputs": [
    {
     "data": {
      "text/plain": [
       "-0.7208241710210566"
      ]
     },
     "execution_count": 27,
     "metadata": {},
     "output_type": "execute_result"
    }
   ],
   "source": [
    "# calculate R2  given the targets and the predictions of the test data\n",
    "report.calculate_r2(test_targets, predictions)"
   ]
  },
  {
   "cell_type": "code",
   "execution_count": 28,
   "metadata": {
    "colab": {
     "base_uri": "https://localhost:8080/",
     "height": 268
    },
    "id": "Tj_33PTbr7qY",
    "outputId": "04f42fd2-0c4c-495f-daa0-e03f69ed7d4d"
   },
   "outputs": [
    {
     "data": {
      "image/png": "[encoded data removed]",
      "text/plain": [
       "<Figure size 640x480 with 2 Axes>"
      ]
     },
     "metadata": {},
     "output_type": "display_data"
    }
   ],
   "source": [
    "report.plot_density(test_targets, predictions)"
   ]
  },
  {
   "cell_type": "code",
   "execution_count": 29,
   "metadata": {
    "colab": {
     "base_uri": "https://localhost:8080/",
     "height": 295
    },
    "id": "VnNJJYHsr7qY",
    "outputId": "455ad8b5-167b-4ff9-ba7f-920d88dcc5ab"
   },
   "outputs": [
    {
     "data": {
      "image/png": "[encoded data removed]",
      "text/plain": [
       "<Figure size 640x480 with 1 Axes>"
      ]
     },
     "metadata": {},
     "output_type": "display_data"
    }
   ],
   "source": [
    "report.plot_residuals(test_targets, predictions, xrange=(-30, 30))"
   ]
  },
  {
   "cell_type": "markdown",
   "metadata": {
    "id": "O1uYK1ZWr7qZ"
   },
   "source": [
    "## 4. Saving and Loading Models\n",
    "\n",
    "Models can be saved normally the same Keras models would be saved. It is better to save the weights and the not the model since it makes it easier and more platform-indepdent when loading the model again. The extra step needed is to create a model object and then load the weights."
   ]
  },
  {
   "cell_type": "code",
   "execution_count": 31,
   "metadata": {
    "id": "MnnLsOPVr7qZ"
   },
   "outputs": [],
   "source": [
    "# save the model weights\n",
    "\n",
    "save_path = \"./output/rtmodel\"\n",
    "model.save_weights(save_path)"
   ]
  },
  {
   "cell_type": "code",
   "execution_count": 32,
   "metadata": {
    "colab": {
     "base_uri": "https://localhost:8080/"
    },
    "id": "nYVNZBd-r7qZ",
    "outputId": "9f3f72f8-f852-46e3-ce04-bc574e4c2b6f"
   },
   "outputs": [
    {
     "data": {
      "text/plain": [
       "<tensorflow.python.checkpoint.checkpoint.CheckpointLoadStatus at 0x369cc8150>"
      ]
     },
     "execution_count": 32,
     "metadata": {},
     "output_type": "execute_result"
    }
   ],
   "source": [
    "# models can be later loaded by creating a model object and then loading the weights\n",
    "\n",
    "trained_model = RetentionTimePredictor(seq_length=30)\n",
    "trained_model.load_weights(save_path)"
   ]
  },
  {
   "cell_type": "markdown",
   "metadata": {
    "id": "SkUf8vtOr7qZ"
   },
   "source": [
    "We can compare the predictions to make sure that the model was loaded correctly."
   ]
  },
  {
   "cell_type": "code",
   "execution_count": 33,
   "metadata": {
    "id": "p2ifAmfxr7qZ"
   },
   "outputs": [
    {
     "name": "stdout",
     "output_type": "stream",
     "text": [
      "  1/188 [..............................] - ETA: 23s"
     ]
    },
    {
     "name": "stderr",
     "output_type": "stream",
     "text": [
      "/Users/Omar/miniconda3/envs/dlx/lib/python3.11/site-packages/datasets/arrow_dataset.py:401: FutureWarning: The output of `to_tf_dataset` will change when a passing single element list for `labels` or `columns` in the next datasets version. To return a tuple structure rather than dict, pass a single string.\n",
      "Old behaviour: columns=['a'], labels=['labels'] -> (tf.Tensor, tf.Tensor)  \n",
      "             : columns='a', labels='labels' -> (tf.Tensor, tf.Tensor)  \n",
      "New behaviour: columns=['a'],labels=['labels'] -> ({'a': tf.Tensor}, {'labels': tf.Tensor})  \n",
      "             : columns='a', labels='labels' -> (tf.Tensor, tf.Tensor) \n",
      "  warnings.warn(\n"
     ]
    },
    {
     "name": "stdout",
     "output_type": "stream",
     "text": [
      "188/188 [==============================] - 1s 3ms/step\n"
     ]
    }
   ],
   "source": [
    "new_predictions = trained_model.predict(test_rtdata.tensor_test_data)"
   ]
  },
  {
   "cell_type": "code",
   "execution_count": 34,
   "metadata": {
    "id": "Z7lPgkKBr7qZ"
   },
   "outputs": [],
   "source": [
    "new_predictions = new_predictions.ravel()"
   ]
  },
  {
   "cell_type": "code",
   "execution_count": 35,
   "metadata": {
    "colab": {
     "base_uri": "https://localhost:8080/"
    },
    "id": "ifUnCpdAr7qa",
    "outputId": "d1ef7aa7-9eeb-4567-c0a6-628b5440ea19"
   },
   "outputs": [
    {
     "data": {
      "text/plain": [
       "True"
      ]
     },
     "execution_count": 35,
     "metadata": {},
     "output_type": "execute_result"
    }
   ],
   "source": [
    "import numpy as np\n",
    "# confirm all old and new predictions are the same\n",
    "np.allclose(predictions, new_predictions)"
   ]
  },
  {
   "cell_type": "code",
   "execution_count": 36,
   "metadata": {
    "id": "d3yrG9l3r7qa"
   },
   "outputs": [],
   "source": [
    "import pandas as pd\n",
    "results_df = pd.DataFrame({\"sequence\": test_rtdata[\"test\"][\"sequence\"],\n",
    "                           \"irt\": test_rtdata[\"test\"][\"irt\"],\n",
    "                           \"predicted_irt\": predictions})\n",
    "\n",
    "results_df.to_csv(\"./output/predictions_irt_wandb.csv\", index=False)"
   ]
  },
  {
   "cell_type": "code",
   "execution_count": 37,
   "metadata": {
    "scrolled": true
   },
   "outputs": [
    {
     "data": {
      "text/html": [
       "<div>\n",
       "<style scoped>\n",
       "    .dataframe tbody tr th:only-of-type {\n",
       "        vertical-align: middle;\n",
       "    }\n",
       "\n",
       "    .dataframe tbody tr th {\n",
       "        vertical-align: top;\n",
       "    }\n",
       "\n",
       "    .dataframe thead th {\n",
       "        text-align: right;\n",
       "    }\n",
       "</style>\n",
       "<table border=\"1\" class=\"dataframe\">\n",
       "  <thead>\n",
       "    <tr style=\"text-align: right;\">\n",
       "      <th></th>\n",
       "      <th>sequence</th>\n",
       "      <th>irt</th>\n",
       "      <th>predicted_irt</th>\n",
       "    </tr>\n",
       "  </thead>\n",
       "  <tbody>\n",
       "    <tr>\n",
       "      <th>0</th>\n",
       "      <td>[21, 8, 1, 1, 6, 10, 6, 13, 16, 20, 16, 6, 16,...</td>\n",
       "      <td>160.872622</td>\n",
       "      <td>163.599230</td>\n",
       "    </tr>\n",
       "    <tr>\n",
       "      <th>1</th>\n",
       "      <td>[21, 9, 9, 8, 16, 4, 4, 3, 10, 15, 22, 0, 0, 0...</td>\n",
       "      <td>-9.967314</td>\n",
       "      <td>-26.213274</td>\n",
       "    </tr>\n",
       "    <tr>\n",
       "      <th>2</th>\n",
       "      <td>[21, 7, 1, 5, 17, 2, 15, 18, 1, 6, 6, 13, 6, 1...</td>\n",
       "      <td>1.630197</td>\n",
       "      <td>-57.158585</td>\n",
       "    </tr>\n",
       "    <tr>\n",
       "      <th>3</th>\n",
       "      <td>[21, 10, 12, 3, 6, 7, 5, 11, 13, 18, 10, 6, 5,...</td>\n",
       "      <td>108.566269</td>\n",
       "      <td>363.036700</td>\n",
       "    </tr>\n",
       "    <tr>\n",
       "      <th>4</th>\n",
       "      <td>[21, 11, 8, 17, 13, 4, 3, 18, 9, 22, 0, 0, 0, ...</td>\n",
       "      <td>14.768607</td>\n",
       "      <td>-73.744520</td>\n",
       "    </tr>\n",
       "    <tr>\n",
       "      <th>...</th>\n",
       "      <td>...</td>\n",
       "      <td>...</td>\n",
       "      <td>...</td>\n",
       "    </tr>\n",
       "    <tr>\n",
       "      <th>5995</th>\n",
       "      <td>[21, 18, 1, 13, 13, 6, 10, 17, 14, 8, 13, 14, ...</td>\n",
       "      <td>83.372074</td>\n",
       "      <td>-0.869524</td>\n",
       "    </tr>\n",
       "    <tr>\n",
       "      <th>5996</th>\n",
       "      <td>[21, 16, 4, 10, 6, 16, 5, 8, 17, 3, 20, 5, 14,...</td>\n",
       "      <td>161.185058</td>\n",
       "      <td>10.974226</td>\n",
       "    </tr>\n",
       "    <tr>\n",
       "      <th>5997</th>\n",
       "      <td>[21, 17, 20, 15, 13, 10, 18, 12, 3, 8, 16, 4, ...</td>\n",
       "      <td>43.609620</td>\n",
       "      <td>33.442978</td>\n",
       "    </tr>\n",
       "    <tr>\n",
       "      <th>5998</th>\n",
       "      <td>[21, 4, 8, 17, 12, 14, 18, 18, 13, 14, 4, 15, ...</td>\n",
       "      <td>29.891271</td>\n",
       "      <td>-38.525772</td>\n",
       "    </tr>\n",
       "    <tr>\n",
       "      <th>5999</th>\n",
       "      <td>[21, 5, 1, 18, 17, 20, 5, 14, 9, 22, 0, 0, 0, ...</td>\n",
       "      <td>70.909451</td>\n",
       "      <td>-55.025772</td>\n",
       "    </tr>\n",
       "  </tbody>\n",
       "</table>\n",
       "<p>6000 rows × 3 columns</p>\n",
       "</div>"
      ],
      "text/plain": [
       "                                               sequence         irt  \\\n",
       "0     [21, 8, 1, 1, 6, 10, 6, 13, 16, 20, 16, 6, 16,...  160.872622   \n",
       "1     [21, 9, 9, 8, 16, 4, 4, 3, 10, 15, 22, 0, 0, 0...   -9.967314   \n",
       "2     [21, 7, 1, 5, 17, 2, 15, 18, 1, 6, 6, 13, 6, 1...    1.630197   \n",
       "3     [21, 10, 12, 3, 6, 7, 5, 11, 13, 18, 10, 6, 5,...  108.566269   \n",
       "4     [21, 11, 8, 17, 13, 4, 3, 18, 9, 22, 0, 0, 0, ...   14.768607   \n",
       "...                                                 ...         ...   \n",
       "5995  [21, 18, 1, 13, 13, 6, 10, 17, 14, 8, 13, 14, ...   83.372074   \n",
       "5996  [21, 16, 4, 10, 6, 16, 5, 8, 17, 3, 20, 5, 14,...  161.185058   \n",
       "5997  [21, 17, 20, 15, 13, 10, 18, 12, 3, 8, 16, 4, ...   43.609620   \n",
       "5998  [21, 4, 8, 17, 12, 14, 18, 18, 13, 14, 4, 15, ...   29.891271   \n",
       "5999  [21, 5, 1, 18, 17, 20, 5, 14, 9, 22, 0, 0, 0, ...   70.909451   \n",
       "\n",
       "      predicted_irt  \n",
       "0        163.599230  \n",
       "1        -26.213274  \n",
       "2        -57.158585  \n",
       "3        363.036700  \n",
       "4        -73.744520  \n",
       "...             ...  \n",
       "5995      -0.869524  \n",
       "5996      10.974226  \n",
       "5997      33.442978  \n",
       "5998     -38.525772  \n",
       "5999     -55.025772  \n",
       "\n",
       "[6000 rows x 3 columns]"
      ]
     },
     "execution_count": 37,
     "metadata": {},
     "output_type": "execute_result"
    }
   ],
   "source": [
    "pd.read_csv(\"./output/predictions_irt.csv\")"
   ]
  }
 ],
 "metadata": {
  "accelerator": "GPU",
  "colab": {
   "name": "Example_RTModel_Walkthrough.ipynb",
   "provenance": []
  },
  "kernelspec": {
   "display_name": "Python 3 (ipykernel)",
   "language": "python",
   "name": "python3"
  },
  "language_info": {
   "codemirror_mode": {
    "name": "ipython",
    "version": 3
   },
   "file_extension": ".py",
   "mimetype": "text/x-python",
   "name": "python",
   "nbconvert_exporter": "python",
   "pygments_lexer": "ipython3",
   "version": "3.11.7"
  }
 },
 "nbformat": 4,
 "nbformat_minor": 4
}
