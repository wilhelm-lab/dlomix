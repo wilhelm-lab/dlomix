{
 "cells": [
  {
   "cell_type": "code",
   "execution_count": 1,
   "id": "e875394b-3f3d-4179-b2ad-004ac33901c4",
   "metadata": {},
   "outputs": [],
   "source": [
    "import pandas as pd\n",
    "import numpy as np\n",
    "# hugginface datasets\n",
    "from datasets import load_dataset"
   ]
  },
  {
   "cell_type": "code",
   "execution_count": 2,
   "id": "36a38e74",
   "metadata": {},
   "outputs": [
    {
     "ename": "ModuleNotFoundError",
     "evalue": "No module named 'dlomix'",
     "output_type": "error",
     "traceback": [
      "\u001b[0;31m---------------------------------------------------------------------------\u001b[0m",
      "\u001b[0;31mModuleNotFoundError\u001b[0m                       Traceback (most recent call last)",
      "Cell \u001b[0;32mIn[2], line 1\u001b[0m\n\u001b[0;32m----> 1\u001b[0m \u001b[38;5;28;01mimport\u001b[39;00m \u001b[38;5;21;01mdlomix\u001b[39;00m\n\u001b[1;32m      2\u001b[0m dlomix\u001b[38;5;241m.\u001b[39m__version__\n",
      "\u001b[0;31mModuleNotFoundError\u001b[0m: No module named 'dlomix'"
     ]
    }
   ],
   "source": [
    "# I DONT GET IT...\n",
    "import dlomix\n",
    "dlomix.__version__"
   ]
  },
  {
   "cell_type": "markdown",
   "id": "fa8a5cd4",
   "metadata": {},
   "source": [
    "## Load data from Huggingface for further work"
   ]
  },
  {
   "cell_type": "code",
   "execution_count": null,
   "id": "aef81bd4-cbb7-45c8-ac3b-e9b2f8b597f0",
   "metadata": {},
   "outputs": [],
   "source": [
    "dataset = load_dataset(\"Wilhelmlab/prospect-ptms-charge\")"
   ]
  },
  {
   "cell_type": "code",
   "execution_count": null,
   "id": "983f43fa-5084-49d3-98f7-a7cfc167ed91",
   "metadata": {},
   "outputs": [
    {
     "data": {
      "text/plain": [
       "DatasetDict({\n",
       "    train: Dataset({\n",
       "        features: ['modified_sequence', 'raw_file', 'scan_number', 'package', 'most_abundant_charge_state', 'observed_charge_states', 'charge_state_dist'],\n",
       "        num_rows: 1142537\n",
       "    })\n",
       "    val: Dataset({\n",
       "        features: ['modified_sequence', 'raw_file', 'scan_number', 'package', 'most_abundant_charge_state', 'observed_charge_states', 'charge_state_dist'],\n",
       "        num_rows: 328072\n",
       "    })\n",
       "    test: Dataset({\n",
       "        features: ['modified_sequence', 'raw_file', 'scan_number', 'package', 'most_abundant_charge_state', 'observed_charge_states', 'charge_state_dist'],\n",
       "        num_rows: 161588\n",
       "    })\n",
       "})"
      ]
     },
     "execution_count": 4,
     "metadata": {},
     "output_type": "execute_result"
    }
   ],
   "source": [
    "dataset"
   ]
  },
  {
   "cell_type": "markdown",
   "id": "ce2eee0b",
   "metadata": {},
   "source": [
    "### Convert test set to pandas dataframe (only if manipulation is needed)"
   ]
  },
  {
   "cell_type": "code",
   "execution_count": null,
   "id": "a06f3a7b-b327-4b1a-897c-f5da1e39f91d",
   "metadata": {},
   "outputs": [],
   "source": [
    "df = dataset[\"test\"].to_pandas()"
   ]
  },
  {
   "cell_type": "code",
   "execution_count": null,
   "id": "1f98c8ec-9791-42c4-a7fa-0927412bbdfb",
   "metadata": {},
   "outputs": [
    {
     "data": {
      "text/html": [
       "<div>\n",
       "<style scoped>\n",
       "    .dataframe tbody tr th:only-of-type {\n",
       "        vertical-align: middle;\n",
       "    }\n",
       "\n",
       "    .dataframe tbody tr th {\n",
       "        vertical-align: top;\n",
       "    }\n",
       "\n",
       "    .dataframe thead th {\n",
       "        text-align: right;\n",
       "    }\n",
       "</style>\n",
       "<table border=\"1\" class=\"dataframe\">\n",
       "  <thead>\n",
       "    <tr style=\"text-align: right;\">\n",
       "      <th></th>\n",
       "      <th>modified_sequence</th>\n",
       "      <th>raw_file</th>\n",
       "      <th>scan_number</th>\n",
       "      <th>package</th>\n",
       "      <th>most_abundant_charge_state</th>\n",
       "      <th>observed_charge_states</th>\n",
       "      <th>charge_state_dist</th>\n",
       "    </tr>\n",
       "  </thead>\n",
       "  <tbody>\n",
       "    <tr>\n",
       "      <th>0</th>\n",
       "      <td>[UNIMOD:737]-YIHNILSI-[]</td>\n",
       "      <td>[02527_BA6-TMT_TUM_HLA_6_01_01-TMT1-1h-R1, 025...</td>\n",
       "      <td>[53707, 59458, 59518]</td>\n",
       "      <td>[TMT_TUM_HLA]</td>\n",
       "      <td>[0, 1, 0, 0, 0, 0]</td>\n",
       "      <td>[0, 1, 0, 0, 0, 0]</td>\n",
       "      <td>[0.0, 1.0, 0.0, 0.0, 0.0, 0.0]</td>\n",
       "    </tr>\n",
       "    <tr>\n",
       "      <th>1</th>\n",
       "      <td>[]-FHTPSNSYTAQR-[]</td>\n",
       "      <td>[02208a_GC3-TUM_second_addon_27_01_01-2xIT_2xH...</td>\n",
       "      <td>[13616, 13659, 13660, 13759, 13760, 13761, 138...</td>\n",
       "      <td>[TUM_second_addon]</td>\n",
       "      <td>[0, 0, 1, 0, 0, 0]</td>\n",
       "      <td>[0, 1, 1, 0, 0, 0]</td>\n",
       "      <td>[0.0, 0.18388216654438674, 0.8161178334556133,...</td>\n",
       "    </tr>\n",
       "    <tr>\n",
       "      <th>2</th>\n",
       "      <td>[]-IPGPEGQEVLC[UNIMOD:4]KQIK-[]</td>\n",
       "      <td>[01748a_BH4-TUM_second_pool_66_01_01-2xIT_2xHC...</td>\n",
       "      <td>[21369, 21370, 21371, 21397, 21398, 21399, 214...</td>\n",
       "      <td>[TUM_second_pool]</td>\n",
       "      <td>[0, 0, 1, 0, 0, 0]</td>\n",
       "      <td>[0, 1, 1, 0, 0, 0]</td>\n",
       "      <td>[0.0, 0.03440733446425485, 0.9655926655357452,...</td>\n",
       "    </tr>\n",
       "    <tr>\n",
       "      <th>3</th>\n",
       "      <td>[]-TGQK[UNIMOD:1]VALKK-[]</td>\n",
       "      <td>[02195a_GA4-TUM_mod_acetylated_4_01_01-DDA-1h-...</td>\n",
       "      <td>[9811, 9913, 9914, 10066, 10067]</td>\n",
       "      <td>[TUM_mod_acetylated]</td>\n",
       "      <td>[0, 1, 0, 0, 0, 0]</td>\n",
       "      <td>[0, 1, 0, 0, 0, 0]</td>\n",
       "      <td>[0.0, 1.0, 0.0, 0.0, 0.0, 0.0]</td>\n",
       "    </tr>\n",
       "    <tr>\n",
       "      <th>4</th>\n",
       "      <td>[]-ATLC[UNIMOD:4]C[UNIMOD:4]ARPEPR-[]</td>\n",
       "      <td>[01717a_BF3-TUM_second_pool_34_01_01-2xIT_2xHC...</td>\n",
       "      <td>[8995, 8996, 8997, 9041, 9042, 9043, 9300, 935...</td>\n",
       "      <td>[TUM_second_pool]</td>\n",
       "      <td>[0, 0, 1, 0, 0, 0]</td>\n",
       "      <td>[0, 1, 1, 0, 0, 0]</td>\n",
       "      <td>[0.0, 0.007387597915967662, 0.9926124020840323...</td>\n",
       "    </tr>\n",
       "  </tbody>\n",
       "</table>\n",
       "</div>"
      ],
      "text/plain": [
       "                       modified_sequence  \\\n",
       "0               [UNIMOD:737]-YIHNILSI-[]   \n",
       "1                     []-FHTPSNSYTAQR-[]   \n",
       "2        []-IPGPEGQEVLC[UNIMOD:4]KQIK-[]   \n",
       "3              []-TGQK[UNIMOD:1]VALKK-[]   \n",
       "4  []-ATLC[UNIMOD:4]C[UNIMOD:4]ARPEPR-[]   \n",
       "\n",
       "                                            raw_file  \\\n",
       "0  [02527_BA6-TMT_TUM_HLA_6_01_01-TMT1-1h-R1, 025...   \n",
       "1  [02208a_GC3-TUM_second_addon_27_01_01-2xIT_2xH...   \n",
       "2  [01748a_BH4-TUM_second_pool_66_01_01-2xIT_2xHC...   \n",
       "3  [02195a_GA4-TUM_mod_acetylated_4_01_01-DDA-1h-...   \n",
       "4  [01717a_BF3-TUM_second_pool_34_01_01-2xIT_2xHC...   \n",
       "\n",
       "                                         scan_number               package  \\\n",
       "0                              [53707, 59458, 59518]         [TMT_TUM_HLA]   \n",
       "1  [13616, 13659, 13660, 13759, 13760, 13761, 138...    [TUM_second_addon]   \n",
       "2  [21369, 21370, 21371, 21397, 21398, 21399, 214...     [TUM_second_pool]   \n",
       "3                   [9811, 9913, 9914, 10066, 10067]  [TUM_mod_acetylated]   \n",
       "4  [8995, 8996, 8997, 9041, 9042, 9043, 9300, 935...     [TUM_second_pool]   \n",
       "\n",
       "  most_abundant_charge_state observed_charge_states  \\\n",
       "0         [0, 1, 0, 0, 0, 0]     [0, 1, 0, 0, 0, 0]   \n",
       "1         [0, 0, 1, 0, 0, 0]     [0, 1, 1, 0, 0, 0]   \n",
       "2         [0, 0, 1, 0, 0, 0]     [0, 1, 1, 0, 0, 0]   \n",
       "3         [0, 1, 0, 0, 0, 0]     [0, 1, 0, 0, 0, 0]   \n",
       "4         [0, 0, 1, 0, 0, 0]     [0, 1, 1, 0, 0, 0]   \n",
       "\n",
       "                                   charge_state_dist  \n",
       "0                     [0.0, 1.0, 0.0, 0.0, 0.0, 0.0]  \n",
       "1  [0.0, 0.18388216654438674, 0.8161178334556133,...  \n",
       "2  [0.0, 0.03440733446425485, 0.9655926655357452,...  \n",
       "3                     [0.0, 1.0, 0.0, 0.0, 0.0, 0.0]  \n",
       "4  [0.0, 0.007387597915967662, 0.9926124020840323...  "
      ]
     },
     "execution_count": 6,
     "metadata": {},
     "output_type": "execute_result"
    }
   ],
   "source": [
    "df.head()"
   ]
  },
  {
   "cell_type": "markdown",
   "id": "0cb77685",
   "metadata": {},
   "source": [
    "## Create dataset"
   ]
  },
  {
   "cell_type": "code",
   "execution_count": null,
   "id": "6a43a6dc",
   "metadata": {},
   "outputs": [
    {
     "ename": "ModuleNotFoundError",
     "evalue": "No module named 'dlomix'",
     "output_type": "error",
     "traceback": [
      "\u001b[0;31m---------------------------------------------------------------------------\u001b[0m",
      "\u001b[0;31mModuleNotFoundError\u001b[0m                       Traceback (most recent call last)",
      "Cell \u001b[0;32mIn[7], line 1\u001b[0m\n\u001b[0;32m----> 1\u001b[0m \u001b[38;5;28;01mfrom\u001b[39;00m \u001b[38;5;21;01mdlomix\u001b[39;00m\u001b[38;5;21;01m.\u001b[39;00m\u001b[38;5;21;01mdata\u001b[39;00m\u001b[38;5;21;01m.\u001b[39;00m\u001b[38;5;21;01mcharge_state\u001b[39;00m \u001b[38;5;28;01mimport\u001b[39;00m ChargeStateDataset\n\u001b[1;32m      2\u001b[0m \u001b[38;5;28;01mfrom\u001b[39;00m \u001b[38;5;21;01mdlomix\u001b[39;00m\u001b[38;5;21;01m.\u001b[39;00m\u001b[38;5;21;01mconstants\u001b[39;00m \u001b[38;5;28;01mimport\u001b[39;00m PTMS_ALPHABET\n",
      "\u001b[0;31mModuleNotFoundError\u001b[0m: No module named 'dlomix'"
     ]
    }
   ],
   "source": [
    "from dlomix.data.charge_state import ChargeStateDataset\n",
    "from dlomix.constants import PTMS_ALPHABET"
   ]
  },
  {
   "cell_type": "code",
   "execution_count": null,
   "id": "91d69194",
   "metadata": {},
   "outputs": [
    {
     "name": "stderr",
     "output_type": "stream",
     "text": [
      "/root/miniforge3/envs/pcp_env/lib/python3.11/site-packages/dlomix/data/dataset.py:280: UserWarning: The provided data is assumed to be hosted on the Hugging Face Hub since data_format is set to \"hub\". Validation and test data sources will be ignored.\n",
      "  warnings.warn(\n"
     ]
    },
    {
     "data": {
      "application/vnd.jupyter.widget-view+json": {
       "model_id": "348c7d4dcf3e4c97a83e70fe21fbec5e",
       "version_major": 2,
       "version_minor": 0
      },
      "text/plain": [
       "Mapping SequenceParsingProcessor:   0%|          | 0/914029 [00:00<?, ? examples/s]"
      ]
     },
     "metadata": {},
     "output_type": "display_data"
    },
    {
     "data": {
      "application/vnd.jupyter.widget-view+json": {
       "model_id": "0d7e77afce2146bdbc218add1eedbfed",
       "version_major": 2,
       "version_minor": 0
      },
      "text/plain": [
       "Mapping SequenceParsingProcessor:   0%|          | 0/228508 [00:00<?, ? examples/s]"
      ]
     },
     "metadata": {},
     "output_type": "display_data"
    },
    {
     "data": {
      "application/vnd.jupyter.widget-view+json": {
       "model_id": "2ee72f9d0fe947e9ae06241e2462400a",
       "version_major": 2,
       "version_minor": 0
      },
      "text/plain": [
       "Mapping SequenceEncodingProcessor:   0%|          | 0/914029 [00:00<?, ? examples/s]"
      ]
     },
     "metadata": {},
     "output_type": "display_data"
    },
    {
     "data": {
      "application/vnd.jupyter.widget-view+json": {
       "model_id": "f28141af6be8411e94cfb4d9b96360bc",
       "version_major": 2,
       "version_minor": 0
      },
      "text/plain": [
       "Mapping SequenceEncodingProcessor:   0%|          | 0/228508 [00:00<?, ? examples/s]"
      ]
     },
     "metadata": {},
     "output_type": "display_data"
    },
    {
     "data": {
      "application/vnd.jupyter.widget-view+json": {
       "model_id": "facd105b5d674c3c97204e5f1789ca9a",
       "version_major": 2,
       "version_minor": 0
      },
      "text/plain": [
       "Mapping SequencePaddingProcessor:   0%|          | 0/914029 [00:00<?, ? examples/s]"
      ]
     },
     "metadata": {},
     "output_type": "display_data"
    },
    {
     "data": {
      "application/vnd.jupyter.widget-view+json": {
       "model_id": "d0dfa5b26de840e28e1241754050c104",
       "version_major": 2,
       "version_minor": 0
      },
      "text/plain": [
       "Mapping SequencePaddingProcessor:   0%|          | 0/228508 [00:00<?, ? examples/s]"
      ]
     },
     "metadata": {},
     "output_type": "display_data"
    },
    {
     "data": {
      "application/vnd.jupyter.widget-view+json": {
       "model_id": "ad1f676e51384b6dafc5aa939469ad80",
       "version_major": 2,
       "version_minor": 0
      },
      "text/plain": [
       "Mapping SequencePaddingProcessor:   0%|          | 0/161588 [00:00<?, ? examples/s]"
      ]
     },
     "metadata": {},
     "output_type": "display_data"
    },
    {
     "data": {
      "application/vnd.jupyter.widget-view+json": {
       "model_id": "860c951b450442ee89a8aba914bb499a",
       "version_major": 2,
       "version_minor": 0
      },
      "text/plain": [
       "Filter:   0%|          | 0/914029 [00:00<?, ? examples/s]"
      ]
     },
     "metadata": {},
     "output_type": "display_data"
    },
    {
     "data": {
      "application/vnd.jupyter.widget-view+json": {
       "model_id": "e1355db68e8b469eba4950f3e7c6c4bb",
       "version_major": 2,
       "version_minor": 0
      },
      "text/plain": [
       "Filter:   0%|          | 0/228508 [00:00<?, ? examples/s]"
      ]
     },
     "metadata": {},
     "output_type": "display_data"
    }
   ],
   "source": [
    "data = ChargeStateDataset(\n",
    "    data_source=\"Wilhelmlab/prospect-ptms-charge\", \n",
    "    data_format=\"hub\", \n",
    "    sequence_column=\"modified_sequence\", \n",
    "    label_column=\"charge_state_dist\", \n",
    "    pad=True, \n",
    "    padding_value=0, \n",
    "    alphabet=PTMS_ALPHABET, \n",
    "    encoding_scheme=\"naive-mods\"\n",
    "    )"
   ]
  },
  {
   "cell_type": "markdown",
   "id": "f05ed4e7",
   "metadata": {},
   "source": [
    "## Create model"
   ]
  },
  {
   "cell_type": "code",
   "execution_count": null,
   "id": "b87d9f14",
   "metadata": {},
   "outputs": [
    {
     "name": "stderr",
     "output_type": "stream",
     "text": [
      "2024-08-13 17:49:31.894083: I tensorflow/core/util/port.cc:113] oneDNN custom operations are on. You may see slightly different numerical results due to floating-point round-off errors from different computation orders. To turn them off, set the environment variable `TF_ENABLE_ONEDNN_OPTS=0`.\n",
      "2024-08-13 17:49:31.971368: E external/local_xla/xla/stream_executor/cuda/cuda_dnn.cc:9261] Unable to register cuDNN factory: Attempting to register factory for plugin cuDNN when one has already been registered\n",
      "2024-08-13 17:49:31.971390: E external/local_xla/xla/stream_executor/cuda/cuda_fft.cc:607] Unable to register cuFFT factory: Attempting to register factory for plugin cuFFT when one has already been registered\n",
      "2024-08-13 17:49:31.989429: E external/local_xla/xla/stream_executor/cuda/cuda_blas.cc:1515] Unable to register cuBLAS factory: Attempting to register factory for plugin cuBLAS when one has already been registered\n",
      "2024-08-13 17:49:32.016176: I tensorflow/core/platform/cpu_feature_guard.cc:182] This TensorFlow binary is optimized to use available CPU instructions in performance-critical operations.\n",
      "To enable the following instructions: SSE4.1 SSE4.2 AVX AVX2 AVX_VNNI FMA, in other operations, rebuild TensorFlow with the appropriate compiler flags.\n"
     ]
    }
   ],
   "source": [
    "from tensorflow.keras.optimizers import Adam"
   ]
  },
  {
   "cell_type": "code",
   "execution_count": null,
   "id": "04ef3817-6f98-4e1d-86e3-479c8c8252ff",
   "metadata": {},
   "outputs": [
    {
     "name": "stderr",
     "output_type": "stream",
     "text": [
      "2024-08-13 17:49:33.496867: I external/local_xla/xla/stream_executor/cuda/cuda_executor.cc:887] could not open file to read NUMA node: /sys/bus/pci/devices/0000:01:00.0/numa_node\n",
      "Your kernel may have been built without NUMA support.\n",
      "2024-08-13 17:49:33.604179: I external/local_xla/xla/stream_executor/cuda/cuda_executor.cc:887] could not open file to read NUMA node: /sys/bus/pci/devices/0000:01:00.0/numa_node\n",
      "Your kernel may have been built without NUMA support.\n",
      "2024-08-13 17:49:33.604211: I external/local_xla/xla/stream_executor/cuda/cuda_executor.cc:887] could not open file to read NUMA node: /sys/bus/pci/devices/0000:01:00.0/numa_node\n",
      "Your kernel may have been built without NUMA support.\n",
      "2024-08-13 17:49:33.609482: I external/local_xla/xla/stream_executor/cuda/cuda_executor.cc:887] could not open file to read NUMA node: /sys/bus/pci/devices/0000:01:00.0/numa_node\n",
      "Your kernel may have been built without NUMA support.\n",
      "2024-08-13 17:49:33.609517: I external/local_xla/xla/stream_executor/cuda/cuda_executor.cc:887] could not open file to read NUMA node: /sys/bus/pci/devices/0000:01:00.0/numa_node\n",
      "Your kernel may have been built without NUMA support.\n",
      "2024-08-13 17:49:33.609532: I external/local_xla/xla/stream_executor/cuda/cuda_executor.cc:887] could not open file to read NUMA node: /sys/bus/pci/devices/0000:01:00.0/numa_node\n",
      "Your kernel may have been built without NUMA support.\n",
      "2024-08-13 17:49:33.714640: I external/local_xla/xla/stream_executor/cuda/cuda_executor.cc:887] could not open file to read NUMA node: /sys/bus/pci/devices/0000:01:00.0/numa_node\n",
      "Your kernel may have been built without NUMA support.\n",
      "2024-08-13 17:49:33.714854: I external/local_xla/xla/stream_executor/cuda/cuda_executor.cc:887] could not open file to read NUMA node: /sys/bus/pci/devices/0000:01:00.0/numa_node\n",
      "Your kernel may have been built without NUMA support.\n",
      "2024-08-13 17:49:33.714861: I tensorflow/core/common_runtime/gpu/gpu_device.cc:2022] Could not identify NUMA node of platform GPU id 0, defaulting to 0.  Your kernel may not have been built with NUMA support.\n",
      "2024-08-13 17:49:33.714883: I external/local_xla/xla/stream_executor/cuda/cuda_executor.cc:887] could not open file to read NUMA node: /sys/bus/pci/devices/0000:01:00.0/numa_node\n",
      "Your kernel may have been built without NUMA support.\n",
      "2024-08-13 17:49:33.715028: I tensorflow/core/common_runtime/gpu/gpu_device.cc:1929] Created device /job:localhost/replica:0/task:0/device:GPU:0 with 21770 MB memory:  -> device: 0, name: NVIDIA GeForce RTX 3090, pci bus id: 0000:01:00.0, compute capability: 8.6\n"
     ]
    }
   ],
   "source": [
    "optimizer = Adam(learning_rate=0.0001)"
   ]
  },
  {
   "cell_type": "markdown",
   "id": "0d0d6047",
   "metadata": {},
   "source": [
    "## Import model"
   ]
  },
  {
   "cell_type": "code",
   "execution_count": null,
   "id": "8b93c59b",
   "metadata": {},
   "outputs": [
    {
     "ename": "ModuleNotFoundError",
     "evalue": "No module named 'dlomix.models.chargestate'",
     "output_type": "error",
     "traceback": [
      "\u001b[0;31m---------------------------------------------------------------------------\u001b[0m",
      "\u001b[0;31mModuleNotFoundError\u001b[0m                       Traceback (most recent call last)",
      "Cell \u001b[0;32mIn[17], line 1\u001b[0m\n\u001b[0;32m----> 1\u001b[0m \u001b[38;5;28;01mfrom\u001b[39;00m \u001b[38;5;21;01mdlomix\u001b[39;00m\u001b[38;5;21;01m.\u001b[39;00m\u001b[38;5;21;01mmodels\u001b[39;00m\u001b[38;5;21;01m.\u001b[39;00m\u001b[38;5;21;01mchargestate\u001b[39;00m \u001b[38;5;28;01mimport\u001b[39;00m ChargeStateDistributionPredictor\n",
      "\u001b[0;31mModuleNotFoundError\u001b[0m: No module named 'dlomix.models.chargestate'"
     ]
    }
   ],
   "source": [
    "from dlomix.models.chargestate import ChargeStateDistributionPredictor"
   ]
  },
  {
   "cell_type": "code",
   "execution_count": null,
   "id": "9662b240",
   "metadata": {},
   "outputs": [
    {
     "ename": "NameError",
     "evalue": "name 'ChargeStateDistributionPredictor' is not defined",
     "output_type": "error",
     "traceback": [
      "\u001b[0;31m---------------------------------------------------------------------------\u001b[0m",
      "\u001b[0;31mNameError\u001b[0m                                 Traceback (most recent call last)",
      "Cell \u001b[0;32mIn[11], line 1\u001b[0m\n\u001b[0;32m----> 1\u001b[0m charge_distribution_model \u001b[38;5;241m=\u001b[39m \u001b[43mChargeStateDistributionPredictor\u001b[49m(seq_length\u001b[38;5;241m=\u001b[39m\u001b[38;5;241m30\u001b[39m, vocab_dict\u001b[38;5;241m=\u001b[39mPTMS_ALPHABET)\n\u001b[1;32m      2\u001b[0m charge_distribution_model\u001b[38;5;241m.\u001b[39mcompile(optimizer\u001b[38;5;241m=\u001b[39moptimizer, loss\u001b[38;5;241m=\u001b[39m\u001b[38;5;124m'\u001b[39m\u001b[38;5;124mmean_absolute_error\u001b[39m\u001b[38;5;124m'\u001b[39m)\n",
      "\u001b[0;31mNameError\u001b[0m: name 'ChargeStateDistributionPredictor' is not defined"
     ]
    }
   ],
   "source": [
    "charge_distribution_model = ChargeStateDistributionPredictor(seq_length=30, vocab_dict=PTMS_ALPHABET)\n",
    "charge_distribution_model.compile(optimizer=optimizer, loss='mean_absolute_error')"
   ]
  },
  {
   "cell_type": "markdown",
   "id": "0b9149df",
   "metadata": {},
   "source": [
    "## Train model"
   ]
  },
  {
   "cell_type": "code",
   "execution_count": null,
   "id": "a50afb28",
   "metadata": {},
   "outputs": [
    {
     "name": "stdout",
     "output_type": "stream",
     "text": [
      "Epoch 1/5\n",
      "4446/4446 [==============================] - 179s 40ms/step - loss: 0.0521 - val_loss: 0.0340\n",
      "Epoch 2/5\n",
      "4446/4446 [==============================] - 179s 40ms/step - loss: 0.0349 - val_loss: 0.0288\n",
      "Epoch 3/5\n",
      "4446/4446 [==============================] - 179s 40ms/step - loss: 0.0314 - val_loss: 0.0265\n",
      "Epoch 4/5\n",
      "4446/4446 [==============================] - 178s 40ms/step - loss: 0.0297 - val_loss: 0.0253\n",
      "Epoch 5/5\n",
      "4446/4446 [==============================] - 178s 40ms/step - loss: 0.0288 - val_loss: 0.0250\n"
     ]
    }
   ],
   "source": [
    "charge_distribution_model_history = charge_distribution_model.fit(\n",
    "    data.tensor_train_data, \n",
    "    validation_data=data.tensor_val_data,\n",
    "    epochs=5,\n",
    ")"
   ]
  },
  {
   "cell_type": "markdown",
   "id": "8eef5a2f",
   "metadata": {},
   "source": [
    "### Train History"
   ]
  },
  {
   "cell_type": "code",
   "execution_count": null,
   "id": "0c64b6f0",
   "metadata": {},
   "outputs": [],
   "source": [
    "import matplotlib.pyplot as plt"
   ]
  },
  {
   "cell_type": "code",
   "execution_count": null,
   "id": "d79c27ad",
   "metadata": {},
   "outputs": [],
   "source": [
    "def plot_learning_curves(history, title='Learning Curves'):\n",
    "    history_dict = history.history\n",
    "    loss = history_dict['loss']\n",
    "    val_loss = history_dict.get('val_loss', [])\n",
    "    \n",
    "    epochs = range(1, len(loss) + 1)\n",
    "    \n",
    "    plt.figure(figsize=(8, 5))\n",
    "    plt.plot(epochs, loss, 'b-', label='Training Loss')\n",
    "    if val_loss:\n",
    "        plt.plot(epochs, val_loss, 'r-', label='Validation Loss')\n",
    "    plt.title(title)\n",
    "    plt.xlabel('Epochs')\n",
    "    plt.ylabel('Loss')\n",
    "    plt.legend()\n",
    "    plt.show()"
   ]
  },
  {
   "cell_type": "code",
   "execution_count": null,
   "id": "4b86f321",
   "metadata": {},
   "outputs": [
    {
     "data": {
      "image/png": "[encoded data removed]",
      "text/plain": [
       "<Figure size 800x500 with 1 Axes>"
      ]
     },
     "metadata": {},
     "output_type": "display_data"
    }
   ],
   "source": [
    "plot_learning_curves(charge_distribution_model_history, title='Charge State Distribution Model')"
   ]
  }
 ],
 "metadata": {
  "kernelspec": {
   "display_name": "Python 3 (ipykernel)",
   "language": "python",
   "name": "python3"
  },
  "language_info": {
   "codemirror_mode": {
    "name": "ipython",
    "version": 3
   },
   "file_extension": ".py",
   "mimetype": "text/x-python",
   "name": "python",
   "nbconvert_exporter": "python",
   "pygments_lexer": "ipython3",
   "version": "3.11.8"
  }
 },
 "nbformat": 4,
 "nbformat_minor": 5
}
