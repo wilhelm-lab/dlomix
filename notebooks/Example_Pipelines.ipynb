{
 "cells": [
  {
   "cell_type": "code",
   "execution_count": 1,
   "metadata": {},
   "outputs": [
    {
     "name": "stderr",
     "output_type": "stream",
     "text": [
      "2023-09-21 15:46:19.002443: I tensorflow/tsl/cuda/cudart_stub.cc:28] Could not find cuda drivers on your machine, GPU will not be used.\n",
      "2023-09-21 15:46:19.051031: I tensorflow/tsl/cuda/cudart_stub.cc:28] Could not find cuda drivers on your machine, GPU will not be used.\n",
      "2023-09-21 15:46:19.051807: I tensorflow/core/platform/cpu_feature_guard.cc:182] This TensorFlow binary is optimized to use available CPU instructions in performance-critical operations.\n",
      "To enable the following instructions: AVX2 FMA, in other operations, rebuild TensorFlow with the appropriate compiler flags.\n",
      "2023-09-21 15:46:19.926196: W tensorflow/compiler/tf2tensorrt/utils/py_utils.cc:38] TF-TRT Warning: Could not find TensorRT\n"
     ]
    }
   ],
   "source": [
    "import os\n",
    "import sys\n",
    "sys.path.insert(0, '../../dlomix')\n",
    "\n",
    "from dlomix.pipelines import QRpipeline\n",
    "from dlomix.pipelines import MCDPipeline"
   ]
  },
  {
   "cell_type": "code",
   "execution_count": 2,
   "metadata": {},
   "outputs": [],
   "source": [
    "QRP = QRpipeline(frozen=1, alpha=0.1)"
   ]
  },
  {
   "cell_type": "code",
   "execution_count": 3,
   "metadata": {},
   "outputs": [
    {
     "name": "stdout",
     "output_type": "stream",
     "text": [
      "187/187 [==============================] - 17s 81ms/step\n",
      "Epoch 1/10\n",
      "848/848 [==============================] - 85s 97ms/step - loss: 4.1107 - mean_absolute_error: 11.1265 - relative_central_distance: 6.6045 - interval_conformal_quantile: 11.5184 - abs_interval_size: 17.6196 - val_loss: 3.2001 - val_mean_absolute_error: 10.8963 - val_relative_central_distance: 0.6504 - val_interval_conformal_quantile: 8.9008 - val_abs_interval_size: 19.2391\n",
      "Epoch 2/10\n",
      "848/848 [==============================] - 87s 103ms/step - loss: 3.2098 - mean_absolute_error: 9.8797 - relative_central_distance: 0.8183 - interval_conformal_quantile: 9.7080 - abs_interval_size: 16.6748 - val_loss: 3.0620 - val_mean_absolute_error: 10.1642 - val_relative_central_distance: 0.6482 - val_interval_conformal_quantile: 8.8622 - val_abs_interval_size: 17.7547\n",
      "Epoch 3/10\n",
      "848/848 [==============================] - 90s 106ms/step - loss: 3.1757 - mean_absolute_error: 9.8762 - relative_central_distance: 0.7666 - interval_conformal_quantile: 9.6763 - abs_interval_size: 16.7516 - val_loss: 3.0207 - val_mean_absolute_error: 9.9785 - val_relative_central_distance: 0.6498 - val_interval_conformal_quantile: 8.7714 - val_abs_interval_size: 17.3937\n",
      "Epoch 4/10\n",
      "848/848 [==============================] - 78s 92ms/step - loss: 3.1472 - mean_absolute_error: 9.8832 - relative_central_distance: 0.7538 - interval_conformal_quantile: 9.3518 - abs_interval_size: 16.8408 - val_loss: 3.0158 - val_mean_absolute_error: 10.1754 - val_relative_central_distance: 0.6301 - val_interval_conformal_quantile: 8.4537 - val_abs_interval_size: 17.8983\n",
      "Epoch 5/10\n",
      "848/848 [==============================] - 82s 97ms/step - loss: 3.1347 - mean_absolute_error: 9.8094 - relative_central_distance: 0.7478 - interval_conformal_quantile: 9.4358 - abs_interval_size: 16.6877 - val_loss: 3.0500 - val_mean_absolute_error: 10.6772 - val_relative_central_distance: 0.5832 - val_interval_conformal_quantile: 7.9791 - val_abs_interval_size: 19.0669\n",
      "Epoch 6/10\n",
      "848/848 [==============================] - 78s 92ms/step - loss: 3.0917 - mean_absolute_error: 9.7033 - relative_central_distance: 0.7424 - interval_conformal_quantile: 9.2989 - abs_interval_size: 16.5298 - val_loss: 2.9642 - val_mean_absolute_error: 9.9040 - val_relative_central_distance: 0.6335 - val_interval_conformal_quantile: 8.4517 - val_abs_interval_size: 17.3490\n",
      "Epoch 7/10\n",
      "848/848 [==============================] - 78s 92ms/step - loss: 3.0974 - mean_absolute_error: 9.7681 - relative_central_distance: 0.7313 - interval_conformal_quantile: 9.1211 - abs_interval_size: 16.6768 - val_loss: 2.9377 - val_mean_absolute_error: 9.6069 - val_relative_central_distance: 0.6360 - val_interval_conformal_quantile: 8.7172 - val_abs_interval_size: 16.6724\n",
      "Epoch 8/10\n",
      "848/848 [==============================] - 82s 97ms/step - loss: 3.1089 - mean_absolute_error: 9.7790 - relative_central_distance: 0.7381 - interval_conformal_quantile: 9.4725 - abs_interval_size: 16.6761 - val_loss: 2.9556 - val_mean_absolute_error: 10.0426 - val_relative_central_distance: 0.6027 - val_interval_conformal_quantile: 8.2148 - val_abs_interval_size: 17.7168\n",
      "Epoch 9/10\n",
      "848/848 [==============================] - 84s 99ms/step - loss: 3.0770 - mean_absolute_error: 9.7329 - relative_central_distance: 0.7237 - interval_conformal_quantile: 9.1562 - abs_interval_size: 16.6410 - val_loss: 2.9336 - val_mean_absolute_error: 9.8513 - val_relative_central_distance: 0.6180 - val_interval_conformal_quantile: 8.3425 - val_abs_interval_size: 17.2935\n",
      "Epoch 10/10\n",
      "848/848 [==============================] - 89s 105ms/step - loss: 3.0455 - mean_absolute_error: 9.7010 - relative_central_distance: 0.7216 - interval_conformal_quantile: 9.0561 - abs_interval_size: 16.6396 - val_loss: 2.9649 - val_mean_absolute_error: 10.2913 - val_relative_central_distance: 0.5870 - val_interval_conformal_quantile: 7.9370 - val_abs_interval_size: 18.3152\n",
      "187/187 [==============================] - 17s 86ms/step\n"
     ]
    }
   ],
   "source": [
    "QRP.run_full_pipeline()"
   ]
  },
  {
   "cell_type": "code",
   "execution_count": null,
   "metadata": {},
   "outputs": [],
   "source": [
    "#initialize Quantile Regression pipeline object\n",
    "QRP = QRpipeline(frozen=1, alpha=0.1)\n",
    "#call the pipeline function to run QR with CP\n",
    "QRP.run_full_pipeline()"
   ]
  },
  {
   "cell_type": "code",
   "execution_count": null,
   "metadata": {},
   "outputs": [],
   "source": []
  },
  {
   "cell_type": "code",
   "execution_count": null,
   "metadata": {},
   "outputs": [],
   "source": [
    "#initialize Monte Carlo Dropout pipeline object\n",
    "MCDP = MCDPipeline(alpha=0.1)\n",
    "#call the pipeline function to run MCD with CP\n",
    "MCDP.run_full_pipeline()"
   ]
  },
  {
   "cell_type": "code",
   "execution_count": null,
   "metadata": {},
   "outputs": [],
   "source": []
  }
 ],
 "metadata": {
  "kernelspec": {
   "display_name": "dlomix",
   "language": "python",
   "name": "python3"
  },
  "language_info": {
   "codemirror_mode": {
    "name": "ipython",
    "version": 3
   },
   "file_extension": ".py",
   "mimetype": "text/x-python",
   "name": "python",
   "nbconvert_exporter": "python",
   "pygments_lexer": "ipython3",
   "version": "3.9.17"
  },
  "orig_nbformat": 4
 },
 "nbformat": 4,
 "nbformat_minor": 2
}
