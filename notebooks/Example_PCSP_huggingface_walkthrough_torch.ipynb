{
 "cells": [
  {
   "cell_type": "markdown",
   "id": "2faaee3a",
   "metadata": {},
   "source": [
    "# Precursor Charge State Prediction\n",
    "\n",
    "This notebook presents a short walkthrough the process of reading a dataset and training a model for precursor charge state prediction. The dataset is an example dataset extracted from a ProteomTools dataset generated in the **Chair of Bioanalytics** at the **School of Life Sciences** at the **Technical University of Munich**.\n",
    "\n",
    "DLOmix is the framework being used here and it is a custom wrapper on top of Keras/TensorFlow and PyTorch.\n",
    "This walkthrough focusses on PyTorch."
   ]
  },
  {
   "cell_type": "code",
   "execution_count": 1,
   "id": "722c861b",
   "metadata": {},
   "outputs": [
    {
     "name": "stdout",
     "output_type": "stream",
     "text": [
      "env: DLOMIX_BACKEND=pytorch\n",
      "Using PyTorch Backend for DLOmix. To change the backend, set the DLOMIX_BACKEND environment variable to tensorflow or pytorch and re-import DLOmix.\n"
     ]
    },
    {
     "data": {
      "text/plain": [
       "'0.1.9'"
      ]
     },
     "execution_count": 1,
     "metadata": {},
     "output_type": "execute_result"
    }
   ],
   "source": [
    "%env DLOMIX_BACKEND pytorch\n",
    "\n",
    "import dlomix\n",
    "dlomix.__version__"
   ]
  },
  {
   "cell_type": "markdown",
   "id": "abad34f9",
   "metadata": {},
   "source": [
    "The available modules in the framework are as follows:\n",
    "\n",
    "- `constants`: constants to be used in the framework (e.g. Aminoacid alphabet mapping)\n",
    "- `data`:  classes for representing dataset, wrappers around HuggingFace datasets to process input data and generate tensor datasets\n",
    "- `eval`: custom evaluation metrics implemented in Keras/TF to work as `metrics` for model training\n",
    "- `layers`: custom layer implementation required for the different models\n",
    "- `models`: different model implementations for Retention Time Prediction\n",
    "- `pipelines`: complete pipelines to run a task (e.g. Retention Time prediction)\n",
    "\n",
    "**Note**: reports and pipelines are work-in-progress, some funtionalities are not complete."
   ]
  },
  {
   "cell_type": "code",
   "execution_count": 2,
   "id": "fe5d3602",
   "metadata": {},
   "outputs": [
    {
     "name": "stdout",
     "output_type": "stream",
     "text": [
      "\n",
      "Avaliable feature extractors are (use the key of the following dict and pass it to features_to_extract in the Dataset Class):\n",
      "{\n",
      "   \"atom_count\": \"Atom count of PTM.\",\n",
      "   \"delta_mass\": \"Delta mass of PTM.\",\n",
      "   \"mod_gain\": \"Gain of atoms due to PTM.\",\n",
      "   \"mod_loss\": \"Loss of atoms due to PTM.\",\n",
      "   \"red_smiles\": \"Reduced SMILES representation of PTM.\"\n",
      "}.\n",
      "When writing your own feature extractor, you can either\n",
      "    (1) use the FeatureExtractor class or\n",
      "    (2) write a function that can be mapped to the Hugging Face dataset.\n",
      "In both cases, you can access the parsed sequence information from the dataset using the following keys, which all provide python lists:\n",
      "    - _parsed_sequence: parsed sequence\n",
      "    - _n_term_mods: N-terminal modifications\n",
      "    - _c_term_mods: C-terminal modifications\n",
      "\n",
      "['BACKEND_IMPORT_ERROR_MESSAGE', 'BACKEND_PRETTY_NAME', 'PYTORCH_BACKEND', 'TENSORFLOW_BACKEND', 'config', 'constants', 'data', 'eval', 'layers', 'losses', 'models', 'pipelines', 'reports', 'torch']\n"
     ]
    }
   ],
   "source": [
    "from dlomix import constants, data, eval, layers, models, pipelines, reports\n",
    "print([x for x in dir(dlomix) if not x.startswith(\"_\")])"
   ]
  },
  {
   "cell_type": "markdown",
   "id": "86656f2e",
   "metadata": {},
   "source": [
    "## required imports"
   ]
  },
  {
   "cell_type": "code",
   "execution_count": 3,
   "id": "e875394b-3f3d-4179-b2ad-004ac33901c4",
   "metadata": {},
   "outputs": [],
   "source": [
    "import torch\n",
    "import torch.nn as nn\n",
    "import torch.optim as optim\n",
    "\n",
    "import pandas as pd\n",
    "import matplotlib.pyplot as plt\n",
    "\n",
    "from dlomix.constants import PTMS_ALPHABET\n",
    "from dlomix.data import ChargeStateDataset\n",
    "from dlomix.models import ChargeStatePredictor"
   ]
  },
  {
   "cell_type": "code",
   "execution_count": 4,
   "id": "e8039d67",
   "metadata": {},
   "outputs": [
    {
     "name": "stdout",
     "output_type": "stream",
     "text": [
      "Using device: mps\n"
     ]
    }
   ],
   "source": [
    "if torch.cuda.is_available():\n",
    "    device = torch.device(\"cuda\")\n",
    "elif torch.backends.mps.is_available():\n",
    "    device = torch.device(\"mps\")\n",
    "else:\n",
    "    device = torch.device(\"cpu\")\n",
    "print(f\"Using device: {device}\")"
   ]
  },
  {
   "cell_type": "markdown",
   "id": "fa8a5cd4",
   "metadata": {},
   "source": [
    "## 1. Load Data\n",
    "\n",
    "We can import the dataset class and create an object of type `ChargeStateDataset`. This object wraps around a Hugging Face dataset that can generate TensorFlow Dataset objects or Torch Dataset for training, validation, or testing. This can be controlled by the arguments `val_ratio`, `val_data_source`, and `test_data_source`.\n",
    "\n",
    "The most important columns of the charge state dataset are:\n",
    "* \"modified_sequence\", representing the peptide sequences, modifications are annotated using the UNIMOD encoding.\n",
    "* \"charge_state_dist\", representing the relative charge state distribution per peptide. It is to be used together with the model_flavour=\"relative\", which is the default.\n",
    "* \"most_abundant_charge_state\", representing the most abundant charge state (as binary vector) per peptide. It is to be used together with the model_flavour=\"dominant\".\n",
    "* \"observed_charge_states\", representing all observed charge states (as binary vector) per peptide. It is to be used together with the model_flavour=\"observed\"."
   ]
  },
  {
   "cell_type": "code",
   "execution_count": 5,
   "id": "aef81bd4-cbb7-45c8-ac3b-e9b2f8b597f0",
   "metadata": {},
   "outputs": [],
   "source": [
    "DATA_PATH = \"Wilhelmlab/prospect-ptms-charge\"   # complete PROSPECT dataset prepared for charge state prediction, contains train, val & test splits\n",
    "BATCH_SIZE = 512"
   ]
  },
  {
   "cell_type": "code",
   "execution_count": 6,
   "id": "983f43fa-5084-49d3-98f7-a7cfc167ed91",
   "metadata": {},
   "outputs": [
    {
     "name": "stdout",
     "output_type": "stream",
     "text": [
      "Applying step: SequenceParsingProcessor on split train...\n"
     ]
    },
    {
     "name": "stderr",
     "output_type": "stream",
     "text": [
      "/Users/Omar/Documents/VSCode_repos/dlomix/dlomix/src/dlomix/data/dataset.py:242: UserWarning: The provided data is assumed to be hosted on the Hugging Face Hub since data_format is set to \"hub\". Validation and test data sources will be ignored.\n",
      "  warnings.warn(\n",
      "/Users/Omar/Documents/VSCode_repos/dlomix/dlomix/src/dlomix/data/dataset.py:309: UserWarning: \n",
      "                Multiple data sources or a single non-train data source provided {'train': 'HF hub dataset - Wilhelmlab/prospect-ptms-charge - train', 'val': 'HF hub dataset - Wilhelmlab/prospect-ptms-charge - val', 'test': 'HF hub dataset - Wilhelmlab/prospect-ptms-charge - test'}, please ensure that the data sources are already split into train, val and test sets\n",
      "                since no splitting will happen. If not, please provide only one data_source and set the val_ratio to split the data into train and val sets.\"\n",
      "                \n",
      "  warnings.warn(\n"
     ]
    },
    {
     "data": {
      "application/vnd.jupyter.widget-view+json": {
       "model_id": "fc8178c9658a471fa40b3e2e04853ba7",
       "version_major": 2,
       "version_minor": 0
      },
      "text/plain": [
       "Mapping SequenceParsingProcessor:   0%|          | 0/1142537 [00:00<?, ? examples/s]"
      ]
     },
     "metadata": {},
     "output_type": "display_data"
    },
    {
     "name": "stdout",
     "output_type": "stream",
     "text": [
      "Applying step: SequenceParsingProcessor on split val...\n"
     ]
    },
    {
     "data": {
      "application/vnd.jupyter.widget-view+json": {
       "model_id": "5c46a2255dcd46bf8fdfaef514fd7bb1",
       "version_major": 2,
       "version_minor": 0
      },
      "text/plain": [
       "Mapping SequenceParsingProcessor:   0%|          | 0/328072 [00:00<?, ? examples/s]"
      ]
     },
     "metadata": {},
     "output_type": "display_data"
    },
    {
     "name": "stdout",
     "output_type": "stream",
     "text": [
      "Applying step: SequenceParsingProcessor on split test...\n"
     ]
    },
    {
     "data": {
      "application/vnd.jupyter.widget-view+json": {
       "model_id": "79dfde74fb9f48fc9d0ebd1a77befe31",
       "version_major": 2,
       "version_minor": 0
      },
      "text/plain": [
       "Mapping SequenceParsingProcessor:   0%|          | 0/161588 [00:00<?, ? examples/s]"
      ]
     },
     "metadata": {},
     "output_type": "display_data"
    },
    {
     "name": "stdout",
     "output_type": "stream",
     "text": [
      "Applying step: SequenceEncodingProcessor on split train...\n"
     ]
    },
    {
     "data": {
      "application/vnd.jupyter.widget-view+json": {
       "model_id": "e34437188fd34b76b4ccb23efab11551",
       "version_major": 2,
       "version_minor": 0
      },
      "text/plain": [
       "Mapping SequenceEncodingProcessor:   0%|          | 0/1142537 [00:00<?, ? examples/s]"
      ]
     },
     "metadata": {},
     "output_type": "display_data"
    },
    {
     "name": "stdout",
     "output_type": "stream",
     "text": [
      "Applying step: SequenceEncodingProcessor on split val...\n"
     ]
    },
    {
     "data": {
      "application/vnd.jupyter.widget-view+json": {
       "model_id": "d035f51916c048fcb28ee1ef361e2a50",
       "version_major": 2,
       "version_minor": 0
      },
      "text/plain": [
       "Mapping SequenceEncodingProcessor:   0%|          | 0/328072 [00:00<?, ? examples/s]"
      ]
     },
     "metadata": {},
     "output_type": "display_data"
    },
    {
     "name": "stdout",
     "output_type": "stream",
     "text": [
      "Applying step: SequenceEncodingProcessor on split test...\n"
     ]
    },
    {
     "data": {
      "application/vnd.jupyter.widget-view+json": {
       "model_id": "63d31fb32b864477a74019ea8c237d77",
       "version_major": 2,
       "version_minor": 0
      },
      "text/plain": [
       "Mapping SequenceEncodingProcessor:   0%|          | 0/161588 [00:00<?, ? examples/s]"
      ]
     },
     "metadata": {},
     "output_type": "display_data"
    },
    {
     "name": "stdout",
     "output_type": "stream",
     "text": [
      "Applying step: SequencePaddingProcessor on split train...\n"
     ]
    },
    {
     "data": {
      "application/vnd.jupyter.widget-view+json": {
       "model_id": "0f8136991cf143eda7853a74c0ef3369",
       "version_major": 2,
       "version_minor": 0
      },
      "text/plain": [
       "Mapping SequencePaddingProcessor:   0%|          | 0/1142537 [00:00<?, ? examples/s]"
      ]
     },
     "metadata": {},
     "output_type": "display_data"
    },
    {
     "data": {
      "application/vnd.jupyter.widget-view+json": {
       "model_id": "0f2d7335de404236849d92e8318957ea",
       "version_major": 2,
       "version_minor": 0
      },
      "text/plain": [
       "Filter:   0%|          | 0/1142537 [00:00<?, ? examples/s]"
      ]
     },
     "metadata": {},
     "output_type": "display_data"
    },
    {
     "name": "stdout",
     "output_type": "stream",
     "text": [
      "Applying step: SequencePaddingProcessor on split val...\n"
     ]
    },
    {
     "data": {
      "application/vnd.jupyter.widget-view+json": {
       "model_id": "58249e54306b49aa85cd686fc02faa56",
       "version_major": 2,
       "version_minor": 0
      },
      "text/plain": [
       "Mapping SequencePaddingProcessor:   0%|          | 0/328072 [00:00<?, ? examples/s]"
      ]
     },
     "metadata": {},
     "output_type": "display_data"
    },
    {
     "data": {
      "application/vnd.jupyter.widget-view+json": {
       "model_id": "257c0e8511614a9a9e9e864d9ec8fe85",
       "version_major": 2,
       "version_minor": 0
      },
      "text/plain": [
       "Filter:   0%|          | 0/328072 [00:00<?, ? examples/s]"
      ]
     },
     "metadata": {},
     "output_type": "display_data"
    },
    {
     "name": "stdout",
     "output_type": "stream",
     "text": [
      "Applying step: SequencePaddingProcessor on split test...\n"
     ]
    },
    {
     "data": {
      "application/vnd.jupyter.widget-view+json": {
       "model_id": "d7c3c50c8c4b467c9c53662034f97149",
       "version_major": 2,
       "version_minor": 0
      },
      "text/plain": [
       "Mapping SequencePaddingProcessor:   0%|          | 0/161588 [00:00<?, ? examples/s]"
      ]
     },
     "metadata": {},
     "output_type": "display_data"
    }
   ],
   "source": [
    "d = ChargeStateDataset(\n",
    "    data_format=\"hub\",\n",
    "    data_source=DATA_PATH,\n",
    "    sequence_column=\"modified_sequence\",\n",
    "    label_column=\"charge_state_dist\",   # use this column for relative charge state distribution\n",
    "    max_seq_len=32,\n",
    "    batch_size=BATCH_SIZE,\n",
    "    dataset_type=\"pt\",   # pytorch\n",
    "    encoding_scheme=\"naive-mods\",\n",
    "    alphabet=PTMS_ALPHABET,\n",
    ")"
   ]
  },
  {
   "cell_type": "markdown",
   "id": "dc837dcb",
   "metadata": {},
   "source": [
    "Now we have an CS dataset that can be used directly with standard or custom `PyTorch` models. This wrapper contains the splits we chose when creating it. In our case, they are training and validation splits. To get the torch DataLoader, we call the attributes `.tensor_train_data` and `.tensor_val_data`."
   ]
  },
  {
   "cell_type": "code",
   "execution_count": 7,
   "id": "86208de7",
   "metadata": {},
   "outputs": [
    {
     "name": "stdout",
     "output_type": "stream",
     "text": [
      "Hugging Face Dataset: DatasetDict({\n",
      "    train: Dataset({\n",
      "        features: ['modified_sequence', 'charge_state_dist', '_parsed_sequence', '_n_term_mods', '_c_term_mods'],\n",
      "        num_rows: 1141555\n",
      "    })\n",
      "    val: Dataset({\n",
      "        features: ['modified_sequence', 'charge_state_dist', '_parsed_sequence', '_n_term_mods', '_c_term_mods'],\n",
      "        num_rows: 327803\n",
      "    })\n",
      "    test: Dataset({\n",
      "        features: ['modified_sequence', 'charge_state_dist', '_parsed_sequence', '_n_term_mods', '_c_term_mods'],\n",
      "        num_rows: 161588\n",
      "    })\n",
      "})\n",
      "Training examples: 1141555\n",
      "one training batch looks like:\n",
      "{'modified_sequence': tensor([[21,  7, 37,  ...,  0,  0,  0],\n",
      "        [56, 16, 13,  ...,  0,  0,  0],\n",
      "        [56,  8, 10,  ...,  0,  0,  0],\n",
      "        ...,\n",
      "        [21, 13,  4,  ...,  0,  0,  0],\n",
      "        [21, 23,  8,  ...,  0,  0,  0],\n",
      "        [21, 20,  6,  ...,  0,  0,  0]]), 'charge_state_dist': tensor([[0.0000, 0.2754, 0.7246, 0.0000, 0.0000, 0.0000],\n",
      "        [0.0000, 1.0000, 0.0000, 0.0000, 0.0000, 0.0000],\n",
      "        [0.0000, 1.0000, 0.0000, 0.0000, 0.0000, 0.0000],\n",
      "        ...,\n",
      "        [1.0000, 0.0000, 0.0000, 0.0000, 0.0000, 0.0000],\n",
      "        [0.0000, 0.9980, 0.0020, 0.0000, 0.0000, 0.0000],\n",
      "        [0.0000, 1.0000, 0.0000, 0.0000, 0.0000, 0.0000]])}\n",
      "\n",
      "Validation examples: 327803\n",
      "\n",
      "Test examples: 161588\n"
     ]
    }
   ],
   "source": [
    "print(\"Hugging Face Dataset:\", d)\n",
    "\n",
    "print(\"Training examples:\", len(d[\"train\"]))\n",
    "print(\"one training batch looks like:\")\n",
    "for x in d.tensor_train_data:\n",
    "    print(x)\n",
    "    break\n",
    "\n",
    "print(\"\\nValidation examples:\", len(d[\"val\"]))\n",
    "print(\"\\nTest examples:\", len(d[\"test\"]))"
   ]
  },
  {
   "cell_type": "markdown",
   "id": "f05ed4e7",
   "metadata": {},
   "source": [
    "## 2. Model\n",
    "\n",
    "We can now create the model. We will use the relative charge state distribution version (set via the parameter model_flavour=\"relative\") of the Prosit-based Precursor Charge State Prediction model `ChargeStatePredictor`. It has default working arguments, but most of the parameters can be customized.\n",
    "\n",
    "**Note**: Important is to ensure that the padding length used for the dataset object is equal to the sequence length passed to the model.\n",
    "\n",
    "The three model flavours of `ChargeStatePredictor` are:\n",
    "\n",
    "1. Dominant Charge State Prediction:\n",
    "   - Task: Predict the dominant charge state of a given peptide sequence.\n",
    "   - Model: Uses a deep learning model (RNN-based) inspired by Prosit's architecture to predict the most likely charge state.\n",
    "\n",
    "2. Observed Charge State Prediction:\n",
    "   - Task: Predict the observed charge states for a given peptide sequence.\n",
    "   - Model: Uses a multi-label classification approach to predict all possible charge states.\n",
    "\n",
    "3. Relative Charge State Prediction:\n",
    "   - Task: Predict the proportion of each charge state for a given peptide sequence.\n",
    "   - Model: Uses a regression approach to predict the proportion of each charge state."
   ]
  },
  {
   "cell_type": "code",
   "execution_count": 8,
   "id": "9662b240",
   "metadata": {},
   "outputs": [
    {
     "data": {
      "text/plain": [
       "ChargeStatePredictor(\n",
       "  (final_activation): Identity()\n",
       "  (embedding): Embedding(57, 16, padding_idx=0)\n",
       "  (encoder): BiGRUSequentialEncoder(\n",
       "    (bidirectional_GRU): GRU(16, 256, batch_first=True, bidirectional=True)\n",
       "    (encoder_dropout1): Dropout(p=0.5, inplace=False)\n",
       "    (unidirectional_GRU): GRU(512, 512, batch_first=True)\n",
       "    (encoder_dropout2): Dropout(p=0.5, inplace=False)\n",
       "  )\n",
       "  (attention): AttentionLayer()\n",
       "  (regressor): Sequential(\n",
       "    (dense): Linear(in_features=512, out_features=512, bias=True)\n",
       "    (activation_relu): ReLU()\n",
       "    (regressor_dropout): Dropout(p=0.1, inplace=False)\n",
       "  )\n",
       "  (output_layer): Linear(in_features=512, out_features=6, bias=True)\n",
       "  (activation): Identity()\n",
       ")"
      ]
     },
     "execution_count": 8,
     "metadata": {},
     "output_type": "execute_result"
    }
   ],
   "source": [
    "model = ChargeStatePredictor(\n",
    "    num_classes=6, seq_length=32, alphabet=PTMS_ALPHABET, model_flavour=\"relative\"\n",
    ")\n",
    "\n",
    "model.to(device)"
   ]
  },
  {
   "cell_type": "code",
   "execution_count": 9,
   "id": "04ef3817-6f98-4e1d-86e3-479c8c8252ff",
   "metadata": {},
   "outputs": [],
   "source": [
    "criterion = nn.MSELoss()  # for relative CSD\n",
    "optimizer = optim.Adam(model.parameters(), lr=0.0001)"
   ]
  },
  {
   "cell_type": "markdown",
   "id": "0b9149df",
   "metadata": {},
   "source": [
    "## 3. Training\n",
    "\n",
    "We can then train the model using a custom training loop. You can observe the decreasing loss value"
   ]
  },
  {
   "cell_type": "code",
   "execution_count": 10,
   "id": "3a6a1cdb-1957-455d-862a-9b790e91f0a7",
   "metadata": {},
   "outputs": [],
   "source": [
    "# Learning rate scheduler.\n",
    "scheduler = optim.lr_scheduler.ReduceLROnPlateau(\n",
    "    optimizer,\n",
    "    factor=0.1,  # lr factor\n",
    "    patience=2,  # lr patience\n",
    "    min_lr=1e-7,\n",
    ")\n",
    "\n",
    "# Early stopping tracking.\n",
    "best_val_loss = float(\"inf\")\n",
    "epochs_without_improvement = 0\n",
    "best_model_state = None\n",
    "\n",
    "# Prepare a list to store metrics per epoch for CSV logging.\n",
    "metrics_log = []  # Each element will be a dict with keys: epoch, train_loss, val_loss, learning_rate"
   ]
  },
  {
   "cell_type": "code",
   "execution_count": 11,
   "id": "a895db80",
   "metadata": {},
   "outputs": [
    {
     "name": "stdout",
     "output_type": "stream",
     "text": [
      "Epoch 1, Step 0, Training Loss: 0.1645\n",
      "Epoch 1, Step 100, Training Loss: 0.0903\n",
      "Epoch 1, Step 200, Training Loss: 0.0773\n",
      "Epoch 1, Step 300, Training Loss: 0.0653\n",
      "Epoch 1, Step 400, Training Loss: 0.0564\n",
      "Epoch 1, Step 500, Training Loss: 0.0502\n",
      "Epoch 1, Step 600, Training Loss: 0.0456\n",
      "Epoch 1, Step 700, Training Loss: 0.0421\n",
      "Epoch 1, Step 800, Training Loss: 0.0394\n",
      "Epoch 1, Step 900, Training Loss: 0.0371\n",
      "Epoch 1, Step 1000, Training Loss: 0.0353\n",
      "Epoch 1, Step 1100, Training Loss: 0.0337\n",
      "Epoch 1, Step 1200, Training Loss: 0.0324\n",
      "Epoch 1, Step 1300, Training Loss: 0.0312\n",
      "Epoch 1, Step 1400, Training Loss: 0.0302\n",
      "Epoch 1, Step 1500, Training Loss: 0.0293\n",
      "Epoch 1, Step 1600, Training Loss: 0.0285\n",
      "Epoch 1, Step 1700, Training Loss: 0.0278\n",
      "Epoch 1, Step 1800, Training Loss: 0.0272\n",
      "Epoch 1, Step 1900, Training Loss: 0.0266\n",
      "Epoch 1, Step 2000, Training Loss: 0.0260\n",
      "Epoch 1, Step 2100, Training Loss: 0.0255\n",
      "Epoch 1, Step 2200, Training Loss: 0.0250\n",
      "Epoch 1 Summary: Train Loss: 0.0249, Validation Loss: 0.0146\n",
      "Epoch 1: Current Learning Rate: 0.0001\n",
      "Epoch 2, Step 0, Training Loss: 0.0204\n",
      "Epoch 2, Step 100, Training Loss: 0.0153\n",
      "Epoch 2, Step 200, Training Loss: 0.0151\n",
      "Epoch 2, Step 300, Training Loss: 0.0150\n",
      "Epoch 2, Step 400, Training Loss: 0.0149\n",
      "Epoch 2, Step 500, Training Loss: 0.0148\n",
      "Epoch 2, Step 600, Training Loss: 0.0148\n",
      "Epoch 2, Step 700, Training Loss: 0.0146\n",
      "Epoch 2, Step 800, Training Loss: 0.0145\n",
      "Epoch 2, Step 900, Training Loss: 0.0144\n",
      "Epoch 2, Step 1000, Training Loss: 0.0143\n",
      "Epoch 2, Step 1100, Training Loss: 0.0142\n",
      "Epoch 2, Step 1200, Training Loss: 0.0142\n",
      "Epoch 2, Step 1300, Training Loss: 0.0141\n",
      "Epoch 2, Step 1400, Training Loss: 0.0141\n",
      "Epoch 2, Step 1500, Training Loss: 0.0140\n",
      "Epoch 2, Step 1600, Training Loss: 0.0140\n",
      "Epoch 2, Step 1700, Training Loss: 0.0140\n",
      "Epoch 2, Step 1800, Training Loss: 0.0139\n",
      "Epoch 2, Step 1900, Training Loss: 0.0139\n",
      "Epoch 2, Step 2000, Training Loss: 0.0138\n",
      "Epoch 2, Step 2100, Training Loss: 0.0137\n",
      "Epoch 2, Step 2200, Training Loss: 0.0137\n",
      "Epoch 2 Summary: Train Loss: 0.0137, Validation Loss: 0.0115\n",
      "Epoch 2: Current Learning Rate: 0.0001\n"
     ]
    }
   ],
   "source": [
    "# Training and Validation\n",
    "# -------------------------\n",
    "\n",
    "for epoch in range(1, 3):  # reduced for demonstration\n",
    "    model.train()\n",
    "    running_loss = 0.0\n",
    "    local_step = 0\n",
    "\n",
    "    for batch in d.tensor_train_data:\n",
    "        train_seq = batch[\"modified_sequence\"]\n",
    "        train_label = batch[\"charge_state_dist\"]\n",
    "\n",
    "        # Ensure tensors are on the correct device and type\n",
    "        train_seq = train_seq.to(device, dtype=torch.int32)\n",
    "        train_label = train_label.to(device, dtype=torch.float32)\n",
    "\n",
    "        optimizer.zero_grad()\n",
    "        pred_cs = model(train_seq)\n",
    "        loss = criterion(pred_cs, train_label)\n",
    "        loss.backward()\n",
    "        optimizer.step()\n",
    "\n",
    "        running_loss += loss.item()\n",
    "        if local_step % 100 == 0:\n",
    "            avg_loss = running_loss / (local_step + 1)\n",
    "            print(f\"Epoch {epoch}, Step {local_step}, Training Loss: {avg_loss:.4f}\")\n",
    "        local_step += 1\n",
    "\n",
    "    avg_train_loss = running_loss / len(d.tensor_train_data)\n",
    "\n",
    "    # Validation phase.\n",
    "    model.eval()\n",
    "    val_loss_total = 0.0\n",
    "    with torch.no_grad():\n",
    "        for batch in d.tensor_val_data:\n",
    "            val_seq = batch[\"modified_sequence\"]\n",
    "            val_label = batch[\"charge_state_dist\"]\n",
    "\n",
    "            # Ensure tensors are on the correct device and type\n",
    "            val_seq = val_seq.to(device, dtype=torch.int32)\n",
    "            val_label = val_label.to(device, dtype=torch.float32)\n",
    "\n",
    "            val_pred_cs = model(val_seq)\n",
    "            val_loss = criterion(val_pred_cs, val_label)\n",
    "            val_loss_total += val_loss.item()\n",
    "\n",
    "            # TODO add adjusted_mean_absolute_error metric\n",
    "\n",
    "    avg_val_loss = val_loss_total / len(d.tensor_val_data)\n",
    "    print(\n",
    "        f\"Epoch {epoch} Summary: Train Loss: {avg_train_loss:.4f}, Validation Loss: {avg_val_loss:.4f}\"\n",
    "    )\n",
    "\n",
    "    # Learning rate scheduler using the validation loss.\n",
    "    scheduler.step(avg_val_loss)\n",
    "    current_lr = scheduler.optimizer.param_groups[0][\"lr\"]\n",
    "    print(f\"Epoch {epoch}: Current Learning Rate: {current_lr}\")\n",
    "\n",
    "    # Early stopping check.\n",
    "    if avg_val_loss < best_val_loss:\n",
    "        best_val_loss = avg_val_loss\n",
    "        epochs_without_improvement = 0\n",
    "        best_model_state = model.state_dict()\n",
    "    else:\n",
    "        epochs_without_improvement += 1\n",
    "        print(f\"No improvement for {epochs_without_improvement} epoch(s).\")\n",
    "        if epochs_without_improvement >= 5:  # patience\n",
    "            print(\"Early stopping triggered.\")\n",
    "            # Log current epoch metrics before breaking.\n",
    "            metrics_log.append(\n",
    "                {\n",
    "                    \"epoch\": epoch,\n",
    "                    \"train_loss\": avg_train_loss,\n",
    "                    \"val_loss\": avg_val_loss,\n",
    "                    \"test_loss\": None,\n",
    "                    \"learning_rate\": current_lr,\n",
    "                }\n",
    "            )\n",
    "            break\n",
    "\n",
    "    # Log metrics for the current epoch.\n",
    "    metrics_log.append(\n",
    "        {\n",
    "            \"epoch\": epoch,\n",
    "            \"train_loss\": avg_train_loss,\n",
    "            \"val_loss\": avg_val_loss,\n",
    "            \"learning_rate\": current_lr,\n",
    "        }\n",
    "    )"
   ]
  },
  {
   "cell_type": "code",
   "execution_count": 12,
   "id": "e053c879-e9c2-48d1-b6c5-45b640836d93",
   "metadata": {},
   "outputs": [
    {
     "name": "stdout",
     "output_type": "stream",
     "text": [
      "Loaded best model state.\n"
     ]
    },
    {
     "data": {
      "text/html": [
       "<div>\n",
       "<style scoped>\n",
       "    .dataframe tbody tr th:only-of-type {\n",
       "        vertical-align: middle;\n",
       "    }\n",
       "\n",
       "    .dataframe tbody tr th {\n",
       "        vertical-align: top;\n",
       "    }\n",
       "\n",
       "    .dataframe thead th {\n",
       "        text-align: right;\n",
       "    }\n",
       "</style>\n",
       "<table border=\"1\" class=\"dataframe\">\n",
       "  <thead>\n",
       "    <tr style=\"text-align: right;\">\n",
       "      <th></th>\n",
       "      <th>epoch</th>\n",
       "      <th>train_loss</th>\n",
       "      <th>val_loss</th>\n",
       "      <th>learning_rate</th>\n",
       "    </tr>\n",
       "  </thead>\n",
       "  <tbody>\n",
       "    <tr>\n",
       "      <th>0</th>\n",
       "      <td>1</td>\n",
       "      <td>0.024894</td>\n",
       "      <td>0.014605</td>\n",
       "      <td>0.0001</td>\n",
       "    </tr>\n",
       "    <tr>\n",
       "      <th>1</th>\n",
       "      <td>2</td>\n",
       "      <td>0.013670</td>\n",
       "      <td>0.011533</td>\n",
       "      <td>0.0001</td>\n",
       "    </tr>\n",
       "  </tbody>\n",
       "</table>\n",
       "</div>"
      ],
      "text/plain": [
       "   epoch  train_loss  val_loss  learning_rate\n",
       "0      1    0.024894  0.014605         0.0001\n",
       "1      2    0.013670  0.011533         0.0001"
      ]
     },
     "metadata": {},
     "output_type": "display_data"
    }
   ],
   "source": [
    "# Restore the best model.\n",
    "if best_model_state is not None:\n",
    "    model.load_state_dict(best_model_state)\n",
    "    print(\"Loaded best model state.\")\n",
    "\n",
    "\n",
    "train_val_metrices_df = pd.DataFrame(metrics_log)\n",
    "display(train_val_metrices_df.head())"
   ]
  },
  {
   "cell_type": "markdown",
   "id": "8eef5a2f",
   "metadata": {},
   "source": [
    "### Visualize Training History"
   ]
  },
  {
   "cell_type": "code",
   "execution_count": 13,
   "id": "d79c27ad",
   "metadata": {},
   "outputs": [],
   "source": [
    "def plot_learning_curves(metric_df, title='Learning Curves'):\n",
    "    \n",
    "    plt.figure()\n",
    "    plt.plot(\n",
    "        metric_df[\"epoch\"], \n",
    "        metric_df[\"train_loss\"], \n",
    "        'b-', \n",
    "        label='Training Loss'\n",
    "    )\n",
    "    plt.plot(\n",
    "        metric_df[\"epoch\"], \n",
    "        metric_df[\"val_loss\"],\n",
    "        'r-', \n",
    "        label='Validation Loss'\n",
    "    )\n",
    "    plt.title(title)\n",
    "    plt.xlabel('Epochs')\n",
    "    plt.ylabel('Loss')\n",
    "    plt.legend()\n",
    "    plt.show()"
   ]
  },
  {
   "cell_type": "code",
   "execution_count": 14,
   "id": "4b86f321",
   "metadata": {},
   "outputs": [
    {
     "data": {
      "image/png": "[encoded data removed]",
      "text/plain": [
       "<Figure size 640x480 with 1 Axes>"
      ]
     },
     "metadata": {},
     "output_type": "display_data"
    }
   ],
   "source": [
    "plot_learning_curves(train_val_metrices_df, title='Charge State Distribution Model')"
   ]
  },
  {
   "cell_type": "markdown",
   "id": "0fb70557",
   "metadata": {},
   "source": [
    "## 3. Testing\n",
    "\n",
    "The ChargeStateDataset also contains a test dataset to test our model.\n",
    "\n",
    "**Note**: Currently there is no reporting module available for CS prediction."
   ]
  },
  {
   "cell_type": "code",
   "execution_count": 15,
   "id": "e05fe0e2",
   "metadata": {},
   "outputs": [
    {
     "name": "stdout",
     "output_type": "stream",
     "text": [
      "Test Loss: 0.0116\n",
      "first 5 test sequences:\n",
      " tensor([[21, 18,  6,  9,  4,  3, 16, 24, 16, 17,  4,  5, 18,  4,  9, 22,  0,  0,\n",
      "          0,  0,  0,  0,  0,  0,  0,  0,  0,  0,  0,  0,  0,  0],\n",
      "        [21, 10,  1, 16, 20,  9, 16, 20, 16, 16, 17,  5,  7, 16, 10,  4,  4, 14,\n",
      "         14, 18, 37, 23,  1, 18,  3,  8,  6, 15, 22,  0,  0,  0],\n",
      "        [21,  8,  1,  8,  3,  7, 12, 14, 23,  5, 14, 20,  5,  8, 17, 18, 18, 13,\n",
      "         17,  9, 22,  0,  0,  0,  0,  0,  0,  0,  0,  0,  0,  0],\n",
      "        [21, 12, 15,  1, 10, 20,  3,  1, 23,  1,  1,  3,  4, 15, 18, 22,  0,  0,\n",
      "          0,  0,  0,  0,  0,  0,  0,  0,  0,  0,  0,  0,  0,  0],\n",
      "        [56, 12, 10, 18, 13,  4,  4,  1,  3,  4,  7, 10,  5,  1, 10,  4, 55, 22,\n",
      "          0,  0,  0,  0,  0,  0,  0,  0,  0,  0,  0,  0,  0,  0]],\n",
      "       device='mps:0', dtype=torch.int32)\n",
      "first 5 test relative charge state vectors (label):\n",
      "tensor([[0.0000, 1.0000, 0.0000, 0.0000, 0.0000, 0.0000],\n",
      "        [0.0000, 0.0000, 0.0000, 1.0000, 0.0000, 0.0000],\n",
      "        [0.0000, 0.0040, 0.9960, 0.0000, 0.0000, 0.0000],\n",
      "        [0.0000, 0.1792, 0.8208, 0.0000, 0.0000, 0.0000],\n",
      "        [0.0000, 0.0000, 1.0000, 0.0000, 0.0000, 0.0000]], device='mps:0')\n",
      "first 5 relative charge state predictions for test:\n",
      " tensor([[ 4.5707e-03,  9.5842e-01,  2.5152e-02, -7.3593e-04,  1.4477e-03,\n",
      "         -6.7612e-04],\n",
      "        [-2.5342e-03, -2.8748e-02,  2.9818e-01,  6.9044e-01, -1.1226e-02,\n",
      "          1.3986e-03],\n",
      "        [-1.7557e-03,  5.3581e-02,  9.2668e-01,  5.4067e-03, -1.0280e-03,\n",
      "         -5.9207e-04],\n",
      "        [ 8.8611e-04,  4.0587e-01,  6.4408e-01,  2.2026e-03,  7.6127e-04,\n",
      "         -1.8692e-03],\n",
      "        [-2.8797e-03,  2.0823e-02,  9.8193e-01, -1.8874e-03, -2.5676e-04,\n",
      "         -7.0981e-05]], device='mps:0')\n",
      "predictions.shape for test set: torch.Size([308, 6]) number of test CS vectors (label): 308\n"
     ]
    }
   ],
   "source": [
    "metrics_log_test= []\n",
    "\n",
    "model.eval()\n",
    "\n",
    "test_loss_total = 0.0\n",
    "with torch.no_grad():\n",
    "    for batch in d.tensor_test_data:\n",
    "        test_seq = batch[\"modified_sequence\"]\n",
    "        test_label = batch[\"charge_state_dist\"]\n",
    "\n",
    "        # Ensure tensors are on the correct device and type\n",
    "        test_seq = test_seq.to(device, dtype=torch.int32)\n",
    "        test_label = test_label.to(device, dtype=torch.float32)\n",
    "\n",
    "        test_pred_cs = model(test_seq)\n",
    "        test_loss = criterion(test_pred_cs, test_label)\n",
    "\n",
    "        test_loss_total += test_loss.item()\n",
    "avg_test_loss = test_loss_total / len(d.tensor_test_data)\n",
    "print(f\"Test Loss: {avg_test_loss:.4f}\")\n",
    "\n",
    "# Append final test metrics as an extra row in our log.\n",
    "metrics_log_test.append(\n",
    "    {\n",
    "        \"epoch\": \"test\",\n",
    "        \"test_loss\": avg_test_loss,\n",
    "    }\n",
    ")\n",
    "\n",
    "print(\"first 5 test sequences:\\n\", test_seq[:5])\n",
    "print(\"first 5 test relative charge state vectors (label):\\n\", test_label[:5])\n",
    "print(\"first 5 relative charge state predictions for test:\\n\", test_pred_cs[:5])\n",
    "print(\n",
    "    \"predictions.shape for test set:\",\n",
    "    test_pred_cs.shape,\n",
    "    \"number of test CS vectors (label):\",\n",
    "    len(test_label),\n",
    ")"
   ]
  },
  {
   "cell_type": "code",
   "execution_count": 16,
   "id": "61909d83-afdc-423d-82f4-d4b443b2e3f3",
   "metadata": {},
   "outputs": [
    {
     "data": {
      "text/plain": [
       "tensor(0.1190, device='mps:0')"
      ]
     },
     "execution_count": 16,
     "metadata": {},
     "output_type": "execute_result"
    }
   ],
   "source": [
    "from dlomix.eval import adjusted_mean_absolute_error\n",
    "adjusted_mean_absolute_error(test_pred_cs, test_label)"
   ]
  },
  {
   "cell_type": "markdown",
   "id": "60aa5a89",
   "metadata": {},
   "source": [
    "## 4. Saving and Loading Models\n",
    "\n",
    "Models can be saved normally the same Keras models would be saved. It is better to save the weights and the not the model since it makes it easier and more platform-indepdent when loading the model again. The extra step needed is to create a model object and then load the weights."
   ]
  },
  {
   "cell_type": "code",
   "execution_count": 17,
   "id": "4b2c7cdf",
   "metadata": {},
   "outputs": [],
   "source": [
    "# save the models state_dict (contains all the weights and biases of the model)\n",
    "\n",
    "save_path = \"./output/csd_model_state_dict.pt\"\n",
    "torch.save(model.state_dict(), save_path)"
   ]
  },
  {
   "cell_type": "code",
   "execution_count": 18,
   "id": "40757b96",
   "metadata": {},
   "outputs": [
    {
     "data": {
      "text/plain": [
       "<All keys matched successfully>"
      ]
     },
     "execution_count": 18,
     "metadata": {},
     "output_type": "execute_result"
    }
   ],
   "source": [
    "# models can be later loaded by creating a model object and then loading the weights\n",
    "\n",
    "# initialize model\n",
    "loaded_model = ChargeStatePredictor(\n",
    "    num_classes=6, seq_length=32, alphabet=PTMS_ALPHABET, model_flavour=\"relative\"\n",
    ")\n",
    "\n",
    "# load trained model states\n",
    "state_dict = torch.load(save_path)\n",
    "loaded_model.load_state_dict(state_dict)"
   ]
  }
 ],
 "metadata": {
  "kernelspec": {
   "display_name": "Python 3 (ipykernel)",
   "language": "python",
   "name": "python3"
  },
  "language_info": {
   "codemirror_mode": {
    "name": "ipython",
    "version": 3
   },
   "file_extension": ".py",
   "mimetype": "text/x-python",
   "name": "python",
   "nbconvert_exporter": "python",
   "pygments_lexer": "ipython3",
   "version": "3.9.21"
  }
 },
 "nbformat": 4,
 "nbformat_minor": 5
}
