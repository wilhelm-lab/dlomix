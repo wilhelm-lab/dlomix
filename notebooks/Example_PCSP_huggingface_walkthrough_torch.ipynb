{
 "cells": [
  {
   "cell_type": "markdown",
   "id": "2faaee3a",
   "metadata": {},
   "source": [
    "# Precursor Charge State Prediction\n",
    "\n",
    "This notebook presents a short walkthrough the process of reading a dataset and training a model for precursor charge state prediction. The dataset is an example dataset extracted from a ProteomTools dataset generated in the **Chair of Bioanalytics** at the **School of Life Sciences** at the **Technical University of Munich**.\n",
    "\n",
    "DLOmix is the framework being used here and it is a custom wrapper on top of Keras/TensorFlow and PyTorch.\n",
    "This walkthrough focusses on PyTorch."
   ]
  },
  {
   "cell_type": "code",
   "execution_count": 1,
   "id": "722c861b",
   "metadata": {},
   "outputs": [
    {
     "name": "stdout",
     "output_type": "stream",
     "text": [
      "env: DLOMIX_BACKEND=pytorch\n",
      "Using PyTorch Backend for DLOmix. To change the backend, set the DLOMIX_BACKEND environment variable to tensorflow or pytorch and re-import DLOmix.\n"
     ]
    }
   ],
   "source": [
    "%env DLOMIX_BACKEND pytorch\n",
    "\n",
    "import dlomix\n",
    "#dlomix.__version__"
   ]
  },
  {
   "cell_type": "markdown",
   "id": "abad34f9",
   "metadata": {},
   "source": [
    "The available modules in the framework are as follows:\n",
    "\n",
    "- `constants`: constants to be used in the framework (e.g. Aminoacid alphabet mapping)\n",
    "- `data`:  classes for representing dataset, wrappers around HuggingFace datasets to process input data and generate tensor datasets\n",
    "- `eval`: custom evaluation metrics implemented in Keras/TF to work as `metrics` for model training\n",
    "- `layers`: custom layer implementation required for the different models\n",
    "- `models`: different model implementations for Retention Time Prediction\n",
    "- `pipelines`: complete pipelines to run a task (e.g. Retention Time prediction)\n",
    "\n",
    "**Note**: reports and pipelines are work-in-progress, some funtionalities are not complete."
   ]
  },
  {
   "cell_type": "code",
   "execution_count": 2,
   "id": "fe5d3602",
   "metadata": {},
   "outputs": [
    {
     "name": "stderr",
     "output_type": "stream",
     "text": [
      "/cmnfs/home/a.schroeder/miniconda3/envs/dlomix_torch_mini_AyS/lib/python3.10/site-packages/tqdm/auto.py:21: TqdmWarning: IProgress not found. Please update jupyter and ipywidgets. See https://ipywidgets.readthedocs.io/en/stable/user_install.html\n",
      "  from .autonotebook import tqdm as notebook_tqdm\n"
     ]
    },
    {
     "name": "stdout",
     "output_type": "stream",
     "text": [
      "\n",
      "Avaliable feature extractors are (use the key of the following dict and pass it to features_to_extract in the Dataset Class):\n",
      "{\n",
      "   \"atom_count\": \"Atom count of PTM.\",\n",
      "   \"delta_mass\": \"Delta mass of PTM.\",\n",
      "   \"mod_gain\": \"Gain of atoms due to PTM.\",\n",
      "   \"mod_loss\": \"Loss of atoms due to PTM.\",\n",
      "   \"red_smiles\": \"Reduced SMILES representation of PTM.\"\n",
      "}.\n",
      "When writing your own feature extractor, you can either\n",
      "    (1) use the FeatureExtractor class or\n",
      "    (2) write a function that can be mapped to the Hugging Face dataset.\n",
      "In both cases, you can access the parsed sequence information from the dataset using the following keys, which all provide python lists:\n",
      "    - _parsed_sequence: parsed sequence\n",
      "    - _n_term_mods: N-terminal modifications\n",
      "    - _c_term_mods: C-terminal modifications\n",
      "\n"
     ]
    },
    {
     "name": "stderr",
     "output_type": "stream",
     "text": [
      "2025-04-15 09:50:46.844946: E external/local_xla/xla/stream_executor/cuda/cuda_dnn.cc:9261] Unable to register cuDNN factory: Attempting to register factory for plugin cuDNN when one has already been registered\n",
      "2025-04-15 09:50:46.844985: E external/local_xla/xla/stream_executor/cuda/cuda_fft.cc:607] Unable to register cuFFT factory: Attempting to register factory for plugin cuFFT when one has already been registered\n",
      "2025-04-15 09:50:46.846356: E external/local_xla/xla/stream_executor/cuda/cuda_blas.cc:1515] Unable to register cuBLAS factory: Attempting to register factory for plugin cuBLAS when one has already been registered\n",
      "2025-04-15 09:50:46.854175: I tensorflow/core/platform/cpu_feature_guard.cc:182] This TensorFlow binary is optimized to use available CPU instructions in performance-critical operations.\n",
      "To enable the following instructions: AVX2 FMA, in other operations, rebuild TensorFlow with the appropriate compiler flags.\n",
      "2025-04-15 09:50:49.367146: W tensorflow/compiler/tf2tensorrt/utils/py_utils.cc:38] TF-TRT Warning: Could not find TensorRT\n"
     ]
    },
    {
     "name": "stdout",
     "output_type": "stream",
     "text": [
      "['BACKEND_IMPORT_ERROR_MESSAGE', 'BACKEND_PRETTY_NAME', 'PYTORCH_BACKEND', 'TENSORFLOW_BACKEND', 'config', 'constants', 'data', 'eval', 'layers', 'losses', 'models', 'pipelines', 'reports', 'torch']\n"
     ]
    }
   ],
   "source": [
    "from dlomix import constants, data, eval, layers, models, pipelines, reports\n",
    "print([x for x in dir(dlomix) if not x.startswith(\"_\")])"
   ]
  },
  {
   "cell_type": "markdown",
   "id": "86656f2e",
   "metadata": {},
   "source": [
    "## required imports"
   ]
  },
  {
   "cell_type": "code",
   "execution_count": 3,
   "id": "e875394b-3f3d-4179-b2ad-004ac33901c4",
   "metadata": {},
   "outputs": [],
   "source": [
    "import torch\n",
    "import torch.nn as nn\n",
    "import torch.optim as optim\n",
    "\n",
    "import pandas as pd\n",
    "import matplotlib.pyplot as plt\n",
    "\n",
    "from dlomix.constants import PTMS_ALPHABET\n",
    "from dlomix.data import ChargeStateDataset\n",
    "from dlomix.models import ChargeStatePredictor"
   ]
  },
  {
   "cell_type": "code",
   "execution_count": 4,
   "id": "e8039d67",
   "metadata": {},
   "outputs": [
    {
     "name": "stdout",
     "output_type": "stream",
     "text": [
      "Using device: cuda\n"
     ]
    }
   ],
   "source": [
    "if torch.cuda.is_available():\n",
    "    device = torch.device(\"cuda\")\n",
    "elif torch.backends.mps.is_available():\n",
    "    device = torch.device(\"mps\")\n",
    "else:\n",
    "    device = torch.device(\"cpu\")\n",
    "print(f\"Using device: {device}\")"
   ]
  },
  {
   "cell_type": "markdown",
   "id": "fa8a5cd4",
   "metadata": {},
   "source": [
    "## 1. Load Data\n",
    "\n",
    "We can import the dataset class and create an object of type `ChargeStateDataset`. This object wraps around a Hugging Face dataset that can generate TensorFlow Dataset objects or Torch Dataset for training, validation, or testing. This can be controlled by the arguments `val_ratio`, `val_data_source`, and `test_data_source`.\n",
    "\n",
    "The most important columns of the charge state dataset are:\n",
    "* \"modified_sequence\", representing the peptide sequences, modifications are annotated using the UNIMOD encoding.\n",
    "* \"charge_state_dist\", representing the relative charge state distribution per peptide. It is to be used together with the model_flavour=\"relative\", which is the default.\n",
    "* \"most_abundant_charge_state\", representing the most abundant charge state (as binary vector) per peptide. It is to be used together with the model_flavour=\"dominant\".\n",
    "* \"observed_charge_states\", representing all observed charge states (as binary vector) per peptide. It is to be used together with the model_flavour=\"observed\"."
   ]
  },
  {
   "cell_type": "code",
   "execution_count": 5,
   "id": "aef81bd4-cbb7-45c8-ac3b-e9b2f8b597f0",
   "metadata": {},
   "outputs": [],
   "source": [
    "DATA_PATH = \"Wilhelmlab/prospect-ptms-charge\"   # complete PROSPECT dataset prepared for charge state prediction, contains train, val & test splits\n",
    "BATCH_SIZE = 2048"
   ]
  },
  {
   "cell_type": "code",
   "execution_count": 6,
   "id": "983f43fa-5084-49d3-98f7-a7cfc167ed91",
   "metadata": {},
   "outputs": [
    {
     "name": "stderr",
     "output_type": "stream",
     "text": [
      "/cmnfs/home/a.schroeder/dev/wilhelm-lab/dlomix/src/dlomix/data/dataset.py:242: UserWarning: The provided data is assumed to be hosted on the Hugging Face Hub since data_format is set to \"hub\". Validation and test data sources will be ignored.\n",
      "  warnings.warn(\n",
      "/cmnfs/home/a.schroeder/dev/wilhelm-lab/dlomix/src/dlomix/data/dataset.py:309: UserWarning: \n",
      "                Multiple data sources or a single non-train data source provided {'train': 'HF hub dataset - Wilhelmlab/prospect-ptms-charge - train', 'val': 'HF hub dataset - Wilhelmlab/prospect-ptms-charge - val', 'test': 'HF hub dataset - Wilhelmlab/prospect-ptms-charge - test'}, please ensure that the data sources are already split into train, val and test sets\n",
      "                since no splitting will happen. If not, please provide only one data_source and set the val_ratio to split the data into train and val sets.\"\n",
      "                \n",
      "  warnings.warn(\n",
      "/cmnfs/home/a.schroeder/dev/wilhelm-lab/dlomix/src/dlomix/data/dataset.py:360: UserWarning: Encoding scheme is unmod, this enforces removing all occurences of PTMs in the sequences.\n",
      "If you prefer to encode the (amino-acids)+PTM combinations as tokens in the vocabulary, please use the encoding scheme 'naive-mods'.\n",
      "\n",
      "  warnings.warn(\n"
     ]
    },
    {
     "name": "stdout",
     "output_type": "stream",
     "text": [
      "Applying step: SequenceParsingProcessor on split train...\n"
     ]
    },
    {
     "name": "stderr",
     "output_type": "stream",
     "text": [
      "Mapping SequenceParsingProcessor: 100%|██████████| 1142537/1142537 [00:19<00:00, 58693.04 examples/s]\n"
     ]
    },
    {
     "name": "stdout",
     "output_type": "stream",
     "text": [
      "Applying step: SequenceParsingProcessor on split val...\n"
     ]
    },
    {
     "name": "stderr",
     "output_type": "stream",
     "text": [
      "Mapping SequenceParsingProcessor: 100%|██████████| 328072/328072 [00:05<00:00, 57630.06 examples/s]\n"
     ]
    },
    {
     "name": "stdout",
     "output_type": "stream",
     "text": [
      "Applying step: SequenceParsingProcessor on split test...\n"
     ]
    },
    {
     "name": "stderr",
     "output_type": "stream",
     "text": [
      "Mapping SequenceParsingProcessor: 100%|██████████| 161588/161588 [00:02<00:00, 55759.28 examples/s]\n"
     ]
    },
    {
     "name": "stdout",
     "output_type": "stream",
     "text": [
      "Applying step: SequencePTMRemovalProcessor on split train...\n"
     ]
    },
    {
     "name": "stderr",
     "output_type": "stream",
     "text": [
      "Mapping SequencePTMRemovalProcessor: 100%|██████████| 1142537/1142537 [00:33<00:00, 34435.91 examples/s]\n"
     ]
    },
    {
     "name": "stdout",
     "output_type": "stream",
     "text": [
      "Applying step: SequencePTMRemovalProcessor on split val...\n"
     ]
    },
    {
     "name": "stderr",
     "output_type": "stream",
     "text": [
      "Mapping SequencePTMRemovalProcessor: 100%|██████████| 328072/328072 [00:07<00:00, 41145.17 examples/s]\n"
     ]
    },
    {
     "name": "stdout",
     "output_type": "stream",
     "text": [
      "Applying step: SequencePTMRemovalProcessor on split test...\n"
     ]
    },
    {
     "name": "stderr",
     "output_type": "stream",
     "text": [
      "Mapping SequencePTMRemovalProcessor: 100%|██████████| 161588/161588 [00:03<00:00, 42551.45 examples/s]\n"
     ]
    },
    {
     "name": "stdout",
     "output_type": "stream",
     "text": [
      "Applying step: SequenceEncodingProcessor on split train...\n"
     ]
    },
    {
     "name": "stderr",
     "output_type": "stream",
     "text": [
      "Mapping SequenceEncodingProcessor: 100%|██████████| 1142537/1142537 [00:27<00:00, 41997.20 examples/s]\n"
     ]
    },
    {
     "name": "stdout",
     "output_type": "stream",
     "text": [
      "Applying step: SequenceEncodingProcessor on split val...\n"
     ]
    },
    {
     "name": "stderr",
     "output_type": "stream",
     "text": [
      "Mapping SequenceEncodingProcessor: 100%|██████████| 328072/328072 [00:08<00:00, 40988.07 examples/s]\n"
     ]
    },
    {
     "name": "stdout",
     "output_type": "stream",
     "text": [
      "Applying step: SequenceEncodingProcessor on split test...\n"
     ]
    },
    {
     "name": "stderr",
     "output_type": "stream",
     "text": [
      "Mapping SequenceEncodingProcessor: 100%|██████████| 161588/161588 [00:04<00:00, 39607.67 examples/s]\n"
     ]
    },
    {
     "name": "stdout",
     "output_type": "stream",
     "text": [
      "Applying step: SequencePaddingProcessor on split train...\n"
     ]
    },
    {
     "name": "stderr",
     "output_type": "stream",
     "text": [
      "Mapping SequencePaddingProcessor: 100%|██████████| 1142537/1142537 [00:24<00:00, 46521.37 examples/s]\n",
      "Filter: 100%|██████████| 1142537/1142537 [00:01<00:00, 652489.37 examples/s] \n"
     ]
    },
    {
     "name": "stdout",
     "output_type": "stream",
     "text": [
      "Applying step: SequencePaddingProcessor on split val...\n"
     ]
    },
    {
     "name": "stderr",
     "output_type": "stream",
     "text": [
      "Mapping SequencePaddingProcessor: 100%|██████████| 328072/328072 [00:08<00:00, 39882.25 examples/s]\n",
      "Filter: 100%|██████████| 328072/328072 [00:00<00:00, 486993.32 examples/s]\n"
     ]
    },
    {
     "name": "stdout",
     "output_type": "stream",
     "text": [
      "Applying step: SequencePaddingProcessor on split test...\n"
     ]
    },
    {
     "name": "stderr",
     "output_type": "stream",
     "text": [
      "Mapping SequencePaddingProcessor: 100%|██████████| 161588/161588 [00:04<00:00, 37990.79 examples/s]\n"
     ]
    }
   ],
   "source": [
    "d = ChargeStateDataset(\n",
    "    data_format=\"hub\",\n",
    "    data_source=DATA_PATH,\n",
    "    sequence_column=\"modified_sequence\",\n",
    "    label_column=\"charge_state_dist\",   # use this column for relative charge state distribution\n",
    "    max_seq_len=30,\n",
    "    batch_size=BATCH_SIZE,\n",
    "    dataset_type=\"pt\",   # pytorch\n",
    ")"
   ]
  },
  {
   "cell_type": "markdown",
   "id": "dc837dcb",
   "metadata": {},
   "source": [
    "Now we have an CS dataset that can be used directly with standard or custom `PyTorch` models. This wrapper contains the splits we chose when creating it. In our case, they are training and validation splits. To get the torch DataLoader, we call the attributes `.tensor_train_data` and `.tensor_val_data`."
   ]
  },
  {
   "cell_type": "code",
   "execution_count": 7,
   "id": "86208de7",
   "metadata": {},
   "outputs": [
    {
     "name": "stdout",
     "output_type": "stream",
     "text": [
      "Hugging Face Dataset: DatasetDict({\n",
      "    train: Dataset({\n",
      "        features: ['modified_sequence', 'charge_state_dist', '_parsed_sequence', '_n_term_mods', '_c_term_mods'],\n",
      "        num_rows: 1138142\n",
      "    })\n",
      "    val: Dataset({\n",
      "        features: ['modified_sequence', 'charge_state_dist', '_parsed_sequence', '_n_term_mods', '_c_term_mods'],\n",
      "        num_rows: 326769\n",
      "    })\n",
      "    test: Dataset({\n",
      "        features: ['modified_sequence', 'charge_state_dist', '_parsed_sequence', '_n_term_mods', '_c_term_mods'],\n",
      "        num_rows: 161588\n",
      "    })\n",
      "})\n",
      "Training examples: 1138142\n",
      "one training batch looks like:\n",
      "{'modified_sequence': tensor([[21,  7,  2,  ...,  0,  0,  0],\n",
      "        [21, 16, 13,  ...,  0,  0,  0],\n",
      "        [21,  8, 10,  ...,  0,  0,  0],\n",
      "        ...,\n",
      "        [21, 11, 18,  ...,  0,  0,  0],\n",
      "        [21, 10, 12,  ...,  0,  0,  0],\n",
      "        [21, 17,  4,  ...,  0,  0,  0]]), 'charge_state_dist': tensor([[0.0000, 0.2754, 0.7246, 0.0000, 0.0000, 0.0000],\n",
      "        [0.0000, 1.0000, 0.0000, 0.0000, 0.0000, 0.0000],\n",
      "        [0.0000, 1.0000, 0.0000, 0.0000, 0.0000, 0.0000],\n",
      "        ...,\n",
      "        [0.0000, 1.0000, 0.0000, 0.0000, 0.0000, 0.0000],\n",
      "        [0.0000, 0.0000, 1.0000, 0.0000, 0.0000, 0.0000],\n",
      "        [0.0000, 0.0000, 1.0000, 0.0000, 0.0000, 0.0000]])}\n",
      "\n",
      "Validation examples: 326769\n",
      "\n",
      "Test examples: 161588\n"
     ]
    }
   ],
   "source": [
    "print(\"Hugging Face Dataset:\", d)\n",
    "\n",
    "print(\"Training examples:\", len(d[\"train\"]))\n",
    "print(\"one training batch looks like:\")\n",
    "for x in d.tensor_train_data:\n",
    "    print(x)\n",
    "    break\n",
    "\n",
    "print(\"\\nValidation examples:\", len(d[\"val\"]))\n",
    "print(\"\\nTest examples:\", len(d[\"test\"]))"
   ]
  },
  {
   "cell_type": "markdown",
   "id": "f05ed4e7",
   "metadata": {},
   "source": [
    "## 2. Model\n",
    "\n",
    "We can now create the model. We will use the relative charge state distribution version (set via the parameter model_flavour=\"relative\") of the Prosit-based Precursor Charge State Prediction model `ChargeStatePredictor`. It has default working arguments, but most of the parameters can be customized.\n",
    "\n",
    "**Note**: Important is to ensure that the padding length used for the dataset object is equal to the sequence length passed to the model.\n",
    "\n",
    "The three model flavours of `ChargeStatePredictor` are:\n",
    "\n",
    "1. Dominant Charge State Prediction:\n",
    "   - Task: Predict the dominant charge state of a given peptide sequence.\n",
    "   - Model: Uses a deep learning model (RNN-based) inspired by Prosit's architecture to predict the most likely charge state.\n",
    "\n",
    "2. Observed Charge State Prediction:\n",
    "   - Task: Predict the observed charge states for a given peptide sequence.\n",
    "   - Model: Uses a multi-label classification approach to predict all possible charge states.\n",
    "\n",
    "3. Relative Charge State Prediction:\n",
    "   - Task: Predict the proportion of each charge state for a given peptide sequence.\n",
    "   - Model: Uses a regression approach to predict the proportion of each charge state."
   ]
  },
  {
   "cell_type": "code",
   "execution_count": 8,
   "id": "9662b240",
   "metadata": {},
   "outputs": [
    {
     "data": {
      "text/plain": [
       "ChargeStatePredictor(\n",
       "  (final_activation): Identity()\n",
       "  (embedding): Embedding(56, 16, padding_idx=0)\n",
       "  (encoder): BiGRUSequentialEncoder(\n",
       "    (bidirectional_GRU): GRU(16, 256, batch_first=True, bidirectional=True)\n",
       "    (encoder_dropout1): Dropout(p=0.5, inplace=False)\n",
       "    (unidirectional_GRU): GRU(512, 512, batch_first=True)\n",
       "    (encoder_dropout2): Dropout(p=0.5, inplace=False)\n",
       "  )\n",
       "  (attention): AttentionLayer()\n",
       "  (regressor): Sequential(\n",
       "    (dense): Linear(in_features=512, out_features=512, bias=True)\n",
       "    (activation_relu): ReLU()\n",
       "    (regressor_dropout): Dropout(p=0.1, inplace=False)\n",
       "  )\n",
       "  (output_layer): Linear(in_features=512, out_features=6, bias=True)\n",
       "  (activation): Identity()\n",
       ")"
      ]
     },
     "execution_count": 8,
     "metadata": {},
     "output_type": "execute_result"
    }
   ],
   "source": [
    "model = ChargeStatePredictor(\n",
    "    num_classes=6, seq_length=30, alphabet=PTMS_ALPHABET, model_flavour=\"relative\"\n",
    ")\n",
    "\n",
    "model.to(device)"
   ]
  },
  {
   "cell_type": "code",
   "execution_count": 9,
   "id": "04ef3817-6f98-4e1d-86e3-479c8c8252ff",
   "metadata": {},
   "outputs": [],
   "source": [
    "criterion = nn.MSELoss()  # for relative CSD\n",
    "optimizer = optim.Adam(model.parameters(), lr=0.0001)"
   ]
  },
  {
   "cell_type": "markdown",
   "id": "0b9149df",
   "metadata": {},
   "source": [
    "## 3. Training\n",
    "\n",
    "We can then train the model using a custom training loop. You can observe the decreasing loss value"
   ]
  },
  {
   "cell_type": "code",
   "execution_count": 10,
   "id": "a895db80",
   "metadata": {},
   "outputs": [
    {
     "name": "stdout",
     "output_type": "stream",
     "text": [
      "Epoch 1, Step 0, Training Loss: 0.1525\n",
      "Epoch 1, Step 100, Training Loss: 0.0855\n",
      "Epoch 1, Step 200, Training Loss: 0.0676\n",
      "Epoch 1, Step 300, Training Loss: 0.0563\n",
      "Epoch 1, Step 400, Training Loss: 0.0500\n",
      "Epoch 1, Step 500, Training Loss: 0.0460\n",
      "Epoch 1 Summary: Train Loss: 0.0444, Validation Loss: 0.0281\n",
      "Epoch 1: Current Learning Rate: 0.0001\n",
      "Loaded best model state.\n"
     ]
    },
    {
     "data": {
      "text/html": [
       "<div>\n",
       "<style scoped>\n",
       "    .dataframe tbody tr th:only-of-type {\n",
       "        vertical-align: middle;\n",
       "    }\n",
       "\n",
       "    .dataframe tbody tr th {\n",
       "        vertical-align: top;\n",
       "    }\n",
       "\n",
       "    .dataframe thead th {\n",
       "        text-align: right;\n",
       "    }\n",
       "</style>\n",
       "<table border=\"1\" class=\"dataframe\">\n",
       "  <thead>\n",
       "    <tr style=\"text-align: right;\">\n",
       "      <th></th>\n",
       "      <th>epoch</th>\n",
       "      <th>train_loss</th>\n",
       "      <th>val_loss</th>\n",
       "      <th>learning_rate</th>\n",
       "    </tr>\n",
       "  </thead>\n",
       "  <tbody>\n",
       "    <tr>\n",
       "      <th>0</th>\n",
       "      <td>1</td>\n",
       "      <td>0.044374</td>\n",
       "      <td>0.028053</td>\n",
       "      <td>0.0001</td>\n",
       "    </tr>\n",
       "  </tbody>\n",
       "</table>\n",
       "</div>"
      ],
      "text/plain": [
       "   epoch  train_loss  val_loss  learning_rate\n",
       "0      1    0.044374  0.028053         0.0001"
      ]
     },
     "metadata": {},
     "output_type": "display_data"
    }
   ],
   "source": [
    "# Learning rate scheduler.\n",
    "scheduler = optim.lr_scheduler.ReduceLROnPlateau(\n",
    "    optimizer,\n",
    "    factor=0.1,  # lr factor\n",
    "    patience=2,  # lr patience\n",
    "    min_lr=1e-7,\n",
    ")\n",
    "\n",
    "# Early stopping tracking.\n",
    "best_val_loss = float(\"inf\")\n",
    "epochs_without_improvement = 0\n",
    "best_model_state = None\n",
    "\n",
    "# Prepare a list to store metrics per epoch for CSV logging.\n",
    "metrics_log = []  # Each element will be a dict with keys: epoch, train_loss, val_loss, learning_rate\n",
    "\n",
    "for epoch in range(1, 2):  # reduced for demonstration\n",
    "    model.train()\n",
    "    running_loss = 0.0\n",
    "    local_step = 0\n",
    "\n",
    "    for batch in d.tensor_train_data:\n",
    "        train_seq = batch[\"modified_sequence\"]\n",
    "        train_label = batch[\"charge_state_dist\"]\n",
    "\n",
    "        # Ensure tensors are on the correct device and type\n",
    "        train_seq = train_seq.to(device, dtype=torch.int32)\n",
    "        train_label = train_label.to(device, dtype=torch.float32)\n",
    "\n",
    "        optimizer.zero_grad()\n",
    "        pred_cs = model(train_seq)\n",
    "        loss = criterion(pred_cs, train_label)\n",
    "        loss.backward()\n",
    "        optimizer.step()\n",
    "\n",
    "        running_loss += loss.item()\n",
    "        if local_step % 100 == 0:\n",
    "            avg_loss = running_loss / (local_step + 1)\n",
    "            print(f\"Epoch {epoch}, Step {local_step}, Training Loss: {avg_loss:.4f}\")\n",
    "        local_step += 1\n",
    "\n",
    "    avg_train_loss = running_loss / len(d.tensor_train_data)\n",
    "\n",
    "    # Validation phase.\n",
    "    model.eval()\n",
    "    val_loss_total = 0.0\n",
    "    with torch.no_grad():\n",
    "        for batch in d.tensor_val_data:\n",
    "            val_seq = batch[\"modified_sequence\"]\n",
    "            val_label = batch[\"charge_state_dist\"]\n",
    "\n",
    "            # Ensure tensors are on the correct device and type\n",
    "            val_seq = val_seq.to(device, dtype=torch.int32)\n",
    "            val_label = val_label.to(device, dtype=torch.float32)\n",
    "\n",
    "            val_pred_cs = model(val_seq)\n",
    "            val_loss = criterion(val_pred_cs, val_label)\n",
    "            val_loss_total += val_loss.item()\n",
    "\n",
    "            # TODO add adjusted_mean_absolute_error metric\n",
    "\n",
    "    avg_val_loss = val_loss_total / len(d.tensor_val_data)\n",
    "    print(\n",
    "        f\"Epoch {epoch} Summary: Train Loss: {avg_train_loss:.4f}, Validation Loss: {avg_val_loss:.4f}\"\n",
    "    )\n",
    "\n",
    "    # Learning rate scheduler using the validation loss.\n",
    "    scheduler.step(avg_val_loss)\n",
    "    current_lr = scheduler.optimizer.param_groups[0][\"lr\"]\n",
    "    print(f\"Epoch {epoch}: Current Learning Rate: {current_lr}\")\n",
    "\n",
    "    # Early stopping check.\n",
    "    if avg_val_loss < best_val_loss:\n",
    "        best_val_loss = avg_val_loss\n",
    "        epochs_without_improvement = 0\n",
    "        best_model_state = model.state_dict()\n",
    "    else:\n",
    "        epochs_without_improvement += 1\n",
    "        print(f\"No improvement for {epochs_without_improvement} epoch(s).\")\n",
    "        if epochs_without_improvement >= 5:  # patience\n",
    "            print(\"Early stopping triggered.\")\n",
    "            # Log current epoch metrics before breaking.\n",
    "            metrics_log.append(\n",
    "                {\n",
    "                    \"epoch\": epoch,\n",
    "                    \"train_loss\": avg_train_loss,\n",
    "                    \"val_loss\": avg_val_loss,\n",
    "                    \"test_loss\": None,\n",
    "                    \"learning_rate\": current_lr,\n",
    "                }\n",
    "            )\n",
    "            break\n",
    "\n",
    "    # Log metrics for the current epoch.\n",
    "    metrics_log.append(\n",
    "        {\n",
    "            \"epoch\": epoch,\n",
    "            \"train_loss\": avg_train_loss,\n",
    "            \"val_loss\": avg_val_loss,\n",
    "            \"learning_rate\": current_lr,\n",
    "        }\n",
    "    )\n",
    "\n",
    "# Restore the best model.\n",
    "if best_model_state is not None:\n",
    "    model.load_state_dict(best_model_state)\n",
    "    print(\"Loaded best model state.\")\n",
    "\n",
    "\n",
    "train_val_metrices_df = pd.DataFrame(metrics_log)\n",
    "display(train_val_metrices_df.head())"
   ]
  },
  {
   "cell_type": "markdown",
   "id": "8eef5a2f",
   "metadata": {},
   "source": [
    "### Visualize Training History"
   ]
  },
  {
   "cell_type": "code",
   "execution_count": 11,
   "id": "d79c27ad",
   "metadata": {},
   "outputs": [],
   "source": [
    "def plot_learning_curves(metric_df, title='Learning Curves'):\n",
    "    \n",
    "    plt.figure()\n",
    "    plt.plot(\n",
    "        metric_df[\"epoch\"], \n",
    "        metric_df[\"train_loss\"], \n",
    "        'b-', \n",
    "        label='Training Loss'\n",
    "    )\n",
    "    plt.plot(\n",
    "        metric_df[\"epoch\"], \n",
    "        metric_df[\"val_loss\"],\n",
    "        'r-', \n",
    "        label='Validation Loss'\n",
    "    )\n",
    "    plt.title(title)\n",
    "    plt.xlabel('Epochs')\n",
    "    plt.ylabel('Loss')\n",
    "    plt.legend()\n",
    "    plt.show()"
   ]
  },
  {
   "cell_type": "code",
   "execution_count": 12,
   "id": "4b86f321",
   "metadata": {},
   "outputs": [
    {
     "data": {
      "image/png": "[encoded data removed]",
      "text/plain": [
       "<Figure size 640x480 with 1 Axes>"
      ]
     },
     "metadata": {},
     "output_type": "display_data"
    }
   ],
   "source": [
    "plot_learning_curves(train_val_metrices_df, title='Charge State Distribution Model')"
   ]
  },
  {
   "cell_type": "markdown",
   "id": "0fb70557",
   "metadata": {},
   "source": [
    "## 3. Testing\n",
    "\n",
    "The ChargeStateDataset also contains a test dataset to test our model.\n",
    "\n",
    "**Note**: Currently there is no reporting module available for CS prediction."
   ]
  },
  {
   "cell_type": "code",
   "execution_count": 13,
   "id": "e05fe0e2",
   "metadata": {},
   "outputs": [
    {
     "name": "stdout",
     "output_type": "stream",
     "text": [
      "Test Loss: 0.0285\n",
      "first 5 test sequences:\n",
      " tensor([[21, 20,  6,  6, 16, 16, 18,  1,  3,  1,  4, 15, 22,  0,  0,  0,  0,  0,\n",
      "          0,  0,  0,  0,  0,  0,  0,  0,  0,  0,  0,  0],\n",
      "        [21, 16,  4,  1, 20, 16, 16, 13, 16,  8, 18, 10, 22,  0,  0,  0,  0,  0,\n",
      "          0,  0,  0,  0,  0,  0,  0,  0,  0,  0,  0,  0],\n",
      "        [21,  9, 18,  5,  3,  8, 12, 10,  9,  4, 22,  0,  0,  0,  0,  0,  0,  0,\n",
      "          0,  0,  0,  0,  0,  0,  0,  0,  0,  0,  0,  0],\n",
      "        [21, 17, 10,  4,  9, 17,  6, 13, 14, 10, 17, 16, 15,  8,  9, 22,  0,  0,\n",
      "          0,  0,  0,  0,  0,  0,  0,  0,  0,  0,  0,  0],\n",
      "        [21,  1, 10, 11, 13, 19, 15, 20,  1, 10, 22,  0,  0,  0,  0,  0,  0,  0,\n",
      "          0,  0,  0,  0,  0,  0,  0,  0,  0,  0,  0,  0]], device='cuda:0',\n",
      "       dtype=torch.int32)\n",
      "first 5 test relative charge state vectors (label):\n",
      " tensor([[0.0000, 1.0000, 0.0000, 0.0000, 0.0000, 0.0000],\n",
      "        [1.0000, 0.0000, 0.0000, 0.0000, 0.0000, 0.0000],\n",
      "        [0.0000, 0.0000, 1.0000, 0.0000, 0.0000, 0.0000],\n",
      "        [0.0000, 0.0000, 0.9884, 0.0116, 0.0000, 0.0000],\n",
      "        [0.0000, 1.0000, 0.0000, 0.0000, 0.0000, 0.0000]], device='cuda:0')\n",
      "first 5 relative charge state predictions for test:\n",
      " tensor([[-3.8649e-04,  1.0014e+00, -2.9446e-03,  3.2705e-03, -1.6507e-03,\n",
      "          3.2693e-04],\n",
      "        [ 7.8703e-01,  2.1561e-01, -2.2566e-03, -4.3874e-03,  1.0536e-02,\n",
      "         -1.6545e-03],\n",
      "        [-1.8839e-03,  6.0134e-01,  3.7155e-01, -5.0396e-03, -5.3609e-04,\n",
      "         -2.3533e-03],\n",
      "        [ 2.7904e-03,  5.7789e-02,  6.1778e-01,  3.1431e-01, -9.8598e-03,\n",
      "         -3.1532e-03],\n",
      "        [-6.7019e-04,  9.9522e-01, -4.0524e-03, -8.8108e-04, -5.6829e-04,\n",
      "         -8.4391e-04]], device='cuda:0')\n",
      "predictions.shape for test set: torch.Size([1844, 6]) number of test CS vectors (label): 1844\n"
     ]
    }
   ],
   "source": [
    "metrics_log_test= []\n",
    "\n",
    "model.eval()\n",
    "\n",
    "test_loss_total = 0.0\n",
    "with torch.no_grad():\n",
    "    for batch in d.tensor_test_data:\n",
    "        test_seq = batch[\"modified_sequence\"]\n",
    "        test_label = batch[\"charge_state_dist\"]\n",
    "\n",
    "        # Ensure tensors are on the correct device and type\n",
    "        test_seq = test_seq.to(device, dtype=torch.int32)\n",
    "        test_label = test_label.to(device, dtype=torch.float32)\n",
    "\n",
    "        test_pred_cs = model(test_seq)\n",
    "        test_loss = criterion(test_pred_cs, test_label)\n",
    "\n",
    "        test_loss_total += test_loss.item()\n",
    "avg_test_loss = test_loss_total / len(d.tensor_test_data)\n",
    "print(f\"Test Loss: {avg_test_loss:.4f}\")\n",
    "\n",
    "# Append final test metrics as an extra row in our log.\n",
    "metrics_log_test.append(\n",
    "    {\n",
    "        \"epoch\": \"test\",\n",
    "        \"test_loss\": avg_test_loss,\n",
    "    }\n",
    ")\n",
    "\n",
    "print(\"first 5 test sequences:\\n\", test_seq[:5])\n",
    "print(\"first 5 test relative charge state vectors (label):\\n\", test_label[:5])\n",
    "print(\"first 5 relative charge state predictions for test:\\n\", test_pred_cs[:5])\n",
    "print(\n",
    "    \"predictions.shape for test set:\",\n",
    "    test_pred_cs.shape,\n",
    "    \"number of test CS vectors (label):\",\n",
    "    len(test_label),\n",
    ")"
   ]
  },
  {
   "cell_type": "markdown",
   "id": "60aa5a89",
   "metadata": {},
   "source": [
    "## 4. Saving and Loading Models\n",
    "\n",
    "Models can be saved normally the same Keras models would be saved. It is better to save the weights and the not the model since it makes it easier and more platform-indepdent when loading the model again. The extra step needed is to create a model object and then load the weights."
   ]
  },
  {
   "cell_type": "code",
   "execution_count": 14,
   "id": "4b2c7cdf",
   "metadata": {},
   "outputs": [],
   "source": [
    "# save the models state_dict (contains all the weights and biases of the model)\n",
    "\n",
    "save_path = \"./output/csd_model_state_dict.pt\"\n",
    "torch.save(model.state_dict(), save_path)"
   ]
  },
  {
   "cell_type": "code",
   "execution_count": 15,
   "id": "40757b96",
   "metadata": {},
   "outputs": [
    {
     "data": {
      "text/plain": [
       "<All keys matched successfully>"
      ]
     },
     "execution_count": 15,
     "metadata": {},
     "output_type": "execute_result"
    }
   ],
   "source": [
    "# models can be later loaded by creating a model object and then loading the weights\n",
    "\n",
    "# initialize model\n",
    "model = ChargeStatePredictor(\n",
    "    num_classes=6, seq_length=30, alphabet=PTMS_ALPHABET, model_flavour=\"relative\"\n",
    ")\n",
    "\n",
    "# load trained model states\n",
    "state_dict = torch.load(save_path)\n",
    "model.load_state_dict(state_dict)"
   ]
  },
  {
   "cell_type": "code",
   "execution_count": null,
   "id": "7cf4a63d",
   "metadata": {},
   "outputs": [],
   "source": []
  }
 ],
 "metadata": {
  "kernelspec": {
   "display_name": "dlomix_torch_mini_AyS",
   "language": "python",
   "name": "python3"
  },
  "language_info": {
   "codemirror_mode": {
    "name": "ipython",
    "version": 3
   },
   "file_extension": ".py",
   "mimetype": "text/x-python",
   "name": "python",
   "nbconvert_exporter": "python",
   "pygments_lexer": "ipython3",
   "version": "3.10.0"
  }
 },
 "nbformat": 4,
 "nbformat_minor": 5
}
