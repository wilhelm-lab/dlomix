{
 "cells": [
  {
   "cell_type": "markdown",
   "metadata": {
    "id": "73msxoAkwbiY"
   },
   "source": [
    "## Installation and imports\n",
    "\n",
    "\n"
   ]
  },
  {
   "cell_type": "code",
   "execution_count": null,
   "metadata": {},
   "outputs": [],
   "source": [
    "# install DLOmix with wandb extras\n",
    "#!python -m pip install dlomix[wandb] >= 0.0.5\n",
    "#!python -m pip install git+https://github.com/wilhelm-lab/dlomix"
   ]
  },
  {
   "cell_type": "code",
   "execution_count": null,
   "metadata": {
    "ExecuteTime": {
     "end_time": "2023-09-15T07:25:17.207727Z",
     "start_time": "2023-09-15T07:22:31.545533Z"
    },
    "colab": {
     "base_uri": "https://localhost:8080/"
    },
    "id": "GZxoVSldvqaQ",
    "outputId": "b5157ed1-bdd6-4cfa-c5da-71f33804ec6c"
   },
   "outputs": [],
   "source": [
    "# import necessary packages\n",
    "import tensorflow as tf\n",
    "\n",
    "import dlomix\n",
    "from dlomix import (\n",
    "    constants, data, eval,\n",
    "    layers, models, pipelines, reports, utils\n",
    ")\n",
    "from dlomix.data import RetentionTimeDataset\n",
    "from dlomix.models import RetentionTimePredictor\n",
    "from dlomix.eval import TimeDeltaMetric"
   ]
  },
  {
   "cell_type": "markdown",
   "metadata": {
    "id": "gia0RFRSwyiP"
   },
   "source": [
    "# Initialize Weights & Biases\n"
   ]
  },
  {
   "cell_type": "code",
   "execution_count": null,
   "metadata": {
    "colab": {
     "base_uri": "https://localhost:8080/",
     "height": 125
    },
    "id": "RHJW1mfew4B2",
    "outputId": "f79990a0-27dd-4699-fc65-414dce6aad90"
   },
   "outputs": [],
   "source": [
    "import wandb\n",
    "from wandb.keras import WandbCallback\n",
    "from wandb.keras import WandbMetricsLogger\n",
    "\n",
    "\n",
    "# Create config\n",
    "config = {\n",
    "  \"seq_length\" : 30,\n",
    "  \"batch_size\" : 64,\n",
    "  \"val_ratio\" : 0.2,\n",
    "  \"lr\" : 0.0001,\n",
    "  \"optimizer\" : \"Adam\",\n",
    "  \"loss\" : \"mse\"\n",
    "}\n",
    "\n",
    "# Initialize WANDB\n",
    "PROJECT = 'Demo_ComparingModelsReport'\n",
    "RUN = \"run_1\"\n",
    "wandb.init(project = PROJECT, name = RUN, config = config)"
   ]
  },
  {
   "cell_type": "markdown",
   "metadata": {
    "id": "n4bl32mwwlHZ"
   },
   "source": [
    "# Load data"
   ]
  },
  {
   "cell_type": "code",
   "execution_count": null,
   "metadata": {
    "id": "At1-MajHwG5e"
   },
   "outputs": [],
   "source": [
    "# load small train dataset\n",
    "TRAIN_DATAPATH = 'https://raw.githubusercontent.com/wilhelm-lab/dlomix-resources/main/example_datasets/RetentionTime/proteomeTools_train_val.csv'\n",
    "\n",
    "# create dataset\n",
    "rtdata = RetentionTimeDataset(data_source=TRAIN_DATAPATH,\n",
    "                              seq_length = config[\"seq_length\"],\n",
    "                              batch_size = config[\"batch_size\"],\n",
    "                              val_ratio = config[\"val_ratio\"],\n",
    "                              test = False)"
   ]
  },
  {
   "cell_type": "markdown",
   "metadata": {
    "id": "-X-RIIVY3O2E"
   },
   "source": [
    "# Train and save several models"
   ]
  },
  {
   "cell_type": "code",
   "execution_count": null,
   "metadata": {},
   "outputs": [],
   "source": [
    "# create retention time predictor\n",
    "model = RetentionTimePredictor(encoder=\"lstm\", seq_length = config[\"seq_length\"])\n",
    "\n",
    "# create the optimizer object\n",
    "optimizer = tf.keras.optimizers.Adam(learning_rate = config[\"lr\"])\n",
    "\n",
    "# compile the model  with the optimizer and the metrics we want to use,\n",
    "# we can add our custom timedelta metric\n",
    "model.compile(optimizer = optimizer,\n",
    "              loss = config[\"loss\"],\n",
    "              metrics=['mean_absolute_error', TimeDeltaMetric()])\n",
    "\n",
    "# train the model\n",
    "history = model.fit(rtdata.train_data,\n",
    "                    validation_data = rtdata.val_data,\n",
    "                    epochs=2,\n",
    "                    callbacks=[WandbMetricsLogger(log_freq = \"batch\")])\n",
    "\n",
    "# finish wandb run\n",
    "wandb.finish()\n",
    "\n",
    "# save the model weights\n",
    "save_path = \"./output/rtmodel_1\"\n",
    "model.save_weights(save_path)"
   ]
  },
  {
   "cell_type": "code",
   "execution_count": null,
   "metadata": {},
   "outputs": [],
   "source": [
    "RUN = \"run_2\"\n",
    "wandb.init(project = PROJECT, name = RUN, config = config)"
   ]
  },
  {
   "cell_type": "code",
   "execution_count": null,
   "metadata": {
    "colab": {
     "base_uri": "https://localhost:8080/",
     "height": 1000,
     "referenced_widgets": [
      "6d447fce7ada46b7bbe9ae5b05655948",
      "a6f7e3882db04b3ca2d0b1e927edcb90",
      "d0c1dbfcd400493f9efa72e58be83a12",
      "3d3c265acbad4253b13988e4ff24161f",
      "487e392cb4404af99afb9b397f4eb5c6",
      "c3b421e5861f43fbb91cba2fbf7e8426",
      "6eb8599460544e2890f7cde8588fe43e",
      "87d4436ebf1b4594ab2f8ec817894ad4"
     ]
    },
    "id": "_Lv_t6Dv3Q6s",
    "outputId": "9d141406-e70e-43c9-d7bb-ca4ee631fb93"
   },
   "outputs": [],
   "source": [
    "# create retention time predictor\n",
    "model = RetentionTimePredictor(seq_length = config[\"seq_length\"])\n",
    "\n",
    "# create the optimizer object\n",
    "optimizer = tf.keras.optimizers.Adam(learning_rate = config[\"lr\"])\n",
    "\n",
    "# compile the model  with the optimizer and the metrics we want to use,\n",
    "# we can add our custom timedelta metric\n",
    "model.compile(optimizer = optimizer,\n",
    "              loss = config[\"loss\"],\n",
    "              metrics=['mean_absolute_error', TimeDeltaMetric()])\n",
    "\n",
    "# train the model\n",
    "history = model.fit(rtdata.train_data,\n",
    "                    validation_data = rtdata.val_data,\n",
    "                    epochs=2,\n",
    "                    callbacks=[WandbMetricsLogger(log_freq = \"batch\")])\n",
    "\n",
    "# finish wandb run\n",
    "wandb.finish()\n",
    "\n",
    "# save the model weights\n",
    "save_path = \"./output/rtmodel_2\"\n",
    "model.save_weights(save_path)"
   ]
  },
  {
   "cell_type": "markdown",
   "metadata": {
    "id": "o33NlIw3xJs4"
   },
   "source": [
    "# Load models and create testset"
   ]
  },
  {
   "cell_type": "code",
   "execution_count": null,
   "metadata": {
    "id": "FE8OvEml3CBU"
   },
   "outputs": [],
   "source": [
    "# create predictors from saved weights\n",
    "load_path = \"./output/rtmodel_1\"\n",
    "pre_trained_model_1 = RetentionTimePredictor(encoder = \"lstm\", seq_length=30)\n",
    "pre_trained_model_1.load_weights(load_path)\n",
    "\n",
    "load_path = \"./output/rtmodel_2\"\n",
    "pre_trained_model_2 = RetentionTimePredictor(seq_length=30)\n",
    "pre_trained_model_2.load_weights(load_path)\n",
    "\n",
    "models = {\"lstm_model\": pre_trained_model_1, \"conv_model\": pre_trained_model_2}\n",
    "\n",
    "# create testset\n",
    "TEST_DATAPATH = 'https://raw.githubusercontent.com/wilhelm-lab/dlomix/main/example_dataset/proteomTools_test.csv'\n",
    "test_set = RetentionTimeDataset(data_source = TEST_DATAPATH,\n",
    "                                seq_length = config[\"seq_length\"],\n",
    "                                batch_size = 32,\n",
    "                                test = True,\n",
    "                                sequence_col = \"sequence\",\n",
    "                                target_col = \"irt\")"
   ]
  },
  {
   "cell_type": "markdown",
   "metadata": {
    "id": "5h6Kub5dWTUn"
   },
   "source": [
    "# Initialize report"
   ]
  },
  {
   "cell_type": "code",
   "execution_count": null,
   "metadata": {
    "id": "bwf86DCvWs7X"
   },
   "outputs": [],
   "source": [
    "# Create a report\n",
    "from dlomix.reports import RetentionTimeReportModelComparisonWandb\n",
    "\n",
    "report = RetentionTimeReportModelComparisonWandb(models = models,\n",
    "                test_dataset = test_set,\n",
    "                project = PROJECT,\n",
    "                title = \"Comparison of models\",\n",
    "                description = \"A quick comparison of two models\")"
   ]
  },
  {
   "cell_type": "markdown",
   "metadata": {
    "id": "mWtcGoJ8W11G"
   },
   "source": [
    "# Log data to Weights & Biases"
   ]
  },
  {
   "cell_type": "code",
   "execution_count": null,
   "metadata": {
    "colab": {
     "base_uri": "https://localhost:8080/",
     "height": 237,
     "referenced_widgets": [
      "43703134969d484fa4ba4cc0b049de7c",
      "ac0d762adefe44b688e722e65a330474",
      "00a6da679da849e28dfbd6aafe5578cf",
      "a28e46d740dd41b981c7be574792901a",
      "945208fce03244bca312be327ed5eea9",
      "e1616c298dc641cabe9d17ad2143128b",
      "6a3b25612b234b15b673eda4d59f66d5",
      "9a4ed274313b45cfb459cbad15315c6f"
     ]
    },
    "id": "9qs0qVwMW6_f",
    "outputId": "3c4bf215-0e78-4f62-a85b-75278f85dc68"
   },
   "outputs": [],
   "source": [
    "report.log_data()"
   ]
  },
  {
   "cell_type": "markdown",
   "metadata": {
    "id": "dFDNpH5S4HG7"
   },
   "source": [
    "# Compare models and create report"
   ]
  },
  {
   "cell_type": "code",
   "execution_count": null,
   "metadata": {
    "colab": {
     "base_uri": "https://localhost:8080/",
     "height": 1000,
     "referenced_widgets": [
      "9160cd66209f4fd58dead2cec5cddc24",
      "aab965249f9c44c29ccd2debb97f019b",
      "32165ffed5e94fe1b4cd6d5211d641e5",
      "8c72602d31614c1493f451971b6ff5a2",
      "852dd2d1f3af4f7f9ea31b1795d7d8bb",
      "b8ff00f16361484fbf5fde2551435335",
      "ed4a1b073dea47a78525c481af9a55a6",
      "c1be49ceed1d4449a6fdbbf6dc79fa3e"
     ]
    },
    "id": "UITv7MsK4I9j",
    "outputId": "247a1de8-9fde-45bb-8ee1-0bfa21f74791"
   },
   "outputs": [],
   "source": [
    "report.compare_models()"
   ]
  },
  {
   "cell_type": "code",
   "execution_count": null,
   "metadata": {},
   "outputs": [],
   "source": [
    "report.create_report(add_data_section=True,\n",
    "                     add_residuals_section = True,\n",
    "                     add_r2_section = True,\n",
    "                     add_density_section= True)"
   ]
  }
 ],
 "metadata": {
  "accelerator": "GPU",
  "colab": {
   "gpuType": "T4",
   "provenance": []
  },
  "kernelspec": {
   "display_name": "Python 3 (ipykernel)",
   "language": "python",
   "name": "python3"
  },
  "language_info": {
   "codemirror_mode": {
    "name": "ipython",
    "version": 3
   },
   "file_extension": ".py",
   "mimetype": "text/x-python",
   "name": "python",
   "nbconvert_exporter": "python",
   "pygments_lexer": "ipython3",
   "version": "3.8.15"
  },
  "widgets": {
   "application/vnd.jupyter.widget-state+json": {
    "00a6da679da849e28dfbd6aafe5578cf": {
     "model_module": "@jupyter-widgets/controls",
     "model_module_version": "1.5.0",
     "model_name": "FloatProgressModel",
     "state": {
      "_dom_classes": [],
      "_model_module": "@jupyter-widgets/controls",
      "_model_module_version": "1.5.0",
      "_model_name": "FloatProgressModel",
      "_view_count": null,
      "_view_module": "@jupyter-widgets/controls",
      "_view_module_version": "1.5.0",
      "_view_name": "ProgressView",
      "bar_style": "",
      "description": "",
      "description_tooltip": null,
      "layout": "IPY_MODEL_6a3b25612b234b15b673eda4d59f66d5",
      "max": 1,
      "min": 0,
      "orientation": "horizontal",
      "style": "IPY_MODEL_9a4ed274313b45cfb459cbad15315c6f",
      "value": 1
     }
    },
    "32165ffed5e94fe1b4cd6d5211d641e5": {
     "model_module": "@jupyter-widgets/controls",
     "model_module_version": "1.5.0",
     "model_name": "FloatProgressModel",
     "state": {
      "_dom_classes": [],
      "_model_module": "@jupyter-widgets/controls",
      "_model_module_version": "1.5.0",
      "_model_name": "FloatProgressModel",
      "_view_count": null,
      "_view_module": "@jupyter-widgets/controls",
      "_view_module_version": "1.5.0",
      "_view_name": "ProgressView",
      "bar_style": "",
      "description": "",
      "description_tooltip": null,
      "layout": "IPY_MODEL_ed4a1b073dea47a78525c481af9a55a6",
      "max": 1,
      "min": 0,
      "orientation": "horizontal",
      "style": "IPY_MODEL_c1be49ceed1d4449a6fdbbf6dc79fa3e",
      "value": 1
     }
    },
    "3d3c265acbad4253b13988e4ff24161f": {
     "model_module": "@jupyter-widgets/base",
     "model_module_version": "1.2.0",
     "model_name": "LayoutModel",
     "state": {
      "_model_module": "@jupyter-widgets/base",
      "_model_module_version": "1.2.0",
      "_model_name": "LayoutModel",
      "_view_count": null,
      "_view_module": "@jupyter-widgets/base",
      "_view_module_version": "1.2.0",
      "_view_name": "LayoutView",
      "align_content": null,
      "align_items": null,
      "align_self": null,
      "border": null,
      "bottom": null,
      "display": null,
      "flex": null,
      "flex_flow": null,
      "grid_area": null,
      "grid_auto_columns": null,
      "grid_auto_flow": null,
      "grid_auto_rows": null,
      "grid_column": null,
      "grid_gap": null,
      "grid_row": null,
      "grid_template_areas": null,
      "grid_template_columns": null,
      "grid_template_rows": null,
      "height": null,
      "justify_content": null,
      "justify_items": null,
      "left": null,
      "margin": null,
      "max_height": null,
      "max_width": null,
      "min_height": null,
      "min_width": null,
      "object_fit": null,
      "object_position": null,
      "order": null,
      "overflow": null,
      "overflow_x": null,
      "overflow_y": null,
      "padding": null,
      "right": null,
      "top": null,
      "visibility": null,
      "width": null
     }
    },
    "43703134969d484fa4ba4cc0b049de7c": {
     "model_module": "@jupyter-widgets/controls",
     "model_module_version": "1.5.0",
     "model_name": "VBoxModel",
     "state": {
      "_dom_classes": [],
      "_model_module": "@jupyter-widgets/controls",
      "_model_module_version": "1.5.0",
      "_model_name": "VBoxModel",
      "_view_count": null,
      "_view_module": "@jupyter-widgets/controls",
      "_view_module_version": "1.5.0",
      "_view_name": "VBoxView",
      "box_style": "",
      "children": [
       "IPY_MODEL_ac0d762adefe44b688e722e65a330474",
       "IPY_MODEL_00a6da679da849e28dfbd6aafe5578cf"
      ],
      "layout": "IPY_MODEL_a28e46d740dd41b981c7be574792901a"
     }
    },
    "487e392cb4404af99afb9b397f4eb5c6": {
     "model_module": "@jupyter-widgets/base",
     "model_module_version": "1.2.0",
     "model_name": "LayoutModel",
     "state": {
      "_model_module": "@jupyter-widgets/base",
      "_model_module_version": "1.2.0",
      "_model_name": "LayoutModel",
      "_view_count": null,
      "_view_module": "@jupyter-widgets/base",
      "_view_module_version": "1.2.0",
      "_view_name": "LayoutView",
      "align_content": null,
      "align_items": null,
      "align_self": null,
      "border": null,
      "bottom": null,
      "display": null,
      "flex": null,
      "flex_flow": null,
      "grid_area": null,
      "grid_auto_columns": null,
      "grid_auto_flow": null,
      "grid_auto_rows": null,
      "grid_column": null,
      "grid_gap": null,
      "grid_row": null,
      "grid_template_areas": null,
      "grid_template_columns": null,
      "grid_template_rows": null,
      "height": null,
      "justify_content": null,
      "justify_items": null,
      "left": null,
      "margin": null,
      "max_height": null,
      "max_width": null,
      "min_height": null,
      "min_width": null,
      "object_fit": null,
      "object_position": null,
      "order": null,
      "overflow": null,
      "overflow_x": null,
      "overflow_y": null,
      "padding": null,
      "right": null,
      "top": null,
      "visibility": null,
      "width": null
     }
    },
    "6a3b25612b234b15b673eda4d59f66d5": {
     "model_module": "@jupyter-widgets/base",
     "model_module_version": "1.2.0",
     "model_name": "LayoutModel",
     "state": {
      "_model_module": "@jupyter-widgets/base",
      "_model_module_version": "1.2.0",
      "_model_name": "LayoutModel",
      "_view_count": null,
      "_view_module": "@jupyter-widgets/base",
      "_view_module_version": "1.2.0",
      "_view_name": "LayoutView",
      "align_content": null,
      "align_items": null,
      "align_self": null,
      "border": null,
      "bottom": null,
      "display": null,
      "flex": null,
      "flex_flow": null,
      "grid_area": null,
      "grid_auto_columns": null,
      "grid_auto_flow": null,
      "grid_auto_rows": null,
      "grid_column": null,
      "grid_gap": null,
      "grid_row": null,
      "grid_template_areas": null,
      "grid_template_columns": null,
      "grid_template_rows": null,
      "height": null,
      "justify_content": null,
      "justify_items": null,
      "left": null,
      "margin": null,
      "max_height": null,
      "max_width": null,
      "min_height": null,
      "min_width": null,
      "object_fit": null,
      "object_position": null,
      "order": null,
      "overflow": null,
      "overflow_x": null,
      "overflow_y": null,
      "padding": null,
      "right": null,
      "top": null,
      "visibility": null,
      "width": null
     }
    },
    "6d447fce7ada46b7bbe9ae5b05655948": {
     "model_module": "@jupyter-widgets/controls",
     "model_module_version": "1.5.0",
     "model_name": "VBoxModel",
     "state": {
      "_dom_classes": [],
      "_model_module": "@jupyter-widgets/controls",
      "_model_module_version": "1.5.0",
      "_model_name": "VBoxModel",
      "_view_count": null,
      "_view_module": "@jupyter-widgets/controls",
      "_view_module_version": "1.5.0",
      "_view_name": "VBoxView",
      "box_style": "",
      "children": [
       "IPY_MODEL_a6f7e3882db04b3ca2d0b1e927edcb90",
       "IPY_MODEL_d0c1dbfcd400493f9efa72e58be83a12"
      ],
      "layout": "IPY_MODEL_3d3c265acbad4253b13988e4ff24161f"
     }
    },
    "6eb8599460544e2890f7cde8588fe43e": {
     "model_module": "@jupyter-widgets/base",
     "model_module_version": "1.2.0",
     "model_name": "LayoutModel",
     "state": {
      "_model_module": "@jupyter-widgets/base",
      "_model_module_version": "1.2.0",
      "_model_name": "LayoutModel",
      "_view_count": null,
      "_view_module": "@jupyter-widgets/base",
      "_view_module_version": "1.2.0",
      "_view_name": "LayoutView",
      "align_content": null,
      "align_items": null,
      "align_self": null,
      "border": null,
      "bottom": null,
      "display": null,
      "flex": null,
      "flex_flow": null,
      "grid_area": null,
      "grid_auto_columns": null,
      "grid_auto_flow": null,
      "grid_auto_rows": null,
      "grid_column": null,
      "grid_gap": null,
      "grid_row": null,
      "grid_template_areas": null,
      "grid_template_columns": null,
      "grid_template_rows": null,
      "height": null,
      "justify_content": null,
      "justify_items": null,
      "left": null,
      "margin": null,
      "max_height": null,
      "max_width": null,
      "min_height": null,
      "min_width": null,
      "object_fit": null,
      "object_position": null,
      "order": null,
      "overflow": null,
      "overflow_x": null,
      "overflow_y": null,
      "padding": null,
      "right": null,
      "top": null,
      "visibility": null,
      "width": null
     }
    },
    "852dd2d1f3af4f7f9ea31b1795d7d8bb": {
     "model_module": "@jupyter-widgets/base",
     "model_module_version": "1.2.0",
     "model_name": "LayoutModel",
     "state": {
      "_model_module": "@jupyter-widgets/base",
      "_model_module_version": "1.2.0",
      "_model_name": "LayoutModel",
      "_view_count": null,
      "_view_module": "@jupyter-widgets/base",
      "_view_module_version": "1.2.0",
      "_view_name": "LayoutView",
      "align_content": null,
      "align_items": null,
      "align_self": null,
      "border": null,
      "bottom": null,
      "display": null,
      "flex": null,
      "flex_flow": null,
      "grid_area": null,
      "grid_auto_columns": null,
      "grid_auto_flow": null,
      "grid_auto_rows": null,
      "grid_column": null,
      "grid_gap": null,
      "grid_row": null,
      "grid_template_areas": null,
      "grid_template_columns": null,
      "grid_template_rows": null,
      "height": null,
      "justify_content": null,
      "justify_items": null,
      "left": null,
      "margin": null,
      "max_height": null,
      "max_width": null,
      "min_height": null,
      "min_width": null,
      "object_fit": null,
      "object_position": null,
      "order": null,
      "overflow": null,
      "overflow_x": null,
      "overflow_y": null,
      "padding": null,
      "right": null,
      "top": null,
      "visibility": null,
      "width": null
     }
    },
    "87d4436ebf1b4594ab2f8ec817894ad4": {
     "model_module": "@jupyter-widgets/controls",
     "model_module_version": "1.5.0",
     "model_name": "ProgressStyleModel",
     "state": {
      "_model_module": "@jupyter-widgets/controls",
      "_model_module_version": "1.5.0",
      "_model_name": "ProgressStyleModel",
      "_view_count": null,
      "_view_module": "@jupyter-widgets/base",
      "_view_module_version": "1.2.0",
      "_view_name": "StyleView",
      "bar_color": null,
      "description_width": ""
     }
    },
    "8c72602d31614c1493f451971b6ff5a2": {
     "model_module": "@jupyter-widgets/base",
     "model_module_version": "1.2.0",
     "model_name": "LayoutModel",
     "state": {
      "_model_module": "@jupyter-widgets/base",
      "_model_module_version": "1.2.0",
      "_model_name": "LayoutModel",
      "_view_count": null,
      "_view_module": "@jupyter-widgets/base",
      "_view_module_version": "1.2.0",
      "_view_name": "LayoutView",
      "align_content": null,
      "align_items": null,
      "align_self": null,
      "border": null,
      "bottom": null,
      "display": null,
      "flex": null,
      "flex_flow": null,
      "grid_area": null,
      "grid_auto_columns": null,
      "grid_auto_flow": null,
      "grid_auto_rows": null,
      "grid_column": null,
      "grid_gap": null,
      "grid_row": null,
      "grid_template_areas": null,
      "grid_template_columns": null,
      "grid_template_rows": null,
      "height": null,
      "justify_content": null,
      "justify_items": null,
      "left": null,
      "margin": null,
      "max_height": null,
      "max_width": null,
      "min_height": null,
      "min_width": null,
      "object_fit": null,
      "object_position": null,
      "order": null,
      "overflow": null,
      "overflow_x": null,
      "overflow_y": null,
      "padding": null,
      "right": null,
      "top": null,
      "visibility": null,
      "width": null
     }
    },
    "9160cd66209f4fd58dead2cec5cddc24": {
     "model_module": "@jupyter-widgets/controls",
     "model_module_version": "1.5.0",
     "model_name": "VBoxModel",
     "state": {
      "_dom_classes": [],
      "_model_module": "@jupyter-widgets/controls",
      "_model_module_version": "1.5.0",
      "_model_name": "VBoxModel",
      "_view_count": null,
      "_view_module": "@jupyter-widgets/controls",
      "_view_module_version": "1.5.0",
      "_view_name": "VBoxView",
      "box_style": "",
      "children": [
       "IPY_MODEL_aab965249f9c44c29ccd2debb97f019b",
       "IPY_MODEL_32165ffed5e94fe1b4cd6d5211d641e5"
      ],
      "layout": "IPY_MODEL_8c72602d31614c1493f451971b6ff5a2"
     }
    },
    "945208fce03244bca312be327ed5eea9": {
     "model_module": "@jupyter-widgets/base",
     "model_module_version": "1.2.0",
     "model_name": "LayoutModel",
     "state": {
      "_model_module": "@jupyter-widgets/base",
      "_model_module_version": "1.2.0",
      "_model_name": "LayoutModel",
      "_view_count": null,
      "_view_module": "@jupyter-widgets/base",
      "_view_module_version": "1.2.0",
      "_view_name": "LayoutView",
      "align_content": null,
      "align_items": null,
      "align_self": null,
      "border": null,
      "bottom": null,
      "display": null,
      "flex": null,
      "flex_flow": null,
      "grid_area": null,
      "grid_auto_columns": null,
      "grid_auto_flow": null,
      "grid_auto_rows": null,
      "grid_column": null,
      "grid_gap": null,
      "grid_row": null,
      "grid_template_areas": null,
      "grid_template_columns": null,
      "grid_template_rows": null,
      "height": null,
      "justify_content": null,
      "justify_items": null,
      "left": null,
      "margin": null,
      "max_height": null,
      "max_width": null,
      "min_height": null,
      "min_width": null,
      "object_fit": null,
      "object_position": null,
      "order": null,
      "overflow": null,
      "overflow_x": null,
      "overflow_y": null,
      "padding": null,
      "right": null,
      "top": null,
      "visibility": null,
      "width": null
     }
    },
    "9a4ed274313b45cfb459cbad15315c6f": {
     "model_module": "@jupyter-widgets/controls",
     "model_module_version": "1.5.0",
     "model_name": "ProgressStyleModel",
     "state": {
      "_model_module": "@jupyter-widgets/controls",
      "_model_module_version": "1.5.0",
      "_model_name": "ProgressStyleModel",
      "_view_count": null,
      "_view_module": "@jupyter-widgets/base",
      "_view_module_version": "1.2.0",
      "_view_name": "StyleView",
      "bar_color": null,
      "description_width": ""
     }
    },
    "a28e46d740dd41b981c7be574792901a": {
     "model_module": "@jupyter-widgets/base",
     "model_module_version": "1.2.0",
     "model_name": "LayoutModel",
     "state": {
      "_model_module": "@jupyter-widgets/base",
      "_model_module_version": "1.2.0",
      "_model_name": "LayoutModel",
      "_view_count": null,
      "_view_module": "@jupyter-widgets/base",
      "_view_module_version": "1.2.0",
      "_view_name": "LayoutView",
      "align_content": null,
      "align_items": null,
      "align_self": null,
      "border": null,
      "bottom": null,
      "display": null,
      "flex": null,
      "flex_flow": null,
      "grid_area": null,
      "grid_auto_columns": null,
      "grid_auto_flow": null,
      "grid_auto_rows": null,
      "grid_column": null,
      "grid_gap": null,
      "grid_row": null,
      "grid_template_areas": null,
      "grid_template_columns": null,
      "grid_template_rows": null,
      "height": null,
      "justify_content": null,
      "justify_items": null,
      "left": null,
      "margin": null,
      "max_height": null,
      "max_width": null,
      "min_height": null,
      "min_width": null,
      "object_fit": null,
      "object_position": null,
      "order": null,
      "overflow": null,
      "overflow_x": null,
      "overflow_y": null,
      "padding": null,
      "right": null,
      "top": null,
      "visibility": null,
      "width": null
     }
    },
    "a6f7e3882db04b3ca2d0b1e927edcb90": {
     "model_module": "@jupyter-widgets/controls",
     "model_module_version": "1.5.0",
     "model_name": "LabelModel",
     "state": {
      "_dom_classes": [],
      "_model_module": "@jupyter-widgets/controls",
      "_model_module_version": "1.5.0",
      "_model_name": "LabelModel",
      "_view_count": null,
      "_view_module": "@jupyter-widgets/controls",
      "_view_module_version": "1.5.0",
      "_view_name": "LabelView",
      "description": "",
      "description_tooltip": null,
      "layout": "IPY_MODEL_487e392cb4404af99afb9b397f4eb5c6",
      "placeholder": "​",
      "style": "IPY_MODEL_c3b421e5861f43fbb91cba2fbf7e8426",
      "value": "0.005 MB of 0.014 MB uploaded (0.000 MB deduped)\r"
     }
    },
    "aab965249f9c44c29ccd2debb97f019b": {
     "model_module": "@jupyter-widgets/controls",
     "model_module_version": "1.5.0",
     "model_name": "LabelModel",
     "state": {
      "_dom_classes": [],
      "_model_module": "@jupyter-widgets/controls",
      "_model_module_version": "1.5.0",
      "_model_name": "LabelModel",
      "_view_count": null,
      "_view_module": "@jupyter-widgets/controls",
      "_view_module_version": "1.5.0",
      "_view_name": "LabelView",
      "description": "",
      "description_tooltip": null,
      "layout": "IPY_MODEL_852dd2d1f3af4f7f9ea31b1795d7d8bb",
      "placeholder": "​",
      "style": "IPY_MODEL_b8ff00f16361484fbf5fde2551435335",
      "value": "Waiting for wandb.init()...\r"
     }
    },
    "ac0d762adefe44b688e722e65a330474": {
     "model_module": "@jupyter-widgets/controls",
     "model_module_version": "1.5.0",
     "model_name": "LabelModel",
     "state": {
      "_dom_classes": [],
      "_model_module": "@jupyter-widgets/controls",
      "_model_module_version": "1.5.0",
      "_model_name": "LabelModel",
      "_view_count": null,
      "_view_module": "@jupyter-widgets/controls",
      "_view_module_version": "1.5.0",
      "_view_name": "LabelView",
      "description": "",
      "description_tooltip": null,
      "layout": "IPY_MODEL_945208fce03244bca312be327ed5eea9",
      "placeholder": "​",
      "style": "IPY_MODEL_e1616c298dc641cabe9d17ad2143128b",
      "value": "Waiting for wandb.init()...\r"
     }
    },
    "b8ff00f16361484fbf5fde2551435335": {
     "model_module": "@jupyter-widgets/controls",
     "model_module_version": "1.5.0",
     "model_name": "DescriptionStyleModel",
     "state": {
      "_model_module": "@jupyter-widgets/controls",
      "_model_module_version": "1.5.0",
      "_model_name": "DescriptionStyleModel",
      "_view_count": null,
      "_view_module": "@jupyter-widgets/base",
      "_view_module_version": "1.2.0",
      "_view_name": "StyleView",
      "description_width": ""
     }
    },
    "c1be49ceed1d4449a6fdbbf6dc79fa3e": {
     "model_module": "@jupyter-widgets/controls",
     "model_module_version": "1.5.0",
     "model_name": "ProgressStyleModel",
     "state": {
      "_model_module": "@jupyter-widgets/controls",
      "_model_module_version": "1.5.0",
      "_model_name": "ProgressStyleModel",
      "_view_count": null,
      "_view_module": "@jupyter-widgets/base",
      "_view_module_version": "1.2.0",
      "_view_name": "StyleView",
      "bar_color": null,
      "description_width": ""
     }
    },
    "c3b421e5861f43fbb91cba2fbf7e8426": {
     "model_module": "@jupyter-widgets/controls",
     "model_module_version": "1.5.0",
     "model_name": "DescriptionStyleModel",
     "state": {
      "_model_module": "@jupyter-widgets/controls",
      "_model_module_version": "1.5.0",
      "_model_name": "DescriptionStyleModel",
      "_view_count": null,
      "_view_module": "@jupyter-widgets/base",
      "_view_module_version": "1.2.0",
      "_view_name": "StyleView",
      "description_width": ""
     }
    },
    "d0c1dbfcd400493f9efa72e58be83a12": {
     "model_module": "@jupyter-widgets/controls",
     "model_module_version": "1.5.0",
     "model_name": "FloatProgressModel",
     "state": {
      "_dom_classes": [],
      "_model_module": "@jupyter-widgets/controls",
      "_model_module_version": "1.5.0",
      "_model_name": "FloatProgressModel",
      "_view_count": null,
      "_view_module": "@jupyter-widgets/controls",
      "_view_module_version": "1.5.0",
      "_view_name": "ProgressView",
      "bar_style": "",
      "description": "",
      "description_tooltip": null,
      "layout": "IPY_MODEL_6eb8599460544e2890f7cde8588fe43e",
      "max": 1,
      "min": 0,
      "orientation": "horizontal",
      "style": "IPY_MODEL_87d4436ebf1b4594ab2f8ec817894ad4",
      "value": 0.3795315114333519
     }
    },
    "e1616c298dc641cabe9d17ad2143128b": {
     "model_module": "@jupyter-widgets/controls",
     "model_module_version": "1.5.0",
     "model_name": "DescriptionStyleModel",
     "state": {
      "_model_module": "@jupyter-widgets/controls",
      "_model_module_version": "1.5.0",
      "_model_name": "DescriptionStyleModel",
      "_view_count": null,
      "_view_module": "@jupyter-widgets/base",
      "_view_module_version": "1.2.0",
      "_view_name": "StyleView",
      "description_width": ""
     }
    },
    "ed4a1b073dea47a78525c481af9a55a6": {
     "model_module": "@jupyter-widgets/base",
     "model_module_version": "1.2.0",
     "model_name": "LayoutModel",
     "state": {
      "_model_module": "@jupyter-widgets/base",
      "_model_module_version": "1.2.0",
      "_model_name": "LayoutModel",
      "_view_count": null,
      "_view_module": "@jupyter-widgets/base",
      "_view_module_version": "1.2.0",
      "_view_name": "LayoutView",
      "align_content": null,
      "align_items": null,
      "align_self": null,
      "border": null,
      "bottom": null,
      "display": null,
      "flex": null,
      "flex_flow": null,
      "grid_area": null,
      "grid_auto_columns": null,
      "grid_auto_flow": null,
      "grid_auto_rows": null,
      "grid_column": null,
      "grid_gap": null,
      "grid_row": null,
      "grid_template_areas": null,
      "grid_template_columns": null,
      "grid_template_rows": null,
      "height": null,
      "justify_content": null,
      "justify_items": null,
      "left": null,
      "margin": null,
      "max_height": null,
      "max_width": null,
      "min_height": null,
      "min_width": null,
      "object_fit": null,
      "object_position": null,
      "order": null,
      "overflow": null,
      "overflow_x": null,
      "overflow_y": null,
      "padding": null,
      "right": null,
      "top": null,
      "visibility": null,
      "width": null
     }
    }
   }
  }
 },
 "nbformat": 4,
 "nbformat_minor": 1
}
