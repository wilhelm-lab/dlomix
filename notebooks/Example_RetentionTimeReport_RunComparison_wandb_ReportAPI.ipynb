{
 "cells": [
  {
   "cell_type": "markdown",
   "metadata": {
    "id": "73msxoAkwbiY"
   },
   "source": [
    "## Installation and imports\n",
    "\n",
    "\n"
   ]
  },
  {
   "cell_type": "code",
   "execution_count": null,
   "metadata": {},
   "outputs": [],
   "source": [
    "# install DLOmix with wandb extras\n",
    "#!python -m pip install dlomix[wandb] >= 0.0.5\n",
    "#!python -m pip install git+https://github.com/wilhelm-lab/dlomix"
   ]
  },
  {
   "cell_type": "code",
   "execution_count": null,
   "metadata": {
    "id": "GZxoVSldvqaQ"
   },
   "outputs": [],
   "source": [
    "# import necessary packages\n",
    "import tensorflow as tf\n",
    "\n",
    "import dlomix\n",
    "from dlomix import (\n",
    "    constants, data, eval,\n",
    "    layers, models, pipelines, reports, utils\n",
    ")\n",
    "from dlomix.data import RetentionTimeDataset\n",
    "from dlomix.models import RetentionTimePredictor\n",
    "from dlomix.eval import TimeDeltaMetric"
   ]
  },
  {
   "cell_type": "markdown",
   "metadata": {
    "id": "gia0RFRSwyiP"
   },
   "source": [
    "# Initialize Weights & Biases\n"
   ]
  },
  {
   "cell_type": "code",
   "execution_count": null,
   "metadata": {
    "colab": {
     "base_uri": "https://localhost:8080/",
     "height": 142
    },
    "id": "RHJW1mfew4B2",
    "outputId": "056d9cde-f4cf-4ef0-f7a9-bc8358d9743b"
   },
   "outputs": [],
   "source": [
    "import wandb\n",
    "from wandb.keras import WandbCallback\n",
    "from wandb.keras import WandbMetricsLogger\n",
    "#import wandb.apis.reports as wr\n",
    "\n",
    "\n",
    "# Create config\n",
    "\n",
    "config = {\n",
    "  \"seq_length\" : 30,\n",
    "  \"batch_size\" : 64,\n",
    "  \"val_ratio\" : 0.2,\n",
    "  \"lr\" : 0.001,\n",
    "  \"optimizer\" : \"Adam\",\n",
    "  \"loss\" : \"mse\"\n",
    "}"
   ]
  },
  {
   "cell_type": "code",
   "execution_count": null,
   "metadata": {},
   "outputs": [],
   "source": [
    "# Initialize WANDB\n",
    "\n",
    "PROJECT = 'Demo_RetentionTimeReport'\n",
    "RUN = \"run_1\"\n",
    "wandb.init(project = PROJECT, name = RUN, config = config)"
   ]
  },
  {
   "cell_type": "markdown",
   "metadata": {
    "id": "n4bl32mwwlHZ"
   },
   "source": [
    "# Load data"
   ]
  },
  {
   "cell_type": "code",
   "execution_count": null,
   "metadata": {
    "id": "At1-MajHwG5e"
   },
   "outputs": [],
   "source": [
    "# load small train dataset\n",
    "\n",
    "TRAIN_DATAPATH = 'https://raw.githubusercontent.com/wilhelm-lab/dlomix-resources/main/example_datasets/RetentionTime/proteomeTools_train_val.csv'\n",
    "\n",
    "# create dataset object\n",
    "rtdata = RetentionTimeDataset(data_source = TRAIN_DATAPATH,\n",
    "                              seq_length = config[\"seq_length\"],\n",
    "                              batch_size = config[\"batch_size\"],\n",
    "                              val_ratio = config[\"val_ratio\"],\n",
    "                              test = False)"
   ]
  },
  {
   "cell_type": "markdown",
   "metadata": {
    "id": "-X-RIIVY3O2E"
   },
   "source": [
    "# Initialize report"
   ]
  },
  {
   "cell_type": "code",
   "execution_count": null,
   "metadata": {
    "id": "_Lv_t6Dv3Q6s"
   },
   "outputs": [],
   "source": [
    "# Create a report\n",
    "\n",
    "from dlomix.reports import RetentionTimeReportRunComparisonWandb\n",
    "report = RetentionTimeReportRunComparisonWandb(project = \"Demo_RetentionTimeReport\",\n",
    "                title = \"Comparison of different optimizers\",\n",
    "                description = \"Comparison of two optimizers Adam and RMSprop\",\n",
    "                dataset = rtdata)"
   ]
  },
  {
   "cell_type": "markdown",
   "metadata": {
    "id": "o33NlIw3xJs4"
   },
   "source": [
    "# Log data to Weights & Biases"
   ]
  },
  {
   "cell_type": "code",
   "execution_count": null,
   "metadata": {
    "id": "FE8OvEml3CBU"
   },
   "outputs": [],
   "source": [
    "report.log_data()"
   ]
  },
  {
   "cell_type": "markdown",
   "metadata": {
    "id": "dFDNpH5S4HG7"
   },
   "source": [
    "# Train model"
   ]
  },
  {
   "cell_type": "code",
   "execution_count": null,
   "metadata": {},
   "outputs": [],
   "source": [
    "# create retention time predictor\n",
    "model = RetentionTimePredictor(seq_length = config[\"seq_length\"])\n"
   ]
  },
  {
   "cell_type": "code",
   "execution_count": null,
   "metadata": {
    "colab": {
     "base_uri": "https://localhost:8080/",
     "height": 1000,
     "referenced_widgets": [
      "b8b4b36ee47c4dad8f0534baa3510572",
      "2ad7643d091148f8b41cc2b18ec9f987",
      "662763d055e1422cb22b730143429873",
      "c1d36353225040c38298b3df25dbe5b0",
      "c5293cd430334359a729e5f7daae9edc",
      "dbada5374d284d4f876b82aa2299be3b",
      "6debd19168004e5ab8f7dcfca5c3e70c",
      "91d15e8206784a5791b74bd896b5cd3c"
     ]
    },
    "id": "UITv7MsK4I9j",
    "outputId": "ccc18115-15f1-4533-eed0-51af93ebc3f1"
   },
   "outputs": [],
   "source": [
    "# create the optimizer object\n",
    "optimizer = tf.keras.optimizers.Adam(learning_rate = config[\"lr\"])\n",
    "\n",
    "# compile the model with the optimizer and the metrics we want to use\n",
    "model.compile(optimizer = optimizer,\n",
    "              loss = config[\"loss\"],\n",
    "              metrics=['mean_absolute_error', TimeDeltaMetric()])"
   ]
  },
  {
   "cell_type": "code",
   "execution_count": null,
   "metadata": {},
   "outputs": [],
   "source": [
    "# train the model\n",
    "history = model.fit(rtdata.train_data,\n",
    "                    validation_data=rtdata.val_data,\n",
    "                    epochs=2,\n",
    "                    callbacks=[WandbMetricsLogger(log_freq = \"batch\")])"
   ]
  },
  {
   "cell_type": "code",
   "execution_count": null,
   "metadata": {},
   "outputs": [],
   "source": [
    "# log model data to wandb\n",
    "report.log_model_data(model)"
   ]
  },
  {
   "cell_type": "code",
   "execution_count": null,
   "metadata": {},
   "outputs": [],
   "source": [
    "# finish wandb run\n",
    "wandb.finish()"
   ]
  },
  {
   "cell_type": "markdown",
   "metadata": {
    "id": "2t0tD68l4W_e"
   },
   "source": [
    "# Create Report"
   ]
  },
  {
   "cell_type": "code",
   "execution_count": null,
   "metadata": {
    "id": "1hYO03Sy4Z0D"
   },
   "outputs": [],
   "source": [
    "report.create_report()"
   ]
  }
 ],
 "metadata": {
  "accelerator": "GPU",
  "colab": {
   "gpuType": "T4",
   "provenance": []
  },
  "kernelspec": {
   "display_name": "Python 3 (ipykernel)",
   "language": "python",
   "name": "python3"
  },
  "language_info": {
   "codemirror_mode": {
    "name": "ipython",
    "version": 3
   },
   "file_extension": ".py",
   "mimetype": "text/x-python",
   "name": "python",
   "nbconvert_exporter": "python",
   "pygments_lexer": "ipython3",
   "version": "3.8.15"
  },
  "widgets": {
   "application/vnd.jupyter.widget-state+json": {
    "2ad7643d091148f8b41cc2b18ec9f987": {
     "model_module": "@jupyter-widgets/controls",
     "model_module_version": "1.5.0",
     "model_name": "LabelModel",
     "state": {
      "_dom_classes": [],
      "_model_module": "@jupyter-widgets/controls",
      "_model_module_version": "1.5.0",
      "_model_name": "LabelModel",
      "_view_count": null,
      "_view_module": "@jupyter-widgets/controls",
      "_view_module_version": "1.5.0",
      "_view_name": "LabelView",
      "description": "",
      "description_tooltip": null,
      "layout": "IPY_MODEL_c5293cd430334359a729e5f7daae9edc",
      "placeholder": "​",
      "style": "IPY_MODEL_dbada5374d284d4f876b82aa2299be3b",
      "value": "1.097 MB of 1.098 MB uploaded (0.000 MB deduped)\r"
     }
    },
    "662763d055e1422cb22b730143429873": {
     "model_module": "@jupyter-widgets/controls",
     "model_module_version": "1.5.0",
     "model_name": "FloatProgressModel",
     "state": {
      "_dom_classes": [],
      "_model_module": "@jupyter-widgets/controls",
      "_model_module_version": "1.5.0",
      "_model_name": "FloatProgressModel",
      "_view_count": null,
      "_view_module": "@jupyter-widgets/controls",
      "_view_module_version": "1.5.0",
      "_view_name": "ProgressView",
      "bar_style": "",
      "description": "",
      "description_tooltip": null,
      "layout": "IPY_MODEL_6debd19168004e5ab8f7dcfca5c3e70c",
      "max": 1,
      "min": 0,
      "orientation": "horizontal",
      "style": "IPY_MODEL_91d15e8206784a5791b74bd896b5cd3c",
      "value": 0.9998401274809565
     }
    },
    "6debd19168004e5ab8f7dcfca5c3e70c": {
     "model_module": "@jupyter-widgets/base",
     "model_module_version": "1.2.0",
     "model_name": "LayoutModel",
     "state": {
      "_model_module": "@jupyter-widgets/base",
      "_model_module_version": "1.2.0",
      "_model_name": "LayoutModel",
      "_view_count": null,
      "_view_module": "@jupyter-widgets/base",
      "_view_module_version": "1.2.0",
      "_view_name": "LayoutView",
      "align_content": null,
      "align_items": null,
      "align_self": null,
      "border": null,
      "bottom": null,
      "display": null,
      "flex": null,
      "flex_flow": null,
      "grid_area": null,
      "grid_auto_columns": null,
      "grid_auto_flow": null,
      "grid_auto_rows": null,
      "grid_column": null,
      "grid_gap": null,
      "grid_row": null,
      "grid_template_areas": null,
      "grid_template_columns": null,
      "grid_template_rows": null,
      "height": null,
      "justify_content": null,
      "justify_items": null,
      "left": null,
      "margin": null,
      "max_height": null,
      "max_width": null,
      "min_height": null,
      "min_width": null,
      "object_fit": null,
      "object_position": null,
      "order": null,
      "overflow": null,
      "overflow_x": null,
      "overflow_y": null,
      "padding": null,
      "right": null,
      "top": null,
      "visibility": null,
      "width": null
     }
    },
    "91d15e8206784a5791b74bd896b5cd3c": {
     "model_module": "@jupyter-widgets/controls",
     "model_module_version": "1.5.0",
     "model_name": "ProgressStyleModel",
     "state": {
      "_model_module": "@jupyter-widgets/controls",
      "_model_module_version": "1.5.0",
      "_model_name": "ProgressStyleModel",
      "_view_count": null,
      "_view_module": "@jupyter-widgets/base",
      "_view_module_version": "1.2.0",
      "_view_name": "StyleView",
      "bar_color": null,
      "description_width": ""
     }
    },
    "b8b4b36ee47c4dad8f0534baa3510572": {
     "model_module": "@jupyter-widgets/controls",
     "model_module_version": "1.5.0",
     "model_name": "VBoxModel",
     "state": {
      "_dom_classes": [],
      "_model_module": "@jupyter-widgets/controls",
      "_model_module_version": "1.5.0",
      "_model_name": "VBoxModel",
      "_view_count": null,
      "_view_module": "@jupyter-widgets/controls",
      "_view_module_version": "1.5.0",
      "_view_name": "VBoxView",
      "box_style": "",
      "children": [
       "IPY_MODEL_2ad7643d091148f8b41cc2b18ec9f987",
       "IPY_MODEL_662763d055e1422cb22b730143429873"
      ],
      "layout": "IPY_MODEL_c1d36353225040c38298b3df25dbe5b0"
     }
    },
    "c1d36353225040c38298b3df25dbe5b0": {
     "model_module": "@jupyter-widgets/base",
     "model_module_version": "1.2.0",
     "model_name": "LayoutModel",
     "state": {
      "_model_module": "@jupyter-widgets/base",
      "_model_module_version": "1.2.0",
      "_model_name": "LayoutModel",
      "_view_count": null,
      "_view_module": "@jupyter-widgets/base",
      "_view_module_version": "1.2.0",
      "_view_name": "LayoutView",
      "align_content": null,
      "align_items": null,
      "align_self": null,
      "border": null,
      "bottom": null,
      "display": null,
      "flex": null,
      "flex_flow": null,
      "grid_area": null,
      "grid_auto_columns": null,
      "grid_auto_flow": null,
      "grid_auto_rows": null,
      "grid_column": null,
      "grid_gap": null,
      "grid_row": null,
      "grid_template_areas": null,
      "grid_template_columns": null,
      "grid_template_rows": null,
      "height": null,
      "justify_content": null,
      "justify_items": null,
      "left": null,
      "margin": null,
      "max_height": null,
      "max_width": null,
      "min_height": null,
      "min_width": null,
      "object_fit": null,
      "object_position": null,
      "order": null,
      "overflow": null,
      "overflow_x": null,
      "overflow_y": null,
      "padding": null,
      "right": null,
      "top": null,
      "visibility": null,
      "width": null
     }
    },
    "c5293cd430334359a729e5f7daae9edc": {
     "model_module": "@jupyter-widgets/base",
     "model_module_version": "1.2.0",
     "model_name": "LayoutModel",
     "state": {
      "_model_module": "@jupyter-widgets/base",
      "_model_module_version": "1.2.0",
      "_model_name": "LayoutModel",
      "_view_count": null,
      "_view_module": "@jupyter-widgets/base",
      "_view_module_version": "1.2.0",
      "_view_name": "LayoutView",
      "align_content": null,
      "align_items": null,
      "align_self": null,
      "border": null,
      "bottom": null,
      "display": null,
      "flex": null,
      "flex_flow": null,
      "grid_area": null,
      "grid_auto_columns": null,
      "grid_auto_flow": null,
      "grid_auto_rows": null,
      "grid_column": null,
      "grid_gap": null,
      "grid_row": null,
      "grid_template_areas": null,
      "grid_template_columns": null,
      "grid_template_rows": null,
      "height": null,
      "justify_content": null,
      "justify_items": null,
      "left": null,
      "margin": null,
      "max_height": null,
      "max_width": null,
      "min_height": null,
      "min_width": null,
      "object_fit": null,
      "object_position": null,
      "order": null,
      "overflow": null,
      "overflow_x": null,
      "overflow_y": null,
      "padding": null,
      "right": null,
      "top": null,
      "visibility": null,
      "width": null
     }
    },
    "dbada5374d284d4f876b82aa2299be3b": {
     "model_module": "@jupyter-widgets/controls",
     "model_module_version": "1.5.0",
     "model_name": "DescriptionStyleModel",
     "state": {
      "_model_module": "@jupyter-widgets/controls",
      "_model_module_version": "1.5.0",
      "_model_name": "DescriptionStyleModel",
      "_view_count": null,
      "_view_module": "@jupyter-widgets/base",
      "_view_module_version": "1.2.0",
      "_view_name": "StyleView",
      "description_width": ""
     }
    }
   }
  }
 },
 "nbformat": 4,
 "nbformat_minor": 1
}
