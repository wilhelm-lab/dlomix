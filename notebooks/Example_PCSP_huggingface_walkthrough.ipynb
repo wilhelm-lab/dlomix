{
 "cells": [
  {
   "cell_type": "markdown",
   "id": "2faaee3a",
   "metadata": {},
   "source": [
    "# Precursor Charge State Prediction\n",
    "\n",
    "This notebook presents a short walkthrough the process of reading a dataset and training a model for precursor charge state prediction. The dataset is an example dataset extracted from a ProteomTools dataset generated in the **Chair of Bioanalytics** at the **School of Life Sciences** at the **Technical University of Munich**.\n",
    "\n",
    "DLOmix is the framework being used here and it is a custom wrapper on top of Keras/TensorFlow and PyTorch.\n",
    "This walkthrough focusses on TensorFlow."
   ]
  },
  {
   "cell_type": "code",
   "execution_count": 1,
   "id": "722c861b",
   "metadata": {},
   "outputs": [
    {
     "name": "stdout",
     "output_type": "stream",
     "text": [
      "env: DLOMIX_BACKEND=tensorflow\n",
      "Using TensorFlow Backend for DLOmix. To change the backend, set the DLOMIX_BACKEND environment variable to tensorflow or pytorch and re-import DLOmix.\n"
     ]
    },
    {
     "name": "stderr",
     "output_type": "stream",
     "text": [
      "2025-04-15 09:10:15.650979: E external/local_xla/xla/stream_executor/cuda/cuda_dnn.cc:9261] Unable to register cuDNN factory: Attempting to register factory for plugin cuDNN when one has already been registered\n",
      "2025-04-15 09:10:15.651022: E external/local_xla/xla/stream_executor/cuda/cuda_fft.cc:607] Unable to register cuFFT factory: Attempting to register factory for plugin cuFFT when one has already been registered\n",
      "2025-04-15 09:10:15.652676: E external/local_xla/xla/stream_executor/cuda/cuda_blas.cc:1515] Unable to register cuBLAS factory: Attempting to register factory for plugin cuBLAS when one has already been registered\n",
      "2025-04-15 09:10:15.660779: I tensorflow/core/platform/cpu_feature_guard.cc:182] This TensorFlow binary is optimized to use available CPU instructions in performance-critical operations.\n",
      "To enable the following instructions: AVX2 FMA, in other operations, rebuild TensorFlow with the appropriate compiler flags.\n",
      "2025-04-15 09:10:17.372237: W tensorflow/compiler/tf2tensorrt/utils/py_utils.cc:38] TF-TRT Warning: Could not find TensorRT\n"
     ]
    }
   ],
   "source": [
    "%env DLOMIX_BACKEND tensorflow\n",
    "\n",
    "import dlomix\n",
    "#dlomix.__version__"
   ]
  },
  {
   "cell_type": "markdown",
   "id": "abad34f9",
   "metadata": {},
   "source": [
    "The available modules in the framework are as follows:\n",
    "\n",
    "- `constants`: constants to be used in the framework (e.g. Aminoacid alphabet mapping)\n",
    "- `data`:  classes for representing dataset, wrappers around HuggingFace datasets to process input data and generate tensor datasets\n",
    "- `eval`: custom evaluation metrics implemented in Keras/TF to work as `metrics` for model training\n",
    "- `layers`: custom layer implementation required for the different models\n",
    "- `models`: different model implementations for Retention Time Prediction\n",
    "- `pipelines`: complete pipelines to run a task (e.g. Retention Time prediction)\n",
    "\n",
    "**Note**: reports and pipelines are work-in-progress, some funtionalities are not complete."
   ]
  },
  {
   "cell_type": "code",
   "execution_count": 2,
   "id": "fe5d3602",
   "metadata": {},
   "outputs": [
    {
     "name": "stderr",
     "output_type": "stream",
     "text": [
      "/cmnfs/home/a.schroeder/miniconda3/envs/dlomix_tf_mini_AyS/lib/python3.10/site-packages/tqdm/auto.py:21: TqdmWarning: IProgress not found. Please update jupyter and ipywidgets. See https://ipywidgets.readthedocs.io/en/stable/user_install.html\n",
      "  from .autonotebook import tqdm as notebook_tqdm\n"
     ]
    },
    {
     "name": "stdout",
     "output_type": "stream",
     "text": [
      "\n",
      "Avaliable feature extractors are (use the key of the following dict and pass it to features_to_extract in the Dataset Class):\n",
      "{\n",
      "   \"atom_count\": \"Atom count of PTM.\",\n",
      "   \"delta_mass\": \"Delta mass of PTM.\",\n",
      "   \"mod_gain\": \"Gain of atoms due to PTM.\",\n",
      "   \"mod_loss\": \"Loss of atoms due to PTM.\",\n",
      "   \"red_smiles\": \"Reduced SMILES representation of PTM.\"\n",
      "}.\n",
      "When writing your own feature extractor, you can either\n",
      "    (1) use the FeatureExtractor class or\n",
      "    (2) write a function that can be mapped to the Hugging Face dataset.\n",
      "In both cases, you can access the parsed sequence information from the dataset using the following keys, which all provide python lists:\n",
      "    - _parsed_sequence: parsed sequence\n",
      "    - _n_term_mods: N-terminal modifications\n",
      "    - _c_term_mods: C-terminal modifications\n",
      "\n",
      "['BACKEND_IMPORT_ERROR_MESSAGE', 'BACKEND_PRETTY_NAME', 'PYTORCH_BACKEND', 'TENSORFLOW_BACKEND', 'config', 'constants', 'data', 'eval', 'layers', 'losses', 'models', 'pipelines', 'reports', 'tensorflow']\n"
     ]
    }
   ],
   "source": [
    "from dlomix import constants, data, eval, layers, models, pipelines, reports\n",
    "print([x for x in dir(dlomix) if not x.startswith(\"_\")])"
   ]
  },
  {
   "cell_type": "markdown",
   "id": "86656f2e",
   "metadata": {},
   "source": [
    "## required imports"
   ]
  },
  {
   "cell_type": "code",
   "execution_count": 13,
   "id": "e875394b-3f3d-4179-b2ad-004ac33901c4",
   "metadata": {},
   "outputs": [],
   "source": [
    "import tensorflow as tf\n",
    "\n",
    "import matplotlib.pyplot as plt\n",
    "\n",
    "from dlomix.constants import PTMS_ALPHABET\n",
    "from dlomix.data import ChargeStateDataset\n",
    "from dlomix.eval import adjusted_mean_absolute_error\n",
    "from dlomix.models import ChargeStatePredictor"
   ]
  },
  {
   "cell_type": "markdown",
   "id": "fa8a5cd4",
   "metadata": {},
   "source": [
    "## 1. Load Data\n",
    "\n",
    "We can import the dataset class and create an object of type `ChargeStateDataset`. This object wraps around a Hugging Face dataset that can generate TensorFlow Dataset objects or Torch Dataset for training, validation, or testing. This can be controlled by the arguments `val_ratio`, `val_data_source`, and `test_data_source`.\n",
    "\n",
    "The most important columns of the charge state dataset are:\n",
    "* \"modified_sequence\", representing the peptide sequences, modifications are annotated using the UNIMOD encoding.\n",
    "* \"charge_state_dist\", representing the relative charge state distribution per peptide. It is to be used together with the model_flavour=\"relative\", which is the default.\n",
    "* \"most_abundant_charge_state\", representing the most abundant charge state (as binary vector) per peptide. It is to be used together with the model_flavour=\"dominant\".\n",
    "* \"observed_charge_states\", representing all observed charge states (as binary vector) per peptide. It is to be used together with the model_flavour=\"observed\"."
   ]
  },
  {
   "cell_type": "code",
   "execution_count": 6,
   "id": "aef81bd4-cbb7-45c8-ac3b-e9b2f8b597f0",
   "metadata": {},
   "outputs": [],
   "source": [
    "DATA_PATH = \"Wilhelmlab/prospect-ptms-charge\"   # complete PROSPECT dataset prepared for charge state prediction\n",
    "BATCH_SIZE = 2048"
   ]
  },
  {
   "cell_type": "code",
   "execution_count": 7,
   "id": "983f43fa-5084-49d3-98f7-a7cfc167ed91",
   "metadata": {},
   "outputs": [
    {
     "name": "stdout",
     "output_type": "stream",
     "text": [
      "Applying step: SequenceParsingProcessor on split train...\n",
      "Applying step: SequenceParsingProcessor on split val...\n"
     ]
    },
    {
     "name": "stderr",
     "output_type": "stream",
     "text": [
      "Mapping SequenceParsingProcessor: 100%|██████████| 328072/328072 [00:05<00:00, 58227.29 examples/s]\n"
     ]
    },
    {
     "name": "stdout",
     "output_type": "stream",
     "text": [
      "Applying step: SequenceParsingProcessor on split test...\n"
     ]
    },
    {
     "name": "stderr",
     "output_type": "stream",
     "text": [
      "Mapping SequenceParsingProcessor: 100%|██████████| 161588/161588 [00:02<00:00, 53940.07 examples/s]\n"
     ]
    },
    {
     "name": "stdout",
     "output_type": "stream",
     "text": [
      "Applying step: SequencePTMRemovalProcessor on split train...\n"
     ]
    },
    {
     "name": "stderr",
     "output_type": "stream",
     "text": [
      "Mapping SequencePTMRemovalProcessor: 100%|██████████| 1142537/1142537 [00:34<00:00, 32864.85 examples/s]\n"
     ]
    },
    {
     "name": "stdout",
     "output_type": "stream",
     "text": [
      "Applying step: SequencePTMRemovalProcessor on split val...\n"
     ]
    },
    {
     "name": "stderr",
     "output_type": "stream",
     "text": [
      "Mapping SequencePTMRemovalProcessor: 100%|██████████| 328072/328072 [00:10<00:00, 31561.55 examples/s]\n"
     ]
    },
    {
     "name": "stdout",
     "output_type": "stream",
     "text": [
      "Applying step: SequencePTMRemovalProcessor on split test...\n"
     ]
    },
    {
     "name": "stderr",
     "output_type": "stream",
     "text": [
      "Mapping SequencePTMRemovalProcessor: 100%|██████████| 161588/161588 [00:05<00:00, 31391.55 examples/s]\n"
     ]
    },
    {
     "name": "stdout",
     "output_type": "stream",
     "text": [
      "Applying step: SequenceEncodingProcessor on split train...\n"
     ]
    },
    {
     "name": "stderr",
     "output_type": "stream",
     "text": [
      "Mapping SequenceEncodingProcessor: 100%|██████████| 1142537/1142537 [00:34<00:00, 32720.37 examples/s]\n"
     ]
    },
    {
     "name": "stdout",
     "output_type": "stream",
     "text": [
      "Applying step: SequenceEncodingProcessor on split val...\n"
     ]
    },
    {
     "name": "stderr",
     "output_type": "stream",
     "text": [
      "Mapping SequenceEncodingProcessor: 100%|██████████| 328072/328072 [00:10<00:00, 31203.81 examples/s]\n"
     ]
    },
    {
     "name": "stdout",
     "output_type": "stream",
     "text": [
      "Applying step: SequenceEncodingProcessor on split test...\n"
     ]
    },
    {
     "name": "stderr",
     "output_type": "stream",
     "text": [
      "Mapping SequenceEncodingProcessor: 100%|██████████| 161588/161588 [00:05<00:00, 30594.48 examples/s]\n"
     ]
    },
    {
     "name": "stdout",
     "output_type": "stream",
     "text": [
      "Applying step: SequencePaddingProcessor on split train...\n"
     ]
    },
    {
     "name": "stderr",
     "output_type": "stream",
     "text": [
      "Mapping SequencePaddingProcessor: 100%|██████████| 1142537/1142537 [00:29<00:00, 38145.41 examples/s]\n",
      "Filter: 100%|██████████| 1142537/1142537 [00:02<00:00, 523438.04 examples/s]\n"
     ]
    },
    {
     "name": "stdout",
     "output_type": "stream",
     "text": [
      "Applying step: SequencePaddingProcessor on split val...\n"
     ]
    },
    {
     "name": "stderr",
     "output_type": "stream",
     "text": [
      "Mapping SequencePaddingProcessor: 100%|██████████| 328072/328072 [00:08<00:00, 38750.24 examples/s]\n",
      "Filter: 100%|██████████| 328072/328072 [00:00<00:00, 433943.42 examples/s]\n"
     ]
    },
    {
     "name": "stdout",
     "output_type": "stream",
     "text": [
      "Applying step: SequencePaddingProcessor on split test...\n"
     ]
    },
    {
     "name": "stderr",
     "output_type": "stream",
     "text": [
      "Mapping SequencePaddingProcessor: 100%|██████████| 161588/161588 [00:04<00:00, 37225.80 examples/s]\n"
     ]
    }
   ],
   "source": [
    "d = ChargeStateDataset(\n",
    "    data_format=\"hub\",\n",
    "    data_source=DATA_PATH,\n",
    "    sequence_column=\"modified_sequence\",\n",
    "    label_column=\"charge_state_dist\",   # use this column for relative charge state distribution\n",
    "    max_seq_len=30,\n",
    "    batch_size=BATCH_SIZE,\n",
    ")"
   ]
  },
  {
   "cell_type": "markdown",
   "id": "dc837dcb",
   "metadata": {},
   "source": [
    "Now we have an CS dataset that can be used directly with standard or custom `Keras` models. This wrapper contains the splits we chose when creating it. In our case, they are training and validation splits. To get the TF Dataset, we call the attributes `.tensor_train_data` and `.tensor_val_data`."
   ]
  },
  {
   "cell_type": "code",
   "execution_count": 8,
   "id": "86208de7",
   "metadata": {},
   "outputs": [
    {
     "name": "stdout",
     "output_type": "stream",
     "text": [
      "Hugging Face Dataset: DatasetDict({\n",
      "    train: Dataset({\n",
      "        features: ['modified_sequence', 'charge_state_dist', '_parsed_sequence', '_n_term_mods', '_c_term_mods'],\n",
      "        num_rows: 1138142\n",
      "    })\n",
      "    val: Dataset({\n",
      "        features: ['modified_sequence', 'charge_state_dist', '_parsed_sequence', '_n_term_mods', '_c_term_mods'],\n",
      "        num_rows: 326769\n",
      "    })\n",
      "    test: Dataset({\n",
      "        features: ['modified_sequence', 'charge_state_dist', '_parsed_sequence', '_n_term_mods', '_c_term_mods'],\n",
      "        num_rows: 161588\n",
      "    })\n",
      "})\n",
      "Training examples: 1138142\n",
      "one training batch looks like:\n"
     ]
    },
    {
     "name": "stderr",
     "output_type": "stream",
     "text": [
      "/cmnfs/home/a.schroeder/miniconda3/envs/dlomix_tf_mini_AyS/lib/python3.10/site-packages/datasets/arrow_dataset.py:400: FutureWarning: The output of `to_tf_dataset` will change when a passing single element list for `labels` or `columns` in the next datasets version. To return a tuple structure rather than dict, pass a single string.\n",
      "Old behaviour: columns=['a'], labels=['labels'] -> (tf.Tensor, tf.Tensor)  \n",
      "             : columns='a', labels='labels' -> (tf.Tensor, tf.Tensor)  \n",
      "New behaviour: columns=['a'],labels=['labels'] -> ({'a': tf.Tensor}, {'labels': tf.Tensor})  \n",
      "             : columns='a', labels='labels' -> (tf.Tensor, tf.Tensor) \n",
      "  warnings.warn(\n",
      "2025-04-15 09:20:58.557133: I tensorflow/core/common_runtime/gpu/gpu_device.cc:1929] Created device /job:localhost/replica:0/task:0/device:GPU:0 with 5596 MB memory:  -> device: 0, name: NVIDIA GeForce GTX 1080, pci bus id: 0000:02:00.0, compute capability: 6.1\n",
      "2025-04-15 09:20:58.557805: I tensorflow/core/common_runtime/gpu/gpu_device.cc:1929] Created device /job:localhost/replica:0/task:0/device:GPU:1 with 7498 MB memory:  -> device: 1, name: NVIDIA GeForce GTX 1080, pci bus id: 0000:03:00.0, compute capability: 6.1\n",
      "2025-04-15 09:20:58.558346: I tensorflow/core/common_runtime/gpu/gpu_device.cc:1929] Created device /job:localhost/replica:0/task:0/device:GPU:2 with 7498 MB memory:  -> device: 2, name: NVIDIA GeForce GTX 1080, pci bus id: 0000:81:00.0, compute capability: 6.1\n"
     ]
    },
    {
     "name": "stdout",
     "output_type": "stream",
     "text": [
      "(<tf.Tensor: shape=(2048, 30), dtype=int64, numpy=\n",
      "array([[21,  7,  2, ...,  0,  0,  0],\n",
      "       [21, 16, 13, ...,  0,  0,  0],\n",
      "       [21,  8, 10, ...,  0,  0,  0],\n",
      "       ...,\n",
      "       [21, 11, 18, ...,  0,  0,  0],\n",
      "       [21, 10, 12, ...,  0,  0,  0],\n",
      "       [21, 17,  4, ...,  0,  0,  0]])>, <tf.Tensor: shape=(2048, 6), dtype=float32, numpy=\n",
      "array([[0.        , 0.27535924, 0.7246407 , 0.        , 0.        ,\n",
      "        0.        ],\n",
      "       [0.        , 1.        , 0.        , 0.        , 0.        ,\n",
      "        0.        ],\n",
      "       [0.        , 1.        , 0.        , 0.        , 0.        ,\n",
      "        0.        ],\n",
      "       ...,\n",
      "       [0.        , 1.        , 0.        , 0.        , 0.        ,\n",
      "        0.        ],\n",
      "       [0.        , 0.        , 1.        , 0.        , 0.        ,\n",
      "        0.        ],\n",
      "       [0.        , 0.        , 1.        , 0.        , 0.        ,\n",
      "        0.        ]], dtype=float32)>)\n",
      "Validation examples: 326769\n"
     ]
    },
    {
     "name": "stderr",
     "output_type": "stream",
     "text": [
      "2025-04-15 09:20:59.098355: W tensorflow/core/framework/op_kernel.cc:1827] UNKNOWN: AttributeError: 'Dataset' object has no attribute '_data'\n",
      "Traceback (most recent call last):\n",
      "\n",
      "  File \"/cmnfs/home/a.schroeder/miniconda3/envs/dlomix_tf_mini_AyS/lib/python3.10/site-packages/tensorflow/python/ops/script_ops.py\", line 268, in __call__\n",
      "    return func(device, token, args)\n",
      "\n",
      "  File \"/cmnfs/home/a.schroeder/miniconda3/envs/dlomix_tf_mini_AyS/lib/python3.10/site-packages/tensorflow/python/ops/script_ops.py\", line 146, in __call__\n",
      "    outputs = self._call(device, args)\n",
      "\n",
      "  File \"/cmnfs/home/a.schroeder/miniconda3/envs/dlomix_tf_mini_AyS/lib/python3.10/site-packages/tensorflow/python/ops/script_ops.py\", line 153, in _call\n",
      "    ret = self._func(*args)\n",
      "\n",
      "  File \"/cmnfs/home/a.schroeder/miniconda3/envs/dlomix_tf_mini_AyS/lib/python3.10/site-packages/tensorflow/python/autograph/impl/api.py\", line 643, in wrapper\n",
      "    return func(*args, **kwargs)\n",
      "\n",
      "  File \"/cmnfs/home/a.schroeder/miniconda3/envs/dlomix_tf_mini_AyS/lib/python3.10/site-packages/datasets/utils/tf_utils.py\", line 82, in np_get_batch\n",
      "    batch = dataset[indices[0] : indices[-1] + 1]\n",
      "\n",
      "  File \"/cmnfs/home/a.schroeder/miniconda3/envs/dlomix_tf_mini_AyS/lib/python3.10/site-packages/datasets/arrow_dataset.py\", line 2777, in __getitem__\n",
      "    return self._getitem(key)\n",
      "\n",
      "  File \"/cmnfs/home/a.schroeder/miniconda3/envs/dlomix_tf_mini_AyS/lib/python3.10/site-packages/datasets/arrow_dataset.py\", line 2761, in _getitem\n",
      "    pa_subtable = query_table(self._data, key, indices=self._indices)\n",
      "\n",
      "AttributeError: 'Dataset' object has no attribute '_data'. Did you mean: 'data'?\n",
      "\n",
      "\n"
     ]
    }
   ],
   "source": [
    "print(\"Hugging Face Dataset:\", d)\n",
    "\n",
    "print(\"Training examples:\", len(d[\"train\"]))\n",
    "print(\"one training batch looks like:\")\n",
    "for x in d.tensor_train_data:\n",
    "    print(x)\n",
    "    break\n",
    "\n",
    "print(\"Validation examples:\", len(d[\"val\"]))"
   ]
  },
  {
   "cell_type": "markdown",
   "id": "f05ed4e7",
   "metadata": {},
   "source": [
    "## 2. Model\n",
    "\n",
    "We can now create the model. We will use the relative charge state distribution version (set via the parameter model_flavour=\"relative\") of the Prosit-based Precursor Charge State Prediction model `ChargeStatePredictor`. It has default working arguments, but most of the parameters can be customized.\n",
    "\n",
    "**Note**: Important is to ensure that the padding length used for the dataset object is equal to the sequence length passed to the model.\n",
    "\n",
    "The three model flavours of `ChargeStatePredictor` are:\n",
    "\n",
    "1. Dominant Charge State Prediction:\n",
    "   - Task: Predict the dominant charge state of a given peptide sequence.\n",
    "   - Model: Uses a deep learning model (RNN-based) inspired by Prosit's architecture to predict the most likely charge state.\n",
    "\n",
    "2. Observed Charge State Prediction:\n",
    "   - Task: Predict the observed charge states for a given peptide sequence.\n",
    "   - Model: Uses a multi-label classification approach to predict all possible charge states.\n",
    "\n",
    "3. Relative Charge State Prediction:\n",
    "   - Task: Predict the proportion of each charge state for a given peptide sequence.\n",
    "   - Model: Uses a regression approach to predict the proportion of each charge state."
   ]
  },
  {
   "cell_type": "code",
   "execution_count": 9,
   "id": "04ef3817-6f98-4e1d-86e3-479c8c8252ff",
   "metadata": {},
   "outputs": [],
   "source": [
    "optimizer = tf.keras.optimizers.Adam(learning_rate=0.0001)"
   ]
  },
  {
   "cell_type": "code",
   "execution_count": 10,
   "id": "9662b240",
   "metadata": {},
   "outputs": [],
   "source": [
    "model = model = ChargeStatePredictor(\n",
    "    num_classes=6, seq_length=30, alphabet=PTMS_ALPHABET, model_flavour=\"relative\"\n",
    ")"
   ]
  },
  {
   "cell_type": "markdown",
   "id": "0b9149df",
   "metadata": {},
   "source": [
    "## 3. Training\n",
    "\n",
    "We can then train the model like a standard Keras model. You can observe the decreasing loss value"
   ]
  },
  {
   "cell_type": "code",
   "execution_count": 11,
   "id": "a895db80",
   "metadata": {},
   "outputs": [],
   "source": [
    "model.compile(\n",
    "    optimizer=optimizer,\n",
    "    loss=\"mean_squared_error\",\n",
    "    metrics=[adjusted_mean_absolute_error],\n",
    ")"
   ]
  },
  {
   "cell_type": "code",
   "execution_count": 12,
   "id": "a50afb28",
   "metadata": {},
   "outputs": [
    {
     "name": "stderr",
     "output_type": "stream",
     "text": [
      "2025-04-15 09:21:21.558068: I external/local_xla/xla/stream_executor/cuda/cuda_dnn.cc:454] Loaded cuDNN version 8904\n",
      "2025-04-15 09:21:23.485219: I external/local_xla/xla/service/service.cc:168] XLA service 0x7f868e450f20 initialized for platform CUDA (this does not guarantee that XLA will be used). Devices:\n",
      "2025-04-15 09:21:23.485270: I external/local_xla/xla/service/service.cc:176]   StreamExecutor device (0): NVIDIA GeForce GTX 1080, Compute Capability 6.1\n",
      "2025-04-15 09:21:23.485291: I external/local_xla/xla/service/service.cc:176]   StreamExecutor device (1): NVIDIA GeForce GTX 1080, Compute Capability 6.1\n",
      "2025-04-15 09:21:23.485310: I external/local_xla/xla/service/service.cc:176]   StreamExecutor device (2): NVIDIA GeForce GTX 1080, Compute Capability 6.1\n",
      "2025-04-15 09:21:23.531701: I tensorflow/compiler/mlir/tensorflow/utils/dump_mlir_util.cc:269] disabling MLIR crash reproducer, set env var `MLIR_CRASH_REPRODUCER_DIRECTORY` to enable.\n",
      "WARNING: All log messages before absl::InitializeLog() is called are written to STDERR\n",
      "I0000 00:00:1744708883.760613 1220558 device_compiler.h:186] Compiled cluster using XLA!  This line is logged at most once for the lifetime of the process.\n"
     ]
    },
    {
     "name": "stdout",
     "output_type": "stream",
     "text": [
      "556/556 [==============================] - 165s 280ms/step - loss: 0.0488 - adjusted_mean_absolute_error: 0.1164 - val_loss: 0.0287 - val_adjusted_mean_absolute_error: 0.0682\n"
     ]
    }
   ],
   "source": [
    "history = model.fit(\n",
    "    d.tensor_train_data, \n",
    "    validation_data=d.tensor_val_data,\n",
    "    epochs=1,  # reduced for demonstration\n",
    ")"
   ]
  },
  {
   "cell_type": "markdown",
   "id": "8eef5a2f",
   "metadata": {},
   "source": [
    "### Visualize Training History"
   ]
  },
  {
   "cell_type": "code",
   "execution_count": 14,
   "id": "d79c27ad",
   "metadata": {},
   "outputs": [],
   "source": [
    "def plot_learning_curves(history, title='Learning Curves'):\n",
    "    history_dict = history.history\n",
    "    loss = history_dict['loss']\n",
    "    val_loss = history_dict.get('val_loss', [])\n",
    "    \n",
    "    epochs = range(1, len(loss) + 1)\n",
    "    \n",
    "    plt.figure(figsize=(8, 5))\n",
    "    plt.plot(epochs, loss, 'b-', label='Training Loss')\n",
    "    if val_loss:\n",
    "        plt.plot(epochs, val_loss, 'r-', label='Validation Loss')\n",
    "    plt.title(title)\n",
    "    plt.xlabel('Epochs')\n",
    "    plt.ylabel('Loss')\n",
    "    plt.legend()\n",
    "    plt.show()"
   ]
  },
  {
   "cell_type": "code",
   "execution_count": 15,
   "id": "4b86f321",
   "metadata": {},
   "outputs": [
    {
     "data": {
      "image/png": "[encoded data removed]",
      "text/plain": [
       "<Figure size 800x500 with 1 Axes>"
      ]
     },
     "metadata": {},
     "output_type": "display_data"
    }
   ],
   "source": [
    "plot_learning_curves(history, title='Charge State Distribution Model')"
   ]
  },
  {
   "cell_type": "markdown",
   "id": "0fb70557",
   "metadata": {},
   "source": [
    "## 3. Testing\n",
    "\n",
    "The ChargeStateDataset also contains a test dataset to test our model.\n",
    "\n",
    "**Note**: Currently there is no reporting module available for CS prediction."
   ]
  },
  {
   "cell_type": "code",
   "execution_count": 16,
   "id": "e05fe0e2",
   "metadata": {},
   "outputs": [],
   "source": [
    "test_targets = d[\"test\"][\"charge_state_dist\"]\n",
    "test_sequences = d[\"test\"][\"modified_sequence\"]"
   ]
  },
  {
   "cell_type": "code",
   "execution_count": 17,
   "id": "e02983f0",
   "metadata": {},
   "outputs": [
    {
     "name": "stdout",
     "output_type": "stream",
     "text": [
      "5050/5050 [==============================] - 39s 7ms/step\n",
      "[[21, 20, 8, 7, 12, 8, 10, 16, 8, 22, 0, 0, 0, 0, 0, 0, 0, 0, 0, 0, 0, 0, 0, 0, 0, 0, 0, 0, 0, 0], [21, 5, 7, 17, 13, 16, 12, 16, 20, 17, 1, 14, 15, 22, 0, 0, 0, 0, 0, 0, 0, 0, 0, 0, 0, 0, 0, 0, 0, 0], [21, 8, 13, 6, 13, 4, 6, 14, 4, 18, 10, 2, 9, 14, 8, 9, 22, 0, 0, 0, 0, 0, 0, 0, 0, 0, 0, 0, 0, 0], [21, 17, 6, 14, 9, 18, 1, 10, 9, 9, 22, 0, 0, 0, 0, 0, 0, 0, 0, 0, 0, 0, 0, 0, 0, 0, 0, 0, 0, 0], [21, 1, 17, 10, 2, 2, 1, 15, 13, 4, 13, 15, 22, 0, 0, 0, 0, 0, 0, 0, 0, 0, 0, 0, 0, 0, 0, 0, 0, 0]]\n",
      "[[0.0, 1.0, 0.0, 0.0, 0.0, 0.0], [0.0, 0.18388216654438674, 0.8161178334556133, 0.0, 0.0, 0.0], [0.0, 0.03440733446425485, 0.9655926655357452, 0.0, 0.0, 0.0], [0.0, 1.0, 0.0, 0.0, 0.0, 0.0], [0.0, 0.007387597915967662, 0.9926124020840323, 0.0, 0.0, 0.0]]\n",
      "[[ 1.6248247e-02  9.4760293e-01 -8.5926037e-03  5.4676011e-03\n",
      "   2.7500184e-03 -9.5755327e-04]\n",
      " [-2.4547828e-03  2.9708153e-01  6.6442794e-01 -4.5503341e-03\n",
      "   2.4660879e-03 -1.2378106e-03]\n",
      " [-2.8312197e-03  1.5224366e-01  8.3231175e-01 -9.8606548e-04\n",
      "   4.1449280e-04  1.6631838e-04]\n",
      " [-1.9262199e-03  1.2612681e-01  8.4112310e-01  1.1576722e-02\n",
      "  -4.9140602e-03  3.2745460e-03]\n",
      " [-3.1541688e-03  1.6703144e-01  8.0078334e-01 -7.3019564e-03\n",
      "   3.0849152e-04 -9.9432189e-04]]\n",
      "(161588, 6) 161588\n"
     ]
    }
   ],
   "source": [
    "predictions = model.predict(test_sequences)\n",
    "print(test_sequences[:5])\n",
    "print(test_targets[:5])\n",
    "print(predictions[:5])\n",
    "print(predictions.shape, len(test_targets))"
   ]
  },
  {
   "cell_type": "markdown",
   "id": "60aa5a89",
   "metadata": {},
   "source": [
    "## 4. Saving and Loading Models\n",
    "\n",
    "Models can be saved normally the same Keras models would be saved. It is better to save the weights and the not the model since it makes it easier and more platform-indepdent when loading the model again. The extra step needed is to create a model object and then load the weights."
   ]
  },
  {
   "cell_type": "code",
   "execution_count": 18,
   "id": "4b2c7cdf",
   "metadata": {},
   "outputs": [],
   "source": [
    "# save the model weights\n",
    "\n",
    "save_path = \"./output/csd_model\"\n",
    "model.save_weights(save_path)"
   ]
  },
  {
   "cell_type": "code",
   "execution_count": 19,
   "id": "40757b96",
   "metadata": {},
   "outputs": [
    {
     "data": {
      "text/plain": [
       "<tensorflow.python.checkpoint.checkpoint.CheckpointLoadStatus at 0x7f86bdf59150>"
      ]
     },
     "execution_count": 19,
     "metadata": {},
     "output_type": "execute_result"
    }
   ],
   "source": [
    "# models can be later loaded by creating a model object and then loading the weights\n",
    "\n",
    "trained_model = ChargeStatePredictor(seq_length=32)\n",
    "trained_model.load_weights(save_path)"
   ]
  },
  {
   "cell_type": "code",
   "execution_count": null,
   "id": "16731932",
   "metadata": {},
   "outputs": [],
   "source": []
  }
 ],
 "metadata": {
  "kernelspec": {
   "display_name": "dlomix_tf_mini_AyS",
   "language": "python",
   "name": "python3"
  },
  "language_info": {
   "codemirror_mode": {
    "name": "ipython",
    "version": 3
   },
   "file_extension": ".py",
   "mimetype": "text/x-python",
   "name": "python",
   "nbconvert_exporter": "python",
   "pygments_lexer": "ipython3",
   "version": "3.10.0"
  }
 },
 "nbformat": 4,
 "nbformat_minor": 5
}
