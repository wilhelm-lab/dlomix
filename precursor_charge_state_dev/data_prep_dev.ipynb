{
 "cells": [
  {
   "cell_type": "markdown",
   "metadata": {},
   "source": [
    "### Imports "
   ]
  },
  {
   "cell_type": "code",
   "execution_count": 2,
   "metadata": {},
   "outputs": [],
   "source": [
    "import os \n",
    "import re \n",
    "import numpy as np \n",
    "import pandas as pd \n",
    "from collections import Counter"
   ]
  },
  {
   "cell_type": "markdown",
   "metadata": {},
   "source": [
    "### Data prep"
   ]
  },
  {
   "cell_type": "markdown",
   "metadata": {},
   "source": [
    "#### File import"
   ]
  },
  {
   "cell_type": "code",
   "execution_count": 3,
   "metadata": {},
   "outputs": [],
   "source": [
    "def combine_files_into_df(directory_path=\"../data/\", file_types=['.parquet', '.tsv', '.csv']):\n",
    "    \"\"\"\n",
    "    Combines all files in a specified directory into one DataFrame based on specified file types.\n",
    "\n",
    "    Parameters:\n",
    "    directory_path (str): Path to the directory containing the files.\n",
    "    file_types (list): List of file extensions to include in the combination (e.g., ['.parquet', '.tsv', '.csv']).\n",
    "\n",
    "    Returns:\n",
    "    pd.DataFrame: A DataFrame consisting of combined data from files in the specified directory.\n",
    "    \"\"\"\n",
    "    # Map file extensions to their respective pandas read functions and parameters\n",
    "    read_funcs = {\n",
    "        '.parquet': (pd.read_parquet, {'engine': 'fastparquet'}),\n",
    "        '.tsv': (pd.read_csv, {'sep': '\\t'}),\n",
    "        '.csv': (pd.read_csv, {})\n",
    "    }\n",
    "    \n",
    "    message_prefix = \"Step 1/? complete.\"\n",
    "\n",
    "    dfs = []\n",
    "    # Iterate through all files in the specified directory\n",
    "    for file in os.listdir(directory_path):\n",
    "        file_path = os.path.join(directory_path, file)\n",
    "        file_extension = os.path.splitext(file)[1]\n",
    "        \n",
    "        # Check if the file extension is in the list of types to read\n",
    "        if file_extension in file_types:\n",
    "            read_func, params = read_funcs.get(file_extension, (None, None))\n",
    "            if read_func:\n",
    "                df = read_func(file_path, **params)\n",
    "                dfs.append(df)\n",
    "            else:\n",
    "                print(f\"Skipping unsupported file type: {file_extension}\")\n",
    "\n",
    "    # Combine all DataFrames in the list into a single DataFrame\n",
    "    if dfs:\n",
    "        df = pd.concat(dfs, ignore_index=True)\n",
    "        print(f\"{message_prefix} Combined {len(dfs)} files into one DataFrame.\")\n",
    "    else:\n",
    "        df = pd.DataFrame()\n",
    "        print(\"No files combined.\")\n",
    "\n",
    "    return df"
   ]
  },
  {
   "cell_type": "code",
   "execution_count": 4,
   "metadata": {},
   "outputs": [],
   "source": [
    "def filter_andromeda_score(df, threshold=70):\n",
    "    \"\"\"\n",
    "    Filters out rows in the DataFrame where the andromeda_score is less than 70.\n",
    "\n",
    "    Parameters:\n",
    "    df (pd.DataFrame): The input DataFrame.\n",
    "\n",
    "    Returns:\n",
    "    pd.DataFrame: A DataFrame with rows where andromeda_score >= 70.\n",
    "    \"\"\"\n",
    "    # Filter the DataFrame\n",
    "    filtered_df = df[df['andromeda_score'] >= threshold]\n",
    "    return filtered_df"
   ]
  },
  {
   "cell_type": "code",
   "execution_count": 5,
   "metadata": {},
   "outputs": [],
   "source": [
    "def filter_dataframe_columns(df, columns_to_keep=['modified_sequence', 'precursor_charge', 'precursor_intensity']):\n",
    "    \"\"\"\n",
    "    Filters a DataFrame to retain only the specified columns.\n",
    "\n",
    "    Parameters:\n",
    "    df (pd.DataFrame): The DataFrame to filter.\n",
    "    columns_to_keep (list): The names of the columns to keep in the DataFrame.\n",
    "\n",
    "    Returns:\n",
    "    pd.DataFrame: A DataFrame containing only the specified columns.\n",
    "    \"\"\"\n",
    "    filtered_df = df[columns_to_keep].copy() if all(col in df for col in columns_to_keep) else df\n",
    "#    print(f\"Step 2/? complete. Removed {len(df.columns) - len(df_filtered.columns)} columns from the DataFrame.\")\n",
    "    return filtered_df"
   ]
  },
  {
   "cell_type": "code",
   "execution_count": 6,
   "metadata": {},
   "outputs": [],
   "source": [
    "def drop_na(df, column=\"precursor_intensity\"):\n",
    "    \"\"\"\n",
    "    Drops all rows with NaN values in a specific column of the DataFrame.\n",
    "\n",
    "    Parameters:\n",
    "    df (pd.DataFrame): The DataFrame from which to drop rows.\n",
    "    column (str): The column name where NaN values will be checked and rows dropped accordingly.\n",
    "\n",
    "    Returns:\n",
    "    pd.DataFrame: A DataFrame without NaN values in the specified column.\n",
    "    \"\"\"\n",
    "    filtered_df = df[df[column].notna()]\n",
    "#    print(f\"Step 3/? complete. Dropped rows with NaN for intensities.\")\n",
    "    return filtered_df"
   ]
  },
  {
   "cell_type": "code",
   "execution_count": 7,
   "metadata": {},
   "outputs": [],
   "source": [
    "def keep_desired_charges(df, charge_list=[1, 2, 3, 4, 5, 6], min_count=None):\n",
    "    \"\"\"\n",
    "    Keep only desired charge states and filter out charges with counts less than min_count.\n",
    "    Default: keep charge states 1-6 with no minimum count filtering.\n",
    "\n",
    "    @param df: DataFrame\n",
    "    @param charge_list: list of charge states to be kept\n",
    "    @param min_count: minimum count of charge states to be retained\n",
    "    \"\"\"\n",
    "    if min_count is not None:\n",
    "        charge_counts = df[\"precursor_charge\"].value_counts()\n",
    "        charge_list = [\n",
    "            charge for charge in charge_list if charge_counts.get(charge, 0) >= min_count\n",
    "        ]\n",
    "\n",
    "    filtered_df = df[df[\"precursor_charge\"].isin(charge_list)]\n",
    "    return filtered_df"
   ]
  },
  {
   "cell_type": "code",
   "execution_count": 8,
   "metadata": {},
   "outputs": [],
   "source": [
    "def aggregate_unique_sequences(df):\n",
    "    \"\"\"\n",
    "    Aggregates all sequences to unique sequences\n",
    "    @param df: DataFrame\n",
    "    @return: df: DataFrame\n",
    "    \"\"\"\n",
    "    df = (\n",
    "        df.groupby(\"modified_sequence\", as_index=False)[[\"precursor_charge\", \"precursor_intensity\"]]\n",
    "        .agg(list)\n",
    "    )\n",
    "    # print(f\"Step 5/? complete. Aggregated all sequences to unique sequences.\")\n",
    "    return df"
   ]
  },
  {
   "cell_type": "code",
   "execution_count": 9,
   "metadata": {},
   "outputs": [],
   "source": [
    "def remove_rare_sequence_lengths(df, representation_threshold=100):\n",
    "    \"\"\"\n",
    "    Remove sequences of specific length represented less than a certain number of times.\n",
    "    \n",
    "    @param df: DataFrame containing a \"modified_sequence\" column\n",
    "    @param representation_threshold: int, threshold for the number of times a sequence length must be represented\n",
    "    @return: tuple of (DataFrame, int), where DataFrame contains only sequence lengths represented more than\n",
    "             representation_threshold times, and int is the length of the longest sequence\n",
    "    \"\"\"\n",
    "    before_len = len(df)\n",
    "    # Calculate sequence lengths directly within the groupby and count operation\n",
    "    sequence_lengths = df[\"modified_sequence\"].str.len()\n",
    "    # Identify sequence lengths that meet the representation threshold\n",
    "    valid_lengths = sequence_lengths.value_counts()[lambda x: x >= representation_threshold].index\n",
    "    # Filter the DataFrame based on valid sequence lengths\n",
    "    filtered_df = df[sequence_lengths.isin(valid_lengths)].copy()\n",
    "    padding_length = sequence_lengths.max()\n",
    "    after_len = len(filtered_df)\n",
    "    \n",
    "    '''\n",
    "    print(\n",
    "        f\"Step 6/? complete. Removed {before_len - after_len} of {before_len} sequences because their sequence length \"\n",
    "        f\"is represented less than {representation_threshold} times.\"\n",
    "    )\n",
    "    '''\n",
    "    return filtered_df, padding_length"
   ]
  },
  {
   "cell_type": "code",
   "execution_count": 10,
   "metadata": {},
   "outputs": [],
   "source": [
    "def complete_vocabulary(df):\n",
    "    \"\"\"\n",
    "    Find all UNIMOD annotations and add them to the vocabulary\n",
    "    (The length of the vocabulary +1 is used later for the embedding layer)\n",
    "    @param df: DataFrame\n",
    "    @return: vocabulary: list, list of all amino acids and modifications\n",
    "    @return: vocab_len: int, length of the vocabulary\n",
    "    \"\"\"\n",
    "    vocabulary = []\n",
    "    vocabulary += list(\"XACDEFGHIKLMNPQRSTVWY\")\n",
    "    annotations = re.findall(r\"(\\w\\[UNIMOD:\\d+])\", \" \".join(df[\"modified_sequence\"]))\n",
    "    for item in annotations:\n",
    "        if item not in vocabulary:\n",
    "            vocabulary.append(item)\n",
    "    \n",
    "    # print(f\"Step 7/? complete. Completed vocabulary with {vocab_len} entries.\")\n",
    "    return vocabulary, len(vocabulary)"
   ]
  },
  {
   "cell_type": "markdown",
   "metadata": {},
   "source": [
    "## Select most abundand charge states for TASK 1"
   ]
  },
  {
   "cell_type": "markdown",
   "metadata": {},
   "source": [
    "### By count // OBSOLETE"
   ]
  },
  {
   "cell_type": "code",
   "execution_count": 11,
   "metadata": {},
   "outputs": [],
   "source": [
    "def select_most_abundant_by_count(df, charge_list=None):\n",
    "    \"\"\"\n",
    "    Selects the most abundant charge state by count.\n",
    "    \n",
    "    @param df: DataFrame with a 'precursor_charge' column containing a list of charge states.\n",
    "    @return: DataFrame with an added 'most_abundant_by_count' and 'most_abundant_charge_vector' column.\n",
    "    \"\"\"\n",
    "    # Define a function to find the most common element in a list\n",
    "    def most_common(lst):\n",
    "        return Counter(lst).most_common(1)[0][0]\n",
    "\n",
    "    # Apply the function to each row in the 'precursor_charge' column and assign to a new column\n",
    "    df['most_abundant_charge_by_count'] = df['precursor_charge'].apply(most_common)\n",
    "\n",
    "    if charge_list is None:\n",
    "        charge_list = [1, 2, 3, 4, 5, 6]\n",
    "    df[\"most_abundant_charge_by_count_vector\"] = df[\"most_abundant_charge_by_count\"].apply(\n",
    "        lambda x: [1 if x == i else 0 for i in charge_list]\n",
    "    )\n",
    "    '''\n",
    "    print(\n",
    "        f\"Step ?/? complete. Selected most abundant charge state by count and generated one-hot encoding\"\n",
    "    )\n",
    "    '''\n",
    "    \n",
    "    return df"
   ]
  },
  {
   "cell_type": "code",
   "execution_count": 12,
   "metadata": {},
   "outputs": [],
   "source": [
    "def get_topK_charge_states_by_count(df, k=2):\n",
    "    \"\"\"\n",
    "    Get top-k charge states for each sequence according to the count in precursor_charge.\n",
    "    Default: k=2\n",
    "    @param df: DataFrame with a 'precursor_charge' column containing a list of charge states.\n",
    "    @param k: int, number of top charge states to be selected\n",
    "    @return: DataFrame with an added column for top-k charge states.\n",
    "    \"\"\"\n",
    "\n",
    "    def get_topK_charge_counts(charge_list):\n",
    "        # Count the occurrences of each charge state and get the top-k\n",
    "        count = Counter(charge_list)\n",
    "        top_k = [charge for charge, _ in count.most_common(k)]\n",
    "        return top_k\n",
    "\n",
    "    # Apply the function to each row in the 'precursor_charge' column and assign to a new column\n",
    "    df[f\"top_{k}_charge_states_by_count\"] = df['precursor_charge'].apply(get_topK_charge_counts)\n",
    "\n",
    "    # print(f\"Step ?/? complete. Selected top {k} charge states per sequence based on count.\")\n",
    "    return df"
   ]
  },
  {
   "cell_type": "markdown",
   "metadata": {},
   "source": [
    "### By intensities"
   ]
  },
  {
   "cell_type": "code",
   "execution_count": 13,
   "metadata": {},
   "outputs": [],
   "source": [
    "def select_most_abundant_charge_by_intensity(df, aggregation='max'):\n",
    "    charge_col = f'charge_by_{aggregation}_intensity'\n",
    "    intensity_col = f'{aggregation}_intensity'\n",
    "    df[charge_col] = None\n",
    "    df[intensity_col] = None\n",
    "\n",
    "    for index, row in df.iterrows():\n",
    "        charges = row['precursor_charge']\n",
    "        intensities = row['precursor_intensity']\n",
    "\n",
    "        # Aggregate intensities for each unique charge\n",
    "        charge_intensity_dict = {}\n",
    "        for charge, intensity in zip(charges, intensities):\n",
    "            if charge in charge_intensity_dict:\n",
    "                charge_intensity_dict[charge].append(intensity)\n",
    "            else:\n",
    "                charge_intensity_dict[charge] = [intensity]\n",
    "\n",
    "        # Calculate the average or maximum intensity for each charge\n",
    "        if aggregation == 'avg':\n",
    "            avg_intensity = {charge: sum(charge_intensity_dict[charge]) / len(charge_intensity_dict[charge]) for charge in charge_intensity_dict}\n",
    "            most_abundant_charge = max(avg_intensity, key=avg_intensity.get)\n",
    "            selected_intensity = avg_intensity[most_abundant_charge]\n",
    "        elif aggregation == 'max':\n",
    "            max_intensity = {charge: max(charge_intensity_dict[charge]) for charge in charge_intensity_dict}\n",
    "            most_abundant_charge = max(max_intensity, key=max_intensity.get)\n",
    "            selected_intensity = max_intensity[most_abundant_charge]\n",
    "\n",
    "        df.at[index, charge_col] = most_abundant_charge\n",
    "        df.at[index, intensity_col] = selected_intensity\n",
    "\n",
    "    return df"
   ]
  },
  {
   "cell_type": "code",
   "execution_count": 14,
   "metadata": {},
   "outputs": [],
   "source": [
    "def top_k_abundant_charges_by_intensity(df, k=1, aggregation='max'):\n",
    "    charge_col = f'top_{k}_abundant_charges_by_{aggregation}'\n",
    "    intensity_col = f'top_{k}_{aggregation}_intensities'\n",
    "    df[charge_col] = None\n",
    "    df[intensity_col] = None\n",
    "\n",
    "    for index, row in df.iterrows():\n",
    "        charges = row['precursor_charge']\n",
    "        intensities = row['precursor_intensity']\n",
    "\n",
    "        # Aggregate intensities for each unique charge\n",
    "        charge_intensity_dict = {}\n",
    "        for charge, intensity in zip(charges, intensities):\n",
    "            charge_intensity_dict.setdefault(charge, []).append(intensity)\n",
    "\n",
    "        # Calculate the average or maximum intensity for each charge\n",
    "        if aggregation == 'avg':\n",
    "            charge_intensity_aggregated = {charge: sum(intensities) / len(intensities) for charge, intensities in charge_intensity_dict.items()}\n",
    "        elif aggregation == 'max':\n",
    "            charge_intensity_aggregated = {charge: max(intensities) for charge, intensities in charge_intensity_dict.items()}\n",
    "\n",
    "        # Sort the charges by their aggregated intensity and select the top-k\n",
    "        sorted_charges = sorted(charge_intensity_aggregated.items(), key=lambda item: item[1], reverse=True)[:k]\n",
    "        top_k_charges, top_k_intensities = zip(*sorted_charges) if sorted_charges else ([], [])\n",
    "        \n",
    "        df.at[index, charge_col] = list(top_k_charges)\n",
    "        df.at[index, intensity_col] = list(top_k_intensities)\n",
    "\n",
    "    return df"
   ]
  },
  {
   "cell_type": "code",
   "execution_count": 15,
   "metadata": {},
   "outputs": [],
   "source": [
    "def generate_charge_state_encodings(df, aggregation='max'):\n",
    "    '''\n",
    "    Calculate the most abundant charge state for each sequence based on the precursor intensity\n",
    "    and generate the charge state vector and one-hot encoded vector for the most abundant charge.\n",
    "    '''\n",
    "    df['one_hot_most_abundant_charge'] = None\n",
    "    df['charge_state_vector'] = None\n",
    "\n",
    "    max_charge_state = max(max(charges) for charges in df['precursor_charge'])\n",
    "\n",
    "    for index, row in df.iterrows():\n",
    "        charges = row['precursor_charge']\n",
    "        intensities = row['precursor_intensity']\n",
    "\n",
    "        # Map intensities to their respective charge states\n",
    "        charge_intensity_dict = {charge: [] for charge in charges}\n",
    "        for charge, intensity in zip(charges, intensities):\n",
    "            charge_intensity_dict[charge].append(intensity)\n",
    "\n",
    "        # Aggregate intensities\n",
    "        if aggregation == 'avg':\n",
    "            aggregated_intensity = {charge: sum(intensities) / len(intensities) for charge, intensities in charge_intensity_dict.items()}\n",
    "        else:  # max\n",
    "            aggregated_intensity = {charge: max(intensities) for charge, intensities in charge_intensity_dict.items()}\n",
    "        \n",
    "        most_abundant_charge = max(aggregated_intensity, key=aggregated_intensity.get)\n",
    "\n",
    "        # Generate the one-hot encoded vector for the most abundant charge\n",
    "        one_hot_vector = [1 if charge == most_abundant_charge else 0 for charge in range(1, max_charge_state + 1)]\n",
    "        \n",
    "        # Generate the charge state vector for all charges\n",
    "        charge_state_vector = [1 if charge in charges else 0 for charge in range(1, max_charge_state + 1)]\n",
    "\n",
    "        df.at[index, 'one_hot_most_abundant_charge'] = one_hot_vector\n",
    "        df.at[index, 'charge_state_vector'] = charge_state_vector\n",
    "\n",
    "    return df"
   ]
  },
  {
   "cell_type": "code",
   "execution_count": 16,
   "metadata": {},
   "outputs": [],
   "source": [
    "def compute_normalized_intensity_distribution(df):\n",
    "    '''\n",
    "    TASK 3: Compute the normalized intensity distribution for each sequence.\n",
    "    '''\n",
    "\n",
    "    max_charge_state = max(max(charges) for charges in df['precursor_charge'])\n",
    "\n",
    "    normalized_intensity_distribution = []\n",
    "    for charges, intensities in zip(df['precursor_charge'], df['precursor_intensity']):\n",
    "        total_intensity = sum(intensities)\n",
    "        charge_intensity_dict = {charge: 0 for charge in range(1, max_charge_state + 1)}\n",
    "        for charge, intensity in zip(charges, intensities):\n",
    "            charge_intensity_dict[charge] += intensity\n",
    "\n",
    "        distribution = [charge_intensity_dict[i] / total_intensity for i in range(1, max_charge_state + 1)]\n",
    "        normalized_intensity_distribution.append(distribution)\n",
    "    \n",
    "    df['normalized_intensity_distribution'] = normalized_intensity_distribution\n",
    "    return df"
   ]
  },
  {
   "cell_type": "code",
   "execution_count": 17,
   "metadata": {},
   "outputs": [],
   "source": [
    "def save_df_as_parquet(df, data_dir, file_name='preprocessed_pcp_data.parquet'):\n",
    "    \"\"\"\n",
    "    Saves a DataFrame as a Parquet file in the specified directory with the given file name.\n",
    "\n",
    "    Parameters:\n",
    "    df (pd.DataFrame): The DataFrame to save.\n",
    "    data_dir (str): Directory where the Parquet file will be saved.\n",
    "    file_name (str, optional): Name of the Parquet file. Defaults to 'preprocessed_pcp_data.parquet'.\n",
    "    \"\"\"\n",
    "    # Ensure the directory exists\n",
    "    if not os.path.exists(data_dir):\n",
    "        os.makedirs(data_dir)\n",
    "    \n",
    "    # Full path for the file\n",
    "    file_path = os.path.join(data_dir, file_name)\n",
    "    \n",
    "    # Save the DataFrame as a Parquet file\n",
    "    df.to_parquet(file_path, engine='pyarrow')\n",
    "\n",
    "    print(f\"File saved successfully at {file_path}\")"
   ]
  },
  {
   "cell_type": "markdown",
   "metadata": {},
   "source": [
    "## Data prep process"
   ]
  },
  {
   "cell_type": "code",
   "execution_count": 18,
   "metadata": {},
   "outputs": [
    {
     "name": "stdout",
     "output_type": "stream",
     "text": [
      "Step 1/? complete. Combined 12 files into one DataFrame.\n"
     ]
    }
   ],
   "source": [
    "df = combine_files_into_df()"
   ]
  },
  {
   "cell_type": "code",
   "execution_count": 19,
   "metadata": {},
   "outputs": [
    {
     "name": "stdout",
     "output_type": "stream",
     "text": [
      "<class 'pandas.core.frame.DataFrame'>\n",
      "RangeIndex: 61727023 entries, 0 to 61727022\n",
      "Data columns (total 15 columns):\n",
      " #   Column                    Dtype  \n",
      "---  ------                    -----  \n",
      " 0   raw_file                  object \n",
      " 1   scan_number               int64  \n",
      " 2   modified_sequence         object \n",
      " 3   precursor_charge          int64  \n",
      " 4   precursor_intensity       float64\n",
      " 5   mz                        float64\n",
      " 6   precursor_mz              float64\n",
      " 7   fragmentation             object \n",
      " 8   mass_analyzer             object \n",
      " 9   retention_time            float64\n",
      " 10  indexed_retention_time    float64\n",
      " 11  andromeda_score           float64\n",
      " 12  peptide_length            int64  \n",
      " 13  orig_collision_energy     float64\n",
      " 14  aligned_collision_energy  float64\n",
      "dtypes: float64(8), int64(3), object(4)\n",
      "memory usage: 6.9+ GB\n"
     ]
    }
   ],
   "source": [
    "df.info()"
   ]
  },
  {
   "cell_type": "code",
   "execution_count": 22,
   "metadata": {},
   "outputs": [
    {
     "data": {
      "image/png": "[encoded data removed]",
      "text/plain": [
       "<Figure size 1000x600 with 1 Axes>"
      ]
     },
     "metadata": {},
     "output_type": "display_data"
    }
   ],
   "source": [
    "# plot peptide_length distribution\n",
    "import matplotlib.pyplot as plt\n",
    "import seaborn as sns\n",
    "\n",
    "plt.figure(figsize=(10, 6))\n",
    "sns.histplot(df['peptide_length'], bins=30, kde=False)\n",
    "plt.title('Distribution of Peptide Lengths')\n",
    "plt.xlabel('Peptide Length')\n",
    "plt.ylabel('Frequency')\n",
    "plt.grid(True)\n",
    "plt.show()\n"
   ]
  },
  {
   "cell_type": "code",
   "execution_count": 55,
   "metadata": {},
   "outputs": [],
   "source": [
    "df = filter_andromeda_score(df)"
   ]
  },
  {
   "cell_type": "code",
   "execution_count": 56,
   "metadata": {},
   "outputs": [],
   "source": [
    "df = filter_dataframe_columns(df)"
   ]
  },
  {
   "cell_type": "code",
   "execution_count": 57,
   "metadata": {},
   "outputs": [],
   "source": [
    "df = drop_na(df)"
   ]
  },
  {
   "cell_type": "code",
   "execution_count": 58,
   "metadata": {},
   "outputs": [],
   "source": [
    "df = keep_desired_charges(df, charge_list=[1,2,3,4,5,6,7], min_count=10000)"
   ]
  },
  {
   "cell_type": "code",
   "execution_count": 59,
   "metadata": {},
   "outputs": [],
   "source": [
    "df = aggregate_unique_sequences(df)"
   ]
  },
  {
   "cell_type": "code",
   "execution_count": 60,
   "metadata": {},
   "outputs": [],
   "source": [
    "df, max_seq_len = remove_rare_sequence_lengths(df, representation_threshold=200)"
   ]
  },
  {
   "cell_type": "code",
   "execution_count": 61,
   "metadata": {},
   "outputs": [],
   "source": [
    "\n",
    "df = select_most_abundant_charge_by_intensity(df, aggregation='max')"
   ]
  },
  {
   "cell_type": "code",
   "execution_count": 62,
   "metadata": {},
   "outputs": [],
   "source": [
    "df = select_most_abundant_charge_by_intensity(df, aggregation='avg')"
   ]
  },
  {
   "cell_type": "code",
   "execution_count": 63,
   "metadata": {},
   "outputs": [],
   "source": [
    "df = generate_charge_state_encodings(df, aggregation='max')"
   ]
  },
  {
   "cell_type": "code",
   "execution_count": 64,
   "metadata": {},
   "outputs": [],
   "source": [
    "df = compute_normalized_intensity_distribution(df)"
   ]
  },
  {
   "cell_type": "code",
   "execution_count": 65,
   "metadata": {},
   "outputs": [
    {
     "data": {
      "text/html": [
       "<div>\n",
       "<style scoped>\n",
       "    .dataframe tbody tr th:only-of-type {\n",
       "        vertical-align: middle;\n",
       "    }\n",
       "\n",
       "    .dataframe tbody tr th {\n",
       "        vertical-align: top;\n",
       "    }\n",
       "\n",
       "    .dataframe thead th {\n",
       "        text-align: right;\n",
       "    }\n",
       "</style>\n",
       "<table border=\"1\" class=\"dataframe\">\n",
       "  <thead>\n",
       "    <tr style=\"text-align: right;\">\n",
       "      <th></th>\n",
       "      <th>modified_sequence</th>\n",
       "      <th>precursor_charge</th>\n",
       "      <th>precursor_intensity</th>\n",
       "      <th>charge_by_max_intensity</th>\n",
       "      <th>max_intensity</th>\n",
       "      <th>charge_by_avg_intensity</th>\n",
       "      <th>avg_intensity</th>\n",
       "      <th>one_hot_most_abundant_charge</th>\n",
       "      <th>charge_state_vector</th>\n",
       "      <th>normalized_intensity_distribution</th>\n",
       "    </tr>\n",
       "  </thead>\n",
       "  <tbody>\n",
       "    <tr>\n",
       "      <th>0</th>\n",
       "      <td>AAAAAAAAAAAAAAAAGLGLGP</td>\n",
       "      <td>[2, 3, 2, 1, 1, 2, 2, 2, 2, 2, 2, 3, 2, 2, 2, ...</td>\n",
       "      <td>[12746190.0, 2009914.0, 12746190.0, 791369.9, ...</td>\n",
       "      <td>2</td>\n",
       "      <td>84118390.0</td>\n",
       "      <td>2</td>\n",
       "      <td>43127182.666667</td>\n",
       "      <td>[0, 1, 0, 0, 0]</td>\n",
       "      <td>[1, 1, 1, 0, 0]</td>\n",
       "      <td>[0.0014942136737631886, 0.977159622342211, 0.0...</td>\n",
       "    </tr>\n",
       "    <tr>\n",
       "      <th>1</th>\n",
       "      <td>AAAAAAAAAAAAAAAASAGGK</td>\n",
       "      <td>[2, 2, 2, 2, 2, 2, 2, 2, 2, 2, 2, 2, 2, 2]</td>\n",
       "      <td>[5944787.0, 5944787.0, 8502878.0, 6425294.0, 8...</td>\n",
       "      <td>2</td>\n",
       "      <td>8824163.0</td>\n",
       "      <td>2</td>\n",
       "      <td>7635636.714286</td>\n",
       "      <td>[0, 1, 0, 0, 0]</td>\n",
       "      <td>[0, 1, 0, 0, 0]</td>\n",
       "      <td>[0.0, 1.0, 0.0, 0.0, 0.0]</td>\n",
       "    </tr>\n",
       "    <tr>\n",
       "      <th>2</th>\n",
       "      <td>AAAAAAAAAAAAAAAGAGAGAK</td>\n",
       "      <td>[2, 2, 2, 2]</td>\n",
       "      <td>[3067981.0, 3067981.0, 3067981.0, 3067981.0]</td>\n",
       "      <td>2</td>\n",
       "      <td>3067981.0</td>\n",
       "      <td>2</td>\n",
       "      <td>3067981.0</td>\n",
       "      <td>[0, 1, 0, 0, 0]</td>\n",
       "      <td>[0, 1, 0, 0, 0]</td>\n",
       "      <td>[0.0, 1.0, 0.0, 0.0, 0.0]</td>\n",
       "    </tr>\n",
       "    <tr>\n",
       "      <th>3</th>\n",
       "      <td>AAAAAAAAAAAAAAASGFAYPGTSER</td>\n",
       "      <td>[2, 2, 2, 2, 2, 2, 2, 2, 2, 2, 2, 2, 2, 2, 3]</td>\n",
       "      <td>[11913300.0, 11913300.0, 11913300.0, 11913300....</td>\n",
       "      <td>2</td>\n",
       "      <td>11913300.0</td>\n",
       "      <td>2</td>\n",
       "      <td>8273927.142857</td>\n",
       "      <td>[0, 1, 0, 0, 0]</td>\n",
       "      <td>[0, 1, 1, 0, 0]</td>\n",
       "      <td>[0.0, 0.9879325512697509, 0.012067448730249095...</td>\n",
       "    </tr>\n",
       "    <tr>\n",
       "      <th>4</th>\n",
       "      <td>AAAAAAAAAAAAAAG</td>\n",
       "      <td>[1, 1, 1, 1, 1, 1, 1, 1, 1, 1, 1, 1, 1, 1, 1, ...</td>\n",
       "      <td>[1573785.0, 4638296.0, 7934979.0, 2019978.0, 4...</td>\n",
       "      <td>1</td>\n",
       "      <td>16573010.0</td>\n",
       "      <td>1</td>\n",
       "      <td>8562738.097872</td>\n",
       "      <td>[1, 0, 0, 0, 0]</td>\n",
       "      <td>[1, 0, 0, 0, 0]</td>\n",
       "      <td>[1.0, 0.0, 0.0, 0.0, 0.0]</td>\n",
       "    </tr>\n",
       "  </tbody>\n",
       "</table>\n",
       "</div>"
      ],
      "text/plain": [
       "            modified_sequence  \\\n",
       "0      AAAAAAAAAAAAAAAAGLGLGP   \n",
       "1       AAAAAAAAAAAAAAAASAGGK   \n",
       "2      AAAAAAAAAAAAAAAGAGAGAK   \n",
       "3  AAAAAAAAAAAAAAASGFAYPGTSER   \n",
       "4             AAAAAAAAAAAAAAG   \n",
       "\n",
       "                                    precursor_charge  \\\n",
       "0  [2, 3, 2, 1, 1, 2, 2, 2, 2, 2, 2, 3, 2, 2, 2, ...   \n",
       "1         [2, 2, 2, 2, 2, 2, 2, 2, 2, 2, 2, 2, 2, 2]   \n",
       "2                                       [2, 2, 2, 2]   \n",
       "3      [2, 2, 2, 2, 2, 2, 2, 2, 2, 2, 2, 2, 2, 2, 3]   \n",
       "4  [1, 1, 1, 1, 1, 1, 1, 1, 1, 1, 1, 1, 1, 1, 1, ...   \n",
       "\n",
       "                                 precursor_intensity charge_by_max_intensity  \\\n",
       "0  [12746190.0, 2009914.0, 12746190.0, 791369.9, ...                       2   \n",
       "1  [5944787.0, 5944787.0, 8502878.0, 6425294.0, 8...                       2   \n",
       "2       [3067981.0, 3067981.0, 3067981.0, 3067981.0]                       2   \n",
       "3  [11913300.0, 11913300.0, 11913300.0, 11913300....                       2   \n",
       "4  [1573785.0, 4638296.0, 7934979.0, 2019978.0, 4...                       1   \n",
       "\n",
       "  max_intensity charge_by_avg_intensity    avg_intensity  \\\n",
       "0    84118390.0                       2  43127182.666667   \n",
       "1     8824163.0                       2   7635636.714286   \n",
       "2     3067981.0                       2        3067981.0   \n",
       "3    11913300.0                       2   8273927.142857   \n",
       "4    16573010.0                       1   8562738.097872   \n",
       "\n",
       "  one_hot_most_abundant_charge charge_state_vector  \\\n",
       "0              [0, 1, 0, 0, 0]     [1, 1, 1, 0, 0]   \n",
       "1              [0, 1, 0, 0, 0]     [0, 1, 0, 0, 0]   \n",
       "2              [0, 1, 0, 0, 0]     [0, 1, 0, 0, 0]   \n",
       "3              [0, 1, 0, 0, 0]     [0, 1, 1, 0, 0]   \n",
       "4              [1, 0, 0, 0, 0]     [1, 0, 0, 0, 0]   \n",
       "\n",
       "                   normalized_intensity_distribution  \n",
       "0  [0.0014942136737631886, 0.977159622342211, 0.0...  \n",
       "1                          [0.0, 1.0, 0.0, 0.0, 0.0]  \n",
       "2                          [0.0, 1.0, 0.0, 0.0, 0.0]  \n",
       "3  [0.0, 0.9879325512697509, 0.012067448730249095...  \n",
       "4                          [1.0, 0.0, 0.0, 0.0, 0.0]  "
      ]
     },
     "execution_count": 65,
     "metadata": {},
     "output_type": "execute_result"
    }
   ],
   "source": [
    "df.head()"
   ]
  },
  {
   "cell_type": "code",
   "execution_count": 66,
   "metadata": {},
   "outputs": [
    {
     "data": {
      "text/plain": [
       "757164"
      ]
     },
     "execution_count": 66,
     "metadata": {},
     "output_type": "execute_result"
    }
   ],
   "source": [
    "len(df)"
   ]
  },
  {
   "cell_type": "code",
   "execution_count": 69,
   "metadata": {},
   "outputs": [
    {
     "name": "stdout",
     "output_type": "stream",
     "text": [
      "File saved successfully at ../preprocessed_pcp_data.parquet\n"
     ]
    }
   ],
   "source": [
    "save_df_as_parquet(df, data_dir='../', file_name='preprocessed_pcp_data.parquet')"
   ]
  },
  {
   "cell_type": "code",
   "execution_count": 67,
   "metadata": {},
   "outputs": [
    {
     "name": "stdout",
     "output_type": "stream",
     "text": [
      "<class 'pandas.core.frame.DataFrame'>\n",
      "Index: 757164 entries, 0 to 758335\n",
      "Data columns (total 10 columns):\n",
      " #   Column                             Non-Null Count   Dtype \n",
      "---  ------                             --------------   ----- \n",
      " 0   modified_sequence                  757164 non-null  object\n",
      " 1   precursor_charge                   757164 non-null  object\n",
      " 2   precursor_intensity                757164 non-null  object\n",
      " 3   charge_by_max_intensity            757164 non-null  object\n",
      " 4   max_intensity                      757164 non-null  object\n",
      " 5   charge_by_avg_intensity            757164 non-null  object\n",
      " 6   avg_intensity                      757164 non-null  object\n",
      " 7   one_hot_most_abundant_charge       757164 non-null  object\n",
      " 8   charge_state_vector                757164 non-null  object\n",
      " 9   normalized_intensity_distribution  757164 non-null  object\n",
      "dtypes: object(10)\n",
      "memory usage: 79.7+ MB\n"
     ]
    }
   ],
   "source": [
    "df.info()"
   ]
  },
  {
   "cell_type": "markdown",
   "metadata": {},
   "source": [
    "## SIMPLIFIED TEST SET"
   ]
  },
  {
   "cell_type": "code",
   "execution_count": 26,
   "metadata": {},
   "outputs": [],
   "source": [
    "input = {\n",
    "    \"modified_sequence\": [\"A\"]*6 + [\"B\"]*5 + [\"C\"]*4 + [\"D\"]*3 + [\"E\"]*2 + [\"F\"]*3 + [\"G\"]*4 + [\"H\"]*3 + [\"I\"]*5 + [\"J\"] + [\"X\"]*6,\n",
    "    \"precursor_charge\": [2, 2, 2, 1, 3, 2, 2, 2, 1, 1, 3, 1, 1, 2, 2, 3, 3, 2, 1, 1, 2, 2, 2, 1, 1, 2, 3, 3, 3, 2, 4, 4, 4, 4, 5, 2, 1, 1, 1, 1, 2, 2],\n",
    "    \"precursor_intensity\": [10, 20, 30, 40, 15, 25, 50, 60, 70, 80, 90, 100, 200, 150, 50, 300, 500, 400, 10, 20, 30, 40, 50, 60, 70, 65, 60, 100, 200, 300, 400, 500, 600, 700, 800, 900, 550, 560, 570, 550, 200, 900]\n",
    "}\n",
    "test_data = pd.DataFrame(input)"
   ]
  },
  {
   "cell_type": "code",
   "execution_count": 27,
   "metadata": {},
   "outputs": [
    {
     "data": {
      "text/html": [
       "<div>\n",
       "<style scoped>\n",
       "    .dataframe tbody tr th:only-of-type {\n",
       "        vertical-align: middle;\n",
       "    }\n",
       "\n",
       "    .dataframe tbody tr th {\n",
       "        vertical-align: top;\n",
       "    }\n",
       "\n",
       "    .dataframe thead th {\n",
       "        text-align: right;\n",
       "    }\n",
       "</style>\n",
       "<table border=\"1\" class=\"dataframe\">\n",
       "  <thead>\n",
       "    <tr style=\"text-align: right;\">\n",
       "      <th></th>\n",
       "      <th>modified_sequence</th>\n",
       "      <th>precursor_charge</th>\n",
       "      <th>precursor_intensity</th>\n",
       "      <th>charge_by_max_intensity</th>\n",
       "      <th>max_intensity</th>\n",
       "      <th>charge_by_avg_intensity</th>\n",
       "      <th>avg_intensity</th>\n",
       "      <th>one_hot_most_abundant_charge</th>\n",
       "      <th>charge_state_vector</th>\n",
       "      <th>normalized_intensity_distribution</th>\n",
       "    </tr>\n",
       "  </thead>\n",
       "  <tbody>\n",
       "    <tr>\n",
       "      <th>0</th>\n",
       "      <td>A</td>\n",
       "      <td>[2, 2, 2, 1, 3, 2]</td>\n",
       "      <td>[10, 20, 30, 40, 15, 25]</td>\n",
       "      <td>1</td>\n",
       "      <td>40</td>\n",
       "      <td>1</td>\n",
       "      <td>40.0</td>\n",
       "      <td>[1, 0, 0, 0, 0]</td>\n",
       "      <td>[1, 1, 1, 0, 0]</td>\n",
       "      <td>[0.2857142857142857, 0.6071428571428571, 0.107...</td>\n",
       "    </tr>\n",
       "    <tr>\n",
       "      <th>1</th>\n",
       "      <td>B</td>\n",
       "      <td>[2, 2, 1, 1, 3]</td>\n",
       "      <td>[50, 60, 70, 80, 90]</td>\n",
       "      <td>3</td>\n",
       "      <td>90</td>\n",
       "      <td>3</td>\n",
       "      <td>90.0</td>\n",
       "      <td>[0, 0, 1, 0, 0]</td>\n",
       "      <td>[1, 1, 1, 0, 0]</td>\n",
       "      <td>[0.42857142857142855, 0.3142857142857143, 0.25...</td>\n",
       "    </tr>\n",
       "    <tr>\n",
       "      <th>2</th>\n",
       "      <td>C</td>\n",
       "      <td>[1, 1, 2, 2]</td>\n",
       "      <td>[100, 200, 150, 50]</td>\n",
       "      <td>1</td>\n",
       "      <td>200</td>\n",
       "      <td>1</td>\n",
       "      <td>150.0</td>\n",
       "      <td>[1, 0, 0, 0, 0]</td>\n",
       "      <td>[1, 1, 0, 0, 0]</td>\n",
       "      <td>[0.6, 0.4, 0.0, 0.0, 0.0]</td>\n",
       "    </tr>\n",
       "    <tr>\n",
       "      <th>3</th>\n",
       "      <td>D</td>\n",
       "      <td>[3, 3, 2]</td>\n",
       "      <td>[300, 500, 400]</td>\n",
       "      <td>3</td>\n",
       "      <td>500</td>\n",
       "      <td>3</td>\n",
       "      <td>400.0</td>\n",
       "      <td>[0, 0, 1, 0, 0]</td>\n",
       "      <td>[0, 1, 1, 0, 0]</td>\n",
       "      <td>[0.0, 0.3333333333333333, 0.6666666666666666, ...</td>\n",
       "    </tr>\n",
       "    <tr>\n",
       "      <th>4</th>\n",
       "      <td>E</td>\n",
       "      <td>[1, 1]</td>\n",
       "      <td>[10, 20]</td>\n",
       "      <td>1</td>\n",
       "      <td>20</td>\n",
       "      <td>1</td>\n",
       "      <td>15.0</td>\n",
       "      <td>[1, 0, 0, 0, 0]</td>\n",
       "      <td>[1, 0, 0, 0, 0]</td>\n",
       "      <td>[1.0, 0.0, 0.0, 0.0, 0.0]</td>\n",
       "    </tr>\n",
       "    <tr>\n",
       "      <th>5</th>\n",
       "      <td>F</td>\n",
       "      <td>[2, 2, 2]</td>\n",
       "      <td>[30, 40, 50]</td>\n",
       "      <td>2</td>\n",
       "      <td>50</td>\n",
       "      <td>2</td>\n",
       "      <td>40.0</td>\n",
       "      <td>[0, 1, 0, 0, 0]</td>\n",
       "      <td>[0, 1, 0, 0, 0]</td>\n",
       "      <td>[0.0, 1.0, 0.0, 0.0, 0.0]</td>\n",
       "    </tr>\n",
       "    <tr>\n",
       "      <th>6</th>\n",
       "      <td>G</td>\n",
       "      <td>[1, 1, 2, 3]</td>\n",
       "      <td>[60, 70, 65, 60]</td>\n",
       "      <td>1</td>\n",
       "      <td>70</td>\n",
       "      <td>1</td>\n",
       "      <td>65.0</td>\n",
       "      <td>[1, 0, 0, 0, 0]</td>\n",
       "      <td>[1, 1, 1, 0, 0]</td>\n",
       "      <td>[0.5098039215686274, 0.2549019607843137, 0.235...</td>\n",
       "    </tr>\n",
       "    <tr>\n",
       "      <th>7</th>\n",
       "      <td>H</td>\n",
       "      <td>[3, 3, 2]</td>\n",
       "      <td>[100, 200, 300]</td>\n",
       "      <td>2</td>\n",
       "      <td>300</td>\n",
       "      <td>2</td>\n",
       "      <td>300.0</td>\n",
       "      <td>[0, 1, 0, 0, 0]</td>\n",
       "      <td>[0, 1, 1, 0, 0]</td>\n",
       "      <td>[0.0, 0.5, 0.5, 0.0, 0.0]</td>\n",
       "    </tr>\n",
       "    <tr>\n",
       "      <th>8</th>\n",
       "      <td>I</td>\n",
       "      <td>[4, 4, 4, 4, 5]</td>\n",
       "      <td>[400, 500, 600, 700, 800]</td>\n",
       "      <td>5</td>\n",
       "      <td>800</td>\n",
       "      <td>5</td>\n",
       "      <td>800.0</td>\n",
       "      <td>[0, 0, 0, 0, 1]</td>\n",
       "      <td>[0, 0, 0, 1, 1]</td>\n",
       "      <td>[0.0, 0.0, 0.0, 0.7333333333333333, 0.26666666...</td>\n",
       "    </tr>\n",
       "    <tr>\n",
       "      <th>9</th>\n",
       "      <td>J</td>\n",
       "      <td>[2]</td>\n",
       "      <td>[900]</td>\n",
       "      <td>2</td>\n",
       "      <td>900</td>\n",
       "      <td>2</td>\n",
       "      <td>900.0</td>\n",
       "      <td>[0, 1, 0, 0, 0]</td>\n",
       "      <td>[0, 1, 0, 0, 0]</td>\n",
       "      <td>[0.0, 1.0, 0.0, 0.0, 0.0]</td>\n",
       "    </tr>\n",
       "    <tr>\n",
       "      <th>10</th>\n",
       "      <td>X</td>\n",
       "      <td>[1, 1, 1, 1, 2, 2]</td>\n",
       "      <td>[550, 560, 570, 550, 200, 900]</td>\n",
       "      <td>2</td>\n",
       "      <td>900</td>\n",
       "      <td>1</td>\n",
       "      <td>557.5</td>\n",
       "      <td>[0, 1, 0, 0, 0]</td>\n",
       "      <td>[1, 1, 0, 0, 0]</td>\n",
       "      <td>[0.6696696696696697, 0.3303303303303303, 0.0, ...</td>\n",
       "    </tr>\n",
       "  </tbody>\n",
       "</table>\n",
       "</div>"
      ],
      "text/plain": [
       "   modified_sequence    precursor_charge             precursor_intensity  \\\n",
       "0                  A  [2, 2, 2, 1, 3, 2]        [10, 20, 30, 40, 15, 25]   \n",
       "1                  B     [2, 2, 1, 1, 3]            [50, 60, 70, 80, 90]   \n",
       "2                  C        [1, 1, 2, 2]             [100, 200, 150, 50]   \n",
       "3                  D           [3, 3, 2]                 [300, 500, 400]   \n",
       "4                  E              [1, 1]                        [10, 20]   \n",
       "5                  F           [2, 2, 2]                    [30, 40, 50]   \n",
       "6                  G        [1, 1, 2, 3]                [60, 70, 65, 60]   \n",
       "7                  H           [3, 3, 2]                 [100, 200, 300]   \n",
       "8                  I     [4, 4, 4, 4, 5]       [400, 500, 600, 700, 800]   \n",
       "9                  J                 [2]                           [900]   \n",
       "10                 X  [1, 1, 1, 1, 2, 2]  [550, 560, 570, 550, 200, 900]   \n",
       "\n",
       "   charge_by_max_intensity max_intensity charge_by_avg_intensity  \\\n",
       "0                        1            40                       1   \n",
       "1                        3            90                       3   \n",
       "2                        1           200                       1   \n",
       "3                        3           500                       3   \n",
       "4                        1            20                       1   \n",
       "5                        2            50                       2   \n",
       "6                        1            70                       1   \n",
       "7                        2           300                       2   \n",
       "8                        5           800                       5   \n",
       "9                        2           900                       2   \n",
       "10                       2           900                       1   \n",
       "\n",
       "   avg_intensity one_hot_most_abundant_charge charge_state_vector  \\\n",
       "0           40.0              [1, 0, 0, 0, 0]     [1, 1, 1, 0, 0]   \n",
       "1           90.0              [0, 0, 1, 0, 0]     [1, 1, 1, 0, 0]   \n",
       "2          150.0              [1, 0, 0, 0, 0]     [1, 1, 0, 0, 0]   \n",
       "3          400.0              [0, 0, 1, 0, 0]     [0, 1, 1, 0, 0]   \n",
       "4           15.0              [1, 0, 0, 0, 0]     [1, 0, 0, 0, 0]   \n",
       "5           40.0              [0, 1, 0, 0, 0]     [0, 1, 0, 0, 0]   \n",
       "6           65.0              [1, 0, 0, 0, 0]     [1, 1, 1, 0, 0]   \n",
       "7          300.0              [0, 1, 0, 0, 0]     [0, 1, 1, 0, 0]   \n",
       "8          800.0              [0, 0, 0, 0, 1]     [0, 0, 0, 1, 1]   \n",
       "9          900.0              [0, 1, 0, 0, 0]     [0, 1, 0, 0, 0]   \n",
       "10         557.5              [0, 1, 0, 0, 0]     [1, 1, 0, 0, 0]   \n",
       "\n",
       "                    normalized_intensity_distribution  \n",
       "0   [0.2857142857142857, 0.6071428571428571, 0.107...  \n",
       "1   [0.42857142857142855, 0.3142857142857143, 0.25...  \n",
       "2                           [0.6, 0.4, 0.0, 0.0, 0.0]  \n",
       "3   [0.0, 0.3333333333333333, 0.6666666666666666, ...  \n",
       "4                           [1.0, 0.0, 0.0, 0.0, 0.0]  \n",
       "5                           [0.0, 1.0, 0.0, 0.0, 0.0]  \n",
       "6   [0.5098039215686274, 0.2549019607843137, 0.235...  \n",
       "7                           [0.0, 0.5, 0.5, 0.0, 0.0]  \n",
       "8   [0.0, 0.0, 0.0, 0.7333333333333333, 0.26666666...  \n",
       "9                           [0.0, 1.0, 0.0, 0.0, 0.0]  \n",
       "10  [0.6696696696696697, 0.3303303303303303, 0.0, ...  "
      ]
     },
     "execution_count": 27,
     "metadata": {},
     "output_type": "execute_result"
    }
   ],
   "source": [
    "aggregated_test_data = aggregate_unique_sequences(test_data)\n",
    "aggregated_test_data = select_most_abundant_charge_by_intensity(aggregated_test_data, aggregation='max')\n",
    "aggregated_test_data = select_most_abundant_charge_by_intensity(aggregated_test_data, aggregation='avg')\n",
    "aggregated_test_data = generate_charge_state_encodings(aggregated_test_data, aggregation='max')\n",
    "aggregated_test_data = compute_normalized_intensity_distribution(aggregated_test_data)\n",
    "aggregated_test_data"
   ]
  },
  {
   "cell_type": "code",
   "execution_count": null,
   "metadata": {},
   "outputs": [],
   "source": []
  },
  {
   "cell_type": "markdown",
   "metadata": {},
   "source": [
    "## ---------------------------"
   ]
  },
  {
   "cell_type": "markdown",
   "metadata": {},
   "source": [
    "## Export Dataset"
   ]
  },
  {
   "cell_type": "code",
   "execution_count": null,
   "metadata": {},
   "outputs": [],
   "source": [
    "df.to_parquet(\"dlomix/data/processed_data.parquet\")"
   ]
  }
 ],
 "metadata": {
  "kernelspec": {
   "display_name": "pcp_env",
   "language": "python",
   "name": "python3"
  },
  "language_info": {
   "codemirror_mode": {
    "name": "ipython",
    "version": 3
   },
   "file_extension": ".py",
   "mimetype": "text/x-python",
   "name": "python",
   "nbconvert_exporter": "python",
   "pygments_lexer": "ipython3",
   "version": "3.11.8"
  }
 },
 "nbformat": 4,
 "nbformat_minor": 2
}
